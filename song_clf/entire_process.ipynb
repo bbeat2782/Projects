{
 "cells": [
  {
   "cell_type": "code",
   "execution_count": 1,
   "metadata": {},
   "outputs": [],
   "source": [
    "# For spotify api\n",
    "import spotipy\n",
    "from spotipy.oauth2 import SpotifyOAuth\n",
    "import cred\n",
    "\n",
    "import scipy\n",
    "import time\n",
    "import json\n",
    "import pandas as pd\n",
    "import numpy as np\n",
    "import plotly.express as px\n",
    "import plotly.graph_objects as go\n",
    "from sklearn.model_selection import train_test_split\n",
    "from sklearn.metrics import accuracy_score, confusion_matrix, f1_score\n",
    "from sklearn.metrics.pairwise import cosine_similarity\n",
    "from sklearn.preprocessing import MinMaxScaler, StandardScaler\n",
    "from sklearn.decomposition import PCA\n",
    "from sklearn.linear_model import LogisticRegression\n",
    "from scipy.signal import argrelextrema"
   ]
  },
  {
   "cell_type": "code",
   "execution_count": 8,
   "metadata": {},
   "outputs": [
    {
     "name": "stdout",
     "output_type": "stream",
     "text": [
      "Playlists: Workout / Dislike / Non-Workout\n"
     ]
    }
   ],
   "source": [
    "# Getting manually classified playlists from my Spotify account\n",
    "scope = \"user-read-recently-played\"\n",
    "sp = spotipy.Spotify(auth_manager=SpotifyOAuth(client_id=cred.client_ID, \n",
    "                                               client_secret=cred.client_SECRET, \n",
    "                                               redirect_uri=cred.redirect_URI, \n",
    "                                               scope=scope))\n",
    "results = sp.user_playlists(cred.user_ID)\n",
    "playlist_id = results['items']\n",
    "playlists = {item['id']: item['name'] for item in results['items']}\n",
    "\n",
    "print(\"Playlists:\", \" / \".join(playlists.values()))"
   ]
  },
  {
   "cell_type": "code",
   "execution_count": 3,
   "metadata": {},
   "outputs": [
    {
     "name": "stdout",
     "output_type": "stream",
     "text": [
      "Workout 766\n",
      "Dislike 201\n",
      "Non-Workout 411\n",
      "All tracks are unique: True\n"
     ]
    }
   ],
   "source": [
    "# Getting track info and audio features from Spotify\n",
    "dfs, tracks = [], []\n",
    "for k, v in playlists.items():\n",
    "    # Getting tracks\n",
    "    combined, items, offset = [], [], 0\n",
    "    while len(items) == 0 or len(items) == 100:  # NOTE more robust case check\n",
    "        results = sp.playlist_items(k, offset=offset)\n",
    "        items = results['items']\n",
    "        combined = combined + items\n",
    "        offset += 100\n",
    "    print(v, len(combined))\n",
    "\n",
    "    track_id, track_artist_name, track_title = [], [], []\n",
    "\n",
    "    # Getting track info (artist, title, track_id)\n",
    "    for item in combined:\n",
    "        id = item['track']['id']\n",
    "        artists = item['track']['album']['artists']\n",
    "        artists_name = [artist['name'] for artist in artists][0]\n",
    "\n",
    "        track_id.append(id)\n",
    "        track_artist_name.append(artists_name)\n",
    "        track_title.append(item['track']['name'])\n",
    "\n",
    "    # Getting track audio features\n",
    "    chunk_size = 100  # specifying chunk_size because the api accepts maximum 100 tracks\n",
    "    track_id_sub = [track_id[i:i+chunk_size] for i in range(0, len(track_id), chunk_size)]\n",
    "    track_id_audio_features = []\n",
    "    for sublist in track_id_sub:\n",
    "        track_id_audio_features = track_id_audio_features + sp.audio_features(sublist)\n",
    "\n",
    "    dfs.append(pd.DataFrame(track_id_audio_features))\n",
    "    tracks.append(pd.DataFrame({'id': track_id,\n",
    "                                'artist': track_artist_name, \n",
    "                                'title': track_title}))\n",
    "\n",
    "\n",
    "# Combining songs from different playlists into a single dataframe\n",
    "workout, dislike, nonworkout = dfs[0], dfs[1], dfs[2]\n",
    "dislike['result'], nonworkout['result'], workout['result'] = 0, 1, 2\n",
    "song_df = pd.concat([workout, dislike, nonworkout])\n",
    "song_df = song_df.drop_duplicates()\n",
    "song_metainfo_df = pd.concat([tracks[0], tracks[1], tracks[2]]).drop_duplicates()\n",
    "song_metainfo_df.to_csv('data/song_metainfo.csv', index=False)\n",
    "\n",
    "print(f\"All tracks are unique: {np.all(song_df['id'].value_counts() == 1)}\")"
   ]
  },
  {
   "cell_type": "code",
   "execution_count": 4,
   "metadata": {},
   "outputs": [
    {
     "data": {
      "text/html": [
       "<div>\n",
       "<style scoped>\n",
       "    .dataframe tbody tr th:only-of-type {\n",
       "        vertical-align: middle;\n",
       "    }\n",
       "\n",
       "    .dataframe tbody tr th {\n",
       "        vertical-align: top;\n",
       "    }\n",
       "\n",
       "    .dataframe thead th {\n",
       "        text-align: right;\n",
       "    }\n",
       "</style>\n",
       "<table border=\"1\" class=\"dataframe\">\n",
       "  <thead>\n",
       "    <tr style=\"text-align: right;\">\n",
       "      <th></th>\n",
       "      <th>danceability</th>\n",
       "      <th>energy</th>\n",
       "      <th>key</th>\n",
       "      <th>loudness</th>\n",
       "      <th>mode</th>\n",
       "      <th>speechiness</th>\n",
       "      <th>acousticness</th>\n",
       "      <th>instrumentalness</th>\n",
       "      <th>liveness</th>\n",
       "      <th>valence</th>\n",
       "      <th>tempo</th>\n",
       "      <th>type</th>\n",
       "      <th>id</th>\n",
       "      <th>uri</th>\n",
       "      <th>track_href</th>\n",
       "      <th>analysis_url</th>\n",
       "      <th>duration_ms</th>\n",
       "      <th>time_signature</th>\n",
       "      <th>result</th>\n",
       "    </tr>\n",
       "  </thead>\n",
       "  <tbody>\n",
       "    <tr>\n",
       "      <th>67</th>\n",
       "      <td>0.331</td>\n",
       "      <td>0.530</td>\n",
       "      <td>1</td>\n",
       "      <td>-5.805</td>\n",
       "      <td>1</td>\n",
       "      <td>0.0555</td>\n",
       "      <td>0.49000</td>\n",
       "      <td>0.000000</td>\n",
       "      <td>0.1270</td>\n",
       "      <td>0.217</td>\n",
       "      <td>78.611</td>\n",
       "      <td>audio_features</td>\n",
       "      <td>0kAllljYVZIuntRxyw9KOF</td>\n",
       "      <td>spotify:track:0kAllljYVZIuntRxyw9KOF</td>\n",
       "      <td>https://api.spotify.com/v1/tracks/0kAllljYVZIu...</td>\n",
       "      <td>https://api.spotify.com/v1/audio-analysis/0kAl...</td>\n",
       "      <td>197778</td>\n",
       "      <td>4</td>\n",
       "      <td>1</td>\n",
       "    </tr>\n",
       "    <tr>\n",
       "      <th>35</th>\n",
       "      <td>0.670</td>\n",
       "      <td>0.874</td>\n",
       "      <td>8</td>\n",
       "      <td>-5.221</td>\n",
       "      <td>1</td>\n",
       "      <td>0.0305</td>\n",
       "      <td>0.00231</td>\n",
       "      <td>0.000017</td>\n",
       "      <td>0.3000</td>\n",
       "      <td>0.789</td>\n",
       "      <td>130.041</td>\n",
       "      <td>audio_features</td>\n",
       "      <td>3dPtXHP0oXQ4HCWHsOA9js</td>\n",
       "      <td>spotify:track:3dPtXHP0oXQ4HCWHsOA9js</td>\n",
       "      <td>https://api.spotify.com/v1/tracks/3dPtXHP0oXQ4...</td>\n",
       "      <td>https://api.spotify.com/v1/audio-analysis/3dPt...</td>\n",
       "      <td>261013</td>\n",
       "      <td>4</td>\n",
       "      <td>2</td>\n",
       "    </tr>\n",
       "    <tr>\n",
       "      <th>483</th>\n",
       "      <td>0.670</td>\n",
       "      <td>0.739</td>\n",
       "      <td>10</td>\n",
       "      <td>-4.557</td>\n",
       "      <td>1</td>\n",
       "      <td>0.0323</td>\n",
       "      <td>0.00470</td>\n",
       "      <td>0.000005</td>\n",
       "      <td>0.1050</td>\n",
       "      <td>0.649</td>\n",
       "      <td>96.004</td>\n",
       "      <td>audio_features</td>\n",
       "      <td>0AcSCfVYcXgNgcrZdyZXOh</td>\n",
       "      <td>spotify:track:0AcSCfVYcXgNgcrZdyZXOh</td>\n",
       "      <td>https://api.spotify.com/v1/tracks/0AcSCfVYcXgN...</td>\n",
       "      <td>https://api.spotify.com/v1/audio-analysis/0AcS...</td>\n",
       "      <td>228120</td>\n",
       "      <td>4</td>\n",
       "      <td>2</td>\n",
       "    </tr>\n",
       "    <tr>\n",
       "      <th>765</th>\n",
       "      <td>0.901</td>\n",
       "      <td>0.637</td>\n",
       "      <td>0</td>\n",
       "      <td>-4.453</td>\n",
       "      <td>1</td>\n",
       "      <td>0.2540</td>\n",
       "      <td>0.08020</td>\n",
       "      <td>0.000000</td>\n",
       "      <td>0.0486</td>\n",
       "      <td>0.715</td>\n",
       "      <td>90.958</td>\n",
       "      <td>audio_features</td>\n",
       "      <td>5xTy9p0IXI8lRaU6iLGikC</td>\n",
       "      <td>spotify:track:5xTy9p0IXI8lRaU6iLGikC</td>\n",
       "      <td>https://api.spotify.com/v1/tracks/5xTy9p0IXI8l...</td>\n",
       "      <td>https://api.spotify.com/v1/audio-analysis/5xTy...</td>\n",
       "      <td>165333</td>\n",
       "      <td>4</td>\n",
       "      <td>2</td>\n",
       "    </tr>\n",
       "    <tr>\n",
       "      <th>154</th>\n",
       "      <td>0.626</td>\n",
       "      <td>0.703</td>\n",
       "      <td>11</td>\n",
       "      <td>-5.247</td>\n",
       "      <td>1</td>\n",
       "      <td>0.0306</td>\n",
       "      <td>0.02750</td>\n",
       "      <td>0.000002</td>\n",
       "      <td>0.0903</td>\n",
       "      <td>0.522</td>\n",
       "      <td>92.054</td>\n",
       "      <td>audio_features</td>\n",
       "      <td>4orHVYvdG5v4G4bmp2Lwdg</td>\n",
       "      <td>spotify:track:4orHVYvdG5v4G4bmp2Lwdg</td>\n",
       "      <td>https://api.spotify.com/v1/tracks/4orHVYvdG5v4...</td>\n",
       "      <td>https://api.spotify.com/v1/audio-analysis/4orH...</td>\n",
       "      <td>210373</td>\n",
       "      <td>4</td>\n",
       "      <td>1</td>\n",
       "    </tr>\n",
       "  </tbody>\n",
       "</table>\n",
       "</div>"
      ],
      "text/plain": [
       "     danceability  energy  key  loudness  mode  speechiness  acousticness  \\\n",
       "67          0.331   0.530    1    -5.805     1       0.0555       0.49000   \n",
       "35          0.670   0.874    8    -5.221     1       0.0305       0.00231   \n",
       "483         0.670   0.739   10    -4.557     1       0.0323       0.00470   \n",
       "765         0.901   0.637    0    -4.453     1       0.2540       0.08020   \n",
       "154         0.626   0.703   11    -5.247     1       0.0306       0.02750   \n",
       "\n",
       "     instrumentalness  liveness  valence    tempo            type  \\\n",
       "67           0.000000    0.1270    0.217   78.611  audio_features   \n",
       "35           0.000017    0.3000    0.789  130.041  audio_features   \n",
       "483          0.000005    0.1050    0.649   96.004  audio_features   \n",
       "765          0.000000    0.0486    0.715   90.958  audio_features   \n",
       "154          0.000002    0.0903    0.522   92.054  audio_features   \n",
       "\n",
       "                         id                                   uri  \\\n",
       "67   0kAllljYVZIuntRxyw9KOF  spotify:track:0kAllljYVZIuntRxyw9KOF   \n",
       "35   3dPtXHP0oXQ4HCWHsOA9js  spotify:track:3dPtXHP0oXQ4HCWHsOA9js   \n",
       "483  0AcSCfVYcXgNgcrZdyZXOh  spotify:track:0AcSCfVYcXgNgcrZdyZXOh   \n",
       "765  5xTy9p0IXI8lRaU6iLGikC  spotify:track:5xTy9p0IXI8lRaU6iLGikC   \n",
       "154  4orHVYvdG5v4G4bmp2Lwdg  spotify:track:4orHVYvdG5v4G4bmp2Lwdg   \n",
       "\n",
       "                                            track_href  \\\n",
       "67   https://api.spotify.com/v1/tracks/0kAllljYVZIu...   \n",
       "35   https://api.spotify.com/v1/tracks/3dPtXHP0oXQ4...   \n",
       "483  https://api.spotify.com/v1/tracks/0AcSCfVYcXgN...   \n",
       "765  https://api.spotify.com/v1/tracks/5xTy9p0IXI8l...   \n",
       "154  https://api.spotify.com/v1/tracks/4orHVYvdG5v4...   \n",
       "\n",
       "                                          analysis_url  duration_ms  \\\n",
       "67   https://api.spotify.com/v1/audio-analysis/0kAl...       197778   \n",
       "35   https://api.spotify.com/v1/audio-analysis/3dPt...       261013   \n",
       "483  https://api.spotify.com/v1/audio-analysis/0AcS...       228120   \n",
       "765  https://api.spotify.com/v1/audio-analysis/5xTy...       165333   \n",
       "154  https://api.spotify.com/v1/audio-analysis/4orH...       210373   \n",
       "\n",
       "     time_signature  result  \n",
       "67                4       1  \n",
       "35                4       2  \n",
       "483               4       2  \n",
       "765               4       2  \n",
       "154               4       1  "
      ]
     },
     "execution_count": 4,
     "metadata": {},
     "output_type": "execute_result"
    }
   ],
   "source": [
    "song_df.sample(5)"
   ]
  },
  {
   "attachments": {},
   "cell_type": "markdown",
   "metadata": {},
   "source": [
    "## EDA"
   ]
  },
  {
   "cell_type": "code",
   "execution_count": 9,
   "metadata": {},
   "outputs": [],
   "source": [
    "# For visualization purpose, \n",
    "# mapping each 2, 1, and 0 into Workout, Nonworkout, and Dislike\n",
    "song_df['result'] = song_df['result'].replace({2: 'Workout',\n",
    "                                               1: 'Nonworkout',\n",
    "                                               0: 'Dislike'})"
   ]
  },
  {
   "cell_type": "code",
   "execution_count": 6,
   "metadata": {},
   "outputs": [
    {
     "data": {
      "application/vnd.plotly.v1+json": {
       "config": {
        "plotlyServerURL": "https://plot.ly"
       },
       "data": [
        {
         "alignmentgroup": "True",
         "hovertemplate": "Num of songs in %{x}: %{y}",
         "legendgroup": "count",
         "marker": {
          "color": "#636efa",
          "pattern": {
           "shape": ""
          }
         },
         "name": "count",
         "offsetgroup": "count",
         "orientation": "v",
         "showlegend": true,
         "textposition": "auto",
         "type": "bar",
         "x": [
          "Workout",
          "Nonworkout",
          "Dislike"
         ],
         "xaxis": "x",
         "y": [
          726,
          400,
          199
         ],
         "yaxis": "y"
        }
       ],
       "layout": {
        "barmode": "relative",
        "legend": {
         "title": {
          "text": "variable"
         },
         "tracegroupgap": 0
        },
        "showlegend": false,
        "template": {
         "data": {
          "bar": [
           {
            "error_x": {
             "color": "#2a3f5f"
            },
            "error_y": {
             "color": "#2a3f5f"
            },
            "marker": {
             "line": {
              "color": "#E5ECF6",
              "width": 0.5
             },
             "pattern": {
              "fillmode": "overlay",
              "size": 10,
              "solidity": 0.2
             }
            },
            "type": "bar"
           }
          ],
          "barpolar": [
           {
            "marker": {
             "line": {
              "color": "#E5ECF6",
              "width": 0.5
             },
             "pattern": {
              "fillmode": "overlay",
              "size": 10,
              "solidity": 0.2
             }
            },
            "type": "barpolar"
           }
          ],
          "carpet": [
           {
            "aaxis": {
             "endlinecolor": "#2a3f5f",
             "gridcolor": "white",
             "linecolor": "white",
             "minorgridcolor": "white",
             "startlinecolor": "#2a3f5f"
            },
            "baxis": {
             "endlinecolor": "#2a3f5f",
             "gridcolor": "white",
             "linecolor": "white",
             "minorgridcolor": "white",
             "startlinecolor": "#2a3f5f"
            },
            "type": "carpet"
           }
          ],
          "choropleth": [
           {
            "colorbar": {
             "outlinewidth": 0,
             "ticks": ""
            },
            "type": "choropleth"
           }
          ],
          "contour": [
           {
            "colorbar": {
             "outlinewidth": 0,
             "ticks": ""
            },
            "colorscale": [
             [
              0,
              "#0d0887"
             ],
             [
              0.1111111111111111,
              "#46039f"
             ],
             [
              0.2222222222222222,
              "#7201a8"
             ],
             [
              0.3333333333333333,
              "#9c179e"
             ],
             [
              0.4444444444444444,
              "#bd3786"
             ],
             [
              0.5555555555555556,
              "#d8576b"
             ],
             [
              0.6666666666666666,
              "#ed7953"
             ],
             [
              0.7777777777777778,
              "#fb9f3a"
             ],
             [
              0.8888888888888888,
              "#fdca26"
             ],
             [
              1,
              "#f0f921"
             ]
            ],
            "type": "contour"
           }
          ],
          "contourcarpet": [
           {
            "colorbar": {
             "outlinewidth": 0,
             "ticks": ""
            },
            "type": "contourcarpet"
           }
          ],
          "heatmap": [
           {
            "colorbar": {
             "outlinewidth": 0,
             "ticks": ""
            },
            "colorscale": [
             [
              0,
              "#0d0887"
             ],
             [
              0.1111111111111111,
              "#46039f"
             ],
             [
              0.2222222222222222,
              "#7201a8"
             ],
             [
              0.3333333333333333,
              "#9c179e"
             ],
             [
              0.4444444444444444,
              "#bd3786"
             ],
             [
              0.5555555555555556,
              "#d8576b"
             ],
             [
              0.6666666666666666,
              "#ed7953"
             ],
             [
              0.7777777777777778,
              "#fb9f3a"
             ],
             [
              0.8888888888888888,
              "#fdca26"
             ],
             [
              1,
              "#f0f921"
             ]
            ],
            "type": "heatmap"
           }
          ],
          "heatmapgl": [
           {
            "colorbar": {
             "outlinewidth": 0,
             "ticks": ""
            },
            "colorscale": [
             [
              0,
              "#0d0887"
             ],
             [
              0.1111111111111111,
              "#46039f"
             ],
             [
              0.2222222222222222,
              "#7201a8"
             ],
             [
              0.3333333333333333,
              "#9c179e"
             ],
             [
              0.4444444444444444,
              "#bd3786"
             ],
             [
              0.5555555555555556,
              "#d8576b"
             ],
             [
              0.6666666666666666,
              "#ed7953"
             ],
             [
              0.7777777777777778,
              "#fb9f3a"
             ],
             [
              0.8888888888888888,
              "#fdca26"
             ],
             [
              1,
              "#f0f921"
             ]
            ],
            "type": "heatmapgl"
           }
          ],
          "histogram": [
           {
            "marker": {
             "pattern": {
              "fillmode": "overlay",
              "size": 10,
              "solidity": 0.2
             }
            },
            "type": "histogram"
           }
          ],
          "histogram2d": [
           {
            "colorbar": {
             "outlinewidth": 0,
             "ticks": ""
            },
            "colorscale": [
             [
              0,
              "#0d0887"
             ],
             [
              0.1111111111111111,
              "#46039f"
             ],
             [
              0.2222222222222222,
              "#7201a8"
             ],
             [
              0.3333333333333333,
              "#9c179e"
             ],
             [
              0.4444444444444444,
              "#bd3786"
             ],
             [
              0.5555555555555556,
              "#d8576b"
             ],
             [
              0.6666666666666666,
              "#ed7953"
             ],
             [
              0.7777777777777778,
              "#fb9f3a"
             ],
             [
              0.8888888888888888,
              "#fdca26"
             ],
             [
              1,
              "#f0f921"
             ]
            ],
            "type": "histogram2d"
           }
          ],
          "histogram2dcontour": [
           {
            "colorbar": {
             "outlinewidth": 0,
             "ticks": ""
            },
            "colorscale": [
             [
              0,
              "#0d0887"
             ],
             [
              0.1111111111111111,
              "#46039f"
             ],
             [
              0.2222222222222222,
              "#7201a8"
             ],
             [
              0.3333333333333333,
              "#9c179e"
             ],
             [
              0.4444444444444444,
              "#bd3786"
             ],
             [
              0.5555555555555556,
              "#d8576b"
             ],
             [
              0.6666666666666666,
              "#ed7953"
             ],
             [
              0.7777777777777778,
              "#fb9f3a"
             ],
             [
              0.8888888888888888,
              "#fdca26"
             ],
             [
              1,
              "#f0f921"
             ]
            ],
            "type": "histogram2dcontour"
           }
          ],
          "mesh3d": [
           {
            "colorbar": {
             "outlinewidth": 0,
             "ticks": ""
            },
            "type": "mesh3d"
           }
          ],
          "parcoords": [
           {
            "line": {
             "colorbar": {
              "outlinewidth": 0,
              "ticks": ""
             }
            },
            "type": "parcoords"
           }
          ],
          "pie": [
           {
            "automargin": true,
            "type": "pie"
           }
          ],
          "scatter": [
           {
            "fillpattern": {
             "fillmode": "overlay",
             "size": 10,
             "solidity": 0.2
            },
            "type": "scatter"
           }
          ],
          "scatter3d": [
           {
            "line": {
             "colorbar": {
              "outlinewidth": 0,
              "ticks": ""
             }
            },
            "marker": {
             "colorbar": {
              "outlinewidth": 0,
              "ticks": ""
             }
            },
            "type": "scatter3d"
           }
          ],
          "scattercarpet": [
           {
            "marker": {
             "colorbar": {
              "outlinewidth": 0,
              "ticks": ""
             }
            },
            "type": "scattercarpet"
           }
          ],
          "scattergeo": [
           {
            "marker": {
             "colorbar": {
              "outlinewidth": 0,
              "ticks": ""
             }
            },
            "type": "scattergeo"
           }
          ],
          "scattergl": [
           {
            "marker": {
             "colorbar": {
              "outlinewidth": 0,
              "ticks": ""
             }
            },
            "type": "scattergl"
           }
          ],
          "scattermapbox": [
           {
            "marker": {
             "colorbar": {
              "outlinewidth": 0,
              "ticks": ""
             }
            },
            "type": "scattermapbox"
           }
          ],
          "scatterpolar": [
           {
            "marker": {
             "colorbar": {
              "outlinewidth": 0,
              "ticks": ""
             }
            },
            "type": "scatterpolar"
           }
          ],
          "scatterpolargl": [
           {
            "marker": {
             "colorbar": {
              "outlinewidth": 0,
              "ticks": ""
             }
            },
            "type": "scatterpolargl"
           }
          ],
          "scatterternary": [
           {
            "marker": {
             "colorbar": {
              "outlinewidth": 0,
              "ticks": ""
             }
            },
            "type": "scatterternary"
           }
          ],
          "surface": [
           {
            "colorbar": {
             "outlinewidth": 0,
             "ticks": ""
            },
            "colorscale": [
             [
              0,
              "#0d0887"
             ],
             [
              0.1111111111111111,
              "#46039f"
             ],
             [
              0.2222222222222222,
              "#7201a8"
             ],
             [
              0.3333333333333333,
              "#9c179e"
             ],
             [
              0.4444444444444444,
              "#bd3786"
             ],
             [
              0.5555555555555556,
              "#d8576b"
             ],
             [
              0.6666666666666666,
              "#ed7953"
             ],
             [
              0.7777777777777778,
              "#fb9f3a"
             ],
             [
              0.8888888888888888,
              "#fdca26"
             ],
             [
              1,
              "#f0f921"
             ]
            ],
            "type": "surface"
           }
          ],
          "table": [
           {
            "cells": {
             "fill": {
              "color": "#EBF0F8"
             },
             "line": {
              "color": "white"
             }
            },
            "header": {
             "fill": {
              "color": "#C8D4E3"
             },
             "line": {
              "color": "white"
             }
            },
            "type": "table"
           }
          ]
         },
         "layout": {
          "annotationdefaults": {
           "arrowcolor": "#2a3f5f",
           "arrowhead": 0,
           "arrowwidth": 1
          },
          "autotypenumbers": "strict",
          "coloraxis": {
           "colorbar": {
            "outlinewidth": 0,
            "ticks": ""
           }
          },
          "colorscale": {
           "diverging": [
            [
             0,
             "#8e0152"
            ],
            [
             0.1,
             "#c51b7d"
            ],
            [
             0.2,
             "#de77ae"
            ],
            [
             0.3,
             "#f1b6da"
            ],
            [
             0.4,
             "#fde0ef"
            ],
            [
             0.5,
             "#f7f7f7"
            ],
            [
             0.6,
             "#e6f5d0"
            ],
            [
             0.7,
             "#b8e186"
            ],
            [
             0.8,
             "#7fbc41"
            ],
            [
             0.9,
             "#4d9221"
            ],
            [
             1,
             "#276419"
            ]
           ],
           "sequential": [
            [
             0,
             "#0d0887"
            ],
            [
             0.1111111111111111,
             "#46039f"
            ],
            [
             0.2222222222222222,
             "#7201a8"
            ],
            [
             0.3333333333333333,
             "#9c179e"
            ],
            [
             0.4444444444444444,
             "#bd3786"
            ],
            [
             0.5555555555555556,
             "#d8576b"
            ],
            [
             0.6666666666666666,
             "#ed7953"
            ],
            [
             0.7777777777777778,
             "#fb9f3a"
            ],
            [
             0.8888888888888888,
             "#fdca26"
            ],
            [
             1,
             "#f0f921"
            ]
           ],
           "sequentialminus": [
            [
             0,
             "#0d0887"
            ],
            [
             0.1111111111111111,
             "#46039f"
            ],
            [
             0.2222222222222222,
             "#7201a8"
            ],
            [
             0.3333333333333333,
             "#9c179e"
            ],
            [
             0.4444444444444444,
             "#bd3786"
            ],
            [
             0.5555555555555556,
             "#d8576b"
            ],
            [
             0.6666666666666666,
             "#ed7953"
            ],
            [
             0.7777777777777778,
             "#fb9f3a"
            ],
            [
             0.8888888888888888,
             "#fdca26"
            ],
            [
             1,
             "#f0f921"
            ]
           ]
          },
          "colorway": [
           "#636efa",
           "#EF553B",
           "#00cc96",
           "#ab63fa",
           "#FFA15A",
           "#19d3f3",
           "#FF6692",
           "#B6E880",
           "#FF97FF",
           "#FECB52"
          ],
          "font": {
           "color": "#2a3f5f"
          },
          "geo": {
           "bgcolor": "white",
           "lakecolor": "white",
           "landcolor": "#E5ECF6",
           "showlakes": true,
           "showland": true,
           "subunitcolor": "white"
          },
          "hoverlabel": {
           "align": "left"
          },
          "hovermode": "closest",
          "mapbox": {
           "style": "light"
          },
          "paper_bgcolor": "white",
          "plot_bgcolor": "#E5ECF6",
          "polar": {
           "angularaxis": {
            "gridcolor": "white",
            "linecolor": "white",
            "ticks": ""
           },
           "bgcolor": "#E5ECF6",
           "radialaxis": {
            "gridcolor": "white",
            "linecolor": "white",
            "ticks": ""
           }
          },
          "scene": {
           "xaxis": {
            "backgroundcolor": "#E5ECF6",
            "gridcolor": "white",
            "gridwidth": 2,
            "linecolor": "white",
            "showbackground": true,
            "ticks": "",
            "zerolinecolor": "white"
           },
           "yaxis": {
            "backgroundcolor": "#E5ECF6",
            "gridcolor": "white",
            "gridwidth": 2,
            "linecolor": "white",
            "showbackground": true,
            "ticks": "",
            "zerolinecolor": "white"
           },
           "zaxis": {
            "backgroundcolor": "#E5ECF6",
            "gridcolor": "white",
            "gridwidth": 2,
            "linecolor": "white",
            "showbackground": true,
            "ticks": "",
            "zerolinecolor": "white"
           }
          },
          "shapedefaults": {
           "line": {
            "color": "#2a3f5f"
           }
          },
          "ternary": {
           "aaxis": {
            "gridcolor": "white",
            "linecolor": "white",
            "ticks": ""
           },
           "baxis": {
            "gridcolor": "white",
            "linecolor": "white",
            "ticks": ""
           },
           "bgcolor": "#E5ECF6",
           "caxis": {
            "gridcolor": "white",
            "linecolor": "white",
            "ticks": ""
           }
          },
          "title": {
           "x": 0.05
          },
          "xaxis": {
           "automargin": true,
           "gridcolor": "white",
           "linecolor": "white",
           "ticks": "",
           "title": {
            "standoff": 15
           },
           "zerolinecolor": "white",
           "zerolinewidth": 2
          },
          "yaxis": {
           "automargin": true,
           "gridcolor": "white",
           "linecolor": "white",
           "ticks": "",
           "title": {
            "standoff": 15
           },
           "zerolinecolor": "white",
           "zerolinewidth": 2
          }
         }
        },
        "title": {
         "text": "Imbalanced target class distribution"
        },
        "xaxis": {
         "anchor": "y",
         "domain": [
          0,
          1
         ],
         "title": {
          "text": "result"
         }
        },
        "yaxis": {
         "anchor": "x",
         "domain": [
          0,
          1
         ],
         "title": {
          "text": "value"
         }
        }
       }
      }
     },
     "metadata": {},
     "output_type": "display_data"
    }
   ],
   "source": [
    "fig = px.bar(song_df['result'].value_counts(), title='Imbalanced target class distribution')\n",
    "fig.update_layout(showlegend=False)\n",
    "fig.update_traces(hovertemplate='Num of songs in %{x}: %{y}')\n",
    "fig.show()\n",
    "fig.write_html(\"assets/imbalanced_target_distribution.html\")"
   ]
  },
  {
   "cell_type": "code",
   "execution_count": 7,
   "metadata": {},
   "outputs": [
    {
     "data": {
      "application/vnd.plotly.v1+json": {
       "config": {
        "plotlyServerURL": "https://plot.ly"
       },
       "data": [
        {
         "alignmentgroup": "True",
         "bingroup": "x",
         "hovertemplate": "result=Workout<br>energy=%{x}<br>count=%{y}<extra></extra>",
         "legendgroup": "Workout",
         "marker": {
          "color": "#636efa",
          "opacity": 0.6,
          "pattern": {
           "shape": ""
          }
         },
         "name": "Workout",
         "offsetgroup": "Workout",
         "orientation": "v",
         "showlegend": true,
         "type": "histogram",
         "x": [
          0.87,
          0.788,
          0.768,
          0.862,
          0.91,
          0.852,
          0.709,
          0.922,
          0.648,
          0.523,
          0.565,
          0.508,
          0.592,
          0.826,
          0.502,
          0.796,
          0.632,
          0.666,
          0.673,
          0.607,
          0.475,
          0.912,
          0.986,
          0.702,
          0.542,
          0.834,
          0.916,
          0.636,
          0.729,
          0.799,
          0.68,
          0.464,
          0.907,
          0.479,
          0.869,
          0.874,
          0.815,
          0.891,
          0.8,
          0.87,
          0.797,
          0.849,
          0.5,
          0.512,
          0.698,
          0.624,
          0.897,
          0.485,
          0.621,
          0.736,
          0.835,
          0.692,
          0.93,
          0.895,
          0.804,
          0.8,
          0.585,
          0.595,
          0.834,
          0.886,
          0.631,
          0.778,
          0.883,
          0.585,
          0.695,
          0.895,
          0.907,
          0.834,
          0.822,
          0.838,
          0.712,
          0.876,
          0.828,
          0.876,
          0.698,
          0.84,
          0.799,
          0.885,
          0.785,
          0.845,
          0.519,
          0.742,
          0.466,
          0.464,
          0.713,
          0.768,
          0.454,
          0.719,
          0.621,
          0.415,
          0.596,
          0.812,
          0.661,
          0.509,
          0.587,
          0.965,
          0.522,
          0.678,
          0.698,
          0.815,
          0.709,
          0.655,
          0.712,
          0.821,
          0.48,
          0.52,
          0.696,
          0.849,
          0.683,
          0.49,
          0.672,
          0.575,
          0.743,
          0.665,
          0.578,
          0.621,
          0.514,
          0.684,
          0.868,
          0.647,
          0.537,
          0.536,
          0.63,
          0.422,
          0.414,
          0.448,
          0.66,
          0.57,
          0.731,
          0.681,
          0.914,
          0.863,
          0.611,
          0.457,
          0.748,
          0.577,
          0.715,
          0.641,
          0.886,
          0.388,
          0.691,
          0.531,
          0.634,
          0.528,
          0.666,
          0.619,
          0.625,
          0.722,
          0.462,
          0.623,
          0.935,
          0.708,
          0.896,
          0.901,
          0.871,
          0.822,
          0.89,
          0.942,
          0.899,
          0.843,
          0.816,
          0.753,
          0.776,
          0.624,
          0.588,
          0.845,
          0.922,
          0.864,
          0.568,
          0.741,
          0.82,
          0.585,
          0.428,
          0.573,
          0.622,
          0.433,
          0.683,
          0.826,
          0.831,
          0.605,
          0.842,
          0.798,
          0.707,
          0.73,
          0.609,
          0.685,
          0.746,
          0.802,
          0.726,
          0.683,
          0.92,
          0.391,
          0.92,
          0.767,
          0.517,
          0.8,
          0.66,
          0.701,
          0.517,
          0.678,
          0.745,
          0.794,
          0.749,
          0.753,
          0.628,
          0.737,
          0.635,
          0.706,
          0.666,
          0.608,
          0.831,
          0.732,
          0.761,
          0.529,
          0.567,
          0.545,
          0.486,
          0.528,
          0.6,
          0.72,
          0.903,
          0.615,
          0.579,
          0.965,
          0.58,
          0.902,
          0.757,
          0.684,
          0.945,
          0.733,
          0.665,
          0.875,
          0.898,
          0.55,
          0.772,
          0.794,
          0.584,
          0.787,
          0.748,
          0.562,
          0.927,
          0.745,
          0.852,
          0.764,
          0.9,
          0.728,
          0.7,
          0.927,
          0.437,
          0.893,
          0.669,
          0.843,
          0.4,
          0.606,
          0.664,
          0.53,
          0.357,
          0.592,
          0.878,
          0.617,
          0.625,
          0.54,
          0.661,
          0.768,
          0.68,
          0.755,
          0.668,
          0.709,
          0.81,
          0.786,
          0.604,
          0.824,
          0.893,
          0.903,
          0.927,
          0.791,
          0.475,
          0.47,
          0.792,
          0.718,
          0.868,
          0.769,
          0.808,
          0.814,
          0.715,
          0.762,
          0.914,
          0.823,
          0.535,
          0.94,
          0.865,
          0.683,
          0.92,
          0.779,
          0.765,
          0.831,
          0.765,
          0.666,
          0.869,
          0.595,
          0.626,
          0.588,
          0.841,
          0.864,
          0.857,
          0.762,
          0.915,
          0.905,
          0.884,
          0.91,
          0.56,
          0.704,
          0.539,
          0.812,
          0.525,
          0.541,
          0.678,
          0.83,
          0.877,
          0.758,
          0.672,
          0.402,
          0.846,
          0.626,
          0.684,
          0.699,
          0.714,
          0.876,
          0.611,
          0.856,
          0.6,
          0.886,
          0.677,
          0.943,
          0.817,
          0.771,
          0.648,
          0.911,
          0.848,
          0.758,
          0.543,
          0.602,
          0.824,
          0.903,
          0.899,
          0.98,
          0.577,
          0.71,
          0.874,
          0.785,
          0.657,
          0.694,
          0.736,
          0.679,
          0.657,
          0.289,
          0.527,
          0.645,
          0.66,
          0.798,
          0.832,
          0.84,
          0.72,
          0.718,
          0.92,
          0.94,
          0.728,
          0.725,
          0.744,
          0.585,
          0.567,
          0.917,
          0.706,
          0.707,
          0.699,
          0.648,
          0.701,
          0.456,
          0.571,
          0.949,
          0.624,
          0.7,
          0.592,
          0.721,
          0.934,
          0.774,
          0.613,
          0.853,
          0.47,
          0.731,
          0.463,
          0.799,
          0.897,
          0.972,
          0.705,
          0.743,
          0.762,
          0.893,
          0.776,
          0.659,
          0.75,
          0.835,
          0.792,
          0.91,
          0.779,
          0.694,
          0.451,
          0.613,
          0.611,
          0.857,
          0.838,
          0.783,
          0.635,
          0.675,
          0.79,
          0.75,
          0.827,
          0.677,
          0.844,
          0.669,
          0.555,
          0.747,
          0.578,
          0.706,
          0.771,
          0.904,
          0.678,
          0.671,
          0.884,
          0.859,
          0.76,
          0.749,
          0.637,
          0.581,
          0.868,
          0.562,
          0.933,
          0.503,
          0.895,
          0.665,
          0.485,
          0.889,
          0.677,
          0.534,
          0.622,
          0.867,
          0.856,
          0.637,
          0.907,
          0.82,
          0.649,
          0.76,
          0.584,
          0.601,
          0.623,
          0.864,
          0.95,
          0.739,
          0.998,
          0.77,
          0.899,
          0.827,
          0.675,
          0.836,
          0.653,
          0.905,
          0.657,
          0.736,
          0.588,
          0.696,
          0.721,
          0.784,
          0.674,
          0.795,
          0.402,
          0.864,
          0.452,
          0.445,
          0.689,
          0.69,
          0.854,
          0.858,
          0.515,
          0.473,
          0.37,
          0.273,
          0.716,
          0.763,
          0.927,
          0.509,
          0.732,
          0.242,
          0.639,
          0.917,
          0.462,
          0.661,
          0.607,
          0.68,
          0.863,
          0.698,
          0.867,
          0.933,
          0.546,
          0.65,
          0.48,
          0.643,
          0.81,
          0.609,
          0.529,
          0.704,
          0.691,
          0.902,
          0.661,
          0.526,
          0.546,
          0.601,
          0.56,
          0.519,
          0.694,
          0.602,
          0.823,
          0.425,
          0.535,
          0.762,
          0.711,
          0.692,
          0.698,
          0.743,
          0.441,
          0.805,
          0.596,
          0.616,
          0.732,
          0.791,
          0.879,
          0.686,
          0.697,
          0.556,
          0.761,
          0.836,
          0.835,
          0.828,
          0.852,
          0.756,
          0.707,
          0.949,
          0.639,
          0.718,
          0.931,
          0.785,
          0.679,
          0.757,
          0.583,
          0.544,
          0.705,
          0.706,
          0.608,
          0.675,
          0.597,
          0.591,
          0.892,
          0.408,
          0.743,
          0.433,
          0.733,
          0.687,
          0.711,
          0.633,
          0.64,
          0.729,
          0.662,
          0.642,
          0.723,
          0.881,
          0.898,
          0.64,
          0.926,
          0.787,
          0.702,
          0.768,
          0.588,
          0.607,
          0.662,
          0.721,
          0.565,
          0.752,
          0.681,
          0.864,
          0.751,
          0.768,
          0.517,
          0.637,
          0.679,
          0.662,
          0.784,
          0.828,
          0.89,
          0.674,
          0.674,
          0.75,
          0.588,
          0.699,
          0.495,
          0.652,
          0.846,
          0.734,
          0.907,
          0.708,
          0.539,
          0.677,
          0.547,
          0.812,
          0.571,
          0.651,
          0.747,
          0.889,
          0.919,
          0.69,
          0.931,
          0.585,
          0.74,
          0.625,
          0.62,
          0.525,
          0.609,
          0.676,
          0.448,
          0.701,
          0.618,
          0.82,
          0.597,
          0.67,
          0.615,
          0.65,
          0.792,
          0.666,
          0.884,
          0.658,
          0.81,
          0.53,
          0.671,
          0.965,
          0.933,
          0.843,
          0.62,
          0.859,
          0.78,
          0.904,
          0.822,
          0.645,
          0.795,
          0.431,
          0.447,
          0.589,
          0.366,
          0.386,
          0.375,
          0.433,
          0.91,
          0.65,
          0.693,
          0.455,
          0.494,
          0.556,
          0.729,
          0.684,
          0.949,
          0.929,
          0.746,
          0.756,
          0.719,
          0.852,
          0.815,
          0.897,
          0.617,
          0.682,
          0.851,
          0.81,
          0.896,
          0.717,
          0.382,
          0.531,
          0.853,
          0.964,
          0.682,
          0.517,
          0.571,
          0.524,
          0.812,
          0.769,
          0.872,
          0.697,
          0.887,
          0.628,
          0.804,
          0.863,
          0.953,
          0.889,
          0.706,
          0.642,
          0.505,
          0.608,
          0.858,
          0.69,
          0.83,
          0.645,
          0.547,
          0.747,
          0.656,
          0.868,
          0.678,
          0.759,
          0.557,
          0.901,
          0.769,
          0.689,
          0.802,
          0.831,
          0.716,
          0.695,
          0.589,
          0.841,
          0.273,
          0.442,
          0.451,
          0.637
         ],
         "xaxis": "x",
         "yaxis": "y"
        },
        {
         "alignmentgroup": "True",
         "bingroup": "x",
         "hovertemplate": "result=Dislike<br>energy=%{x}<br>count=%{y}<extra></extra>",
         "legendgroup": "Dislike",
         "marker": {
          "color": "#EF553B",
          "opacity": 0.6,
          "pattern": {
           "shape": ""
          }
         },
         "name": "Dislike",
         "offsetgroup": "Dislike",
         "orientation": "v",
         "showlegend": true,
         "type": "histogram",
         "x": [
          0.677,
          0.636,
          0.705,
          0.612,
          0.761,
          0.861,
          0.841,
          0.934,
          0.459,
          0.726,
          0.8,
          0.81,
          0.638,
          0.678,
          0.691,
          0.645,
          0.547,
          0.574,
          0.808,
          0.807,
          0.818,
          0.0496,
          0.741,
          0.828,
          0.91,
          0.88,
          0.404,
          0.424,
          0.66,
          0.898,
          0.8,
          0.759,
          0.744,
          0.249,
          0.691,
          0.591,
          0.504,
          0.514,
          0.468,
          0.45,
          0.863,
          0.538,
          0.679,
          0.323,
          0.932,
          0.563,
          0.389,
          0.522,
          0.825,
          0.394,
          0.851,
          0.264,
          0.376,
          0.633,
          0.64,
          0.463,
          0.606,
          0.858,
          0.914,
          0.875,
          0.708,
          0.664,
          0.673,
          0.596,
          0.695,
          0.534,
          0.586,
          0.724,
          0.849,
          0.782,
          0.631,
          0.74,
          0.558,
          0.67,
          0.525,
          0.509,
          0.254,
          0.86,
          0.806,
          0.563,
          0.404,
          0.527,
          0.381,
          0.401,
          0.243,
          0.381,
          0.132,
          0.306,
          0.478,
          0.646,
          0.547,
          0.597,
          0.383,
          0.464,
          0.26,
          0.505,
          0.489,
          0.24,
          0.808,
          0.64,
          0.933,
          0.551,
          0.909,
          0.868,
          0.67,
          0.593,
          0.737,
          0.27,
          0.725,
          0.65,
          0.749,
          0.486,
          0.526,
          0.721,
          0.638,
          0.446,
          0.653,
          0.382,
          0.252,
          0.793,
          0.471,
          0.397,
          0.442,
          0.889,
          0.666,
          0.476,
          0.832,
          0.853,
          0.945,
          0.294,
          0.582,
          0.113,
          0.416,
          0.519,
          0.375,
          0.501,
          0.591,
          0.841,
          0.892,
          0.477,
          0.855,
          0.516,
          0.701,
          0.752,
          0.928,
          0.319,
          0.779,
          0.79,
          0.549,
          0.274,
          0.562,
          0.631,
          0.64,
          0.462,
          0.972,
          0.845,
          0.242,
          0.268,
          0.364,
          0.581,
          0.294,
          0.558,
          0.661,
          0.708,
          0.653,
          0.81,
          0.848,
          0.467,
          0.684,
          0.429,
          0.622,
          0.512,
          0.759,
          0.641,
          0.985,
          0.588,
          0.642,
          0.759,
          0.938,
          0.797,
          0.387,
          0.456,
          0.802,
          0.539,
          0.5,
          0.489,
          0.462,
          0.465,
          0.496,
          0.471,
          0.482,
          0.366,
          0.396,
          0.505,
          0.338,
          0.719,
          0.74,
          0.608,
          0.688
         ],
         "xaxis": "x",
         "yaxis": "y"
        },
        {
         "alignmentgroup": "True",
         "bingroup": "x",
         "hovertemplate": "result=Nonworkout<br>energy=%{x}<br>count=%{y}<extra></extra>",
         "legendgroup": "Nonworkout",
         "marker": {
          "color": "#00cc96",
          "opacity": 0.6,
          "pattern": {
           "shape": ""
          }
         },
         "name": "Nonworkout",
         "offsetgroup": "Nonworkout",
         "orientation": "v",
         "showlegend": true,
         "type": "histogram",
         "x": [
          0.43,
          0.454,
          0.371,
          0.583,
          0.265,
          0.504,
          0.326,
          0.633,
          0.423,
          0.432,
          0.745,
          0.463,
          0.28,
          0.88,
          0.595,
          0.844,
          0.559,
          0.661,
          0.793,
          0.616,
          0.455,
          0.224,
          0.225,
          0.608,
          0.432,
          0.424,
          0.596,
          0.586,
          0.521,
          0.174,
          0.285,
          0.682,
          0.406,
          0.228,
          0.588,
          0.432,
          0.387,
          0.732,
          0.319,
          0.486,
          0.632,
          0.486,
          0.445,
          0.626,
          0.518,
          0.393,
          0.437,
          0.553,
          0.367,
          0.412,
          0.616,
          0.43,
          0.708,
          0.698,
          0.684,
          0.573,
          0.682,
          0.579,
          0.373,
          0.55,
          0.597,
          0.554,
          0.554,
          0.213,
          0.5,
          0.613,
          0.765,
          0.53,
          0.374,
          0.55,
          0.406,
          0.485,
          0.187,
          0.566,
          0.315,
          0.31,
          0.477,
          0.668,
          0.845,
          0.575,
          0.499,
          0.553,
          0.654,
          0.422,
          0.533,
          0.774,
          0.448,
          0.379,
          0.393,
          0.431,
          0.316,
          0.105,
          0.638,
          0.508,
          0.555,
          0.286,
          0.128,
          0.431,
          0.257,
          0.641,
          0.389,
          0.321,
          0.363,
          0.53,
          0.452,
          0.47,
          0.463,
          0.29,
          0.28,
          0.584,
          0.242,
          0.409,
          0.304,
          0.478,
          0.235,
          0.551,
          0.355,
          0.221,
          0.472,
          0.398,
          0.258,
          0.116,
          0.373,
          0.47,
          0.142,
          0.19,
          0.348,
          0.429,
          0.787,
          0.8,
          0.747,
          0.298,
          0.419,
          0.413,
          0.464,
          0.26,
          0.493,
          0.542,
          0.59,
          0.323,
          0.427,
          0.632,
          0.325,
          0.569,
          0.327,
          0.414,
          0.435,
          0.655,
          0.517,
          0.511,
          0.368,
          0.399,
          0.327,
          0.588,
          0.703,
          0.563,
          0.393,
          0.694,
          0.576,
          0.412,
          0.323,
          0.535,
          0.704,
          0.281,
          0.486,
          0.224,
          0.597,
          0.306,
          0.632,
          0.629,
          0.429,
          0.311,
          0.812,
          0.785,
          0.732,
          0.727,
          0.809,
          0.129,
          0.442,
          0.731,
          0.478,
          0.523,
          0.32,
          0.232,
          0.507,
          0.873,
          0.478,
          0.648,
          0.431,
          0.665,
          0.509,
          0.593,
          0.717,
          0.79,
          0.612,
          0.462,
          0.526,
          0.498,
          0.132,
          0.585,
          0.54,
          0.337,
          0.585,
          0.275,
          0.45,
          0.601,
          0.273,
          0.477,
          0.513,
          0.59,
          0.683,
          0.421,
          0.241,
          0.288,
          0.447,
          0.277,
          0.514,
          0.622,
          0.483,
          0.574,
          0.313,
          0.32,
          0.462,
          0.458,
          0.545,
          0.553,
          0.623,
          0.684,
          0.722,
          0.585,
          0.613,
          0.796,
          0.546,
          0.288,
          0.546,
          0.546,
          0.455,
          0.447,
          0.557,
          0.639,
          0.395,
          0.768,
          0.415,
          0.686,
          0.687,
          0.371,
          0.405,
          0.49,
          0.447,
          0.463,
          0.499,
          0.348,
          0.442,
          0.45,
          0.171,
          0.596,
          0.0929,
          0.564,
          0.417,
          0.313,
          0.513,
          0.511,
          0.233,
          0.172,
          0.595,
          0.319,
          0.557,
          0.444,
          0.52,
          0.619,
          0.157,
          0.426,
          0.458,
          0.27,
          0.256,
          0.77,
          0.211,
          0.417,
          0.216,
          0.442,
          0.438,
          0.371,
          0.765,
          0.386,
          0.445,
          0.456,
          0.493,
          0.65,
          0.47,
          0.214,
          0.216,
          0.647,
          0.604,
          0.638,
          0.51,
          0.267,
          0.595,
          0.62,
          0.51,
          0.644,
          0.435,
          0.377,
          0.374,
          0.581,
          0.419,
          0.658,
          0.557,
          0.413,
          0.609,
          0.509,
          0.385,
          0.351,
          0.347,
          0.319,
          0.238,
          0.414,
          0.444,
          0.178,
          0.214,
          0.48,
          0.499,
          0.469,
          0.361,
          0.479,
          0.327,
          0.178,
          0.458,
          0.296,
          0.448,
          0.363,
          0.473,
          0.24,
          0.487,
          0.505,
          0.454,
          0.126,
          0.405,
          0.53,
          0.53,
          0.449,
          0.415,
          0.282,
          0.259,
          0.713,
          0.733,
          0.37,
          0.491,
          0.419,
          0.494,
          0.836,
          0.713,
          0.605,
          0.181,
          0.466,
          0.826,
          0.203,
          0.31,
          0.5,
          0.275,
          0.634,
          0.357,
          0.42,
          0.362,
          0.353,
          0.261,
          0.536,
          0.494,
          0.296,
          0.709,
          0.536,
          0.489,
          0.517,
          0.357,
          0.326,
          0.733,
          0.602,
          0.338,
          0.27,
          0.533,
          0.456,
          0.449,
          0.73,
          0.756,
          0.57,
          0.574,
          0.706,
          0.754,
          0.419,
          0.665,
          0.734,
          0.41,
          0.515,
          0.479,
          0.692,
          0.408,
          0.61,
          0.493,
          0.444,
          0.404,
          0.827
         ],
         "xaxis": "x",
         "yaxis": "y"
        }
       ],
       "layout": {
        "barmode": "overlay",
        "legend": {
         "title": {
          "text": ""
         },
         "tracegroupgap": 0
        },
        "template": {
         "data": {
          "bar": [
           {
            "error_x": {
             "color": "#2a3f5f"
            },
            "error_y": {
             "color": "#2a3f5f"
            },
            "marker": {
             "line": {
              "color": "#E5ECF6",
              "width": 0.5
             },
             "pattern": {
              "fillmode": "overlay",
              "size": 10,
              "solidity": 0.2
             }
            },
            "type": "bar"
           }
          ],
          "barpolar": [
           {
            "marker": {
             "line": {
              "color": "#E5ECF6",
              "width": 0.5
             },
             "pattern": {
              "fillmode": "overlay",
              "size": 10,
              "solidity": 0.2
             }
            },
            "type": "barpolar"
           }
          ],
          "carpet": [
           {
            "aaxis": {
             "endlinecolor": "#2a3f5f",
             "gridcolor": "white",
             "linecolor": "white",
             "minorgridcolor": "white",
             "startlinecolor": "#2a3f5f"
            },
            "baxis": {
             "endlinecolor": "#2a3f5f",
             "gridcolor": "white",
             "linecolor": "white",
             "minorgridcolor": "white",
             "startlinecolor": "#2a3f5f"
            },
            "type": "carpet"
           }
          ],
          "choropleth": [
           {
            "colorbar": {
             "outlinewidth": 0,
             "ticks": ""
            },
            "type": "choropleth"
           }
          ],
          "contour": [
           {
            "colorbar": {
             "outlinewidth": 0,
             "ticks": ""
            },
            "colorscale": [
             [
              0,
              "#0d0887"
             ],
             [
              0.1111111111111111,
              "#46039f"
             ],
             [
              0.2222222222222222,
              "#7201a8"
             ],
             [
              0.3333333333333333,
              "#9c179e"
             ],
             [
              0.4444444444444444,
              "#bd3786"
             ],
             [
              0.5555555555555556,
              "#d8576b"
             ],
             [
              0.6666666666666666,
              "#ed7953"
             ],
             [
              0.7777777777777778,
              "#fb9f3a"
             ],
             [
              0.8888888888888888,
              "#fdca26"
             ],
             [
              1,
              "#f0f921"
             ]
            ],
            "type": "contour"
           }
          ],
          "contourcarpet": [
           {
            "colorbar": {
             "outlinewidth": 0,
             "ticks": ""
            },
            "type": "contourcarpet"
           }
          ],
          "heatmap": [
           {
            "colorbar": {
             "outlinewidth": 0,
             "ticks": ""
            },
            "colorscale": [
             [
              0,
              "#0d0887"
             ],
             [
              0.1111111111111111,
              "#46039f"
             ],
             [
              0.2222222222222222,
              "#7201a8"
             ],
             [
              0.3333333333333333,
              "#9c179e"
             ],
             [
              0.4444444444444444,
              "#bd3786"
             ],
             [
              0.5555555555555556,
              "#d8576b"
             ],
             [
              0.6666666666666666,
              "#ed7953"
             ],
             [
              0.7777777777777778,
              "#fb9f3a"
             ],
             [
              0.8888888888888888,
              "#fdca26"
             ],
             [
              1,
              "#f0f921"
             ]
            ],
            "type": "heatmap"
           }
          ],
          "heatmapgl": [
           {
            "colorbar": {
             "outlinewidth": 0,
             "ticks": ""
            },
            "colorscale": [
             [
              0,
              "#0d0887"
             ],
             [
              0.1111111111111111,
              "#46039f"
             ],
             [
              0.2222222222222222,
              "#7201a8"
             ],
             [
              0.3333333333333333,
              "#9c179e"
             ],
             [
              0.4444444444444444,
              "#bd3786"
             ],
             [
              0.5555555555555556,
              "#d8576b"
             ],
             [
              0.6666666666666666,
              "#ed7953"
             ],
             [
              0.7777777777777778,
              "#fb9f3a"
             ],
             [
              0.8888888888888888,
              "#fdca26"
             ],
             [
              1,
              "#f0f921"
             ]
            ],
            "type": "heatmapgl"
           }
          ],
          "histogram": [
           {
            "marker": {
             "pattern": {
              "fillmode": "overlay",
              "size": 10,
              "solidity": 0.2
             }
            },
            "type": "histogram"
           }
          ],
          "histogram2d": [
           {
            "colorbar": {
             "outlinewidth": 0,
             "ticks": ""
            },
            "colorscale": [
             [
              0,
              "#0d0887"
             ],
             [
              0.1111111111111111,
              "#46039f"
             ],
             [
              0.2222222222222222,
              "#7201a8"
             ],
             [
              0.3333333333333333,
              "#9c179e"
             ],
             [
              0.4444444444444444,
              "#bd3786"
             ],
             [
              0.5555555555555556,
              "#d8576b"
             ],
             [
              0.6666666666666666,
              "#ed7953"
             ],
             [
              0.7777777777777778,
              "#fb9f3a"
             ],
             [
              0.8888888888888888,
              "#fdca26"
             ],
             [
              1,
              "#f0f921"
             ]
            ],
            "type": "histogram2d"
           }
          ],
          "histogram2dcontour": [
           {
            "colorbar": {
             "outlinewidth": 0,
             "ticks": ""
            },
            "colorscale": [
             [
              0,
              "#0d0887"
             ],
             [
              0.1111111111111111,
              "#46039f"
             ],
             [
              0.2222222222222222,
              "#7201a8"
             ],
             [
              0.3333333333333333,
              "#9c179e"
             ],
             [
              0.4444444444444444,
              "#bd3786"
             ],
             [
              0.5555555555555556,
              "#d8576b"
             ],
             [
              0.6666666666666666,
              "#ed7953"
             ],
             [
              0.7777777777777778,
              "#fb9f3a"
             ],
             [
              0.8888888888888888,
              "#fdca26"
             ],
             [
              1,
              "#f0f921"
             ]
            ],
            "type": "histogram2dcontour"
           }
          ],
          "mesh3d": [
           {
            "colorbar": {
             "outlinewidth": 0,
             "ticks": ""
            },
            "type": "mesh3d"
           }
          ],
          "parcoords": [
           {
            "line": {
             "colorbar": {
              "outlinewidth": 0,
              "ticks": ""
             }
            },
            "type": "parcoords"
           }
          ],
          "pie": [
           {
            "automargin": true,
            "type": "pie"
           }
          ],
          "scatter": [
           {
            "fillpattern": {
             "fillmode": "overlay",
             "size": 10,
             "solidity": 0.2
            },
            "type": "scatter"
           }
          ],
          "scatter3d": [
           {
            "line": {
             "colorbar": {
              "outlinewidth": 0,
              "ticks": ""
             }
            },
            "marker": {
             "colorbar": {
              "outlinewidth": 0,
              "ticks": ""
             }
            },
            "type": "scatter3d"
           }
          ],
          "scattercarpet": [
           {
            "marker": {
             "colorbar": {
              "outlinewidth": 0,
              "ticks": ""
             }
            },
            "type": "scattercarpet"
           }
          ],
          "scattergeo": [
           {
            "marker": {
             "colorbar": {
              "outlinewidth": 0,
              "ticks": ""
             }
            },
            "type": "scattergeo"
           }
          ],
          "scattergl": [
           {
            "marker": {
             "colorbar": {
              "outlinewidth": 0,
              "ticks": ""
             }
            },
            "type": "scattergl"
           }
          ],
          "scattermapbox": [
           {
            "marker": {
             "colorbar": {
              "outlinewidth": 0,
              "ticks": ""
             }
            },
            "type": "scattermapbox"
           }
          ],
          "scatterpolar": [
           {
            "marker": {
             "colorbar": {
              "outlinewidth": 0,
              "ticks": ""
             }
            },
            "type": "scatterpolar"
           }
          ],
          "scatterpolargl": [
           {
            "marker": {
             "colorbar": {
              "outlinewidth": 0,
              "ticks": ""
             }
            },
            "type": "scatterpolargl"
           }
          ],
          "scatterternary": [
           {
            "marker": {
             "colorbar": {
              "outlinewidth": 0,
              "ticks": ""
             }
            },
            "type": "scatterternary"
           }
          ],
          "surface": [
           {
            "colorbar": {
             "outlinewidth": 0,
             "ticks": ""
            },
            "colorscale": [
             [
              0,
              "#0d0887"
             ],
             [
              0.1111111111111111,
              "#46039f"
             ],
             [
              0.2222222222222222,
              "#7201a8"
             ],
             [
              0.3333333333333333,
              "#9c179e"
             ],
             [
              0.4444444444444444,
              "#bd3786"
             ],
             [
              0.5555555555555556,
              "#d8576b"
             ],
             [
              0.6666666666666666,
              "#ed7953"
             ],
             [
              0.7777777777777778,
              "#fb9f3a"
             ],
             [
              0.8888888888888888,
              "#fdca26"
             ],
             [
              1,
              "#f0f921"
             ]
            ],
            "type": "surface"
           }
          ],
          "table": [
           {
            "cells": {
             "fill": {
              "color": "#EBF0F8"
             },
             "line": {
              "color": "white"
             }
            },
            "header": {
             "fill": {
              "color": "#C8D4E3"
             },
             "line": {
              "color": "white"
             }
            },
            "type": "table"
           }
          ]
         },
         "layout": {
          "annotationdefaults": {
           "arrowcolor": "#2a3f5f",
           "arrowhead": 0,
           "arrowwidth": 1
          },
          "autotypenumbers": "strict",
          "coloraxis": {
           "colorbar": {
            "outlinewidth": 0,
            "ticks": ""
           }
          },
          "colorscale": {
           "diverging": [
            [
             0,
             "#8e0152"
            ],
            [
             0.1,
             "#c51b7d"
            ],
            [
             0.2,
             "#de77ae"
            ],
            [
             0.3,
             "#f1b6da"
            ],
            [
             0.4,
             "#fde0ef"
            ],
            [
             0.5,
             "#f7f7f7"
            ],
            [
             0.6,
             "#e6f5d0"
            ],
            [
             0.7,
             "#b8e186"
            ],
            [
             0.8,
             "#7fbc41"
            ],
            [
             0.9,
             "#4d9221"
            ],
            [
             1,
             "#276419"
            ]
           ],
           "sequential": [
            [
             0,
             "#0d0887"
            ],
            [
             0.1111111111111111,
             "#46039f"
            ],
            [
             0.2222222222222222,
             "#7201a8"
            ],
            [
             0.3333333333333333,
             "#9c179e"
            ],
            [
             0.4444444444444444,
             "#bd3786"
            ],
            [
             0.5555555555555556,
             "#d8576b"
            ],
            [
             0.6666666666666666,
             "#ed7953"
            ],
            [
             0.7777777777777778,
             "#fb9f3a"
            ],
            [
             0.8888888888888888,
             "#fdca26"
            ],
            [
             1,
             "#f0f921"
            ]
           ],
           "sequentialminus": [
            [
             0,
             "#0d0887"
            ],
            [
             0.1111111111111111,
             "#46039f"
            ],
            [
             0.2222222222222222,
             "#7201a8"
            ],
            [
             0.3333333333333333,
             "#9c179e"
            ],
            [
             0.4444444444444444,
             "#bd3786"
            ],
            [
             0.5555555555555556,
             "#d8576b"
            ],
            [
             0.6666666666666666,
             "#ed7953"
            ],
            [
             0.7777777777777778,
             "#fb9f3a"
            ],
            [
             0.8888888888888888,
             "#fdca26"
            ],
            [
             1,
             "#f0f921"
            ]
           ]
          },
          "colorway": [
           "#636efa",
           "#EF553B",
           "#00cc96",
           "#ab63fa",
           "#FFA15A",
           "#19d3f3",
           "#FF6692",
           "#B6E880",
           "#FF97FF",
           "#FECB52"
          ],
          "font": {
           "color": "#2a3f5f"
          },
          "geo": {
           "bgcolor": "white",
           "lakecolor": "white",
           "landcolor": "#E5ECF6",
           "showlakes": true,
           "showland": true,
           "subunitcolor": "white"
          },
          "hoverlabel": {
           "align": "left"
          },
          "hovermode": "closest",
          "mapbox": {
           "style": "light"
          },
          "paper_bgcolor": "white",
          "plot_bgcolor": "#E5ECF6",
          "polar": {
           "angularaxis": {
            "gridcolor": "white",
            "linecolor": "white",
            "ticks": ""
           },
           "bgcolor": "#E5ECF6",
           "radialaxis": {
            "gridcolor": "white",
            "linecolor": "white",
            "ticks": ""
           }
          },
          "scene": {
           "xaxis": {
            "backgroundcolor": "#E5ECF6",
            "gridcolor": "white",
            "gridwidth": 2,
            "linecolor": "white",
            "showbackground": true,
            "ticks": "",
            "zerolinecolor": "white"
           },
           "yaxis": {
            "backgroundcolor": "#E5ECF6",
            "gridcolor": "white",
            "gridwidth": 2,
            "linecolor": "white",
            "showbackground": true,
            "ticks": "",
            "zerolinecolor": "white"
           },
           "zaxis": {
            "backgroundcolor": "#E5ECF6",
            "gridcolor": "white",
            "gridwidth": 2,
            "linecolor": "white",
            "showbackground": true,
            "ticks": "",
            "zerolinecolor": "white"
           }
          },
          "shapedefaults": {
           "line": {
            "color": "#2a3f5f"
           }
          },
          "ternary": {
           "aaxis": {
            "gridcolor": "white",
            "linecolor": "white",
            "ticks": ""
           },
           "baxis": {
            "gridcolor": "white",
            "linecolor": "white",
            "ticks": ""
           },
           "bgcolor": "#E5ECF6",
           "caxis": {
            "gridcolor": "white",
            "linecolor": "white",
            "ticks": ""
           }
          },
          "title": {
           "x": 0.05
          },
          "xaxis": {
           "automargin": true,
           "gridcolor": "white",
           "linecolor": "white",
           "ticks": "",
           "title": {
            "standoff": 15
           },
           "zerolinecolor": "white",
           "zerolinewidth": 2
          },
          "yaxis": {
           "automargin": true,
           "gridcolor": "white",
           "linecolor": "white",
           "ticks": "",
           "title": {
            "standoff": 15
           },
           "zerolinecolor": "white",
           "zerolinewidth": 2
          }
         }
        },
        "title": {
         "text": "Energy distribution by target class"
        },
        "xaxis": {
         "anchor": "y",
         "domain": [
          0,
          1
         ],
         "title": {
          "text": "energy"
         }
        },
        "yaxis": {
         "anchor": "x",
         "domain": [
          0,
          1
         ],
         "title": {
          "text": "count"
         }
        }
       }
      }
     },
     "metadata": {},
     "output_type": "display_data"
    }
   ],
   "source": [
    "fig = px.histogram(song_df, x='energy', color='result', opacity=0.6, \n",
    "                   barmode='overlay', title='Energy distribution by target class')\n",
    "fig.update_layout(legend_title_text='')\n",
    "fig.show()\n",
    "fig.write_html(\"assets/energy_dist_by_target.html\")"
   ]
  },
  {
   "cell_type": "code",
   "execution_count": 8,
   "metadata": {},
   "outputs": [
    {
     "data": {
      "application/vnd.plotly.v1+json": {
       "config": {
        "plotlyServerURL": "https://plot.ly"
       },
       "data": [
        {
         "hovertemplate": "result=Workout<br>valence=%{x}<br>energy=%{y}<extra></extra>",
         "legendgroup": "Workout",
         "marker": {
          "color": "#636efa",
          "symbol": "circle"
         },
         "mode": "markers",
         "name": "Workout",
         "showlegend": true,
         "type": "scattergl",
         "x": [
          0.645,
          0.884,
          0.809,
          0.809,
          0.648,
          0.82,
          0.538,
          0.799,
          0.616,
          0.555,
          0.691,
          0.582,
          0.427,
          0.488,
          0.711,
          0.46,
          0.498,
          0.429,
          0.705,
          0.557,
          0.678,
          0.289,
          0.649,
          0.578,
          0.527,
          0.692,
          0.731,
          0.587,
          0.467,
          0.343,
          0.882,
          0.616,
          0.586,
          0.913,
          0.369,
          0.789,
          0.749,
          0.694,
          0.56,
          0.732,
          0.821,
          0.551,
          0.519,
          0.857,
          0.903,
          0.555,
          0.885,
          0.291,
          0.527,
          0.752,
          0.855,
          0.904,
          0.491,
          0.16,
          0.957,
          0.589,
          0.272,
          0.237,
          0.802,
          0.704,
          0.772,
          0.827,
          0.919,
          0.851,
          0.784,
          0.596,
          0.721,
          0.467,
          0.54,
          0.47,
          0.778,
          0.759,
          0.928,
          0.757,
          0.599,
          0.303,
          0.534,
          0.683,
          0.756,
          0.6,
          0.571,
          0.416,
          0.718,
          0.52,
          0.855,
          0.786,
          0.913,
          0.655,
          0.715,
          0.418,
          0.338,
          0.868,
          0.546,
          0.673,
          0.815,
          0.349,
          0.512,
          0.811,
          0.645,
          0.59,
          0.671,
          0.627,
          0.797,
          0.823,
          0.422,
          0.702,
          0.684,
          0.759,
          0.481,
          0.569,
          0.767,
          0.958,
          0.524,
          0.709,
          0.114,
          0.834,
          0.365,
          0.436,
          0.688,
          0.912,
          0.798,
          0.74,
          0.609,
          0.765,
          0.822,
          0.659,
          0.765,
          0.703,
          0.869,
          0.646,
          0.575,
          0.837,
          0.566,
          0.575,
          0.894,
          0.616,
          0.963,
          0.735,
          0.86,
          0.702,
          0.452,
          0.934,
          0.492,
          0.452,
          0.712,
          0.761,
          0.589,
          0.317,
          0.556,
          0.779,
          0.836,
          0.278,
          0.38,
          0.684,
          0.487,
          0.684,
          0.687,
          0.842,
          0.734,
          0.342,
          0.399,
          0.325,
          0.378,
          0.559,
          0.259,
          0.623,
          0.496,
          0.395,
          0.46,
          0.744,
          0.772,
          0.684,
          0.434,
          0.551,
          0.538,
          0.557,
          0.83,
          0.848,
          0.851,
          0.802,
          0.859,
          0.87,
          0.58,
          0.55,
          0.962,
          0.529,
          0.525,
          0.583,
          0.494,
          0.608,
          0.961,
          0.564,
          0.902,
          0.671,
          0.719,
          0.746,
          0.568,
          0.354,
          0.698,
          0.379,
          0.356,
          0.945,
          0.704,
          0.747,
          0.288,
          0.778,
          0.624,
          0.576,
          0.534,
          0.567,
          0.891,
          0.739,
          0.768,
          0.961,
          0.583,
          0.668,
          0.397,
          0.274,
          0.642,
          0.607,
          0.825,
          0.458,
          0.661,
          0.777,
          0.665,
          0.961,
          0.782,
          0.78,
          0.537,
          0.926,
          0.961,
          0.744,
          0.654,
          0.867,
          0.591,
          0.765,
          0.11,
          0.893,
          0.801,
          0.721,
          0.804,
          0.698,
          0.641,
          0.364,
          0.915,
          0.43,
          0.608,
          0.465,
          0.0951,
          0.537,
          0.662,
          0.625,
          0.338,
          0.123,
          0.688,
          0.507,
          0.159,
          0.719,
          0.838,
          0.7,
          0.641,
          0.804,
          0.76,
          0.507,
          0.815,
          0.58,
          0.509,
          0.553,
          0.836,
          0.39,
          0.698,
          0.185,
          0.531,
          0.573,
          0.45,
          0.674,
          0.335,
          0.241,
          0.505,
          0.24,
          0.233,
          0.385,
          0.42,
          0.782,
          0.187,
          0.482,
          0.674,
          0.759,
          0.568,
          0.236,
          0.501,
          0.543,
          0.545,
          0.46,
          0.684,
          0.731,
          0.737,
          0.405,
          0.928,
          0.32,
          0.862,
          0.513,
          0.861,
          0.96,
          0.619,
          0.386,
          0.526,
          0.814,
          0.398,
          0.394,
          0.945,
          0.57,
          0.755,
          0.496,
          0.694,
          0.788,
          0.583,
          0.728,
          0.821,
          0.387,
          0.539,
          0.825,
          0.475,
          0.372,
          0.528,
          0.535,
          0.964,
          0.624,
          0.449,
          0.867,
          0.642,
          0.795,
          0.663,
          0.294,
          0.515,
          0.739,
          0.695,
          0.64,
          0.362,
          0.241,
          0.164,
          0.451,
          0.774,
          0.849,
          0.608,
          0.216,
          0.235,
          0.503,
          0.858,
          0.752,
          0.789,
          0.892,
          0.541,
          0.918,
          0.628,
          0.816,
          0.228,
          0.42,
          0.898,
          0.939,
          0.268,
          0.547,
          0.548,
          0.646,
          0.654,
          0.255,
          0.51,
          0.558,
          0.691,
          0.605,
          0.843,
          0.206,
          0.799,
          0.875,
          0.802,
          0.497,
          0.405,
          0.77,
          0.879,
          0.516,
          0.347,
          0.798,
          0.955,
          0.677,
          0.673,
          0.702,
          0.46,
          0.825,
          0.801,
          0.763,
          0.866,
          0.782,
          0.86,
          0.962,
          0.35,
          0.353,
          0.662,
          0.656,
          0.872,
          0.649,
          0.788,
          0.654,
          0.45,
          0.787,
          0.26,
          0.833,
          0.542,
          0.716,
          0.637,
          0.501,
          0.924,
          0.555,
          0.961,
          0.982,
          0.51,
          0.88,
          0.572,
          0.6,
          0.685,
          0.663,
          0.488,
          0.869,
          0.884,
          0.736,
          0.67,
          0.889,
          0.551,
          0.673,
          0.9,
          0.541,
          0.212,
          0.65,
          0.352,
          0.455,
          0.432,
          0.318,
          0.882,
          0.362,
          0.797,
          0.411,
          0.535,
          0.559,
          0.346,
          0.544,
          0.546,
          0.86,
          0.939,
          0.891,
          0.657,
          0.783,
          0.39,
          0.66,
          0.88,
          0.487,
          0.668,
          0.761,
          0.925,
          0.649,
          0.857,
          0.681,
          0.673,
          0.69,
          0.795,
          0.715,
          0.163,
          0.571,
          0.5,
          0.477,
          0.634,
          0.293,
          0.625,
          0.673,
          0.682,
          0.825,
          0.515,
          0.586,
          0.534,
          0.361,
          0.772,
          0.675,
          0.152,
          0.729,
          0.924,
          0.34,
          0.841,
          0.534,
          0.732,
          0.472,
          0.81,
          0.77,
          0.842,
          0.694,
          0.638,
          0.39,
          0.547,
          0.444,
          0.665,
          0.578,
          0.654,
          0.573,
          0.597,
          0.689,
          0.582,
          0.312,
          0.552,
          0.703,
          0.597,
          0.521,
          0.578,
          0.1,
          0.208,
          0.538,
          0.285,
          0.217,
          0.402,
          0.457,
          0.292,
          0.554,
          0.216,
          0.519,
          0.846,
          0.562,
          0.893,
          0.823,
          0.955,
          0.937,
          0.347,
          0.441,
          0.275,
          0.586,
          0.554,
          0.815,
          0.644,
          0.756,
          0.71,
          0.668,
          0.745,
          0.333,
          0.344,
          0.396,
          0.645,
          0.393,
          0.455,
          0.676,
          0.448,
          0.506,
          0.493,
          0.437,
          0.666,
          0.52,
          0.331,
          0.64,
          0.492,
          0.51,
          0.613,
          0.594,
          0.849,
          0.842,
          0.324,
          0.284,
          0.826,
          0.374,
          0.379,
          0.56,
          0.539,
          0.612,
          0.677,
          0.67,
          0.597,
          0.904,
          0.674,
          0.388,
          0.607,
          0.947,
          0.879,
          0.409,
          0.571,
          0.381,
          0.542,
          0.505,
          0.639,
          0.286,
          0.356,
          0.319,
          0.349,
          0.327,
          0.273,
          0.839,
          0.506,
          0.204,
          0.35,
          0.0827,
          0.596,
          0.244,
          0.236,
          0.313,
          0.75,
          0.911,
          0.928,
          0.555,
          0.685,
          0.749,
          0.652,
          0.47,
          0.917,
          0.952,
          0.631,
          0.709,
          0.394,
          0.759,
          0.718,
          0.606,
          0.61,
          0.355,
          0.801,
          0.843,
          0.535,
          0.681,
          0.81,
          0.779,
          0.431,
          0.31,
          0.537,
          0.421,
          0.928,
          0.721,
          0.385,
          0.273,
          0.295,
          0.613,
          0.419,
          0.654,
          0.41,
          0.575,
          0.873,
          0.799,
          0.811,
          0.489,
          0.811,
          0.754,
          0.602,
          0.58,
          0.417,
          0.602,
          0.912,
          0.565,
          0.677,
          0.681,
          0.962,
          0.677,
          0.754,
          0.348,
          0.694,
          0.725,
          0.784,
          0.21,
          0.632,
          0.6,
          0.522,
          0.61,
          0.358,
          0.189,
          0.561,
          0.505,
          0.672,
          0.864,
          0.775,
          0.821,
          0.894,
          0.589,
          0.712,
          0.412,
          0.485,
          0.661,
          0.417,
          0.474,
          0.881,
          0.726,
          0.901,
          0.679,
          0.517,
          0.933,
          0.933,
          0.41,
          0.835,
          0.627,
          0.587,
          0.639,
          0.683,
          0.947,
          0.561,
          0.929,
          0.868,
          0.42,
          0.554,
          0.527,
          0.832,
          0.914,
          0.839,
          0.684,
          0.578,
          0.958,
          0.475,
          0.513,
          0.526,
          0.806,
          0.199,
          0.649,
          0.949,
          0.475,
          0.791,
          0.687,
          0.684,
          0.896,
          0.771,
          0.392,
          0.905,
          0.5,
          0.627,
          0.662,
          0.748,
          0.559,
          0.842,
          0.431,
          0.773,
          0.715
         ],
         "xaxis": "x",
         "y": [
          0.87,
          0.788,
          0.768,
          0.862,
          0.91,
          0.852,
          0.709,
          0.922,
          0.648,
          0.523,
          0.565,
          0.508,
          0.592,
          0.826,
          0.502,
          0.796,
          0.632,
          0.666,
          0.673,
          0.607,
          0.475,
          0.912,
          0.986,
          0.702,
          0.542,
          0.834,
          0.916,
          0.636,
          0.729,
          0.799,
          0.68,
          0.464,
          0.907,
          0.479,
          0.869,
          0.874,
          0.815,
          0.891,
          0.8,
          0.87,
          0.797,
          0.849,
          0.5,
          0.512,
          0.698,
          0.624,
          0.897,
          0.485,
          0.621,
          0.736,
          0.835,
          0.692,
          0.93,
          0.895,
          0.804,
          0.8,
          0.585,
          0.595,
          0.834,
          0.886,
          0.631,
          0.778,
          0.883,
          0.585,
          0.695,
          0.895,
          0.907,
          0.834,
          0.822,
          0.838,
          0.712,
          0.876,
          0.828,
          0.876,
          0.698,
          0.84,
          0.799,
          0.885,
          0.785,
          0.845,
          0.519,
          0.742,
          0.466,
          0.464,
          0.713,
          0.768,
          0.454,
          0.719,
          0.621,
          0.415,
          0.596,
          0.812,
          0.661,
          0.509,
          0.587,
          0.965,
          0.522,
          0.678,
          0.698,
          0.815,
          0.709,
          0.655,
          0.712,
          0.821,
          0.48,
          0.52,
          0.696,
          0.849,
          0.683,
          0.49,
          0.672,
          0.575,
          0.743,
          0.665,
          0.578,
          0.621,
          0.514,
          0.684,
          0.868,
          0.647,
          0.537,
          0.536,
          0.63,
          0.422,
          0.414,
          0.448,
          0.66,
          0.57,
          0.731,
          0.681,
          0.914,
          0.863,
          0.611,
          0.457,
          0.748,
          0.577,
          0.715,
          0.641,
          0.886,
          0.388,
          0.691,
          0.531,
          0.634,
          0.528,
          0.666,
          0.619,
          0.625,
          0.722,
          0.462,
          0.623,
          0.935,
          0.708,
          0.896,
          0.901,
          0.871,
          0.822,
          0.89,
          0.942,
          0.899,
          0.843,
          0.816,
          0.753,
          0.776,
          0.624,
          0.588,
          0.845,
          0.922,
          0.864,
          0.568,
          0.741,
          0.82,
          0.585,
          0.428,
          0.573,
          0.622,
          0.433,
          0.683,
          0.826,
          0.831,
          0.605,
          0.842,
          0.798,
          0.707,
          0.73,
          0.609,
          0.685,
          0.746,
          0.802,
          0.726,
          0.683,
          0.92,
          0.391,
          0.92,
          0.767,
          0.517,
          0.8,
          0.66,
          0.701,
          0.517,
          0.678,
          0.745,
          0.794,
          0.749,
          0.753,
          0.628,
          0.737,
          0.635,
          0.706,
          0.666,
          0.608,
          0.831,
          0.732,
          0.761,
          0.529,
          0.567,
          0.545,
          0.486,
          0.528,
          0.6,
          0.72,
          0.903,
          0.615,
          0.579,
          0.965,
          0.58,
          0.902,
          0.757,
          0.684,
          0.945,
          0.733,
          0.665,
          0.875,
          0.898,
          0.55,
          0.772,
          0.794,
          0.584,
          0.787,
          0.748,
          0.562,
          0.927,
          0.745,
          0.852,
          0.764,
          0.9,
          0.728,
          0.7,
          0.927,
          0.437,
          0.893,
          0.669,
          0.843,
          0.4,
          0.606,
          0.664,
          0.53,
          0.357,
          0.592,
          0.878,
          0.617,
          0.625,
          0.54,
          0.661,
          0.768,
          0.68,
          0.755,
          0.668,
          0.709,
          0.81,
          0.786,
          0.604,
          0.824,
          0.893,
          0.903,
          0.927,
          0.791,
          0.475,
          0.47,
          0.792,
          0.718,
          0.868,
          0.769,
          0.808,
          0.814,
          0.715,
          0.762,
          0.914,
          0.823,
          0.535,
          0.94,
          0.865,
          0.683,
          0.92,
          0.779,
          0.765,
          0.831,
          0.765,
          0.666,
          0.869,
          0.595,
          0.626,
          0.588,
          0.841,
          0.864,
          0.857,
          0.762,
          0.915,
          0.905,
          0.884,
          0.91,
          0.56,
          0.704,
          0.539,
          0.812,
          0.525,
          0.541,
          0.678,
          0.83,
          0.877,
          0.758,
          0.672,
          0.402,
          0.846,
          0.626,
          0.684,
          0.699,
          0.714,
          0.876,
          0.611,
          0.856,
          0.6,
          0.886,
          0.677,
          0.943,
          0.817,
          0.771,
          0.648,
          0.911,
          0.848,
          0.758,
          0.543,
          0.602,
          0.824,
          0.903,
          0.899,
          0.98,
          0.577,
          0.71,
          0.874,
          0.785,
          0.657,
          0.694,
          0.736,
          0.679,
          0.657,
          0.289,
          0.527,
          0.645,
          0.66,
          0.798,
          0.832,
          0.84,
          0.72,
          0.718,
          0.92,
          0.94,
          0.728,
          0.725,
          0.744,
          0.585,
          0.567,
          0.917,
          0.706,
          0.707,
          0.699,
          0.648,
          0.701,
          0.456,
          0.571,
          0.949,
          0.624,
          0.7,
          0.592,
          0.721,
          0.934,
          0.774,
          0.613,
          0.853,
          0.47,
          0.731,
          0.463,
          0.799,
          0.897,
          0.972,
          0.705,
          0.743,
          0.762,
          0.893,
          0.776,
          0.659,
          0.75,
          0.835,
          0.792,
          0.91,
          0.779,
          0.694,
          0.451,
          0.613,
          0.611,
          0.857,
          0.838,
          0.783,
          0.635,
          0.675,
          0.79,
          0.75,
          0.827,
          0.677,
          0.844,
          0.669,
          0.555,
          0.747,
          0.578,
          0.706,
          0.771,
          0.904,
          0.678,
          0.671,
          0.884,
          0.859,
          0.76,
          0.749,
          0.637,
          0.581,
          0.868,
          0.562,
          0.933,
          0.503,
          0.895,
          0.665,
          0.485,
          0.889,
          0.677,
          0.534,
          0.622,
          0.867,
          0.856,
          0.637,
          0.907,
          0.82,
          0.649,
          0.76,
          0.584,
          0.601,
          0.623,
          0.864,
          0.95,
          0.739,
          0.998,
          0.77,
          0.899,
          0.827,
          0.675,
          0.836,
          0.653,
          0.905,
          0.657,
          0.736,
          0.588,
          0.696,
          0.721,
          0.784,
          0.674,
          0.795,
          0.402,
          0.864,
          0.452,
          0.445,
          0.689,
          0.69,
          0.854,
          0.858,
          0.515,
          0.473,
          0.37,
          0.273,
          0.716,
          0.763,
          0.927,
          0.509,
          0.732,
          0.242,
          0.639,
          0.917,
          0.462,
          0.661,
          0.607,
          0.68,
          0.863,
          0.698,
          0.867,
          0.933,
          0.546,
          0.65,
          0.48,
          0.643,
          0.81,
          0.609,
          0.529,
          0.704,
          0.691,
          0.902,
          0.661,
          0.526,
          0.546,
          0.601,
          0.56,
          0.519,
          0.694,
          0.602,
          0.823,
          0.425,
          0.535,
          0.762,
          0.711,
          0.692,
          0.698,
          0.743,
          0.441,
          0.805,
          0.596,
          0.616,
          0.732,
          0.791,
          0.879,
          0.686,
          0.697,
          0.556,
          0.761,
          0.836,
          0.835,
          0.828,
          0.852,
          0.756,
          0.707,
          0.949,
          0.639,
          0.718,
          0.931,
          0.785,
          0.679,
          0.757,
          0.583,
          0.544,
          0.705,
          0.706,
          0.608,
          0.675,
          0.597,
          0.591,
          0.892,
          0.408,
          0.743,
          0.433,
          0.733,
          0.687,
          0.711,
          0.633,
          0.64,
          0.729,
          0.662,
          0.642,
          0.723,
          0.881,
          0.898,
          0.64,
          0.926,
          0.787,
          0.702,
          0.768,
          0.588,
          0.607,
          0.662,
          0.721,
          0.565,
          0.752,
          0.681,
          0.864,
          0.751,
          0.768,
          0.517,
          0.637,
          0.679,
          0.662,
          0.784,
          0.828,
          0.89,
          0.674,
          0.674,
          0.75,
          0.588,
          0.699,
          0.495,
          0.652,
          0.846,
          0.734,
          0.907,
          0.708,
          0.539,
          0.677,
          0.547,
          0.812,
          0.571,
          0.651,
          0.747,
          0.889,
          0.919,
          0.69,
          0.931,
          0.585,
          0.74,
          0.625,
          0.62,
          0.525,
          0.609,
          0.676,
          0.448,
          0.701,
          0.618,
          0.82,
          0.597,
          0.67,
          0.615,
          0.65,
          0.792,
          0.666,
          0.884,
          0.658,
          0.81,
          0.53,
          0.671,
          0.965,
          0.933,
          0.843,
          0.62,
          0.859,
          0.78,
          0.904,
          0.822,
          0.645,
          0.795,
          0.431,
          0.447,
          0.589,
          0.366,
          0.386,
          0.375,
          0.433,
          0.91,
          0.65,
          0.693,
          0.455,
          0.494,
          0.556,
          0.729,
          0.684,
          0.949,
          0.929,
          0.746,
          0.756,
          0.719,
          0.852,
          0.815,
          0.897,
          0.617,
          0.682,
          0.851,
          0.81,
          0.896,
          0.717,
          0.382,
          0.531,
          0.853,
          0.964,
          0.682,
          0.517,
          0.571,
          0.524,
          0.812,
          0.769,
          0.872,
          0.697,
          0.887,
          0.628,
          0.804,
          0.863,
          0.953,
          0.889,
          0.706,
          0.642,
          0.505,
          0.608,
          0.858,
          0.69,
          0.83,
          0.645,
          0.547,
          0.747,
          0.656,
          0.868,
          0.678,
          0.759,
          0.557,
          0.901,
          0.769,
          0.689,
          0.802,
          0.831,
          0.716,
          0.695,
          0.589,
          0.841,
          0.273,
          0.442,
          0.451,
          0.637
         ],
         "yaxis": "y"
        },
        {
         "hovertemplate": "result=Dislike<br>valence=%{x}<br>energy=%{y}<extra></extra>",
         "legendgroup": "Dislike",
         "marker": {
          "color": "#EF553B",
          "symbol": "circle"
         },
         "mode": "markers",
         "name": "Dislike",
         "showlegend": true,
         "type": "scattergl",
         "x": [
          0.61,
          0.499,
          0.696,
          0.453,
          0.626,
          0.784,
          0.562,
          0.668,
          0.383,
          0.915,
          0.816,
          0.245,
          0.45,
          0.321,
          0.337,
          0.917,
          0.423,
          0.527,
          0.343,
          0.772,
          0.29,
          0.29,
          0.71,
          0.566,
          0.683,
          0.648,
          0.369,
          0.207,
          0.573,
          0.618,
          0.632,
          0.251,
          0.532,
          0.135,
          0.557,
          0.609,
          0.478,
          0.639,
          0.238,
          0.427,
          0.484,
          0.394,
          0.525,
          0.574,
          0.896,
          0.362,
          0.546,
          0.717,
          0.526,
          0.357,
          0.678,
          0.723,
          0.331,
          0.681,
          0.415,
          0.0747,
          0.364,
          0.842,
          0.675,
          0.368,
          0.742,
          0.617,
          0.587,
          0.714,
          0.729,
          0.496,
          0.585,
          0.583,
          0.913,
          0.911,
          0.613,
          0.602,
          0.199,
          0.754,
          0.51,
          0.429,
          0.181,
          0.644,
          0.802,
          0.352,
          0.104,
          0.384,
          0.741,
          0.746,
          0.261,
          0.662,
          0.268,
          0.676,
          0.492,
          0.913,
          0.374,
          0.265,
          0.428,
          0.67,
          0.199,
          0.565,
          0.33,
          0.326,
          0.479,
          0.0602,
          0.526,
          0.145,
          0.675,
          0.72,
          0.505,
          0.175,
          0.592,
          0.12,
          0.573,
          0.532,
          0.841,
          0.372,
          0.562,
          0.532,
          0.661,
          0.567,
          0.578,
          0.53,
          0.7,
          0.51,
          0.142,
          0.259,
          0.261,
          0.666,
          0.651,
          0.631,
          0.209,
          0.179,
          0.361,
          0.115,
          0.328,
          0.144,
          0.742,
          0.466,
          0.615,
          0.16,
          0.423,
          0.578,
          0.418,
          0.497,
          0.688,
          0.516,
          0.436,
          0.319,
          0.808,
          0.176,
          0.59,
          0.549,
          0.614,
          0.102,
          0.456,
          0.751,
          0.409,
          0.498,
          0.576,
          0.486,
          0.189,
          0.155,
          0.305,
          0.494,
          0.358,
          0.416,
          0.15,
          0.742,
          0.85,
          0.574,
          0.496,
          0.386,
          0.123,
          0.277,
          0.47,
          0.466,
          0.619,
          0.587,
          0.72,
          0.131,
          0.755,
          0.522,
          0.427,
          0.497,
          0.5,
          0.622,
          0.946,
          0.621,
          0.544,
          0.584,
          0.162,
          0.898,
          0.474,
          0.525,
          0.588,
          0.729,
          0.797,
          0.511,
          0.406,
          0.417,
          0.203,
          0.481,
          0.895
         ],
         "xaxis": "x",
         "y": [
          0.677,
          0.636,
          0.705,
          0.612,
          0.761,
          0.861,
          0.841,
          0.934,
          0.459,
          0.726,
          0.8,
          0.81,
          0.638,
          0.678,
          0.691,
          0.645,
          0.547,
          0.574,
          0.808,
          0.807,
          0.818,
          0.0496,
          0.741,
          0.828,
          0.91,
          0.88,
          0.404,
          0.424,
          0.66,
          0.898,
          0.8,
          0.759,
          0.744,
          0.249,
          0.691,
          0.591,
          0.504,
          0.514,
          0.468,
          0.45,
          0.863,
          0.538,
          0.679,
          0.323,
          0.932,
          0.563,
          0.389,
          0.522,
          0.825,
          0.394,
          0.851,
          0.264,
          0.376,
          0.633,
          0.64,
          0.463,
          0.606,
          0.858,
          0.914,
          0.875,
          0.708,
          0.664,
          0.673,
          0.596,
          0.695,
          0.534,
          0.586,
          0.724,
          0.849,
          0.782,
          0.631,
          0.74,
          0.558,
          0.67,
          0.525,
          0.509,
          0.254,
          0.86,
          0.806,
          0.563,
          0.404,
          0.527,
          0.381,
          0.401,
          0.243,
          0.381,
          0.132,
          0.306,
          0.478,
          0.646,
          0.547,
          0.597,
          0.383,
          0.464,
          0.26,
          0.505,
          0.489,
          0.24,
          0.808,
          0.64,
          0.933,
          0.551,
          0.909,
          0.868,
          0.67,
          0.593,
          0.737,
          0.27,
          0.725,
          0.65,
          0.749,
          0.486,
          0.526,
          0.721,
          0.638,
          0.446,
          0.653,
          0.382,
          0.252,
          0.793,
          0.471,
          0.397,
          0.442,
          0.889,
          0.666,
          0.476,
          0.832,
          0.853,
          0.945,
          0.294,
          0.582,
          0.113,
          0.416,
          0.519,
          0.375,
          0.501,
          0.591,
          0.841,
          0.892,
          0.477,
          0.855,
          0.516,
          0.701,
          0.752,
          0.928,
          0.319,
          0.779,
          0.79,
          0.549,
          0.274,
          0.562,
          0.631,
          0.64,
          0.462,
          0.972,
          0.845,
          0.242,
          0.268,
          0.364,
          0.581,
          0.294,
          0.558,
          0.661,
          0.708,
          0.653,
          0.81,
          0.848,
          0.467,
          0.684,
          0.429,
          0.622,
          0.512,
          0.759,
          0.641,
          0.985,
          0.588,
          0.642,
          0.759,
          0.938,
          0.797,
          0.387,
          0.456,
          0.802,
          0.539,
          0.5,
          0.489,
          0.462,
          0.465,
          0.496,
          0.471,
          0.482,
          0.366,
          0.396,
          0.505,
          0.338,
          0.719,
          0.74,
          0.608,
          0.688
         ],
         "yaxis": "y"
        },
        {
         "hovertemplate": "result=Nonworkout<br>valence=%{x}<br>energy=%{y}<extra></extra>",
         "legendgroup": "Nonworkout",
         "marker": {
          "color": "#00cc96",
          "symbol": "circle"
         },
         "mode": "markers",
         "name": "Nonworkout",
         "showlegend": true,
         "type": "scattergl",
         "x": [
          0.104,
          0.212,
          0.193,
          0.4,
          0.422,
          0.15,
          0.237,
          0.356,
          0.179,
          0.343,
          0.413,
          0.232,
          0.387,
          0.745,
          0.858,
          0.652,
          0.329,
          0.278,
          0.45,
          0.507,
          0.639,
          0.447,
          0.297,
          0.557,
          0.458,
          0.181,
          0.785,
          0.357,
          0.34,
          0.342,
          0.457,
          0.472,
          0.265,
          0.235,
          0.336,
          0.369,
          0.263,
          0.774,
          0.575,
          0.279,
          0.788,
          0.309,
          0.106,
          0.384,
          0.665,
          0.166,
          0.209,
          0.52,
          0.836,
          0.302,
          0.413,
          0.129,
          0.376,
          0.353,
          0.556,
          0.444,
          0.747,
          0.688,
          0.534,
          0.429,
          0.383,
          0.413,
          0.381,
          0.876,
          0.341,
          0.42,
          0.411,
          0.217,
          0.766,
          0.133,
          0.621,
          0.527,
          0.0734,
          0.336,
          0.368,
          0.633,
          0.454,
          0.69,
          0.336,
          0.183,
          0.208,
          0.31,
          0.708,
          0.169,
          0.49,
          0.466,
          0.329,
          0.124,
          0.118,
          0.221,
          0.183,
          0.215,
          0.496,
          0.227,
          0.221,
          0.414,
          0.328,
          0.302,
          0.383,
          0.496,
          0.491,
          0.239,
          0.299,
          0.353,
          0.385,
          0.343,
          0.252,
          0.162,
          0.378,
          0.239,
          0.257,
          0.196,
          0.813,
          0.387,
          0.757,
          0.15,
          0.666,
          0.593,
          0.295,
          0.579,
          0.673,
          0.434,
          0.387,
          0.32,
          0.161,
          0.0907,
          0.336,
          0.196,
          0.452,
          0.328,
          0.487,
          0.166,
          0.279,
          0.206,
          0.0559,
          0.0502,
          0.08,
          0.509,
          0.0784,
          0.569,
          0.263,
          0.585,
          0.0996,
          0.445,
          0.467,
          0.273,
          0.403,
          0.661,
          0.864,
          0.542,
          0.311,
          0.308,
          0.249,
          0.193,
          0.522,
          0.432,
          0.165,
          0.852,
          0.261,
          0.315,
          0.439,
          0.269,
          0.554,
          0.317,
          0.239,
          0.365,
          0.399,
          0.605,
          0.556,
          0.308,
          0.62,
          0.677,
          0.607,
          0.906,
          0.592,
          0.774,
          0.765,
          0.125,
          0.226,
          0.529,
          0.395,
          0.528,
          0.241,
          0.738,
          0.879,
          0.847,
          0.208,
          0.723,
          0.348,
          0.391,
          0.473,
          0.142,
          0.309,
          0.528,
          0.687,
          0.514,
          0.345,
          0.227,
          0.323,
          0.201,
          0.243,
          0.124,
          0.15,
          0.244,
          0.463,
          0.461,
          0.22,
          0.358,
          0.173,
          0.365,
          0.172,
          0.23,
          0.152,
          0.218,
          0.549,
          0.318,
          0.214,
          0.295,
          0.192,
          0.377,
          0.284,
          0.3,
          0.2,
          0.788,
          0.186,
          0.36,
          0.55,
          0.522,
          0.71,
          0.25,
          0.47,
          0.633,
          0.167,
          0.153,
          0.321,
          0.401,
          0.16,
          0.394,
          0.494,
          0.442,
          0.265,
          0.673,
          0.667,
          0.904,
          0.406,
          0.215,
          0.237,
          0.546,
          0.297,
          0.311,
          0.253,
          0.274,
          0.369,
          0.537,
          0.297,
          0.321,
          0.196,
          0.124,
          0.284,
          0.707,
          0.121,
          0.238,
          0.113,
          0.0963,
          0.265,
          0.294,
          0.483,
          0.166,
          0.698,
          0.284,
          0.214,
          0.127,
          0.213,
          0.271,
          0.357,
          0.427,
          0.202,
          0.124,
          0.0645,
          0.213,
          0.386,
          0.413,
          0.519,
          0.526,
          0.591,
          0.0608,
          0.417,
          0.587,
          0.368,
          0.397,
          0.187,
          0.578,
          0.361,
          0.735,
          0.268,
          0.0592,
          0.222,
          0.547,
          0.189,
          0.378,
          0.322,
          0.653,
          0.574,
          0.633,
          0.328,
          0.507,
          0.301,
          0.246,
          0.401,
          0.115,
          0.761,
          0.19,
          0.511,
          0.312,
          0.345,
          0.669,
          0.712,
          0.608,
          0.366,
          0.17,
          0.674,
          0.623,
          0.5,
          0.284,
          0.343,
          0.321,
          0.314,
          0.206,
          0.42,
          0.308,
          0.492,
          0.526,
          0.219,
          0.419,
          0.191,
          0.348,
          0.446,
          0.162,
          0.417,
          0.326,
          0.274,
          0.217,
          0.331,
          0.544,
          0.796,
          0.349,
          0.681,
          0.122,
          0.227,
          0.727,
          0.272,
          0.589,
          0.0747,
          0.819,
          0.322,
          0.416,
          0.125,
          0.418,
          0.263,
          0.356,
          0.518,
          0.469,
          0.309,
          0.217,
          0.504,
          0.453,
          0.197,
          0.172,
          0.116,
          0.639,
          0.0799,
          0.18,
          0.662,
          0.388,
          0.83,
          0.543,
          0.184,
          0.415,
          0.632,
          0.321,
          0.459,
          0.67,
          0.469,
          0.334,
          0.176,
          0.259,
          0.575,
          0.716,
          0.503,
          0.357,
          0.37,
          0.674,
          0.237,
          0.454,
          0.232,
          0.473,
          0.22,
          0.329,
          0.129,
          0.545
         ],
         "xaxis": "x",
         "y": [
          0.43,
          0.454,
          0.371,
          0.583,
          0.265,
          0.504,
          0.326,
          0.633,
          0.423,
          0.432,
          0.745,
          0.463,
          0.28,
          0.88,
          0.595,
          0.844,
          0.559,
          0.661,
          0.793,
          0.616,
          0.455,
          0.224,
          0.225,
          0.608,
          0.432,
          0.424,
          0.596,
          0.586,
          0.521,
          0.174,
          0.285,
          0.682,
          0.406,
          0.228,
          0.588,
          0.432,
          0.387,
          0.732,
          0.319,
          0.486,
          0.632,
          0.486,
          0.445,
          0.626,
          0.518,
          0.393,
          0.437,
          0.553,
          0.367,
          0.412,
          0.616,
          0.43,
          0.708,
          0.698,
          0.684,
          0.573,
          0.682,
          0.579,
          0.373,
          0.55,
          0.597,
          0.554,
          0.554,
          0.213,
          0.5,
          0.613,
          0.765,
          0.53,
          0.374,
          0.55,
          0.406,
          0.485,
          0.187,
          0.566,
          0.315,
          0.31,
          0.477,
          0.668,
          0.845,
          0.575,
          0.499,
          0.553,
          0.654,
          0.422,
          0.533,
          0.774,
          0.448,
          0.379,
          0.393,
          0.431,
          0.316,
          0.105,
          0.638,
          0.508,
          0.555,
          0.286,
          0.128,
          0.431,
          0.257,
          0.641,
          0.389,
          0.321,
          0.363,
          0.53,
          0.452,
          0.47,
          0.463,
          0.29,
          0.28,
          0.584,
          0.242,
          0.409,
          0.304,
          0.478,
          0.235,
          0.551,
          0.355,
          0.221,
          0.472,
          0.398,
          0.258,
          0.116,
          0.373,
          0.47,
          0.142,
          0.19,
          0.348,
          0.429,
          0.787,
          0.8,
          0.747,
          0.298,
          0.419,
          0.413,
          0.464,
          0.26,
          0.493,
          0.542,
          0.59,
          0.323,
          0.427,
          0.632,
          0.325,
          0.569,
          0.327,
          0.414,
          0.435,
          0.655,
          0.517,
          0.511,
          0.368,
          0.399,
          0.327,
          0.588,
          0.703,
          0.563,
          0.393,
          0.694,
          0.576,
          0.412,
          0.323,
          0.535,
          0.704,
          0.281,
          0.486,
          0.224,
          0.597,
          0.306,
          0.632,
          0.629,
          0.429,
          0.311,
          0.812,
          0.785,
          0.732,
          0.727,
          0.809,
          0.129,
          0.442,
          0.731,
          0.478,
          0.523,
          0.32,
          0.232,
          0.507,
          0.873,
          0.478,
          0.648,
          0.431,
          0.665,
          0.509,
          0.593,
          0.717,
          0.79,
          0.612,
          0.462,
          0.526,
          0.498,
          0.132,
          0.585,
          0.54,
          0.337,
          0.585,
          0.275,
          0.45,
          0.601,
          0.273,
          0.477,
          0.513,
          0.59,
          0.683,
          0.421,
          0.241,
          0.288,
          0.447,
          0.277,
          0.514,
          0.622,
          0.483,
          0.574,
          0.313,
          0.32,
          0.462,
          0.458,
          0.545,
          0.553,
          0.623,
          0.684,
          0.722,
          0.585,
          0.613,
          0.796,
          0.546,
          0.288,
          0.546,
          0.546,
          0.455,
          0.447,
          0.557,
          0.639,
          0.395,
          0.768,
          0.415,
          0.686,
          0.687,
          0.371,
          0.405,
          0.49,
          0.447,
          0.463,
          0.499,
          0.348,
          0.442,
          0.45,
          0.171,
          0.596,
          0.0929,
          0.564,
          0.417,
          0.313,
          0.513,
          0.511,
          0.233,
          0.172,
          0.595,
          0.319,
          0.557,
          0.444,
          0.52,
          0.619,
          0.157,
          0.426,
          0.458,
          0.27,
          0.256,
          0.77,
          0.211,
          0.417,
          0.216,
          0.442,
          0.438,
          0.371,
          0.765,
          0.386,
          0.445,
          0.456,
          0.493,
          0.65,
          0.47,
          0.214,
          0.216,
          0.647,
          0.604,
          0.638,
          0.51,
          0.267,
          0.595,
          0.62,
          0.51,
          0.644,
          0.435,
          0.377,
          0.374,
          0.581,
          0.419,
          0.658,
          0.557,
          0.413,
          0.609,
          0.509,
          0.385,
          0.351,
          0.347,
          0.319,
          0.238,
          0.414,
          0.444,
          0.178,
          0.214,
          0.48,
          0.499,
          0.469,
          0.361,
          0.479,
          0.327,
          0.178,
          0.458,
          0.296,
          0.448,
          0.363,
          0.473,
          0.24,
          0.487,
          0.505,
          0.454,
          0.126,
          0.405,
          0.53,
          0.53,
          0.449,
          0.415,
          0.282,
          0.259,
          0.713,
          0.733,
          0.37,
          0.491,
          0.419,
          0.494,
          0.836,
          0.713,
          0.605,
          0.181,
          0.466,
          0.826,
          0.203,
          0.31,
          0.5,
          0.275,
          0.634,
          0.357,
          0.42,
          0.362,
          0.353,
          0.261,
          0.536,
          0.494,
          0.296,
          0.709,
          0.536,
          0.489,
          0.517,
          0.357,
          0.326,
          0.733,
          0.602,
          0.338,
          0.27,
          0.533,
          0.456,
          0.449,
          0.73,
          0.756,
          0.57,
          0.574,
          0.706,
          0.754,
          0.419,
          0.665,
          0.734,
          0.41,
          0.515,
          0.479,
          0.692,
          0.408,
          0.61,
          0.493,
          0.444,
          0.404,
          0.827
         ],
         "yaxis": "y"
        }
       ],
       "layout": {
        "legend": {
         "title": {
          "text": "result"
         },
         "tracegroupgap": 0
        },
        "template": {
         "data": {
          "bar": [
           {
            "error_x": {
             "color": "#2a3f5f"
            },
            "error_y": {
             "color": "#2a3f5f"
            },
            "marker": {
             "line": {
              "color": "#E5ECF6",
              "width": 0.5
             },
             "pattern": {
              "fillmode": "overlay",
              "size": 10,
              "solidity": 0.2
             }
            },
            "type": "bar"
           }
          ],
          "barpolar": [
           {
            "marker": {
             "line": {
              "color": "#E5ECF6",
              "width": 0.5
             },
             "pattern": {
              "fillmode": "overlay",
              "size": 10,
              "solidity": 0.2
             }
            },
            "type": "barpolar"
           }
          ],
          "carpet": [
           {
            "aaxis": {
             "endlinecolor": "#2a3f5f",
             "gridcolor": "white",
             "linecolor": "white",
             "minorgridcolor": "white",
             "startlinecolor": "#2a3f5f"
            },
            "baxis": {
             "endlinecolor": "#2a3f5f",
             "gridcolor": "white",
             "linecolor": "white",
             "minorgridcolor": "white",
             "startlinecolor": "#2a3f5f"
            },
            "type": "carpet"
           }
          ],
          "choropleth": [
           {
            "colorbar": {
             "outlinewidth": 0,
             "ticks": ""
            },
            "type": "choropleth"
           }
          ],
          "contour": [
           {
            "colorbar": {
             "outlinewidth": 0,
             "ticks": ""
            },
            "colorscale": [
             [
              0,
              "#0d0887"
             ],
             [
              0.1111111111111111,
              "#46039f"
             ],
             [
              0.2222222222222222,
              "#7201a8"
             ],
             [
              0.3333333333333333,
              "#9c179e"
             ],
             [
              0.4444444444444444,
              "#bd3786"
             ],
             [
              0.5555555555555556,
              "#d8576b"
             ],
             [
              0.6666666666666666,
              "#ed7953"
             ],
             [
              0.7777777777777778,
              "#fb9f3a"
             ],
             [
              0.8888888888888888,
              "#fdca26"
             ],
             [
              1,
              "#f0f921"
             ]
            ],
            "type": "contour"
           }
          ],
          "contourcarpet": [
           {
            "colorbar": {
             "outlinewidth": 0,
             "ticks": ""
            },
            "type": "contourcarpet"
           }
          ],
          "heatmap": [
           {
            "colorbar": {
             "outlinewidth": 0,
             "ticks": ""
            },
            "colorscale": [
             [
              0,
              "#0d0887"
             ],
             [
              0.1111111111111111,
              "#46039f"
             ],
             [
              0.2222222222222222,
              "#7201a8"
             ],
             [
              0.3333333333333333,
              "#9c179e"
             ],
             [
              0.4444444444444444,
              "#bd3786"
             ],
             [
              0.5555555555555556,
              "#d8576b"
             ],
             [
              0.6666666666666666,
              "#ed7953"
             ],
             [
              0.7777777777777778,
              "#fb9f3a"
             ],
             [
              0.8888888888888888,
              "#fdca26"
             ],
             [
              1,
              "#f0f921"
             ]
            ],
            "type": "heatmap"
           }
          ],
          "heatmapgl": [
           {
            "colorbar": {
             "outlinewidth": 0,
             "ticks": ""
            },
            "colorscale": [
             [
              0,
              "#0d0887"
             ],
             [
              0.1111111111111111,
              "#46039f"
             ],
             [
              0.2222222222222222,
              "#7201a8"
             ],
             [
              0.3333333333333333,
              "#9c179e"
             ],
             [
              0.4444444444444444,
              "#bd3786"
             ],
             [
              0.5555555555555556,
              "#d8576b"
             ],
             [
              0.6666666666666666,
              "#ed7953"
             ],
             [
              0.7777777777777778,
              "#fb9f3a"
             ],
             [
              0.8888888888888888,
              "#fdca26"
             ],
             [
              1,
              "#f0f921"
             ]
            ],
            "type": "heatmapgl"
           }
          ],
          "histogram": [
           {
            "marker": {
             "pattern": {
              "fillmode": "overlay",
              "size": 10,
              "solidity": 0.2
             }
            },
            "type": "histogram"
           }
          ],
          "histogram2d": [
           {
            "colorbar": {
             "outlinewidth": 0,
             "ticks": ""
            },
            "colorscale": [
             [
              0,
              "#0d0887"
             ],
             [
              0.1111111111111111,
              "#46039f"
             ],
             [
              0.2222222222222222,
              "#7201a8"
             ],
             [
              0.3333333333333333,
              "#9c179e"
             ],
             [
              0.4444444444444444,
              "#bd3786"
             ],
             [
              0.5555555555555556,
              "#d8576b"
             ],
             [
              0.6666666666666666,
              "#ed7953"
             ],
             [
              0.7777777777777778,
              "#fb9f3a"
             ],
             [
              0.8888888888888888,
              "#fdca26"
             ],
             [
              1,
              "#f0f921"
             ]
            ],
            "type": "histogram2d"
           }
          ],
          "histogram2dcontour": [
           {
            "colorbar": {
             "outlinewidth": 0,
             "ticks": ""
            },
            "colorscale": [
             [
              0,
              "#0d0887"
             ],
             [
              0.1111111111111111,
              "#46039f"
             ],
             [
              0.2222222222222222,
              "#7201a8"
             ],
             [
              0.3333333333333333,
              "#9c179e"
             ],
             [
              0.4444444444444444,
              "#bd3786"
             ],
             [
              0.5555555555555556,
              "#d8576b"
             ],
             [
              0.6666666666666666,
              "#ed7953"
             ],
             [
              0.7777777777777778,
              "#fb9f3a"
             ],
             [
              0.8888888888888888,
              "#fdca26"
             ],
             [
              1,
              "#f0f921"
             ]
            ],
            "type": "histogram2dcontour"
           }
          ],
          "mesh3d": [
           {
            "colorbar": {
             "outlinewidth": 0,
             "ticks": ""
            },
            "type": "mesh3d"
           }
          ],
          "parcoords": [
           {
            "line": {
             "colorbar": {
              "outlinewidth": 0,
              "ticks": ""
             }
            },
            "type": "parcoords"
           }
          ],
          "pie": [
           {
            "automargin": true,
            "type": "pie"
           }
          ],
          "scatter": [
           {
            "fillpattern": {
             "fillmode": "overlay",
             "size": 10,
             "solidity": 0.2
            },
            "type": "scatter"
           }
          ],
          "scatter3d": [
           {
            "line": {
             "colorbar": {
              "outlinewidth": 0,
              "ticks": ""
             }
            },
            "marker": {
             "colorbar": {
              "outlinewidth": 0,
              "ticks": ""
             }
            },
            "type": "scatter3d"
           }
          ],
          "scattercarpet": [
           {
            "marker": {
             "colorbar": {
              "outlinewidth": 0,
              "ticks": ""
             }
            },
            "type": "scattercarpet"
           }
          ],
          "scattergeo": [
           {
            "marker": {
             "colorbar": {
              "outlinewidth": 0,
              "ticks": ""
             }
            },
            "type": "scattergeo"
           }
          ],
          "scattergl": [
           {
            "marker": {
             "colorbar": {
              "outlinewidth": 0,
              "ticks": ""
             }
            },
            "type": "scattergl"
           }
          ],
          "scattermapbox": [
           {
            "marker": {
             "colorbar": {
              "outlinewidth": 0,
              "ticks": ""
             }
            },
            "type": "scattermapbox"
           }
          ],
          "scatterpolar": [
           {
            "marker": {
             "colorbar": {
              "outlinewidth": 0,
              "ticks": ""
             }
            },
            "type": "scatterpolar"
           }
          ],
          "scatterpolargl": [
           {
            "marker": {
             "colorbar": {
              "outlinewidth": 0,
              "ticks": ""
             }
            },
            "type": "scatterpolargl"
           }
          ],
          "scatterternary": [
           {
            "marker": {
             "colorbar": {
              "outlinewidth": 0,
              "ticks": ""
             }
            },
            "type": "scatterternary"
           }
          ],
          "surface": [
           {
            "colorbar": {
             "outlinewidth": 0,
             "ticks": ""
            },
            "colorscale": [
             [
              0,
              "#0d0887"
             ],
             [
              0.1111111111111111,
              "#46039f"
             ],
             [
              0.2222222222222222,
              "#7201a8"
             ],
             [
              0.3333333333333333,
              "#9c179e"
             ],
             [
              0.4444444444444444,
              "#bd3786"
             ],
             [
              0.5555555555555556,
              "#d8576b"
             ],
             [
              0.6666666666666666,
              "#ed7953"
             ],
             [
              0.7777777777777778,
              "#fb9f3a"
             ],
             [
              0.8888888888888888,
              "#fdca26"
             ],
             [
              1,
              "#f0f921"
             ]
            ],
            "type": "surface"
           }
          ],
          "table": [
           {
            "cells": {
             "fill": {
              "color": "#EBF0F8"
             },
             "line": {
              "color": "white"
             }
            },
            "header": {
             "fill": {
              "color": "#C8D4E3"
             },
             "line": {
              "color": "white"
             }
            },
            "type": "table"
           }
          ]
         },
         "layout": {
          "annotationdefaults": {
           "arrowcolor": "#2a3f5f",
           "arrowhead": 0,
           "arrowwidth": 1
          },
          "autotypenumbers": "strict",
          "coloraxis": {
           "colorbar": {
            "outlinewidth": 0,
            "ticks": ""
           }
          },
          "colorscale": {
           "diverging": [
            [
             0,
             "#8e0152"
            ],
            [
             0.1,
             "#c51b7d"
            ],
            [
             0.2,
             "#de77ae"
            ],
            [
             0.3,
             "#f1b6da"
            ],
            [
             0.4,
             "#fde0ef"
            ],
            [
             0.5,
             "#f7f7f7"
            ],
            [
             0.6,
             "#e6f5d0"
            ],
            [
             0.7,
             "#b8e186"
            ],
            [
             0.8,
             "#7fbc41"
            ],
            [
             0.9,
             "#4d9221"
            ],
            [
             1,
             "#276419"
            ]
           ],
           "sequential": [
            [
             0,
             "#0d0887"
            ],
            [
             0.1111111111111111,
             "#46039f"
            ],
            [
             0.2222222222222222,
             "#7201a8"
            ],
            [
             0.3333333333333333,
             "#9c179e"
            ],
            [
             0.4444444444444444,
             "#bd3786"
            ],
            [
             0.5555555555555556,
             "#d8576b"
            ],
            [
             0.6666666666666666,
             "#ed7953"
            ],
            [
             0.7777777777777778,
             "#fb9f3a"
            ],
            [
             0.8888888888888888,
             "#fdca26"
            ],
            [
             1,
             "#f0f921"
            ]
           ],
           "sequentialminus": [
            [
             0,
             "#0d0887"
            ],
            [
             0.1111111111111111,
             "#46039f"
            ],
            [
             0.2222222222222222,
             "#7201a8"
            ],
            [
             0.3333333333333333,
             "#9c179e"
            ],
            [
             0.4444444444444444,
             "#bd3786"
            ],
            [
             0.5555555555555556,
             "#d8576b"
            ],
            [
             0.6666666666666666,
             "#ed7953"
            ],
            [
             0.7777777777777778,
             "#fb9f3a"
            ],
            [
             0.8888888888888888,
             "#fdca26"
            ],
            [
             1,
             "#f0f921"
            ]
           ]
          },
          "colorway": [
           "#636efa",
           "#EF553B",
           "#00cc96",
           "#ab63fa",
           "#FFA15A",
           "#19d3f3",
           "#FF6692",
           "#B6E880",
           "#FF97FF",
           "#FECB52"
          ],
          "font": {
           "color": "#2a3f5f"
          },
          "geo": {
           "bgcolor": "white",
           "lakecolor": "white",
           "landcolor": "#E5ECF6",
           "showlakes": true,
           "showland": true,
           "subunitcolor": "white"
          },
          "hoverlabel": {
           "align": "left"
          },
          "hovermode": "closest",
          "mapbox": {
           "style": "light"
          },
          "paper_bgcolor": "white",
          "plot_bgcolor": "#E5ECF6",
          "polar": {
           "angularaxis": {
            "gridcolor": "white",
            "linecolor": "white",
            "ticks": ""
           },
           "bgcolor": "#E5ECF6",
           "radialaxis": {
            "gridcolor": "white",
            "linecolor": "white",
            "ticks": ""
           }
          },
          "scene": {
           "xaxis": {
            "backgroundcolor": "#E5ECF6",
            "gridcolor": "white",
            "gridwidth": 2,
            "linecolor": "white",
            "showbackground": true,
            "ticks": "",
            "zerolinecolor": "white"
           },
           "yaxis": {
            "backgroundcolor": "#E5ECF6",
            "gridcolor": "white",
            "gridwidth": 2,
            "linecolor": "white",
            "showbackground": true,
            "ticks": "",
            "zerolinecolor": "white"
           },
           "zaxis": {
            "backgroundcolor": "#E5ECF6",
            "gridcolor": "white",
            "gridwidth": 2,
            "linecolor": "white",
            "showbackground": true,
            "ticks": "",
            "zerolinecolor": "white"
           }
          },
          "shapedefaults": {
           "line": {
            "color": "#2a3f5f"
           }
          },
          "ternary": {
           "aaxis": {
            "gridcolor": "white",
            "linecolor": "white",
            "ticks": ""
           },
           "baxis": {
            "gridcolor": "white",
            "linecolor": "white",
            "ticks": ""
           },
           "bgcolor": "#E5ECF6",
           "caxis": {
            "gridcolor": "white",
            "linecolor": "white",
            "ticks": ""
           }
          },
          "title": {
           "x": 0.05
          },
          "xaxis": {
           "automargin": true,
           "gridcolor": "white",
           "linecolor": "white",
           "ticks": "",
           "title": {
            "standoff": 15
           },
           "zerolinecolor": "white",
           "zerolinewidth": 2
          },
          "yaxis": {
           "automargin": true,
           "gridcolor": "white",
           "linecolor": "white",
           "ticks": "",
           "title": {
            "standoff": 15
           },
           "zerolinecolor": "white",
           "zerolinewidth": 2
          }
         }
        },
        "title": {
         "text": "Energy against valence by target class"
        },
        "xaxis": {
         "anchor": "y",
         "domain": [
          0,
          1
         ],
         "title": {
          "text": "valence"
         }
        },
        "yaxis": {
         "anchor": "x",
         "domain": [
          0,
          1
         ],
         "title": {
          "text": "energy"
         }
        }
       }
      }
     },
     "metadata": {},
     "output_type": "display_data"
    }
   ],
   "source": [
    "fig = px.scatter(song_df, x='valence', y='energy', color='result', title='Energy against valence by target class')\n",
    "fig.show()\n",
    "fig.write_html(\"assets/energy_against_valence_by_target.html\")"
   ]
  },
  {
   "attachments": {},
   "cell_type": "markdown",
   "metadata": {},
   "source": [
    "## Collecting more data ([track audio analysis](https://developer.spotify.com/documentation/web-api/reference/get-audio-analysis)) for Feature Engineering"
   ]
  },
  {
   "cell_type": "code",
   "execution_count": 10,
   "metadata": {},
   "outputs": [
    {
     "name": "stdout",
     "output_type": "stream",
     "text": [
      "Number of new songs since last time: 1\n"
     ]
    }
   ],
   "source": [
    "# Since retrieving track audio analysis takes time, I cached them in a json file\n",
    "\n",
    "# Check for new songs that have been added to the playlists\n",
    "with open(\"data/all_audio_analysis.json\", 'r') as json_file:\n",
    "    all_audio_analysis = json.load(json_file)\n",
    "\n",
    "collected_tracks = all_audio_analysis.keys()\n",
    "new_songs = song_df[~song_df['id'].apply(lambda id: id in collected_tracks)]\n",
    "\n",
    "print(f\"Number of new songs since last time: {len(new_songs)}\")"
   ]
  },
  {
   "cell_type": "code",
   "execution_count": 11,
   "metadata": {},
   "outputs": [
    {
     "name": "stderr",
     "output_type": "stream",
     "text": [
      "HTTP Error for GET to https://api.spotify.com/v1/audio-analysis/5meVa5klVlJalupZTvv5XX with Params: {} returned 404 due to analysis not found\n"
     ]
    },
    {
     "name": "stdout",
     "output_type": "stream",
     "text": [
      "5meVa5klVlJalupZTvv5XX didn't work\n"
     ]
    }
   ],
   "source": [
    "# Retrieve audio_analysis data from Spotify for the new songs and updates the local file\n",
    "\n",
    "new_audio_analysis = {}\n",
    "for id in new_songs['id']:\n",
    "    try:\n",
    "        audio_analysis = sp.audio_analysis(id)\n",
    "        new_audio_analysis[id] = audio_analysis\n",
    "        # To avoid exceeding rate limit\n",
    "        time.sleep(5)\n",
    "    except:\n",
    "        print(f\"{id} didn't work\")\n",
    "\n",
    "all_audio_analysis.update(new_audio_analysis)\n",
    "with open(\"data/all_audio_analysis.json\", \"w\") as outfile:\n",
    "    json.dump(all_audio_analysis, outfile)"
   ]
  },
  {
   "cell_type": "code",
   "execution_count": 9,
   "metadata": {},
   "outputs": [
    {
     "name": "stdout",
     "output_type": "stream",
     "text": [
      "Number of songs in audio analysis: 1337\n"
     ]
    }
   ],
   "source": [
    "# Load the latest version of audio_analysis file\n",
    "\n",
    "with open(\"data/all_audio_analysis.json\", 'r') as json_file:\n",
    "    all_audio_analysis = json.load(json_file)\n",
    "\n",
    "print(f\"Number of songs in audio analysis: {len(all_audio_analysis)}\")"
   ]
  },
  {
   "attachments": {},
   "cell_type": "markdown",
   "metadata": {},
   "source": [
    "## Feature Engineering"
   ]
  },
  {
   "cell_type": "code",
   "execution_count": 10,
   "metadata": {},
   "outputs": [],
   "source": [
    "def get_descriptive_statistics(data):\n",
    "    \"Returns mean, std, median, skewness, kurtosis, and iqr\"\n",
    "\n",
    "    mean, std = np.mean(data), np.std(data)\n",
    "    median = np.median(data)\n",
    "    skewness = scipy.stats.skew(data)\n",
    "    kurtosis = scipy.stats.kurtosis(data, fisher = True, bias = True)\n",
    "    iqr = np.subtract(*np.percentile(data, [75, 25]))\n",
    "\n",
    "    return [mean, std, median, skewness, kurtosis, iqr]\n",
    "\n",
    "\n",
    "def count_local_max(arr):\n",
    "    \"Returns number of local max in arr\"\n",
    "    return len(argrelextrema(np.array(arr), np.greater)[0])\n",
    "\n",
    "\n",
    "def pitches_analysis(audio_info):\n",
    "    \"Returns engineered features from pitches\"\n",
    "\n",
    "    pitches = [info['pitches'] for info in audio_info]\n",
    "    pitches_df = pd.DataFrame(pitches)\n",
    "    mean = pitches_df.mean().values\n",
    "\n",
    "    max_pitch = pitches_df.apply(lambda row: row.idxmax(), axis=1)\n",
    "    pitch_abs_diff = max_pitch.diff().iloc[1:].abs()\n",
    "    pitch_abs_diff_mean = pitch_abs_diff.mean()\n",
    "    pitch_abs_diff_std = pitch_abs_diff.std()\n",
    "\n",
    "    pitches_sum = pitches_df.sum(axis=1)\n",
    "    pitches_sum_mean = pitches_sum.mean()\n",
    "    pitches_sum_std = pitches_sum.std()\n",
    "\n",
    "    result = [list(mean), [pitch_abs_diff_mean, pitch_abs_diff_std, pitches_sum_mean, pitches_sum_std]]\n",
    "    return [element for sublist in result if isinstance(sublist, list) for element in sublist]\n",
    "\n",
    "\n",
    "def timbre_analysis(audio_info):\n",
    "    \"Returns timbre engineered features\"\n",
    "\n",
    "    result_df = pd.DataFrame()\n",
    "\n",
    "    def process_timbre(category, df, result_df):\n",
    "        stats = df.apply(get_descriptive_statistics).transpose()\n",
    "        stats = stats.rename(columns={0:f'{category}_mean', 1:f'{category}_std', \n",
    "                                      2:f'{category}_median', 3:f'{category}_skewness',\n",
    "                                      4:f'{category}_kurtosis', 5:f'{category}_iqr'})\n",
    "        result_df = pd.concat([result_df, stats], axis=1)\n",
    "        return result_df\n",
    "\n",
    "    durations = [d['duration'] for d in audio_info]\n",
    "    timbre = pd.DataFrame([d['timbre'] for d in audio_info])\n",
    "    timbre_diff = timbre.diff()[1:]\n",
    "    timbre_slope = timbre_diff.apply(lambda col: col / durations[:-1])\n",
    "    result_df = process_timbre(\"default\", timbre, result_df)\n",
    "    result_df = process_timbre(\"diff\", timbre_diff, result_df)\n",
    "    result_df = process_timbre(\"slope\", timbre_slope, result_df)\n",
    "\n",
    "    return [element for sublist in result_df.to_numpy() for element in sublist]\n",
    "    \n",
    "\n",
    "def loudness_analysis(audio_info, results):\n",
    "    \"Returns loudness engineered features\"\n",
    "\n",
    "    variables = ['duration', 'loudness_max', 'loudness_start', 'loudness_max_time', 'loudness_end']\n",
    "    for variable in variables:\n",
    "        data = [info[variable] for info in audio_info]\n",
    "        results[variable] = get_descriptive_statistics(data)\n",
    "\n",
    "    loudness_start = [s['loudness_start'] for s in audio_info]\n",
    "    loudness_max = [s['loudness_max'] for s in audio_info]\n",
    "    loudness_gap = np.subtract(loudness_max, loudness_start)\n",
    "\n",
    "    results['loudness_gap'] = [loudness_gap.mean(),\n",
    "                               loudness_gap.sum(),\n",
    "                               loudness_gap.std(),\n",
    "                               len(loudness_gap),\n",
    "                               count_local_max(loudness_gap)]\n",
    "    return results\n",
    "\n",
    "\n",
    "def min_max_timbre_analysis(audio_info):\n",
    "    \"Count the number of times each timbre is max/min in each segment\"\n",
    "\n",
    "    scaler = MinMaxScaler()\n",
    "    # The first value represents the average loudness.\n",
    "    # Thus, I didn't include it when evaluating relative order\n",
    "    scaled_timbre = scaler.fit_transform(pd.DataFrame([s['timbre'][1:] for s in audio_info]))\n",
    "    timbre_min = pd.Series([np.argmin(s) for s in scaled_timbre]).value_counts().sort_index()\n",
    "    timbre_min = timbre_min.reindex(range(11), fill_value=0).values\n",
    "    timbre_max = pd.Series([np.argmax(s) for s in scaled_timbre]).value_counts().sort_index()\n",
    "    timbre_max = timbre_max.reindex(range(11), fill_value=0).values\n",
    "\n",
    "    return np.ravel([timbre_min, timbre_max])\n",
    "\n",
    "\n",
    "def segments_feature_engineering(audio_info):\n",
    "    \"Applying feature engineering to segments in audio analysis\"\n",
    "\n",
    "    results = {}\n",
    "    results = loudness_analysis(audio_info, results)\n",
    "    results['pitches'] = pitches_analysis(audio_info)\n",
    "    results['timbre'] = timbre_analysis(audio_info)\n",
    "    results['timbre_min_max'] = min_max_timbre_analysis(audio_info)\n",
    "\n",
    "    return results"
   ]
  },
  {
   "cell_type": "code",
   "execution_count": 11,
   "metadata": {},
   "outputs": [
    {
     "data": {
      "text/html": [
       "<div>\n",
       "<style scoped>\n",
       "    .dataframe tbody tr th:only-of-type {\n",
       "        vertical-align: middle;\n",
       "    }\n",
       "\n",
       "    .dataframe tbody tr th {\n",
       "        vertical-align: top;\n",
       "    }\n",
       "\n",
       "    .dataframe thead th {\n",
       "        text-align: right;\n",
       "    }\n",
       "</style>\n",
       "<table border=\"1\" class=\"dataframe\">\n",
       "  <thead>\n",
       "    <tr style=\"text-align: right;\">\n",
       "      <th></th>\n",
       "      <th>0</th>\n",
       "      <th>1</th>\n",
       "      <th>2</th>\n",
       "      <th>3</th>\n",
       "      <th>4</th>\n",
       "      <th>5</th>\n",
       "      <th>6</th>\n",
       "      <th>7</th>\n",
       "      <th>8</th>\n",
       "      <th>9</th>\n",
       "      <th>...</th>\n",
       "      <th>t3</th>\n",
       "      <th>t4</th>\n",
       "      <th>t5</th>\n",
       "      <th>t6</th>\n",
       "      <th>t7</th>\n",
       "      <th>t8</th>\n",
       "      <th>t9</th>\n",
       "      <th>t10</th>\n",
       "      <th>t11</th>\n",
       "      <th>t12</th>\n",
       "    </tr>\n",
       "  </thead>\n",
       "  <tbody>\n",
       "    <tr>\n",
       "      <th>1j795THd14Z0PmA3O18EwU</th>\n",
       "      <td>0.262939</td>\n",
       "      <td>0.141034</td>\n",
       "      <td>0.236735</td>\n",
       "      <td>3.589441</td>\n",
       "      <td>35.737605</td>\n",
       "      <td>0.165715</td>\n",
       "      <td>-3.643008</td>\n",
       "      <td>4.463240</td>\n",
       "      <td>-2.5845</td>\n",
       "      <td>-4.137120</td>\n",
       "      <td>...</td>\n",
       "      <td>19.097246</td>\n",
       "      <td>3.538538</td>\n",
       "      <td>33.994054</td>\n",
       "      <td>-18.063890</td>\n",
       "      <td>5.192796</td>\n",
       "      <td>0.070278</td>\n",
       "      <td>-8.601849</td>\n",
       "      <td>-1.257254</td>\n",
       "      <td>-15.284602</td>\n",
       "      <td>-6.575676</td>\n",
       "    </tr>\n",
       "    <tr>\n",
       "      <th>0dbp9YwlGEzXmxavRMgZ4T</th>\n",
       "      <td>0.285615</td>\n",
       "      <td>0.353402</td>\n",
       "      <td>0.226260</td>\n",
       "      <td>15.693871</td>\n",
       "      <td>305.722863</td>\n",
       "      <td>0.197865</td>\n",
       "      <td>-6.377804</td>\n",
       "      <td>4.814194</td>\n",
       "      <td>-5.7380</td>\n",
       "      <td>-2.819362</td>\n",
       "      <td>...</td>\n",
       "      <td>-10.835110</td>\n",
       "      <td>-12.803527</td>\n",
       "      <td>44.731583</td>\n",
       "      <td>-23.603955</td>\n",
       "      <td>-6.890832</td>\n",
       "      <td>-8.515410</td>\n",
       "      <td>-8.584296</td>\n",
       "      <td>2.839271</td>\n",
       "      <td>-13.565092</td>\n",
       "      <td>-6.618102</td>\n",
       "    </tr>\n",
       "    <tr>\n",
       "      <th>4t2FIqZJORKZGSKg30SShr</th>\n",
       "      <td>0.261434</td>\n",
       "      <td>0.150997</td>\n",
       "      <td>0.257370</td>\n",
       "      <td>5.302475</td>\n",
       "      <td>69.113209</td>\n",
       "      <td>0.155508</td>\n",
       "      <td>-8.195253</td>\n",
       "      <td>7.070832</td>\n",
       "      <td>-6.2295</td>\n",
       "      <td>-2.709352</td>\n",
       "      <td>...</td>\n",
       "      <td>-16.106525</td>\n",
       "      <td>1.452910</td>\n",
       "      <td>29.550585</td>\n",
       "      <td>-17.624864</td>\n",
       "      <td>4.026012</td>\n",
       "      <td>3.770445</td>\n",
       "      <td>-7.759859</td>\n",
       "      <td>0.134869</td>\n",
       "      <td>-15.092729</td>\n",
       "      <td>1.647532</td>\n",
       "    </tr>\n",
       "    <tr>\n",
       "      <th>6c6W25YoDGjTq3qSPOga5t</th>\n",
       "      <td>0.206486</td>\n",
       "      <td>0.238060</td>\n",
       "      <td>0.161970</td>\n",
       "      <td>25.423519</td>\n",
       "      <td>765.975913</td>\n",
       "      <td>0.133485</td>\n",
       "      <td>-8.906150</td>\n",
       "      <td>6.631479</td>\n",
       "      <td>-6.9670</td>\n",
       "      <td>-2.468119</td>\n",
       "      <td>...</td>\n",
       "      <td>-33.375089</td>\n",
       "      <td>5.339361</td>\n",
       "      <td>16.213991</td>\n",
       "      <td>-35.592518</td>\n",
       "      <td>3.503689</td>\n",
       "      <td>-8.963015</td>\n",
       "      <td>-11.297226</td>\n",
       "      <td>1.954241</td>\n",
       "      <td>-6.153882</td>\n",
       "      <td>1.620498</td>\n",
       "    </tr>\n",
       "    <tr>\n",
       "      <th>2QhURnm7mQDxBb5jWkbDug</th>\n",
       "      <td>0.301468</td>\n",
       "      <td>0.307902</td>\n",
       "      <td>0.246600</td>\n",
       "      <td>13.001216</td>\n",
       "      <td>226.876425</td>\n",
       "      <td>0.183405</td>\n",
       "      <td>-9.135564</td>\n",
       "      <td>5.833173</td>\n",
       "      <td>-7.9180</td>\n",
       "      <td>-3.527878</td>\n",
       "      <td>...</td>\n",
       "      <td>-10.900524</td>\n",
       "      <td>-12.185980</td>\n",
       "      <td>13.542297</td>\n",
       "      <td>-26.502399</td>\n",
       "      <td>-2.047738</td>\n",
       "      <td>-9.512079</td>\n",
       "      <td>-1.681319</td>\n",
       "      <td>0.473837</td>\n",
       "      <td>-10.338604</td>\n",
       "      <td>-4.943256</td>\n",
       "    </tr>\n",
       "  </tbody>\n",
       "</table>\n",
       "<p>5 rows × 301 columns</p>\n",
       "</div>"
      ],
      "text/plain": [
       "                               0         1         2          3           4  \\\n",
       "1j795THd14Z0PmA3O18EwU  0.262939  0.141034  0.236735   3.589441   35.737605   \n",
       "0dbp9YwlGEzXmxavRMgZ4T  0.285615  0.353402  0.226260  15.693871  305.722863   \n",
       "4t2FIqZJORKZGSKg30SShr  0.261434  0.150997  0.257370   5.302475   69.113209   \n",
       "6c6W25YoDGjTq3qSPOga5t  0.206486  0.238060  0.161970  25.423519  765.975913   \n",
       "2QhURnm7mQDxBb5jWkbDug  0.301468  0.307902  0.246600  13.001216  226.876425   \n",
       "\n",
       "                               5         6         7       8         9  ...  \\\n",
       "1j795THd14Z0PmA3O18EwU  0.165715 -3.643008  4.463240 -2.5845 -4.137120  ...   \n",
       "0dbp9YwlGEzXmxavRMgZ4T  0.197865 -6.377804  4.814194 -5.7380 -2.819362  ...   \n",
       "4t2FIqZJORKZGSKg30SShr  0.155508 -8.195253  7.070832 -6.2295 -2.709352  ...   \n",
       "6c6W25YoDGjTq3qSPOga5t  0.133485 -8.906150  6.631479 -6.9670 -2.468119  ...   \n",
       "2QhURnm7mQDxBb5jWkbDug  0.183405 -9.135564  5.833173 -7.9180 -3.527878  ...   \n",
       "\n",
       "                               t3         t4         t5         t6        t7  \\\n",
       "1j795THd14Z0PmA3O18EwU  19.097246   3.538538  33.994054 -18.063890  5.192796   \n",
       "0dbp9YwlGEzXmxavRMgZ4T -10.835110 -12.803527  44.731583 -23.603955 -6.890832   \n",
       "4t2FIqZJORKZGSKg30SShr -16.106525   1.452910  29.550585 -17.624864  4.026012   \n",
       "6c6W25YoDGjTq3qSPOga5t -33.375089   5.339361  16.213991 -35.592518  3.503689   \n",
       "2QhURnm7mQDxBb5jWkbDug -10.900524 -12.185980  13.542297 -26.502399 -2.047738   \n",
       "\n",
       "                              t8         t9       t10        t11       t12  \n",
       "1j795THd14Z0PmA3O18EwU  0.070278  -8.601849 -1.257254 -15.284602 -6.575676  \n",
       "0dbp9YwlGEzXmxavRMgZ4T -8.515410  -8.584296  2.839271 -13.565092 -6.618102  \n",
       "4t2FIqZJORKZGSKg30SShr  3.770445  -7.759859  0.134869 -15.092729  1.647532  \n",
       "6c6W25YoDGjTq3qSPOga5t -8.963015 -11.297226  1.954241  -6.153882  1.620498  \n",
       "2QhURnm7mQDxBb5jWkbDug -9.512079  -1.681319  0.473837 -10.338604 -4.943256  \n",
       "\n",
       "[5 rows x 301 columns]"
      ]
     },
     "execution_count": 11,
     "metadata": {},
     "output_type": "execute_result"
    }
   ],
   "source": [
    "# Create a dataframe of engineered features\n",
    "\n",
    "audio_analysis_dict, timbre_mean = {}, []\n",
    "for audio_id, audio_analysis in all_audio_analysis.items():\n",
    "    # segments feature engineering\n",
    "    segments = audio_analysis['segments']\n",
    "    desc_stat = segments_feature_engineering(segments)\n",
    "    features = [element for sublist in desc_stat.values() for element in sublist]\n",
    "    audio_analysis_dict[audio_id] = features\n",
    "\n",
    "    # timbre mean for cosine similarity feature later\n",
    "    timbre_mean.append(np.mean([s['timbre'] for s in segments], axis=0))\n",
    "\n",
    "# Combining the two\n",
    "fe_df = pd.DataFrame(audio_analysis_dict).transpose()\n",
    "timbre_vector = pd.DataFrame(timbre_mean)\n",
    "timbre_vector.columns = ['t1', 't2', 't3', 't4', 't5', 't6', 't7', 't8', 't9', 't10', 't11', 't12']\n",
    "timbre_vector.index = fe_df.index\n",
    "fe_df = fe_df.merge(timbre_vector, left_index=True, right_index=True)\n",
    "\n",
    "fe_df.head(5)"
   ]
  },
  {
   "cell_type": "code",
   "execution_count": 118,
   "metadata": {},
   "outputs": [],
   "source": [
    "# combined track audio features with engineered features from track audio analysis\n",
    "\n",
    "train = song_df.merge(fe_df, how='inner', left_on='id', right_index=True)\n",
    "train = train.drop(columns=['uri', 'track_href', 'analysis_url', 'type'])\n",
    "train = train.set_index('id')\n",
    "train['result'] = train['result'].replace({\"Workout\": 2,\n",
    "                                           \"Nonworkout\": 1,\n",
    "                                           \"Dislike\": 0})\n",
    "\n",
    "train.to_csv('data/train.csv')"
   ]
  },
  {
   "cell_type": "code",
   "execution_count": 10,
   "metadata": {},
   "outputs": [
    {
     "data": {
      "text/html": [
       "<div>\n",
       "<style scoped>\n",
       "    .dataframe tbody tr th:only-of-type {\n",
       "        vertical-align: middle;\n",
       "    }\n",
       "\n",
       "    .dataframe tbody tr th {\n",
       "        vertical-align: top;\n",
       "    }\n",
       "\n",
       "    .dataframe thead th {\n",
       "        text-align: right;\n",
       "    }\n",
       "</style>\n",
       "<table border=\"1\" class=\"dataframe\">\n",
       "  <thead>\n",
       "    <tr style=\"text-align: right;\">\n",
       "      <th></th>\n",
       "      <th>id</th>\n",
       "      <th>danceability</th>\n",
       "      <th>energy</th>\n",
       "      <th>key</th>\n",
       "      <th>loudness</th>\n",
       "      <th>mode</th>\n",
       "      <th>speechiness</th>\n",
       "      <th>acousticness</th>\n",
       "      <th>instrumentalness</th>\n",
       "      <th>liveness</th>\n",
       "      <th>...</th>\n",
       "      <th>t3</th>\n",
       "      <th>t4</th>\n",
       "      <th>t5</th>\n",
       "      <th>t6</th>\n",
       "      <th>t7</th>\n",
       "      <th>t8</th>\n",
       "      <th>t9</th>\n",
       "      <th>t10</th>\n",
       "      <th>t11</th>\n",
       "      <th>t12</th>\n",
       "    </tr>\n",
       "  </thead>\n",
       "  <tbody>\n",
       "    <tr>\n",
       "      <th>0</th>\n",
       "      <td>0IGUXY4JbK18bu9oD4mPIm</td>\n",
       "      <td>0.755</td>\n",
       "      <td>0.870</td>\n",
       "      <td>1</td>\n",
       "      <td>-2.414</td>\n",
       "      <td>0</td>\n",
       "      <td>0.0936</td>\n",
       "      <td>0.00988</td>\n",
       "      <td>0.000000</td>\n",
       "      <td>0.0917</td>\n",
       "      <td>...</td>\n",
       "      <td>0.095460</td>\n",
       "      <td>-1.386235</td>\n",
       "      <td>17.568945</td>\n",
       "      <td>-17.985553</td>\n",
       "      <td>15.449831</td>\n",
       "      <td>3.269331</td>\n",
       "      <td>-15.614791</td>\n",
       "      <td>-2.964220</td>\n",
       "      <td>-15.069372</td>\n",
       "      <td>-0.568854</td>\n",
       "    </tr>\n",
       "    <tr>\n",
       "      <th>1</th>\n",
       "      <td>2iuZJX9X9P0GKaE93xcPjk</td>\n",
       "      <td>0.748</td>\n",
       "      <td>0.788</td>\n",
       "      <td>1</td>\n",
       "      <td>-7.055</td>\n",
       "      <td>1</td>\n",
       "      <td>0.0334</td>\n",
       "      <td>0.05910</td>\n",
       "      <td>0.000000</td>\n",
       "      <td>0.0863</td>\n",
       "      <td>...</td>\n",
       "      <td>-6.155959</td>\n",
       "      <td>-9.528637</td>\n",
       "      <td>24.578903</td>\n",
       "      <td>-18.166317</td>\n",
       "      <td>-11.814103</td>\n",
       "      <td>-0.269823</td>\n",
       "      <td>-2.291964</td>\n",
       "      <td>-4.685131</td>\n",
       "      <td>-9.972947</td>\n",
       "      <td>-3.879883</td>\n",
       "    </tr>\n",
       "    <tr>\n",
       "      <th>2</th>\n",
       "      <td>5qII2n90lVdPDcgXEEVHNy</td>\n",
       "      <td>0.608</td>\n",
       "      <td>0.768</td>\n",
       "      <td>0</td>\n",
       "      <td>-5.227</td>\n",
       "      <td>1</td>\n",
       "      <td>0.0475</td>\n",
       "      <td>0.09130</td>\n",
       "      <td>0.000000</td>\n",
       "      <td>0.0629</td>\n",
       "      <td>...</td>\n",
       "      <td>-0.892693</td>\n",
       "      <td>-2.473424</td>\n",
       "      <td>31.609930</td>\n",
       "      <td>-29.042121</td>\n",
       "      <td>2.096781</td>\n",
       "      <td>1.954543</td>\n",
       "      <td>-7.705413</td>\n",
       "      <td>0.504072</td>\n",
       "      <td>-9.815547</td>\n",
       "      <td>-2.803126</td>\n",
       "    </tr>\n",
       "    <tr>\n",
       "      <th>3</th>\n",
       "      <td>6ECp64rv50XVz93WvxXMGF</td>\n",
       "      <td>0.712</td>\n",
       "      <td>0.862</td>\n",
       "      <td>5</td>\n",
       "      <td>-4.612</td>\n",
       "      <td>0</td>\n",
       "      <td>0.0378</td>\n",
       "      <td>0.05250</td>\n",
       "      <td>0.000000</td>\n",
       "      <td>0.0930</td>\n",
       "      <td>...</td>\n",
       "      <td>16.693165</td>\n",
       "      <td>5.383770</td>\n",
       "      <td>31.743560</td>\n",
       "      <td>-21.515310</td>\n",
       "      <td>10.641415</td>\n",
       "      <td>3.251914</td>\n",
       "      <td>-7.824435</td>\n",
       "      <td>2.830839</td>\n",
       "      <td>-10.620220</td>\n",
       "      <td>-10.052625</td>\n",
       "    </tr>\n",
       "    <tr>\n",
       "      <th>4</th>\n",
       "      <td>6NnCWIWV740gP7DQ8kqdIE</td>\n",
       "      <td>0.726</td>\n",
       "      <td>0.910</td>\n",
       "      <td>4</td>\n",
       "      <td>-1.948</td>\n",
       "      <td>0</td>\n",
       "      <td>0.1790</td>\n",
       "      <td>0.04130</td>\n",
       "      <td>0.000008</td>\n",
       "      <td>0.4790</td>\n",
       "      <td>...</td>\n",
       "      <td>8.172904</td>\n",
       "      <td>5.951291</td>\n",
       "      <td>27.552778</td>\n",
       "      <td>-21.221918</td>\n",
       "      <td>19.413309</td>\n",
       "      <td>-0.647864</td>\n",
       "      <td>-11.209643</td>\n",
       "      <td>4.264785</td>\n",
       "      <td>-14.905512</td>\n",
       "      <td>0.921164</td>\n",
       "    </tr>\n",
       "  </tbody>\n",
       "</table>\n",
       "<p>5 rows × 316 columns</p>\n",
       "</div>"
      ],
      "text/plain": [
       "                       id  danceability  energy  key  loudness  mode  \\\n",
       "0  0IGUXY4JbK18bu9oD4mPIm         0.755   0.870    1    -2.414     0   \n",
       "1  2iuZJX9X9P0GKaE93xcPjk         0.748   0.788    1    -7.055     1   \n",
       "2  5qII2n90lVdPDcgXEEVHNy         0.608   0.768    0    -5.227     1   \n",
       "3  6ECp64rv50XVz93WvxXMGF         0.712   0.862    5    -4.612     0   \n",
       "4  6NnCWIWV740gP7DQ8kqdIE         0.726   0.910    4    -1.948     0   \n",
       "\n",
       "   speechiness  acousticness  instrumentalness  liveness  ...         t3  \\\n",
       "0       0.0936       0.00988          0.000000    0.0917  ...   0.095460   \n",
       "1       0.0334       0.05910          0.000000    0.0863  ...  -6.155959   \n",
       "2       0.0475       0.09130          0.000000    0.0629  ...  -0.892693   \n",
       "3       0.0378       0.05250          0.000000    0.0930  ...  16.693165   \n",
       "4       0.1790       0.04130          0.000008    0.4790  ...   8.172904   \n",
       "\n",
       "         t4         t5         t6         t7        t8         t9       t10  \\\n",
       "0 -1.386235  17.568945 -17.985553  15.449831  3.269331 -15.614791 -2.964220   \n",
       "1 -9.528637  24.578903 -18.166317 -11.814103 -0.269823  -2.291964 -4.685131   \n",
       "2 -2.473424  31.609930 -29.042121   2.096781  1.954543  -7.705413  0.504072   \n",
       "3  5.383770  31.743560 -21.515310  10.641415  3.251914  -7.824435  2.830839   \n",
       "4  5.951291  27.552778 -21.221918  19.413309 -0.647864 -11.209643  4.264785   \n",
       "\n",
       "         t11        t12  \n",
       "0 -15.069372  -0.568854  \n",
       "1  -9.972947  -3.879883  \n",
       "2  -9.815547  -2.803126  \n",
       "3 -10.620220 -10.052625  \n",
       "4 -14.905512   0.921164  \n",
       "\n",
       "[5 rows x 316 columns]"
      ]
     },
     "execution_count": 10,
     "metadata": {},
     "output_type": "execute_result"
    }
   ],
   "source": [
    "train = pd.read_csv('data/train.csv')\n",
    "train.head(5)"
   ]
  },
  {
   "cell_type": "code",
   "execution_count": 11,
   "metadata": {},
   "outputs": [],
   "source": [
    "def cosine_similarity_features(df, timbre, vectors):\n",
    "    # contains which class is the most similar\n",
    "    cosine_similarity_result = []\n",
    "    # contains raw similarity value for all classes\n",
    "    cosine_similarity_raw_result = []\n",
    "\n",
    "    # Calculate how much each song mean timbre values are similar to each class\n",
    "    for _, row in df[timbre].iterrows():\n",
    "        result = []\n",
    "        for vector in vectors:\n",
    "            result.append(cosine_similarity([row.values], [vector])[0][0])\n",
    "        cosine_similarity_raw_result.append(result)\n",
    "        cosine_similarity_result.append(np.argmax(result))\n",
    "\n",
    "    # Combine results into a dataframe\n",
    "    cosine_result = pd.concat([pd.DataFrame(cosine_similarity_raw_result), pd.DataFrame(cosine_similarity_result)], axis=1)\n",
    "    cosine_result.columns = ['vec1', 'vec2', 'vec3', 'vec_argmax']\n",
    "    cosine_result['vec_argmax'] = cosine_result['vec_argmax'].astype('category')\n",
    "    cosine_result.index = df.index\n",
    "\n",
    "    return pd.concat([df, cosine_result], axis=1)\n",
    "\n",
    "\n",
    "def process(df, timbre, vectors, categorical_cols):\n",
    "    \"Add cosine similarity features and apply one hot encoding\"\n",
    "    df = cosine_similarity_features(df, timbre, vectors)\n",
    "    df = pd.get_dummies(df, columns=categorical_cols, drop_first=True)\n",
    "    return df\n",
    "\n",
    "\n",
    "def split_to_train_test(df):\n",
    "    # Split df into train/test\n",
    "    X = df.drop(columns=['result'])\n",
    "    y = df['result']\n",
    "    X_train, X_test, y_train, y_test = train_test_split(X,\n",
    "                                                        y,\n",
    "                                                        stratify=y,\n",
    "                                                        shuffle=True,\n",
    "                                                        test_size=0.2,\n",
    "                                                        random_state=42)\n",
    "\n",
    "    # Calculating mean timbre vector for each class in the training set\n",
    "    vectors, timbre = [], [f't{i}' for i in range(1,13)]\n",
    "    for i in range(3):\n",
    "        vectors.append(X_train.loc[y_train[y_train==i].index][timbre].mean().values)\n",
    "    X_train = process(X_train, timbre, vectors, ['key', 'mode', 'vec_argmax', 'time_signature'])\n",
    "    X_test = process(X_test, timbre, vectors, ['key', 'mode', 'vec_argmax', 'time_signature'])\n",
    "    X = process(X, timbre, vectors, ['key', 'mode', 'vec_argmax', 'time_signature'])\n",
    "\n",
    "    return X_train, y_train, X_test, y_test, X, y"
   ]
  },
  {
   "cell_type": "code",
   "execution_count": 12,
   "metadata": {},
   "outputs": [],
   "source": [
    "X_train, y_train, X_test, y_test, X, y = split_to_train_test(train)"
   ]
  },
  {
   "cell_type": "code",
   "execution_count": 13,
   "metadata": {},
   "outputs": [],
   "source": [
    "X_train = X_train.set_index('id')\n",
    "X_test = X_test.set_index('id')\n",
    "X = X.set_index('id')\n",
    "\n",
    "y_train.index = X_train.index\n",
    "y_test.index = X_test.index\n",
    "y.index = X.index"
   ]
  },
  {
   "cell_type": "code",
   "execution_count": 14,
   "metadata": {},
   "outputs": [
    {
     "data": {
      "text/html": [
       "<div>\n",
       "<style scoped>\n",
       "    .dataframe tbody tr th:only-of-type {\n",
       "        vertical-align: middle;\n",
       "    }\n",
       "\n",
       "    .dataframe tbody tr th {\n",
       "        vertical-align: top;\n",
       "    }\n",
       "\n",
       "    .dataframe thead th {\n",
       "        text-align: right;\n",
       "    }\n",
       "</style>\n",
       "<table border=\"1\" class=\"dataframe\">\n",
       "  <thead>\n",
       "    <tr style=\"text-align: right;\">\n",
       "      <th></th>\n",
       "      <th>danceability</th>\n",
       "      <th>energy</th>\n",
       "      <th>loudness</th>\n",
       "      <th>speechiness</th>\n",
       "      <th>acousticness</th>\n",
       "      <th>instrumentalness</th>\n",
       "      <th>liveness</th>\n",
       "      <th>valence</th>\n",
       "      <th>tempo</th>\n",
       "      <th>duration_ms</th>\n",
       "      <th>...</th>\n",
       "      <th>key_8</th>\n",
       "      <th>key_9</th>\n",
       "      <th>key_10</th>\n",
       "      <th>key_11</th>\n",
       "      <th>mode_1</th>\n",
       "      <th>vec_argmax_1</th>\n",
       "      <th>vec_argmax_2</th>\n",
       "      <th>time_signature_3</th>\n",
       "      <th>time_signature_4</th>\n",
       "      <th>time_signature_5</th>\n",
       "    </tr>\n",
       "    <tr>\n",
       "      <th>id</th>\n",
       "      <th></th>\n",
       "      <th></th>\n",
       "      <th></th>\n",
       "      <th></th>\n",
       "      <th></th>\n",
       "      <th></th>\n",
       "      <th></th>\n",
       "      <th></th>\n",
       "      <th></th>\n",
       "      <th></th>\n",
       "      <th></th>\n",
       "      <th></th>\n",
       "      <th></th>\n",
       "      <th></th>\n",
       "      <th></th>\n",
       "      <th></th>\n",
       "      <th></th>\n",
       "      <th></th>\n",
       "      <th></th>\n",
       "      <th></th>\n",
       "      <th></th>\n",
       "    </tr>\n",
       "  </thead>\n",
       "  <tbody>\n",
       "    <tr>\n",
       "      <th>1Ame8XTX6QHY0l0ahqUhgv</th>\n",
       "      <td>0.519</td>\n",
       "      <td>0.595</td>\n",
       "      <td>-5.001</td>\n",
       "      <td>0.0283</td>\n",
       "      <td>0.00151</td>\n",
       "      <td>0.0</td>\n",
       "      <td>0.0762</td>\n",
       "      <td>0.237</td>\n",
       "      <td>129.786</td>\n",
       "      <td>247067</td>\n",
       "      <td>...</td>\n",
       "      <td>False</td>\n",
       "      <td>False</td>\n",
       "      <td>False</td>\n",
       "      <td>False</td>\n",
       "      <td>True</td>\n",
       "      <td>False</td>\n",
       "      <td>True</td>\n",
       "      <td>False</td>\n",
       "      <td>True</td>\n",
       "      <td>False</td>\n",
       "    </tr>\n",
       "    <tr>\n",
       "      <th>2As91j4G5GKRbx4In7ClyV</th>\n",
       "      <td>0.718</td>\n",
       "      <td>0.619</td>\n",
       "      <td>-6.788</td>\n",
       "      <td>0.0836</td>\n",
       "      <td>0.28600</td>\n",
       "      <td>0.0</td>\n",
       "      <td>0.0869</td>\n",
       "      <td>0.761</td>\n",
       "      <td>90.018</td>\n",
       "      <td>165792</td>\n",
       "      <td>...</td>\n",
       "      <td>False</td>\n",
       "      <td>False</td>\n",
       "      <td>True</td>\n",
       "      <td>False</td>\n",
       "      <td>False</td>\n",
       "      <td>False</td>\n",
       "      <td>False</td>\n",
       "      <td>False</td>\n",
       "      <td>True</td>\n",
       "      <td>False</td>\n",
       "    </tr>\n",
       "    <tr>\n",
       "      <th>0AkxBAeytxcvk6q2fMmFdh</th>\n",
       "      <td>0.490</td>\n",
       "      <td>0.762</td>\n",
       "      <td>-3.410</td>\n",
       "      <td>0.0367</td>\n",
       "      <td>0.00689</td>\n",
       "      <td>0.0</td>\n",
       "      <td>0.0812</td>\n",
       "      <td>0.386</td>\n",
       "      <td>109.761</td>\n",
       "      <td>187960</td>\n",
       "      <td>...</td>\n",
       "      <td>False</td>\n",
       "      <td>False</td>\n",
       "      <td>False</td>\n",
       "      <td>False</td>\n",
       "      <td>True</td>\n",
       "      <td>False</td>\n",
       "      <td>True</td>\n",
       "      <td>False</td>\n",
       "      <td>True</td>\n",
       "      <td>False</td>\n",
       "    </tr>\n",
       "    <tr>\n",
       "      <th>1ossvSyG2Z98nqBijLsDnF</th>\n",
       "      <td>0.719</td>\n",
       "      <td>0.508</td>\n",
       "      <td>-7.504</td>\n",
       "      <td>0.0477</td>\n",
       "      <td>0.33900</td>\n",
       "      <td>0.0</td>\n",
       "      <td>0.0927</td>\n",
       "      <td>0.582</td>\n",
       "      <td>95.015</td>\n",
       "      <td>195799</td>\n",
       "      <td>...</td>\n",
       "      <td>False</td>\n",
       "      <td>False</td>\n",
       "      <td>False</td>\n",
       "      <td>False</td>\n",
       "      <td>True</td>\n",
       "      <td>False</td>\n",
       "      <td>False</td>\n",
       "      <td>False</td>\n",
       "      <td>True</td>\n",
       "      <td>False</td>\n",
       "    </tr>\n",
       "    <tr>\n",
       "      <th>1zzxoZVylsna2BQB65Ppcb</th>\n",
       "      <td>0.761</td>\n",
       "      <td>0.899</td>\n",
       "      <td>-3.090</td>\n",
       "      <td>0.1830</td>\n",
       "      <td>0.01350</td>\n",
       "      <td>0.0</td>\n",
       "      <td>0.0719</td>\n",
       "      <td>0.673</td>\n",
       "      <td>95.027</td>\n",
       "      <td>217587</td>\n",
       "      <td>...</td>\n",
       "      <td>False</td>\n",
       "      <td>False</td>\n",
       "      <td>True</td>\n",
       "      <td>False</td>\n",
       "      <td>False</td>\n",
       "      <td>False</td>\n",
       "      <td>True</td>\n",
       "      <td>False</td>\n",
       "      <td>True</td>\n",
       "      <td>False</td>\n",
       "    </tr>\n",
       "  </tbody>\n",
       "</table>\n",
       "<p>5 rows × 331 columns</p>\n",
       "</div>"
      ],
      "text/plain": [
       "                        danceability  energy  loudness  speechiness  \\\n",
       "id                                                                    \n",
       "1Ame8XTX6QHY0l0ahqUhgv         0.519   0.595    -5.001       0.0283   \n",
       "2As91j4G5GKRbx4In7ClyV         0.718   0.619    -6.788       0.0836   \n",
       "0AkxBAeytxcvk6q2fMmFdh         0.490   0.762    -3.410       0.0367   \n",
       "1ossvSyG2Z98nqBijLsDnF         0.719   0.508    -7.504       0.0477   \n",
       "1zzxoZVylsna2BQB65Ppcb         0.761   0.899    -3.090       0.1830   \n",
       "\n",
       "                        acousticness  instrumentalness  liveness  valence  \\\n",
       "id                                                                          \n",
       "1Ame8XTX6QHY0l0ahqUhgv       0.00151               0.0    0.0762    0.237   \n",
       "2As91j4G5GKRbx4In7ClyV       0.28600               0.0    0.0869    0.761   \n",
       "0AkxBAeytxcvk6q2fMmFdh       0.00689               0.0    0.0812    0.386   \n",
       "1ossvSyG2Z98nqBijLsDnF       0.33900               0.0    0.0927    0.582   \n",
       "1zzxoZVylsna2BQB65Ppcb       0.01350               0.0    0.0719    0.673   \n",
       "\n",
       "                          tempo  duration_ms  ...  key_8  key_9  key_10  \\\n",
       "id                                            ...                         \n",
       "1Ame8XTX6QHY0l0ahqUhgv  129.786       247067  ...  False  False   False   \n",
       "2As91j4G5GKRbx4In7ClyV   90.018       165792  ...  False  False    True   \n",
       "0AkxBAeytxcvk6q2fMmFdh  109.761       187960  ...  False  False   False   \n",
       "1ossvSyG2Z98nqBijLsDnF   95.015       195799  ...  False  False   False   \n",
       "1zzxoZVylsna2BQB65Ppcb   95.027       217587  ...  False  False    True   \n",
       "\n",
       "                        key_11  mode_1  vec_argmax_1  vec_argmax_2  \\\n",
       "id                                                                   \n",
       "1Ame8XTX6QHY0l0ahqUhgv   False    True         False          True   \n",
       "2As91j4G5GKRbx4In7ClyV   False   False         False         False   \n",
       "0AkxBAeytxcvk6q2fMmFdh   False    True         False          True   \n",
       "1ossvSyG2Z98nqBijLsDnF   False    True         False         False   \n",
       "1zzxoZVylsna2BQB65Ppcb   False   False         False          True   \n",
       "\n",
       "                        time_signature_3  time_signature_4  time_signature_5  \n",
       "id                                                                            \n",
       "1Ame8XTX6QHY0l0ahqUhgv             False              True             False  \n",
       "2As91j4G5GKRbx4In7ClyV             False              True             False  \n",
       "0AkxBAeytxcvk6q2fMmFdh             False              True             False  \n",
       "1ossvSyG2Z98nqBijLsDnF             False              True             False  \n",
       "1zzxoZVylsna2BQB65Ppcb             False              True             False  \n",
       "\n",
       "[5 rows x 331 columns]"
      ]
     },
     "execution_count": 14,
     "metadata": {},
     "output_type": "execute_result"
    }
   ],
   "source": [
    "X_test.head(5)"
   ]
  },
  {
   "attachments": {},
   "cell_type": "markdown",
   "metadata": {},
   "source": [
    "## PCA for dimension reduction"
   ]
  },
  {
   "cell_type": "code",
   "execution_count": 15,
   "metadata": {},
   "outputs": [
    {
     "name": "stdout",
     "output_type": "stream",
     "text": [
      "Num of columns after PCA: 114\n"
     ]
    }
   ],
   "source": [
    "scaler = MinMaxScaler()\n",
    "X_train_scaled = scaler.fit_transform(X_train)\n",
    "X_test_scaled = scaler.fit_transform(X_test)\n",
    "X_scaled = scaler.fit_transform(X)\n",
    "\n",
    "# Include components up to 95% variability\n",
    "pca = PCA(n_components=0.95)\n",
    "pca.fit(X_train_scaled)\n",
    "\n",
    "X_train_pca = pca.transform(X_train_scaled)\n",
    "X_test_pca = pca.transform(X_test_scaled)\n",
    "X_pca = pca.transform(X_scaled)\n",
    "\n",
    "print(f'Num of columns after PCA: {X_train_pca.shape[1]}')"
   ]
  },
  {
   "attachments": {},
   "cell_type": "markdown",
   "metadata": {},
   "source": [
    "## LogisticRegression for classification"
   ]
  },
  {
   "cell_type": "code",
   "execution_count": 16,
   "metadata": {},
   "outputs": [
    {
     "name": "stdout",
     "output_type": "stream",
     "text": [
      "The f1 score for the testing data: 0.6816972503451451\n"
     ]
    },
    {
     "data": {
      "text/plain": [
       "array([[15, 15, 10],\n",
       "       [11, 66,  3],\n",
       "       [16, 31, 98]])"
      ]
     },
     "execution_count": 16,
     "metadata": {},
     "output_type": "execute_result"
    }
   ],
   "source": [
    "lr = LogisticRegression(solver='newton-cg', class_weight='balanced', max_iter=1000)\n",
    "lr.fit(X_train_pca, y_train)\n",
    "pred_test = lr.predict(X_test_pca)\n",
    "\n",
    "# Calculating and printing the f1 score \n",
    "f1_test = f1_score(y_test, pred_test, average='weighted')\n",
    "print('The f1 score for the testing data:', f1_test)\n",
    "\n",
    "# Ploting the confusion matrix\n",
    "confusion_matrix(y_test, pred_test)"
   ]
  },
  {
   "cell_type": "code",
   "execution_count": 17,
   "metadata": {},
   "outputs": [
    {
     "data": {
      "text/plain": [
       "3.5135135135135136"
      ]
     },
     "execution_count": 17,
     "metadata": {},
     "output_type": "execute_result"
    }
   ],
   "source": [
    "# If I listen to 30 songs, on average, 3.5 songs are not from the Workout class\n",
    "13/(13+98)*30"
   ]
  },
  {
   "cell_type": "code",
   "execution_count": 18,
   "metadata": {},
   "outputs": [
    {
     "data": {
      "text/html": [
       "<div>\n",
       "<style scoped>\n",
       "    .dataframe tbody tr th:only-of-type {\n",
       "        vertical-align: middle;\n",
       "    }\n",
       "\n",
       "    .dataframe tbody tr th {\n",
       "        vertical-align: top;\n",
       "    }\n",
       "\n",
       "    .dataframe thead th {\n",
       "        text-align: right;\n",
       "    }\n",
       "</style>\n",
       "<table border=\"1\" class=\"dataframe\">\n",
       "  <thead>\n",
       "    <tr style=\"text-align: right;\">\n",
       "      <th></th>\n",
       "      <th>id</th>\n",
       "      <th>result</th>\n",
       "      <th>artist</th>\n",
       "      <th>title</th>\n",
       "    </tr>\n",
       "  </thead>\n",
       "  <tbody>\n",
       "    <tr>\n",
       "      <th>463</th>\n",
       "      <td>4qRaZYiaOsSvWC7VgcxrI0</td>\n",
       "      <td>2</td>\n",
       "      <td>Fitz and The Tantrums</td>\n",
       "      <td>HandClap</td>\n",
       "    </tr>\n",
       "    <tr>\n",
       "      <th>1315</th>\n",
       "      <td>0KpAm8TtyHPZmxdPO7npYO</td>\n",
       "      <td>2</td>\n",
       "      <td>david hugo</td>\n",
       "      <td>we made it.</td>\n",
       "    </tr>\n",
       "    <tr>\n",
       "      <th>441</th>\n",
       "      <td>6zpiGeoHYRF5vtrboE3rAC</td>\n",
       "      <td>2</td>\n",
       "      <td>IU</td>\n",
       "      <td>Well… (ROCK VER.)</td>\n",
       "    </tr>\n",
       "    <tr>\n",
       "      <th>295</th>\n",
       "      <td>4QbdGSGyECE7IRtjolOkjO</td>\n",
       "      <td>2</td>\n",
       "      <td>(G)I-DLE</td>\n",
       "      <td>Peter Pan</td>\n",
       "    </tr>\n",
       "    <tr>\n",
       "      <th>723</th>\n",
       "      <td>5HJh0CWM5HBdbPA5pyHoil</td>\n",
       "      <td>2</td>\n",
       "      <td>Ethan Gander</td>\n",
       "      <td>APHRODITE</td>\n",
       "    </tr>\n",
       "    <tr>\n",
       "      <th>273</th>\n",
       "      <td>17SBD4aDKo9ZeahcQJ6j72</td>\n",
       "      <td>2</td>\n",
       "      <td>BTS</td>\n",
       "      <td>24/7=Heaven</td>\n",
       "    </tr>\n",
       "    <tr>\n",
       "      <th>573</th>\n",
       "      <td>2URMA0ap6SAI8wFmcY1yta</td>\n",
       "      <td>2</td>\n",
       "      <td>BLACKPINK</td>\n",
       "      <td>Really</td>\n",
       "    </tr>\n",
       "    <tr>\n",
       "      <th>667</th>\n",
       "      <td>6R1bxs1NBaUj1uDDHLKHXd</td>\n",
       "      <td>2</td>\n",
       "      <td>OH MY GIRL</td>\n",
       "      <td>Queen B</td>\n",
       "    </tr>\n",
       "    <tr>\n",
       "      <th>547</th>\n",
       "      <td>6LXMUR2rpxFBDo6nilS3yX</td>\n",
       "      <td>2</td>\n",
       "      <td>Imagine Dragons</td>\n",
       "      <td>Cool Out</td>\n",
       "    </tr>\n",
       "    <tr>\n",
       "      <th>532</th>\n",
       "      <td>4BYO8KU39k40yaRAwDgyUs</td>\n",
       "      <td>2</td>\n",
       "      <td>Trevor Wesley</td>\n",
       "      <td>Chivalry Is Dead</td>\n",
       "    </tr>\n",
       "    <tr>\n",
       "      <th>310</th>\n",
       "      <td>7kpe2K0hdSssLj4G4YjxdU</td>\n",
       "      <td>2</td>\n",
       "      <td>slchld</td>\n",
       "      <td>camellia</td>\n",
       "    </tr>\n",
       "    <tr>\n",
       "      <th>1302</th>\n",
       "      <td>2V7xR0xTLX7p1g1L6CteYO</td>\n",
       "      <td>2</td>\n",
       "      <td>GIRIBOY</td>\n",
       "      <td>What A Mess</td>\n",
       "    </tr>\n",
       "    <tr>\n",
       "      <th>454</th>\n",
       "      <td>6wiH22zuSkTsck7xjNuQsy</td>\n",
       "      <td>2</td>\n",
       "      <td>N.Flying</td>\n",
       "      <td>Spring Memories</td>\n",
       "    </tr>\n",
       "    <tr>\n",
       "      <th>123</th>\n",
       "      <td>0XrqomLfm7vGmuBtZtfLdl</td>\n",
       "      <td>2</td>\n",
       "      <td>The Astronomers</td>\n",
       "      <td>Bad Type</td>\n",
       "    </tr>\n",
       "    <tr>\n",
       "      <th>479</th>\n",
       "      <td>0ctOamnBE7fk0A3xBAMxTh</td>\n",
       "      <td>2</td>\n",
       "      <td>Meghan Trainor</td>\n",
       "      <td>3am</td>\n",
       "    </tr>\n",
       "    <tr>\n",
       "      <th>548</th>\n",
       "      <td>7IDKIfRltN07TdsdTVtRHh</td>\n",
       "      <td>2</td>\n",
       "      <td>CRUISR</td>\n",
       "      <td>All Over</td>\n",
       "    </tr>\n",
       "    <tr>\n",
       "      <th>620</th>\n",
       "      <td>6tVrmsbI5HVDgOlFSTrQjB</td>\n",
       "      <td>2</td>\n",
       "      <td>Maroon 5</td>\n",
       "      <td>Lucky Strike</td>\n",
       "    </tr>\n",
       "    <tr>\n",
       "      <th>37</th>\n",
       "      <td>172fMG26G2OoEzzg0wn26r</td>\n",
       "      <td>2</td>\n",
       "      <td>King Gnu</td>\n",
       "      <td>白日</td>\n",
       "    </tr>\n",
       "    <tr>\n",
       "      <th>109</th>\n",
       "      <td>0eu4C55hL6x29mmeAjytzC</td>\n",
       "      <td>2</td>\n",
       "      <td>Oliver Tree</td>\n",
       "      <td>Life Goes On</td>\n",
       "    </tr>\n",
       "    <tr>\n",
       "      <th>1079</th>\n",
       "      <td>4orHVYvdG5v4G4bmp2Lwdg</td>\n",
       "      <td>2</td>\n",
       "      <td>fun.</td>\n",
       "      <td>Sight of the Sun - Single Version</td>\n",
       "    </tr>\n",
       "    <tr>\n",
       "      <th>488</th>\n",
       "      <td>4ccM2xBxicGigjLqt6A0YY</td>\n",
       "      <td>2</td>\n",
       "      <td>Counting Crows</td>\n",
       "      <td>Accidentally In Love</td>\n",
       "    </tr>\n",
       "    <tr>\n",
       "      <th>388</th>\n",
       "      <td>7g97EfyxPG5XZgYmLig9ML</td>\n",
       "      <td>2</td>\n",
       "      <td>G-DRAGON</td>\n",
       "      <td>That XX</td>\n",
       "    </tr>\n",
       "    <tr>\n",
       "      <th>701</th>\n",
       "      <td>4pt5fDVTg5GhEvEtlz9dKk</td>\n",
       "      <td>2</td>\n",
       "      <td>Måneskin</td>\n",
       "      <td>I WANNA BE YOUR SLAVE</td>\n",
       "    </tr>\n",
       "    <tr>\n",
       "      <th>354</th>\n",
       "      <td>2Xnv3GntqbBH1juvUYSpHG</td>\n",
       "      <td>2</td>\n",
       "      <td>Ava Max</td>\n",
       "      <td>So Am I</td>\n",
       "    </tr>\n",
       "    <tr>\n",
       "      <th>596</th>\n",
       "      <td>5xrtzzzikpG3BLbo4q1Yul</td>\n",
       "      <td>2</td>\n",
       "      <td>IU</td>\n",
       "      <td>LILAC</td>\n",
       "    </tr>\n",
       "    <tr>\n",
       "      <th>110</th>\n",
       "      <td>1k4wylYBDUNTpxi2WuqYol</td>\n",
       "      <td>2</td>\n",
       "      <td>JORDY</td>\n",
       "      <td>I Just Wanna Be Loved</td>\n",
       "    </tr>\n",
       "    <tr>\n",
       "      <th>278</th>\n",
       "      <td>2ezKXygNO30pXyDQXkm6oD</td>\n",
       "      <td>2</td>\n",
       "      <td>(G)I-DLE</td>\n",
       "      <td>LATATA</td>\n",
       "    </tr>\n",
       "    <tr>\n",
       "      <th>54</th>\n",
       "      <td>7GVUmCP00eSsqc4tzj1sDD</td>\n",
       "      <td>2</td>\n",
       "      <td>Redbone</td>\n",
       "      <td>Come and Get Your Love - Single Version</td>\n",
       "    </tr>\n",
       "    <tr>\n",
       "      <th>125</th>\n",
       "      <td>5o792XuwxIxqwr73ZsACfJ</td>\n",
       "      <td>2</td>\n",
       "      <td>Jordy Searcy</td>\n",
       "      <td>Why Can't We Be Friends?</td>\n",
       "    </tr>\n",
       "    <tr>\n",
       "      <th>314</th>\n",
       "      <td>1Cv1YLb4q0RzL6pybtaMLo</td>\n",
       "      <td>2</td>\n",
       "      <td>Surfaces</td>\n",
       "      <td>Sunday Best</td>\n",
       "    </tr>\n",
       "    <tr>\n",
       "      <th>345</th>\n",
       "      <td>41nttXLEzPouvKuXRbjDyq</td>\n",
       "      <td>2</td>\n",
       "      <td>Oasis</td>\n",
       "      <td>Stay Young - Remastered</td>\n",
       "    </tr>\n",
       "    <tr>\n",
       "      <th>476</th>\n",
       "      <td>4CxmynXhw78QefruycvxG8</td>\n",
       "      <td>2</td>\n",
       "      <td>Quinn XCII</td>\n",
       "      <td>Coffee (feat. Marc E. Bassy)</td>\n",
       "    </tr>\n",
       "    <tr>\n",
       "      <th>7</th>\n",
       "      <td>2gYj9lubBorOPIVWsTXugG</td>\n",
       "      <td>2</td>\n",
       "      <td>IVE</td>\n",
       "      <td>After LIKE</td>\n",
       "    </tr>\n",
       "    <tr>\n",
       "      <th>132</th>\n",
       "      <td>2xeB4JvX6zMwmoIAt6DMKA</td>\n",
       "      <td>2</td>\n",
       "      <td>PuffHost</td>\n",
       "      <td>Sabotage</td>\n",
       "    </tr>\n",
       "    <tr>\n",
       "      <th>599</th>\n",
       "      <td>6s44mK59ifnmpcCxLtB934</td>\n",
       "      <td>2</td>\n",
       "      <td>Jessica Mauboy</td>\n",
       "      <td>Sunday</td>\n",
       "    </tr>\n",
       "    <tr>\n",
       "      <th>529</th>\n",
       "      <td>2hHLbkatPwOOmrNxTiD41L</td>\n",
       "      <td>2</td>\n",
       "      <td>Carly Rae Jepsen</td>\n",
       "      <td>I Really Like You</td>\n",
       "    </tr>\n",
       "    <tr>\n",
       "      <th>42</th>\n",
       "      <td>65qh0G7tA1Ox1yYur8wKas</td>\n",
       "      <td>2</td>\n",
       "      <td>PITCHGRIN</td>\n",
       "      <td>TICTOC</td>\n",
       "    </tr>\n",
       "    <tr>\n",
       "      <th>282</th>\n",
       "      <td>0q6boCcLaWYPIy2vOsksFg</td>\n",
       "      <td>2</td>\n",
       "      <td>(G)I-DLE</td>\n",
       "      <td>Senorita</td>\n",
       "    </tr>\n",
       "    <tr>\n",
       "      <th>716</th>\n",
       "      <td>23jHR6RPxvK2w8XHQwrOJb</td>\n",
       "      <td>2</td>\n",
       "      <td>Stan Walker</td>\n",
       "      <td>Take It Easy</td>\n",
       "    </tr>\n",
       "    <tr>\n",
       "      <th>453</th>\n",
       "      <td>1hOEq5q9L41E2YbLhVvW5x</td>\n",
       "      <td>2</td>\n",
       "      <td>CHO JUNG SEOK</td>\n",
       "      <td>Aloha</td>\n",
       "    </tr>\n",
       "  </tbody>\n",
       "</table>\n",
       "</div>"
      ],
      "text/plain": [
       "                          id  result                 artist  \\\n",
       "463   4qRaZYiaOsSvWC7VgcxrI0       2  Fitz and The Tantrums   \n",
       "1315  0KpAm8TtyHPZmxdPO7npYO       2             david hugo   \n",
       "441   6zpiGeoHYRF5vtrboE3rAC       2                     IU   \n",
       "295   4QbdGSGyECE7IRtjolOkjO       2               (G)I-DLE   \n",
       "723   5HJh0CWM5HBdbPA5pyHoil       2           Ethan Gander   \n",
       "273   17SBD4aDKo9ZeahcQJ6j72       2                    BTS   \n",
       "573   2URMA0ap6SAI8wFmcY1yta       2              BLACKPINK   \n",
       "667   6R1bxs1NBaUj1uDDHLKHXd       2             OH MY GIRL   \n",
       "547   6LXMUR2rpxFBDo6nilS3yX       2        Imagine Dragons   \n",
       "532   4BYO8KU39k40yaRAwDgyUs       2          Trevor Wesley   \n",
       "310   7kpe2K0hdSssLj4G4YjxdU       2                 slchld   \n",
       "1302  2V7xR0xTLX7p1g1L6CteYO       2                GIRIBOY   \n",
       "454   6wiH22zuSkTsck7xjNuQsy       2               N.Flying   \n",
       "123   0XrqomLfm7vGmuBtZtfLdl       2        The Astronomers   \n",
       "479   0ctOamnBE7fk0A3xBAMxTh       2         Meghan Trainor   \n",
       "548   7IDKIfRltN07TdsdTVtRHh       2                 CRUISR   \n",
       "620   6tVrmsbI5HVDgOlFSTrQjB       2               Maroon 5   \n",
       "37    172fMG26G2OoEzzg0wn26r       2               King Gnu   \n",
       "109   0eu4C55hL6x29mmeAjytzC       2            Oliver Tree   \n",
       "1079  4orHVYvdG5v4G4bmp2Lwdg       2                   fun.   \n",
       "488   4ccM2xBxicGigjLqt6A0YY       2         Counting Crows   \n",
       "388   7g97EfyxPG5XZgYmLig9ML       2               G-DRAGON   \n",
       "701   4pt5fDVTg5GhEvEtlz9dKk       2               Måneskin   \n",
       "354   2Xnv3GntqbBH1juvUYSpHG       2                Ava Max   \n",
       "596   5xrtzzzikpG3BLbo4q1Yul       2                     IU   \n",
       "110   1k4wylYBDUNTpxi2WuqYol       2                  JORDY   \n",
       "278   2ezKXygNO30pXyDQXkm6oD       2               (G)I-DLE   \n",
       "54    7GVUmCP00eSsqc4tzj1sDD       2                Redbone   \n",
       "125   5o792XuwxIxqwr73ZsACfJ       2           Jordy Searcy   \n",
       "314   1Cv1YLb4q0RzL6pybtaMLo       2               Surfaces   \n",
       "345   41nttXLEzPouvKuXRbjDyq       2                  Oasis   \n",
       "476   4CxmynXhw78QefruycvxG8       2             Quinn XCII   \n",
       "7     2gYj9lubBorOPIVWsTXugG       2                    IVE   \n",
       "132   2xeB4JvX6zMwmoIAt6DMKA       2               PuffHost   \n",
       "599   6s44mK59ifnmpcCxLtB934       2         Jessica Mauboy   \n",
       "529   2hHLbkatPwOOmrNxTiD41L       2       Carly Rae Jepsen   \n",
       "42    65qh0G7tA1Ox1yYur8wKas       2              PITCHGRIN   \n",
       "282   0q6boCcLaWYPIy2vOsksFg       2               (G)I-DLE   \n",
       "716   23jHR6RPxvK2w8XHQwrOJb       2            Stan Walker   \n",
       "453   1hOEq5q9L41E2YbLhVvW5x       2          CHO JUNG SEOK   \n",
       "\n",
       "                                        title  \n",
       "463                                  HandClap  \n",
       "1315                              we made it.  \n",
       "441                         Well… (ROCK VER.)  \n",
       "295                                 Peter Pan  \n",
       "723                                 APHRODITE  \n",
       "273                               24/7=Heaven  \n",
       "573                                    Really  \n",
       "667                                   Queen B  \n",
       "547                                  Cool Out  \n",
       "532                          Chivalry Is Dead  \n",
       "310                                  camellia  \n",
       "1302                              What A Mess  \n",
       "454                           Spring Memories  \n",
       "123                                  Bad Type  \n",
       "479                                       3am  \n",
       "548                                  All Over  \n",
       "620                              Lucky Strike  \n",
       "37                                         白日  \n",
       "109                              Life Goes On  \n",
       "1079        Sight of the Sun - Single Version  \n",
       "488                      Accidentally In Love  \n",
       "388                                   That XX  \n",
       "701                     I WANNA BE YOUR SLAVE  \n",
       "354                                   So Am I  \n",
       "596                                     LILAC  \n",
       "110                     I Just Wanna Be Loved  \n",
       "278                                    LATATA  \n",
       "54    Come and Get Your Love - Single Version  \n",
       "125                  Why Can't We Be Friends?  \n",
       "314                               Sunday Best  \n",
       "345                   Stay Young - Remastered  \n",
       "476              Coffee (feat. Marc E. Bassy)  \n",
       "7                                  After LIKE  \n",
       "132                                  Sabotage  \n",
       "599                                    Sunday  \n",
       "529                         I Really Like You  \n",
       "42                                     TICTOC  \n",
       "282                                  Senorita  \n",
       "716                              Take It Easy  \n",
       "453                                     Aloha  "
      ]
     },
     "execution_count": 18,
     "metadata": {},
     "output_type": "execute_result"
    }
   ],
   "source": [
    "pred = lr.predict(X_pca)\n",
    "output = pd.Series(index=X.index, data=pred)\n",
    "output_with_metainfo = pd.DataFrame(output).merge(song_metainfo_df, left_on='id', right_on='id')\n",
    "output_with_metainfo = output_with_metainfo.rename(columns={0:'result'})\n",
    "workout_output = output_with_metainfo[output_with_metainfo['result']==2].sample(40)\n",
    "workout_output"
   ]
  }
 ],
 "metadata": {
  "kernelspec": {
   "display_name": "song_clf",
   "language": "python",
   "name": "python3"
  },
  "language_info": {
   "codemirror_mode": {
    "name": "ipython",
    "version": 3
   },
   "file_extension": ".py",
   "mimetype": "text/x-python",
   "name": "python",
   "nbconvert_exporter": "python",
   "pygments_lexer": "ipython3",
   "version": "3.8.16"
  },
  "orig_nbformat": 4
 },
 "nbformat": 4,
 "nbformat_minor": 2
}

{
 "cells": [
  {
   "cell_type": "code",
   "execution_count": 1,
   "metadata": {},
   "outputs": [
    {
     "name": "stderr",
     "output_type": "stream",
     "text": [
      "/Users/sanggyuan/miniforge3/envs/rating_pred/lib/python3.8/site-packages/tqdm/auto.py:21: TqdmWarning: IProgress not found. Please update jupyter and ipywidgets. See https://ipywidgets.readthedocs.io/en/stable/user_install.html\n",
      "  from .autonotebook import tqdm as notebook_tqdm\n"
     ]
    }
   ],
   "source": [
    "import sqlite3\n",
    "from keybert import KeyBERT\n",
    "\n",
    "import numpy as np\n",
    "import pandas as pd\n",
    "import nltk\n",
    "\n",
    "from sklearn.model_selection import train_test_split\n",
    "from sklearn.metrics import mean_absolute_error\n",
    "\n",
    "import optuna\n",
    "import lightgbm as lgb\n",
    "from sklearn.model_selection import KFold\n",
    "import spacy"
   ]
  },
  {
   "attachments": {},
   "cell_type": "markdown",
   "metadata": {},
   "source": [
    "### Helper functions to access sql database"
   ]
  },
  {
   "cell_type": "code",
   "execution_count": 2,
   "metadata": {},
   "outputs": [],
   "source": [
    "sqldb_path = 'data/rating_database.db'\n",
    "\n",
    "def insert_into_sql(statement, db_path = sqldb_path):\n",
    "    \"\"\"\n",
    "    Insert or update sql database based on the statement parameter\n",
    "\n",
    "    Parameters\n",
    "    ----------\n",
    "    statement : str\n",
    "        The statement to execute\n",
    "    db_path : str\n",
    "        Path to sqlite database that you want to execute the statements\n",
    "\n",
    "    Returns\n",
    "    -------\n",
    "    None\n",
    "    \"\"\"\n",
    "    \n",
    "    try:\n",
    "        sqliteConnection = sqlite3.connect(db_path)\n",
    "        cursor = sqliteConnection.cursor()\n",
    "        cursor.execute(statement)\n",
    "        sqliteConnection.commit()\n",
    "        cursor.close()\n",
    "    except sqlite3.Error as error:\n",
    "        print(\"Error while connecting to sqlite\", error)\n",
    "\n",
    "\n",
    "def fetch_from_sql(statement, db_path = sqldb_path):\n",
    "    \"\"\"\n",
    "    Fetch from sql database based on the statement parameter\n",
    "\n",
    "    Parameters\n",
    "    ----------\n",
    "    statement : str\n",
    "        The statement to execute\n",
    "    db_path : str\n",
    "        Path to sql database that you want to execute the statements\n",
    "\n",
    "    Returns\n",
    "    -------\n",
    "    fetch_items : list\n",
    "        A list of elements that match the statement from sql database\n",
    "    \"\"\"\n",
    "    \n",
    "    try:\n",
    "        sqliteConnection = sqlite3.connect(db_path)\n",
    "        cursor = sqliteConnection.cursor()\n",
    "        cursor.execute(statement)\n",
    "        fetch_items = cursor.fetchall()\n",
    "        cursor.close()\n",
    "\n",
    "        return fetch_items\n",
    "    except sqlite3.Error as error:\n",
    "        print(\"Error while connecting to sqlite\", error)"
   ]
  },
  {
   "attachments": {},
   "cell_type": "markdown",
   "metadata": {},
   "source": [
    "## First, divide all movies into training and test set"
   ]
  },
  {
   "cell_type": "code",
   "execution_count": 3,
   "metadata": {},
   "outputs": [],
   "source": [
    "all_movie_ids = 'SELECT movie_id FROM Movie'\n",
    "movie_ids = [str(row[0]) for row in fetch_from_sql(all_movie_ids)]\n",
    "\n",
    "np.random.seed(42)\n",
    "train_ids = np.random.choice(movie_ids, size=int(len(movie_ids)*0.8), replace=False)\n",
    "test_ids = list(set(movie_ids).difference(set(train_ids)))"
   ]
  },
  {
   "attachments": {},
   "cell_type": "markdown",
   "metadata": {},
   "source": [
    "## Then, create train and test sets using the ids"
   ]
  },
  {
   "cell_type": "code",
   "execution_count": 4,
   "metadata": {},
   "outputs": [
    {
     "name": "stdout",
     "output_type": "stream",
     "text": [
      "Current unwanted length: 8123\n"
     ]
    }
   ],
   "source": [
    "# Add stopwords and names to unwanted. Names are added because reviews are \n",
    "# likely to have a lot of different actors and actress names in them.\n",
    "unwanted = nltk.corpus.stopwords.words(\"english\")\n",
    "unwanted.extend([w.lower() for w in nltk.corpus.names.words()])\n",
    "print(f'Current unwanted length: {len(unwanted)}')\n",
    "\n",
    "# Loading spacy for lemmatization\n",
    "spacy_tokenization = spacy.load('en_core_web_sm', disable=['parser', 'ner'])\n",
    "\n",
    "def get_data(ids, features):\n",
    "    \"\"\" \n",
    "    Retrives features from Movie table that belongs to given ids.\n",
    "    \"\"\"\n",
    "\n",
    "    ids = [str(one_id) for one_id in ids]\n",
    "    df = pd.DataFrame(fetch_from_sql((\n",
    "            f'SELECT {\", \".join(features)} '\n",
    "            f'FROM Movie WHERE movie_id IN ({\",\".join(ids)})'\n",
    "        )))\n",
    "    df.columns = features\n",
    "\n",
    "    return df\n",
    "\n",
    "\n",
    "def preprocess_data(train_df, test_df):\n",
    "    \"\"\"\n",
    "    Returns train and test df after replacing minor categories in \n",
    "    movie_rating and movie_genres. For movie_rating, a minor category\n",
    "    is when it appears fewer than 20 times in the train_df. For\n",
    "    movie_genres, the threshold is 80. This is an arbitrary choice.\n",
    "    \"\"\"\n",
    "\n",
    "    movie_rating_vc = train_df['movie_rating'].value_counts()\n",
    "    minor_ratings = movie_rating_vc[movie_rating_vc < 20].index\n",
    "    train_df = train_df.replace(minor_ratings, 'etc')\n",
    "    test_df = test_df.replace(minor_ratings, 'etc')\n",
    "\n",
    "    all_genres = train_df[['movie_genre',\n",
    "                           'movie_subgenre',\n",
    "                           'movie_sub2genre']].to_numpy().flatten()\n",
    "    genre_vc = pd.Series(all_genres).value_counts()\n",
    "    exclude_genres = genre_vc[genre_vc < 80].index\n",
    "    train_df = train_df.replace(exclude_genres, 'None')\n",
    "    test_df = test_df.replace(exclude_genres, 'None')\n",
    "\n",
    "    return train_df, test_df\n",
    "\n",
    "\n",
    "def skip_unwanted(pos_tuple):\n",
    "    \"\"\"\n",
    "    Returns a boolean value depending on whether it should skip\n",
    "    a word or not.\n",
    "    \"\"\"\n",
    "\n",
    "    word, tag = pos_tuple\n",
    "    if not word.isalpha() or word in unwanted:\n",
    "        return False\n",
    "    if tag.startswith('NN'):\n",
    "        return False\n",
    "    return True\n",
    "\n",
    "\n",
    "def filter_and_lemmatize(text, nlp=spacy_tokenization):\n",
    "    \"\"\"\n",
    "    Filters unwanted words and lemmatizes words in the \n",
    "    given text using the nlp parameter. The default is \n",
    "    spacy_tokenization.\n",
    "    \"\"\"\n",
    "\n",
    "    text = text.lower()\n",
    "    words = ' '.join([word for word, tag in filter(skip_unwanted, nltk.pos_tag(text.split(' ')))])\n",
    "    nlp.max_length = len(words) + 100\n",
    "    spacy_words = nlp(words)\n",
    "    return ' '.join([token.lemma_ for token in spacy_words])\n",
    "\n",
    "\n",
    "def extract_text_features(df):\n",
    "    \"\"\"\n",
    "    Extract stored critic reviews and text sentiment analysis \n",
    "    result for each movie and store combined reviews and mean \n",
    "    and standard deviation of each sentiment analysis scores \n",
    "    in a dataframe. The scores are negative, neutral, positive, \n",
    "    and compound score. \n",
    "    \"\"\"\n",
    "\n",
    "    text_features = {}\n",
    "    for _, row in df.iterrows():\n",
    "        creviews = pd.DataFrame(fetch_from_sql((\n",
    "                        'SELECT critic_review, neg, neu, pos, compound '\n",
    "                        f'FROM Critics WHERE movie_id == {row[\"movie_id\"]}'\n",
    "                    )))\n",
    "        try:\n",
    "            creviews.columns = ['critic_review', 'neg', 'neu', 'pos', 'compound']\n",
    "            text_features[row['movie_id']] = [' '.join(creviews['critic_review']),\n",
    "                                            creviews['neg'].mean(),\n",
    "                                            creviews['neg'].std(),\n",
    "                                            creviews['neu'].mean(),\n",
    "                                            creviews['neu'].std(),\n",
    "                                            creviews['pos'].mean(),\n",
    "                                            creviews['pos'].std(),\n",
    "                                            creviews['compound'].mean(),\n",
    "                                            creviews['compound'].std()]\n",
    "        except:\n",
    "            continue\n",
    "    text_features_df = pd.DataFrame(text_features).transpose()\n",
    "    text_features_df.columns = ['reviews', 'mean_neg', 'std_neg',\n",
    "                                'mean_neu', 'std_neu', 'mean_pos', 'std_pos',\n",
    "                                'mean_compound', 'std_compound']\n",
    "    \n",
    "    # lemmatize\n",
    "    text_features_df['reviews'] = text_features_df['reviews'].apply(filter_and_lemmatize)\n",
    "\n",
    "    return text_features_df"
   ]
  },
  {
   "cell_type": "code",
   "execution_count": 5,
   "metadata": {},
   "outputs": [],
   "source": [
    "# features to extract from the Movie table\n",
    "features = ['movie_id', 'movie_year', 'movie_critic_rating', 'movie_user_rating',\n",
    "            'movie_genre', 'movie_subgenre', 'movie_sub2genre', 'movie_rating',\n",
    "            'num_critic_pos', 'num_critic_mix', 'num_critic_neg']\n",
    "\n",
    "# get features from the Movie table with train_ids and test_ids\n",
    "train_df = get_data(train_ids, features)\n",
    "test_df = get_data(test_ids, features)\n",
    "\n",
    "# preprocess df and extract text features\n",
    "train_df, test_df = preprocess_data(train_df, test_df)\n",
    "test_text_fea = extract_text_features(test_df)\n",
    "train_text_fea = extract_text_features(train_df)\n",
    "\n",
    "# combine the two dataframes\n",
    "train_df = train_df.merge(train_text_fea, how='inner', left_on='movie_id', right_index=True)\n",
    "test_df = test_df.merge(test_text_fea, how = 'inner', left_on='movie_id', right_index=True)"
   ]
  },
  {
   "attachments": {},
   "cell_type": "markdown",
   "metadata": {},
   "source": [
    "## Keywords extraction using Keybert"
   ]
  },
  {
   "cell_type": "code",
   "execution_count": 6,
   "metadata": {},
   "outputs": [],
   "source": [
    "def extract_keywords(corpora, kw_model):\n",
    "    \"\"\"\n",
    "    For each corpus in corpora, the function extracts 20 \n",
    "    diversified unigram keywords. Then, it returns \n",
    "    them in a list of tuples. Each tuple contains a keyword\n",
    "    and its distance from a corpus.\n",
    "    \"\"\"\n",
    "\n",
    "    result = []\n",
    "    for corpus in corpora:\n",
    "        kw = kw_model.extract_keywords(corpus, \n",
    "                                       keyphrase_ngram_range=(1, 1), \n",
    "                                       stop_words='english',\n",
    "                                       use_maxsum=True,\n",
    "                                       top_n=20)\n",
    "        result.append(kw)\n",
    "\n",
    "    return result"
   ]
  },
  {
   "cell_type": "code",
   "execution_count": 7,
   "metadata": {},
   "outputs": [],
   "source": [
    "# Getting combined lemmatized critic reviews for each user rating\n",
    "corpora = []\n",
    "for rating in np.arange(0.0, 10.1, 0.1):\n",
    "    corpus = ' '.join(train_df[train_df['movie_user_rating'] == np.round(rating, 1)]['reviews'])\n",
    "    corpora.append(corpus)\n",
    "\n",
    "# Extracting 20 unigram keywords using KeyBert\n",
    "# https://github.com/MaartenGr/KeyBERT\n",
    "kw_model = KeyBERT(model='all-MiniLM-L6-v2')\n",
    "keywords = extract_keywords(corpora, kw_model)\n",
    "\n",
    "# only keep keywords that appear more than twice in corpora\n",
    "all_keywords = pd.Series([pair[0] for rating in keywords for pair in rating])\n",
    "all_keywords_vc = all_keywords.value_counts()\n",
    "words_to_care = all_keywords_vc[all_keywords_vc>2].index"
   ]
  },
  {
   "cell_type": "code",
   "execution_count": 8,
   "metadata": {},
   "outputs": [],
   "source": [
    "def category_encoding(df, features, values_to_exclude):\n",
    "    onehot = {}\n",
    "    unique_categories = np.unique(df[features].to_numpy().flatten())\n",
    "    unique_categories = np.delete(unique_categories, np.where(unique_categories == values_to_exclude))\n",
    "    for category in unique_categories:\n",
    "        result = []\n",
    "        for _, row in df[features].iterrows():\n",
    "            result.append(category in row.values)\n",
    "        onehot[category] = result\n",
    "\n",
    "    return pd.DataFrame(onehot).set_index(df['movie_id'])\n",
    "\n",
    "\n",
    "def word_appearance(df, words_to_care, kw_model):\n",
    "    def does_appear(row, word):\n",
    "        try:\n",
    "            return dict(row)[word]\n",
    "        except:\n",
    "            return 0\n",
    "\n",
    "    reviews_keywords = df['reviews'].apply(lambda row: kw_model.extract_keywords(row, \n",
    "                                                        keyphrase_ngram_range=(1, 1), \n",
    "                                                        stop_words='english',\n",
    "                                                        use_maxsum=True,\n",
    "                                                        top_n=20))\n",
    "    result = {}\n",
    "    for word in words_to_care:\n",
    "        result[word] = reviews_keywords.apply(lambda row: does_appear(row, word))\n",
    "\n",
    "    return pd.DataFrame(result).set_index(df['movie_id'])\n",
    "\n",
    "\n",
    "def create_set(df, kw_model, words_to_care):\n",
    "    genre_df = category_encoding(df, ['movie_genre', 'movie_subgenre', 'movie_sub2genre'], 'None')\n",
    "    rating_df = category_encoding(df, ['movie_rating'], 'etc')\n",
    "    word_appearance_df = word_appearance(df, words_to_care, kw_model)\n",
    "\n",
    "    df = df.merge(genre_df, left_on='movie_id', right_index=True)\\\n",
    "           .merge(rating_df, left_on='movie_id', right_index=True)\\\n",
    "           .merge(word_appearance_df, left_on='movie_id', right_index=True)\n",
    "\n",
    "    return df\n",
    "\n",
    "\n",
    "def create_set_tfidf(df, tfidf_df):\n",
    "    genre_df = category_encoding(df, ['movie_genre', 'movie_subgenre', 'movie_sub2genre'], 'None')\n",
    "    rating_df = category_encoding(df, ['movie_rating'], 'etc')\n",
    "\n",
    "    df = df.merge(genre_df, left_on='movie_id', right_index=True)\\\n",
    "           .merge(rating_df, left_on='movie_id', right_index=True)\\\n",
    "           .merge(tfidf_df, left_on='movie_id', right_index=True)\n",
    "    \n",
    "    # convert values retrieved from sql database into float\n",
    "    obj_cols = ['mean_neg', 'std_neg', 'mean_neu', 'std_neu',\n",
    "                'mean_pos', 'std_pos', 'mean_compound', 'std_compound']\n",
    "    df[obj_cols] = df[obj_cols].apply(pd.to_numeric)\n",
    "\n",
    "    # drop already processed columns\n",
    "    columns_to_drop = ['movie_id', 'reviews', 'movie_genre', \n",
    "                        'movie_subgenre', 'movie_sub2genre', \n",
    "                        'movie_rating']\n",
    "    df = df.drop(columns_to_drop, axis=1)\n",
    "\n",
    "    return df"
   ]
  },
  {
   "cell_type": "code",
   "execution_count": 9,
   "metadata": {},
   "outputs": [],
   "source": [
    "train_final_df = create_set(train_df, kw_model, words_to_care)\n",
    "test_final_df = create_set(test_df, kw_model, words_to_care)\n",
    "test_final_df = test_final_df.drop(['Reality-TV'], axis=1)"
   ]
  },
  {
   "cell_type": "code",
   "execution_count": 10,
   "metadata": {},
   "outputs": [
    {
     "data": {
      "text/html": [
       "<div>\n",
       "<style scoped>\n",
       "    .dataframe tbody tr th:only-of-type {\n",
       "        vertical-align: middle;\n",
       "    }\n",
       "\n",
       "    .dataframe tbody tr th {\n",
       "        vertical-align: top;\n",
       "    }\n",
       "\n",
       "    .dataframe thead th {\n",
       "        text-align: right;\n",
       "    }\n",
       "</style>\n",
       "<table border=\"1\" class=\"dataframe\">\n",
       "  <thead>\n",
       "    <tr style=\"text-align: right;\">\n",
       "      <th></th>\n",
       "      <th>movie_year</th>\n",
       "      <th>movie_critic_rating</th>\n",
       "      <th>movie_user_rating</th>\n",
       "      <th>num_critic_pos</th>\n",
       "      <th>num_critic_mix</th>\n",
       "      <th>num_critic_neg</th>\n",
       "      <th>mean_neg</th>\n",
       "      <th>std_neg</th>\n",
       "      <th>mean_neu</th>\n",
       "      <th>std_neu</th>\n",
       "      <th>...</th>\n",
       "      <th>weary</th>\n",
       "      <th>lackluster</th>\n",
       "      <th>meticulous</th>\n",
       "      <th>superficial</th>\n",
       "      <th>imaginative</th>\n",
       "      <th>extraordinary</th>\n",
       "      <th>meaningful</th>\n",
       "      <th>seductive</th>\n",
       "      <th>dullish</th>\n",
       "      <th>rambunctious</th>\n",
       "    </tr>\n",
       "  </thead>\n",
       "  <tbody>\n",
       "    <tr>\n",
       "      <th>0</th>\n",
       "      <td>2014</td>\n",
       "      <td>57.0</td>\n",
       "      <td>7.4</td>\n",
       "      <td>4</td>\n",
       "      <td>10</td>\n",
       "      <td>0</td>\n",
       "      <td>0.171714</td>\n",
       "      <td>0.100430</td>\n",
       "      <td>0.689357</td>\n",
       "      <td>0.151849</td>\n",
       "      <td>...</td>\n",
       "      <td>0.0</td>\n",
       "      <td>0.0</td>\n",
       "      <td>0.0</td>\n",
       "      <td>0.0</td>\n",
       "      <td>0.0</td>\n",
       "      <td>0.0</td>\n",
       "      <td>0.0</td>\n",
       "      <td>0.0</td>\n",
       "      <td>0.0</td>\n",
       "      <td>0.0</td>\n",
       "    </tr>\n",
       "    <tr>\n",
       "      <th>1</th>\n",
       "      <td>2006</td>\n",
       "      <td>61.0</td>\n",
       "      <td>8.1</td>\n",
       "      <td>5</td>\n",
       "      <td>2</td>\n",
       "      <td>1</td>\n",
       "      <td>0.221500</td>\n",
       "      <td>0.192903</td>\n",
       "      <td>0.680250</td>\n",
       "      <td>0.167403</td>\n",
       "      <td>...</td>\n",
       "      <td>0.0</td>\n",
       "      <td>0.0</td>\n",
       "      <td>0.0</td>\n",
       "      <td>0.0</td>\n",
       "      <td>0.0</td>\n",
       "      <td>0.0</td>\n",
       "      <td>0.0</td>\n",
       "      <td>0.0</td>\n",
       "      <td>0.0</td>\n",
       "      <td>0.0</td>\n",
       "    </tr>\n",
       "    <tr>\n",
       "      <th>2</th>\n",
       "      <td>2009</td>\n",
       "      <td>31.0</td>\n",
       "      <td>5.7</td>\n",
       "      <td>2</td>\n",
       "      <td>7</td>\n",
       "      <td>9</td>\n",
       "      <td>0.104111</td>\n",
       "      <td>0.110915</td>\n",
       "      <td>0.723222</td>\n",
       "      <td>0.152855</td>\n",
       "      <td>...</td>\n",
       "      <td>0.0</td>\n",
       "      <td>0.0</td>\n",
       "      <td>0.0</td>\n",
       "      <td>0.0</td>\n",
       "      <td>0.0</td>\n",
       "      <td>0.0</td>\n",
       "      <td>0.0</td>\n",
       "      <td>0.0</td>\n",
       "      <td>0.0</td>\n",
       "      <td>0.0</td>\n",
       "    </tr>\n",
       "  </tbody>\n",
       "</table>\n",
       "<p>3 rows × 197 columns</p>\n",
       "</div>"
      ],
      "text/plain": [
       "   movie_year  movie_critic_rating  movie_user_rating  num_critic_pos  \\\n",
       "0        2014                 57.0                7.4               4   \n",
       "1        2006                 61.0                8.1               5   \n",
       "2        2009                 31.0                5.7               2   \n",
       "\n",
       "   num_critic_mix  num_critic_neg  mean_neg   std_neg  mean_neu   std_neu  \\\n",
       "0              10               0  0.171714  0.100430  0.689357  0.151849   \n",
       "1               2               1  0.221500  0.192903  0.680250  0.167403   \n",
       "2               7               9  0.104111  0.110915  0.723222  0.152855   \n",
       "\n",
       "   ...  weary  lackluster  meticulous  superficial  imaginative  \\\n",
       "0  ...    0.0         0.0         0.0          0.0          0.0   \n",
       "1  ...    0.0         0.0         0.0          0.0          0.0   \n",
       "2  ...    0.0         0.0         0.0          0.0          0.0   \n",
       "\n",
       "   extraordinary  meaningful  seductive  dullish  rambunctious  \n",
       "0            0.0         0.0        0.0      0.0           0.0  \n",
       "1            0.0         0.0        0.0      0.0           0.0  \n",
       "2            0.0         0.0        0.0      0.0           0.0  \n",
       "\n",
       "[3 rows x 197 columns]"
      ]
     },
     "execution_count": 10,
     "metadata": {},
     "output_type": "execute_result"
    }
   ],
   "source": [
    "train_final_df.head(3)"
   ]
  },
  {
   "cell_type": "code",
   "execution_count": 11,
   "metadata": {},
   "outputs": [
    {
     "data": {
      "text/html": [
       "<div>\n",
       "<style scoped>\n",
       "    .dataframe tbody tr th:only-of-type {\n",
       "        vertical-align: middle;\n",
       "    }\n",
       "\n",
       "    .dataframe tbody tr th {\n",
       "        vertical-align: top;\n",
       "    }\n",
       "\n",
       "    .dataframe thead th {\n",
       "        text-align: right;\n",
       "    }\n",
       "</style>\n",
       "<table border=\"1\" class=\"dataframe\">\n",
       "  <thead>\n",
       "    <tr style=\"text-align: right;\">\n",
       "      <th></th>\n",
       "      <th>movie_year</th>\n",
       "      <th>movie_critic_rating</th>\n",
       "      <th>movie_user_rating</th>\n",
       "      <th>num_critic_pos</th>\n",
       "      <th>num_critic_mix</th>\n",
       "      <th>num_critic_neg</th>\n",
       "      <th>mean_neg</th>\n",
       "      <th>std_neg</th>\n",
       "      <th>mean_neu</th>\n",
       "      <th>std_neu</th>\n",
       "      <th>...</th>\n",
       "      <th>weary</th>\n",
       "      <th>lackluster</th>\n",
       "      <th>meticulous</th>\n",
       "      <th>superficial</th>\n",
       "      <th>imaginative</th>\n",
       "      <th>extraordinary</th>\n",
       "      <th>meaningful</th>\n",
       "      <th>seductive</th>\n",
       "      <th>dullish</th>\n",
       "      <th>rambunctious</th>\n",
       "    </tr>\n",
       "  </thead>\n",
       "  <tbody>\n",
       "    <tr>\n",
       "      <th>0</th>\n",
       "      <td>1950</td>\n",
       "      <td>74.0</td>\n",
       "      <td>7.8</td>\n",
       "      <td>11</td>\n",
       "      <td>3</td>\n",
       "      <td>0</td>\n",
       "      <td>0.144455</td>\n",
       "      <td>0.160569</td>\n",
       "      <td>0.711091</td>\n",
       "      <td>0.206610</td>\n",
       "      <td>...</td>\n",
       "      <td>0.0</td>\n",
       "      <td>0.0</td>\n",
       "      <td>0.0</td>\n",
       "      <td>0.0</td>\n",
       "      <td>0.0</td>\n",
       "      <td>0.0</td>\n",
       "      <td>0.0</td>\n",
       "      <td>0.0</td>\n",
       "      <td>0.0</td>\n",
       "      <td>0.0</td>\n",
       "    </tr>\n",
       "    <tr>\n",
       "      <th>1</th>\n",
       "      <td>2022</td>\n",
       "      <td>45.0</td>\n",
       "      <td>6.2</td>\n",
       "      <td>7</td>\n",
       "      <td>33</td>\n",
       "      <td>4</td>\n",
       "      <td>0.070932</td>\n",
       "      <td>0.097436</td>\n",
       "      <td>0.800568</td>\n",
       "      <td>0.128292</td>\n",
       "      <td>...</td>\n",
       "      <td>0.0</td>\n",
       "      <td>0.0</td>\n",
       "      <td>0.0</td>\n",
       "      <td>0.0</td>\n",
       "      <td>0.0</td>\n",
       "      <td>0.0</td>\n",
       "      <td>0.0</td>\n",
       "      <td>0.0</td>\n",
       "      <td>0.0</td>\n",
       "      <td>0.0</td>\n",
       "    </tr>\n",
       "    <tr>\n",
       "      <th>2</th>\n",
       "      <td>2019</td>\n",
       "      <td>84.0</td>\n",
       "      <td>4.8</td>\n",
       "      <td>49</td>\n",
       "      <td>3</td>\n",
       "      <td>0</td>\n",
       "      <td>0.049481</td>\n",
       "      <td>0.058409</td>\n",
       "      <td>0.736481</td>\n",
       "      <td>0.131844</td>\n",
       "      <td>...</td>\n",
       "      <td>0.0</td>\n",
       "      <td>0.0</td>\n",
       "      <td>0.0</td>\n",
       "      <td>0.0</td>\n",
       "      <td>0.0</td>\n",
       "      <td>0.0</td>\n",
       "      <td>0.0</td>\n",
       "      <td>0.0</td>\n",
       "      <td>0.0</td>\n",
       "      <td>0.0</td>\n",
       "    </tr>\n",
       "  </tbody>\n",
       "</table>\n",
       "<p>3 rows × 197 columns</p>\n",
       "</div>"
      ],
      "text/plain": [
       "   movie_year  movie_critic_rating  movie_user_rating  num_critic_pos  \\\n",
       "0        1950                 74.0                7.8              11   \n",
       "1        2022                 45.0                6.2               7   \n",
       "2        2019                 84.0                4.8              49   \n",
       "\n",
       "   num_critic_mix  num_critic_neg  mean_neg   std_neg  mean_neu   std_neu  \\\n",
       "0               3               0  0.144455  0.160569  0.711091  0.206610   \n",
       "1              33               4  0.070932  0.097436  0.800568  0.128292   \n",
       "2               3               0  0.049481  0.058409  0.736481  0.131844   \n",
       "\n",
       "   ...  weary  lackluster  meticulous  superficial  imaginative  \\\n",
       "0  ...    0.0         0.0         0.0          0.0          0.0   \n",
       "1  ...    0.0         0.0         0.0          0.0          0.0   \n",
       "2  ...    0.0         0.0         0.0          0.0          0.0   \n",
       "\n",
       "   extraordinary  meaningful  seductive  dullish  rambunctious  \n",
       "0            0.0         0.0        0.0      0.0           0.0  \n",
       "1            0.0         0.0        0.0      0.0           0.0  \n",
       "2            0.0         0.0        0.0      0.0           0.0  \n",
       "\n",
       "[3 rows x 197 columns]"
      ]
     },
     "execution_count": 11,
     "metadata": {},
     "output_type": "execute_result"
    }
   ],
   "source": [
    "test_final_df.head(3)"
   ]
  },
  {
   "cell_type": "code",
   "execution_count": 12,
   "metadata": {},
   "outputs": [],
   "source": [
    "# saving for future use\n",
    "train_final_df.to_csv('data/train_final.csv', index=False)\n",
    "test_final_df.to_csv('data/test_final.csv', index=False)"
   ]
  },
  {
   "attachments": {},
   "cell_type": "markdown",
   "metadata": {},
   "source": [
    "## Split dataset into X and y"
   ]
  },
  {
   "cell_type": "code",
   "execution_count": 13,
   "metadata": {},
   "outputs": [],
   "source": [
    "def split_dataset(df, target='movie_user_rating'):\n",
    "    X = df.drop(columns=[target])\n",
    "    y = df[target]\n",
    "\n",
    "    return X, y\n",
    "\n",
    "X_train, y_train = split_dataset(train_final_df)\n",
    "X_test, y_test = split_dataset(test_final_df)"
   ]
  },
  {
   "attachments": {},
   "cell_type": "markdown",
   "metadata": {},
   "source": [
    "## Hyperparameter tuning\n",
    "\n",
    "`n_estimators`: Controls the number of decision trees. Typically, high number of n_estimators is used with early stopping.\n",
    "\n",
    "`learning_rate`: Controls the step size of the gradient descent. Need to tune this to avoid overfitting since LGBM builds tree to correct the errors of the previous trees. \n",
    "\n",
    "`num_leaves`: Controls the number of decision leaves in a single tree. According to LGBM documentation (check the link), the maximum limit of nuim_leaves should be 2^(max_depth)\n",
    "\n",
    "`max_depth`: Controls the levels of tree. Higher max_depth means more complex tree and prone to overfit. Lower max_depth means less complex and prone to underfit.\n",
    "\n",
    "`max_bin`: Controls the max number of bins when converting continuous variables into discrete.\n",
    "\n",
    "`reg_alpha`: L1 regularization. A good search range is (0, 100). It adds the absolute value of magnitude of the coefficient as a penalty term to the loss function.\n",
    "\n",
    "`reg_lambda`: L2 regularization. A good search range is (0, 100). It adds the squared magnitude of the coefficient as a penalty term to the loss function.\n",
    "\n",
    "`min_split_gain`: Controls the minimum gain required to perform a split during the tree building process. It is used as a stopping criterion to prevent overfitting.\n",
    "\n",
    "`subsample`: Controls the percentage of training samples to use when training each tree.\n",
    "\n",
    "`colsample_bytree`: Controls the percentage of features to sample when training each tree.\n",
    "\n",
    "`min_child_samples`: Controls the minimum number of data points needed in a leaf node, which helps to prevent overfitting."
   ]
  },
  {
   "cell_type": "code",
   "execution_count": 14,
   "metadata": {},
   "outputs": [],
   "source": [
    "def objective(trial, data = X_train, target = y_train):\n",
    "    param_grid = {\n",
    "        \"n_estimators\": trial.suggest_categorical(\"n_estimators\", [10000]),\n",
    "        \"learning_rate\": trial.suggest_float(\"learning_rate\", 0.01, 0.3),\n",
    "        \"num_leaves\": trial.suggest_int(\"num_leaves\", 20, 2000, step=20),\n",
    "        \"max_depth\": trial.suggest_int(\"max_depth\", 3, 12),\n",
    "        \"max_bin\": trial.suggest_int(\"max_bin\", 200, 300),\n",
    "        \"reg_alpha\": trial.suggest_int(\"reg_alpha\", 0, 100, step=5),\n",
    "        \"reg_lambda\": trial.suggest_int(\"reg_lambda\", 0, 100, step=5),\n",
    "        \"min_split_gain\": trial.suggest_float(\"min_split_gain\", 0, 15),\n",
    "        \"subsample\": trial.suggest_float(\"subsample\", 0.2, 1.0, step=0.1),\n",
    "        \"colsample_bytree\": trial.suggest_float(\"colsample_bytree\", 0.2, 1.0, step=0.1),\n",
    "        \"min_child_samples\": trial.suggest_int(\"min_child_samples\", 1,500),\n",
    "    }\n",
    "\n",
    "    cv = KFold(n_splits=5, shuffle=True)\n",
    "    cv_scores = np.empty(5)\n",
    "\n",
    "    for idx, (train_idx, val_idx) in enumerate(cv.split(data, target)):\n",
    "        X_t, X_v = data.iloc[train_idx], data.iloc[val_idx]\n",
    "        y_t, y_v = target.iloc[train_idx], target.iloc[val_idx]\n",
    "\n",
    "        model = lgb.LGBMRegressor(**param_grid)\n",
    "        model.fit(X_t, y_t, eval_set=[(X_v, y_v)], eval_metric='mape',\n",
    "                  callbacks=[lgb.early_stopping(stopping_rounds=100),\n",
    "                             lgb.log_evaluation(period=0)])\n",
    "        preds = model.predict(X_v)\n",
    "        cv_scores[idx] = mean_absolute_error(y_v, preds)\n",
    "    \n",
    "    return np.mean(cv_scores)"
   ]
  },
  {
   "cell_type": "code",
   "execution_count": null,
   "metadata": {},
   "outputs": [],
   "source": [
    "study = optuna.create_study(direction='minimize')\n",
    "study.optimize(objective, n_trials=300)"
   ]
  },
  {
   "cell_type": "code",
   "execution_count": 16,
   "metadata": {},
   "outputs": [
    {
     "data": {
      "application/vnd.plotly.v1+json": {
       "config": {
        "plotlyServerURL": "https://plot.ly"
       },
       "data": [
        {
         "mode": "markers",
         "name": "Objective Value",
         "type": "scatter",
         "x": [
          0,
          1,
          2,
          3,
          4,
          5,
          6,
          7,
          8,
          9,
          10,
          11,
          12,
          13,
          14,
          15,
          16,
          17,
          18,
          19,
          20,
          21,
          22,
          23,
          24,
          25,
          26,
          27,
          28,
          29,
          30,
          31,
          32,
          33,
          34,
          35,
          36,
          37,
          38,
          39,
          40,
          41,
          42,
          43,
          44,
          45,
          46,
          47,
          48,
          49,
          50,
          51,
          52,
          53,
          54,
          55,
          56,
          57,
          58,
          59,
          60,
          61,
          62,
          63,
          64,
          65,
          66,
          67,
          68,
          69,
          70,
          71,
          72,
          73,
          74,
          75,
          76,
          77,
          78,
          79,
          80,
          81,
          82,
          83,
          84,
          85,
          86,
          87,
          88,
          89,
          90,
          91,
          92,
          93,
          94,
          95,
          96,
          97,
          98,
          99,
          100,
          101,
          102,
          103,
          104,
          105,
          106,
          107,
          108,
          109,
          110,
          111,
          112,
          113,
          114,
          115,
          116,
          117,
          118,
          119,
          120,
          121,
          122,
          123,
          124,
          125,
          126,
          127,
          128,
          129,
          130,
          131,
          132,
          133,
          134,
          135,
          136,
          137,
          138,
          139,
          140,
          141,
          142,
          143,
          144,
          145,
          146,
          147,
          148,
          149,
          150,
          151,
          152,
          153,
          154,
          155,
          156,
          157,
          158,
          159,
          160,
          161,
          162,
          163,
          164,
          165,
          166,
          167,
          168,
          169,
          170,
          171,
          172,
          173,
          174,
          175,
          176,
          177,
          178,
          179,
          180,
          181,
          182,
          183,
          184,
          185,
          186,
          187,
          188,
          189,
          190,
          191,
          192,
          193,
          194,
          195,
          196,
          197,
          198,
          199,
          200,
          201,
          202,
          203,
          204,
          205,
          206,
          207,
          208,
          209,
          210,
          211,
          212,
          213,
          214,
          215,
          216,
          217,
          218,
          219,
          220,
          221,
          222,
          223,
          224,
          225,
          226,
          227,
          228,
          229,
          230,
          231,
          232,
          233,
          234,
          235,
          236,
          237,
          238,
          239,
          240,
          241,
          242,
          243,
          244,
          245,
          246,
          247,
          248,
          249,
          250,
          251,
          252,
          253,
          254,
          255,
          256,
          257,
          258,
          259,
          260,
          261,
          262,
          263,
          264,
          265,
          266,
          267,
          268,
          269,
          270,
          271,
          272,
          273,
          274,
          275,
          276,
          277,
          278,
          279,
          280,
          281,
          282,
          283,
          284,
          285,
          286,
          287,
          288,
          289,
          290,
          291,
          292,
          293,
          294,
          295,
          296,
          297,
          298,
          299
         ],
         "y": [
          0.8505955119242021,
          0.8559962369467982,
          0.8493152016088914,
          0.8618801952783205,
          0.848915116795558,
          0.8563521563604068,
          0.8538155822759534,
          0.8607527044533185,
          0.8430641454512473,
          0.8526598338238941,
          0.8457331940090643,
          0.8425345130533408,
          0.8395864798944889,
          0.840290120852558,
          0.8447750217777298,
          0.8412193801198493,
          0.8484757362227031,
          0.8481709270791498,
          0.8416427173593286,
          0.8499636572720817,
          0.8446553755792212,
          0.8430278440542407,
          0.8435366956603731,
          0.8409577565874166,
          0.839581127447046,
          0.8409859860250279,
          0.8443162180230743,
          0.8406251226713994,
          0.842141123669656,
          0.8428364017135227,
          0.8437880075566765,
          0.8419354010123274,
          0.8406063842141082,
          0.8402338801298226,
          0.8399048220485694,
          0.8413862429850315,
          0.8427911263373147,
          0.8425769654924142,
          0.8434770665741385,
          0.8455616551909906,
          0.8476494137969437,
          0.8396943442725027,
          0.8411592149935332,
          0.8421843308537224,
          0.8418245250624301,
          0.8415268320336068,
          0.845217547112626,
          0.8433098284981659,
          0.8454592683626133,
          0.8427749783416942,
          0.8416515031646673,
          0.8408341251401079,
          0.8428047886723089,
          0.8408015070625524,
          0.8395571458313528,
          0.8422053904604624,
          0.843476914541141,
          0.8426047609496445,
          0.8520288166745363,
          0.848571225191048,
          0.8413698792971929,
          0.83977518127674,
          0.8409502658003069,
          0.8402113601617345,
          0.8426555470102122,
          0.8411543665956085,
          0.842433440996332,
          0.8400849456790119,
          0.840495171518888,
          0.8405771771056999,
          0.8420235744991078,
          0.8399098628952266,
          0.8416250165044079,
          0.8396241708489758,
          0.8401644981445837,
          0.8398460047966806,
          0.8404573711348136,
          0.8400851585260266,
          0.8419841857774882,
          0.8397583156157383,
          0.8458088755715039,
          0.8397788273605343,
          0.8402067184160507,
          0.8426477358351538,
          0.8412823918292226,
          0.8407516671568145,
          0.8397757179723596,
          0.840587070089742,
          0.8429150949819306,
          0.8421688471582703,
          0.8393170832042409,
          0.8412370148263839,
          0.8401495273873417,
          0.8413765839919375,
          0.8439353571381132,
          0.8422055993555129,
          0.8415602260052456,
          0.8496662282578787,
          0.8416945069708189,
          0.8413481545465153,
          0.8551762083671095,
          0.8408615637797713,
          0.8402034909416625,
          0.8404405488240624,
          0.8416716648431091,
          0.840856681067103,
          0.8395383247646073,
          0.8417028241965209,
          0.8415934096647902,
          0.8406125991078257,
          0.8391089292333387,
          0.8417392710979854,
          0.8418934405729379,
          0.8413869725936157,
          0.8413731878671756,
          0.8412935435261464,
          0.8413320966995599,
          0.840999606497796,
          0.8415764107416805,
          0.8403972948649076,
          0.8420157204736956,
          0.8415880013518453,
          0.8393858608867637,
          0.843684483769963,
          0.8413135458673076,
          0.8409927012681042,
          0.8395813353241394,
          0.8399385417804265,
          0.8426809185769315,
          0.8443306754378714,
          0.8364939452310262,
          0.8403821172519226,
          0.8411827855275327,
          0.8421443946772508,
          0.8404872240858442,
          0.8404508787066908,
          0.8468212874730703,
          0.8400361559166957,
          0.8419135010822896,
          0.8399497221143489,
          0.8466688360611834,
          0.8406613972982291,
          0.8407028132524219,
          0.8423510128139411,
          0.8402742138820937,
          0.8391795343667606,
          0.8405570470081498,
          0.8399792868014782,
          0.8415452184458692,
          0.8413115206040558,
          0.8395969472037933,
          0.8419278125339051,
          0.8401854951634551,
          0.840665108533285,
          0.8392268212721454,
          0.8411280205379207,
          0.8403960714743187,
          0.8408510108732793,
          0.8427439992025143,
          0.8407175838105232,
          0.8384209865429921,
          0.8394605847403694,
          0.8408873604008743,
          0.8412925570156192,
          0.8431938018221532,
          0.8382767583033329,
          0.8398857392004535,
          0.8390772489688707,
          0.8420823838684395,
          0.8388812806652493,
          0.8417904544758846,
          0.8428656669438981,
          0.8410637553355809,
          0.8391009158912184,
          0.8509472389093178,
          0.8430555599953591,
          0.8421664255650876,
          0.8400406707848476,
          0.8441647099610494,
          0.8419124616044353,
          0.8549653831006317,
          0.8391350767490457,
          0.843320092509488,
          0.8389902913393982,
          0.8407537230312745,
          0.83956403336915,
          0.8423881766058475,
          0.841433125189482,
          0.841602548128547,
          0.8416113798875987,
          0.84236250557457,
          0.8374202419124875,
          0.8384217555303026,
          0.8379313243229269,
          0.8392209490183088,
          0.8377009811958906,
          0.8393704413761531,
          0.8374551991531163,
          0.8377647565897668,
          0.8380401603493255,
          0.8371065213752367,
          0.8400262197913552,
          0.8407975976054267,
          0.8363761750409955,
          0.8359419777474647,
          0.8372671917642156,
          0.8386327675735352,
          0.8367364591054965,
          0.8358701323414582,
          0.8395638199826235,
          0.8387618838527983,
          0.8391352942059414,
          0.8393916058028656,
          0.8369174770370794,
          0.8386631879608443,
          0.8373296303210349,
          0.8381840388620778,
          0.8377577655755453,
          0.8377101059200698,
          0.8395891717351427,
          0.8381225367967795,
          0.8397646575171519,
          0.8372689492665785,
          0.8444348415515265,
          0.8379315410912767,
          0.8374648996446249,
          0.8444102660024034,
          0.8381469906551153,
          0.8392587430528875,
          0.8378155787525922,
          0.8385248200410196,
          0.8388318616537088,
          0.8373423976096406,
          0.8395465616863168,
          0.8404298552116172,
          0.8380510827082421,
          0.8376453900780103,
          0.835689512325615,
          0.8382748083148401,
          0.8404858201758728,
          0.84276652499111,
          0.8383878656657642,
          0.8394186942282932,
          0.838548235406364,
          0.8371710662011494,
          0.8421045749588727,
          0.839284773144982,
          0.8384492892448543,
          0.8409258908666531,
          0.8368755332838246,
          0.8342969845118706,
          0.8390056504311719,
          0.8407060928569041,
          0.8371696920205786,
          0.8385954411913777,
          0.8397358420061487,
          0.8393618920524265,
          0.838676877539205,
          0.8381560516725793,
          0.8443476876062246,
          0.8414566353249413,
          0.8384652167518969,
          0.8378681899480196,
          0.8411144245294156,
          0.839754226435377,
          0.838843156508843,
          0.8384183156545134,
          0.842345147071617,
          0.8381306643640686,
          0.8364561352039626,
          0.8426938432757453,
          0.8370441904359712,
          0.8391311391608586,
          0.8377824381777751,
          0.8383235166028253,
          0.8419085335802963,
          0.8392528383209991,
          0.8387180866533754,
          0.8392407406133584,
          0.8391457497881534,
          0.8364690446583847,
          0.8379479073018402,
          0.8390794287100191,
          0.8417475764472053,
          0.8400375018018016,
          0.8379256081297438,
          0.8488329951946019,
          0.8391144368865824,
          0.8419204730672758,
          0.8376446119191536,
          0.8369516367173189,
          0.8375841919400276,
          0.8380545215606621,
          0.8404912652530425,
          0.8388289952236759,
          0.8395891903854095,
          0.8396667031001769,
          0.8377230647701763,
          0.8385003826290646,
          0.8457555842453628
         ]
        },
        {
         "name": "Best Value",
         "type": "scatter",
         "x": [
          0,
          1,
          2,
          3,
          4,
          5,
          6,
          7,
          8,
          9,
          10,
          11,
          12,
          13,
          14,
          15,
          16,
          17,
          18,
          19,
          20,
          21,
          22,
          23,
          24,
          25,
          26,
          27,
          28,
          29,
          30,
          31,
          32,
          33,
          34,
          35,
          36,
          37,
          38,
          39,
          40,
          41,
          42,
          43,
          44,
          45,
          46,
          47,
          48,
          49,
          50,
          51,
          52,
          53,
          54,
          55,
          56,
          57,
          58,
          59,
          60,
          61,
          62,
          63,
          64,
          65,
          66,
          67,
          68,
          69,
          70,
          71,
          72,
          73,
          74,
          75,
          76,
          77,
          78,
          79,
          80,
          81,
          82,
          83,
          84,
          85,
          86,
          87,
          88,
          89,
          90,
          91,
          92,
          93,
          94,
          95,
          96,
          97,
          98,
          99,
          100,
          101,
          102,
          103,
          104,
          105,
          106,
          107,
          108,
          109,
          110,
          111,
          112,
          113,
          114,
          115,
          116,
          117,
          118,
          119,
          120,
          121,
          122,
          123,
          124,
          125,
          126,
          127,
          128,
          129,
          130,
          131,
          132,
          133,
          134,
          135,
          136,
          137,
          138,
          139,
          140,
          141,
          142,
          143,
          144,
          145,
          146,
          147,
          148,
          149,
          150,
          151,
          152,
          153,
          154,
          155,
          156,
          157,
          158,
          159,
          160,
          161,
          162,
          163,
          164,
          165,
          166,
          167,
          168,
          169,
          170,
          171,
          172,
          173,
          174,
          175,
          176,
          177,
          178,
          179,
          180,
          181,
          182,
          183,
          184,
          185,
          186,
          187,
          188,
          189,
          190,
          191,
          192,
          193,
          194,
          195,
          196,
          197,
          198,
          199,
          200,
          201,
          202,
          203,
          204,
          205,
          206,
          207,
          208,
          209,
          210,
          211,
          212,
          213,
          214,
          215,
          216,
          217,
          218,
          219,
          220,
          221,
          222,
          223,
          224,
          225,
          226,
          227,
          228,
          229,
          230,
          231,
          232,
          233,
          234,
          235,
          236,
          237,
          238,
          239,
          240,
          241,
          242,
          243,
          244,
          245,
          246,
          247,
          248,
          249,
          250,
          251,
          252,
          253,
          254,
          255,
          256,
          257,
          258,
          259,
          260,
          261,
          262,
          263,
          264,
          265,
          266,
          267,
          268,
          269,
          270,
          271,
          272,
          273,
          274,
          275,
          276,
          277,
          278,
          279,
          280,
          281,
          282,
          283,
          284,
          285,
          286,
          287,
          288,
          289,
          290,
          291,
          292,
          293,
          294,
          295,
          296,
          297,
          298,
          299
         ],
         "y": [
          0.8505955119242021,
          0.8505955119242021,
          0.8493152016088914,
          0.8493152016088914,
          0.848915116795558,
          0.848915116795558,
          0.848915116795558,
          0.848915116795558,
          0.8430641454512473,
          0.8430641454512473,
          0.8430641454512473,
          0.8425345130533408,
          0.8395864798944889,
          0.8395864798944889,
          0.8395864798944889,
          0.8395864798944889,
          0.8395864798944889,
          0.8395864798944889,
          0.8395864798944889,
          0.8395864798944889,
          0.8395864798944889,
          0.8395864798944889,
          0.8395864798944889,
          0.8395864798944889,
          0.839581127447046,
          0.839581127447046,
          0.839581127447046,
          0.839581127447046,
          0.839581127447046,
          0.839581127447046,
          0.839581127447046,
          0.839581127447046,
          0.839581127447046,
          0.839581127447046,
          0.839581127447046,
          0.839581127447046,
          0.839581127447046,
          0.839581127447046,
          0.839581127447046,
          0.839581127447046,
          0.839581127447046,
          0.839581127447046,
          0.839581127447046,
          0.839581127447046,
          0.839581127447046,
          0.839581127447046,
          0.839581127447046,
          0.839581127447046,
          0.839581127447046,
          0.839581127447046,
          0.839581127447046,
          0.839581127447046,
          0.839581127447046,
          0.839581127447046,
          0.8395571458313528,
          0.8395571458313528,
          0.8395571458313528,
          0.8395571458313528,
          0.8395571458313528,
          0.8395571458313528,
          0.8395571458313528,
          0.8395571458313528,
          0.8395571458313528,
          0.8395571458313528,
          0.8395571458313528,
          0.8395571458313528,
          0.8395571458313528,
          0.8395571458313528,
          0.8395571458313528,
          0.8395571458313528,
          0.8395571458313528,
          0.8395571458313528,
          0.8395571458313528,
          0.8395571458313528,
          0.8395571458313528,
          0.8395571458313528,
          0.8395571458313528,
          0.8395571458313528,
          0.8395571458313528,
          0.8395571458313528,
          0.8395571458313528,
          0.8395571458313528,
          0.8395571458313528,
          0.8395571458313528,
          0.8395571458313528,
          0.8395571458313528,
          0.8395571458313528,
          0.8395571458313528,
          0.8395571458313528,
          0.8395571458313528,
          0.8393170832042409,
          0.8393170832042409,
          0.8393170832042409,
          0.8393170832042409,
          0.8393170832042409,
          0.8393170832042409,
          0.8393170832042409,
          0.8393170832042409,
          0.8393170832042409,
          0.8393170832042409,
          0.8393170832042409,
          0.8393170832042409,
          0.8393170832042409,
          0.8393170832042409,
          0.8393170832042409,
          0.8393170832042409,
          0.8393170832042409,
          0.8393170832042409,
          0.8393170832042409,
          0.8393170832042409,
          0.8391089292333387,
          0.8391089292333387,
          0.8391089292333387,
          0.8391089292333387,
          0.8391089292333387,
          0.8391089292333387,
          0.8391089292333387,
          0.8391089292333387,
          0.8391089292333387,
          0.8391089292333387,
          0.8391089292333387,
          0.8391089292333387,
          0.8391089292333387,
          0.8391089292333387,
          0.8391089292333387,
          0.8391089292333387,
          0.8391089292333387,
          0.8391089292333387,
          0.8391089292333387,
          0.8391089292333387,
          0.8364939452310262,
          0.8364939452310262,
          0.8364939452310262,
          0.8364939452310262,
          0.8364939452310262,
          0.8364939452310262,
          0.8364939452310262,
          0.8364939452310262,
          0.8364939452310262,
          0.8364939452310262,
          0.8364939452310262,
          0.8364939452310262,
          0.8364939452310262,
          0.8364939452310262,
          0.8364939452310262,
          0.8364939452310262,
          0.8364939452310262,
          0.8364939452310262,
          0.8364939452310262,
          0.8364939452310262,
          0.8364939452310262,
          0.8364939452310262,
          0.8364939452310262,
          0.8364939452310262,
          0.8364939452310262,
          0.8364939452310262,
          0.8364939452310262,
          0.8364939452310262,
          0.8364939452310262,
          0.8364939452310262,
          0.8364939452310262,
          0.8364939452310262,
          0.8364939452310262,
          0.8364939452310262,
          0.8364939452310262,
          0.8364939452310262,
          0.8364939452310262,
          0.8364939452310262,
          0.8364939452310262,
          0.8364939452310262,
          0.8364939452310262,
          0.8364939452310262,
          0.8364939452310262,
          0.8364939452310262,
          0.8364939452310262,
          0.8364939452310262,
          0.8364939452310262,
          0.8364939452310262,
          0.8364939452310262,
          0.8364939452310262,
          0.8364939452310262,
          0.8364939452310262,
          0.8364939452310262,
          0.8364939452310262,
          0.8364939452310262,
          0.8364939452310262,
          0.8364939452310262,
          0.8364939452310262,
          0.8364939452310262,
          0.8364939452310262,
          0.8364939452310262,
          0.8364939452310262,
          0.8364939452310262,
          0.8364939452310262,
          0.8364939452310262,
          0.8364939452310262,
          0.8364939452310262,
          0.8364939452310262,
          0.8364939452310262,
          0.8364939452310262,
          0.8364939452310262,
          0.8364939452310262,
          0.8364939452310262,
          0.8363761750409955,
          0.8359419777474647,
          0.8359419777474647,
          0.8359419777474647,
          0.8359419777474647,
          0.8358701323414582,
          0.8358701323414582,
          0.8358701323414582,
          0.8358701323414582,
          0.8358701323414582,
          0.8358701323414582,
          0.8358701323414582,
          0.8358701323414582,
          0.8358701323414582,
          0.8358701323414582,
          0.8358701323414582,
          0.8358701323414582,
          0.8358701323414582,
          0.8358701323414582,
          0.8358701323414582,
          0.8358701323414582,
          0.8358701323414582,
          0.8358701323414582,
          0.8358701323414582,
          0.8358701323414582,
          0.8358701323414582,
          0.8358701323414582,
          0.8358701323414582,
          0.8358701323414582,
          0.8358701323414582,
          0.8358701323414582,
          0.8358701323414582,
          0.8358701323414582,
          0.8358701323414582,
          0.835689512325615,
          0.835689512325615,
          0.835689512325615,
          0.835689512325615,
          0.835689512325615,
          0.835689512325615,
          0.835689512325615,
          0.835689512325615,
          0.835689512325615,
          0.835689512325615,
          0.835689512325615,
          0.835689512325615,
          0.835689512325615,
          0.8342969845118706,
          0.8342969845118706,
          0.8342969845118706,
          0.8342969845118706,
          0.8342969845118706,
          0.8342969845118706,
          0.8342969845118706,
          0.8342969845118706,
          0.8342969845118706,
          0.8342969845118706,
          0.8342969845118706,
          0.8342969845118706,
          0.8342969845118706,
          0.8342969845118706,
          0.8342969845118706,
          0.8342969845118706,
          0.8342969845118706,
          0.8342969845118706,
          0.8342969845118706,
          0.8342969845118706,
          0.8342969845118706,
          0.8342969845118706,
          0.8342969845118706,
          0.8342969845118706,
          0.8342969845118706,
          0.8342969845118706,
          0.8342969845118706,
          0.8342969845118706,
          0.8342969845118706,
          0.8342969845118706,
          0.8342969845118706,
          0.8342969845118706,
          0.8342969845118706,
          0.8342969845118706,
          0.8342969845118706,
          0.8342969845118706,
          0.8342969845118706,
          0.8342969845118706,
          0.8342969845118706,
          0.8342969845118706,
          0.8342969845118706,
          0.8342969845118706,
          0.8342969845118706,
          0.8342969845118706,
          0.8342969845118706,
          0.8342969845118706,
          0.8342969845118706,
          0.8342969845118706,
          0.8342969845118706,
          0.8342969845118706
         ]
        }
       ],
       "layout": {
        "template": {
         "data": {
          "bar": [
           {
            "error_x": {
             "color": "#2a3f5f"
            },
            "error_y": {
             "color": "#2a3f5f"
            },
            "marker": {
             "line": {
              "color": "#E5ECF6",
              "width": 0.5
             },
             "pattern": {
              "fillmode": "overlay",
              "size": 10,
              "solidity": 0.2
             }
            },
            "type": "bar"
           }
          ],
          "barpolar": [
           {
            "marker": {
             "line": {
              "color": "#E5ECF6",
              "width": 0.5
             },
             "pattern": {
              "fillmode": "overlay",
              "size": 10,
              "solidity": 0.2
             }
            },
            "type": "barpolar"
           }
          ],
          "carpet": [
           {
            "aaxis": {
             "endlinecolor": "#2a3f5f",
             "gridcolor": "white",
             "linecolor": "white",
             "minorgridcolor": "white",
             "startlinecolor": "#2a3f5f"
            },
            "baxis": {
             "endlinecolor": "#2a3f5f",
             "gridcolor": "white",
             "linecolor": "white",
             "minorgridcolor": "white",
             "startlinecolor": "#2a3f5f"
            },
            "type": "carpet"
           }
          ],
          "choropleth": [
           {
            "colorbar": {
             "outlinewidth": 0,
             "ticks": ""
            },
            "type": "choropleth"
           }
          ],
          "contour": [
           {
            "colorbar": {
             "outlinewidth": 0,
             "ticks": ""
            },
            "colorscale": [
             [
              0,
              "#0d0887"
             ],
             [
              0.1111111111111111,
              "#46039f"
             ],
             [
              0.2222222222222222,
              "#7201a8"
             ],
             [
              0.3333333333333333,
              "#9c179e"
             ],
             [
              0.4444444444444444,
              "#bd3786"
             ],
             [
              0.5555555555555556,
              "#d8576b"
             ],
             [
              0.6666666666666666,
              "#ed7953"
             ],
             [
              0.7777777777777778,
              "#fb9f3a"
             ],
             [
              0.8888888888888888,
              "#fdca26"
             ],
             [
              1,
              "#f0f921"
             ]
            ],
            "type": "contour"
           }
          ],
          "contourcarpet": [
           {
            "colorbar": {
             "outlinewidth": 0,
             "ticks": ""
            },
            "type": "contourcarpet"
           }
          ],
          "heatmap": [
           {
            "colorbar": {
             "outlinewidth": 0,
             "ticks": ""
            },
            "colorscale": [
             [
              0,
              "#0d0887"
             ],
             [
              0.1111111111111111,
              "#46039f"
             ],
             [
              0.2222222222222222,
              "#7201a8"
             ],
             [
              0.3333333333333333,
              "#9c179e"
             ],
             [
              0.4444444444444444,
              "#bd3786"
             ],
             [
              0.5555555555555556,
              "#d8576b"
             ],
             [
              0.6666666666666666,
              "#ed7953"
             ],
             [
              0.7777777777777778,
              "#fb9f3a"
             ],
             [
              0.8888888888888888,
              "#fdca26"
             ],
             [
              1,
              "#f0f921"
             ]
            ],
            "type": "heatmap"
           }
          ],
          "heatmapgl": [
           {
            "colorbar": {
             "outlinewidth": 0,
             "ticks": ""
            },
            "colorscale": [
             [
              0,
              "#0d0887"
             ],
             [
              0.1111111111111111,
              "#46039f"
             ],
             [
              0.2222222222222222,
              "#7201a8"
             ],
             [
              0.3333333333333333,
              "#9c179e"
             ],
             [
              0.4444444444444444,
              "#bd3786"
             ],
             [
              0.5555555555555556,
              "#d8576b"
             ],
             [
              0.6666666666666666,
              "#ed7953"
             ],
             [
              0.7777777777777778,
              "#fb9f3a"
             ],
             [
              0.8888888888888888,
              "#fdca26"
             ],
             [
              1,
              "#f0f921"
             ]
            ],
            "type": "heatmapgl"
           }
          ],
          "histogram": [
           {
            "marker": {
             "pattern": {
              "fillmode": "overlay",
              "size": 10,
              "solidity": 0.2
             }
            },
            "type": "histogram"
           }
          ],
          "histogram2d": [
           {
            "colorbar": {
             "outlinewidth": 0,
             "ticks": ""
            },
            "colorscale": [
             [
              0,
              "#0d0887"
             ],
             [
              0.1111111111111111,
              "#46039f"
             ],
             [
              0.2222222222222222,
              "#7201a8"
             ],
             [
              0.3333333333333333,
              "#9c179e"
             ],
             [
              0.4444444444444444,
              "#bd3786"
             ],
             [
              0.5555555555555556,
              "#d8576b"
             ],
             [
              0.6666666666666666,
              "#ed7953"
             ],
             [
              0.7777777777777778,
              "#fb9f3a"
             ],
             [
              0.8888888888888888,
              "#fdca26"
             ],
             [
              1,
              "#f0f921"
             ]
            ],
            "type": "histogram2d"
           }
          ],
          "histogram2dcontour": [
           {
            "colorbar": {
             "outlinewidth": 0,
             "ticks": ""
            },
            "colorscale": [
             [
              0,
              "#0d0887"
             ],
             [
              0.1111111111111111,
              "#46039f"
             ],
             [
              0.2222222222222222,
              "#7201a8"
             ],
             [
              0.3333333333333333,
              "#9c179e"
             ],
             [
              0.4444444444444444,
              "#bd3786"
             ],
             [
              0.5555555555555556,
              "#d8576b"
             ],
             [
              0.6666666666666666,
              "#ed7953"
             ],
             [
              0.7777777777777778,
              "#fb9f3a"
             ],
             [
              0.8888888888888888,
              "#fdca26"
             ],
             [
              1,
              "#f0f921"
             ]
            ],
            "type": "histogram2dcontour"
           }
          ],
          "mesh3d": [
           {
            "colorbar": {
             "outlinewidth": 0,
             "ticks": ""
            },
            "type": "mesh3d"
           }
          ],
          "parcoords": [
           {
            "line": {
             "colorbar": {
              "outlinewidth": 0,
              "ticks": ""
             }
            },
            "type": "parcoords"
           }
          ],
          "pie": [
           {
            "automargin": true,
            "type": "pie"
           }
          ],
          "scatter": [
           {
            "fillpattern": {
             "fillmode": "overlay",
             "size": 10,
             "solidity": 0.2
            },
            "type": "scatter"
           }
          ],
          "scatter3d": [
           {
            "line": {
             "colorbar": {
              "outlinewidth": 0,
              "ticks": ""
             }
            },
            "marker": {
             "colorbar": {
              "outlinewidth": 0,
              "ticks": ""
             }
            },
            "type": "scatter3d"
           }
          ],
          "scattercarpet": [
           {
            "marker": {
             "colorbar": {
              "outlinewidth": 0,
              "ticks": ""
             }
            },
            "type": "scattercarpet"
           }
          ],
          "scattergeo": [
           {
            "marker": {
             "colorbar": {
              "outlinewidth": 0,
              "ticks": ""
             }
            },
            "type": "scattergeo"
           }
          ],
          "scattergl": [
           {
            "marker": {
             "colorbar": {
              "outlinewidth": 0,
              "ticks": ""
             }
            },
            "type": "scattergl"
           }
          ],
          "scattermapbox": [
           {
            "marker": {
             "colorbar": {
              "outlinewidth": 0,
              "ticks": ""
             }
            },
            "type": "scattermapbox"
           }
          ],
          "scatterpolar": [
           {
            "marker": {
             "colorbar": {
              "outlinewidth": 0,
              "ticks": ""
             }
            },
            "type": "scatterpolar"
           }
          ],
          "scatterpolargl": [
           {
            "marker": {
             "colorbar": {
              "outlinewidth": 0,
              "ticks": ""
             }
            },
            "type": "scatterpolargl"
           }
          ],
          "scatterternary": [
           {
            "marker": {
             "colorbar": {
              "outlinewidth": 0,
              "ticks": ""
             }
            },
            "type": "scatterternary"
           }
          ],
          "surface": [
           {
            "colorbar": {
             "outlinewidth": 0,
             "ticks": ""
            },
            "colorscale": [
             [
              0,
              "#0d0887"
             ],
             [
              0.1111111111111111,
              "#46039f"
             ],
             [
              0.2222222222222222,
              "#7201a8"
             ],
             [
              0.3333333333333333,
              "#9c179e"
             ],
             [
              0.4444444444444444,
              "#bd3786"
             ],
             [
              0.5555555555555556,
              "#d8576b"
             ],
             [
              0.6666666666666666,
              "#ed7953"
             ],
             [
              0.7777777777777778,
              "#fb9f3a"
             ],
             [
              0.8888888888888888,
              "#fdca26"
             ],
             [
              1,
              "#f0f921"
             ]
            ],
            "type": "surface"
           }
          ],
          "table": [
           {
            "cells": {
             "fill": {
              "color": "#EBF0F8"
             },
             "line": {
              "color": "white"
             }
            },
            "header": {
             "fill": {
              "color": "#C8D4E3"
             },
             "line": {
              "color": "white"
             }
            },
            "type": "table"
           }
          ]
         },
         "layout": {
          "annotationdefaults": {
           "arrowcolor": "#2a3f5f",
           "arrowhead": 0,
           "arrowwidth": 1
          },
          "autotypenumbers": "strict",
          "coloraxis": {
           "colorbar": {
            "outlinewidth": 0,
            "ticks": ""
           }
          },
          "colorscale": {
           "diverging": [
            [
             0,
             "#8e0152"
            ],
            [
             0.1,
             "#c51b7d"
            ],
            [
             0.2,
             "#de77ae"
            ],
            [
             0.3,
             "#f1b6da"
            ],
            [
             0.4,
             "#fde0ef"
            ],
            [
             0.5,
             "#f7f7f7"
            ],
            [
             0.6,
             "#e6f5d0"
            ],
            [
             0.7,
             "#b8e186"
            ],
            [
             0.8,
             "#7fbc41"
            ],
            [
             0.9,
             "#4d9221"
            ],
            [
             1,
             "#276419"
            ]
           ],
           "sequential": [
            [
             0,
             "#0d0887"
            ],
            [
             0.1111111111111111,
             "#46039f"
            ],
            [
             0.2222222222222222,
             "#7201a8"
            ],
            [
             0.3333333333333333,
             "#9c179e"
            ],
            [
             0.4444444444444444,
             "#bd3786"
            ],
            [
             0.5555555555555556,
             "#d8576b"
            ],
            [
             0.6666666666666666,
             "#ed7953"
            ],
            [
             0.7777777777777778,
             "#fb9f3a"
            ],
            [
             0.8888888888888888,
             "#fdca26"
            ],
            [
             1,
             "#f0f921"
            ]
           ],
           "sequentialminus": [
            [
             0,
             "#0d0887"
            ],
            [
             0.1111111111111111,
             "#46039f"
            ],
            [
             0.2222222222222222,
             "#7201a8"
            ],
            [
             0.3333333333333333,
             "#9c179e"
            ],
            [
             0.4444444444444444,
             "#bd3786"
            ],
            [
             0.5555555555555556,
             "#d8576b"
            ],
            [
             0.6666666666666666,
             "#ed7953"
            ],
            [
             0.7777777777777778,
             "#fb9f3a"
            ],
            [
             0.8888888888888888,
             "#fdca26"
            ],
            [
             1,
             "#f0f921"
            ]
           ]
          },
          "colorway": [
           "#636efa",
           "#EF553B",
           "#00cc96",
           "#ab63fa",
           "#FFA15A",
           "#19d3f3",
           "#FF6692",
           "#B6E880",
           "#FF97FF",
           "#FECB52"
          ],
          "font": {
           "color": "#2a3f5f"
          },
          "geo": {
           "bgcolor": "white",
           "lakecolor": "white",
           "landcolor": "#E5ECF6",
           "showlakes": true,
           "showland": true,
           "subunitcolor": "white"
          },
          "hoverlabel": {
           "align": "left"
          },
          "hovermode": "closest",
          "mapbox": {
           "style": "light"
          },
          "paper_bgcolor": "white",
          "plot_bgcolor": "#E5ECF6",
          "polar": {
           "angularaxis": {
            "gridcolor": "white",
            "linecolor": "white",
            "ticks": ""
           },
           "bgcolor": "#E5ECF6",
           "radialaxis": {
            "gridcolor": "white",
            "linecolor": "white",
            "ticks": ""
           }
          },
          "scene": {
           "xaxis": {
            "backgroundcolor": "#E5ECF6",
            "gridcolor": "white",
            "gridwidth": 2,
            "linecolor": "white",
            "showbackground": true,
            "ticks": "",
            "zerolinecolor": "white"
           },
           "yaxis": {
            "backgroundcolor": "#E5ECF6",
            "gridcolor": "white",
            "gridwidth": 2,
            "linecolor": "white",
            "showbackground": true,
            "ticks": "",
            "zerolinecolor": "white"
           },
           "zaxis": {
            "backgroundcolor": "#E5ECF6",
            "gridcolor": "white",
            "gridwidth": 2,
            "linecolor": "white",
            "showbackground": true,
            "ticks": "",
            "zerolinecolor": "white"
           }
          },
          "shapedefaults": {
           "line": {
            "color": "#2a3f5f"
           }
          },
          "ternary": {
           "aaxis": {
            "gridcolor": "white",
            "linecolor": "white",
            "ticks": ""
           },
           "baxis": {
            "gridcolor": "white",
            "linecolor": "white",
            "ticks": ""
           },
           "bgcolor": "#E5ECF6",
           "caxis": {
            "gridcolor": "white",
            "linecolor": "white",
            "ticks": ""
           }
          },
          "title": {
           "x": 0.05
          },
          "xaxis": {
           "automargin": true,
           "gridcolor": "white",
           "linecolor": "white",
           "ticks": "",
           "title": {
            "standoff": 15
           },
           "zerolinecolor": "white",
           "zerolinewidth": 2
          },
          "yaxis": {
           "automargin": true,
           "gridcolor": "white",
           "linecolor": "white",
           "ticks": "",
           "title": {
            "standoff": 15
           },
           "zerolinecolor": "white",
           "zerolinewidth": 2
          }
         }
        },
        "title": {
         "text": "Optimization History Plot"
        },
        "xaxis": {
         "title": {
          "text": "Trial"
         }
        },
        "yaxis": {
         "title": {
          "text": "Objective Value"
         }
        }
       }
      }
     },
     "metadata": {},
     "output_type": "display_data"
    }
   ],
   "source": [
    "optuna.visualization.plot_optimization_history(study)"
   ]
  },
  {
   "cell_type": "code",
   "execution_count": 17,
   "metadata": {},
   "outputs": [
    {
     "data": {
      "application/vnd.plotly.v1+json": {
       "config": {
        "plotlyServerURL": "https://plot.ly"
       },
       "data": [
        {
         "cliponaxis": false,
         "hovertemplate": [
          "n_estimators (CategoricalDistribution): 0.0<extra></extra>",
          "subsample (FloatDistribution): 0.0005849023497625911<extra></extra>",
          "reg_lambda (IntDistribution): 0.0008713020611636311<extra></extra>",
          "max_depth (IntDistribution): 0.006141160354467726<extra></extra>",
          "num_leaves (IntDistribution): 0.008006389651842053<extra></extra>",
          "colsample_bytree (FloatDistribution): 0.008575390096659292<extra></extra>",
          "min_child_samples (IntDistribution): 0.016279826669470986<extra></extra>",
          "max_bin (IntDistribution): 0.019089418191819696<extra></extra>",
          "learning_rate (FloatDistribution): 0.03385413992204138<extra></extra>",
          "min_split_gain (FloatDistribution): 0.30104920212398806<extra></extra>",
          "reg_alpha (IntDistribution): 0.6055482685787845<extra></extra>"
         ],
         "marker": {
          "color": "rgb(66,146,198)"
         },
         "orientation": "h",
         "text": [
          "<0.01",
          "<0.01",
          "<0.01",
          "<0.01",
          "<0.01",
          "<0.01",
          "0.02",
          "0.02",
          "0.03",
          "0.30",
          "0.61"
         ],
         "textposition": "outside",
         "type": "bar",
         "x": [
          0,
          0.0005849023497625911,
          0.0008713020611636311,
          0.006141160354467726,
          0.008006389651842053,
          0.008575390096659292,
          0.016279826669470986,
          0.019089418191819696,
          0.03385413992204138,
          0.30104920212398806,
          0.6055482685787845
         ],
         "y": [
          "n_estimators",
          "subsample",
          "reg_lambda",
          "max_depth",
          "num_leaves",
          "colsample_bytree",
          "min_child_samples",
          "max_bin",
          "learning_rate",
          "min_split_gain",
          "reg_alpha"
         ]
        }
       ],
       "layout": {
        "showlegend": false,
        "template": {
         "data": {
          "bar": [
           {
            "error_x": {
             "color": "#2a3f5f"
            },
            "error_y": {
             "color": "#2a3f5f"
            },
            "marker": {
             "line": {
              "color": "#E5ECF6",
              "width": 0.5
             },
             "pattern": {
              "fillmode": "overlay",
              "size": 10,
              "solidity": 0.2
             }
            },
            "type": "bar"
           }
          ],
          "barpolar": [
           {
            "marker": {
             "line": {
              "color": "#E5ECF6",
              "width": 0.5
             },
             "pattern": {
              "fillmode": "overlay",
              "size": 10,
              "solidity": 0.2
             }
            },
            "type": "barpolar"
           }
          ],
          "carpet": [
           {
            "aaxis": {
             "endlinecolor": "#2a3f5f",
             "gridcolor": "white",
             "linecolor": "white",
             "minorgridcolor": "white",
             "startlinecolor": "#2a3f5f"
            },
            "baxis": {
             "endlinecolor": "#2a3f5f",
             "gridcolor": "white",
             "linecolor": "white",
             "minorgridcolor": "white",
             "startlinecolor": "#2a3f5f"
            },
            "type": "carpet"
           }
          ],
          "choropleth": [
           {
            "colorbar": {
             "outlinewidth": 0,
             "ticks": ""
            },
            "type": "choropleth"
           }
          ],
          "contour": [
           {
            "colorbar": {
             "outlinewidth": 0,
             "ticks": ""
            },
            "colorscale": [
             [
              0,
              "#0d0887"
             ],
             [
              0.1111111111111111,
              "#46039f"
             ],
             [
              0.2222222222222222,
              "#7201a8"
             ],
             [
              0.3333333333333333,
              "#9c179e"
             ],
             [
              0.4444444444444444,
              "#bd3786"
             ],
             [
              0.5555555555555556,
              "#d8576b"
             ],
             [
              0.6666666666666666,
              "#ed7953"
             ],
             [
              0.7777777777777778,
              "#fb9f3a"
             ],
             [
              0.8888888888888888,
              "#fdca26"
             ],
             [
              1,
              "#f0f921"
             ]
            ],
            "type": "contour"
           }
          ],
          "contourcarpet": [
           {
            "colorbar": {
             "outlinewidth": 0,
             "ticks": ""
            },
            "type": "contourcarpet"
           }
          ],
          "heatmap": [
           {
            "colorbar": {
             "outlinewidth": 0,
             "ticks": ""
            },
            "colorscale": [
             [
              0,
              "#0d0887"
             ],
             [
              0.1111111111111111,
              "#46039f"
             ],
             [
              0.2222222222222222,
              "#7201a8"
             ],
             [
              0.3333333333333333,
              "#9c179e"
             ],
             [
              0.4444444444444444,
              "#bd3786"
             ],
             [
              0.5555555555555556,
              "#d8576b"
             ],
             [
              0.6666666666666666,
              "#ed7953"
             ],
             [
              0.7777777777777778,
              "#fb9f3a"
             ],
             [
              0.8888888888888888,
              "#fdca26"
             ],
             [
              1,
              "#f0f921"
             ]
            ],
            "type": "heatmap"
           }
          ],
          "heatmapgl": [
           {
            "colorbar": {
             "outlinewidth": 0,
             "ticks": ""
            },
            "colorscale": [
             [
              0,
              "#0d0887"
             ],
             [
              0.1111111111111111,
              "#46039f"
             ],
             [
              0.2222222222222222,
              "#7201a8"
             ],
             [
              0.3333333333333333,
              "#9c179e"
             ],
             [
              0.4444444444444444,
              "#bd3786"
             ],
             [
              0.5555555555555556,
              "#d8576b"
             ],
             [
              0.6666666666666666,
              "#ed7953"
             ],
             [
              0.7777777777777778,
              "#fb9f3a"
             ],
             [
              0.8888888888888888,
              "#fdca26"
             ],
             [
              1,
              "#f0f921"
             ]
            ],
            "type": "heatmapgl"
           }
          ],
          "histogram": [
           {
            "marker": {
             "pattern": {
              "fillmode": "overlay",
              "size": 10,
              "solidity": 0.2
             }
            },
            "type": "histogram"
           }
          ],
          "histogram2d": [
           {
            "colorbar": {
             "outlinewidth": 0,
             "ticks": ""
            },
            "colorscale": [
             [
              0,
              "#0d0887"
             ],
             [
              0.1111111111111111,
              "#46039f"
             ],
             [
              0.2222222222222222,
              "#7201a8"
             ],
             [
              0.3333333333333333,
              "#9c179e"
             ],
             [
              0.4444444444444444,
              "#bd3786"
             ],
             [
              0.5555555555555556,
              "#d8576b"
             ],
             [
              0.6666666666666666,
              "#ed7953"
             ],
             [
              0.7777777777777778,
              "#fb9f3a"
             ],
             [
              0.8888888888888888,
              "#fdca26"
             ],
             [
              1,
              "#f0f921"
             ]
            ],
            "type": "histogram2d"
           }
          ],
          "histogram2dcontour": [
           {
            "colorbar": {
             "outlinewidth": 0,
             "ticks": ""
            },
            "colorscale": [
             [
              0,
              "#0d0887"
             ],
             [
              0.1111111111111111,
              "#46039f"
             ],
             [
              0.2222222222222222,
              "#7201a8"
             ],
             [
              0.3333333333333333,
              "#9c179e"
             ],
             [
              0.4444444444444444,
              "#bd3786"
             ],
             [
              0.5555555555555556,
              "#d8576b"
             ],
             [
              0.6666666666666666,
              "#ed7953"
             ],
             [
              0.7777777777777778,
              "#fb9f3a"
             ],
             [
              0.8888888888888888,
              "#fdca26"
             ],
             [
              1,
              "#f0f921"
             ]
            ],
            "type": "histogram2dcontour"
           }
          ],
          "mesh3d": [
           {
            "colorbar": {
             "outlinewidth": 0,
             "ticks": ""
            },
            "type": "mesh3d"
           }
          ],
          "parcoords": [
           {
            "line": {
             "colorbar": {
              "outlinewidth": 0,
              "ticks": ""
             }
            },
            "type": "parcoords"
           }
          ],
          "pie": [
           {
            "automargin": true,
            "type": "pie"
           }
          ],
          "scatter": [
           {
            "fillpattern": {
             "fillmode": "overlay",
             "size": 10,
             "solidity": 0.2
            },
            "type": "scatter"
           }
          ],
          "scatter3d": [
           {
            "line": {
             "colorbar": {
              "outlinewidth": 0,
              "ticks": ""
             }
            },
            "marker": {
             "colorbar": {
              "outlinewidth": 0,
              "ticks": ""
             }
            },
            "type": "scatter3d"
           }
          ],
          "scattercarpet": [
           {
            "marker": {
             "colorbar": {
              "outlinewidth": 0,
              "ticks": ""
             }
            },
            "type": "scattercarpet"
           }
          ],
          "scattergeo": [
           {
            "marker": {
             "colorbar": {
              "outlinewidth": 0,
              "ticks": ""
             }
            },
            "type": "scattergeo"
           }
          ],
          "scattergl": [
           {
            "marker": {
             "colorbar": {
              "outlinewidth": 0,
              "ticks": ""
             }
            },
            "type": "scattergl"
           }
          ],
          "scattermapbox": [
           {
            "marker": {
             "colorbar": {
              "outlinewidth": 0,
              "ticks": ""
             }
            },
            "type": "scattermapbox"
           }
          ],
          "scatterpolar": [
           {
            "marker": {
             "colorbar": {
              "outlinewidth": 0,
              "ticks": ""
             }
            },
            "type": "scatterpolar"
           }
          ],
          "scatterpolargl": [
           {
            "marker": {
             "colorbar": {
              "outlinewidth": 0,
              "ticks": ""
             }
            },
            "type": "scatterpolargl"
           }
          ],
          "scatterternary": [
           {
            "marker": {
             "colorbar": {
              "outlinewidth": 0,
              "ticks": ""
             }
            },
            "type": "scatterternary"
           }
          ],
          "surface": [
           {
            "colorbar": {
             "outlinewidth": 0,
             "ticks": ""
            },
            "colorscale": [
             [
              0,
              "#0d0887"
             ],
             [
              0.1111111111111111,
              "#46039f"
             ],
             [
              0.2222222222222222,
              "#7201a8"
             ],
             [
              0.3333333333333333,
              "#9c179e"
             ],
             [
              0.4444444444444444,
              "#bd3786"
             ],
             [
              0.5555555555555556,
              "#d8576b"
             ],
             [
              0.6666666666666666,
              "#ed7953"
             ],
             [
              0.7777777777777778,
              "#fb9f3a"
             ],
             [
              0.8888888888888888,
              "#fdca26"
             ],
             [
              1,
              "#f0f921"
             ]
            ],
            "type": "surface"
           }
          ],
          "table": [
           {
            "cells": {
             "fill": {
              "color": "#EBF0F8"
             },
             "line": {
              "color": "white"
             }
            },
            "header": {
             "fill": {
              "color": "#C8D4E3"
             },
             "line": {
              "color": "white"
             }
            },
            "type": "table"
           }
          ]
         },
         "layout": {
          "annotationdefaults": {
           "arrowcolor": "#2a3f5f",
           "arrowhead": 0,
           "arrowwidth": 1
          },
          "autotypenumbers": "strict",
          "coloraxis": {
           "colorbar": {
            "outlinewidth": 0,
            "ticks": ""
           }
          },
          "colorscale": {
           "diverging": [
            [
             0,
             "#8e0152"
            ],
            [
             0.1,
             "#c51b7d"
            ],
            [
             0.2,
             "#de77ae"
            ],
            [
             0.3,
             "#f1b6da"
            ],
            [
             0.4,
             "#fde0ef"
            ],
            [
             0.5,
             "#f7f7f7"
            ],
            [
             0.6,
             "#e6f5d0"
            ],
            [
             0.7,
             "#b8e186"
            ],
            [
             0.8,
             "#7fbc41"
            ],
            [
             0.9,
             "#4d9221"
            ],
            [
             1,
             "#276419"
            ]
           ],
           "sequential": [
            [
             0,
             "#0d0887"
            ],
            [
             0.1111111111111111,
             "#46039f"
            ],
            [
             0.2222222222222222,
             "#7201a8"
            ],
            [
             0.3333333333333333,
             "#9c179e"
            ],
            [
             0.4444444444444444,
             "#bd3786"
            ],
            [
             0.5555555555555556,
             "#d8576b"
            ],
            [
             0.6666666666666666,
             "#ed7953"
            ],
            [
             0.7777777777777778,
             "#fb9f3a"
            ],
            [
             0.8888888888888888,
             "#fdca26"
            ],
            [
             1,
             "#f0f921"
            ]
           ],
           "sequentialminus": [
            [
             0,
             "#0d0887"
            ],
            [
             0.1111111111111111,
             "#46039f"
            ],
            [
             0.2222222222222222,
             "#7201a8"
            ],
            [
             0.3333333333333333,
             "#9c179e"
            ],
            [
             0.4444444444444444,
             "#bd3786"
            ],
            [
             0.5555555555555556,
             "#d8576b"
            ],
            [
             0.6666666666666666,
             "#ed7953"
            ],
            [
             0.7777777777777778,
             "#fb9f3a"
            ],
            [
             0.8888888888888888,
             "#fdca26"
            ],
            [
             1,
             "#f0f921"
            ]
           ]
          },
          "colorway": [
           "#636efa",
           "#EF553B",
           "#00cc96",
           "#ab63fa",
           "#FFA15A",
           "#19d3f3",
           "#FF6692",
           "#B6E880",
           "#FF97FF",
           "#FECB52"
          ],
          "font": {
           "color": "#2a3f5f"
          },
          "geo": {
           "bgcolor": "white",
           "lakecolor": "white",
           "landcolor": "#E5ECF6",
           "showlakes": true,
           "showland": true,
           "subunitcolor": "white"
          },
          "hoverlabel": {
           "align": "left"
          },
          "hovermode": "closest",
          "mapbox": {
           "style": "light"
          },
          "paper_bgcolor": "white",
          "plot_bgcolor": "#E5ECF6",
          "polar": {
           "angularaxis": {
            "gridcolor": "white",
            "linecolor": "white",
            "ticks": ""
           },
           "bgcolor": "#E5ECF6",
           "radialaxis": {
            "gridcolor": "white",
            "linecolor": "white",
            "ticks": ""
           }
          },
          "scene": {
           "xaxis": {
            "backgroundcolor": "#E5ECF6",
            "gridcolor": "white",
            "gridwidth": 2,
            "linecolor": "white",
            "showbackground": true,
            "ticks": "",
            "zerolinecolor": "white"
           },
           "yaxis": {
            "backgroundcolor": "#E5ECF6",
            "gridcolor": "white",
            "gridwidth": 2,
            "linecolor": "white",
            "showbackground": true,
            "ticks": "",
            "zerolinecolor": "white"
           },
           "zaxis": {
            "backgroundcolor": "#E5ECF6",
            "gridcolor": "white",
            "gridwidth": 2,
            "linecolor": "white",
            "showbackground": true,
            "ticks": "",
            "zerolinecolor": "white"
           }
          },
          "shapedefaults": {
           "line": {
            "color": "#2a3f5f"
           }
          },
          "ternary": {
           "aaxis": {
            "gridcolor": "white",
            "linecolor": "white",
            "ticks": ""
           },
           "baxis": {
            "gridcolor": "white",
            "linecolor": "white",
            "ticks": ""
           },
           "bgcolor": "#E5ECF6",
           "caxis": {
            "gridcolor": "white",
            "linecolor": "white",
            "ticks": ""
           }
          },
          "title": {
           "x": 0.05
          },
          "xaxis": {
           "automargin": true,
           "gridcolor": "white",
           "linecolor": "white",
           "ticks": "",
           "title": {
            "standoff": 15
           },
           "zerolinecolor": "white",
           "zerolinewidth": 2
          },
          "yaxis": {
           "automargin": true,
           "gridcolor": "white",
           "linecolor": "white",
           "ticks": "",
           "title": {
            "standoff": 15
           },
           "zerolinecolor": "white",
           "zerolinewidth": 2
          }
         }
        },
        "title": {
         "text": "Hyperparameter Importances"
        },
        "xaxis": {
         "title": {
          "text": "Importance for Objective Value"
         }
        },
        "yaxis": {
         "title": {
          "text": "Hyperparameter"
         }
        }
       }
      }
     },
     "metadata": {},
     "output_type": "display_data"
    }
   ],
   "source": [
    "optuna.visualization.plot_param_importances(study)"
   ]
  },
  {
   "cell_type": "code",
   "execution_count": 18,
   "metadata": {},
   "outputs": [
    {
     "data": {
      "text/plain": [
       "{'n_estimators': 10000,\n",
       " 'learning_rate': 0.1417570120141957,\n",
       " 'num_leaves': 200,\n",
       " 'max_depth': 4,\n",
       " 'max_bin': 281,\n",
       " 'reg_alpha': 0,\n",
       " 'reg_lambda': 45,\n",
       " 'min_split_gain': 1.4251688006312029,\n",
       " 'subsample': 0.5,\n",
       " 'colsample_bytree': 1.0,\n",
       " 'min_child_samples': 43}"
      ]
     },
     "execution_count": 18,
     "metadata": {},
     "output_type": "execute_result"
    }
   ],
   "source": [
    "best_trial = study.best_trial.params\n",
    "best_trial[\"n_estimators\"] = 10000\n",
    "best_trial"
   ]
  },
  {
   "cell_type": "code",
   "execution_count": 19,
   "metadata": {},
   "outputs": [
    {
     "name": "stdout",
     "output_type": "stream",
     "text": [
      "[LightGBM] [Warning] early_stopping_round is set=100, early_stopping_rounds=100 will be ignored. Current value: early_stopping_round=100\n"
     ]
    }
   ],
   "source": [
    "# final training with the best parameters and\n",
    "# predict with the test set divided in the beginning\n",
    "X_train, X_val, y_train, y_val = train_test_split(X_train, y_train, test_size=0.2, shuffle=True)\n",
    "\n",
    "model = lgb.LGBMRegressor(**best_trial, early_stopping_rounds=100)\n",
    "model.fit(X_train, y_train, eval_set=[(X_val, y_val)],\n",
    "          callbacks=[lgb.log_evaluation(period=0)])\n",
    "y_pred = model.predict(X_test)\n",
    "test_mae = mean_absolute_error(y_test, y_pred)"
   ]
  },
  {
   "cell_type": "code",
   "execution_count": 20,
   "metadata": {},
   "outputs": [
    {
     "data": {
      "text/html": [
       "<div>\n",
       "<style scoped>\n",
       "    .dataframe tbody tr th:only-of-type {\n",
       "        vertical-align: middle;\n",
       "    }\n",
       "\n",
       "    .dataframe tbody tr th {\n",
       "        vertical-align: top;\n",
       "    }\n",
       "\n",
       "    .dataframe thead th {\n",
       "        text-align: right;\n",
       "    }\n",
       "</style>\n",
       "<table border=\"1\" class=\"dataframe\">\n",
       "  <thead>\n",
       "    <tr style=\"text-align: right;\">\n",
       "      <th></th>\n",
       "      <th>Feature</th>\n",
       "      <th>Importance</th>\n",
       "    </tr>\n",
       "  </thead>\n",
       "  <tbody>\n",
       "    <tr>\n",
       "      <th>0</th>\n",
       "      <td>movie_year</td>\n",
       "      <td>102</td>\n",
       "    </tr>\n",
       "    <tr>\n",
       "      <th>1</th>\n",
       "      <td>movie_critic_rating</td>\n",
       "      <td>83</td>\n",
       "    </tr>\n",
       "    <tr>\n",
       "      <th>2</th>\n",
       "      <td>num_critic_pos</td>\n",
       "      <td>43</td>\n",
       "    </tr>\n",
       "    <tr>\n",
       "      <th>4</th>\n",
       "      <td>num_critic_neg</td>\n",
       "      <td>28</td>\n",
       "    </tr>\n",
       "    <tr>\n",
       "      <th>9</th>\n",
       "      <td>mean_pos</td>\n",
       "      <td>26</td>\n",
       "    </tr>\n",
       "    <tr>\n",
       "      <th>7</th>\n",
       "      <td>mean_neu</td>\n",
       "      <td>23</td>\n",
       "    </tr>\n",
       "    <tr>\n",
       "      <th>10</th>\n",
       "      <td>std_pos</td>\n",
       "      <td>21</td>\n",
       "    </tr>\n",
       "    <tr>\n",
       "      <th>11</th>\n",
       "      <td>mean_compound</td>\n",
       "      <td>18</td>\n",
       "    </tr>\n",
       "    <tr>\n",
       "      <th>12</th>\n",
       "      <td>std_compound</td>\n",
       "      <td>16</td>\n",
       "    </tr>\n",
       "    <tr>\n",
       "      <th>8</th>\n",
       "      <td>std_neu</td>\n",
       "      <td>13</td>\n",
       "    </tr>\n",
       "    <tr>\n",
       "      <th>5</th>\n",
       "      <td>mean_neg</td>\n",
       "      <td>12</td>\n",
       "    </tr>\n",
       "    <tr>\n",
       "      <th>20</th>\n",
       "      <td>Drama</td>\n",
       "      <td>9</td>\n",
       "    </tr>\n",
       "    <tr>\n",
       "      <th>75</th>\n",
       "      <td>shallow</td>\n",
       "      <td>8</td>\n",
       "    </tr>\n",
       "    <tr>\n",
       "      <th>24</th>\n",
       "      <td>Horror</td>\n",
       "      <td>8</td>\n",
       "    </tr>\n",
       "    <tr>\n",
       "      <th>3</th>\n",
       "      <td>num_critic_mix</td>\n",
       "      <td>8</td>\n",
       "    </tr>\n",
       "    <tr>\n",
       "      <th>6</th>\n",
       "      <td>std_neg</td>\n",
       "      <td>7</td>\n",
       "    </tr>\n",
       "    <tr>\n",
       "      <th>103</th>\n",
       "      <td>cinematic</td>\n",
       "      <td>7</td>\n",
       "    </tr>\n",
       "    <tr>\n",
       "      <th>17</th>\n",
       "      <td>Comedy</td>\n",
       "      <td>7</td>\n",
       "    </tr>\n",
       "    <tr>\n",
       "      <th>124</th>\n",
       "      <td>turn</td>\n",
       "      <td>5</td>\n",
       "    </tr>\n",
       "    <tr>\n",
       "      <th>39</th>\n",
       "      <td>PG-13</td>\n",
       "      <td>5</td>\n",
       "    </tr>\n",
       "    <tr>\n",
       "      <th>78</th>\n",
       "      <td>likable</td>\n",
       "      <td>5</td>\n",
       "    </tr>\n",
       "    <tr>\n",
       "      <th>122</th>\n",
       "      <td>comic</td>\n",
       "      <td>4</td>\n",
       "    </tr>\n",
       "    <tr>\n",
       "      <th>90</th>\n",
       "      <td>act</td>\n",
       "      <td>4</td>\n",
       "    </tr>\n",
       "    <tr>\n",
       "      <th>25</th>\n",
       "      <td>Music</td>\n",
       "      <td>4</td>\n",
       "    </tr>\n",
       "    <tr>\n",
       "      <th>149</th>\n",
       "      <td>relentlessly</td>\n",
       "      <td>3</td>\n",
       "    </tr>\n",
       "    <tr>\n",
       "      <th>37</th>\n",
       "      <td>Not Rated</td>\n",
       "      <td>3</td>\n",
       "    </tr>\n",
       "    <tr>\n",
       "      <th>56</th>\n",
       "      <td>mediocre</td>\n",
       "      <td>3</td>\n",
       "    </tr>\n",
       "    <tr>\n",
       "      <th>13</th>\n",
       "      <td>Action</td>\n",
       "      <td>3</td>\n",
       "    </tr>\n",
       "    <tr>\n",
       "      <th>18</th>\n",
       "      <td>Crime</td>\n",
       "      <td>3</td>\n",
       "    </tr>\n",
       "    <tr>\n",
       "      <th>22</th>\n",
       "      <td>Fantasy</td>\n",
       "      <td>2</td>\n",
       "    </tr>\n",
       "    <tr>\n",
       "      <th>134</th>\n",
       "      <td>dramatic</td>\n",
       "      <td>2</td>\n",
       "    </tr>\n",
       "    <tr>\n",
       "      <th>123</th>\n",
       "      <td>melodramatic</td>\n",
       "      <td>2</td>\n",
       "    </tr>\n",
       "    <tr>\n",
       "      <th>190</th>\n",
       "      <td>imaginative</td>\n",
       "      <td>2</td>\n",
       "    </tr>\n",
       "    <tr>\n",
       "      <th>165</th>\n",
       "      <td>boring</td>\n",
       "      <td>1</td>\n",
       "    </tr>\n",
       "    <tr>\n",
       "      <th>80</th>\n",
       "      <td>entertain</td>\n",
       "      <td>1</td>\n",
       "    </tr>\n",
       "    <tr>\n",
       "      <th>55</th>\n",
       "      <td>dull</td>\n",
       "      <td>1</td>\n",
       "    </tr>\n",
       "    <tr>\n",
       "      <th>21</th>\n",
       "      <td>Family</td>\n",
       "      <td>1</td>\n",
       "    </tr>\n",
       "    <tr>\n",
       "      <th>46</th>\n",
       "      <td>Unrated</td>\n",
       "      <td>1</td>\n",
       "    </tr>\n",
       "  </tbody>\n",
       "</table>\n",
       "</div>"
      ],
      "text/plain": [
       "                 Feature  Importance\n",
       "0             movie_year         102\n",
       "1    movie_critic_rating          83\n",
       "2         num_critic_pos          43\n",
       "4         num_critic_neg          28\n",
       "9               mean_pos          26\n",
       "7               mean_neu          23\n",
       "10               std_pos          21\n",
       "11         mean_compound          18\n",
       "12          std_compound          16\n",
       "8                std_neu          13\n",
       "5               mean_neg          12\n",
       "20                 Drama           9\n",
       "75               shallow           8\n",
       "24                Horror           8\n",
       "3         num_critic_mix           8\n",
       "6                std_neg           7\n",
       "103            cinematic           7\n",
       "17                Comedy           7\n",
       "124                 turn           5\n",
       "39                 PG-13           5\n",
       "78               likable           5\n",
       "122                comic           4\n",
       "90                   act           4\n",
       "25                 Music           4\n",
       "149         relentlessly           3\n",
       "37             Not Rated           3\n",
       "56              mediocre           3\n",
       "13                Action           3\n",
       "18                 Crime           3\n",
       "22               Fantasy           2\n",
       "134             dramatic           2\n",
       "123         melodramatic           2\n",
       "190          imaginative           2\n",
       "165               boring           1\n",
       "80             entertain           1\n",
       "55                  dull           1\n",
       "21                Family           1\n",
       "46               Unrated           1"
      ]
     },
     "execution_count": 20,
     "metadata": {},
     "output_type": "execute_result"
    }
   ],
   "source": [
    "feature_importance = model.feature_importances_\n",
    "\n",
    "# Create a dataframe to display feature importance\n",
    "importance_df = pd.DataFrame({'Feature': X_train.columns, 'Importance': feature_importance})\n",
    "importance_df = importance_df.sort_values(by='Importance', ascending=False)\n",
    "importance_df[importance_df['Importance'] > 0]"
   ]
  },
  {
   "cell_type": "code",
   "execution_count": 21,
   "metadata": {},
   "outputs": [
    {
     "name": "stdout",
     "output_type": "stream",
     "text": [
      "Default MAE if we assume critic rating equals to user rating: 1.368877016551435\n",
      "Test MAE : 0.8530118478423075\n",
      "Improvement: 37.69%\n"
     ]
    }
   ],
   "source": [
    "train_critic_user_ratings = fetch_from_sql(f'SELECT movie_critic_rating, movie_user_rating FROM Movie WHERE movie_id IN ({\",\".join(train_ids)})')\n",
    "critic = [r[0]/10 for r in train_critic_user_ratings]\n",
    "user = [r[1] for r in train_critic_user_ratings]\n",
    "default_mae = mean_absolute_error(user, critic)\n",
    "\n",
    "print(f\"Default MAE if we assume critic rating equals to user rating: {default_mae}\")\n",
    "print(f\"Test MAE : {test_mae}\")\n",
    "print(f\"Improvement: {np.round((default_mae - test_mae) / default_mae, 4)*100}%\")"
   ]
  },
  {
   "attachments": {},
   "cell_type": "markdown",
   "metadata": {},
   "source": [
    "### As a result of feature engineering and hyperparameter tuning, I'm able to predict the user rating of a movie with critic reviews with a 0.853 mean absolute error. It is a 37.69% improvement compared to believing the user rating is equal to the critic rating."
   ]
  }
 ],
 "metadata": {
  "kernelspec": {
   "display_name": "rating_pred",
   "language": "python",
   "name": "python3"
  },
  "language_info": {
   "codemirror_mode": {
    "name": "ipython",
    "version": 3
   },
   "file_extension": ".py",
   "mimetype": "text/x-python",
   "name": "python",
   "nbconvert_exporter": "python",
   "pygments_lexer": "ipython3",
   "version": "3.8.16"
  },
  "orig_nbformat": 4
 },
 "nbformat": 4,
 "nbformat_minor": 2
}

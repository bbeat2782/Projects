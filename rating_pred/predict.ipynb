{
 "cells": [
  {
   "cell_type": "code",
   "execution_count": 1,
   "metadata": {},
   "outputs": [
    {
     "name": "stderr",
     "output_type": "stream",
     "text": [
      "/Users/sanggyuan/miniforge3/envs/rating_pred/lib/python3.8/site-packages/tqdm/auto.py:21: TqdmWarning: IProgress not found. Please update jupyter and ipywidgets. See https://ipywidgets.readthedocs.io/en/stable/user_install.html\n",
      "  from .autonotebook import tqdm as notebook_tqdm\n"
     ]
    }
   ],
   "source": [
    "import sqlite3\n",
    "from keybert import KeyBERT\n",
    "\n",
    "import numpy as np\n",
    "import pandas as pd\n",
    "import nltk\n",
    "\n",
    "from sklearn.model_selection import train_test_split\n",
    "from sklearn.metrics import mean_absolute_error\n",
    "\n",
    "import optuna\n",
    "import lightgbm as lgb\n",
    "from sklearn.model_selection import KFold\n",
    "import spacy"
   ]
  },
  {
   "attachments": {},
   "cell_type": "markdown",
   "metadata": {},
   "source": [
    "### Helper functions to access sql database"
   ]
  },
  {
   "cell_type": "code",
   "execution_count": 2,
   "metadata": {},
   "outputs": [],
   "source": [
    "sqldb_path = 'data/rating_database.db'\n",
    "\n",
    "def insert_into_sql(statement, db_path = sqldb_path):\n",
    "    \"\"\"\n",
    "    Insert or update sql database based on the statement parameter\n",
    "\n",
    "    Parameters\n",
    "    ----------\n",
    "    statement : str\n",
    "        The statement to execute\n",
    "    db_path : str\n",
    "        Path to sqlite database that you want to execute the statements\n",
    "\n",
    "    Returns\n",
    "    -------\n",
    "    None\n",
    "    \"\"\"\n",
    "    \n",
    "    try:\n",
    "        sqliteConnection = sqlite3.connect(db_path)\n",
    "        cursor = sqliteConnection.cursor()\n",
    "        cursor.execute(statement)\n",
    "        sqliteConnection.commit()\n",
    "        cursor.close()\n",
    "    except sqlite3.Error as error:\n",
    "        print(\"Error while connecting to sqlite\", error)\n",
    "\n",
    "\n",
    "def fetch_from_sql(statement, db_path = sqldb_path):\n",
    "    \"\"\"\n",
    "    Fetch from sql database based on the statement parameter\n",
    "\n",
    "    Parameters\n",
    "    ----------\n",
    "    statement : str\n",
    "        The statement to execute\n",
    "    db_path : str\n",
    "        Path to sql database that you want to execute the statements\n",
    "\n",
    "    Returns\n",
    "    -------\n",
    "    fetch_items : list\n",
    "        A list of elements that match the statement from sql database\n",
    "    \"\"\"\n",
    "    \n",
    "    try:\n",
    "        sqliteConnection = sqlite3.connect(db_path)\n",
    "        cursor = sqliteConnection.cursor()\n",
    "        cursor.execute(statement)\n",
    "        fetch_items = cursor.fetchall()\n",
    "        cursor.close()\n",
    "\n",
    "        return fetch_items\n",
    "    except sqlite3.Error as error:\n",
    "        print(\"Error while connecting to sqlite\", error)"
   ]
  },
  {
   "attachments": {},
   "cell_type": "markdown",
   "metadata": {},
   "source": [
    "## First, divide all movies into training and test set"
   ]
  },
  {
   "cell_type": "code",
   "execution_count": 3,
   "metadata": {},
   "outputs": [],
   "source": [
    "all_movie_ids = 'SELECT movie_id FROM Movie'\n",
    "movie_ids = [str(row[0]) for row in fetch_from_sql(all_movie_ids)]\n",
    "\n",
    "np.random.seed(42)\n",
    "train_ids = np.random.choice(movie_ids, size=int(len(movie_ids)*0.8), replace=False)\n",
    "test_ids = list(set(movie_ids).difference(set(train_ids)))"
   ]
  },
  {
   "attachments": {},
   "cell_type": "markdown",
   "metadata": {},
   "source": [
    "## Then, create train and test sets using the ids"
   ]
  },
  {
   "cell_type": "code",
   "execution_count": 4,
   "metadata": {},
   "outputs": [
    {
     "name": "stdout",
     "output_type": "stream",
     "text": [
      "Current unwanted length: 8123\n"
     ]
    }
   ],
   "source": [
    "# Add stopwords and names to unwanted. Names are added because reviews are \n",
    "# likely to have a lot of different actors and actress names in them.\n",
    "unwanted = nltk.corpus.stopwords.words(\"english\")\n",
    "unwanted.extend([w.lower() for w in nltk.corpus.names.words()])\n",
    "print(f'Current unwanted length: {len(unwanted)}')\n",
    "\n",
    "# Loading spacy for lemmatization\n",
    "spacy_tokenization = spacy.load('en_core_web_sm', disable=['parser', 'ner'])\n",
    "\n",
    "def get_data(ids, features):\n",
    "    \"\"\" \n",
    "    Retrives features from Movie table that belongs to given ids.\n",
    "    \"\"\"\n",
    "\n",
    "    ids = [str(one_id) for one_id in ids]\n",
    "    df = pd.DataFrame(fetch_from_sql((\n",
    "            f'SELECT {\", \".join(features)} '\n",
    "            f'FROM Movie WHERE movie_id IN ({\",\".join(ids)})'\n",
    "        )))\n",
    "    df.columns = features\n",
    "\n",
    "    return df\n",
    "\n",
    "\n",
    "def preprocess_data(train_df, test_df):\n",
    "    \"\"\"\n",
    "    Returns train and test df after replacing minor categories in \n",
    "    movie_rating and movie_genres. For movie_rating, a minor category\n",
    "    is when it appears fewer than 20 times in the train_df. For\n",
    "    movie_genres, the threshold is 80. This is an arbitrary choice.\n",
    "    \"\"\"\n",
    "\n",
    "    movie_rating_vc = train_df['movie_rating'].value_counts()\n",
    "    minor_ratings = movie_rating_vc[movie_rating_vc < 20].index\n",
    "    train_df = train_df.replace(minor_ratings, 'etc')\n",
    "    test_df = test_df.replace(minor_ratings, 'etc')\n",
    "\n",
    "    all_genres = train_df[['movie_genre',\n",
    "                           'movie_subgenre',\n",
    "                           'movie_sub2genre']].to_numpy().flatten()\n",
    "    genre_vc = pd.Series(all_genres).value_counts()\n",
    "    exclude_genres = genre_vc[genre_vc < 80].index\n",
    "    train_df = train_df.replace(exclude_genres, 'None')\n",
    "    test_df = test_df.replace(exclude_genres, 'None')\n",
    "\n",
    "    return train_df, test_df\n",
    "\n",
    "\n",
    "def skip_unwanted(pos_tuple):\n",
    "    \"\"\"\n",
    "    Returns a boolean value depending on whether it should skip\n",
    "    a word or not.\n",
    "    \"\"\"\n",
    "\n",
    "    word, tag = pos_tuple\n",
    "    if not word.isalpha() or word in unwanted:\n",
    "        return False\n",
    "    if tag.startswith('NN'):\n",
    "        return False\n",
    "    return True\n",
    "\n",
    "\n",
    "def filter_and_lemmatize(text, nlp=spacy_tokenization):\n",
    "    \"\"\"\n",
    "    Filters unwanted words and lemmatizes words in the \n",
    "    given text using the nlp parameter. The default is \n",
    "    spacy_tokenization.\n",
    "    \"\"\"\n",
    "\n",
    "    text = text.lower()\n",
    "    words = ' '.join([word for word, tag in filter(skip_unwanted, nltk.pos_tag(text.split(' ')))])\n",
    "    nlp.max_length = len(words) + 100\n",
    "    spacy_words = nlp(words)\n",
    "    return ' '.join([token.lemma_ for token in spacy_words])\n",
    "\n",
    "\n",
    "def extract_text_features(df):\n",
    "    \"\"\"\n",
    "    Extract stored critic reviews and text sentiment analysis \n",
    "    result for each movie and store combined reviews and mean \n",
    "    and standard deviation of each sentiment analysis scores \n",
    "    in a dataframe. The scores are negative, neutral, positive, \n",
    "    and compound score. \n",
    "    \"\"\"\n",
    "\n",
    "    text_features = {}\n",
    "    for _, row in df.iterrows():\n",
    "        creviews = pd.DataFrame(fetch_from_sql((\n",
    "                        'SELECT critic_review, neg, neu, pos, compound '\n",
    "                        f'FROM Critics WHERE movie_id == {row[\"movie_id\"]}'\n",
    "                    )))\n",
    "        try:\n",
    "            creviews.columns = ['critic_review', 'neg', 'neu', 'pos', 'compound']\n",
    "            text_features[row['movie_id']] = [' '.join(creviews['critic_review']),\n",
    "                                            creviews['neg'].mean(),\n",
    "                                            creviews['neg'].std(),\n",
    "                                            creviews['neu'].mean(),\n",
    "                                            creviews['neu'].std(),\n",
    "                                            creviews['pos'].mean(),\n",
    "                                            creviews['pos'].std(),\n",
    "                                            creviews['compound'].mean(),\n",
    "                                            creviews['compound'].std()]\n",
    "        except:\n",
    "            continue\n",
    "    text_features_df = pd.DataFrame(text_features).transpose()\n",
    "    text_features_df.columns = ['reviews', 'mean_neg', 'std_neg',\n",
    "                                'mean_neu', 'std_neu', 'mean_pos', 'std_pos',\n",
    "                                'mean_compound', 'std_compound']\n",
    "    \n",
    "    # lemmatize\n",
    "    text_features_df['reviews'] = text_features_df['reviews'].apply(filter_and_lemmatize)\n",
    "\n",
    "    return text_features_df"
   ]
  },
  {
   "cell_type": "code",
   "execution_count": 5,
   "metadata": {},
   "outputs": [],
   "source": [
    "# features to extract from the Movie table\n",
    "features = ['movie_id', 'movie_year', 'movie_critic_rating', 'movie_user_rating',\n",
    "            'movie_genre', 'movie_subgenre', 'movie_sub2genre', 'movie_rating',\n",
    "            'num_critic_pos', 'num_critic_mix', 'num_critic_neg']\n",
    "\n",
    "# get features from the Movie table with train_ids and test_ids\n",
    "train_df = get_data(train_ids, features)\n",
    "test_df = get_data(test_ids, features)\n",
    "\n",
    "# preprocess df and extract text features\n",
    "train_df, test_df = preprocess_data(train_df, test_df)\n",
    "test_text_fea = extract_text_features(test_df)\n",
    "train_text_fea = extract_text_features(train_df)\n",
    "\n",
    "# combine the two dataframes\n",
    "train_df = train_df.merge(train_text_fea, how='inner', left_on='movie_id', right_index=True)\n",
    "test_df = test_df.merge(test_text_fea, how = 'inner', left_on='movie_id', right_index=True)"
   ]
  },
  {
   "attachments": {},
   "cell_type": "markdown",
   "metadata": {},
   "source": [
    "## Keywords extraction using Keybert"
   ]
  },
  {
   "cell_type": "code",
   "execution_count": 6,
   "metadata": {},
   "outputs": [],
   "source": [
    "def extract_keywords(corpora, kw_model):\n",
    "    \"\"\"\n",
    "    For each corpus in corpora, the function extracts 20 \n",
    "    diversified unigram keywords. Then, it returns \n",
    "    them in a list of tuples. Each tuple contains a keyword\n",
    "    and its distance from a corpus.\n",
    "    \"\"\"\n",
    "\n",
    "    result = []\n",
    "    for corpus in corpora:\n",
    "        kw = kw_model.extract_keywords(corpus, \n",
    "                                       keyphrase_ngram_range=(1, 1), \n",
    "                                       stop_words='english',\n",
    "                                       use_maxsum=True,\n",
    "                                       top_n=20)\n",
    "        result.append(kw)\n",
    "\n",
    "    return result"
   ]
  },
  {
   "cell_type": "code",
   "execution_count": 7,
   "metadata": {},
   "outputs": [],
   "source": [
    "# Getting combined lemmatized critic reviews for each user rating\n",
    "corpora = []\n",
    "for rating in np.arange(0.0, 10.1, 0.1):\n",
    "    corpus = ' '.join(train_df[train_df['movie_user_rating'] == np.round(rating, 1)]['reviews'])\n",
    "    corpora.append(corpus)\n",
    "\n",
    "# Extracting 20 unigram keywords using KeyBert\n",
    "# https://github.com/MaartenGr/KeyBERT\n",
    "kw_model = KeyBERT(model='all-MiniLM-L6-v2')\n",
    "keywords = extract_keywords(corpora, kw_model)\n",
    "\n",
    "# only keep keywords that appear more than twice in corpora\n",
    "all_keywords = pd.Series([pair[0] for rating in keywords for pair in rating])\n",
    "all_keywords_vc = all_keywords.value_counts()\n",
    "words_to_care = all_keywords_vc[all_keywords_vc>2].index"
   ]
  },
  {
   "cell_type": "code",
   "execution_count": 8,
   "metadata": {},
   "outputs": [],
   "source": [
    "def category_encoding(df, features, values_to_exclude):\n",
    "    onehot = {}\n",
    "    unique_categories = np.unique(df[features].to_numpy().flatten())\n",
    "    unique_categories = np.delete(unique_categories, np.where(unique_categories == values_to_exclude))\n",
    "    for category in unique_categories:\n",
    "        result = []\n",
    "        for _, row in df[features].iterrows():\n",
    "            result.append(category in row.values)\n",
    "        onehot[category] = result\n",
    "\n",
    "    return pd.DataFrame(onehot).set_index(df['movie_id'])\n",
    "\n",
    "\n",
    "def word_appearance(df, words_to_care, kw_model):\n",
    "    def does_appear(row, word):\n",
    "        try:\n",
    "            return dict(row)[word]\n",
    "        except:\n",
    "            return 0\n",
    "\n",
    "    reviews_keywords = df['reviews'].apply(lambda row: kw_model.extract_keywords(row, \n",
    "                                                        keyphrase_ngram_range=(1, 1), \n",
    "                                                        stop_words='english',\n",
    "                                                        use_maxsum=True,\n",
    "                                                        top_n=20))\n",
    "    result = {}\n",
    "    for word in words_to_care:\n",
    "        result[word] = reviews_keywords.apply(lambda row: does_appear(row, word))\n",
    "\n",
    "    return pd.DataFrame(result).set_index(df['movie_id'])\n",
    "\n",
    "\n",
    "def create_set(df, kw_model, words_to_care):\n",
    "    genre_df = category_encoding(df, ['movie_genre', 'movie_subgenre', 'movie_sub2genre'], 'None')\n",
    "    rating_df = category_encoding(df, ['movie_rating'], 'etc')\n",
    "    word_appearance_df = word_appearance(df, words_to_care, kw_model)\n",
    "\n",
    "    df = df.merge(genre_df, left_on='movie_id', right_index=True)\\\n",
    "           .merge(rating_df, left_on='movie_id', right_index=True)\\\n",
    "           .merge(word_appearance_df, left_on='movie_id', right_index=True)\n",
    "\n",
    "    return df\n",
    "\n",
    "\n",
    "def create_set_tfidf(df, tfidf_df):\n",
    "    genre_df = category_encoding(df, ['movie_genre', 'movie_subgenre', 'movie_sub2genre'], 'None')\n",
    "    rating_df = category_encoding(df, ['movie_rating'], 'etc')\n",
    "\n",
    "    df = df.merge(genre_df, left_on='movie_id', right_index=True)\\\n",
    "           .merge(rating_df, left_on='movie_id', right_index=True)\\\n",
    "           .merge(tfidf_df, left_on='movie_id', right_index=True)\n",
    "    \n",
    "    # convert values retrieved from sql database into float\n",
    "    obj_cols = ['mean_neg', 'std_neg', 'mean_neu', 'std_neu',\n",
    "                'mean_pos', 'std_pos', 'mean_compound', 'std_compound']\n",
    "    df[obj_cols] = df[obj_cols].apply(pd.to_numeric)\n",
    "\n",
    "    # drop already processed columns\n",
    "    columns_to_drop = ['movie_id', 'reviews', 'movie_genre', \n",
    "                        'movie_subgenre', 'movie_sub2genre', \n",
    "                        'movie_rating']\n",
    "    df = df.drop(columns_to_drop, axis=1)\n",
    "\n",
    "    return df"
   ]
  },
  {
   "cell_type": "code",
   "execution_count": 9,
   "metadata": {},
   "outputs": [],
   "source": [
    "train_final_df = create_set(train_df, kw_model, words_to_care)\n",
    "test_final_df = create_set(test_df, kw_model, words_to_care)\n",
    "test_final_df = test_final_df.drop(['Reality-TV'], axis=1)"
   ]
  },
  {
   "cell_type": "code",
   "execution_count": 10,
   "metadata": {},
   "outputs": [
    {
     "data": {
      "text/html": [
       "<div>\n",
       "<style scoped>\n",
       "    .dataframe tbody tr th:only-of-type {\n",
       "        vertical-align: middle;\n",
       "    }\n",
       "\n",
       "    .dataframe tbody tr th {\n",
       "        vertical-align: top;\n",
       "    }\n",
       "\n",
       "    .dataframe thead th {\n",
       "        text-align: right;\n",
       "    }\n",
       "</style>\n",
       "<table border=\"1\" class=\"dataframe\">\n",
       "  <thead>\n",
       "    <tr style=\"text-align: right;\">\n",
       "      <th></th>\n",
       "      <th>movie_year</th>\n",
       "      <th>movie_critic_rating</th>\n",
       "      <th>movie_user_rating</th>\n",
       "      <th>num_critic_pos</th>\n",
       "      <th>num_critic_mix</th>\n",
       "      <th>num_critic_neg</th>\n",
       "      <th>mean_neg</th>\n",
       "      <th>std_neg</th>\n",
       "      <th>mean_neu</th>\n",
       "      <th>std_neu</th>\n",
       "      <th>...</th>\n",
       "      <th>weary</th>\n",
       "      <th>lackluster</th>\n",
       "      <th>meticulous</th>\n",
       "      <th>superficial</th>\n",
       "      <th>imaginative</th>\n",
       "      <th>extraordinary</th>\n",
       "      <th>meaningful</th>\n",
       "      <th>seductive</th>\n",
       "      <th>dullish</th>\n",
       "      <th>rambunctious</th>\n",
       "    </tr>\n",
       "  </thead>\n",
       "  <tbody>\n",
       "    <tr>\n",
       "      <th>0</th>\n",
       "      <td>2014</td>\n",
       "      <td>57.0</td>\n",
       "      <td>7.4</td>\n",
       "      <td>4</td>\n",
       "      <td>10</td>\n",
       "      <td>0</td>\n",
       "      <td>0.171714</td>\n",
       "      <td>0.100430</td>\n",
       "      <td>0.689357</td>\n",
       "      <td>0.151849</td>\n",
       "      <td>...</td>\n",
       "      <td>0.0</td>\n",
       "      <td>0.0</td>\n",
       "      <td>0.0</td>\n",
       "      <td>0.0</td>\n",
       "      <td>0.0</td>\n",
       "      <td>0.0</td>\n",
       "      <td>0.0</td>\n",
       "      <td>0.0</td>\n",
       "      <td>0.0</td>\n",
       "      <td>0.0</td>\n",
       "    </tr>\n",
       "    <tr>\n",
       "      <th>1</th>\n",
       "      <td>2006</td>\n",
       "      <td>61.0</td>\n",
       "      <td>8.1</td>\n",
       "      <td>5</td>\n",
       "      <td>2</td>\n",
       "      <td>1</td>\n",
       "      <td>0.221500</td>\n",
       "      <td>0.192903</td>\n",
       "      <td>0.680250</td>\n",
       "      <td>0.167403</td>\n",
       "      <td>...</td>\n",
       "      <td>0.0</td>\n",
       "      <td>0.0</td>\n",
       "      <td>0.0</td>\n",
       "      <td>0.0</td>\n",
       "      <td>0.0</td>\n",
       "      <td>0.0</td>\n",
       "      <td>0.0</td>\n",
       "      <td>0.0</td>\n",
       "      <td>0.0</td>\n",
       "      <td>0.0</td>\n",
       "    </tr>\n",
       "    <tr>\n",
       "      <th>2</th>\n",
       "      <td>2009</td>\n",
       "      <td>31.0</td>\n",
       "      <td>5.7</td>\n",
       "      <td>2</td>\n",
       "      <td>7</td>\n",
       "      <td>9</td>\n",
       "      <td>0.104111</td>\n",
       "      <td>0.110915</td>\n",
       "      <td>0.723222</td>\n",
       "      <td>0.152855</td>\n",
       "      <td>...</td>\n",
       "      <td>0.0</td>\n",
       "      <td>0.0</td>\n",
       "      <td>0.0</td>\n",
       "      <td>0.0</td>\n",
       "      <td>0.0</td>\n",
       "      <td>0.0</td>\n",
       "      <td>0.0</td>\n",
       "      <td>0.0</td>\n",
       "      <td>0.0</td>\n",
       "      <td>0.0</td>\n",
       "    </tr>\n",
       "  </tbody>\n",
       "</table>\n",
       "<p>3 rows × 197 columns</p>\n",
       "</div>"
      ],
      "text/plain": [
       "   movie_year  movie_critic_rating  movie_user_rating  num_critic_pos  \\\n",
       "0        2014                 57.0                7.4               4   \n",
       "1        2006                 61.0                8.1               5   \n",
       "2        2009                 31.0                5.7               2   \n",
       "\n",
       "   num_critic_mix  num_critic_neg  mean_neg   std_neg  mean_neu   std_neu  \\\n",
       "0              10               0  0.171714  0.100430  0.689357  0.151849   \n",
       "1               2               1  0.221500  0.192903  0.680250  0.167403   \n",
       "2               7               9  0.104111  0.110915  0.723222  0.152855   \n",
       "\n",
       "   ...  weary  lackluster  meticulous  superficial  imaginative  \\\n",
       "0  ...    0.0         0.0         0.0          0.0          0.0   \n",
       "1  ...    0.0         0.0         0.0          0.0          0.0   \n",
       "2  ...    0.0         0.0         0.0          0.0          0.0   \n",
       "\n",
       "   extraordinary  meaningful  seductive  dullish  rambunctious  \n",
       "0            0.0         0.0        0.0      0.0           0.0  \n",
       "1            0.0         0.0        0.0      0.0           0.0  \n",
       "2            0.0         0.0        0.0      0.0           0.0  \n",
       "\n",
       "[3 rows x 197 columns]"
      ]
     },
     "execution_count": 10,
     "metadata": {},
     "output_type": "execute_result"
    }
   ],
   "source": [
    "train_final_df.head(3)"
   ]
  },
  {
   "cell_type": "code",
   "execution_count": 11,
   "metadata": {},
   "outputs": [
    {
     "data": {
      "text/html": [
       "<div>\n",
       "<style scoped>\n",
       "    .dataframe tbody tr th:only-of-type {\n",
       "        vertical-align: middle;\n",
       "    }\n",
       "\n",
       "    .dataframe tbody tr th {\n",
       "        vertical-align: top;\n",
       "    }\n",
       "\n",
       "    .dataframe thead th {\n",
       "        text-align: right;\n",
       "    }\n",
       "</style>\n",
       "<table border=\"1\" class=\"dataframe\">\n",
       "  <thead>\n",
       "    <tr style=\"text-align: right;\">\n",
       "      <th></th>\n",
       "      <th>movie_year</th>\n",
       "      <th>movie_critic_rating</th>\n",
       "      <th>movie_user_rating</th>\n",
       "      <th>num_critic_pos</th>\n",
       "      <th>num_critic_mix</th>\n",
       "      <th>num_critic_neg</th>\n",
       "      <th>mean_neg</th>\n",
       "      <th>std_neg</th>\n",
       "      <th>mean_neu</th>\n",
       "      <th>std_neu</th>\n",
       "      <th>...</th>\n",
       "      <th>weary</th>\n",
       "      <th>lackluster</th>\n",
       "      <th>meticulous</th>\n",
       "      <th>superficial</th>\n",
       "      <th>imaginative</th>\n",
       "      <th>extraordinary</th>\n",
       "      <th>meaningful</th>\n",
       "      <th>seductive</th>\n",
       "      <th>dullish</th>\n",
       "      <th>rambunctious</th>\n",
       "    </tr>\n",
       "  </thead>\n",
       "  <tbody>\n",
       "    <tr>\n",
       "      <th>0</th>\n",
       "      <td>1950</td>\n",
       "      <td>74.0</td>\n",
       "      <td>7.8</td>\n",
       "      <td>11</td>\n",
       "      <td>3</td>\n",
       "      <td>0</td>\n",
       "      <td>0.144455</td>\n",
       "      <td>0.160569</td>\n",
       "      <td>0.711091</td>\n",
       "      <td>0.206610</td>\n",
       "      <td>...</td>\n",
       "      <td>0.0</td>\n",
       "      <td>0.0</td>\n",
       "      <td>0.0</td>\n",
       "      <td>0.0</td>\n",
       "      <td>0.0</td>\n",
       "      <td>0.0</td>\n",
       "      <td>0.0</td>\n",
       "      <td>0.0</td>\n",
       "      <td>0.0</td>\n",
       "      <td>0.0</td>\n",
       "    </tr>\n",
       "    <tr>\n",
       "      <th>1</th>\n",
       "      <td>2022</td>\n",
       "      <td>45.0</td>\n",
       "      <td>6.2</td>\n",
       "      <td>7</td>\n",
       "      <td>33</td>\n",
       "      <td>4</td>\n",
       "      <td>0.070932</td>\n",
       "      <td>0.097436</td>\n",
       "      <td>0.800568</td>\n",
       "      <td>0.128292</td>\n",
       "      <td>...</td>\n",
       "      <td>0.0</td>\n",
       "      <td>0.0</td>\n",
       "      <td>0.0</td>\n",
       "      <td>0.0</td>\n",
       "      <td>0.0</td>\n",
       "      <td>0.0</td>\n",
       "      <td>0.0</td>\n",
       "      <td>0.0</td>\n",
       "      <td>0.0</td>\n",
       "      <td>0.0</td>\n",
       "    </tr>\n",
       "    <tr>\n",
       "      <th>2</th>\n",
       "      <td>2019</td>\n",
       "      <td>84.0</td>\n",
       "      <td>4.8</td>\n",
       "      <td>49</td>\n",
       "      <td>3</td>\n",
       "      <td>0</td>\n",
       "      <td>0.049481</td>\n",
       "      <td>0.058409</td>\n",
       "      <td>0.736481</td>\n",
       "      <td>0.131844</td>\n",
       "      <td>...</td>\n",
       "      <td>0.0</td>\n",
       "      <td>0.0</td>\n",
       "      <td>0.0</td>\n",
       "      <td>0.0</td>\n",
       "      <td>0.0</td>\n",
       "      <td>0.0</td>\n",
       "      <td>0.0</td>\n",
       "      <td>0.0</td>\n",
       "      <td>0.0</td>\n",
       "      <td>0.0</td>\n",
       "    </tr>\n",
       "  </tbody>\n",
       "</table>\n",
       "<p>3 rows × 197 columns</p>\n",
       "</div>"
      ],
      "text/plain": [
       "   movie_year  movie_critic_rating  movie_user_rating  num_critic_pos  \\\n",
       "0        1950                 74.0                7.8              11   \n",
       "1        2022                 45.0                6.2               7   \n",
       "2        2019                 84.0                4.8              49   \n",
       "\n",
       "   num_critic_mix  num_critic_neg  mean_neg   std_neg  mean_neu   std_neu  \\\n",
       "0               3               0  0.144455  0.160569  0.711091  0.206610   \n",
       "1              33               4  0.070932  0.097436  0.800568  0.128292   \n",
       "2               3               0  0.049481  0.058409  0.736481  0.131844   \n",
       "\n",
       "   ...  weary  lackluster  meticulous  superficial  imaginative  \\\n",
       "0  ...    0.0         0.0         0.0          0.0          0.0   \n",
       "1  ...    0.0         0.0         0.0          0.0          0.0   \n",
       "2  ...    0.0         0.0         0.0          0.0          0.0   \n",
       "\n",
       "   extraordinary  meaningful  seductive  dullish  rambunctious  \n",
       "0            0.0         0.0        0.0      0.0           0.0  \n",
       "1            0.0         0.0        0.0      0.0           0.0  \n",
       "2            0.0         0.0        0.0      0.0           0.0  \n",
       "\n",
       "[3 rows x 197 columns]"
      ]
     },
     "execution_count": 11,
     "metadata": {},
     "output_type": "execute_result"
    }
   ],
   "source": [
    "test_final_df.head(3)"
   ]
  },
  {
   "cell_type": "code",
   "execution_count": 12,
   "metadata": {},
   "outputs": [],
   "source": [
    "# saving for future use\n",
    "train_final_df.to_csv('data/train_final.csv', index=False)\n",
    "test_final_df.to_csv('data/test_final.csv', index=False)"
   ]
  },
  {
   "attachments": {},
   "cell_type": "markdown",
   "metadata": {},
   "source": [
    "## Split dataset into X and y"
   ]
  },
  {
   "cell_type": "code",
   "execution_count": 13,
   "metadata": {},
   "outputs": [],
   "source": [
    "def split_dataset(df, target='movie_user_rating'):\n",
    "    X = df.drop(columns=[target])\n",
    "    y = df[target]\n",
    "\n",
    "    return X, y\n",
    "\n",
    "X_train, y_train = split_dataset(train_final_df)\n",
    "X_test, y_test = split_dataset(test_final_df)"
   ]
  },
  {
   "attachments": {},
   "cell_type": "markdown",
   "metadata": {},
   "source": [
    "## Hyperparameter tuning\n",
    "\n",
    "`n_estimators`: Controls the number of decision trees. Typically, high number of n_estimators is used with early stopping.\n",
    "\n",
    "`learning_rate`: Controls the step size of the gradient descent. Need to tune this to avoid overfitting since LGBM builds tree to correct the errors of the previous trees. \n",
    "\n",
    "`num_leaves`: Controls the number of decision leaves in a single tree. According to LGBM documentation (check the link), the maximum limit of nuim_leaves should be 2^(max_depth)\n",
    "\n",
    "`max_depth`: Controls the levels of tree. Higher max_depth means more complex tree and prone to overfit. Lower max_depth means less complex and prone to underfit.\n",
    "\n",
    "`max_bin`: Controls the max number of bins when converting continuous variables into discrete.\n",
    "\n",
    "`reg_alpha`: L1 regularization. A good search range is (0, 100). It adds the absolute value of magnitude of the coefficient as a penalty term to the loss function.\n",
    "\n",
    "`reg_lambda`: L2 regularization. A good search range is (0, 100). It adds the squared magnitude of the coefficient as a penalty term to the loss function.\n",
    "\n",
    "`min_split_gain`: Controls the minimum gain required to perform a split during the tree building process. It is used as a stopping criterion to prevent overfitting.\n",
    "\n",
    "`subsample`: Controls the percentage of training samples to use when training each tree.\n",
    "\n",
    "`colsample_bytree`: Controls the percentage of features to sample when training each tree.\n",
    "\n",
    "`min_child_samples`: Controls the minimum number of data points needed in a leaf node, which helps to prevent overfitting."
   ]
  },
  {
   "cell_type": "code",
   "execution_count": 14,
   "metadata": {},
   "outputs": [],
   "source": [
    "def objective(trial, data = X_train, target = y_train):\n",
    "    param_grid = {\n",
    "        \"n_estimators\": trial.suggest_categorical(\"n_estimators\", [10000]),\n",
    "        \"learning_rate\": trial.suggest_float(\"learning_rate\", 0.01, 0.3),\n",
    "        \"num_leaves\": trial.suggest_int(\"num_leaves\", 20, 2000, step=20),\n",
    "        \"max_depth\": trial.suggest_int(\"max_depth\", 3, 12),\n",
    "        \"max_bin\": trial.suggest_int(\"max_bin\", 200, 300),\n",
    "        \"reg_alpha\": trial.suggest_int(\"reg_alpha\", 0, 100, step=5),\n",
    "        \"reg_lambda\": trial.suggest_int(\"reg_lambda\", 0, 100, step=5),\n",
    "        \"min_split_gain\": trial.suggest_float(\"min_split_gain\", 0, 15),\n",
    "        \"subsample\": trial.suggest_float(\"subsample\", 0.2, 1.0, step=0.1),\n",
    "        \"colsample_bytree\": trial.suggest_float(\"colsample_bytree\", 0.2, 1.0, step=0.1),\n",
    "        \"min_child_samples\": trial.suggest_int(\"min_child_samples\", 1,500),\n",
    "    }\n",
    "\n",
    "    cv = KFold(n_splits=5, shuffle=True)\n",
    "    cv_scores = np.empty(5)\n",
    "\n",
    "    for idx, (train_idx, val_idx) in enumerate(cv.split(data, target)):\n",
    "        X_t, X_v = data.iloc[train_idx], data.iloc[val_idx]\n",
    "        y_t, y_v = target.iloc[train_idx], target.iloc[val_idx]\n",
    "\n",
    "        model = lgb.LGBMRegressor(**param_grid)\n",
    "        model.fit(X_t, y_t, eval_set=[(X_v, y_v)], eval_metric='mape',\n",
    "                  callbacks=[lgb.early_stopping(stopping_rounds=100),\n",
    "                             lgb.log_evaluation(period=0)])\n",
    "        preds = model.predict(X_v)\n",
    "        cv_scores[idx] = mean_absolute_error(y_v, preds)\n",
    "    \n",
    "    return np.mean(cv_scores)"
   ]
  },
  {
   "cell_type": "code",
   "execution_count": 15,
   "metadata": {},
   "outputs": [
    {
     "name": "stderr",
     "output_type": "stream",
     "text": [
      "[I 2023-07-07 18:44:45,349] A new study created in memory with name: no-name-7d50688c-d280-48ab-8f3e-f158522d14be\n"
     ]
    },
    {
     "name": "stdout",
     "output_type": "stream",
     "text": [
      "Training until validation scores don't improve for 100 rounds\n",
      "Early stopping, best iteration is:\n",
      "[24]\tvalid_0's mape: 0.163454\tvalid_0's l2: 1.27722\n",
      "Training until validation scores don't improve for 100 rounds\n",
      "Early stopping, best iteration is:\n",
      "[23]\tvalid_0's mape: 0.165997\tvalid_0's l2: 1.29551\n",
      "Training until validation scores don't improve for 100 rounds\n",
      "Early stopping, best iteration is:\n",
      "[22]\tvalid_0's mape: 0.149897\tvalid_0's l2: 1.17278\n",
      "Training until validation scores don't improve for 100 rounds\n"
     ]
    },
    {
     "name": "stderr",
     "output_type": "stream",
     "text": [
      "[I 2023-07-07 18:44:46,335] Trial 0 finished with value: 0.849792726034664 and parameters: {'n_estimators': 10000, 'learning_rate': 0.2695549168681656, 'num_leaves': 1100, 'max_depth': 5, 'max_bin': 271, 'reg_alpha': 85, 'reg_lambda': 10, 'min_split_gain': 1.645580437492432, 'subsample': 0.4, 'colsample_bytree': 0.7, 'min_child_samples': 334}. Best is trial 0 with value: 0.849792726034664.\n"
     ]
    },
    {
     "name": "stdout",
     "output_type": "stream",
     "text": [
      "Early stopping, best iteration is:\n",
      "[22]\tvalid_0's mape: 0.160234\tvalid_0's l2: 1.26701\n",
      "Training until validation scores don't improve for 100 rounds\n",
      "Early stopping, best iteration is:\n",
      "[23]\tvalid_0's mape: 0.174892\tvalid_0's l2: 1.38305\n",
      "Training until validation scores don't improve for 100 rounds\n",
      "Early stopping, best iteration is:\n",
      "[555]\tvalid_0's mape: 0.164231\tvalid_0's l2: 1.25743\n",
      "Training until validation scores don't improve for 100 rounds\n",
      "Early stopping, best iteration is:\n",
      "[499]\tvalid_0's mape: 0.16341\tvalid_0's l2: 1.2798\n",
      "Training until validation scores don't improve for 100 rounds\n",
      "Early stopping, best iteration is:\n",
      "[550]\tvalid_0's mape: 0.167024\tvalid_0's l2: 1.32881\n",
      "Training until validation scores don't improve for 100 rounds\n",
      "Early stopping, best iteration is:\n",
      "[548]\tvalid_0's mape: 0.15881\tvalid_0's l2: 1.23368\n",
      "Training until validation scores don't improve for 100 rounds\n"
     ]
    },
    {
     "name": "stderr",
     "output_type": "stream",
     "text": [
      "[I 2023-07-07 18:44:50,607] Trial 1 finished with value: 0.8444984112284706 and parameters: {'n_estimators': 10000, 'learning_rate': 0.017426480215460362, 'num_leaves': 1300, 'max_depth': 12, 'max_bin': 269, 'reg_alpha': 0, 'reg_lambda': 40, 'min_split_gain': 8.082465293166115, 'subsample': 0.7, 'colsample_bytree': 0.30000000000000004, 'min_child_samples': 144}. Best is trial 1 with value: 0.8444984112284706.\n"
     ]
    },
    {
     "name": "stdout",
     "output_type": "stream",
     "text": [
      "Early stopping, best iteration is:\n",
      "[552]\tvalid_0's mape: 0.152602\tvalid_0's l2: 1.20842\n",
      "Training until validation scores don't improve for 100 rounds\n",
      "Early stopping, best iteration is:\n",
      "[47]\tvalid_0's mape: 0.17183\tvalid_0's l2: 1.35217\n",
      "Training until validation scores don't improve for 100 rounds\n",
      "Early stopping, best iteration is:\n",
      "[50]\tvalid_0's mape: 0.16122\tvalid_0's l2: 1.25952\n",
      "Training until validation scores don't improve for 100 rounds\n",
      "Early stopping, best iteration is:\n",
      "[48]\tvalid_0's mape: 0.158322\tvalid_0's l2: 1.24097\n",
      "Training until validation scores don't improve for 100 rounds\n",
      "Early stopping, best iteration is:\n",
      "[49]\tvalid_0's mape: 0.167154\tvalid_0's l2: 1.32958\n"
     ]
    },
    {
     "name": "stderr",
     "output_type": "stream",
     "text": [
      "[I 2023-07-07 18:44:51,439] Trial 2 finished with value: 0.8628256196812318 and parameters: {'n_estimators': 10000, 'learning_rate': 0.08153601140656473, 'num_leaves': 1660, 'max_depth': 7, 'max_bin': 227, 'reg_alpha': 95, 'reg_lambda': 100, 'min_split_gain': 14.91312327102325, 'subsample': 0.8, 'colsample_bytree': 1.0, 'min_child_samples': 430}. Best is trial 1 with value: 0.8444984112284706.\n"
     ]
    },
    {
     "name": "stdout",
     "output_type": "stream",
     "text": [
      "Training until validation scores don't improve for 100 rounds\n",
      "Early stopping, best iteration is:\n",
      "[47]\tvalid_0's mape: 0.172123\tvalid_0's l2: 1.35438\n",
      "Training until validation scores don't improve for 100 rounds\n",
      "Early stopping, best iteration is:\n",
      "[81]\tvalid_0's mape: 0.156938\tvalid_0's l2: 1.23598\n",
      "Training until validation scores don't improve for 100 rounds\n",
      "Early stopping, best iteration is:\n",
      "[97]\tvalid_0's mape: 0.164195\tvalid_0's l2: 1.29641\n",
      "Training until validation scores don't improve for 100 rounds\n",
      "Early stopping, best iteration is:\n",
      "[97]\tvalid_0's mape: 0.157365\tvalid_0's l2: 1.24078\n",
      "Training until validation scores don't improve for 100 rounds\n",
      "Early stopping, best iteration is:\n",
      "[81]\tvalid_0's mape: 0.170585\tvalid_0's l2: 1.31833\n",
      "Training until validation scores don't improve for 100 rounds\n"
     ]
    },
    {
     "name": "stderr",
     "output_type": "stream",
     "text": [
      "[I 2023-07-07 18:44:52,704] Trial 3 finished with value: 0.8493026997346096 and parameters: {'n_estimators': 10000, 'learning_rate': 0.1079066059229649, 'num_leaves': 1440, 'max_depth': 9, 'max_bin': 275, 'reg_alpha': 75, 'reg_lambda': 100, 'min_split_gain': 1.8608928556929016, 'subsample': 0.7, 'colsample_bytree': 0.4, 'min_child_samples': 102}. Best is trial 1 with value: 0.8444984112284706.\n"
     ]
    },
    {
     "name": "stdout",
     "output_type": "stream",
     "text": [
      "Early stopping, best iteration is:\n",
      "[95]\tvalid_0's mape: 0.163843\tvalid_0's l2: 1.28373\n",
      "Training until validation scores don't improve for 100 rounds\n",
      "Early stopping, best iteration is:\n",
      "[18]\tvalid_0's mape: 0.167353\tvalid_0's l2: 1.32815\n",
      "Training until validation scores don't improve for 100 rounds\n",
      "Early stopping, best iteration is:\n",
      "[16]\tvalid_0's mape: 0.160121\tvalid_0's l2: 1.21771\n",
      "Training until validation scores don't improve for 100 rounds\n",
      "Early stopping, best iteration is:\n",
      "[15]\tvalid_0's mape: 0.157636\tvalid_0's l2: 1.22269\n",
      "Training until validation scores don't improve for 100 rounds\n",
      "Early stopping, best iteration is:\n",
      "[18]\tvalid_0's mape: 0.18028\tvalid_0's l2: 1.42817\n",
      "Training until validation scores don't improve for 100 rounds\n"
     ]
    },
    {
     "name": "stderr",
     "output_type": "stream",
     "text": [
      "[I 2023-07-07 18:44:53,466] Trial 4 finished with value: 0.8545672487930723 and parameters: {'n_estimators': 10000, 'learning_rate': 0.2561109978924716, 'num_leaves': 40, 'max_depth': 10, 'max_bin': 286, 'reg_alpha': 55, 'reg_lambda': 25, 'min_split_gain': 12.30952072183065, 'subsample': 1.0, 'colsample_bytree': 0.8, 'min_child_samples': 428}. Best is trial 1 with value: 0.8444984112284706.\n"
     ]
    },
    {
     "name": "stdout",
     "output_type": "stream",
     "text": [
      "Early stopping, best iteration is:\n",
      "[16]\tvalid_0's mape: 0.155187\tvalid_0's l2: 1.25461\n",
      "Training until validation scores don't improve for 100 rounds\n",
      "Early stopping, best iteration is:\n",
      "[128]\tvalid_0's mape: 0.164183\tvalid_0's l2: 1.23327\n",
      "Training until validation scores don't improve for 100 rounds\n",
      "Early stopping, best iteration is:\n",
      "[129]\tvalid_0's mape: 0.166043\tvalid_0's l2: 1.31037\n",
      "Training until validation scores don't improve for 100 rounds\n",
      "Early stopping, best iteration is:\n",
      "[125]\tvalid_0's mape: 0.167981\tvalid_0's l2: 1.35606\n",
      "Training until validation scores don't improve for 100 rounds\n",
      "Early stopping, best iteration is:\n",
      "[130]\tvalid_0's mape: 0.161612\tvalid_0's l2: 1.27552\n",
      "Training until validation scores don't improve for 100 rounds\n"
     ]
    },
    {
     "name": "stderr",
     "output_type": "stream",
     "text": [
      "[I 2023-07-07 18:44:54,768] Trial 5 finished with value: 0.8492670222389996 and parameters: {'n_estimators': 10000, 'learning_rate': 0.056110321147889435, 'num_leaves': 400, 'max_depth': 6, 'max_bin': 296, 'reg_alpha': 90, 'reg_lambda': 90, 'min_split_gain': 0.5431995131540346, 'subsample': 1.0, 'colsample_bytree': 0.8, 'min_child_samples': 459}. Best is trial 1 with value: 0.8444984112284706.\n"
     ]
    },
    {
     "name": "stdout",
     "output_type": "stream",
     "text": [
      "Early stopping, best iteration is:\n",
      "[136]\tvalid_0's mape: 0.154433\tvalid_0's l2: 1.22205\n",
      "Training until validation scores don't improve for 100 rounds\n",
      "Early stopping, best iteration is:\n",
      "[24]\tvalid_0's mape: 0.160023\tvalid_0's l2: 1.29166\n",
      "Training until validation scores don't improve for 100 rounds\n",
      "Early stopping, best iteration is:\n",
      "[23]\tvalid_0's mape: 0.160582\tvalid_0's l2: 1.22213\n",
      "Training until validation scores don't improve for 100 rounds\n",
      "Early stopping, best iteration is:\n",
      "[23]\tvalid_0's mape: 0.158775\tvalid_0's l2: 1.22702\n",
      "Training until validation scores don't improve for 100 rounds\n",
      "Early stopping, best iteration is:\n",
      "[22]\tvalid_0's mape: 0.175537\tvalid_0's l2: 1.40919\n",
      "Training until validation scores don't improve for 100 rounds\n",
      "Early stopping, best iteration is:\n",
      "[23]\tvalid_0's mape: 0.164912\tvalid_0's l2: 1.29066\n"
     ]
    },
    {
     "name": "stderr",
     "output_type": "stream",
     "text": [
      "[I 2023-07-07 18:44:55,493] Trial 6 finished with value: 0.8545172104401735 and parameters: {'n_estimators': 10000, 'learning_rate': 0.20882543433106635, 'num_leaves': 600, 'max_depth': 3, 'max_bin': 284, 'reg_alpha': 80, 'reg_lambda': 70, 'min_split_gain': 4.936894148874761, 'subsample': 1.0, 'colsample_bytree': 1.0, 'min_child_samples': 480}. Best is trial 1 with value: 0.8444984112284706.\n"
     ]
    },
    {
     "name": "stdout",
     "output_type": "stream",
     "text": [
      "Training until validation scores don't improve for 100 rounds\n",
      "Early stopping, best iteration is:\n",
      "[61]\tvalid_0's mape: 0.165053\tvalid_0's l2: 1.27465\n",
      "Training until validation scores don't improve for 100 rounds\n",
      "Early stopping, best iteration is:\n",
      "[62]\tvalid_0's mape: 0.159005\tvalid_0's l2: 1.23243\n",
      "Training until validation scores don't improve for 100 rounds\n",
      "Early stopping, best iteration is:\n",
      "[63]\tvalid_0's mape: 0.158594\tvalid_0's l2: 1.2932\n",
      "Training until validation scores don't improve for 100 rounds\n",
      "Early stopping, best iteration is:\n",
      "[58]\tvalid_0's mape: 0.155658\tvalid_0's l2: 1.21807\n"
     ]
    },
    {
     "name": "stderr",
     "output_type": "stream",
     "text": [
      "[I 2023-07-07 18:44:56,529] Trial 7 finished with value: 0.847671276825556 and parameters: {'n_estimators': 10000, 'learning_rate': 0.06326094290610845, 'num_leaves': 960, 'max_depth': 11, 'max_bin': 248, 'reg_alpha': 25, 'reg_lambda': 10, 'min_split_gain': 9.110557561928308, 'subsample': 0.30000000000000004, 'colsample_bytree': 1.0, 'min_child_samples': 213}. Best is trial 1 with value: 0.8444984112284706.\n"
     ]
    },
    {
     "name": "stdout",
     "output_type": "stream",
     "text": [
      "Training until validation scores don't improve for 100 rounds\n",
      "Early stopping, best iteration is:\n",
      "[61]\tvalid_0's mape: 0.173122\tvalid_0's l2: 1.33746\n",
      "Training until validation scores don't improve for 100 rounds\n",
      "Early stopping, best iteration is:\n",
      "[21]\tvalid_0's mape: 0.154542\tvalid_0's l2: 1.22815\n",
      "Training until validation scores don't improve for 100 rounds\n",
      "Early stopping, best iteration is:\n",
      "[19]\tvalid_0's mape: 0.164426\tvalid_0's l2: 1.29188\n",
      "Training until validation scores don't improve for 100 rounds\n",
      "Early stopping, best iteration is:\n",
      "[19]\tvalid_0's mape: 0.166752\tvalid_0's l2: 1.28182\n",
      "Training until validation scores don't improve for 100 rounds\n",
      "Early stopping, best iteration is:\n",
      "[19]\tvalid_0's mape: 0.163023\tvalid_0's l2: 1.27266\n"
     ]
    },
    {
     "name": "stderr",
     "output_type": "stream",
     "text": [
      "[I 2023-07-07 18:44:57,672] Trial 8 finished with value: 0.8504952517654567 and parameters: {'n_estimators': 10000, 'learning_rate': 0.2655653133439025, 'num_leaves': 1580, 'max_depth': 12, 'max_bin': 291, 'reg_alpha': 40, 'reg_lambda': 35, 'min_split_gain': 13.481865780913507, 'subsample': 1.0, 'colsample_bytree': 0.5, 'min_child_samples': 18}. Best is trial 1 with value: 0.8444984112284706.\n"
     ]
    },
    {
     "name": "stdout",
     "output_type": "stream",
     "text": [
      "Training until validation scores don't improve for 100 rounds\n",
      "Early stopping, best iteration is:\n",
      "[18]\tvalid_0's mape: 0.166102\tvalid_0's l2: 1.30744\n",
      "Training until validation scores don't improve for 100 rounds\n",
      "Early stopping, best iteration is:\n",
      "[80]\tvalid_0's mape: 0.155964\tvalid_0's l2: 1.21203\n",
      "Training until validation scores don't improve for 100 rounds\n",
      "Early stopping, best iteration is:\n",
      "[81]\tvalid_0's mape: 0.174527\tvalid_0's l2: 1.35815\n",
      "Training until validation scores don't improve for 100 rounds\n",
      "Early stopping, best iteration is:\n",
      "[82]\tvalid_0's mape: 0.16347\tvalid_0's l2: 1.29603\n",
      "Training until validation scores don't improve for 100 rounds\n",
      "Early stopping, best iteration is:\n",
      "[80]\tvalid_0's mape: 0.165186\tvalid_0's l2: 1.29944\n",
      "Training until validation scores don't improve for 100 rounds\n"
     ]
    },
    {
     "name": "stderr",
     "output_type": "stream",
     "text": [
      "[I 2023-07-07 18:44:58,688] Trial 9 finished with value: 0.8550970868666724 and parameters: {'n_estimators': 10000, 'learning_rate': 0.05786387197106609, 'num_leaves': 440, 'max_depth': 10, 'max_bin': 291, 'reg_alpha': 85, 'reg_lambda': 65, 'min_split_gain': 5.3762205411701505, 'subsample': 0.4, 'colsample_bytree': 1.0, 'min_child_samples': 429}. Best is trial 1 with value: 0.8444984112284706.\n"
     ]
    },
    {
     "name": "stdout",
     "output_type": "stream",
     "text": [
      "Early stopping, best iteration is:\n",
      "[85]\tvalid_0's mape: 0.162673\tvalid_0's l2: 1.28367\n",
      "Training until validation scores don't improve for 100 rounds\n",
      "Early stopping, best iteration is:\n",
      "[540]\tvalid_0's mape: 0.156729\tvalid_0's l2: 1.20084\n",
      "Training until validation scores don't improve for 100 rounds\n",
      "Early stopping, best iteration is:\n",
      "[635]\tvalid_0's mape: 0.165416\tvalid_0's l2: 1.28724\n",
      "Training until validation scores don't improve for 100 rounds\n",
      "Early stopping, best iteration is:\n",
      "[645]\tvalid_0's mape: 0.163962\tvalid_0's l2: 1.32093\n",
      "Training until validation scores don't improve for 100 rounds\n",
      "Early stopping, best iteration is:\n",
      "[643]\tvalid_0's mape: 0.153636\tvalid_0's l2: 1.20049\n",
      "Training until validation scores don't improve for 100 rounds\n"
     ]
    },
    {
     "name": "stderr",
     "output_type": "stream",
     "text": [
      "[I 2023-07-07 18:45:01,766] Trial 10 finished with value: 0.8477083408204672 and parameters: {'n_estimators': 10000, 'learning_rate': 0.021911368365822415, 'num_leaves': 1920, 'max_depth': 8, 'max_bin': 203, 'reg_alpha': 0, 'reg_lambda': 45, 'min_split_gain': 8.900712398430807, 'subsample': 0.5, 'colsample_bytree': 0.2, 'min_child_samples': 212}. Best is trial 1 with value: 0.8444984112284706.\n"
     ]
    },
    {
     "name": "stdout",
     "output_type": "stream",
     "text": [
      "Early stopping, best iteration is:\n",
      "[623]\tvalid_0's mape: 0.169989\tvalid_0's l2: 1.35099\n",
      "Training until validation scores don't improve for 100 rounds\n",
      "Early stopping, best iteration is:\n",
      "[1476]\tvalid_0's mape: 0.16748\tvalid_0's l2: 1.30195\n",
      "Training until validation scores don't improve for 100 rounds\n",
      "Early stopping, best iteration is:\n",
      "[1433]\tvalid_0's mape: 0.161458\tvalid_0's l2: 1.24966\n",
      "Training until validation scores don't improve for 100 rounds\n",
      "Early stopping, best iteration is:\n",
      "[803]\tvalid_0's mape: 0.155365\tvalid_0's l2: 1.22076\n",
      "Training until validation scores don't improve for 100 rounds\n",
      "Early stopping, best iteration is:\n",
      "[1469]\tvalid_0's mape: 0.160489\tvalid_0's l2: 1.28049\n",
      "Training until validation scores don't improve for 100 rounds\n"
     ]
    },
    {
     "name": "stderr",
     "output_type": "stream",
     "text": [
      "[I 2023-07-07 18:45:06,634] Trial 11 finished with value: 0.8444188436082918 and parameters: {'n_estimators': 10000, 'learning_rate': 0.016759583768494617, 'num_leaves': 1020, 'max_depth': 12, 'max_bin': 249, 'reg_alpha': 0, 'reg_lambda': 15, 'min_split_gain': 9.637341616881601, 'subsample': 0.2, 'colsample_bytree': 0.2, 'min_child_samples': 191}. Best is trial 11 with value: 0.8444188436082918.\n"
     ]
    },
    {
     "name": "stdout",
     "output_type": "stream",
     "text": [
      "Early stopping, best iteration is:\n",
      "[658]\tvalid_0's mape: 0.161237\tvalid_0's l2: 1.26185\n",
      "Training until validation scores don't improve for 100 rounds\n",
      "Early stopping, best iteration is:\n",
      "[676]\tvalid_0's mape: 0.164147\tvalid_0's l2: 1.3074\n",
      "Training until validation scores don't improve for 100 rounds\n",
      "Early stopping, best iteration is:\n",
      "[498]\tvalid_0's mape: 0.152375\tvalid_0's l2: 1.16239\n",
      "Training until validation scores don't improve for 100 rounds\n",
      "Early stopping, best iteration is:\n",
      "[676]\tvalid_0's mape: 0.167238\tvalid_0's l2: 1.33259\n",
      "Training until validation scores don't improve for 100 rounds\n",
      "Early stopping, best iteration is:\n",
      "[606]\tvalid_0's mape: 0.15524\tvalid_0's l2: 1.2068\n",
      "Training until validation scores don't improve for 100 rounds\n"
     ]
    },
    {
     "name": "stderr",
     "output_type": "stream",
     "text": [
      "[I 2023-07-07 18:45:10,078] Trial 12 finished with value: 0.8448679299714815 and parameters: {'n_estimators': 10000, 'learning_rate': 0.019044916744296005, 'num_leaves': 1020, 'max_depth': 12, 'max_bin': 254, 'reg_alpha': 0, 'reg_lambda': 0, 'min_split_gain': 10.701729008839505, 'subsample': 0.2, 'colsample_bytree': 0.2, 'min_child_samples': 131}. Best is trial 11 with value: 0.8444188436082918.\n"
     ]
    },
    {
     "name": "stdout",
     "output_type": "stream",
     "text": [
      "Early stopping, best iteration is:\n",
      "[608]\tvalid_0's mape: 0.167365\tvalid_0's l2: 1.29745\n",
      "Training until validation scores don't improve for 100 rounds\n",
      "Early stopping, best iteration is:\n",
      "[81]\tvalid_0's mape: 0.167082\tvalid_0's l2: 1.30245\n",
      "Training until validation scores don't improve for 100 rounds\n",
      "Early stopping, best iteration is:\n",
      "[60]\tvalid_0's mape: 0.167126\tvalid_0's l2: 1.2961\n",
      "Training until validation scores don't improve for 100 rounds\n",
      "Early stopping, best iteration is:\n",
      "[81]\tvalid_0's mape: 0.160835\tvalid_0's l2: 1.24167\n",
      "Training until validation scores don't improve for 100 rounds\n",
      "Early stopping, best iteration is:\n",
      "[77]\tvalid_0's mape: 0.157613\tvalid_0's l2: 1.28548\n",
      "Training until validation scores don't improve for 100 rounds\n"
     ]
    },
    {
     "name": "stderr",
     "output_type": "stream",
     "text": [
      "[I 2023-07-07 18:45:11,299] Trial 13 finished with value: 0.8491235042893794 and parameters: {'n_estimators': 10000, 'learning_rate': 0.12937668772280264, 'num_leaves': 1380, 'max_depth': 12, 'max_bin': 255, 'reg_alpha': 15, 'reg_lambda': 25, 'min_split_gain': 6.964086813738892, 'subsample': 0.7, 'colsample_bytree': 0.30000000000000004, 'min_child_samples': 290}. Best is trial 11 with value: 0.8444188436082918.\n"
     ]
    },
    {
     "name": "stdout",
     "output_type": "stream",
     "text": [
      "Early stopping, best iteration is:\n",
      "[93]\tvalid_0's mape: 0.158415\tvalid_0's l2: 1.23956\n",
      "Training until validation scores don't improve for 100 rounds\n",
      "Early stopping, best iteration is:\n",
      "[517]\tvalid_0's mape: 0.159339\tvalid_0's l2: 1.25888\n",
      "Training until validation scores don't improve for 100 rounds\n",
      "Early stopping, best iteration is:\n",
      "[510]\tvalid_0's mape: 0.155838\tvalid_0's l2: 1.22247\n",
      "Training until validation scores don't improve for 100 rounds\n",
      "Early stopping, best iteration is:\n",
      "[525]\tvalid_0's mape: 0.168676\tvalid_0's l2: 1.30276\n",
      "Training until validation scores don't improve for 100 rounds\n",
      "Early stopping, best iteration is:\n",
      "[523]\tvalid_0's mape: 0.163199\tvalid_0's l2: 1.30099\n",
      "Training until validation scores don't improve for 100 rounds\n"
     ]
    },
    {
     "name": "stderr",
     "output_type": "stream",
     "text": [
      "[I 2023-07-07 18:45:14,789] Trial 14 finished with value: 0.8488885623282943 and parameters: {'n_estimators': 10000, 'learning_rate': 0.012172142931846085, 'num_leaves': 780, 'max_depth': 10, 'max_bin': 236, 'reg_alpha': 20, 'reg_lambda': 55, 'min_split_gain': 10.879241742932232, 'subsample': 0.6000000000000001, 'colsample_bytree': 0.4, 'min_child_samples': 133}. Best is trial 11 with value: 0.8444188436082918.\n"
     ]
    },
    {
     "name": "stdout",
     "output_type": "stream",
     "text": [
      "Early stopping, best iteration is:\n",
      "[508]\tvalid_0's mape: 0.164988\tvalid_0's l2: 1.26805\n",
      "Training until validation scores don't improve for 100 rounds\n",
      "Early stopping, best iteration is:\n",
      "[49]\tvalid_0's mape: 0.171187\tvalid_0's l2: 1.34783\n",
      "Training until validation scores don't improve for 100 rounds\n",
      "Early stopping, best iteration is:\n",
      "[75]\tvalid_0's mape: 0.1571\tvalid_0's l2: 1.23742\n",
      "Training until validation scores don't improve for 100 rounds\n",
      "Early stopping, best iteration is:\n",
      "[49]\tvalid_0's mape: 0.159506\tvalid_0's l2: 1.26366\n",
      "Training until validation scores don't improve for 100 rounds\n",
      "Early stopping, best iteration is:\n",
      "[75]\tvalid_0's mape: 0.159893\tvalid_0's l2: 1.22365\n",
      "Training until validation scores don't improve for 100 rounds\n"
     ]
    },
    {
     "name": "stderr",
     "output_type": "stream",
     "text": [
      "[I 2023-07-07 18:45:16,011] Trial 15 finished with value: 0.8491329340019969 and parameters: {'n_estimators': 10000, 'learning_rate': 0.1690304339942217, 'num_leaves': 1240, 'max_depth': 11, 'max_bin': 265, 'reg_alpha': 40, 'reg_lambda': 35, 'min_split_gain': 7.559071465083471, 'subsample': 0.8, 'colsample_bytree': 0.30000000000000004, 'min_child_samples': 51}. Best is trial 11 with value: 0.8444188436082918.\n"
     ]
    },
    {
     "name": "stdout",
     "output_type": "stream",
     "text": [
      "Early stopping, best iteration is:\n",
      "[49]\tvalid_0's mape: 0.164046\tvalid_0's l2: 1.28827\n",
      "Training until validation scores don't improve for 100 rounds\n",
      "Early stopping, best iteration is:\n",
      "[54]\tvalid_0's mape: 0.153025\tvalid_0's l2: 1.22065\n",
      "Training until validation scores don't improve for 100 rounds\n",
      "Early stopping, best iteration is:\n",
      "[54]\tvalid_0's mape: 0.16062\tvalid_0's l2: 1.24509\n",
      "Training until validation scores don't improve for 100 rounds\n",
      "Early stopping, best iteration is:\n",
      "[46]\tvalid_0's mape: 0.167809\tvalid_0's l2: 1.31062\n",
      "Training until validation scores don't improve for 100 rounds\n",
      "Early stopping, best iteration is:\n",
      "[54]\tvalid_0's mape: 0.172672\tvalid_0's l2: 1.3366\n"
     ]
    },
    {
     "name": "stderr",
     "output_type": "stream",
     "text": [
      "[I 2023-07-07 18:45:17,067] Trial 16 finished with value: 0.8462171293768759 and parameters: {'n_estimators': 10000, 'learning_rate': 0.10080404832026885, 'num_leaves': 1980, 'max_depth': 8, 'max_bin': 234, 'reg_alpha': 10, 'reg_lambda': 20, 'min_split_gain': 10.713982127472264, 'subsample': 0.2, 'colsample_bytree': 0.5, 'min_child_samples': 176}. Best is trial 11 with value: 0.8444188436082918.\n"
     ]
    },
    {
     "name": "stdout",
     "output_type": "stream",
     "text": [
      "Training until validation scores don't improve for 100 rounds\n",
      "Early stopping, best iteration is:\n",
      "[52]\tvalid_0's mape: 0.154398\tvalid_0's l2: 1.21278\n",
      "Training until validation scores don't improve for 100 rounds\n",
      "Early stopping, best iteration is:\n",
      "[323]\tvalid_0's mape: 0.167159\tvalid_0's l2: 1.28564\n",
      "Training until validation scores don't improve for 100 rounds\n",
      "Early stopping, best iteration is:\n",
      "[322]\tvalid_0's mape: 0.163688\tvalid_0's l2: 1.28987\n",
      "Training until validation scores don't improve for 100 rounds\n",
      "Early stopping, best iteration is:\n",
      "[323]\tvalid_0's mape: 0.15033\tvalid_0's l2: 1.17574\n",
      "Training until validation scores don't improve for 100 rounds\n",
      "Early stopping, best iteration is:\n",
      "[542]\tvalid_0's mape: 0.172859\tvalid_0's l2: 1.35\n",
      "Training until validation scores don't improve for 100 rounds\n"
     ]
    },
    {
     "name": "stderr",
     "output_type": "stream",
     "text": [
      "[I 2023-07-07 18:45:18,860] Trial 17 finished with value: 0.8499659424507879 and parameters: {'n_estimators': 10000, 'learning_rate': 0.04336564062760418, 'num_leaves': 800, 'max_depth': 3, 'max_bin': 217, 'reg_alpha': 30, 'reg_lambda': 45, 'min_split_gain': 8.347999607730292, 'subsample': 0.5, 'colsample_bytree': 0.2, 'min_child_samples': 336}. Best is trial 11 with value: 0.8444188436082918.\n"
     ]
    },
    {
     "name": "stdout",
     "output_type": "stream",
     "text": [
      "Early stopping, best iteration is:\n",
      "[323]\tvalid_0's mape: 0.159586\tvalid_0's l2: 1.27582\n",
      "Training until validation scores don't improve for 100 rounds\n",
      "Early stopping, best iteration is:\n",
      "[112]\tvalid_0's mape: 0.170392\tvalid_0's l2: 1.34333\n",
      "Training until validation scores don't improve for 100 rounds\n",
      "Early stopping, best iteration is:\n",
      "[132]\tvalid_0's mape: 0.150665\tvalid_0's l2: 1.18568\n",
      "Training until validation scores don't improve for 100 rounds\n",
      "Early stopping, best iteration is:\n",
      "[132]\tvalid_0's mape: 0.176352\tvalid_0's l2: 1.39155\n",
      "Training until validation scores don't improve for 100 rounds\n",
      "Early stopping, best iteration is:\n",
      "[112]\tvalid_0's mape: 0.151949\tvalid_0's l2: 1.2013\n",
      "Training until validation scores don't improve for 100 rounds\n"
     ]
    },
    {
     "name": "stderr",
     "output_type": "stream",
     "text": [
      "[I 2023-07-07 18:45:20,227] Trial 18 finished with value: 0.8511233505790304 and parameters: {'n_estimators': 10000, 'learning_rate': 0.08698810627915282, 'num_leaves': 1200, 'max_depth': 11, 'max_bin': 245, 'reg_alpha': 60, 'reg_lambda': 75, 'min_split_gain': 6.425867973741038, 'subsample': 0.8, 'colsample_bytree': 0.30000000000000004, 'min_child_samples': 271}. Best is trial 11 with value: 0.8444188436082918.\n"
     ]
    },
    {
     "name": "stdout",
     "output_type": "stream",
     "text": [
      "Early stopping, best iteration is:\n",
      "[112]\tvalid_0's mape: 0.166942\tvalid_0's l2: 1.28309\n",
      "Training until validation scores don't improve for 100 rounds\n",
      "Early stopping, best iteration is:\n",
      "[129]\tvalid_0's mape: 0.151876\tvalid_0's l2: 1.18334\n",
      "Training until validation scores don't improve for 100 rounds\n",
      "Early stopping, best iteration is:\n",
      "[129]\tvalid_0's mape: 0.1648\tvalid_0's l2: 1.28455\n",
      "Training until validation scores don't improve for 100 rounds\n",
      "Early stopping, best iteration is:\n",
      "[132]\tvalid_0's mape: 0.166447\tvalid_0's l2: 1.32294\n",
      "Training until validation scores don't improve for 100 rounds\n",
      "Early stopping, best iteration is:\n",
      "[124]\tvalid_0's mape: 0.163974\tvalid_0's l2: 1.27427\n",
      "Training until validation scores don't improve for 100 rounds\n"
     ]
    },
    {
     "name": "stderr",
     "output_type": "stream",
     "text": [
      "[I 2023-07-07 18:45:21,730] Trial 19 finished with value: 0.8448140786221142 and parameters: {'n_estimators': 10000, 'learning_rate': 0.03661806607610771, 'num_leaves': 1720, 'max_depth': 5, 'max_bin': 267, 'reg_alpha': 5, 'reg_lambda': 55, 'min_split_gain': 9.765019059391847, 'subsample': 0.6000000000000001, 'colsample_bytree': 0.6000000000000001, 'min_child_samples': 81}. Best is trial 11 with value: 0.8444188436082918.\n"
     ]
    },
    {
     "name": "stdout",
     "output_type": "stream",
     "text": [
      "Early stopping, best iteration is:\n",
      "[127]\tvalid_0's mape: 0.159829\tvalid_0's l2: 1.24402\n",
      "Training until validation scores don't improve for 100 rounds\n",
      "Early stopping, best iteration is:\n",
      "[53]\tvalid_0's mape: 0.164172\tvalid_0's l2: 1.29901\n",
      "Training until validation scores don't improve for 100 rounds\n",
      "Early stopping, best iteration is:\n",
      "[39]\tvalid_0's mape: 0.175581\tvalid_0's l2: 1.33743\n",
      "Training until validation scores don't improve for 100 rounds\n",
      "Early stopping, best iteration is:\n",
      "[52]\tvalid_0's mape: 0.152147\tvalid_0's l2: 1.19064\n",
      "Training until validation scores don't improve for 100 rounds\n",
      "Early stopping, best iteration is:\n",
      "[39]\tvalid_0's mape: 0.16106\tvalid_0's l2: 1.28083\n",
      "Training until validation scores don't improve for 100 rounds\n"
     ]
    },
    {
     "name": "stderr",
     "output_type": "stream",
     "text": [
      "[I 2023-07-07 18:45:22,827] Trial 20 finished with value: 0.8506382559088967 and parameters: {'n_estimators': 10000, 'learning_rate': 0.1359521882099164, 'num_leaves': 840, 'max_depth': 9, 'max_bin': 262, 'reg_alpha': 30, 'reg_lambda': 0, 'min_split_gain': 12.165039815446928, 'subsample': 0.30000000000000004, 'colsample_bytree': 0.4, 'min_child_samples': 172}. Best is trial 11 with value: 0.8444188436082918.\n"
     ]
    },
    {
     "name": "stdout",
     "output_type": "stream",
     "text": [
      "Early stopping, best iteration is:\n",
      "[59]\tvalid_0's mape: 0.161206\tvalid_0's l2: 1.27294\n",
      "Training until validation scores don't improve for 100 rounds\n",
      "Early stopping, best iteration is:\n",
      "[119]\tvalid_0's mape: 0.171095\tvalid_0's l2: 1.31073\n",
      "Training until validation scores don't improve for 100 rounds\n",
      "Early stopping, best iteration is:\n",
      "[117]\tvalid_0's mape: 0.162023\tvalid_0's l2: 1.23889\n",
      "Training until validation scores don't improve for 100 rounds\n",
      "Early stopping, best iteration is:\n",
      "[117]\tvalid_0's mape: 0.160949\tvalid_0's l2: 1.30335\n",
      "Training until validation scores don't improve for 100 rounds\n",
      "Early stopping, best iteration is:\n",
      "[117]\tvalid_0's mape: 0.160528\tvalid_0's l2: 1.24836\n",
      "Training until validation scores don't improve for 100 rounds\n"
     ]
    },
    {
     "name": "stderr",
     "output_type": "stream",
     "text": [
      "[I 2023-07-07 18:45:24,244] Trial 21 finished with value: 0.8455684136769934 and parameters: {'n_estimators': 10000, 'learning_rate': 0.037572207339143224, 'num_leaves': 1740, 'max_depth': 5, 'max_bin': 277, 'reg_alpha': 5, 'reg_lambda': 60, 'min_split_gain': 9.720537094409389, 'subsample': 0.6000000000000001, 'colsample_bytree': 0.7, 'min_child_samples': 71}. Best is trial 11 with value: 0.8444188436082918.\n"
     ]
    },
    {
     "name": "stdout",
     "output_type": "stream",
     "text": [
      "Early stopping, best iteration is:\n",
      "[114]\tvalid_0's mape: 0.153596\tvalid_0's l2: 1.21262\n",
      "Training until validation scores don't improve for 100 rounds\n",
      "Early stopping, best iteration is:\n",
      "[397]\tvalid_0's mape: 0.153214\tvalid_0's l2: 1.18613\n",
      "Training until validation scores don't improve for 100 rounds\n",
      "Early stopping, best iteration is:\n",
      "[403]\tvalid_0's mape: 0.177722\tvalid_0's l2: 1.38691\n",
      "Training until validation scores don't improve for 100 rounds\n",
      "Early stopping, best iteration is:\n",
      "[398]\tvalid_0's mape: 0.160567\tvalid_0's l2: 1.24896\n",
      "Training until validation scores don't improve for 100 rounds\n",
      "Early stopping, best iteration is:\n",
      "[394]\tvalid_0's mape: 0.159656\tvalid_0's l2: 1.25301\n",
      "Training until validation scores don't improve for 100 rounds\n"
     ]
    },
    {
     "name": "stderr",
     "output_type": "stream",
     "text": [
      "[I 2023-07-07 18:45:27,212] Trial 22 finished with value: 0.8433331839066994 and parameters: {'n_estimators': 10000, 'learning_rate': 0.012612407620758315, 'num_leaves': 1400, 'max_depth': 4, 'max_bin': 263, 'reg_alpha': 10, 'reg_lambda': 35, 'min_split_gain': 8.111854329832045, 'subsample': 0.7, 'colsample_bytree': 0.6000000000000001, 'min_child_samples': 99}. Best is trial 22 with value: 0.8433331839066994.\n"
     ]
    },
    {
     "name": "stdout",
     "output_type": "stream",
     "text": [
      "Early stopping, best iteration is:\n",
      "[403]\tvalid_0's mape: 0.15465\tvalid_0's l2: 1.21404\n",
      "Training until validation scores don't improve for 100 rounds\n",
      "Early stopping, best iteration is:\n",
      "[235]\tvalid_0's mape: 0.153576\tvalid_0's l2: 1.17745\n",
      "Training until validation scores don't improve for 100 rounds\n",
      "Early stopping, best iteration is:\n",
      "[238]\tvalid_0's mape: 0.160798\tvalid_0's l2: 1.27578\n",
      "Training until validation scores don't improve for 100 rounds\n",
      "Early stopping, best iteration is:\n",
      "[238]\tvalid_0's mape: 0.154\tvalid_0's l2: 1.20226\n",
      "Training until validation scores don't improve for 100 rounds\n",
      "Early stopping, best iteration is:\n",
      "[220]\tvalid_0's mape: 0.165348\tvalid_0's l2: 1.3167\n",
      "Training until validation scores don't improve for 100 rounds\n"
     ]
    },
    {
     "name": "stderr",
     "output_type": "stream",
     "text": [
      "[I 2023-07-07 18:45:29,519] Trial 23 finished with value: 0.8455653314201473 and parameters: {'n_estimators': 10000, 'learning_rate': 0.02409763895712008, 'num_leaves': 1380, 'max_depth': 7, 'max_bin': 258, 'reg_alpha': 15, 'reg_lambda': 35, 'min_split_gain': 8.16203040789791, 'subsample': 0.7, 'colsample_bytree': 0.5, 'min_child_samples': 10}. Best is trial 22 with value: 0.8433331839066994.\n"
     ]
    },
    {
     "name": "stdout",
     "output_type": "stream",
     "text": [
      "Early stopping, best iteration is:\n",
      "[237]\tvalid_0's mape: 0.174558\tvalid_0's l2: 1.34277\n",
      "Training until validation scores don't improve for 100 rounds\n",
      "Early stopping, best iteration is:\n",
      "[418]\tvalid_0's mape: 0.158052\tvalid_0's l2: 1.24893\n",
      "Training until validation scores don't improve for 100 rounds\n",
      "Early stopping, best iteration is:\n",
      "[430]\tvalid_0's mape: 0.16463\tvalid_0's l2: 1.26672\n",
      "Training until validation scores don't improve for 100 rounds\n",
      "Early stopping, best iteration is:\n",
      "[447]\tvalid_0's mape: 0.152013\tvalid_0's l2: 1.15328\n",
      "Training until validation scores don't improve for 100 rounds\n",
      "Early stopping, best iteration is:\n",
      "[437]\tvalid_0's mape: 0.1667\tvalid_0's l2: 1.31327\n",
      "Training until validation scores don't improve for 100 rounds\n"
     ]
    },
    {
     "name": "stderr",
     "output_type": "stream",
     "text": [
      "[I 2023-07-07 18:45:33,114] Trial 24 finished with value: 0.8408702949500177 and parameters: {'n_estimators': 10000, 'learning_rate': 0.011690777927307635, 'num_leaves': 1220, 'max_depth': 6, 'max_bin': 243, 'reg_alpha': 0, 'reg_lambda': 40, 'min_split_gain': 6.285701614729961, 'subsample': 0.9000000000000001, 'colsample_bytree': 0.6000000000000001, 'min_child_samples': 145}. Best is trial 24 with value: 0.8408702949500177.\n"
     ]
    },
    {
     "name": "stdout",
     "output_type": "stream",
     "text": [
      "Early stopping, best iteration is:\n",
      "[410]\tvalid_0's mape: 0.160879\tvalid_0's l2: 1.27505\n",
      "Training until validation scores don't improve for 100 rounds\n",
      "Early stopping, best iteration is:\n",
      "[69]\tvalid_0's mape: 0.157566\tvalid_0's l2: 1.24423\n",
      "Training until validation scores don't improve for 100 rounds\n",
      "Early stopping, best iteration is:\n",
      "[66]\tvalid_0's mape: 0.155167\tvalid_0's l2: 1.20072\n",
      "Training until validation scores don't improve for 100 rounds\n",
      "Early stopping, best iteration is:\n",
      "[65]\tvalid_0's mape: 0.169409\tvalid_0's l2: 1.3314\n",
      "Training until validation scores don't improve for 100 rounds\n",
      "Early stopping, best iteration is:\n",
      "[66]\tvalid_0's mape: 0.158752\tvalid_0's l2: 1.2242\n",
      "Training until validation scores don't improve for 100 rounds\n"
     ]
    },
    {
     "name": "stderr",
     "output_type": "stream",
     "text": [
      "[I 2023-07-07 18:45:34,216] Trial 25 finished with value: 0.8428858821896977 and parameters: {'n_estimators': 10000, 'learning_rate': 0.07185642591835043, 'num_leaves': 1500, 'max_depth': 4, 'max_bin': 239, 'reg_alpha': 10, 'reg_lambda': 15, 'min_split_gain': 6.510528685269511, 'subsample': 0.9000000000000001, 'colsample_bytree': 0.6000000000000001, 'min_child_samples': 224}. Best is trial 24 with value: 0.8408702949500177.\n"
     ]
    },
    {
     "name": "stdout",
     "output_type": "stream",
     "text": [
      "Early stopping, best iteration is:\n",
      "[76]\tvalid_0's mape: 0.164802\tvalid_0's l2: 1.29655\n",
      "Training until validation scores don't improve for 100 rounds\n",
      "Early stopping, best iteration is:\n",
      "[70]\tvalid_0's mape: 0.158129\tvalid_0's l2: 1.23722\n",
      "Training until validation scores don't improve for 100 rounds\n",
      "Early stopping, best iteration is:\n",
      "[69]\tvalid_0's mape: 0.161042\tvalid_0's l2: 1.25951\n",
      "Training until validation scores don't improve for 100 rounds\n",
      "Early stopping, best iteration is:\n",
      "[78]\tvalid_0's mape: 0.168169\tvalid_0's l2: 1.34205\n",
      "Training until validation scores don't improve for 100 rounds\n",
      "Early stopping, best iteration is:\n",
      "[73]\tvalid_0's mape: 0.155254\tvalid_0's l2: 1.26035\n",
      "Training until validation scores don't improve for 100 rounds\n"
     ]
    },
    {
     "name": "stderr",
     "output_type": "stream",
     "text": [
      "[I 2023-07-07 18:45:35,300] Trial 26 finished with value: 0.8505688495597952 and parameters: {'n_estimators': 10000, 'learning_rate': 0.07492509875025942, 'num_leaves': 1520, 'max_depth': 4, 'max_bin': 240, 'reg_alpha': 40, 'reg_lambda': 25, 'min_split_gain': 5.880212922926399, 'subsample': 0.9000000000000001, 'colsample_bytree': 0.6000000000000001, 'min_child_samples': 309}. Best is trial 24 with value: 0.8408702949500177.\n"
     ]
    },
    {
     "name": "stdout",
     "output_type": "stream",
     "text": [
      "Early stopping, best iteration is:\n",
      "[82]\tvalid_0's mape: 0.172622\tvalid_0's l2: 1.29586\n",
      "Training until validation scores don't improve for 100 rounds\n",
      "Early stopping, best iteration is:\n",
      "[110]\tvalid_0's mape: 0.167993\tvalid_0's l2: 1.30775\n",
      "Training until validation scores don't improve for 100 rounds\n",
      "Early stopping, best iteration is:\n",
      "[110]\tvalid_0's mape: 0.155569\tvalid_0's l2: 1.20018\n",
      "Training until validation scores don't improve for 100 rounds\n",
      "Early stopping, best iteration is:\n",
      "[109]\tvalid_0's mape: 0.167431\tvalid_0's l2: 1.30398\n",
      "Training until validation scores don't improve for 100 rounds\n",
      "Early stopping, best iteration is:\n",
      "[111]\tvalid_0's mape: 0.15247\tvalid_0's l2: 1.20584\n",
      "Training until validation scores don't improve for 100 rounds\n"
     ]
    },
    {
     "name": "stderr",
     "output_type": "stream",
     "text": [
      "[I 2023-07-07 18:45:36,620] Trial 27 finished with value: 0.8420618509387596 and parameters: {'n_estimators': 10000, 'learning_rate': 0.04747043018751065, 'num_leaves': 1820, 'max_depth': 4, 'max_bin': 224, 'reg_alpha': 15, 'reg_lambda': 10, 'min_split_gain': 4.4587596739634385, 'subsample': 0.9000000000000001, 'colsample_bytree': 0.7, 'min_child_samples': 242}. Best is trial 24 with value: 0.8408702949500177.\n"
     ]
    },
    {
     "name": "stdout",
     "output_type": "stream",
     "text": [
      "Early stopping, best iteration is:\n",
      "[111]\tvalid_0's mape: 0.160945\tvalid_0's l2: 1.26713\n",
      "Training until validation scores don't improve for 100 rounds\n",
      "Early stopping, best iteration is:\n",
      "[93]\tvalid_0's mape: 0.167532\tvalid_0's l2: 1.31102\n",
      "Training until validation scores don't improve for 100 rounds\n",
      "Early stopping, best iteration is:\n",
      "[97]\tvalid_0's mape: 0.17168\tvalid_0's l2: 1.37004\n",
      "Training until validation scores don't improve for 100 rounds\n",
      "Early stopping, best iteration is:\n",
      "[93]\tvalid_0's mape: 0.156104\tvalid_0's l2: 1.20799\n",
      "Training until validation scores don't improve for 100 rounds\n",
      "Early stopping, best iteration is:\n",
      "[93]\tvalid_0's mape: 0.156154\tvalid_0's l2: 1.21545\n",
      "Training until validation scores don't improve for 100 rounds\n"
     ]
    },
    {
     "name": "stderr",
     "output_type": "stream",
     "text": [
      "[I 2023-07-07 18:45:37,921] Trial 28 finished with value: 0.8450947013356032 and parameters: {'n_estimators': 10000, 'learning_rate': 0.054251652270679476, 'num_leaves': 1820, 'max_depth': 6, 'max_bin': 222, 'reg_alpha': 25, 'reg_lambda': 5, 'min_split_gain': 4.890738977834589, 'subsample': 0.9000000000000001, 'colsample_bytree': 0.7, 'min_child_samples': 242}. Best is trial 24 with value: 0.8408702949500177.\n"
     ]
    },
    {
     "name": "stdout",
     "output_type": "stream",
     "text": [
      "Early stopping, best iteration is:\n",
      "[84]\tvalid_0's mape: 0.157014\tvalid_0's l2: 1.2216\n",
      "Training until validation scores don't improve for 100 rounds\n",
      "Early stopping, best iteration is:\n",
      "[113]\tvalid_0's mape: 0.169973\tvalid_0's l2: 1.32696\n",
      "Training until validation scores don't improve for 100 rounds\n",
      "Early stopping, best iteration is:\n",
      "[114]\tvalid_0's mape: 0.159886\tvalid_0's l2: 1.23549\n",
      "Training until validation scores don't improve for 100 rounds\n",
      "Early stopping, best iteration is:\n",
      "[113]\tvalid_0's mape: 0.17193\tvalid_0's l2: 1.34488\n",
      "Training until validation scores don't improve for 100 rounds\n",
      "Early stopping, best iteration is:\n",
      "[116]\tvalid_0's mape: 0.155214\tvalid_0's l2: 1.20419\n",
      "Training until validation scores don't improve for 100 rounds\n"
     ]
    },
    {
     "name": "stderr",
     "output_type": "stream",
     "text": [
      "[I 2023-07-07 18:45:39,198] Trial 29 finished with value: 0.8501069639933148 and parameters: {'n_estimators': 10000, 'learning_rate': 0.04337386741506736, 'num_leaves': 1840, 'max_depth': 4, 'max_bin': 210, 'reg_alpha': 70, 'reg_lambda': 15, 'min_split_gain': 4.036194604671474, 'subsample': 0.9000000000000001, 'colsample_bytree': 0.8, 'min_child_samples': 355}. Best is trial 24 with value: 0.8408702949500177.\n"
     ]
    },
    {
     "name": "stdout",
     "output_type": "stream",
     "text": [
      "Early stopping, best iteration is:\n",
      "[117]\tvalid_0's mape: 0.158992\tvalid_0's l2: 1.28171\n",
      "Training until validation scores don't improve for 100 rounds\n",
      "Early stopping, best iteration is:\n",
      "[61]\tvalid_0's mape: 0.159445\tvalid_0's l2: 1.25247\n",
      "Training until validation scores don't improve for 100 rounds\n",
      "Early stopping, best iteration is:\n",
      "[66]\tvalid_0's mape: 0.162048\tvalid_0's l2: 1.28829\n",
      "Training until validation scores don't improve for 100 rounds\n",
      "Early stopping, best iteration is:\n",
      "[62]\tvalid_0's mape: 0.150375\tvalid_0's l2: 1.19183\n",
      "Training until validation scores don't improve for 100 rounds\n",
      "Early stopping, best iteration is:\n",
      "[65]\tvalid_0's mape: 0.159434\tvalid_0's l2: 1.21027\n",
      "Training until validation scores don't improve for 100 rounds\n"
     ]
    },
    {
     "name": "stderr",
     "output_type": "stream",
     "text": [
      "[I 2023-07-07 18:45:40,320] Trial 30 finished with value: 0.8426501543116999 and parameters: {'n_estimators': 10000, 'learning_rate': 0.07079781543128695, 'num_leaves': 1160, 'max_depth': 6, 'max_bin': 226, 'reg_alpha': 15, 'reg_lambda': 10, 'min_split_gain': 3.58046607428016, 'subsample': 0.9000000000000001, 'colsample_bytree': 0.9000000000000001, 'min_child_samples': 248}. Best is trial 24 with value: 0.8408702949500177.\n"
     ]
    },
    {
     "name": "stdout",
     "output_type": "stream",
     "text": [
      "Early stopping, best iteration is:\n",
      "[64]\tvalid_0's mape: 0.173672\tvalid_0's l2: 1.35618\n",
      "Training until validation scores don't improve for 100 rounds\n",
      "Early stopping, best iteration is:\n",
      "[63]\tvalid_0's mape: 0.168195\tvalid_0's l2: 1.3277\n",
      "Training until validation scores don't improve for 100 rounds\n",
      "Early stopping, best iteration is:\n",
      "[60]\tvalid_0's mape: 0.164434\tvalid_0's l2: 1.28762\n",
      "Training until validation scores don't improve for 100 rounds\n",
      "Early stopping, best iteration is:\n",
      "[62]\tvalid_0's mape: 0.157823\tvalid_0's l2: 1.21935\n",
      "Training until validation scores don't improve for 100 rounds\n",
      "Early stopping, best iteration is:\n",
      "[62]\tvalid_0's mape: 0.162207\tvalid_0's l2: 1.25647\n",
      "Training until validation scores don't improve for 100 rounds\n"
     ]
    },
    {
     "name": "stderr",
     "output_type": "stream",
     "text": [
      "[I 2023-07-07 18:45:41,403] Trial 31 finished with value: 0.8454538236674812 and parameters: {'n_estimators': 10000, 'learning_rate': 0.07196393344028526, 'num_leaves': 1140, 'max_depth': 6, 'max_bin': 228, 'reg_alpha': 15, 'reg_lambda': 10, 'min_split_gain': 4.066845126537014, 'subsample': 0.9000000000000001, 'colsample_bytree': 0.9000000000000001, 'min_child_samples': 233}. Best is trial 24 with value: 0.8408702949500177.\n"
     ]
    },
    {
     "name": "stdout",
     "output_type": "stream",
     "text": [
      "Early stopping, best iteration is:\n",
      "[60]\tvalid_0's mape: 0.155005\tvalid_0's l2: 1.23606\n",
      "Training until validation scores don't improve for 100 rounds\n",
      "Early stopping, best iteration is:\n",
      "[69]\tvalid_0's mape: 0.161728\tvalid_0's l2: 1.2674\n",
      "Training until validation scores don't improve for 100 rounds\n",
      "Early stopping, best iteration is:\n",
      "[57]\tvalid_0's mape: 0.165866\tvalid_0's l2: 1.27254\n",
      "Training until validation scores don't improve for 100 rounds\n",
      "Early stopping, best iteration is:\n",
      "[67]\tvalid_0's mape: 0.155588\tvalid_0's l2: 1.22301\n",
      "Training until validation scores don't improve for 100 rounds\n",
      "Early stopping, best iteration is:\n",
      "[57]\tvalid_0's mape: 0.15565\tvalid_0's l2: 1.24076\n"
     ]
    },
    {
     "name": "stderr",
     "output_type": "stream",
     "text": [
      "[I 2023-07-07 18:45:42,465] Trial 32 finished with value: 0.8442915955171418 and parameters: {'n_estimators': 10000, 'learning_rate': 0.08105866391921529, 'num_leaves': 1560, 'max_depth': 5, 'max_bin': 216, 'reg_alpha': 10, 'reg_lambda': 20, 'min_split_gain': 3.136504223442828, 'subsample': 0.8, 'colsample_bytree': 0.7, 'min_child_samples': 368}. Best is trial 24 with value: 0.8408702949500177.\n"
     ]
    },
    {
     "name": "stdout",
     "output_type": "stream",
     "text": [
      "Training until validation scores don't improve for 100 rounds\n",
      "Early stopping, best iteration is:\n",
      "[64]\tvalid_0's mape: 0.168624\tvalid_0's l2: 1.33212\n",
      "Training until validation scores don't improve for 100 rounds\n",
      "Early stopping, best iteration is:\n",
      "[43]\tvalid_0's mape: 0.167704\tvalid_0's l2: 1.2974\n",
      "Training until validation scores don't improve for 100 rounds\n",
      "Early stopping, best iteration is:\n",
      "[43]\tvalid_0's mape: 0.157718\tvalid_0's l2: 1.25778\n",
      "Training until validation scores don't improve for 100 rounds\n",
      "Early stopping, best iteration is:\n",
      "[43]\tvalid_0's mape: 0.162693\tvalid_0's l2: 1.28607\n",
      "Training until validation scores don't improve for 100 rounds\n",
      "Early stopping, best iteration is:\n",
      "[43]\tvalid_0's mape: 0.146\tvalid_0's l2: 1.13618\n",
      "Training until validation scores don't improve for 100 rounds\n"
     ]
    },
    {
     "name": "stderr",
     "output_type": "stream",
     "text": [
      "[I 2023-07-07 18:45:43,351] Trial 33 finished with value: 0.8456427328981311 and parameters: {'n_estimators': 10000, 'learning_rate': 0.09457708312836749, 'num_leaves': 1260, 'max_depth': 4, 'max_bin': 231, 'reg_alpha': 20, 'reg_lambda': 5, 'min_split_gain': 6.576708930651802, 'subsample': 0.9000000000000001, 'colsample_bytree': 0.9000000000000001, 'min_child_samples': 263}. Best is trial 24 with value: 0.8408702949500177.\n"
     ]
    },
    {
     "name": "stdout",
     "output_type": "stream",
     "text": [
      "Early stopping, best iteration is:\n",
      "[42]\tvalid_0's mape: 0.175189\tvalid_0's l2: 1.35923\n",
      "Training until validation scores don't improve for 100 rounds\n",
      "Early stopping, best iteration is:\n",
      "[57]\tvalid_0's mape: 0.15754\tvalid_0's l2: 1.25432\n",
      "Training until validation scores don't improve for 100 rounds\n",
      "Early stopping, best iteration is:\n",
      "[70]\tvalid_0's mape: 0.153991\tvalid_0's l2: 1.19605\n",
      "Training until validation scores don't improve for 100 rounds\n",
      "Early stopping, best iteration is:\n",
      "[62]\tvalid_0's mape: 0.16138\tvalid_0's l2: 1.28291\n",
      "Training until validation scores don't improve for 100 rounds\n",
      "Early stopping, best iteration is:\n",
      "[72]\tvalid_0's mape: 0.165957\tvalid_0's l2: 1.31133\n",
      "Training until validation scores don't improve for 100 rounds\n"
     ]
    },
    {
     "name": "stderr",
     "output_type": "stream",
     "text": [
      "[I 2023-07-07 18:45:44,642] Trial 34 finished with value: 0.8408472311215176 and parameters: {'n_estimators': 10000, 'learning_rate': 0.06742584191744413, 'num_leaves': 1540, 'max_depth': 6, 'max_bin': 242, 'reg_alpha': 5, 'reg_lambda': 15, 'min_split_gain': 2.839686303224357, 'subsample': 0.8, 'colsample_bytree': 0.9000000000000001, 'min_child_samples': 154}. Best is trial 34 with value: 0.8408472311215176.\n"
     ]
    },
    {
     "name": "stdout",
     "output_type": "stream",
     "text": [
      "Early stopping, best iteration is:\n",
      "[69]\tvalid_0's mape: 0.162396\tvalid_0's l2: 1.22827\n",
      "Training until validation scores don't improve for 100 rounds\n",
      "Early stopping, best iteration is:\n",
      "[135]\tvalid_0's mape: 0.165353\tvalid_0's l2: 1.30075\n",
      "Training until validation scores don't improve for 100 rounds\n",
      "Early stopping, best iteration is:\n",
      "[129]\tvalid_0's mape: 0.154697\tvalid_0's l2: 1.23489\n",
      "Training until validation scores don't improve for 100 rounds\n",
      "Early stopping, best iteration is:\n",
      "[126]\tvalid_0's mape: 0.15928\tvalid_0's l2: 1.23381\n",
      "Training until validation scores don't improve for 100 rounds\n",
      "Early stopping, best iteration is:\n",
      "[128]\tvalid_0's mape: 0.162132\tvalid_0's l2: 1.24769\n",
      "Training until validation scores don't improve for 100 rounds\n"
     ]
    },
    {
     "name": "stderr",
     "output_type": "stream",
     "text": [
      "[I 2023-07-07 18:45:46,168] Trial 35 finished with value: 0.8431571975875972 and parameters: {'n_estimators': 10000, 'learning_rate': 0.0390346911913199, 'num_leaves': 1680, 'max_depth': 7, 'max_bin': 224, 'reg_alpha': 35, 'reg_lambda': 5, 'min_split_gain': 2.2914545730011904, 'subsample': 0.8, 'colsample_bytree': 0.9000000000000001, 'min_child_samples': 158}. Best is trial 34 with value: 0.8408472311215176.\n"
     ]
    },
    {
     "name": "stdout",
     "output_type": "stream",
     "text": [
      "Early stopping, best iteration is:\n",
      "[129]\tvalid_0's mape: 0.163832\tvalid_0's l2: 1.28608\n",
      "Training until validation scores don't improve for 100 rounds\n",
      "Early stopping, best iteration is:\n",
      "[55]\tvalid_0's mape: 0.166119\tvalid_0's l2: 1.29539\n",
      "Training until validation scores don't improve for 100 rounds\n",
      "Early stopping, best iteration is:\n",
      "[49]\tvalid_0's mape: 0.149462\tvalid_0's l2: 1.17031\n",
      "Training until validation scores don't improve for 100 rounds\n",
      "Early stopping, best iteration is:\n",
      "[49]\tvalid_0's mape: 0.170719\tvalid_0's l2: 1.32993\n",
      "Training until validation scores don't improve for 100 rounds\n",
      "Early stopping, best iteration is:\n",
      "[53]\tvalid_0's mape: 0.165333\tvalid_0's l2: 1.30177\n",
      "Training until validation scores don't improve for 100 rounds\n",
      "Early stopping, best iteration is:\n",
      "[51]\tvalid_0's mape: 0.154761\tvalid_0's l2: 1.2263\n"
     ]
    },
    {
     "name": "stderr",
     "output_type": "stream",
     "text": [
      "[I 2023-07-07 18:45:47,175] Trial 36 finished with value: 0.8432026030738742 and parameters: {'n_estimators': 10000, 'learning_rate': 0.11737245958073321, 'num_leaves': 1320, 'max_depth': 6, 'max_bin': 243, 'reg_alpha': 50, 'reg_lambda': 30, 'min_split_gain': 1.0547784617688718, 'subsample': 0.8, 'colsample_bytree': 0.8, 'min_child_samples': 196}. Best is trial 34 with value: 0.8408472311215176.\n"
     ]
    },
    {
     "name": "stdout",
     "output_type": "stream",
     "text": [
      "Training until validation scores don't improve for 100 rounds\n",
      "Early stopping, best iteration is:\n",
      "[34]\tvalid_0's mape: 0.161285\tvalid_0's l2: 1.27846\n",
      "Training until validation scores don't improve for 100 rounds\n",
      "Early stopping, best iteration is:\n",
      "[61]\tvalid_0's mape: 0.150318\tvalid_0's l2: 1.15912\n",
      "Training until validation scores don't improve for 100 rounds\n",
      "Early stopping, best iteration is:\n",
      "[59]\tvalid_0's mape: 0.15906\tvalid_0's l2: 1.22225\n",
      "Training until validation scores don't improve for 100 rounds\n",
      "Early stopping, best iteration is:\n",
      "[51]\tvalid_0's mape: 0.163513\tvalid_0's l2: 1.29982\n"
     ]
    },
    {
     "name": "stderr",
     "output_type": "stream",
     "text": [
      "[I 2023-07-07 18:45:48,407] Trial 37 finished with value: 0.8392297447185904 and parameters: {'n_estimators': 10000, 'learning_rate': 0.09369911976969579, 'num_leaves': 1120, 'max_depth': 6, 'max_bin': 219, 'reg_alpha': 5, 'reg_lambda': 20, 'min_split_gain': 2.0494669438180266, 'subsample': 1.0, 'colsample_bytree': 0.9000000000000001, 'min_child_samples': 119}. Best is trial 37 with value: 0.8392297447185904.\n"
     ]
    },
    {
     "name": "stdout",
     "output_type": "stream",
     "text": [
      "Training until validation scores don't improve for 100 rounds\n",
      "Early stopping, best iteration is:\n",
      "[47]\tvalid_0's mape: 0.165436\tvalid_0's l2: 1.29739\n",
      "Training until validation scores don't improve for 100 rounds\n",
      "Early stopping, best iteration is:\n",
      "[111]\tvalid_0's mape: 0.153655\tvalid_0's l2: 1.22593\n",
      "Training until validation scores don't improve for 100 rounds\n",
      "Early stopping, best iteration is:\n",
      "[58]\tvalid_0's mape: 0.168744\tvalid_0's l2: 1.28269\n",
      "Training until validation scores don't improve for 100 rounds\n",
      "Early stopping, best iteration is:\n",
      "[107]\tvalid_0's mape: 0.158689\tvalid_0's l2: 1.22009\n",
      "Training until validation scores don't improve for 100 rounds\n",
      "Early stopping, best iteration is:\n",
      "[33]\tvalid_0's mape: 0.151166\tvalid_0's l2: 1.21263\n",
      "Training until validation scores don't improve for 100 rounds\n"
     ]
    },
    {
     "name": "stderr",
     "output_type": "stream",
     "text": [
      "[I 2023-07-07 18:45:50,852] Trial 38 finished with value: 0.8360347926117757 and parameters: {'n_estimators': 10000, 'learning_rate': 0.0998413712113296, 'num_leaves': 920, 'max_depth': 7, 'max_bin': 207, 'reg_alpha': 5, 'reg_lambda': 20, 'min_split_gain': 0.11678967552970398, 'subsample': 1.0, 'colsample_bytree': 0.7, 'min_child_samples': 121}. Best is trial 38 with value: 0.8360347926117757.\n"
     ]
    },
    {
     "name": "stdout",
     "output_type": "stream",
     "text": [
      "Early stopping, best iteration is:\n",
      "[100]\tvalid_0's mape: 0.16307\tvalid_0's l2: 1.27184\n",
      "Training until validation scores don't improve for 100 rounds\n",
      "Early stopping, best iteration is:\n",
      "[77]\tvalid_0's mape: 0.152335\tvalid_0's l2: 1.21202\n",
      "Training until validation scores don't improve for 100 rounds\n",
      "Early stopping, best iteration is:\n",
      "[74]\tvalid_0's mape: 0.167065\tvalid_0's l2: 1.27174\n",
      "Training until validation scores don't improve for 100 rounds\n",
      "Early stopping, best iteration is:\n",
      "[74]\tvalid_0's mape: 0.1673\tvalid_0's l2: 1.30786\n",
      "Training until validation scores don't improve for 100 rounds\n",
      "Early stopping, best iteration is:\n",
      "[74]\tvalid_0's mape: 0.162325\tvalid_0's l2: 1.27756\n",
      "Training until validation scores don't improve for 100 rounds\n"
     ]
    },
    {
     "name": "stderr",
     "output_type": "stream",
     "text": [
      "[I 2023-07-07 18:45:51,975] Trial 39 finished with value: 0.8479630584380858 and parameters: {'n_estimators': 10000, 'learning_rate': 0.10481007456665108, 'num_leaves': 640, 'max_depth': 7, 'max_bin': 200, 'reg_alpha': 100, 'reg_lambda': 45, 'min_split_gain': 0.1433756443844161, 'subsample': 1.0, 'colsample_bytree': 0.8, 'min_child_samples': 127}. Best is trial 38 with value: 0.8360347926117757.\n"
     ]
    },
    {
     "name": "stdout",
     "output_type": "stream",
     "text": [
      "Early stopping, best iteration is:\n",
      "[72]\tvalid_0's mape: 0.163263\tvalid_0's l2: 1.2916\n",
      "Training until validation scores don't improve for 100 rounds\n",
      "Early stopping, best iteration is:\n",
      "[49]\tvalid_0's mape: 0.15484\tvalid_0's l2: 1.21238\n",
      "Training until validation scores don't improve for 100 rounds\n",
      "Early stopping, best iteration is:\n",
      "[53]\tvalid_0's mape: 0.168913\tvalid_0's l2: 1.3298\n",
      "Training until validation scores don't improve for 100 rounds\n",
      "Early stopping, best iteration is:\n",
      "[48]\tvalid_0's mape: 0.158515\tvalid_0's l2: 1.2314\n",
      "Training until validation scores don't improve for 100 rounds\n",
      "Early stopping, best iteration is:\n",
      "[52]\tvalid_0's mape: 0.160005\tvalid_0's l2: 1.20011\n",
      "Training until validation scores don't improve for 100 rounds\n"
     ]
    },
    {
     "name": "stderr",
     "output_type": "stream",
     "text": [
      "[I 2023-07-07 18:45:53,351] Trial 40 finished with value: 0.83999833543156 and parameters: {'n_estimators': 10000, 'learning_rate': 0.09549887442182398, 'num_leaves': 920, 'max_depth': 8, 'max_bin': 207, 'reg_alpha': 5, 'reg_lambda': 25, 'min_split_gain': 2.389229145140944, 'subsample': 1.0, 'colsample_bytree': 0.9000000000000001, 'min_child_samples': 54}. Best is trial 38 with value: 0.8360347926117757.\n"
     ]
    },
    {
     "name": "stdout",
     "output_type": "stream",
     "text": [
      "Early stopping, best iteration is:\n",
      "[32]\tvalid_0's mape: 0.157798\tvalid_0's l2: 1.27697\n",
      "Training until validation scores don't improve for 100 rounds\n",
      "Early stopping, best iteration is:\n",
      "[44]\tvalid_0's mape: 0.162003\tvalid_0's l2: 1.32337\n",
      "Training until validation scores don't improve for 100 rounds\n",
      "Early stopping, best iteration is:\n",
      "[58]\tvalid_0's mape: 0.158135\tvalid_0's l2: 1.19816\n",
      "Training until validation scores don't improve for 100 rounds\n",
      "Early stopping, best iteration is:\n",
      "[66]\tvalid_0's mape: 0.151962\tvalid_0's l2: 1.23358\n",
      "Training until validation scores don't improve for 100 rounds\n",
      "Early stopping, best iteration is:\n",
      "[63]\tvalid_0's mape: 0.161453\tvalid_0's l2: 1.24446\n",
      "Training until validation scores don't improve for 100 rounds\n"
     ]
    },
    {
     "name": "stderr",
     "output_type": "stream",
     "text": [
      "[I 2023-07-07 18:45:55,043] Trial 41 finished with value: 0.8401204109392012 and parameters: {'n_estimators': 10000, 'learning_rate': 0.09785661969599097, 'num_leaves': 860, 'max_depth': 8, 'max_bin': 209, 'reg_alpha': 5, 'reg_lambda': 30, 'min_split_gain': 1.6421851614416365, 'subsample': 1.0, 'colsample_bytree': 0.9000000000000001, 'min_child_samples': 37}. Best is trial 38 with value: 0.8360347926117757.\n"
     ]
    },
    {
     "name": "stdout",
     "output_type": "stream",
     "text": [
      "Early stopping, best iteration is:\n",
      "[62]\tvalid_0's mape: 0.165816\tvalid_0's l2: 1.25891\n",
      "Training until validation scores don't improve for 100 rounds\n",
      "Early stopping, best iteration is:\n",
      "[60]\tvalid_0's mape: 0.167464\tvalid_0's l2: 1.25461\n",
      "Training until validation scores don't improve for 100 rounds\n",
      "Early stopping, best iteration is:\n",
      "[61]\tvalid_0's mape: 0.163574\tvalid_0's l2: 1.28358\n",
      "Training until validation scores don't improve for 100 rounds\n",
      "Early stopping, best iteration is:\n",
      "[68]\tvalid_0's mape: 0.162387\tvalid_0's l2: 1.26469\n",
      "Training until validation scores don't improve for 100 rounds\n",
      "Early stopping, best iteration is:\n",
      "[50]\tvalid_0's mape: 0.160992\tvalid_0's l2: 1.286\n",
      "Training until validation scores don't improve for 100 rounds\n"
     ]
    },
    {
     "name": "stderr",
     "output_type": "stream",
     "text": [
      "[I 2023-07-07 18:45:56,525] Trial 42 finished with value: 0.8409104986475231 and parameters: {'n_estimators': 10000, 'learning_rate': 0.08942044168287598, 'num_leaves': 940, 'max_depth': 8, 'max_bin': 208, 'reg_alpha': 20, 'reg_lambda': 25, 'min_split_gain': 1.3163766786558537, 'subsample': 1.0, 'colsample_bytree': 1.0, 'min_child_samples': 37}. Best is trial 38 with value: 0.8360347926117757.\n"
     ]
    },
    {
     "name": "stdout",
     "output_type": "stream",
     "text": [
      "Early stopping, best iteration is:\n",
      "[44]\tvalid_0's mape: 0.14738\tvalid_0's l2: 1.18692\n",
      "Training until validation scores don't improve for 100 rounds\n",
      "Early stopping, best iteration is:\n",
      "[39]\tvalid_0's mape: 0.163212\tvalid_0's l2: 1.25904\n",
      "Training until validation scores don't improve for 100 rounds\n",
      "Early stopping, best iteration is:\n",
      "[43]\tvalid_0's mape: 0.16067\tvalid_0's l2: 1.23515\n",
      "Training until validation scores don't improve for 100 rounds\n",
      "Early stopping, best iteration is:\n",
      "[46]\tvalid_0's mape: 0.160237\tvalid_0's l2: 1.22535\n",
      "Training until validation scores don't improve for 100 rounds\n",
      "Early stopping, best iteration is:\n",
      "[28]\tvalid_0's mape: 0.156051\tvalid_0's l2: 1.25551\n",
      "Training until validation scores don't improve for 100 rounds\n"
     ]
    },
    {
     "name": "stderr",
     "output_type": "stream",
     "text": [
      "[I 2023-07-07 18:45:57,752] Trial 43 finished with value: 0.8406331297776374 and parameters: {'n_estimators': 10000, 'learning_rate': 0.1145843816175002, 'num_leaves': 600, 'max_depth': 9, 'max_bin': 212, 'reg_alpha': 5, 'reg_lambda': 20, 'min_split_gain': 2.4082150878602118, 'subsample': 1.0, 'colsample_bytree': 0.9000000000000001, 'min_child_samples': 102}. Best is trial 38 with value: 0.8360347926117757.\n"
     ]
    },
    {
     "name": "stdout",
     "output_type": "stream",
     "text": [
      "Early stopping, best iteration is:\n",
      "[47]\tvalid_0's mape: 0.160714\tvalid_0's l2: 1.28893\n",
      "Training until validation scores don't improve for 100 rounds\n",
      "Early stopping, best iteration is:\n",
      "[47]\tvalid_0's mape: 0.175634\tvalid_0's l2: 1.34353\n",
      "Training until validation scores don't improve for 100 rounds\n",
      "Early stopping, best iteration is:\n",
      "[36]\tvalid_0's mape: 0.159954\tvalid_0's l2: 1.3276\n",
      "Training until validation scores don't improve for 100 rounds\n",
      "Early stopping, best iteration is:\n",
      "[47]\tvalid_0's mape: 0.157583\tvalid_0's l2: 1.17866\n",
      "Training until validation scores don't improve for 100 rounds\n",
      "Early stopping, best iteration is:\n",
      "[49]\tvalid_0's mape: 0.158131\tvalid_0's l2: 1.25065\n",
      "Training until validation scores don't improve for 100 rounds\n"
     ]
    },
    {
     "name": "stderr",
     "output_type": "stream",
     "text": [
      "[I 2023-07-07 18:45:59,123] Trial 44 finished with value: 0.8404868148732085 and parameters: {'n_estimators': 10000, 'learning_rate': 0.11833088338090526, 'num_leaves': 640, 'max_depth': 9, 'max_bin': 207, 'reg_alpha': 5, 'reg_lambda': 30, 'min_split_gain': 1.8708922527200187, 'subsample': 1.0, 'colsample_bytree': 1.0, 'min_child_samples': 106}. Best is trial 38 with value: 0.8360347926117757.\n"
     ]
    },
    {
     "name": "stdout",
     "output_type": "stream",
     "text": [
      "Early stopping, best iteration is:\n",
      "[35]\tvalid_0's mape: 0.149422\tvalid_0's l2: 1.17336\n",
      "Training until validation scores don't improve for 100 rounds\n",
      "Early stopping, best iteration is:\n",
      "[31]\tvalid_0's mape: 0.170825\tvalid_0's l2: 1.33973\n",
      "Training until validation scores don't improve for 100 rounds\n",
      "Early stopping, best iteration is:\n",
      "[69]\tvalid_0's mape: 0.159154\tvalid_0's l2: 1.25846\n",
      "Training until validation scores don't improve for 100 rounds\n",
      "Early stopping, best iteration is:\n",
      "[63]\tvalid_0's mape: 0.156824\tvalid_0's l2: 1.2374\n",
      "Training until validation scores don't improve for 100 rounds\n",
      "Early stopping, best iteration is:\n",
      "[47]\tvalid_0's mape: 0.159815\tvalid_0's l2: 1.2894\n",
      "Training until validation scores don't improve for 100 rounds\n"
     ]
    },
    {
     "name": "stderr",
     "output_type": "stream",
     "text": [
      "[I 2023-07-07 18:46:01,023] Trial 45 finished with value: 0.84268025775735 and parameters: {'n_estimators': 10000, 'learning_rate': 0.09946598666462352, 'num_leaves': 200, 'max_depth': 9, 'max_bin': 206, 'reg_alpha': 0, 'reg_lambda': 30, 'min_split_gain': 1.5945433972588006, 'subsample': 1.0, 'colsample_bytree': 1.0, 'min_child_samples': 42}. Best is trial 38 with value: 0.8360347926117757.\n"
     ]
    },
    {
     "name": "stdout",
     "output_type": "stream",
     "text": [
      "Early stopping, best iteration is:\n",
      "[64]\tvalid_0's mape: 0.155073\tvalid_0's l2: 1.18232\n",
      "Training until validation scores don't improve for 100 rounds\n",
      "Early stopping, best iteration is:\n",
      "[42]\tvalid_0's mape: 0.15578\tvalid_0's l2: 1.22993\n",
      "Training until validation scores don't improve for 100 rounds\n",
      "Early stopping, best iteration is:\n",
      "[45]\tvalid_0's mape: 0.162107\tvalid_0's l2: 1.28202\n",
      "Training until validation scores don't improve for 100 rounds\n",
      "Early stopping, best iteration is:\n",
      "[52]\tvalid_0's mape: 0.16126\tvalid_0's l2: 1.25051\n",
      "Training until validation scores don't improve for 100 rounds\n",
      "Early stopping, best iteration is:\n",
      "[54]\tvalid_0's mape: 0.159699\tvalid_0's l2: 1.22129\n",
      "Training until validation scores don't improve for 100 rounds\n"
     ]
    },
    {
     "name": "stderr",
     "output_type": "stream",
     "text": [
      "[I 2023-07-07 18:46:02,292] Trial 46 finished with value: 0.840407248390458 and parameters: {'n_estimators': 10000, 'learning_rate': 0.12533903096495658, 'num_leaves': 720, 'max_depth': 8, 'max_bin': 217, 'reg_alpha': 25, 'reg_lambda': 30, 'min_split_gain': 0.6761344675290184, 'subsample': 1.0, 'colsample_bytree': 1.0, 'min_child_samples': 73}. Best is trial 38 with value: 0.8360347926117757.\n"
     ]
    },
    {
     "name": "stdout",
     "output_type": "stream",
     "text": [
      "Early stopping, best iteration is:\n",
      "[45]\tvalid_0's mape: 0.161269\tvalid_0's l2: 1.29293\n",
      "Training until validation scores don't improve for 100 rounds\n",
      "Early stopping, best iteration is:\n",
      "[41]\tvalid_0's mape: 0.153061\tvalid_0's l2: 1.22348\n",
      "Training until validation scores don't improve for 100 rounds\n",
      "Early stopping, best iteration is:\n",
      "[33]\tvalid_0's mape: 0.158568\tvalid_0's l2: 1.25305\n",
      "Training until validation scores don't improve for 100 rounds\n",
      "Early stopping, best iteration is:\n",
      "[45]\tvalid_0's mape: 0.170359\tvalid_0's l2: 1.33381\n",
      "Training until validation scores don't improve for 100 rounds\n",
      "Early stopping, best iteration is:\n",
      "[46]\tvalid_0's mape: 0.154617\tvalid_0's l2: 1.19754\n",
      "Training until validation scores don't improve for 100 rounds\n"
     ]
    },
    {
     "name": "stderr",
     "output_type": "stream",
     "text": [
      "[I 2023-07-07 18:46:03,424] Trial 47 finished with value: 0.8409606025066759 and parameters: {'n_estimators': 10000, 'learning_rate': 0.1408008694037084, 'num_leaves': 920, 'max_depth': 8, 'max_bin': 217, 'reg_alpha': 25, 'reg_lambda': 40, 'min_split_gain': 1.0771867464242377, 'subsample': 1.0, 'colsample_bytree': 0.8, 'min_child_samples': 62}. Best is trial 38 with value: 0.8360347926117757.\n"
     ]
    },
    {
     "name": "stdout",
     "output_type": "stream",
     "text": [
      "Early stopping, best iteration is:\n",
      "[28]\tvalid_0's mape: 0.166249\tvalid_0's l2: 1.27937\n",
      "Training until validation scores don't improve for 100 rounds\n",
      "Early stopping, best iteration is:\n",
      "[30]\tvalid_0's mape: 0.158915\tvalid_0's l2: 1.23493\n",
      "Training until validation scores don't improve for 100 rounds\n",
      "Early stopping, best iteration is:\n",
      "[18]\tvalid_0's mape: 0.156355\tvalid_0's l2: 1.23239\n",
      "Training until validation scores don't improve for 100 rounds\n",
      "Early stopping, best iteration is:\n",
      "[41]\tvalid_0's mape: 0.156585\tvalid_0's l2: 1.22801\n",
      "Training until validation scores don't improve for 100 rounds\n",
      "Early stopping, best iteration is:\n",
      "[26]\tvalid_0's mape: 0.167154\tvalid_0's l2: 1.32423\n",
      "Training until validation scores don't improve for 100 rounds\n"
     ]
    },
    {
     "name": "stderr",
     "output_type": "stream",
     "text": [
      "[I 2023-07-07 18:46:05,394] Trial 48 finished with value: 0.8462765508782578 and parameters: {'n_estimators': 10000, 'learning_rate': 0.1560220582978511, 'num_leaves': 1060, 'max_depth': 7, 'max_bin': 214, 'reg_alpha': 10, 'reg_lambda': 20, 'min_split_gain': 0.1821959283297141, 'subsample': 1.0, 'colsample_bytree': 1.0, 'min_child_samples': 36}. Best is trial 38 with value: 0.8360347926117757.\n"
     ]
    },
    {
     "name": "stdout",
     "output_type": "stream",
     "text": [
      "Early stopping, best iteration is:\n",
      "[38]\tvalid_0's mape: 0.166115\tvalid_0's l2: 1.30729\n",
      "Training until validation scores don't improve for 100 rounds\n",
      "Early stopping, best iteration is:\n",
      "[67]\tvalid_0's mape: 0.161501\tvalid_0's l2: 1.2815\n",
      "Training until validation scores don't improve for 100 rounds\n",
      "Early stopping, best iteration is:\n",
      "[68]\tvalid_0's mape: 0.15822\tvalid_0's l2: 1.23482\n",
      "Training until validation scores don't improve for 100 rounds\n",
      "Early stopping, best iteration is:\n",
      "[69]\tvalid_0's mape: 0.170618\tvalid_0's l2: 1.32074\n",
      "Training until validation scores don't improve for 100 rounds\n",
      "Early stopping, best iteration is:\n",
      "[69]\tvalid_0's mape: 0.158541\tvalid_0's l2: 1.23304\n",
      "Training until validation scores don't improve for 100 rounds\n"
     ]
    },
    {
     "name": "stderr",
     "output_type": "stream",
     "text": [
      "[I 2023-07-07 18:46:06,771] Trial 49 finished with value: 0.8443028953629195 and parameters: {'n_estimators': 10000, 'learning_rate': 0.08893199399498684, 'num_leaves': 720, 'max_depth': 8, 'max_bin': 201, 'reg_alpha': 50, 'reg_lambda': 30, 'min_split_gain': 0.7222088719399895, 'subsample': 1.0, 'colsample_bytree': 0.9000000000000001, 'min_child_samples': 16}. Best is trial 38 with value: 0.8360347926117757.\n"
     ]
    },
    {
     "name": "stdout",
     "output_type": "stream",
     "text": [
      "Early stopping, best iteration is:\n",
      "[66]\tvalid_0's mape: 0.157576\tvalid_0's l2: 1.25159\n",
      "Training until validation scores don't improve for 100 rounds\n",
      "Early stopping, best iteration is:\n",
      "[41]\tvalid_0's mape: 0.149208\tvalid_0's l2: 1.17352\n",
      "Training until validation scores don't improve for 100 rounds\n",
      "Early stopping, best iteration is:\n",
      "[69]\tvalid_0's mape: 0.166558\tvalid_0's l2: 1.29476\n",
      "Training until validation scores don't improve for 100 rounds\n",
      "Early stopping, best iteration is:\n",
      "[59]\tvalid_0's mape: 0.165127\tvalid_0's l2: 1.33368\n",
      "Training until validation scores don't improve for 100 rounds\n",
      "Early stopping, best iteration is:\n",
      "[67]\tvalid_0's mape: 0.164359\tvalid_0's l2: 1.26028\n",
      "Training until validation scores don't improve for 100 rounds\n"
     ]
    },
    {
     "name": "stderr",
     "output_type": "stream",
     "text": [
      "[I 2023-07-07 18:46:08,115] Trial 50 finished with value: 0.8398381326665957 and parameters: {'n_estimators': 10000, 'learning_rate': 0.10796586976262385, 'num_leaves': 480, 'max_depth': 7, 'max_bin': 206, 'reg_alpha': 20, 'reg_lambda': 50, 'min_split_gain': 0.7528923543015349, 'subsample': 1.0, 'colsample_bytree': 0.8, 'min_child_samples': 85}. Best is trial 38 with value: 0.8360347926117757.\n"
     ]
    },
    {
     "name": "stdout",
     "output_type": "stream",
     "text": [
      "Early stopping, best iteration is:\n",
      "[66]\tvalid_0's mape: 0.155233\tvalid_0's l2: 1.21014\n",
      "Training until validation scores don't improve for 100 rounds\n",
      "Early stopping, best iteration is:\n",
      "[82]\tvalid_0's mape: 0.169418\tvalid_0's l2: 1.33844\n",
      "Training until validation scores don't improve for 100 rounds\n",
      "Early stopping, best iteration is:\n",
      "[59]\tvalid_0's mape: 0.161311\tvalid_0's l2: 1.26035\n",
      "Training until validation scores don't improve for 100 rounds\n",
      "Early stopping, best iteration is:\n",
      "[52]\tvalid_0's mape: 0.154653\tvalid_0's l2: 1.23289\n",
      "Training until validation scores don't improve for 100 rounds\n",
      "Early stopping, best iteration is:\n",
      "[62]\tvalid_0's mape: 0.154308\tvalid_0's l2: 1.21275\n",
      "Training until validation scores don't improve for 100 rounds\n"
     ]
    },
    {
     "name": "stderr",
     "output_type": "stream",
     "text": [
      "[I 2023-07-07 18:46:09,504] Trial 51 finished with value: 0.8412730064531033 and parameters: {'n_estimators': 10000, 'learning_rate': 0.1108099607059506, 'num_leaves': 460, 'max_depth': 7, 'max_bin': 220, 'reg_alpha': 20, 'reg_lambda': 85, 'min_split_gain': 0.647756650115459, 'subsample': 1.0, 'colsample_bytree': 0.8, 'min_child_samples': 86}. Best is trial 38 with value: 0.8360347926117757.\n"
     ]
    },
    {
     "name": "stdout",
     "output_type": "stream",
     "text": [
      "Early stopping, best iteration is:\n",
      "[72]\tvalid_0's mape: 0.162009\tvalid_0's l2: 1.24129\n",
      "Training until validation scores don't improve for 100 rounds\n",
      "Early stopping, best iteration is:\n",
      "[78]\tvalid_0's mape: 0.161241\tvalid_0's l2: 1.26992\n",
      "Training until validation scores don't improve for 100 rounds\n",
      "Early stopping, best iteration is:\n",
      "[81]\tvalid_0's mape: 0.15505\tvalid_0's l2: 1.21113\n",
      "Training until validation scores don't improve for 100 rounds\n",
      "Early stopping, best iteration is:\n",
      "[61]\tvalid_0's mape: 0.160665\tvalid_0's l2: 1.27791\n",
      "Training until validation scores don't improve for 100 rounds\n",
      "Early stopping, best iteration is:\n",
      "[63]\tvalid_0's mape: 0.154733\tvalid_0's l2: 1.21247\n",
      "Training until validation scores don't improve for 100 rounds\n"
     ]
    },
    {
     "name": "stderr",
     "output_type": "stream",
     "text": [
      "[I 2023-07-07 18:46:12,167] Trial 52 finished with value: 0.838824048975936 and parameters: {'n_estimators': 10000, 'learning_rate': 0.09616982470599308, 'num_leaves': 500, 'max_depth': 8, 'max_bin': 205, 'reg_alpha': 0, 'reg_lambda': 50, 'min_split_gain': 0.04464478143998507, 'subsample': 1.0, 'colsample_bytree': 0.8, 'min_child_samples': 114}. Best is trial 38 with value: 0.8360347926117757.\n"
     ]
    },
    {
     "name": "stdout",
     "output_type": "stream",
     "text": [
      "Early stopping, best iteration is:\n",
      "[96]\tvalid_0's mape: 0.165394\tvalid_0's l2: 1.26782\n",
      "Training until validation scores don't improve for 100 rounds\n",
      "Early stopping, best iteration is:\n",
      "[87]\tvalid_0's mape: 0.162885\tvalid_0's l2: 1.2499\n",
      "Training until validation scores don't improve for 100 rounds\n",
      "Early stopping, best iteration is:\n",
      "[59]\tvalid_0's mape: 0.158802\tvalid_0's l2: 1.24451\n",
      "Training until validation scores don't improve for 100 rounds\n",
      "Early stopping, best iteration is:\n",
      "[114]\tvalid_0's mape: 0.15344\tvalid_0's l2: 1.20179\n",
      "Training until validation scores don't improve for 100 rounds\n",
      "Early stopping, best iteration is:\n",
      "[41]\tvalid_0's mape: 0.16076\tvalid_0's l2: 1.24692\n",
      "Training until validation scores don't improve for 100 rounds\n"
     ]
    },
    {
     "name": "stderr",
     "output_type": "stream",
     "text": [
      "[I 2023-07-07 18:46:14,639] Trial 53 finished with value: 0.8400450114199692 and parameters: {'n_estimators': 10000, 'learning_rate': 0.10254458612269816, 'num_leaves': 500, 'max_depth': 8, 'max_bin': 203, 'reg_alpha': 0, 'reg_lambda': 50, 'min_split_gain': 0.07404001804667276, 'subsample': 1.0, 'colsample_bytree': 0.8, 'min_child_samples': 118}. Best is trial 38 with value: 0.8360347926117757.\n"
     ]
    },
    {
     "name": "stdout",
     "output_type": "stream",
     "text": [
      "Early stopping, best iteration is:\n",
      "[46]\tvalid_0's mape: 0.163234\tvalid_0's l2: 1.30583\n",
      "Training until validation scores don't improve for 100 rounds\n",
      "Early stopping, best iteration is:\n",
      "[68]\tvalid_0's mape: 0.165582\tvalid_0's l2: 1.31352\n",
      "Training until validation scores don't improve for 100 rounds\n",
      "Early stopping, best iteration is:\n",
      "[76]\tvalid_0's mape: 0.173303\tvalid_0's l2: 1.35881\n",
      "Training until validation scores don't improve for 100 rounds\n",
      "Early stopping, best iteration is:\n",
      "[69]\tvalid_0's mape: 0.149269\tvalid_0's l2: 1.14978\n",
      "Training until validation scores don't improve for 100 rounds\n",
      "Early stopping, best iteration is:\n",
      "[49]\tvalid_0's mape: 0.149907\tvalid_0's l2: 1.19511\n",
      "Training until validation scores don't improve for 100 rounds\n"
     ]
    },
    {
     "name": "stderr",
     "output_type": "stream",
     "text": [
      "[I 2023-07-07 18:46:16,792] Trial 54 finished with value: 0.8383261448085573 and parameters: {'n_estimators': 10000, 'learning_rate': 0.08461024673308727, 'num_leaves': 200, 'max_depth': 7, 'max_bin': 203, 'reg_alpha': 0, 'reg_lambda': 50, 'min_split_gain': 0.2619005315910836, 'subsample': 0.9000000000000001, 'colsample_bytree': 0.8, 'min_child_samples': 122}. Best is trial 38 with value: 0.8360347926117757.\n"
     ]
    },
    {
     "name": "stdout",
     "output_type": "stream",
     "text": [
      "Early stopping, best iteration is:\n",
      "[67]\tvalid_0's mape: 0.159756\tvalid_0's l2: 1.23567\n",
      "Training until validation scores don't improve for 100 rounds\n",
      "Early stopping, best iteration is:\n",
      "[60]\tvalid_0's mape: 0.160137\tvalid_0's l2: 1.27844\n",
      "Training until validation scores don't improve for 100 rounds\n",
      "Early stopping, best iteration is:\n",
      "[77]\tvalid_0's mape: 0.148839\tvalid_0's l2: 1.19204\n",
      "Training until validation scores don't improve for 100 rounds\n",
      "Early stopping, best iteration is:\n",
      "[69]\tvalid_0's mape: 0.170082\tvalid_0's l2: 1.33111\n",
      "Training until validation scores don't improve for 100 rounds\n",
      "Early stopping, best iteration is:\n",
      "[131]\tvalid_0's mape: 0.162012\tvalid_0's l2: 1.24797\n",
      "Training until validation scores don't improve for 100 rounds\n"
     ]
    },
    {
     "name": "stderr",
     "output_type": "stream",
     "text": [
      "[I 2023-07-07 18:46:19,284] Trial 55 finished with value: 0.8407617460032129 and parameters: {'n_estimators': 10000, 'learning_rate': 0.08071280349060564, 'num_leaves': 280, 'max_depth': 7, 'max_bin': 206, 'reg_alpha': 0, 'reg_lambda': 65, 'min_split_gain': 0.006072584471076392, 'subsample': 0.9000000000000001, 'colsample_bytree': 0.8, 'min_child_samples': 91}. Best is trial 38 with value: 0.8360347926117757.\n"
     ]
    },
    {
     "name": "stdout",
     "output_type": "stream",
     "text": [
      "Early stopping, best iteration is:\n",
      "[65]\tvalid_0's mape: 0.158835\tvalid_0's l2: 1.22145\n",
      "Training until validation scores don't improve for 100 rounds\n",
      "Early stopping, best iteration is:\n",
      "[120]\tvalid_0's mape: 0.15875\tvalid_0's l2: 1.23371\n",
      "Training until validation scores don't improve for 100 rounds\n",
      "Early stopping, best iteration is:\n",
      "[124]\tvalid_0's mape: 0.15252\tvalid_0's l2: 1.19175\n",
      "Training until validation scores don't improve for 100 rounds\n",
      "Early stopping, best iteration is:\n",
      "[117]\tvalid_0's mape: 0.160685\tvalid_0's l2: 1.27797\n",
      "Training until validation scores don't improve for 100 rounds\n",
      "Early stopping, best iteration is:\n",
      "[103]\tvalid_0's mape: 0.164342\tvalid_0's l2: 1.26858\n",
      "Training until validation scores don't improve for 100 rounds\n"
     ]
    },
    {
     "name": "stderr",
     "output_type": "stream",
     "text": [
      "[I 2023-07-07 18:46:21,131] Trial 56 finished with value: 0.8386149660671016 and parameters: {'n_estimators': 10000, 'learning_rate': 0.0584198902554101, 'num_leaves': 20, 'max_depth': 7, 'max_bin': 203, 'reg_alpha': 10, 'reg_lambda': 50, 'min_split_gain': 1.0842854523505423, 'subsample': 0.9000000000000001, 'colsample_bytree': 0.7, 'min_child_samples': 115}. Best is trial 38 with value: 0.8360347926117757.\n"
     ]
    },
    {
     "name": "stdout",
     "output_type": "stream",
     "text": [
      "Early stopping, best iteration is:\n",
      "[115]\tvalid_0's mape: 0.16219\tvalid_0's l2: 1.26945\n",
      "Training until validation scores don't improve for 100 rounds\n",
      "Early stopping, best iteration is:\n",
      "[77]\tvalid_0's mape: 0.159418\tvalid_0's l2: 1.22457\n",
      "Training until validation scores don't improve for 100 rounds\n",
      "Early stopping, best iteration is:\n",
      "[120]\tvalid_0's mape: 0.143069\tvalid_0's l2: 1.0988\n",
      "Training until validation scores don't improve for 100 rounds\n",
      "Early stopping, best iteration is:\n",
      "[78]\tvalid_0's mape: 0.163902\tvalid_0's l2: 1.2767\n",
      "Training until validation scores don't improve for 100 rounds\n",
      "Early stopping, best iteration is:\n",
      "[125]\tvalid_0's mape: 0.165831\tvalid_0's l2: 1.30476\n",
      "Training until validation scores don't improve for 100 rounds\n"
     ]
    },
    {
     "name": "stderr",
     "output_type": "stream",
     "text": [
      "[I 2023-07-07 18:46:22,952] Trial 57 finished with value: 0.8393941280769797 and parameters: {'n_estimators': 10000, 'learning_rate': 0.058789616860588895, 'num_leaves': 20, 'max_depth': 7, 'max_bin': 212, 'reg_alpha': 10, 'reg_lambda': 50, 'min_split_gain': 1.311861882826706, 'subsample': 0.9000000000000001, 'colsample_bytree': 0.7, 'min_child_samples': 118}. Best is trial 38 with value: 0.8360347926117757.\n"
     ]
    },
    {
     "name": "stdout",
     "output_type": "stream",
     "text": [
      "Early stopping, best iteration is:\n",
      "[87]\tvalid_0's mape: 0.16866\tvalid_0's l2: 1.35298\n",
      "Training until validation scores don't improve for 100 rounds\n",
      "Early stopping, best iteration is:\n",
      "[117]\tvalid_0's mape: 0.149955\tvalid_0's l2: 1.16082\n",
      "Training until validation scores don't improve for 100 rounds\n",
      "Early stopping, best iteration is:\n",
      "[125]\tvalid_0's mape: 0.165604\tvalid_0's l2: 1.31587\n",
      "Training until validation scores don't improve for 100 rounds\n",
      "Early stopping, best iteration is:\n",
      "[108]\tvalid_0's mape: 0.157955\tvalid_0's l2: 1.25913\n",
      "Training until validation scores don't improve for 100 rounds\n",
      "Early stopping, best iteration is:\n",
      "[129]\tvalid_0's mape: 0.170729\tvalid_0's l2: 1.29862\n",
      "Training until validation scores don't improve for 100 rounds\n"
     ]
    },
    {
     "name": "stderr",
     "output_type": "stream",
     "text": [
      "[I 2023-07-07 18:46:24,512] Trial 58 finished with value: 0.8380461287477026 and parameters: {'n_estimators': 10000, 'learning_rate': 0.06025477972526169, 'num_leaves': 40, 'max_depth': 5, 'max_bin': 212, 'reg_alpha': 10, 'reg_lambda': 55, 'min_split_gain': 1.2077328556185614, 'subsample': 0.8, 'colsample_bytree': 0.7, 'min_child_samples': 181}. Best is trial 38 with value: 0.8360347926117757.\n"
     ]
    },
    {
     "name": "stdout",
     "output_type": "stream",
     "text": [
      "Early stopping, best iteration is:\n",
      "[110]\tvalid_0's mape: 0.154563\tvalid_0's l2: 1.2214\n",
      "Training until validation scores don't improve for 100 rounds\n",
      "Early stopping, best iteration is:\n",
      "[67]\tvalid_0's mape: 0.156586\tvalid_0's l2: 1.2125\n",
      "Training until validation scores don't improve for 100 rounds\n",
      "Early stopping, best iteration is:\n",
      "[75]\tvalid_0's mape: 0.160928\tvalid_0's l2: 1.24709\n",
      "Training until validation scores don't improve for 100 rounds\n",
      "Early stopping, best iteration is:\n",
      "[88]\tvalid_0's mape: 0.158895\tvalid_0's l2: 1.25733\n",
      "Training until validation scores don't improve for 100 rounds\n",
      "Early stopping, best iteration is:\n",
      "[91]\tvalid_0's mape: 0.165206\tvalid_0's l2: 1.31185\n",
      "Training until validation scores don't improve for 100 rounds\n"
     ]
    },
    {
     "name": "stderr",
     "output_type": "stream",
     "text": [
      "[I 2023-07-07 18:46:25,893] Trial 59 finished with value: 0.8397410059080691 and parameters: {'n_estimators': 10000, 'learning_rate': 0.08236745303225387, 'num_leaves': 140, 'max_depth': 5, 'max_bin': 203, 'reg_alpha': 0, 'reg_lambda': 60, 'min_split_gain': 1.8939298785409882, 'subsample': 0.8, 'colsample_bytree': 0.7, 'min_child_samples': 175}. Best is trial 38 with value: 0.8360347926117757.\n"
     ]
    },
    {
     "name": "stdout",
     "output_type": "stream",
     "text": [
      "Early stopping, best iteration is:\n",
      "[91]\tvalid_0's mape: 0.158265\tvalid_0's l2: 1.24314\n",
      "Training until validation scores don't improve for 100 rounds\n",
      "Early stopping, best iteration is:\n",
      "[73]\tvalid_0's mape: 0.155237\tvalid_0's l2: 1.23488\n",
      "Training until validation scores don't improve for 100 rounds\n",
      "Early stopping, best iteration is:\n",
      "[98]\tvalid_0's mape: 0.17036\tvalid_0's l2: 1.32164\n",
      "Training until validation scores don't improve for 100 rounds\n",
      "Early stopping, best iteration is:\n",
      "[124]\tvalid_0's mape: 0.161804\tvalid_0's l2: 1.2569\n",
      "Training until validation scores don't improve for 100 rounds\n",
      "Early stopping, best iteration is:\n",
      "[114]\tvalid_0's mape: 0.159926\tvalid_0's l2: 1.2727\n",
      "Training until validation scores don't improve for 100 rounds\n"
     ]
    },
    {
     "name": "stderr",
     "output_type": "stream",
     "text": [
      "[I 2023-07-07 18:46:27,639] Trial 60 finished with value: 0.8401993634994114 and parameters: {'n_estimators': 10000, 'learning_rate': 0.05884053640736158, 'num_leaves': 340, 'max_depth': 6, 'max_bin': 220, 'reg_alpha': 10, 'reg_lambda': 70, 'min_split_gain': 1.1571385317146852, 'subsample': 0.9000000000000001, 'colsample_bytree': 0.7, 'min_child_samples': 138}. Best is trial 38 with value: 0.8360347926117757.\n"
     ]
    },
    {
     "name": "stdout",
     "output_type": "stream",
     "text": [
      "Early stopping, best iteration is:\n",
      "[111]\tvalid_0's mape: 0.153533\tvalid_0's l2: 1.18714\n",
      "Training until validation scores don't improve for 100 rounds\n",
      "Early stopping, best iteration is:\n",
      "[122]\tvalid_0's mape: 0.163533\tvalid_0's l2: 1.27324\n",
      "Training until validation scores don't improve for 100 rounds\n",
      "Early stopping, best iteration is:\n",
      "[127]\tvalid_0's mape: 0.162424\tvalid_0's l2: 1.26225\n",
      "Training until validation scores don't improve for 100 rounds\n",
      "Early stopping, best iteration is:\n",
      "[88]\tvalid_0's mape: 0.152557\tvalid_0's l2: 1.17242\n",
      "Training until validation scores don't improve for 100 rounds\n",
      "Early stopping, best iteration is:\n",
      "[112]\tvalid_0's mape: 0.160051\tvalid_0's l2: 1.2724\n",
      "Training until validation scores don't improve for 100 rounds\n"
     ]
    },
    {
     "name": "stderr",
     "output_type": "stream",
     "text": [
      "[I 2023-07-07 18:46:29,423] Trial 61 finished with value: 0.8395835139731114 and parameters: {'n_estimators': 10000, 'learning_rate': 0.05979233107773689, 'num_leaves': 40, 'max_depth': 7, 'max_bin': 211, 'reg_alpha': 10, 'reg_lambda': 55, 'min_split_gain': 1.357384089209098, 'subsample': 0.9000000000000001, 'colsample_bytree': 0.7, 'min_child_samples': 118}. Best is trial 38 with value: 0.8360347926117757.\n"
     ]
    },
    {
     "name": "stdout",
     "output_type": "stream",
     "text": [
      "Early stopping, best iteration is:\n",
      "[109]\tvalid_0's mape: 0.161165\tvalid_0's l2: 1.27729\n",
      "Training until validation scores don't improve for 100 rounds\n",
      "Early stopping, best iteration is:\n",
      "[132]\tvalid_0's mape: 0.15867\tvalid_0's l2: 1.21182\n",
      "Training until validation scores don't improve for 100 rounds\n",
      "Early stopping, best iteration is:\n",
      "[92]\tvalid_0's mape: 0.163224\tvalid_0's l2: 1.27238\n",
      "Training until validation scores don't improve for 100 rounds\n",
      "Early stopping, best iteration is:\n",
      "[119]\tvalid_0's mape: 0.15664\tvalid_0's l2: 1.25261\n",
      "Training until validation scores don't improve for 100 rounds\n",
      "Early stopping, best iteration is:\n",
      "[100]\tvalid_0's mape: 0.152451\tvalid_0's l2: 1.22547\n",
      "Training until validation scores don't improve for 100 rounds\n"
     ]
    },
    {
     "name": "stderr",
     "output_type": "stream",
     "text": [
      "[I 2023-07-07 18:46:31,153] Trial 62 finished with value: 0.8417447962949505 and parameters: {'n_estimators': 10000, 'learning_rate': 0.06304731144582078, 'num_leaves': 20, 'max_depth': 6, 'max_bin': 213, 'reg_alpha': 15, 'reg_lambda': 40, 'min_split_gain': 0.5857195568403133, 'subsample': 0.8, 'colsample_bytree': 0.7, 'min_child_samples': 196}. Best is trial 38 with value: 0.8360347926117757.\n"
     ]
    },
    {
     "name": "stdout",
     "output_type": "stream",
     "text": [
      "Early stopping, best iteration is:\n",
      "[119]\tvalid_0's mape: 0.170419\tvalid_0's l2: 1.32318\n",
      "Training until validation scores don't improve for 100 rounds\n",
      "Early stopping, best iteration is:\n",
      "[115]\tvalid_0's mape: 0.169859\tvalid_0's l2: 1.31162\n",
      "Training until validation scores don't improve for 100 rounds\n",
      "Early stopping, best iteration is:\n",
      "[95]\tvalid_0's mape: 0.151686\tvalid_0's l2: 1.20197\n",
      "Training until validation scores don't improve for 100 rounds\n",
      "Early stopping, best iteration is:\n",
      "[84]\tvalid_0's mape: 0.157914\tvalid_0's l2: 1.24899\n",
      "Training until validation scores don't improve for 100 rounds\n",
      "Early stopping, best iteration is:\n",
      "[115]\tvalid_0's mape: 0.158904\tvalid_0's l2: 1.2243\n",
      "Training until validation scores don't improve for 100 rounds\n"
     ]
    },
    {
     "name": "stderr",
     "output_type": "stream",
     "text": [
      "[I 2023-07-07 18:46:32,873] Trial 63 finished with value: 0.8394255376223473 and parameters: {'n_estimators': 10000, 'learning_rate': 0.05300419118117272, 'num_leaves': 120, 'max_depth': 7, 'max_bin': 202, 'reg_alpha': 5, 'reg_lambda': 55, 'min_split_gain': 1.9107250700517917, 'subsample': 0.9000000000000001, 'colsample_bytree': 0.7, 'min_child_samples': 152}. Best is trial 38 with value: 0.8360347926117757.\n"
     ]
    },
    {
     "name": "stdout",
     "output_type": "stream",
     "text": [
      "Early stopping, best iteration is:\n",
      "[116]\tvalid_0's mape: 0.162208\tvalid_0's l2: 1.27399\n",
      "Training until validation scores don't improve for 100 rounds\n",
      "Early stopping, best iteration is:\n",
      "[251]\tvalid_0's mape: 0.165786\tvalid_0's l2: 1.3035\n",
      "Training until validation scores don't improve for 100 rounds\n",
      "Early stopping, best iteration is:\n",
      "[269]\tvalid_0's mape: 0.1647\tvalid_0's l2: 1.29675\n",
      "Training until validation scores don't improve for 100 rounds\n",
      "Early stopping, best iteration is:\n",
      "[246]\tvalid_0's mape: 0.156573\tvalid_0's l2: 1.2166\n",
      "Training until validation scores don't improve for 100 rounds\n",
      "Early stopping, best iteration is:\n",
      "[260]\tvalid_0's mape: 0.162733\tvalid_0's l2: 1.23595\n",
      "Training until validation scores don't improve for 100 rounds\n"
     ]
    },
    {
     "name": "stderr",
     "output_type": "stream",
     "text": [
      "[I 2023-07-07 18:46:35,591] Trial 64 finished with value: 0.8397241558314873 and parameters: {'n_estimators': 10000, 'learning_rate': 0.031839785522137926, 'num_leaves': 200, 'max_depth': 5, 'max_bin': 213, 'reg_alpha': 10, 'reg_lambda': 60, 'min_split_gain': 1.0641480124110814, 'subsample': 0.9000000000000001, 'colsample_bytree': 0.6000000000000001, 'min_child_samples': 112}. Best is trial 38 with value: 0.8360347926117757.\n"
     ]
    },
    {
     "name": "stdout",
     "output_type": "stream",
     "text": [
      "Early stopping, best iteration is:\n",
      "[234]\tvalid_0's mape: 0.150596\tvalid_0's l2: 1.21251\n",
      "Training until validation scores don't improve for 100 rounds\n",
      "Early stopping, best iteration is:\n",
      "[192]\tvalid_0's mape: 0.161865\tvalid_0's l2: 1.24561\n",
      "Training until validation scores don't improve for 100 rounds\n",
      "Early stopping, best iteration is:\n",
      "[131]\tvalid_0's mape: 0.156399\tvalid_0's l2: 1.17652\n",
      "Training until validation scores don't improve for 100 rounds\n",
      "Early stopping, best iteration is:\n",
      "[131]\tvalid_0's mape: 0.159645\tvalid_0's l2: 1.28864\n",
      "Training until validation scores don't improve for 100 rounds\n",
      "Early stopping, best iteration is:\n",
      "[116]\tvalid_0's mape: 0.169413\tvalid_0's l2: 1.33652\n",
      "Training until validation scores don't improve for 100 rounds\n"
     ]
    },
    {
     "name": "stderr",
     "output_type": "stream",
     "text": [
      "[I 2023-07-07 18:46:38,074] Trial 65 finished with value: 0.8372504534726242 and parameters: {'n_estimators': 10000, 'learning_rate': 0.05280263916537038, 'num_leaves': 280, 'max_depth': 6, 'max_bin': 205, 'reg_alpha': 0, 'reg_lambda': 50, 'min_split_gain': 0.5338744349309572, 'subsample': 0.7, 'colsample_bytree': 0.7, 'min_child_samples': 169}. Best is trial 38 with value: 0.8360347926117757.\n"
     ]
    },
    {
     "name": "stdout",
     "output_type": "stream",
     "text": [
      "Early stopping, best iteration is:\n",
      "[113]\tvalid_0's mape: 0.150163\tvalid_0's l2: 1.19516\n",
      "Training until validation scores don't improve for 100 rounds\n",
      "Early stopping, best iteration is:\n",
      "[89]\tvalid_0's mape: 0.152825\tvalid_0's l2: 1.22026\n",
      "Training until validation scores don't improve for 100 rounds\n",
      "Early stopping, best iteration is:\n",
      "[93]\tvalid_0's mape: 0.161621\tvalid_0's l2: 1.28254\n",
      "Training until validation scores don't improve for 100 rounds\n",
      "Early stopping, best iteration is:\n",
      "[116]\tvalid_0's mape: 0.157722\tvalid_0's l2: 1.23371\n",
      "Training until validation scores don't improve for 100 rounds\n",
      "Early stopping, best iteration is:\n",
      "[80]\tvalid_0's mape: 0.166841\tvalid_0's l2: 1.27659\n",
      "Training until validation scores don't improve for 100 rounds\n"
     ]
    },
    {
     "name": "stderr",
     "output_type": "stream",
     "text": [
      "[I 2023-07-07 18:46:40,073] Trial 66 finished with value: 0.8384883444914113 and parameters: {'n_estimators': 10000, 'learning_rate': 0.07186484553148115, 'num_leaves': 280, 'max_depth': 5, 'max_bin': 200, 'reg_alpha': 0, 'reg_lambda': 65, 'min_split_gain': 0.34468387864120287, 'subsample': 0.7, 'colsample_bytree': 0.6000000000000001, 'min_child_samples': 162}. Best is trial 38 with value: 0.8360347926117757.\n"
     ]
    },
    {
     "name": "stdout",
     "output_type": "stream",
     "text": [
      "Early stopping, best iteration is:\n",
      "[123]\tvalid_0's mape: 0.159997\tvalid_0's l2: 1.2392\n",
      "Training until validation scores don't improve for 100 rounds\n",
      "Early stopping, best iteration is:\n",
      "[233]\tvalid_0's mape: 0.155564\tvalid_0's l2: 1.18897\n",
      "Training until validation scores don't improve for 100 rounds\n",
      "Early stopping, best iteration is:\n",
      "[191]\tvalid_0's mape: 0.152652\tvalid_0's l2: 1.17555\n",
      "Training until validation scores don't improve for 100 rounds\n",
      "Early stopping, best iteration is:\n",
      "[191]\tvalid_0's mape: 0.164781\tvalid_0's l2: 1.30539\n",
      "Training until validation scores don't improve for 100 rounds\n",
      "Early stopping, best iteration is:\n",
      "[123]\tvalid_0's mape: 0.165135\tvalid_0's l2: 1.33484\n",
      "Training until validation scores don't improve for 100 rounds\n"
     ]
    },
    {
     "name": "stderr",
     "output_type": "stream",
     "text": [
      "[I 2023-07-07 18:46:42,760] Trial 67 finished with value: 0.8383802442613124 and parameters: {'n_estimators': 10000, 'learning_rate': 0.04912742493071436, 'num_leaves': 340, 'max_depth': 5, 'max_bin': 204, 'reg_alpha': 0, 'reg_lambda': 70, 'min_split_gain': 0.25022232923739823, 'subsample': 0.7, 'colsample_bytree': 0.5, 'min_child_samples': 167}. Best is trial 38 with value: 0.8360347926117757.\n"
     ]
    },
    {
     "name": "stdout",
     "output_type": "stream",
     "text": [
      "Early stopping, best iteration is:\n",
      "[168]\tvalid_0's mape: 0.160176\tvalid_0's l2: 1.23929\n",
      "Training until validation scores don't improve for 100 rounds\n",
      "Early stopping, best iteration is:\n",
      "[161]\tvalid_0's mape: 0.165394\tvalid_0's l2: 1.29875\n",
      "Training until validation scores don't improve for 100 rounds\n",
      "Early stopping, best iteration is:\n",
      "[191]\tvalid_0's mape: 0.151492\tvalid_0's l2: 1.17551\n",
      "Training until validation scores don't improve for 100 rounds\n",
      "Early stopping, best iteration is:\n",
      "[183]\tvalid_0's mape: 0.159617\tvalid_0's l2: 1.24399\n",
      "Training until validation scores don't improve for 100 rounds\n",
      "Early stopping, best iteration is:\n",
      "[130]\tvalid_0's mape: 0.157995\tvalid_0's l2: 1.21824\n",
      "Training until validation scores don't improve for 100 rounds\n"
     ]
    },
    {
     "name": "stderr",
     "output_type": "stream",
     "text": [
      "[I 2023-07-07 18:46:45,256] Trial 68 finished with value: 0.8397808953161613 and parameters: {'n_estimators': 10000, 'learning_rate': 0.04869313824635217, 'num_leaves': 380, 'max_depth': 5, 'max_bin': 200, 'reg_alpha': 0, 'reg_lambda': 80, 'min_split_gain': 0.5332752440983884, 'subsample': 0.7, 'colsample_bytree': 0.5, 'min_child_samples': 210}. Best is trial 38 with value: 0.8360347926117757.\n"
     ]
    },
    {
     "name": "stdout",
     "output_type": "stream",
     "text": [
      "Early stopping, best iteration is:\n",
      "[131]\tvalid_0's mape: 0.165307\tvalid_0's l2: 1.32146\n",
      "Training until validation scores don't improve for 100 rounds\n",
      "Early stopping, best iteration is:\n",
      "[295]\tvalid_0's mape: 0.181068\tvalid_0's l2: 1.44492\n",
      "Training until validation scores don't improve for 100 rounds\n",
      "Early stopping, best iteration is:\n",
      "[270]\tvalid_0's mape: 0.16266\tvalid_0's l2: 1.24689\n",
      "Training until validation scores don't improve for 100 rounds\n",
      "Early stopping, best iteration is:\n",
      "[267]\tvalid_0's mape: 0.14812\tvalid_0's l2: 1.15097\n",
      "Training until validation scores don't improve for 100 rounds\n",
      "Early stopping, best iteration is:\n",
      "[270]\tvalid_0's mape: 0.162873\tvalid_0's l2: 1.28978\n",
      "Training until validation scores don't improve for 100 rounds\n"
     ]
    },
    {
     "name": "stderr",
     "output_type": "stream",
     "text": [
      "[I 2023-07-07 18:46:47,409] Trial 69 finished with value: 0.8473508708553066 and parameters: {'n_estimators': 10000, 'learning_rate': 0.027359540960178286, 'num_leaves': 280, 'max_depth': 5, 'max_bin': 204, 'reg_alpha': 65, 'reg_lambda': 95, 'min_split_gain': 2.807911496417097, 'subsample': 0.7, 'colsample_bytree': 0.5, 'min_child_samples': 169}. Best is trial 38 with value: 0.8360347926117757.\n"
     ]
    },
    {
     "name": "stdout",
     "output_type": "stream",
     "text": [
      "Early stopping, best iteration is:\n",
      "[277]\tvalid_0's mape: 0.15741\tvalid_0's l2: 1.22852\n",
      "Training until validation scores don't improve for 100 rounds\n",
      "Early stopping, best iteration is:\n",
      "[168]\tvalid_0's mape: 0.158162\tvalid_0's l2: 1.19591\n",
      "Training until validation scores don't improve for 100 rounds\n",
      "Early stopping, best iteration is:\n",
      "[204]\tvalid_0's mape: 0.160641\tvalid_0's l2: 1.23142\n",
      "Training until validation scores don't improve for 100 rounds\n",
      "Early stopping, best iteration is:\n",
      "[175]\tvalid_0's mape: 0.152609\tvalid_0's l2: 1.21479\n",
      "Training until validation scores don't improve for 100 rounds\n",
      "Early stopping, best iteration is:\n",
      "[155]\tvalid_0's mape: 0.168391\tvalid_0's l2: 1.35079\n",
      "Training until validation scores don't improve for 100 rounds\n"
     ]
    },
    {
     "name": "stderr",
     "output_type": "stream",
     "text": [
      "[I 2023-07-07 18:46:49,744] Trial 70 finished with value: 0.8390997878878034 and parameters: {'n_estimators': 10000, 'learning_rate': 0.04706261836032683, 'num_leaves': 120, 'max_depth': 5, 'max_bin': 200, 'reg_alpha': 0, 'reg_lambda': 70, 'min_split_gain': 1.5375804528714356, 'subsample': 0.6000000000000001, 'colsample_bytree': 0.4, 'min_child_samples': 186}. Best is trial 38 with value: 0.8360347926117757.\n"
     ]
    },
    {
     "name": "stdout",
     "output_type": "stream",
     "text": [
      "Early stopping, best iteration is:\n",
      "[201]\tvalid_0's mape: 0.159824\tvalid_0's l2: 1.26127\n",
      "Training until validation scores don't improve for 100 rounds\n",
      "Early stopping, best iteration is:\n",
      "[140]\tvalid_0's mape: 0.15126\tvalid_0's l2: 1.18289\n",
      "Training until validation scores don't improve for 100 rounds\n",
      "Early stopping, best iteration is:\n",
      "[89]\tvalid_0's mape: 0.152695\tvalid_0's l2: 1.21291\n",
      "Training until validation scores don't improve for 100 rounds\n",
      "Early stopping, best iteration is:\n",
      "[85]\tvalid_0's mape: 0.1691\tvalid_0's l2: 1.29332\n",
      "Training until validation scores don't improve for 100 rounds\n",
      "Early stopping, best iteration is:\n",
      "[86]\tvalid_0's mape: 0.16116\tvalid_0's l2: 1.27407\n",
      "Training until validation scores don't improve for 100 rounds\n"
     ]
    },
    {
     "name": "stderr",
     "output_type": "stream",
     "text": [
      "[I 2023-07-07 18:46:51,992] Trial 71 finished with value: 0.8385839745370987 and parameters: {'n_estimators': 10000, 'learning_rate': 0.07714160939664781, 'num_leaves': 280, 'max_depth': 6, 'max_bin': 204, 'reg_alpha': 0, 'reg_lambda': 65, 'min_split_gain': 0.32109754438139304, 'subsample': 0.7, 'colsample_bytree': 0.6000000000000001, 'min_child_samples': 140}. Best is trial 38 with value: 0.8360347926117757.\n"
     ]
    },
    {
     "name": "stdout",
     "output_type": "stream",
     "text": [
      "Early stopping, best iteration is:\n",
      "[83]\tvalid_0's mape: 0.163598\tvalid_0's l2: 1.28017\n",
      "Training until validation scores don't improve for 100 rounds\n",
      "Early stopping, best iteration is:\n",
      "[158]\tvalid_0's mape: 0.158778\tvalid_0's l2: 1.21885\n",
      "Training until validation scores don't improve for 100 rounds\n",
      "Early stopping, best iteration is:\n",
      "[77]\tvalid_0's mape: 0.158186\tvalid_0's l2: 1.23385\n",
      "Training until validation scores don't improve for 100 rounds\n",
      "Early stopping, best iteration is:\n",
      "[94]\tvalid_0's mape: 0.16425\tvalid_0's l2: 1.28379\n",
      "Training until validation scores don't improve for 100 rounds\n",
      "Early stopping, best iteration is:\n",
      "[91]\tvalid_0's mape: 0.160099\tvalid_0's l2: 1.27263\n",
      "Training until validation scores don't improve for 100 rounds\n"
     ]
    },
    {
     "name": "stderr",
     "output_type": "stream",
     "text": [
      "[I 2023-07-07 18:46:54,310] Trial 72 finished with value: 0.8401709426167084 and parameters: {'n_estimators': 10000, 'learning_rate': 0.0777553001090113, 'num_leaves': 280, 'max_depth': 6, 'max_bin': 209, 'reg_alpha': 5, 'reg_lambda': 75, 'min_split_gain': 0.40946478878497805, 'subsample': 0.7, 'colsample_bytree': 0.6000000000000001, 'min_child_samples': 138}. Best is trial 38 with value: 0.8360347926117757.\n"
     ]
    },
    {
     "name": "stdout",
     "output_type": "stream",
     "text": [
      "Early stopping, best iteration is:\n",
      "[113]\tvalid_0's mape: 0.157817\tvalid_0's l2: 1.24099\n",
      "Training until validation scores don't improve for 100 rounds\n",
      "Early stopping, best iteration is:\n",
      "[80]\tvalid_0's mape: 0.172182\tvalid_0's l2: 1.34108\n",
      "Training until validation scores don't improve for 100 rounds\n",
      "Early stopping, best iteration is:\n",
      "[119]\tvalid_0's mape: 0.166124\tvalid_0's l2: 1.30009\n",
      "Training until validation scores don't improve for 100 rounds\n",
      "Early stopping, best iteration is:\n",
      "[167]\tvalid_0's mape: 0.151296\tvalid_0's l2: 1.17392\n",
      "Training until validation scores don't improve for 100 rounds\n",
      "Early stopping, best iteration is:\n",
      "[124]\tvalid_0's mape: 0.15522\tvalid_0's l2: 1.23664\n",
      "Training until validation scores don't improve for 100 rounds\n"
     ]
    },
    {
     "name": "stderr",
     "output_type": "stream",
     "text": [
      "[I 2023-07-07 18:46:56,470] Trial 73 finished with value: 0.8395578990547611 and parameters: {'n_estimators': 10000, 'learning_rate': 0.06823859358189345, 'num_leaves': 220, 'max_depth': 6, 'max_bin': 204, 'reg_alpha': 0, 'reg_lambda': 65, 'min_split_gain': 0.925683376812284, 'subsample': 0.7, 'colsample_bytree': 0.6000000000000001, 'min_child_samples': 163}. Best is trial 38 with value: 0.8360347926117757.\n"
     ]
    },
    {
     "name": "stdout",
     "output_type": "stream",
     "text": [
      "Early stopping, best iteration is:\n",
      "[126]\tvalid_0's mape: 0.154164\tvalid_0's l2: 1.21051\n",
      "Training until validation scores don't improve for 100 rounds\n",
      "Early stopping, best iteration is:\n",
      "[329]\tvalid_0's mape: 0.162216\tvalid_0's l2: 1.27794\n",
      "Training until validation scores don't improve for 100 rounds\n",
      "Early stopping, best iteration is:\n",
      "[269]\tvalid_0's mape: 0.158649\tvalid_0's l2: 1.24371\n",
      "Training until validation scores don't improve for 100 rounds\n",
      "Early stopping, best iteration is:\n",
      "[187]\tvalid_0's mape: 0.152445\tvalid_0's l2: 1.17632\n",
      "Training until validation scores don't improve for 100 rounds\n",
      "Early stopping, best iteration is:\n",
      "[303]\tvalid_0's mape: 0.164791\tvalid_0's l2: 1.29523\n",
      "Training until validation scores don't improve for 100 rounds\n"
     ]
    },
    {
     "name": "stderr",
     "output_type": "stream",
     "text": [
      "[I 2023-07-07 18:46:59,450] Trial 74 finished with value: 0.8400057148965046 and parameters: {'n_estimators': 10000, 'learning_rate': 0.0313019225860661, 'num_leaves': 80, 'max_depth': 5, 'max_bin': 210, 'reg_alpha': 15, 'reg_lambda': 60, 'min_split_gain': 0.45896403810682807, 'subsample': 0.5, 'colsample_bytree': 0.6000000000000001, 'min_child_samples': 208}. Best is trial 38 with value: 0.8360347926117757.\n"
     ]
    },
    {
     "name": "stdout",
     "output_type": "stream",
     "text": [
      "Early stopping, best iteration is:\n",
      "[315]\tvalid_0's mape: 0.162332\tvalid_0's l2: 1.28421\n",
      "Training until validation scores don't improve for 100 rounds\n",
      "Early stopping, best iteration is:\n",
      "[155]\tvalid_0's mape: 0.160593\tvalid_0's l2: 1.23459\n",
      "Training until validation scores don't improve for 100 rounds\n",
      "Early stopping, best iteration is:\n",
      "[154]\tvalid_0's mape: 0.167222\tvalid_0's l2: 1.31822\n",
      "Training until validation scores don't improve for 100 rounds\n",
      "Early stopping, best iteration is:\n",
      "[144]\tvalid_0's mape: 0.164985\tvalid_0's l2: 1.30835\n",
      "Training until validation scores don't improve for 100 rounds\n",
      "Early stopping, best iteration is:\n",
      "[154]\tvalid_0's mape: 0.158255\tvalid_0's l2: 1.21997\n",
      "Training until validation scores don't improve for 100 rounds\n"
     ]
    },
    {
     "name": "stderr",
     "output_type": "stream",
     "text": [
      "[I 2023-07-07 18:47:00,930] Trial 75 finished with value: 0.8461653279470713 and parameters: {'n_estimators': 10000, 'learning_rate': 0.06855949976448206, 'num_leaves': 380, 'max_depth': 3, 'max_bin': 215, 'reg_alpha': 80, 'reg_lambda': 55, 'min_split_gain': 0.3379251003799879, 'subsample': 0.7, 'colsample_bytree': 0.5, 'min_child_samples': 143}. Best is trial 38 with value: 0.8360347926117757.\n"
     ]
    },
    {
     "name": "stdout",
     "output_type": "stream",
     "text": [
      "Early stopping, best iteration is:\n",
      "[153]\tvalid_0's mape: 0.158627\tvalid_0's l2: 1.264\n",
      "Training until validation scores don't improve for 100 rounds\n",
      "Early stopping, best iteration is:\n",
      "[169]\tvalid_0's mape: 0.156818\tvalid_0's l2: 1.21445\n",
      "Training until validation scores don't improve for 100 rounds\n",
      "Early stopping, best iteration is:\n",
      "[186]\tvalid_0's mape: 0.145083\tvalid_0's l2: 1.13657\n",
      "Training until validation scores don't improve for 100 rounds\n",
      "Early stopping, best iteration is:\n",
      "[244]\tvalid_0's mape: 0.168992\tvalid_0's l2: 1.30921\n",
      "Training until validation scores don't improve for 100 rounds\n",
      "Early stopping, best iteration is:\n",
      "[210]\tvalid_0's mape: 0.170142\tvalid_0's l2: 1.3405\n",
      "Training until validation scores don't improve for 100 rounds\n"
     ]
    },
    {
     "name": "stderr",
     "output_type": "stream",
     "text": [
      "[I 2023-07-07 18:47:03,678] Trial 76 finished with value: 0.8416211806486208 and parameters: {'n_estimators': 10000, 'learning_rate': 0.041776383668328976, 'num_leaves': 180, 'max_depth': 6, 'max_bin': 276, 'reg_alpha': 5, 'reg_lambda': 70, 'min_split_gain': 0.9605326989028191, 'subsample': 0.6000000000000001, 'colsample_bytree': 0.5, 'min_child_samples': 225}. Best is trial 38 with value: 0.8360347926117757.\n"
     ]
    },
    {
     "name": "stdout",
     "output_type": "stream",
     "text": [
      "Early stopping, best iteration is:\n",
      "[173]\tvalid_0's mape: 0.161273\tvalid_0's l2: 1.28875\n",
      "Training until validation scores don't improve for 100 rounds\n",
      "Early stopping, best iteration is:\n",
      "[130]\tvalid_0's mape: 0.176344\tvalid_0's l2: 1.38542\n",
      "Training until validation scores don't improve for 100 rounds\n",
      "Early stopping, best iteration is:\n",
      "[124]\tvalid_0's mape: 0.160391\tvalid_0's l2: 1.25068\n",
      "Training until validation scores don't improve for 100 rounds\n",
      "Early stopping, best iteration is:\n",
      "[154]\tvalid_0's mape: 0.157984\tvalid_0's l2: 1.21296\n",
      "Training until validation scores don't improve for 100 rounds\n",
      "Early stopping, best iteration is:\n",
      "[108]\tvalid_0's mape: 0.150073\tvalid_0's l2: 1.15332\n",
      "Training until validation scores don't improve for 100 rounds\n"
     ]
    },
    {
     "name": "stderr",
     "output_type": "stream",
     "text": [
      "[I 2023-07-07 18:47:05,298] Trial 77 finished with value: 0.8389334327991692 and parameters: {'n_estimators': 10000, 'learning_rate': 0.05352599028043899, 'num_leaves': 320, 'max_depth': 4, 'max_bin': 203, 'reg_alpha': 0, 'reg_lambda': 45, 'min_split_gain': 1.380313831880005, 'subsample': 0.7, 'colsample_bytree': 0.7, 'min_child_samples': 182}. Best is trial 38 with value: 0.8360347926117757.\n"
     ]
    },
    {
     "name": "stdout",
     "output_type": "stream",
     "text": [
      "Early stopping, best iteration is:\n",
      "[105]\tvalid_0's mape: 0.154156\tvalid_0's l2: 1.2425\n",
      "Training until validation scores don't improve for 100 rounds\n",
      "Early stopping, best iteration is:\n",
      "[150]\tvalid_0's mape: 0.168183\tvalid_0's l2: 1.30413\n",
      "Training until validation scores don't improve for 100 rounds\n",
      "Early stopping, best iteration is:\n",
      "[168]\tvalid_0's mape: 0.154491\tvalid_0's l2: 1.21336\n",
      "Training until validation scores don't improve for 100 rounds\n",
      "Early stopping, best iteration is:\n",
      "[199]\tvalid_0's mape: 0.153039\tvalid_0's l2: 1.1692\n",
      "Training until validation scores don't improve for 100 rounds\n",
      "Early stopping, best iteration is:\n",
      "[116]\tvalid_0's mape: 0.157059\tvalid_0's l2: 1.23264\n",
      "Training until validation scores don't improve for 100 rounds\n"
     ]
    },
    {
     "name": "stderr",
     "output_type": "stream",
     "text": [
      "[I 2023-07-07 18:47:08,040] Trial 78 finished with value: 0.8391131999854 and parameters: {'n_estimators': 10000, 'learning_rate': 0.07798384219137841, 'num_leaves': 80, 'max_depth': 5, 'max_bin': 209, 'reg_alpha': 10, 'reg_lambda': 65, 'min_split_gain': 0.07013995277116092, 'subsample': 0.8, 'colsample_bytree': 0.4, 'min_child_samples': 156}. Best is trial 38 with value: 0.8360347926117757.\n"
     ]
    },
    {
     "name": "stdout",
     "output_type": "stream",
     "text": [
      "Early stopping, best iteration is:\n",
      "[119]\tvalid_0's mape: 0.165557\tvalid_0's l2: 1.33832\n",
      "Training until validation scores don't improve for 100 rounds\n",
      "Early stopping, best iteration is:\n",
      "[121]\tvalid_0's mape: 0.156586\tvalid_0's l2: 1.25258\n",
      "Training until validation scores don't improve for 100 rounds\n",
      "Early stopping, best iteration is:\n",
      "[111]\tvalid_0's mape: 0.159913\tvalid_0's l2: 1.21694\n",
      "Training until validation scores don't improve for 100 rounds\n",
      "Early stopping, best iteration is:\n",
      "[121]\tvalid_0's mape: 0.163839\tvalid_0's l2: 1.29618\n",
      "Training until validation scores don't improve for 100 rounds\n",
      "Early stopping, best iteration is:\n",
      "[113]\tvalid_0's mape: 0.162296\tvalid_0's l2: 1.28045\n",
      "Training until validation scores don't improve for 100 rounds\n"
     ]
    },
    {
     "name": "stderr",
     "output_type": "stream",
     "text": [
      "[I 2023-07-07 18:47:09,847] Trial 79 finished with value: 0.8394440119690364 and parameters: {'n_estimators': 10000, 'learning_rate': 0.06380867840923937, 'num_leaves': 420, 'max_depth': 6, 'max_bin': 200, 'reg_alpha': 5, 'reg_lambda': 80, 'min_split_gain': 1.7099784046603854, 'subsample': 0.7, 'colsample_bytree': 0.6000000000000001, 'min_child_samples': 197}. Best is trial 38 with value: 0.8360347926117757.\n"
     ]
    },
    {
     "name": "stdout",
     "output_type": "stream",
     "text": [
      "Early stopping, best iteration is:\n",
      "[115]\tvalid_0's mape: 0.157754\tvalid_0's l2: 1.23127\n",
      "Training until validation scores don't improve for 100 rounds\n",
      "Early stopping, best iteration is:\n",
      "[80]\tvalid_0's mape: 0.154963\tvalid_0's l2: 1.22218\n",
      "Training until validation scores don't improve for 100 rounds\n",
      "Early stopping, best iteration is:\n",
      "[80]\tvalid_0's mape: 0.168483\tvalid_0's l2: 1.29893\n",
      "Training until validation scores don't improve for 100 rounds\n",
      "Early stopping, best iteration is:\n",
      "[89]\tvalid_0's mape: 0.164809\tvalid_0's l2: 1.29029\n",
      "Training until validation scores don't improve for 100 rounds\n",
      "Early stopping, best iteration is:\n",
      "[81]\tvalid_0's mape: 0.157404\tvalid_0's l2: 1.22003\n",
      "Training until validation scores don't improve for 100 rounds\n"
     ]
    },
    {
     "name": "stderr",
     "output_type": "stream",
     "text": [
      "[I 2023-07-07 18:47:11,032] Trial 80 finished with value: 0.8448468764924449 and parameters: {'n_estimators': 10000, 'learning_rate': 0.08515540949524691, 'num_leaves': 240, 'max_depth': 5, 'max_bin': 297, 'reg_alpha': 15, 'reg_lambda': 75, 'min_split_gain': 2.156969574666772, 'subsample': 0.8, 'colsample_bytree': 0.6000000000000001, 'min_child_samples': 496}. Best is trial 38 with value: 0.8360347926117757.\n"
     ]
    },
    {
     "name": "stdout",
     "output_type": "stream",
     "text": [
      "Early stopping, best iteration is:\n",
      "[68]\tvalid_0's mape: 0.162169\tvalid_0's l2: 1.3255\n",
      "Training until validation scores don't improve for 100 rounds\n",
      "Early stopping, best iteration is:\n",
      "[41]\tvalid_0's mape: 0.148258\tvalid_0's l2: 1.20127\n",
      "Training until validation scores don't improve for 100 rounds\n",
      "Early stopping, best iteration is:\n",
      "[99]\tvalid_0's mape: 0.160219\tvalid_0's l2: 1.25888\n",
      "Training until validation scores don't improve for 100 rounds\n",
      "Early stopping, best iteration is:\n",
      "[121]\tvalid_0's mape: 0.154833\tvalid_0's l2: 1.19661\n",
      "Training until validation scores don't improve for 100 rounds\n",
      "Early stopping, best iteration is:\n",
      "[130]\tvalid_0's mape: 0.165555\tvalid_0's l2: 1.28139\n",
      "Training until validation scores don't improve for 100 rounds\n"
     ]
    },
    {
     "name": "stderr",
     "output_type": "stream",
     "text": [
      "[I 2023-07-07 18:47:13,908] Trial 81 finished with value: 0.8371474628466358 and parameters: {'n_estimators': 10000, 'learning_rate': 0.07368998435862995, 'num_leaves': 560, 'max_depth': 7, 'max_bin': 205, 'reg_alpha': 0, 'reg_lambda': 45, 'min_split_gain': 0.08137690608219064, 'subsample': 0.6000000000000001, 'colsample_bytree': 0.7, 'min_child_samples': 131}. Best is trial 38 with value: 0.8360347926117757.\n"
     ]
    },
    {
     "name": "stdout",
     "output_type": "stream",
     "text": [
      "Early stopping, best iteration is:\n",
      "[65]\tvalid_0's mape: 0.167887\tvalid_0's l2: 1.2858\n",
      "Training until validation scores don't improve for 100 rounds\n",
      "Early stopping, best iteration is:\n",
      "[61]\tvalid_0's mape: 0.164412\tvalid_0's l2: 1.29814\n",
      "Training until validation scores don't improve for 100 rounds\n",
      "Early stopping, best iteration is:\n",
      "[96]\tvalid_0's mape: 0.153185\tvalid_0's l2: 1.22273\n",
      "Training until validation scores don't improve for 100 rounds\n",
      "Early stopping, best iteration is:\n",
      "[103]\tvalid_0's mape: 0.157056\tvalid_0's l2: 1.20037\n",
      "Training until validation scores don't improve for 100 rounds\n",
      "Early stopping, best iteration is:\n",
      "[98]\tvalid_0's mape: 0.154352\tvalid_0's l2: 1.20397\n",
      "Training until validation scores don't improve for 100 rounds\n"
     ]
    },
    {
     "name": "stderr",
     "output_type": "stream",
     "text": [
      "[I 2023-07-07 18:47:16,706] Trial 82 finished with value: 0.8409089178599899 and parameters: {'n_estimators': 10000, 'learning_rate': 0.07634214642787818, 'num_leaves': 580, 'max_depth': 7, 'max_bin': 207, 'reg_alpha': 5, 'reg_lambda': 55, 'min_split_gain': 0.46718294399292104, 'subsample': 0.5, 'colsample_bytree': 0.7, 'min_child_samples': 130}. Best is trial 38 with value: 0.8360347926117757.\n"
     ]
    },
    {
     "name": "stdout",
     "output_type": "stream",
     "text": [
      "Early stopping, best iteration is:\n",
      "[88]\tvalid_0's mape: 0.170752\tvalid_0's l2: 1.34088\n",
      "Training until validation scores don't improve for 100 rounds\n",
      "Early stopping, best iteration is:\n",
      "[106]\tvalid_0's mape: 0.159235\tvalid_0's l2: 1.26378\n",
      "Training until validation scores don't improve for 100 rounds\n",
      "Early stopping, best iteration is:\n",
      "[84]\tvalid_0's mape: 0.164307\tvalid_0's l2: 1.27216\n",
      "Training until validation scores don't improve for 100 rounds\n",
      "Early stopping, best iteration is:\n",
      "[57]\tvalid_0's mape: 0.161093\tvalid_0's l2: 1.27379\n",
      "Training until validation scores don't improve for 100 rounds\n",
      "Early stopping, best iteration is:\n",
      "[120]\tvalid_0's mape: 0.157329\tvalid_0's l2: 1.2278\n",
      "Training until validation scores don't improve for 100 rounds\n"
     ]
    },
    {
     "name": "stderr",
     "output_type": "stream",
     "text": [
      "[I 2023-07-07 18:47:18,688] Trial 83 finished with value: 0.8403295361788439 and parameters: {'n_estimators': 10000, 'learning_rate': 0.07159285503297845, 'num_leaves': 340, 'max_depth': 6, 'max_bin': 204, 'reg_alpha': 0, 'reg_lambda': 45, 'min_split_gain': 0.8517758949592518, 'subsample': 0.6000000000000001, 'colsample_bytree': 0.7, 'min_child_samples': 164}. Best is trial 38 with value: 0.8360347926117757.\n"
     ]
    },
    {
     "name": "stdout",
     "output_type": "stream",
     "text": [
      "Early stopping, best iteration is:\n",
      "[83]\tvalid_0's mape: 0.15786\tvalid_0's l2: 1.22628\n",
      "Training until validation scores don't improve for 100 rounds\n",
      "Early stopping, best iteration is:\n",
      "[168]\tvalid_0's mape: 0.160102\tvalid_0's l2: 1.28343\n",
      "Training until validation scores don't improve for 100 rounds\n",
      "Early stopping, best iteration is:\n",
      "[170]\tvalid_0's mape: 0.160605\tvalid_0's l2: 1.25926\n",
      "Training until validation scores don't improve for 100 rounds\n",
      "Early stopping, best iteration is:\n",
      "[151]\tvalid_0's mape: 0.150869\tvalid_0's l2: 1.17053\n",
      "Training until validation scores don't improve for 100 rounds\n",
      "Early stopping, best iteration is:\n",
      "[143]\tvalid_0's mape: 0.158945\tvalid_0's l2: 1.27166\n",
      "Training until validation scores don't improve for 100 rounds\n"
     ]
    },
    {
     "name": "stderr",
     "output_type": "stream",
     "text": [
      "[I 2023-07-07 18:47:21,252] Trial 84 finished with value: 0.8408732886890217 and parameters: {'n_estimators': 10000, 'learning_rate': 0.054527549431784415, 'num_leaves': 140, 'max_depth': 7, 'max_bin': 282, 'reg_alpha': 5, 'reg_lambda': 60, 'min_split_gain': 1.002140557422543, 'subsample': 0.6000000000000001, 'colsample_bytree': 0.5, 'min_child_samples': 146}. Best is trial 38 with value: 0.8360347926117757.\n"
     ]
    },
    {
     "name": "stdout",
     "output_type": "stream",
     "text": [
      "Early stopping, best iteration is:\n",
      "[170]\tvalid_0's mape: 0.169339\tvalid_0's l2: 1.28842\n",
      "Training until validation scores don't improve for 100 rounds\n",
      "Early stopping, best iteration is:\n",
      "[152]\tvalid_0's mape: 0.159889\tvalid_0's l2: 1.26258\n",
      "Training until validation scores don't improve for 100 rounds\n",
      "Early stopping, best iteration is:\n",
      "[145]\tvalid_0's mape: 0.160667\tvalid_0's l2: 1.25855\n",
      "Training until validation scores don't improve for 100 rounds\n",
      "Early stopping, best iteration is:\n",
      "[205]\tvalid_0's mape: 0.158727\tvalid_0's l2: 1.2257\n",
      "Training until validation scores don't improve for 100 rounds\n",
      "Early stopping, best iteration is:\n",
      "[236]\tvalid_0's mape: 0.165998\tvalid_0's l2: 1.28473\n",
      "Training until validation scores don't improve for 100 rounds\n"
     ]
    },
    {
     "name": "stderr",
     "output_type": "stream",
     "text": [
      "[I 2023-07-07 18:47:24,000] Trial 85 finished with value: 0.8384591526042475 and parameters: {'n_estimators': 10000, 'learning_rate': 0.038404006346080655, 'num_leaves': 80, 'max_depth': 5, 'max_bin': 210, 'reg_alpha': 0, 'reg_lambda': 65, 'min_split_gain': 0.3295238805357136, 'subsample': 0.7, 'colsample_bytree': 0.7, 'min_child_samples': 129}. Best is trial 38 with value: 0.8360347926117757.\n"
     ]
    },
    {
     "name": "stdout",
     "output_type": "stream",
     "text": [
      "Early stopping, best iteration is:\n",
      "[292]\tvalid_0's mape: 0.152426\tvalid_0's l2: 1.19486\n",
      "Training until validation scores don't improve for 100 rounds\n",
      "Early stopping, best iteration is:\n",
      "[244]\tvalid_0's mape: 0.172215\tvalid_0's l2: 1.31865\n",
      "Training until validation scores don't improve for 100 rounds\n",
      "Early stopping, best iteration is:\n",
      "[163]\tvalid_0's mape: 0.149107\tvalid_0's l2: 1.19701\n",
      "Training until validation scores don't improve for 100 rounds\n",
      "Early stopping, best iteration is:\n",
      "[409]\tvalid_0's mape: 0.14952\tvalid_0's l2: 1.15197\n",
      "Training until validation scores don't improve for 100 rounds\n",
      "Early stopping, best iteration is:\n",
      "[287]\tvalid_0's mape: 0.155692\tvalid_0's l2: 1.20279\n",
      "Training until validation scores don't improve for 100 rounds\n"
     ]
    },
    {
     "name": "stderr",
     "output_type": "stream",
     "text": [
      "[I 2023-07-07 18:47:26,794] Trial 86 finished with value: 0.836602683206096 and parameters: {'n_estimators': 10000, 'learning_rate': 0.037491992404007156, 'num_leaves': 540, 'max_depth': 4, 'max_bin': 215, 'reg_alpha': 0, 'reg_lambda': 65, 'min_split_gain': 0.39837700888803684, 'subsample': 0.7, 'colsample_bytree': 0.6000000000000001, 'min_child_samples': 95}. Best is trial 38 with value: 0.8360347926117757.\n"
     ]
    },
    {
     "name": "stdout",
     "output_type": "stream",
     "text": [
      "Early stopping, best iteration is:\n",
      "[261]\tvalid_0's mape: 0.169896\tvalid_0's l2: 1.35275\n",
      "Training until validation scores don't improve for 100 rounds\n",
      "Early stopping, best iteration is:\n",
      "[587]\tvalid_0's mape: 0.152621\tvalid_0's l2: 1.17655\n",
      "Training until validation scores don't improve for 100 rounds\n",
      "Early stopping, best iteration is:\n",
      "[529]\tvalid_0's mape: 0.170031\tvalid_0's l2: 1.30878\n",
      "Training until validation scores don't improve for 100 rounds\n",
      "Early stopping, best iteration is:\n",
      "[262]\tvalid_0's mape: 0.155657\tvalid_0's l2: 1.22145\n",
      "Training until validation scores don't improve for 100 rounds\n",
      "Early stopping, best iteration is:\n",
      "[390]\tvalid_0's mape: 0.158362\tvalid_0's l2: 1.24572\n",
      "Training until validation scores don't improve for 100 rounds\n"
     ]
    },
    {
     "name": "stderr",
     "output_type": "stream",
     "text": [
      "[I 2023-07-07 18:47:30,527] Trial 87 finished with value: 0.8374830186977851 and parameters: {'n_estimators': 10000, 'learning_rate': 0.01994026287553881, 'num_leaves': 180, 'max_depth': 4, 'max_bin': 215, 'reg_alpha': 0, 'reg_lambda': 65, 'min_split_gain': 1.4214043668100236, 'subsample': 0.6000000000000001, 'colsample_bytree': 0.6000000000000001, 'min_child_samples': 98}. Best is trial 38 with value: 0.8360347926117757.\n"
     ]
    },
    {
     "name": "stdout",
     "output_type": "stream",
     "text": [
      "Early stopping, best iteration is:\n",
      "[452]\tvalid_0's mape: 0.160411\tvalid_0's l2: 1.27365\n",
      "Training until validation scores don't improve for 100 rounds\n",
      "Early stopping, best iteration is:\n",
      "[308]\tvalid_0's mape: 0.143332\tvalid_0's l2: 1.12984\n",
      "Training until validation scores don't improve for 100 rounds\n",
      "Early stopping, best iteration is:\n",
      "[340]\tvalid_0's mape: 0.16458\tvalid_0's l2: 1.32426\n",
      "Training until validation scores don't improve for 100 rounds\n",
      "Early stopping, best iteration is:\n",
      "[327]\tvalid_0's mape: 0.163693\tvalid_0's l2: 1.29228\n",
      "Training until validation scores don't improve for 100 rounds\n",
      "Early stopping, best iteration is:\n",
      "[324]\tvalid_0's mape: 0.163831\tvalid_0's l2: 1.27291\n",
      "Training until validation scores don't improve for 100 rounds\n"
     ]
    },
    {
     "name": "stderr",
     "output_type": "stream",
     "text": [
      "[I 2023-07-07 18:47:32,615] Trial 88 finished with value: 0.8450230679256989 and parameters: {'n_estimators': 10000, 'learning_rate': 0.021766023766151547, 'num_leaves': 80, 'max_depth': 3, 'max_bin': 222, 'reg_alpha': 45, 'reg_lambda': 70, 'min_split_gain': 1.4652449283452003, 'subsample': 0.6000000000000001, 'colsample_bytree': 0.7, 'min_child_samples': 93}. Best is trial 38 with value: 0.8360347926117757.\n"
     ]
    },
    {
     "name": "stdout",
     "output_type": "stream",
     "text": [
      "Early stopping, best iteration is:\n",
      "[323]\tvalid_0's mape: 0.172168\tvalid_0's l2: 1.31524\n",
      "Training until validation scores don't improve for 100 rounds\n",
      "Early stopping, best iteration is:\n",
      "[212]\tvalid_0's mape: 0.161168\tvalid_0's l2: 1.23072\n",
      "Training until validation scores don't improve for 100 rounds\n",
      "Early stopping, best iteration is:\n",
      "[196]\tvalid_0's mape: 0.155798\tvalid_0's l2: 1.20353\n",
      "Training until validation scores don't improve for 100 rounds\n",
      "Early stopping, best iteration is:\n",
      "[210]\tvalid_0's mape: 0.161068\tvalid_0's l2: 1.26584\n",
      "Training until validation scores don't improve for 100 rounds\n",
      "Early stopping, best iteration is:\n",
      "[210]\tvalid_0's mape: 0.158412\tvalid_0's l2: 1.25068\n",
      "Training until validation scores don't improve for 100 rounds\n"
     ]
    },
    {
     "name": "stderr",
     "output_type": "stream",
     "text": [
      "[I 2023-07-07 18:47:34,579] Trial 89 finished with value: 0.837435513419781 and parameters: {'n_estimators': 10000, 'learning_rate': 0.03780337632368331, 'num_leaves': 540, 'max_depth': 4, 'max_bin': 216, 'reg_alpha': 5, 'reg_lambda': 60, 'min_split_gain': 1.7370567748554169, 'subsample': 0.5, 'colsample_bytree': 0.8, 'min_child_samples': 70}. Best is trial 38 with value: 0.8360347926117757.\n"
     ]
    },
    {
     "name": "stdout",
     "output_type": "stream",
     "text": [
      "Early stopping, best iteration is:\n",
      "[215]\tvalid_0's mape: 0.161378\tvalid_0's l2: 1.28986\n",
      "Training until validation scores don't improve for 100 rounds\n",
      "Early stopping, best iteration is:\n",
      "[197]\tvalid_0's mape: 0.167946\tvalid_0's l2: 1.34082\n",
      "Training until validation scores don't improve for 100 rounds\n",
      "Early stopping, best iteration is:\n",
      "[191]\tvalid_0's mape: 0.154153\tvalid_0's l2: 1.18854\n",
      "Training until validation scores don't improve for 100 rounds\n",
      "Early stopping, best iteration is:\n",
      "[189]\tvalid_0's mape: 0.16183\tvalid_0's l2: 1.24806\n",
      "Training until validation scores don't improve for 100 rounds\n",
      "Early stopping, best iteration is:\n",
      "[203]\tvalid_0's mape: 0.152421\tvalid_0's l2: 1.1821\n",
      "Training until validation scores don't improve for 100 rounds\n"
     ]
    },
    {
     "name": "stderr",
     "output_type": "stream",
     "text": [
      "[I 2023-07-07 18:47:36,437] Trial 90 finished with value: 0.8365699183031892 and parameters: {'n_estimators': 10000, 'learning_rate': 0.032861269497341035, 'num_leaves': 540, 'max_depth': 4, 'max_bin': 231, 'reg_alpha': 5, 'reg_lambda': 60, 'min_split_gain': 2.574422514950995, 'subsample': 0.4, 'colsample_bytree': 0.8, 'min_child_samples': 70}. Best is trial 38 with value: 0.8360347926117757.\n"
     ]
    },
    {
     "name": "stdout",
     "output_type": "stream",
     "text": [
      "Early stopping, best iteration is:\n",
      "[201]\tvalid_0's mape: 0.160755\tvalid_0's l2: 1.25935\n",
      "Training until validation scores don't improve for 100 rounds\n",
      "Early stopping, best iteration is:\n",
      "[478]\tvalid_0's mape: 0.160388\tvalid_0's l2: 1.24759\n",
      "Training until validation scores don't improve for 100 rounds\n",
      "Early stopping, best iteration is:\n",
      "[564]\tvalid_0's mape: 0.167658\tvalid_0's l2: 1.25429\n",
      "Training until validation scores don't improve for 100 rounds\n",
      "Early stopping, best iteration is:\n",
      "[540]\tvalid_0's mape: 0.158526\tvalid_0's l2: 1.27503\n",
      "Training until validation scores don't improve for 100 rounds\n",
      "Early stopping, best iteration is:\n",
      "[392]\tvalid_0's mape: 0.157483\tvalid_0's l2: 1.23097\n",
      "Training until validation scores don't improve for 100 rounds\n"
     ]
    },
    {
     "name": "stderr",
     "output_type": "stream",
     "text": [
      "[I 2023-07-07 18:47:40,458] Trial 91 finished with value: 0.8378279396266267 and parameters: {'n_estimators': 10000, 'learning_rate': 0.015299619490761588, 'num_leaves': 540, 'max_depth': 4, 'max_bin': 232, 'reg_alpha': 5, 'reg_lambda': 60, 'min_split_gain': 1.6432787332358125, 'subsample': 0.4, 'colsample_bytree': 0.8, 'min_child_samples': 58}. Best is trial 38 with value: 0.8360347926117757.\n"
     ]
    },
    {
     "name": "stdout",
     "output_type": "stream",
     "text": [
      "Early stopping, best iteration is:\n",
      "[453]\tvalid_0's mape: 0.153782\tvalid_0's l2: 1.2275\n",
      "Training until validation scores don't improve for 100 rounds\n",
      "Early stopping, best iteration is:\n",
      "[402]\tvalid_0's mape: 0.160952\tvalid_0's l2: 1.23505\n",
      "Training until validation scores don't improve for 100 rounds\n",
      "Early stopping, best iteration is:\n",
      "[382]\tvalid_0's mape: 0.151057\tvalid_0's l2: 1.1719\n",
      "Training until validation scores don't improve for 100 rounds\n",
      "Early stopping, best iteration is:\n",
      "[358]\tvalid_0's mape: 0.164374\tvalid_0's l2: 1.27402\n",
      "Training until validation scores don't improve for 100 rounds\n",
      "Early stopping, best iteration is:\n",
      "[393]\tvalid_0's mape: 0.159759\tvalid_0's l2: 1.28206\n",
      "Training until validation scores don't improve for 100 rounds\n"
     ]
    },
    {
     "name": "stderr",
     "output_type": "stream",
     "text": [
      "[I 2023-07-07 18:47:43,914] Trial 92 finished with value: 0.8377468993123228 and parameters: {'n_estimators': 10000, 'learning_rate': 0.01716390324117198, 'num_leaves': 700, 'max_depth': 4, 'max_bin': 232, 'reg_alpha': 5, 'reg_lambda': 55, 'min_split_gain': 2.302482102215377, 'subsample': 0.4, 'colsample_bytree': 0.8, 'min_child_samples': 76}. Best is trial 38 with value: 0.8360347926117757.\n"
     ]
    },
    {
     "name": "stdout",
     "output_type": "stream",
     "text": [
      "Early stopping, best iteration is:\n",
      "[394]\tvalid_0's mape: 0.161745\tvalid_0's l2: 1.26724\n",
      "Training until validation scores don't improve for 100 rounds\n",
      "Early stopping, best iteration is:\n",
      "[394]\tvalid_0's mape: 0.164707\tvalid_0's l2: 1.27575\n",
      "Training until validation scores don't improve for 100 rounds\n",
      "Early stopping, best iteration is:\n",
      "[381]\tvalid_0's mape: 0.162923\tvalid_0's l2: 1.21988\n",
      "Training until validation scores don't improve for 100 rounds\n",
      "Early stopping, best iteration is:\n",
      "[365]\tvalid_0's mape: 0.158293\tvalid_0's l2: 1.26995\n",
      "Training until validation scores don't improve for 100 rounds\n",
      "Early stopping, best iteration is:\n",
      "[401]\tvalid_0's mape: 0.154418\tvalid_0's l2: 1.20489\n",
      "Training until validation scores don't improve for 100 rounds\n"
     ]
    },
    {
     "name": "stderr",
     "output_type": "stream",
     "text": [
      "[I 2023-07-07 18:47:47,021] Trial 93 finished with value: 0.8389942430247472 and parameters: {'n_estimators': 10000, 'learning_rate': 0.015726084650846302, 'num_leaves': 540, 'max_depth': 4, 'max_bin': 234, 'reg_alpha': 10, 'reg_lambda': 60, 'min_split_gain': 2.4666325215770994, 'subsample': 0.4, 'colsample_bytree': 0.8, 'min_child_samples': 75}. Best is trial 38 with value: 0.8360347926117757.\n"
     ]
    },
    {
     "name": "stdout",
     "output_type": "stream",
     "text": [
      "Early stopping, best iteration is:\n",
      "[396]\tvalid_0's mape: 0.159165\tvalid_0's l2: 1.26875\n",
      "Training until validation scores don't improve for 100 rounds\n",
      "Early stopping, best iteration is:\n",
      "[348]\tvalid_0's mape: 0.160808\tvalid_0's l2: 1.23715\n",
      "Training until validation scores don't improve for 100 rounds\n",
      "Early stopping, best iteration is:\n",
      "[345]\tvalid_0's mape: 0.153017\tvalid_0's l2: 1.15807\n",
      "Training until validation scores don't improve for 100 rounds\n",
      "Early stopping, best iteration is:\n",
      "[265]\tvalid_0's mape: 0.16029\tvalid_0's l2: 1.28254\n",
      "Training until validation scores don't improve for 100 rounds\n",
      "Early stopping, best iteration is:\n",
      "[354]\tvalid_0's mape: 0.165985\tvalid_0's l2: 1.30259\n",
      "Training until validation scores don't improve for 100 rounds\n"
     ]
    },
    {
     "name": "stderr",
     "output_type": "stream",
     "text": [
      "[I 2023-07-07 18:47:49,891] Trial 94 finished with value: 0.8402439279160442 and parameters: {'n_estimators': 10000, 'learning_rate': 0.019969184469864645, 'num_leaves': 740, 'max_depth': 4, 'max_bin': 226, 'reg_alpha': 5, 'reg_lambda': 55, 'min_split_gain': 2.027510902619688, 'subsample': 0.30000000000000004, 'colsample_bytree': 0.8, 'min_child_samples': 66}. Best is trial 38 with value: 0.8360347926117757.\n"
     ]
    },
    {
     "name": "stdout",
     "output_type": "stream",
     "text": [
      "Early stopping, best iteration is:\n",
      "[369]\tvalid_0's mape: 0.161006\tvalid_0's l2: 1.28266\n",
      "Training until validation scores don't improve for 100 rounds\n",
      "Early stopping, best iteration is:\n",
      "[758]\tvalid_0's mape: 0.159061\tvalid_0's l2: 1.25034\n",
      "Training until validation scores don't improve for 100 rounds\n",
      "Early stopping, best iteration is:\n",
      "[731]\tvalid_0's mape: 0.165596\tvalid_0's l2: 1.29569\n",
      "Training until validation scores don't improve for 100 rounds\n",
      "Early stopping, best iteration is:\n",
      "[719]\tvalid_0's mape: 0.157601\tvalid_0's l2: 1.21968\n",
      "Training until validation scores don't improve for 100 rounds\n",
      "Early stopping, best iteration is:\n",
      "[312]\tvalid_0's mape: 0.152027\tvalid_0's l2: 1.19505\n",
      "Training until validation scores don't improve for 100 rounds\n"
     ]
    },
    {
     "name": "stderr",
     "output_type": "stream",
     "text": [
      "[I 2023-07-07 18:47:55,226] Trial 95 finished with value: 0.8389069218717727 and parameters: {'n_estimators': 10000, 'learning_rate': 0.010924417340900525, 'num_leaves': 680, 'max_depth': 4, 'max_bin': 231, 'reg_alpha': 5, 'reg_lambda': 60, 'min_split_gain': 1.6613356183040928, 'subsample': 0.4, 'colsample_bytree': 0.8, 'min_child_samples': 2}. Best is trial 38 with value: 0.8360347926117757.\n"
     ]
    },
    {
     "name": "stdout",
     "output_type": "stream",
     "text": [
      "Early stopping, best iteration is:\n",
      "[716]\tvalid_0's mape: 0.165378\tvalid_0's l2: 1.29673\n",
      "Training until validation scores don't improve for 100 rounds\n",
      "Early stopping, best iteration is:\n",
      "[240]\tvalid_0's mape: 0.157915\tvalid_0's l2: 1.24597\n",
      "Training until validation scores don't improve for 100 rounds\n",
      "Early stopping, best iteration is:\n",
      "[243]\tvalid_0's mape: 0.169589\tvalid_0's l2: 1.35598\n",
      "Training until validation scores don't improve for 100 rounds\n",
      "Early stopping, best iteration is:\n",
      "[242]\tvalid_0's mape: 0.158614\tvalid_0's l2: 1.22965\n",
      "Training until validation scores don't improve for 100 rounds\n",
      "Early stopping, best iteration is:\n",
      "[233]\tvalid_0's mape: 0.150784\tvalid_0's l2: 1.19296\n",
      "Training until validation scores don't improve for 100 rounds\n"
     ]
    },
    {
     "name": "stderr",
     "output_type": "stream",
     "text": [
      "[I 2023-07-07 18:47:57,144] Trial 96 finished with value: 0.8401459023238456 and parameters: {'n_estimators': 10000, 'learning_rate': 0.027105342065760284, 'num_leaves': 560, 'max_depth': 3, 'max_bin': 238, 'reg_alpha': 15, 'reg_lambda': 55, 'min_split_gain': 2.6910555918240266, 'subsample': 0.5, 'colsample_bytree': 0.8, 'min_child_samples': 50}. Best is trial 38 with value: 0.8360347926117757.\n"
     ]
    },
    {
     "name": "stdout",
     "output_type": "stream",
     "text": [
      "Early stopping, best iteration is:\n",
      "[244]\tvalid_0's mape: 0.164508\tvalid_0's l2: 1.24714\n",
      "Training until validation scores don't improve for 100 rounds\n",
      "Early stopping, best iteration is:\n",
      "[170]\tvalid_0's mape: 0.167162\tvalid_0's l2: 1.29066\n",
      "Training until validation scores don't improve for 100 rounds\n",
      "Early stopping, best iteration is:\n",
      "[164]\tvalid_0's mape: 0.159002\tvalid_0's l2: 1.29025\n",
      "Training until validation scores don't improve for 100 rounds\n",
      "Early stopping, best iteration is:\n",
      "[165]\tvalid_0's mape: 0.158111\tvalid_0's l2: 1.23098\n",
      "Training until validation scores don't improve for 100 rounds\n",
      "Early stopping, best iteration is:\n",
      "[166]\tvalid_0's mape: 0.155715\tvalid_0's l2: 1.19555\n",
      "Training until validation scores don't improve for 100 rounds\n"
     ]
    },
    {
     "name": "stderr",
     "output_type": "stream",
     "text": [
      "[I 2023-07-07 18:47:58,877] Trial 97 finished with value: 0.8406910005749463 and parameters: {'n_estimators': 10000, 'learning_rate': 0.0324499559316478, 'num_leaves': 840, 'max_depth': 4, 'max_bin': 252, 'reg_alpha': 10, 'reg_lambda': 40, 'min_split_gain': 3.1801338123380614, 'subsample': 0.30000000000000004, 'colsample_bytree': 0.8, 'min_child_samples': 98}. Best is trial 38 with value: 0.8360347926117757.\n"
     ]
    },
    {
     "name": "stdout",
     "output_type": "stream",
     "text": [
      "Early stopping, best iteration is:\n",
      "[160]\tvalid_0's mape: 0.161081\tvalid_0's l2: 1.25287\n",
      "Training until validation scores don't improve for 100 rounds\n",
      "Early stopping, best iteration is:\n",
      "[368]\tvalid_0's mape: 0.171\tvalid_0's l2: 1.35813\n",
      "Training until validation scores don't improve for 100 rounds\n",
      "Early stopping, best iteration is:\n",
      "[394]\tvalid_0's mape: 0.153356\tvalid_0's l2: 1.18512\n",
      "Training until validation scores don't improve for 100 rounds\n",
      "Early stopping, best iteration is:\n",
      "[375]\tvalid_0's mape: 0.160006\tvalid_0's l2: 1.23092\n",
      "Training until validation scores don't improve for 100 rounds\n",
      "Early stopping, best iteration is:\n",
      "[277]\tvalid_0's mape: 0.155378\tvalid_0's l2: 1.23309\n",
      "Training until validation scores don't improve for 100 rounds\n"
     ]
    },
    {
     "name": "stderr",
     "output_type": "stream",
     "text": [
      "[I 2023-07-07 18:48:01,317] Trial 98 finished with value: 0.8389929514774398 and parameters: {'n_estimators': 10000, 'learning_rate': 0.024464085676714632, 'num_leaves': 640, 'max_depth': 3, 'max_bin': 246, 'reg_alpha': 5, 'reg_lambda': 60, 'min_split_gain': 2.056193268141583, 'subsample': 0.4, 'colsample_bytree': 0.7, 'min_child_samples': 59}. Best is trial 38 with value: 0.8360347926117757.\n"
     ]
    },
    {
     "name": "stdout",
     "output_type": "stream",
     "text": [
      "Early stopping, best iteration is:\n",
      "[361]\tvalid_0's mape: 0.159324\tvalid_0's l2: 1.24744\n",
      "Training until validation scores don't improve for 100 rounds\n",
      "Early stopping, best iteration is:\n",
      "[154]\tvalid_0's mape: 0.151884\tvalid_0's l2: 1.20314\n",
      "Training until validation scores don't improve for 100 rounds\n",
      "Early stopping, best iteration is:\n",
      "[152]\tvalid_0's mape: 0.153573\tvalid_0's l2: 1.21866\n",
      "Training until validation scores don't improve for 100 rounds\n",
      "Early stopping, best iteration is:\n",
      "[144]\tvalid_0's mape: 0.160621\tvalid_0's l2: 1.24272\n",
      "Training until validation scores don't improve for 100 rounds\n",
      "Early stopping, best iteration is:\n",
      "[134]\tvalid_0's mape: 0.159154\tvalid_0's l2: 1.2625\n",
      "Training until validation scores don't improve for 100 rounds\n"
     ]
    },
    {
     "name": "stderr",
     "output_type": "stream",
     "text": [
      "[I 2023-07-07 18:48:03,006] Trial 99 finished with value: 0.8394766643791473 and parameters: {'n_estimators': 10000, 'learning_rate': 0.04234151347427326, 'num_leaves': 520, 'max_depth': 4, 'max_bin': 223, 'reg_alpha': 10, 'reg_lambda': 55, 'min_split_gain': 2.2394235543162706, 'subsample': 0.4, 'colsample_bytree': 0.8, 'min_child_samples': 27}. Best is trial 38 with value: 0.8360347926117757.\n"
     ]
    },
    {
     "name": "stdout",
     "output_type": "stream",
     "text": [
      "Early stopping, best iteration is:\n",
      "[150]\tvalid_0's mape: 0.17583\tvalid_0's l2: 1.33417\n",
      "Training until validation scores don't improve for 100 rounds\n",
      "Early stopping, best iteration is:\n",
      "[583]\tvalid_0's mape: 0.173294\tvalid_0's l2: 1.36954\n",
      "Training until validation scores don't improve for 100 rounds\n",
      "Early stopping, best iteration is:\n",
      "[598]\tvalid_0's mape: 0.170637\tvalid_0's l2: 1.34638\n",
      "Training until validation scores don't improve for 100 rounds\n",
      "Early stopping, best iteration is:\n",
      "[592]\tvalid_0's mape: 0.154321\tvalid_0's l2: 1.20779\n",
      "Training until validation scores don't improve for 100 rounds\n",
      "Early stopping, best iteration is:\n",
      "[442]\tvalid_0's mape: 0.14453\tvalid_0's l2: 1.12922\n",
      "Training until validation scores don't improve for 100 rounds\n"
     ]
    },
    {
     "name": "stderr",
     "output_type": "stream",
     "text": [
      "[I 2023-07-07 18:48:07,255] Trial 100 finished with value: 0.8396439555781928 and parameters: {'n_estimators': 10000, 'learning_rate': 0.0165765778938649, 'num_leaves': 980, 'max_depth': 3, 'max_bin': 218, 'reg_alpha': 5, 'reg_lambda': 50, 'min_split_gain': 1.7148546628471442, 'subsample': 0.5, 'colsample_bytree': 0.7, 'min_child_samples': 78}. Best is trial 38 with value: 0.8360347926117757.\n"
     ]
    },
    {
     "name": "stdout",
     "output_type": "stream",
     "text": [
      "Early stopping, best iteration is:\n",
      "[620]\tvalid_0's mape: 0.156376\tvalid_0's l2: 1.20377\n",
      "Training until validation scores don't improve for 100 rounds\n",
      "Early stopping, best iteration is:\n",
      "[209]\tvalid_0's mape: 0.16038\tvalid_0's l2: 1.21666\n",
      "Training until validation scores don't improve for 100 rounds\n",
      "Early stopping, best iteration is:\n",
      "[308]\tvalid_0's mape: 0.153788\tvalid_0's l2: 1.23467\n",
      "Training until validation scores don't improve for 100 rounds\n",
      "Early stopping, best iteration is:\n",
      "[217]\tvalid_0's mape: 0.162852\tvalid_0's l2: 1.29745\n",
      "Training until validation scores don't improve for 100 rounds\n",
      "Early stopping, best iteration is:\n",
      "[179]\tvalid_0's mape: 0.16641\tvalid_0's l2: 1.27649\n",
      "Training until validation scores don't improve for 100 rounds\n"
     ]
    },
    {
     "name": "stderr",
     "output_type": "stream",
     "text": [
      "[I 2023-07-07 18:48:09,972] Trial 101 finished with value: 0.8388185215335685 and parameters: {'n_estimators': 10000, 'learning_rate': 0.034388235462287794, 'num_leaves': 780, 'max_depth': 4, 'max_bin': 228, 'reg_alpha': 0, 'reg_lambda': 50, 'min_split_gain': 1.3045543851324348, 'subsample': 0.4, 'colsample_bytree': 0.8, 'min_child_samples': 103}. Best is trial 38 with value: 0.8360347926117757.\n"
     ]
    },
    {
     "name": "stdout",
     "output_type": "stream",
     "text": [
      "Early stopping, best iteration is:\n",
      "[229]\tvalid_0's mape: 0.154816\tvalid_0's l2: 1.20403\n",
      "Training until validation scores don't improve for 100 rounds\n",
      "Early stopping, best iteration is:\n",
      "[250]\tvalid_0's mape: 0.157737\tvalid_0's l2: 1.24022\n",
      "Training until validation scores don't improve for 100 rounds\n",
      "Early stopping, best iteration is:\n",
      "[293]\tvalid_0's mape: 0.161278\tvalid_0's l2: 1.25037\n",
      "Training until validation scores don't improve for 100 rounds\n",
      "Early stopping, best iteration is:\n",
      "[178]\tvalid_0's mape: 0.153601\tvalid_0's l2: 1.18401\n",
      "Training until validation scores don't improve for 100 rounds\n",
      "Early stopping, best iteration is:\n",
      "[319]\tvalid_0's mape: 0.157687\tvalid_0's l2: 1.28649\n",
      "Training until validation scores don't improve for 100 rounds\n"
     ]
    },
    {
     "name": "stderr",
     "output_type": "stream",
     "text": [
      "[I 2023-07-07 18:48:12,551] Trial 102 finished with value: 0.8360405608765922 and parameters: {'n_estimators': 10000, 'learning_rate': 0.03696130649233071, 'num_leaves': 440, 'max_depth': 4, 'max_bin': 231, 'reg_alpha': 5, 'reg_lambda': 45, 'min_split_gain': 0.7575320022527238, 'subsample': 0.30000000000000004, 'colsample_bytree': 0.8, 'min_child_samples': 72}. Best is trial 38 with value: 0.8360347926117757.\n"
     ]
    },
    {
     "name": "stdout",
     "output_type": "stream",
     "text": [
      "Early stopping, best iteration is:\n",
      "[214]\tvalid_0's mape: 0.165855\tvalid_0's l2: 1.25872\n",
      "Training until validation scores don't improve for 100 rounds\n",
      "Early stopping, best iteration is:\n",
      "[339]\tvalid_0's mape: 0.148601\tvalid_0's l2: 1.16135\n",
      "Training until validation scores don't improve for 100 rounds\n",
      "Early stopping, best iteration is:\n",
      "[182]\tvalid_0's mape: 0.174121\tvalid_0's l2: 1.34972\n",
      "Training until validation scores don't improve for 100 rounds\n",
      "Early stopping, best iteration is:\n",
      "[252]\tvalid_0's mape: 0.159735\tvalid_0's l2: 1.23667\n",
      "Training until validation scores don't improve for 100 rounds\n",
      "Early stopping, best iteration is:\n",
      "[273]\tvalid_0's mape: 0.154086\tvalid_0's l2: 1.24228\n",
      "Training until validation scores don't improve for 100 rounds\n"
     ]
    },
    {
     "name": "stderr",
     "output_type": "stream",
     "text": [
      "[I 2023-07-07 18:48:17,096] Trial 103 finished with value: 0.8372679695434755 and parameters: {'n_estimators': 10000, 'learning_rate': 0.03750235453848184, 'num_leaves': 460, 'max_depth': 4, 'max_bin': 233, 'reg_alpha': 5, 'reg_lambda': 45, 'min_split_gain': 0.7419654840417867, 'subsample': 0.30000000000000004, 'colsample_bytree': 0.8, 'min_child_samples': 66}. Best is trial 38 with value: 0.8360347926117757.\n"
     ]
    },
    {
     "name": "stdout",
     "output_type": "stream",
     "text": [
      "Early stopping, best iteration is:\n",
      "[192]\tvalid_0's mape: 0.1608\tvalid_0's l2: 1.23863\n",
      "Training until validation scores don't improve for 100 rounds\n",
      "Early stopping, best iteration is:\n",
      "[143]\tvalid_0's mape: 0.160607\tvalid_0's l2: 1.2411\n",
      "Training until validation scores don't improve for 100 rounds\n",
      "Early stopping, best iteration is:\n",
      "[194]\tvalid_0's mape: 0.156817\tvalid_0's l2: 1.26296\n",
      "Training until validation scores don't improve for 100 rounds\n",
      "Early stopping, best iteration is:\n",
      "[324]\tvalid_0's mape: 0.16536\tvalid_0's l2: 1.29336\n",
      "Training until validation scores don't improve for 100 rounds\n",
      "Early stopping, best iteration is:\n",
      "[151]\tvalid_0's mape: 0.151542\tvalid_0's l2: 1.17767\n",
      "Training until validation scores don't improve for 100 rounds\n"
     ]
    },
    {
     "name": "stderr",
     "output_type": "stream",
     "text": [
      "[I 2023-07-07 18:48:20,795] Trial 104 finished with value: 0.8382041491552041 and parameters: {'n_estimators': 10000, 'learning_rate': 0.0383233486171599, 'num_leaves': 460, 'max_depth': 4, 'max_bin': 236, 'reg_alpha': 5, 'reg_lambda': 45, 'min_split_gain': 0.8541527158905575, 'subsample': 0.30000000000000004, 'colsample_bytree': 0.9000000000000001, 'min_child_samples': 26}. Best is trial 38 with value: 0.8360347926117757.\n"
     ]
    },
    {
     "name": "stdout",
     "output_type": "stream",
     "text": [
      "Early stopping, best iteration is:\n",
      "[181]\tvalid_0's mape: 0.163778\tvalid_0's l2: 1.27315\n",
      "Training until validation scores don't improve for 100 rounds\n",
      "Early stopping, best iteration is:\n",
      "[242]\tvalid_0's mape: 0.165049\tvalid_0's l2: 1.28526\n",
      "Training until validation scores don't improve for 100 rounds\n",
      "Early stopping, best iteration is:\n",
      "[213]\tvalid_0's mape: 0.163784\tvalid_0's l2: 1.22583\n",
      "Training until validation scores don't improve for 100 rounds\n",
      "Early stopping, best iteration is:\n",
      "[318]\tvalid_0's mape: 0.159899\tvalid_0's l2: 1.25932\n",
      "Training until validation scores don't improve for 100 rounds\n",
      "Early stopping, best iteration is:\n",
      "[261]\tvalid_0's mape: 0.159703\tvalid_0's l2: 1.28445\n",
      "Training until validation scores don't improve for 100 rounds\n"
     ]
    },
    {
     "name": "stderr",
     "output_type": "stream",
     "text": [
      "[I 2023-07-07 18:48:25,053] Trial 105 finished with value: 0.8378910929718189 and parameters: {'n_estimators': 10000, 'learning_rate': 0.027199551837263705, 'num_leaves': 440, 'max_depth': 4, 'max_bin': 233, 'reg_alpha': 15, 'reg_lambda': 40, 'min_split_gain': 0.7162162104490899, 'subsample': 0.2, 'colsample_bytree': 0.8, 'min_child_samples': 52}. Best is trial 38 with value: 0.8360347926117757.\n"
     ]
    },
    {
     "name": "stdout",
     "output_type": "stream",
     "text": [
      "Early stopping, best iteration is:\n",
      "[293]\tvalid_0's mape: 0.149847\tvalid_0's l2: 1.18833\n",
      "Training until validation scores don't improve for 100 rounds\n",
      "Early stopping, best iteration is:\n",
      "[1066]\tvalid_0's mape: 0.167636\tvalid_0's l2: 1.31349\n",
      "Training until validation scores don't improve for 100 rounds\n",
      "Early stopping, best iteration is:\n",
      "[1125]\tvalid_0's mape: 0.152967\tvalid_0's l2: 1.17955\n",
      "Training until validation scores don't improve for 100 rounds\n",
      "Early stopping, best iteration is:\n",
      "[971]\tvalid_0's mape: 0.157163\tvalid_0's l2: 1.19629\n",
      "Training until validation scores don't improve for 100 rounds\n",
      "Early stopping, best iteration is:\n",
      "[751]\tvalid_0's mape: 0.159109\tvalid_0's l2: 1.27386\n",
      "Training until validation scores don't improve for 100 rounds\n"
     ]
    },
    {
     "name": "stderr",
     "output_type": "stream",
     "text": [
      "[I 2023-07-07 18:48:33,211] Trial 106 finished with value: 0.8376716308131934 and parameters: {'n_estimators': 10000, 'learning_rate': 0.010317088223342383, 'num_leaves': 600, 'max_depth': 3, 'max_bin': 231, 'reg_alpha': 5, 'reg_lambda': 35, 'min_split_gain': 1.4856296772302273, 'subsample': 0.30000000000000004, 'colsample_bytree': 0.8, 'min_child_samples': 85}. Best is trial 38 with value: 0.8360347926117757.\n"
     ]
    },
    {
     "name": "stdout",
     "output_type": "stream",
     "text": [
      "Early stopping, best iteration is:\n",
      "[1063]\tvalid_0's mape: 0.16015\tvalid_0's l2: 1.26383\n",
      "Training until validation scores don't improve for 100 rounds\n",
      "Early stopping, best iteration is:\n",
      "[1179]\tvalid_0's mape: 0.158836\tvalid_0's l2: 1.27358\n",
      "Training until validation scores don't improve for 100 rounds\n",
      "Early stopping, best iteration is:\n",
      "[1031]\tvalid_0's mape: 0.164585\tvalid_0's l2: 1.28372\n",
      "Training until validation scores don't improve for 100 rounds\n",
      "Early stopping, best iteration is:\n",
      "[1504]\tvalid_0's mape: 0.150108\tvalid_0's l2: 1.16303\n",
      "Training until validation scores don't improve for 100 rounds\n",
      "Early stopping, best iteration is:\n",
      "[1198]\tvalid_0's mape: 0.16428\tvalid_0's l2: 1.26615\n",
      "Training until validation scores don't improve for 100 rounds\n"
     ]
    },
    {
     "name": "stderr",
     "output_type": "stream",
     "text": [
      "[I 2023-07-07 18:48:43,227] Trial 107 finished with value: 0.8359311713500658 and parameters: {'n_estimators': 10000, 'learning_rate': 0.01049967741191465, 'num_leaves': 620, 'max_depth': 3, 'max_bin': 225, 'reg_alpha': 10, 'reg_lambda': 35, 'min_split_gain': 0.6133505647722235, 'subsample': 0.30000000000000004, 'colsample_bytree': 0.9000000000000001, 'min_child_samples': 83}. Best is trial 107 with value: 0.8359311713500658.\n"
     ]
    },
    {
     "name": "stdout",
     "output_type": "stream",
     "text": [
      "Early stopping, best iteration is:\n",
      "[875]\tvalid_0's mape: 0.158198\tvalid_0's l2: 1.2334\n",
      "Training until validation scores don't improve for 100 rounds\n",
      "Early stopping, best iteration is:\n",
      "[1377]\tvalid_0's mape: 0.163671\tvalid_0's l2: 1.24872\n",
      "Training until validation scores don't improve for 100 rounds\n",
      "Early stopping, best iteration is:\n",
      "[1049]\tvalid_0's mape: 0.162986\tvalid_0's l2: 1.24839\n",
      "Training until validation scores don't improve for 100 rounds\n",
      "Early stopping, best iteration is:\n",
      "[790]\tvalid_0's mape: 0.145625\tvalid_0's l2: 1.17359\n",
      "Training until validation scores don't improve for 100 rounds\n",
      "Early stopping, best iteration is:\n",
      "[920]\tvalid_0's mape: 0.164906\tvalid_0's l2: 1.29068\n",
      "Training until validation scores don't improve for 100 rounds\n"
     ]
    },
    {
     "name": "stderr",
     "output_type": "stream",
     "text": [
      "[I 2023-07-07 18:48:51,087] Trial 108 finished with value: 0.83737413947406 and parameters: {'n_estimators': 10000, 'learning_rate': 0.010905007470680144, 'num_leaves': 620, 'max_depth': 3, 'max_bin': 229, 'reg_alpha': 10, 'reg_lambda': 35, 'min_split_gain': 0.6451648793094056, 'subsample': 0.30000000000000004, 'colsample_bytree': 0.9000000000000001, 'min_child_samples': 87}. Best is trial 107 with value: 0.8359311713500658.\n"
     ]
    },
    {
     "name": "stdout",
     "output_type": "stream",
     "text": [
      "Early stopping, best iteration is:\n",
      "[884]\tvalid_0's mape: 0.159965\tvalid_0's l2: 1.26604\n",
      "Training until validation scores don't improve for 100 rounds\n",
      "Early stopping, best iteration is:\n",
      "[282]\tvalid_0's mape: 0.154724\tvalid_0's l2: 1.23867\n",
      "Training until validation scores don't improve for 100 rounds\n",
      "Early stopping, best iteration is:\n",
      "[222]\tvalid_0's mape: 0.152457\tvalid_0's l2: 1.1616\n",
      "Training until validation scores don't improve for 100 rounds\n",
      "Early stopping, best iteration is:\n",
      "[561]\tvalid_0's mape: 0.178958\tvalid_0's l2: 1.3766\n",
      "Training until validation scores don't improve for 100 rounds\n",
      "Early stopping, best iteration is:\n",
      "[506]\tvalid_0's mape: 0.1615\tvalid_0's l2: 1.27541\n",
      "Training until validation scores don't improve for 100 rounds\n"
     ]
    },
    {
     "name": "stderr",
     "output_type": "stream",
     "text": [
      "[I 2023-07-07 18:48:55,444] Trial 109 finished with value: 0.8373592829515969 and parameters: {'n_estimators': 10000, 'learning_rate': 0.0249479655255595, 'num_leaves': 620, 'max_depth': 3, 'max_bin': 228, 'reg_alpha': 10, 'reg_lambda': 35, 'min_split_gain': 0.6946350067393912, 'subsample': 0.2, 'colsample_bytree': 0.9000000000000001, 'min_child_samples': 47}. Best is trial 107 with value: 0.8359311713500658.\n"
     ]
    },
    {
     "name": "stdout",
     "output_type": "stream",
     "text": [
      "Early stopping, best iteration is:\n",
      "[455]\tvalid_0's mape: 0.150181\tvalid_0's l2: 1.19231\n",
      "Training until validation scores don't improve for 100 rounds\n",
      "Early stopping, best iteration is:\n",
      "[211]\tvalid_0's mape: 0.158611\tvalid_0's l2: 1.21564\n",
      "Training until validation scores don't improve for 100 rounds\n",
      "Early stopping, best iteration is:\n",
      "[224]\tvalid_0's mape: 0.154322\tvalid_0's l2: 1.20729\n",
      "Training until validation scores don't improve for 100 rounds\n",
      "Early stopping, best iteration is:\n",
      "[216]\tvalid_0's mape: 0.159822\tvalid_0's l2: 1.2034\n",
      "Training until validation scores don't improve for 100 rounds\n",
      "Early stopping, best iteration is:\n",
      "[230]\tvalid_0's mape: 0.160021\tvalid_0's l2: 1.29193\n",
      "Training until validation scores don't improve for 100 rounds\n"
     ]
    },
    {
     "name": "stderr",
     "output_type": "stream",
     "text": [
      "[I 2023-07-07 18:48:57,986] Trial 110 finished with value: 0.8376264620538094 and parameters: {'n_estimators': 10000, 'learning_rate': 0.04363505116582161, 'num_leaves': 660, 'max_depth': 3, 'max_bin': 228, 'reg_alpha': 20, 'reg_lambda': 35, 'min_split_gain': 0.6854116345947374, 'subsample': 0.2, 'colsample_bytree': 0.9000000000000001, 'min_child_samples': 45}. Best is trial 107 with value: 0.8359311713500658.\n"
     ]
    },
    {
     "name": "stdout",
     "output_type": "stream",
     "text": [
      "Early stopping, best iteration is:\n",
      "[216]\tvalid_0's mape: 0.16525\tvalid_0's l2: 1.32071\n",
      "Training until validation scores don't improve for 100 rounds\n",
      "Early stopping, best iteration is:\n",
      "[233]\tvalid_0's mape: 0.168649\tvalid_0's l2: 1.35756\n",
      "Training until validation scores don't improve for 100 rounds\n",
      "Early stopping, best iteration is:\n",
      "[403]\tvalid_0's mape: 0.156415\tvalid_0's l2: 1.19228\n",
      "Training until validation scores don't improve for 100 rounds\n",
      "Early stopping, best iteration is:\n",
      "[465]\tvalid_0's mape: 0.161551\tvalid_0's l2: 1.25297\n",
      "Training until validation scores don't improve for 100 rounds\n",
      "Early stopping, best iteration is:\n",
      "[428]\tvalid_0's mape: 0.153136\tvalid_0's l2: 1.17734\n",
      "Training until validation scores don't improve for 100 rounds\n"
     ]
    },
    {
     "name": "stderr",
     "output_type": "stream",
     "text": [
      "[I 2023-07-07 18:49:02,031] Trial 111 finished with value: 0.8374826199298043 and parameters: {'n_estimators': 10000, 'learning_rate': 0.02321750995444008, 'num_leaves': 600, 'max_depth': 3, 'max_bin': 225, 'reg_alpha': 10, 'reg_lambda': 35, 'min_split_gain': 0.7153756242057766, 'subsample': 0.2, 'colsample_bytree': 0.9000000000000001, 'min_child_samples': 68}. Best is trial 107 with value: 0.8359311713500658.\n"
     ]
    },
    {
     "name": "stdout",
     "output_type": "stream",
     "text": [
      "Early stopping, best iteration is:\n",
      "[635]\tvalid_0's mape: 0.158142\tvalid_0's l2: 1.2478\n",
      "Training until validation scores don't improve for 100 rounds\n",
      "Early stopping, best iteration is:\n",
      "[212]\tvalid_0's mape: 0.154206\tvalid_0's l2: 1.20958\n",
      "Training until validation scores don't improve for 100 rounds\n",
      "Early stopping, best iteration is:\n",
      "[331]\tvalid_0's mape: 0.167143\tvalid_0's l2: 1.29145\n",
      "Training until validation scores don't improve for 100 rounds\n",
      "Early stopping, best iteration is:\n",
      "[287]\tvalid_0's mape: 0.148603\tvalid_0's l2: 1.19729\n",
      "Training until validation scores don't improve for 100 rounds\n",
      "Early stopping, best iteration is:\n",
      "[328]\tvalid_0's mape: 0.162598\tvalid_0's l2: 1.25557\n",
      "Training until validation scores don't improve for 100 rounds\n"
     ]
    },
    {
     "name": "stderr",
     "output_type": "stream",
     "text": [
      "[I 2023-07-07 18:49:04,877] Trial 112 finished with value: 0.838178116158985 and parameters: {'n_estimators': 10000, 'learning_rate': 0.03446160488494628, 'num_leaves': 620, 'max_depth': 3, 'max_bin': 225, 'reg_alpha': 15, 'reg_lambda': 40, 'min_split_gain': 0.642737283108963, 'subsample': 0.2, 'colsample_bytree': 0.9000000000000001, 'min_child_samples': 69}. Best is trial 107 with value: 0.8359311713500658.\n"
     ]
    },
    {
     "name": "stdout",
     "output_type": "stream",
     "text": [
      "Early stopping, best iteration is:\n",
      "[288]\tvalid_0's mape: 0.166521\tvalid_0's l2: 1.30357\n",
      "Training until validation scores don't improve for 100 rounds\n",
      "Early stopping, best iteration is:\n",
      "[350]\tvalid_0's mape: 0.154025\tvalid_0's l2: 1.20601\n",
      "Training until validation scores don't improve for 100 rounds\n",
      "Early stopping, best iteration is:\n",
      "[519]\tvalid_0's mape: 0.173005\tvalid_0's l2: 1.33196\n",
      "Training until validation scores don't improve for 100 rounds\n",
      "Early stopping, best iteration is:\n",
      "[282]\tvalid_0's mape: 0.154461\tvalid_0's l2: 1.22678\n",
      "Training until validation scores don't improve for 100 rounds\n",
      "Early stopping, best iteration is:\n",
      "[404]\tvalid_0's mape: 0.147521\tvalid_0's l2: 1.14261\n",
      "Training until validation scores don't improve for 100 rounds\n"
     ]
    },
    {
     "name": "stderr",
     "output_type": "stream",
     "text": [
      "[I 2023-07-07 18:49:08,741] Trial 113 finished with value: 0.8382654644791255 and parameters: {'n_estimators': 10000, 'learning_rate': 0.026488619626726516, 'num_leaves': 500, 'max_depth': 3, 'max_bin': 236, 'reg_alpha': 10, 'reg_lambda': 45, 'min_split_gain': 0.054150046474736424, 'subsample': 0.30000000000000004, 'colsample_bytree': 0.9000000000000001, 'min_child_samples': 30}. Best is trial 107 with value: 0.8359311713500658.\n"
     ]
    },
    {
     "name": "stdout",
     "output_type": "stream",
     "text": [
      "Early stopping, best iteration is:\n",
      "[390]\tvalid_0's mape: 0.168765\tvalid_0's l2: 1.33255\n",
      "Training until validation scores don't improve for 100 rounds\n",
      "Early stopping, best iteration is:\n",
      "[233]\tvalid_0's mape: 0.159708\tvalid_0's l2: 1.24578\n",
      "Training until validation scores don't improve for 100 rounds\n",
      "Early stopping, best iteration is:\n",
      "[224]\tvalid_0's mape: 0.166302\tvalid_0's l2: 1.31241\n",
      "Training until validation scores don't improve for 100 rounds\n",
      "Early stopping, best iteration is:\n",
      "[228]\tvalid_0's mape: 0.158333\tvalid_0's l2: 1.26694\n",
      "Training until validation scores don't improve for 100 rounds\n",
      "Early stopping, best iteration is:\n",
      "[220]\tvalid_0's mape: 0.16049\tvalid_0's l2: 1.20605\n",
      "Training until validation scores don't improve for 100 rounds\n"
     ]
    },
    {
     "name": "stderr",
     "output_type": "stream",
     "text": [
      "[I 2023-07-07 18:49:11,214] Trial 114 finished with value: 0.8429405238784892 and parameters: {'n_estimators': 10000, 'learning_rate': 0.028732997168911093, 'num_leaves': 580, 'max_depth': 3, 'max_bin': 229, 'reg_alpha': 55, 'reg_lambda': 35, 'min_split_gain': 0.9261718200656401, 'subsample': 0.2, 'colsample_bytree': 0.9000000000000001, 'min_child_samples': 85}. Best is trial 107 with value: 0.8359311713500658.\n"
     ]
    },
    {
     "name": "stdout",
     "output_type": "stream",
     "text": [
      "Early stopping, best iteration is:\n",
      "[233]\tvalid_0's mape: 0.160647\tvalid_0's l2: 1.27036\n",
      "Training until validation scores don't improve for 100 rounds\n",
      "Early stopping, best iteration is:\n",
      "[272]\tvalid_0's mape: 0.166297\tvalid_0's l2: 1.30659\n",
      "Training until validation scores don't improve for 100 rounds\n",
      "Early stopping, best iteration is:\n",
      "[273]\tvalid_0's mape: 0.165017\tvalid_0's l2: 1.28425\n",
      "Training until validation scores don't improve for 100 rounds\n",
      "Early stopping, best iteration is:\n",
      "[274]\tvalid_0's mape: 0.173766\tvalid_0's l2: 1.37889\n",
      "Training until validation scores don't improve for 100 rounds\n",
      "Early stopping, best iteration is:\n",
      "[281]\tvalid_0's mape: 0.14946\tvalid_0's l2: 1.16214\n",
      "Training until validation scores don't improve for 100 rounds\n"
     ]
    },
    {
     "name": "stderr",
     "output_type": "stream",
     "text": [
      "[I 2023-07-07 18:49:14,179] Trial 115 finished with value: 0.8498985087199152 and parameters: {'n_estimators': 10000, 'learning_rate': 0.021923938661861563, 'num_leaves': 380, 'max_depth': 3, 'max_bin': 219, 'reg_alpha': 90, 'reg_lambda': 35, 'min_split_gain': 1.1418881100699885, 'subsample': 0.30000000000000004, 'colsample_bytree': 0.9000000000000001, 'min_child_samples': 69}. Best is trial 107 with value: 0.8359311713500658.\n"
     ]
    },
    {
     "name": "stdout",
     "output_type": "stream",
     "text": [
      "Early stopping, best iteration is:\n",
      "[273]\tvalid_0's mape: 0.15969\tvalid_0's l2: 1.25181\n",
      "Training until validation scores don't improve for 100 rounds\n",
      "Early stopping, best iteration is:\n",
      "[305]\tvalid_0's mape: 0.155872\tvalid_0's l2: 1.18521\n",
      "Training until validation scores don't improve for 100 rounds\n",
      "Early stopping, best iteration is:\n",
      "[237]\tvalid_0's mape: 0.160498\tvalid_0's l2: 1.2779\n",
      "Training until validation scores don't improve for 100 rounds\n",
      "Early stopping, best iteration is:\n",
      "[337]\tvalid_0's mape: 0.161617\tvalid_0's l2: 1.26998\n",
      "Training until validation scores don't improve for 100 rounds\n",
      "Early stopping, best iteration is:\n",
      "[94]\tvalid_0's mape: 0.161652\tvalid_0's l2: 1.27884\n",
      "Training until validation scores don't improve for 100 rounds\n"
     ]
    },
    {
     "name": "stderr",
     "output_type": "stream",
     "text": [
      "[I 2023-07-07 18:49:18,165] Trial 116 finished with value: 0.8395020423277033 and parameters: {'n_estimators': 10000, 'learning_rate': 0.03478371319985127, 'num_leaves': 420, 'max_depth': 3, 'max_bin': 221, 'reg_alpha': 10, 'reg_lambda': 25, 'min_split_gain': 0.022446122975333105, 'subsample': 0.30000000000000004, 'colsample_bytree': 0.9000000000000001, 'min_child_samples': 61}. Best is trial 107 with value: 0.8359311713500658.\n"
     ]
    },
    {
     "name": "stdout",
     "output_type": "stream",
     "text": [
      "Early stopping, best iteration is:\n",
      "[343]\tvalid_0's mape: 0.160622\tvalid_0's l2: 1.23777\n",
      "Training until validation scores don't improve for 100 rounds\n",
      "Early stopping, best iteration is:\n",
      "[170]\tvalid_0's mape: 0.164768\tvalid_0's l2: 1.31755\n",
      "Training until validation scores don't improve for 100 rounds\n",
      "Early stopping, best iteration is:\n",
      "[176]\tvalid_0's mape: 0.165057\tvalid_0's l2: 1.29799\n",
      "Training until validation scores don't improve for 100 rounds\n",
      "Early stopping, best iteration is:\n",
      "[179]\tvalid_0's mape: 0.146697\tvalid_0's l2: 1.14616\n",
      "Training until validation scores don't improve for 100 rounds\n",
      "Early stopping, best iteration is:\n",
      "[182]\tvalid_0's mape: 0.160708\tvalid_0's l2: 1.24174\n",
      "Training until validation scores don't improve for 100 rounds\n"
     ]
    },
    {
     "name": "stderr",
     "output_type": "stream",
     "text": [
      "[I 2023-07-07 18:49:20,399] Trial 117 finished with value: 0.8394153447872496 and parameters: {'n_estimators': 10000, 'learning_rate': 0.05040483558841811, 'num_leaves': 800, 'max_depth': 3, 'max_bin': 224, 'reg_alpha': 30, 'reg_lambda': 45, 'min_split_gain': 0.48789200754263423, 'subsample': 0.2, 'colsample_bytree': 1.0, 'min_child_samples': 107}. Best is trial 107 with value: 0.8359311713500658.\n"
     ]
    },
    {
     "name": "stdout",
     "output_type": "stream",
     "text": [
      "Early stopping, best iteration is:\n",
      "[170]\tvalid_0's mape: 0.163068\tvalid_0's l2: 1.27011\n",
      "Training until validation scores don't improve for 100 rounds\n",
      "Early stopping, best iteration is:\n",
      "[138]\tvalid_0's mape: 0.154063\tvalid_0's l2: 1.24593\n",
      "Training until validation scores don't improve for 100 rounds\n",
      "Early stopping, best iteration is:\n",
      "[279]\tvalid_0's mape: 0.17619\tvalid_0's l2: 1.38706\n",
      "Training until validation scores don't improve for 100 rounds\n",
      "Early stopping, best iteration is:\n",
      "[273]\tvalid_0's mape: 0.15519\tvalid_0's l2: 1.19137\n",
      "Training until validation scores don't improve for 100 rounds\n",
      "Early stopping, best iteration is:\n",
      "[293]\tvalid_0's mape: 0.162775\tvalid_0's l2: 1.25517\n",
      "Training until validation scores don't improve for 100 rounds\n"
     ]
    },
    {
     "name": "stderr",
     "output_type": "stream",
     "text": [
      "[I 2023-07-07 18:49:24,029] Trial 118 finished with value: 0.8396066484360929 and parameters: {'n_estimators': 10000, 'learning_rate': 0.041895432287806095, 'num_leaves': 480, 'max_depth': 3, 'max_bin': 229, 'reg_alpha': 15, 'reg_lambda': 40, 'min_split_gain': 0.6647060372626777, 'subsample': 0.30000000000000004, 'colsample_bytree': 0.9000000000000001, 'min_child_samples': 41}. Best is trial 107 with value: 0.8359311713500658.\n"
     ]
    },
    {
     "name": "stdout",
     "output_type": "stream",
     "text": [
      "Early stopping, best iteration is:\n",
      "[156]\tvalid_0's mape: 0.151464\tvalid_0's l2: 1.18331\n",
      "Training until validation scores don't improve for 100 rounds\n",
      "Early stopping, best iteration is:\n",
      "[193]\tvalid_0's mape: 0.15744\tvalid_0's l2: 1.25308\n",
      "Training until validation scores don't improve for 100 rounds\n",
      "Early stopping, best iteration is:\n",
      "[174]\tvalid_0's mape: 0.169012\tvalid_0's l2: 1.33616\n",
      "Training until validation scores don't improve for 100 rounds\n",
      "Early stopping, best iteration is:\n",
      "[191]\tvalid_0's mape: 0.152128\tvalid_0's l2: 1.22315\n",
      "Training until validation scores don't improve for 100 rounds\n",
      "Early stopping, best iteration is:\n",
      "[182]\tvalid_0's mape: 0.156857\tvalid_0's l2: 1.1932\n",
      "Training until validation scores don't improve for 100 rounds\n"
     ]
    },
    {
     "name": "stderr",
     "output_type": "stream",
     "text": [
      "[I 2023-07-07 18:49:27,063] Trial 119 finished with value: 0.8379966023335171 and parameters: {'n_estimators': 10000, 'learning_rate': 0.046776290175992455, 'num_leaves': 740, 'max_depth': 3, 'max_bin': 226, 'reg_alpha': 15, 'reg_lambda': 30, 'min_split_gain': 1.16434531618846, 'subsample': 0.30000000000000004, 'colsample_bytree': 1.0, 'min_child_samples': 91}. Best is trial 107 with value: 0.8359311713500658.\n"
     ]
    },
    {
     "name": "stdout",
     "output_type": "stream",
     "text": [
      "Early stopping, best iteration is:\n",
      "[192]\tvalid_0's mape: 0.162985\tvalid_0's l2: 1.23898\n",
      "Training until validation scores don't improve for 100 rounds\n",
      "Early stopping, best iteration is:\n",
      "[252]\tvalid_0's mape: 0.168528\tvalid_0's l2: 1.31068\n",
      "Training until validation scores don't improve for 100 rounds\n",
      "Early stopping, best iteration is:\n",
      "[268]\tvalid_0's mape: 0.154043\tvalid_0's l2: 1.18253\n",
      "Training until validation scores don't improve for 100 rounds\n",
      "Early stopping, best iteration is:\n",
      "[262]\tvalid_0's mape: 0.156805\tvalid_0's l2: 1.22406\n",
      "Training until validation scores don't improve for 100 rounds\n",
      "Early stopping, best iteration is:\n",
      "[203]\tvalid_0's mape: 0.158256\tvalid_0's l2: 1.2494\n",
      "Training until validation scores don't improve for 100 rounds\n"
     ]
    },
    {
     "name": "stderr",
     "output_type": "stream",
     "text": [
      "[I 2023-07-07 18:49:29,590] Trial 120 finished with value: 0.843143277092606 and parameters: {'n_estimators': 10000, 'learning_rate': 0.0312300944351482, 'num_leaves': 560, 'max_depth': 4, 'max_bin': 236, 'reg_alpha': 10, 'reg_lambda': 40, 'min_split_gain': 0.8199353031600018, 'subsample': 0.2, 'colsample_bytree': 0.9000000000000001, 'min_child_samples': 397}. Best is trial 107 with value: 0.8359311713500658.\n"
     ]
    },
    {
     "name": "stdout",
     "output_type": "stream",
     "text": [
      "Early stopping, best iteration is:\n",
      "[152]\tvalid_0's mape: 0.167668\tvalid_0's l2: 1.3589\n",
      "Training until validation scores don't improve for 100 rounds\n",
      "Early stopping, best iteration is:\n",
      "[416]\tvalid_0's mape: 0.148832\tvalid_0's l2: 1.1487\n",
      "Training until validation scores don't improve for 100 rounds\n",
      "Early stopping, best iteration is:\n",
      "[545]\tvalid_0's mape: 0.165505\tvalid_0's l2: 1.27763\n",
      "Training until validation scores don't improve for 100 rounds\n",
      "Early stopping, best iteration is:\n",
      "[314]\tvalid_0's mape: 0.166699\tvalid_0's l2: 1.30076\n",
      "Training until validation scores don't improve for 100 rounds\n",
      "Early stopping, best iteration is:\n",
      "[398]\tvalid_0's mape: 0.1544\tvalid_0's l2: 1.23248\n",
      "Training until validation scores don't improve for 100 rounds\n"
     ]
    },
    {
     "name": "stderr",
     "output_type": "stream",
     "text": [
      "[I 2023-07-07 18:49:33,914] Trial 121 finished with value: 0.8383908223531366 and parameters: {'n_estimators': 10000, 'learning_rate': 0.0215429885528882, 'num_leaves': 620, 'max_depth': 4, 'max_bin': 214, 'reg_alpha': 0, 'reg_lambda': 35, 'min_split_gain': 1.352830136957289, 'subsample': 0.2, 'colsample_bytree': 0.9000000000000001, 'min_child_samples': 94}. Best is trial 107 with value: 0.8359311713500658.\n"
     ]
    },
    {
     "name": "stdout",
     "output_type": "stream",
     "text": [
      "Early stopping, best iteration is:\n",
      "[224]\tvalid_0's mape: 0.162255\tvalid_0's l2: 1.2736\n",
      "Training until validation scores don't improve for 100 rounds\n",
      "Early stopping, best iteration is:\n",
      "[484]\tvalid_0's mape: 0.16488\tvalid_0's l2: 1.2824\n",
      "Training until validation scores don't improve for 100 rounds\n",
      "Early stopping, best iteration is:\n",
      "[313]\tvalid_0's mape: 0.156986\tvalid_0's l2: 1.25113\n",
      "Training until validation scores don't improve for 100 rounds\n",
      "Early stopping, best iteration is:\n",
      "[394]\tvalid_0's mape: 0.161915\tvalid_0's l2: 1.27214\n",
      "Training until validation scores don't improve for 100 rounds\n",
      "Early stopping, best iteration is:\n",
      "[551]\tvalid_0's mape: 0.173973\tvalid_0's l2: 1.36313\n",
      "Training until validation scores don't improve for 100 rounds\n"
     ]
    },
    {
     "name": "stderr",
     "output_type": "stream",
     "text": [
      "[I 2023-07-07 18:49:39,964] Trial 122 finished with value: 0.8368682048888351 and parameters: {'n_estimators': 10000, 'learning_rate': 0.01943225348801418, 'num_leaves': 680, 'max_depth': 4, 'max_bin': 216, 'reg_alpha': 0, 'reg_lambda': 45, 'min_split_gain': 0.42266268938567597, 'subsample': 0.5, 'colsample_bytree': 0.6000000000000001, 'min_child_samples': 101}. Best is trial 107 with value: 0.8359311713500658.\n"
     ]
    },
    {
     "name": "stdout",
     "output_type": "stream",
     "text": [
      "Early stopping, best iteration is:\n",
      "[448]\tvalid_0's mape: 0.138612\tvalid_0's l2: 1.03692\n",
      "Training until validation scores don't improve for 100 rounds\n",
      "Early stopping, best iteration is:\n",
      "[383]\tvalid_0's mape: 0.169739\tvalid_0's l2: 1.30999\n",
      "Training until validation scores don't improve for 100 rounds\n",
      "Early stopping, best iteration is:\n",
      "[275]\tvalid_0's mape: 0.151432\tvalid_0's l2: 1.20064\n",
      "Training until validation scores don't improve for 100 rounds\n",
      "Early stopping, best iteration is:\n",
      "[393]\tvalid_0's mape: 0.164781\tvalid_0's l2: 1.23468\n",
      "Training until validation scores don't improve for 100 rounds\n",
      "Early stopping, best iteration is:\n",
      "[218]\tvalid_0's mape: 0.150934\tvalid_0's l2: 1.20819\n",
      "Training until validation scores don't improve for 100 rounds\n"
     ]
    },
    {
     "name": "stderr",
     "output_type": "stream",
     "text": [
      "[I 2023-07-07 18:49:43,236] Trial 123 finished with value: 0.8346402574346241 and parameters: {'n_estimators': 10000, 'learning_rate': 0.0364743093224799, 'num_leaves': 660, 'max_depth': 4, 'max_bin': 217, 'reg_alpha': 10, 'reg_lambda': 45, 'min_split_gain': 0.4234753331579279, 'subsample': 0.5, 'colsample_bytree': 0.9000000000000001, 'min_child_samples': 110}. Best is trial 123 with value: 0.8346402574346241.\n"
     ]
    },
    {
     "name": "stdout",
     "output_type": "stream",
     "text": [
      "Early stopping, best iteration is:\n",
      "[186]\tvalid_0's mape: 0.157684\tvalid_0's l2: 1.2386\n",
      "Training until validation scores don't improve for 100 rounds\n",
      "Early stopping, best iteration is:\n",
      "[327]\tvalid_0's mape: 0.164899\tvalid_0's l2: 1.25283\n",
      "Training until validation scores don't improve for 100 rounds\n",
      "Early stopping, best iteration is:\n",
      "[379]\tvalid_0's mape: 0.158543\tvalid_0's l2: 1.22237\n",
      "Training until validation scores don't improve for 100 rounds\n",
      "Early stopping, best iteration is:\n",
      "[155]\tvalid_0's mape: 0.150895\tvalid_0's l2: 1.20893\n",
      "Training until validation scores don't improve for 100 rounds\n",
      "Early stopping, best iteration is:\n",
      "[107]\tvalid_0's mape: 0.149437\tvalid_0's l2: 1.21013\n",
      "Training until validation scores don't improve for 100 rounds\n"
     ]
    },
    {
     "name": "stderr",
     "output_type": "stream",
     "text": [
      "[I 2023-07-07 18:49:45,886] Trial 124 finished with value: 0.8363277199389205 and parameters: {'n_estimators': 10000, 'learning_rate': 0.03697770407495874, 'num_leaves': 880, 'max_depth': 4, 'max_bin': 217, 'reg_alpha': 0, 'reg_lambda': 50, 'min_split_gain': 0.0009549097205396873, 'subsample': 0.5, 'colsample_bytree': 0.9000000000000001, 'min_child_samples': 108}. Best is trial 123 with value: 0.8346402574346241.\n"
     ]
    },
    {
     "name": "stdout",
     "output_type": "stream",
     "text": [
      "Early stopping, best iteration is:\n",
      "[316]\tvalid_0's mape: 0.173208\tvalid_0's l2: 1.321\n",
      "Training until validation scores don't improve for 100 rounds\n",
      "Early stopping, best iteration is:\n",
      "[150]\tvalid_0's mape: 0.157127\tvalid_0's l2: 1.27707\n",
      "Training until validation scores don't improve for 100 rounds\n",
      "Early stopping, best iteration is:\n",
      "[342]\tvalid_0's mape: 0.164266\tvalid_0's l2: 1.27628\n",
      "Training until validation scores don't improve for 100 rounds\n",
      "Early stopping, best iteration is:\n",
      "[146]\tvalid_0's mape: 0.171091\tvalid_0's l2: 1.3548\n",
      "Training until validation scores don't improve for 100 rounds\n",
      "Early stopping, best iteration is:\n",
      "[250]\tvalid_0's mape: 0.150721\tvalid_0's l2: 1.13399\n",
      "Training until validation scores don't improve for 100 rounds\n"
     ]
    },
    {
     "name": "stderr",
     "output_type": "stream",
     "text": [
      "[I 2023-07-07 18:49:48,195] Trial 125 finished with value: 0.8364107746404805 and parameters: {'n_estimators': 10000, 'learning_rate': 0.04442108950226112, 'num_leaves': 780, 'max_depth': 4, 'max_bin': 218, 'reg_alpha': 0, 'reg_lambda': 50, 'min_split_gain': 0.3511232468046238, 'subsample': 0.5, 'colsample_bytree': 1.0, 'min_child_samples': 107}. Best is trial 123 with value: 0.8346402574346241.\n"
     ]
    },
    {
     "name": "stdout",
     "output_type": "stream",
     "text": [
      "Early stopping, best iteration is:\n",
      "[139]\tvalid_0's mape: 0.152285\tvalid_0's l2: 1.17022\n",
      "Training until validation scores don't improve for 100 rounds\n",
      "Early stopping, best iteration is:\n",
      "[146]\tvalid_0's mape: 0.163087\tvalid_0's l2: 1.28795\n",
      "Training until validation scores don't improve for 100 rounds\n",
      "Early stopping, best iteration is:\n",
      "[262]\tvalid_0's mape: 0.163357\tvalid_0's l2: 1.27603\n",
      "Training until validation scores don't improve for 100 rounds\n",
      "Early stopping, best iteration is:\n",
      "[206]\tvalid_0's mape: 0.156577\tvalid_0's l2: 1.22336\n",
      "Training until validation scores don't improve for 100 rounds\n",
      "Early stopping, best iteration is:\n",
      "[174]\tvalid_0's mape: 0.156255\tvalid_0's l2: 1.18933\n",
      "Training until validation scores don't improve for 100 rounds\n"
     ]
    },
    {
     "name": "stderr",
     "output_type": "stream",
     "text": [
      "[I 2023-07-07 18:49:50,391] Trial 126 finished with value: 0.8371962041055584 and parameters: {'n_estimators': 10000, 'learning_rate': 0.04842030446845503, 'num_leaves': 860, 'max_depth': 4, 'max_bin': 221, 'reg_alpha': 0, 'reg_lambda': 45, 'min_split_gain': 0.38059757287897755, 'subsample': 0.5, 'colsample_bytree': 1.0, 'min_child_samples': 107}. Best is trial 123 with value: 0.8346402574346241.\n"
     ]
    },
    {
     "name": "stdout",
     "output_type": "stream",
     "text": [
      "Early stopping, best iteration is:\n",
      "[136]\tvalid_0's mape: 0.156976\tvalid_0's l2: 1.24222\n",
      "Training until validation scores don't improve for 100 rounds\n",
      "Early stopping, best iteration is:\n",
      "[195]\tvalid_0's mape: 0.155169\tvalid_0's l2: 1.17323\n",
      "Training until validation scores don't improve for 100 rounds\n",
      "Early stopping, best iteration is:\n",
      "[272]\tvalid_0's mape: 0.168949\tvalid_0's l2: 1.33415\n",
      "Training until validation scores don't improve for 100 rounds\n",
      "Early stopping, best iteration is:\n",
      "[135]\tvalid_0's mape: 0.15546\tvalid_0's l2: 1.18948\n",
      "Training until validation scores don't improve for 100 rounds\n",
      "Early stopping, best iteration is:\n",
      "[94]\tvalid_0's mape: 0.154593\tvalid_0's l2: 1.25832\n",
      "Training until validation scores don't improve for 100 rounds\n"
     ]
    },
    {
     "name": "stderr",
     "output_type": "stream",
     "text": [
      "[I 2023-07-07 18:49:52,460] Trial 127 finished with value: 0.8361606515503291 and parameters: {'n_estimators': 10000, 'learning_rate': 0.053793446681414545, 'num_leaves': 880, 'max_depth': 4, 'max_bin': 221, 'reg_alpha': 0, 'reg_lambda': 45, 'min_split_gain': 0.00013121063467302907, 'subsample': 0.5, 'colsample_bytree': 1.0, 'min_child_samples': 125}. Best is trial 123 with value: 0.8346402574346241.\n"
     ]
    },
    {
     "name": "stdout",
     "output_type": "stream",
     "text": [
      "Early stopping, best iteration is:\n",
      "[84]\tvalid_0's mape: 0.162191\tvalid_0's l2: 1.25836\n",
      "Training until validation scores don't improve for 100 rounds\n",
      "Early stopping, best iteration is:\n",
      "[204]\tvalid_0's mape: 0.155249\tvalid_0's l2: 1.19773\n",
      "Training until validation scores don't improve for 100 rounds\n",
      "Early stopping, best iteration is:\n",
      "[194]\tvalid_0's mape: 0.169439\tvalid_0's l2: 1.31023\n",
      "Training until validation scores don't improve for 100 rounds\n",
      "Early stopping, best iteration is:\n",
      "[148]\tvalid_0's mape: 0.162879\tvalid_0's l2: 1.27156\n",
      "Training until validation scores don't improve for 100 rounds\n",
      "Early stopping, best iteration is:\n",
      "[117]\tvalid_0's mape: 0.152397\tvalid_0's l2: 1.20046\n",
      "Training until validation scores don't improve for 100 rounds\n"
     ]
    },
    {
     "name": "stderr",
     "output_type": "stream",
     "text": [
      "[I 2023-07-07 18:49:54,821] Trial 128 finished with value: 0.8368633603734079 and parameters: {'n_estimators': 10000, 'learning_rate': 0.051444888483051725, 'num_leaves': 880, 'max_depth': 4, 'max_bin': 218, 'reg_alpha': 0, 'reg_lambda': 50, 'min_split_gain': 0.3387386382284414, 'subsample': 0.5, 'colsample_bytree': 1.0, 'min_child_samples': 112}. Best is trial 123 with value: 0.8346402574346241.\n"
     ]
    },
    {
     "name": "stdout",
     "output_type": "stream",
     "text": [
      "Early stopping, best iteration is:\n",
      "[295]\tvalid_0's mape: 0.156071\tvalid_0's l2: 1.23598\n",
      "Training until validation scores don't improve for 100 rounds\n",
      "Early stopping, best iteration is:\n",
      "[106]\tvalid_0's mape: 0.159745\tvalid_0's l2: 1.27683\n",
      "Training until validation scores don't improve for 100 rounds\n",
      "Early stopping, best iteration is:\n",
      "[73]\tvalid_0's mape: 0.160949\tvalid_0's l2: 1.25815\n",
      "Training until validation scores don't improve for 100 rounds\n",
      "Early stopping, best iteration is:\n",
      "[65]\tvalid_0's mape: 0.162642\tvalid_0's l2: 1.25412\n",
      "Training until validation scores don't improve for 100 rounds\n",
      "Early stopping, best iteration is:\n",
      "[118]\tvalid_0's mape: 0.158431\tvalid_0's l2: 1.22255\n",
      "Training until validation scores don't improve for 100 rounds\n"
     ]
    },
    {
     "name": "stderr",
     "output_type": "stream",
     "text": [
      "[I 2023-07-07 18:49:58,828] Trial 129 finished with value: 0.8405923817972341 and parameters: {'n_estimators': 10000, 'learning_rate': 0.06388522583154031, 'num_leaves': 900, 'max_depth': 11, 'max_bin': 218, 'reg_alpha': 0, 'reg_lambda': 45, 'min_split_gain': 0.08931027750922776, 'subsample': 0.5, 'colsample_bytree': 1.0, 'min_child_samples': 108}. Best is trial 123 with value: 0.8346402574346241.\n"
     ]
    },
    {
     "name": "stdout",
     "output_type": "stream",
     "text": [
      "Early stopping, best iteration is:\n",
      "[61]\tvalid_0's mape: 0.157464\tvalid_0's l2: 1.23844\n",
      "Training until validation scores don't improve for 100 rounds\n",
      "Early stopping, best iteration is:\n",
      "[191]\tvalid_0's mape: 0.163257\tvalid_0's l2: 1.27096\n",
      "Training until validation scores don't improve for 100 rounds\n",
      "Early stopping, best iteration is:\n",
      "[171]\tvalid_0's mape: 0.165589\tvalid_0's l2: 1.2789\n",
      "Training until validation scores don't improve for 100 rounds\n",
      "Early stopping, best iteration is:\n",
      "[148]\tvalid_0's mape: 0.155958\tvalid_0's l2: 1.22544\n",
      "Training until validation scores don't improve for 100 rounds\n",
      "Early stopping, best iteration is:\n",
      "[198]\tvalid_0's mape: 0.152\tvalid_0's l2: 1.17596\n",
      "Training until validation scores don't improve for 100 rounds\n"
     ]
    },
    {
     "name": "stderr",
     "output_type": "stream",
     "text": [
      "[I 2023-07-07 18:50:01,115] Trial 130 finished with value: 0.8345756025648694 and parameters: {'n_estimators': 10000, 'learning_rate': 0.04713534502809059, 'num_leaves': 1040, 'max_depth': 4, 'max_bin': 222, 'reg_alpha': 0, 'reg_lambda': 50, 'min_split_gain': 0.3390448516182192, 'subsample': 0.5, 'colsample_bytree': 1.0, 'min_child_samples': 127}. Best is trial 130 with value: 0.8345756025648694.\n"
     ]
    },
    {
     "name": "stdout",
     "output_type": "stream",
     "text": [
      "Early stopping, best iteration is:\n",
      "[163]\tvalid_0's mape: 0.157999\tvalid_0's l2: 1.24515\n",
      "Training until validation scores don't improve for 100 rounds\n",
      "Early stopping, best iteration is:\n",
      "[238]\tvalid_0's mape: 0.161598\tvalid_0's l2: 1.26118\n",
      "Training until validation scores don't improve for 100 rounds\n",
      "Early stopping, best iteration is:\n",
      "[154]\tvalid_0's mape: 0.157002\tvalid_0's l2: 1.21359\n",
      "Training until validation scores don't improve for 100 rounds\n",
      "Early stopping, best iteration is:\n",
      "[130]\tvalid_0's mape: 0.151923\tvalid_0's l2: 1.22053\n",
      "Training until validation scores don't improve for 100 rounds\n",
      "Early stopping, best iteration is:\n",
      "[197]\tvalid_0's mape: 0.162868\tvalid_0's l2: 1.279\n",
      "Training until validation scores don't improve for 100 rounds\n"
     ]
    },
    {
     "name": "stderr",
     "output_type": "stream",
     "text": [
      "[I 2023-07-07 18:50:03,494] Trial 131 finished with value: 0.8365441418256273 and parameters: {'n_estimators': 10000, 'learning_rate': 0.04749178948174379, 'num_leaves': 1040, 'max_depth': 4, 'max_bin': 222, 'reg_alpha': 0, 'reg_lambda': 50, 'min_split_gain': 0.32585723455162063, 'subsample': 0.5, 'colsample_bytree': 1.0, 'min_child_samples': 125}. Best is trial 130 with value: 0.8345756025648694.\n"
     ]
    },
    {
     "name": "stdout",
     "output_type": "stream",
     "text": [
      "Early stopping, best iteration is:\n",
      "[169]\tvalid_0's mape: 0.163445\tvalid_0's l2: 1.24637\n",
      "Training until validation scores don't improve for 100 rounds\n",
      "Early stopping, best iteration is:\n",
      "[103]\tvalid_0's mape: 0.152437\tvalid_0's l2: 1.20703\n",
      "Training until validation scores don't improve for 100 rounds\n",
      "Early stopping, best iteration is:\n",
      "[107]\tvalid_0's mape: 0.156057\tvalid_0's l2: 1.23576\n",
      "Training until validation scores don't improve for 100 rounds\n",
      "Early stopping, best iteration is:\n",
      "[88]\tvalid_0's mape: 0.164645\tvalid_0's l2: 1.28511\n",
      "Training until validation scores don't improve for 100 rounds\n",
      "Early stopping, best iteration is:\n",
      "[113]\tvalid_0's mape: 0.164019\tvalid_0's l2: 1.23946\n",
      "Training until validation scores don't improve for 100 rounds\n"
     ]
    },
    {
     "name": "stderr",
     "output_type": "stream",
     "text": [
      "[I 2023-07-07 18:50:07,435] Trial 132 finished with value: 0.8390713519778705 and parameters: {'n_estimators': 10000, 'learning_rate': 0.05452981008008223, 'num_leaves': 1040, 'max_depth': 10, 'max_bin': 222, 'reg_alpha': 0, 'reg_lambda': 50, 'min_split_gain': 0.04892949614736742, 'subsample': 0.5, 'colsample_bytree': 1.0, 'min_child_samples': 123}. Best is trial 130 with value: 0.8345756025648694.\n"
     ]
    },
    {
     "name": "stdout",
     "output_type": "stream",
     "text": [
      "Early stopping, best iteration is:\n",
      "[148]\tvalid_0's mape: 0.16026\tvalid_0's l2: 1.27299\n",
      "Training until validation scores don't improve for 100 rounds\n",
      "Early stopping, best iteration is:\n",
      "[293]\tvalid_0's mape: 0.155514\tvalid_0's l2: 1.26244\n",
      "Training until validation scores don't improve for 100 rounds\n",
      "Early stopping, best iteration is:\n",
      "[159]\tvalid_0's mape: 0.161725\tvalid_0's l2: 1.25774\n",
      "Training until validation scores don't improve for 100 rounds\n",
      "Early stopping, best iteration is:\n",
      "[189]\tvalid_0's mape: 0.165365\tvalid_0's l2: 1.2685\n",
      "Training until validation scores don't improve for 100 rounds\n",
      "Early stopping, best iteration is:\n",
      "[189]\tvalid_0's mape: 0.161963\tvalid_0's l2: 1.27295\n",
      "Training until validation scores don't improve for 100 rounds\n"
     ]
    },
    {
     "name": "stderr",
     "output_type": "stream",
     "text": [
      "[I 2023-07-07 18:50:09,692] Trial 133 finished with value: 0.8374376350911901 and parameters: {'n_estimators': 10000, 'learning_rate': 0.044090699488337146, 'num_leaves': 1000, 'max_depth': 4, 'max_bin': 219, 'reg_alpha': 0, 'reg_lambda': 50, 'min_split_gain': 0.3033630735084822, 'subsample': 0.5, 'colsample_bytree': 1.0, 'min_child_samples': 131}. Best is trial 130 with value: 0.8345756025648694.\n"
     ]
    },
    {
     "name": "stdout",
     "output_type": "stream",
     "text": [
      "Early stopping, best iteration is:\n",
      "[145]\tvalid_0's mape: 0.153036\tvalid_0's l2: 1.18107\n",
      "Training until validation scores don't improve for 100 rounds\n",
      "Early stopping, best iteration is:\n",
      "[135]\tvalid_0's mape: 0.156446\tvalid_0's l2: 1.21898\n",
      "Training until validation scores don't improve for 100 rounds\n",
      "Early stopping, best iteration is:\n",
      "[137]\tvalid_0's mape: 0.173382\tvalid_0's l2: 1.35141\n",
      "Training until validation scores don't improve for 100 rounds\n",
      "Early stopping, best iteration is:\n",
      "[131]\tvalid_0's mape: 0.154306\tvalid_0's l2: 1.18547\n",
      "Training until validation scores don't improve for 100 rounds\n",
      "Early stopping, best iteration is:\n",
      "[109]\tvalid_0's mape: 0.162575\tvalid_0's l2: 1.30649\n",
      "Training until validation scores don't improve for 100 rounds\n"
     ]
    },
    {
     "name": "stderr",
     "output_type": "stream",
     "text": [
      "[I 2023-07-07 18:50:11,564] Trial 134 finished with value: 0.8383625347381903 and parameters: {'n_estimators': 10000, 'learning_rate': 0.056008389517415186, 'num_leaves': 880, 'max_depth': 4, 'max_bin': 217, 'reg_alpha': 0, 'reg_lambda': 50, 'min_split_gain': 0.240329936719831, 'subsample': 0.5, 'colsample_bytree': 1.0, 'min_child_samples': 125}. Best is trial 130 with value: 0.8345756025648694.\n"
     ]
    },
    {
     "name": "stdout",
     "output_type": "stream",
     "text": [
      "Early stopping, best iteration is:\n",
      "[135]\tvalid_0's mape: 0.151877\tvalid_0's l2: 1.19071\n",
      "Training until validation scores don't improve for 100 rounds\n",
      "Early stopping, best iteration is:\n",
      "[141]\tvalid_0's mape: 0.159827\tvalid_0's l2: 1.2981\n",
      "Training until validation scores don't improve for 100 rounds\n",
      "Early stopping, best iteration is:\n",
      "[194]\tvalid_0's mape: 0.170275\tvalid_0's l2: 1.30145\n",
      "Training until validation scores don't improve for 100 rounds\n",
      "Early stopping, best iteration is:\n",
      "[140]\tvalid_0's mape: 0.152153\tvalid_0's l2: 1.21856\n",
      "Training until validation scores don't improve for 100 rounds\n",
      "Early stopping, best iteration is:\n",
      "[345]\tvalid_0's mape: 0.165151\tvalid_0's l2: 1.28595\n",
      "Training until validation scores don't improve for 100 rounds\n"
     ]
    },
    {
     "name": "stderr",
     "output_type": "stream",
     "text": [
      "[I 2023-07-07 18:50:13,938] Trial 135 finished with value: 0.8374105531088706 and parameters: {'n_estimators': 10000, 'learning_rate': 0.047202591625760834, 'num_leaves': 1080, 'max_depth': 4, 'max_bin': 216, 'reg_alpha': 0, 'reg_lambda': 45, 'min_split_gain': 0.04462817861973983, 'subsample': 0.5, 'colsample_bytree': 1.0, 'min_child_samples': 150}. Best is trial 130 with value: 0.8345756025648694.\n"
     ]
    },
    {
     "name": "stdout",
     "output_type": "stream",
     "text": [
      "Early stopping, best iteration is:\n",
      "[228]\tvalid_0's mape: 0.149426\tvalid_0's l2: 1.12031\n",
      "Training until validation scores don't improve for 100 rounds\n",
      "Early stopping, best iteration is:\n",
      "[83]\tvalid_0's mape: 0.166997\tvalid_0's l2: 1.31878\n",
      "Training until validation scores don't improve for 100 rounds\n",
      "Early stopping, best iteration is:\n",
      "[132]\tvalid_0's mape: 0.158984\tvalid_0's l2: 1.25399\n",
      "Training until validation scores don't improve for 100 rounds\n",
      "Early stopping, best iteration is:\n",
      "[130]\tvalid_0's mape: 0.148546\tvalid_0's l2: 1.1546\n",
      "Training until validation scores don't improve for 100 rounds\n",
      "Early stopping, best iteration is:\n",
      "[144]\tvalid_0's mape: 0.158438\tvalid_0's l2: 1.24828\n",
      "Training until validation scores don't improve for 100 rounds\n"
     ]
    },
    {
     "name": "stderr",
     "output_type": "stream",
     "text": [
      "[I 2023-07-07 18:50:15,579] Trial 136 finished with value: 0.8359942575988111 and parameters: {'n_estimators': 10000, 'learning_rate': 0.06397452551460737, 'num_leaves': 960, 'max_depth': 4, 'max_bin': 220, 'reg_alpha': 5, 'reg_lambda': 50, 'min_split_gain': 1.0353645852779014, 'subsample': 0.5, 'colsample_bytree': 1.0, 'min_child_samples': 136}. Best is trial 130 with value: 0.8345756025648694.\n"
     ]
    },
    {
     "name": "stdout",
     "output_type": "stream",
     "text": [
      "Early stopping, best iteration is:\n",
      "[91]\tvalid_0's mape: 0.163184\tvalid_0's l2: 1.24072\n",
      "Training until validation scores don't improve for 100 rounds\n",
      "Early stopping, best iteration is:\n",
      "[275]\tvalid_0's mape: 0.159364\tvalid_0's l2: 1.25426\n",
      "Training until validation scores don't improve for 100 rounds\n",
      "Early stopping, best iteration is:\n",
      "[218]\tvalid_0's mape: 0.159399\tvalid_0's l2: 1.23862\n",
      "Training until validation scores don't improve for 100 rounds\n",
      "Early stopping, best iteration is:\n",
      "[248]\tvalid_0's mape: 0.168425\tvalid_0's l2: 1.2939\n",
      "Training until validation scores don't improve for 100 rounds\n",
      "Early stopping, best iteration is:\n",
      "[178]\tvalid_0's mape: 0.153527\tvalid_0's l2: 1.2018\n",
      "Training until validation scores don't improve for 100 rounds\n"
     ]
    },
    {
     "name": "stderr",
     "output_type": "stream",
     "text": [
      "[I 2023-07-07 18:50:18,210] Trial 137 finished with value: 0.8348846789969663 and parameters: {'n_estimators': 10000, 'learning_rate': 0.0398701518168727, 'num_leaves': 960, 'max_depth': 4, 'max_bin': 220, 'reg_alpha': 5, 'reg_lambda': 50, 'min_split_gain': 0.4432789090255863, 'subsample': 0.5, 'colsample_bytree': 1.0, 'min_child_samples': 113}. Best is trial 130 with value: 0.8345756025648694.\n"
     ]
    },
    {
     "name": "stdout",
     "output_type": "stream",
     "text": [
      "Early stopping, best iteration is:\n",
      "[384]\tvalid_0's mape: 0.154279\tvalid_0's l2: 1.2194\n",
      "Training until validation scores don't improve for 100 rounds\n",
      "Early stopping, best iteration is:\n",
      "[244]\tvalid_0's mape: 0.152011\tvalid_0's l2: 1.17603\n",
      "Training until validation scores don't improve for 100 rounds\n",
      "Early stopping, best iteration is:\n",
      "[175]\tvalid_0's mape: 0.166844\tvalid_0's l2: 1.31592\n",
      "Training until validation scores don't improve for 100 rounds\n",
      "Early stopping, best iteration is:\n",
      "[232]\tvalid_0's mape: 0.157093\tvalid_0's l2: 1.22586\n",
      "Training until validation scores don't improve for 100 rounds\n",
      "Early stopping, best iteration is:\n",
      "[157]\tvalid_0's mape: 0.157865\tvalid_0's l2: 1.22391\n",
      "Training until validation scores don't improve for 100 rounds\n"
     ]
    },
    {
     "name": "stderr",
     "output_type": "stream",
     "text": [
      "[I 2023-07-07 18:50:20,387] Trial 138 finished with value: 0.8386663520844839 and parameters: {'n_estimators': 10000, 'learning_rate': 0.04247541856574691, 'num_leaves': 1160, 'max_depth': 4, 'max_bin': 220, 'reg_alpha': 5, 'reg_lambda': 50, 'min_split_gain': 0.9795070620165396, 'subsample': 0.5, 'colsample_bytree': 1.0, 'min_child_samples': 115}. Best is trial 130 with value: 0.8345756025648694.\n"
     ]
    },
    {
     "name": "stdout",
     "output_type": "stream",
     "text": [
      "Early stopping, best iteration is:\n",
      "[218]\tvalid_0's mape: 0.163817\tvalid_0's l2: 1.29252\n",
      "Training until validation scores don't improve for 100 rounds\n",
      "Early stopping, best iteration is:\n",
      "[137]\tvalid_0's mape: 0.157677\tvalid_0's l2: 1.18913\n",
      "Training until validation scores don't improve for 100 rounds\n",
      "Early stopping, best iteration is:\n",
      "[131]\tvalid_0's mape: 0.162115\tvalid_0's l2: 1.25931\n",
      "Training until validation scores don't improve for 100 rounds\n",
      "Early stopping, best iteration is:\n",
      "[86]\tvalid_0's mape: 0.156144\tvalid_0's l2: 1.25094\n",
      "Training until validation scores don't improve for 100 rounds\n",
      "Early stopping, best iteration is:\n",
      "[126]\tvalid_0's mape: 0.159349\tvalid_0's l2: 1.28053\n",
      "Training until validation scores don't improve for 100 rounds\n"
     ]
    },
    {
     "name": "stderr",
     "output_type": "stream",
     "text": [
      "[I 2023-07-07 18:50:22,004] Trial 139 finished with value: 0.8380004572133132 and parameters: {'n_estimators': 10000, 'learning_rate': 0.06317016961382232, 'num_leaves': 960, 'max_depth': 4, 'max_bin': 222, 'reg_alpha': 5, 'reg_lambda': 55, 'min_split_gain': 1.0721497542213254, 'subsample': 0.5, 'colsample_bytree': 1.0, 'min_child_samples': 137}. Best is trial 130 with value: 0.8345756025648694.\n"
     ]
    },
    {
     "name": "stdout",
     "output_type": "stream",
     "text": [
      "Early stopping, best iteration is:\n",
      "[79]\tvalid_0's mape: 0.16361\tvalid_0's l2: 1.26924\n",
      "Training until validation scores don't improve for 100 rounds\n",
      "Early stopping, best iteration is:\n",
      "[233]\tvalid_0's mape: 0.167338\tvalid_0's l2: 1.30096\n",
      "Training until validation scores don't improve for 100 rounds\n",
      "Early stopping, best iteration is:\n",
      "[115]\tvalid_0's mape: 0.158876\tvalid_0's l2: 1.27168\n",
      "Training until validation scores don't improve for 100 rounds\n",
      "Early stopping, best iteration is:\n",
      "[205]\tvalid_0's mape: 0.149717\tvalid_0's l2: 1.16556\n",
      "Training until validation scores don't improve for 100 rounds\n",
      "Early stopping, best iteration is:\n",
      "[167]\tvalid_0's mape: 0.16866\tvalid_0's l2: 1.30315\n",
      "Training until validation scores don't improve for 100 rounds\n"
     ]
    },
    {
     "name": "stderr",
     "output_type": "stream",
     "text": [
      "[I 2023-07-07 18:50:24,360] Trial 140 finished with value: 0.8395627198557684 and parameters: {'n_estimators': 10000, 'learning_rate': 0.05123991151578359, 'num_leaves': 940, 'max_depth': 4, 'max_bin': 223, 'reg_alpha': 5, 'reg_lambda': 50, 'min_split_gain': 0.37402962992315275, 'subsample': 0.5, 'colsample_bytree': 1.0, 'min_child_samples': 112}. Best is trial 130 with value: 0.8345756025648694.\n"
     ]
    },
    {
     "name": "stdout",
     "output_type": "stream",
     "text": [
      "Early stopping, best iteration is:\n",
      "[194]\tvalid_0's mape: 0.154159\tvalid_0's l2: 1.20429\n",
      "Training until validation scores don't improve for 100 rounds\n",
      "Early stopping, best iteration is:\n",
      "[311]\tvalid_0's mape: 0.159782\tvalid_0's l2: 1.20177\n",
      "Training until validation scores don't improve for 100 rounds\n",
      "Early stopping, best iteration is:\n",
      "[283]\tvalid_0's mape: 0.149457\tvalid_0's l2: 1.14332\n",
      "Training until validation scores don't improve for 100 rounds\n",
      "Early stopping, best iteration is:\n",
      "[171]\tvalid_0's mape: 0.15857\tvalid_0's l2: 1.26561\n",
      "Training until validation scores don't improve for 100 rounds\n",
      "Early stopping, best iteration is:\n",
      "[279]\tvalid_0's mape: 0.15937\tvalid_0's l2: 1.2483\n",
      "Training until validation scores don't improve for 100 rounds\n"
     ]
    },
    {
     "name": "stderr",
     "output_type": "stream",
     "text": [
      "[I 2023-07-07 18:50:27,207] Trial 141 finished with value: 0.8376200355888086 and parameters: {'n_estimators': 10000, 'learning_rate': 0.032727173439899504, 'num_leaves': 1020, 'max_depth': 4, 'max_bin': 214, 'reg_alpha': 0, 'reg_lambda': 50, 'min_split_gain': 0.45718298629309445, 'subsample': 0.5, 'colsample_bytree': 1.0, 'min_child_samples': 95}. Best is trial 130 with value: 0.8345756025648694.\n"
     ]
    },
    {
     "name": "stdout",
     "output_type": "stream",
     "text": [
      "Early stopping, best iteration is:\n",
      "[224]\tvalid_0's mape: 0.169632\tvalid_0's l2: 1.36293\n",
      "Training until validation scores don't improve for 100 rounds\n",
      "Early stopping, best iteration is:\n",
      "[301]\tvalid_0's mape: 0.174087\tvalid_0's l2: 1.36352\n",
      "Training until validation scores don't improve for 100 rounds\n",
      "Early stopping, best iteration is:\n",
      "[168]\tvalid_0's mape: 0.150706\tvalid_0's l2: 1.14415\n",
      "Training until validation scores don't improve for 100 rounds\n",
      "Early stopping, best iteration is:\n",
      "[250]\tvalid_0's mape: 0.153566\tvalid_0's l2: 1.20194\n",
      "Training until validation scores don't improve for 100 rounds\n",
      "Early stopping, best iteration is:\n",
      "[373]\tvalid_0's mape: 0.162708\tvalid_0's l2: 1.30569\n",
      "Training until validation scores don't improve for 100 rounds\n"
     ]
    },
    {
     "name": "stderr",
     "output_type": "stream",
     "text": [
      "[I 2023-07-07 18:50:30,274] Trial 142 finished with value: 0.8362476707877967 and parameters: {'n_estimators': 10000, 'learning_rate': 0.03784664711080931, 'num_leaves': 840, 'max_depth': 4, 'max_bin': 218, 'reg_alpha': 5, 'reg_lambda': 45, 'min_split_gain': 0.40224241493609203, 'subsample': 0.5, 'colsample_bytree': 1.0, 'min_child_samples': 121}. Best is trial 130 with value: 0.8345756025648694.\n"
     ]
    },
    {
     "name": "stdout",
     "output_type": "stream",
     "text": [
      "Early stopping, best iteration is:\n",
      "[204]\tvalid_0's mape: 0.155608\tvalid_0's l2: 1.219\n",
      "Training until validation scores don't improve for 100 rounds\n",
      "Early stopping, best iteration is:\n",
      "[248]\tvalid_0's mape: 0.165459\tvalid_0's l2: 1.23423\n",
      "Training until validation scores don't improve for 100 rounds\n",
      "Early stopping, best iteration is:\n",
      "[147]\tvalid_0's mape: 0.150091\tvalid_0's l2: 1.17765\n",
      "Training until validation scores don't improve for 100 rounds\n",
      "Early stopping, best iteration is:\n",
      "[135]\tvalid_0's mape: 0.167624\tvalid_0's l2: 1.30056\n",
      "Training until validation scores don't improve for 100 rounds\n",
      "Early stopping, best iteration is:\n",
      "[138]\tvalid_0's mape: 0.159843\tvalid_0's l2: 1.29059\n",
      "Training until validation scores don't improve for 100 rounds\n"
     ]
    },
    {
     "name": "stderr",
     "output_type": "stream",
     "text": [
      "[I 2023-07-07 18:50:32,790] Trial 143 finished with value: 0.8382734076842745 and parameters: {'n_estimators': 10000, 'learning_rate': 0.03857944409981063, 'num_leaves': 820, 'max_depth': 5, 'max_bin': 219, 'reg_alpha': 5, 'reg_lambda': 55, 'min_split_gain': 1.0132671028781126, 'subsample': 0.5, 'colsample_bytree': 1.0, 'min_child_samples': 121}. Best is trial 130 with value: 0.8345756025648694.\n"
     ]
    },
    {
     "name": "stdout",
     "output_type": "stream",
     "text": [
      "Early stopping, best iteration is:\n",
      "[170]\tvalid_0's mape: 0.154855\tvalid_0's l2: 1.23538\n",
      "Training until validation scores don't improve for 100 rounds\n",
      "Early stopping, best iteration is:\n",
      "[208]\tvalid_0's mape: 0.167875\tvalid_0's l2: 1.28845\n",
      "Training until validation scores don't improve for 100 rounds\n",
      "Early stopping, best iteration is:\n",
      "[119]\tvalid_0's mape: 0.147134\tvalid_0's l2: 1.12776\n",
      "Training until validation scores don't improve for 100 rounds\n",
      "Early stopping, best iteration is:\n",
      "[146]\tvalid_0's mape: 0.162239\tvalid_0's l2: 1.28551\n",
      "Training until validation scores don't improve for 100 rounds\n",
      "Early stopping, best iteration is:\n",
      "[161]\tvalid_0's mape: 0.170655\tvalid_0's l2: 1.34766\n",
      "Training until validation scores don't improve for 100 rounds\n"
     ]
    },
    {
     "name": "stderr",
     "output_type": "stream",
     "text": [
      "[I 2023-07-07 18:50:34,728] Trial 144 finished with value: 0.8387059197618664 and parameters: {'n_estimators': 10000, 'learning_rate': 0.0568175102301724, 'num_leaves': 900, 'max_depth': 4, 'max_bin': 221, 'reg_alpha': 5, 'reg_lambda': 50, 'min_split_gain': 0.34944525146081457, 'subsample': 0.5, 'colsample_bytree': 1.0, 'min_child_samples': 150}. Best is trial 130 with value: 0.8345756025648694.\n"
     ]
    },
    {
     "name": "stdout",
     "output_type": "stream",
     "text": [
      "Early stopping, best iteration is:\n",
      "[70]\tvalid_0's mape: 0.151384\tvalid_0's l2: 1.20049\n",
      "Training until validation scores don't improve for 100 rounds\n",
      "Early stopping, best iteration is:\n",
      "[183]\tvalid_0's mape: 0.160678\tvalid_0's l2: 1.23171\n",
      "Training until validation scores don't improve for 100 rounds\n",
      "Early stopping, best iteration is:\n",
      "[183]\tvalid_0's mape: 0.1558\tvalid_0's l2: 1.21565\n",
      "Training until validation scores don't improve for 100 rounds\n",
      "Early stopping, best iteration is:\n",
      "[139]\tvalid_0's mape: 0.16673\tvalid_0's l2: 1.32489\n",
      "Training until validation scores don't improve for 100 rounds\n",
      "Early stopping, best iteration is:\n",
      "[210]\tvalid_0's mape: 0.160425\tvalid_0's l2: 1.26162\n",
      "Training until validation scores don't improve for 100 rounds\n"
     ]
    },
    {
     "name": "stderr",
     "output_type": "stream",
     "text": [
      "[I 2023-07-07 18:50:36,668] Trial 145 finished with value: 0.8397184899297485 and parameters: {'n_estimators': 10000, 'learning_rate': 0.04631439293506626, 'num_leaves': 1100, 'max_depth': 4, 'max_bin': 212, 'reg_alpha': 5, 'reg_lambda': 40, 'min_split_gain': 1.0862246083537226, 'subsample': 0.4, 'colsample_bytree': 1.0, 'min_child_samples': 137}. Best is trial 130 with value: 0.8345756025648694.\n"
     ]
    },
    {
     "name": "stdout",
     "output_type": "stream",
     "text": [
      "Early stopping, best iteration is:\n",
      "[115]\tvalid_0's mape: 0.156147\tvalid_0's l2: 1.2158\n",
      "Training until validation scores don't improve for 100 rounds\n",
      "Early stopping, best iteration is:\n",
      "[199]\tvalid_0's mape: 0.155216\tvalid_0's l2: 1.16809\n",
      "Training until validation scores don't improve for 100 rounds\n",
      "Early stopping, best iteration is:\n",
      "[315]\tvalid_0's mape: 0.160088\tvalid_0's l2: 1.23333\n",
      "Training until validation scores don't improve for 100 rounds\n",
      "Early stopping, best iteration is:\n",
      "[224]\tvalid_0's mape: 0.16278\tvalid_0's l2: 1.27366\n",
      "Training until validation scores don't improve for 100 rounds\n",
      "Early stopping, best iteration is:\n",
      "[310]\tvalid_0's mape: 0.175075\tvalid_0's l2: 1.37427\n",
      "Training until validation scores don't improve for 100 rounds\n"
     ]
    },
    {
     "name": "stderr",
     "output_type": "stream",
     "text": [
      "[I 2023-07-07 18:50:39,475] Trial 146 finished with value: 0.8375933304659668 and parameters: {'n_estimators': 10000, 'learning_rate': 0.031086903623239428, 'num_leaves': 980, 'max_depth': 4, 'max_bin': 224, 'reg_alpha': 5, 'reg_lambda': 45, 'min_split_gain': 0.011059977301767774, 'subsample': 0.5, 'colsample_bytree': 1.0, 'min_child_samples': 80}. Best is trial 130 with value: 0.8345756025648694.\n"
     ]
    },
    {
     "name": "stdout",
     "output_type": "stream",
     "text": [
      "Early stopping, best iteration is:\n",
      "[269]\tvalid_0's mape: 0.143897\tvalid_0's l2: 1.17811\n",
      "Training until validation scores don't improve for 100 rounds\n",
      "Early stopping, best iteration is:\n",
      "[126]\tvalid_0's mape: 0.162469\tvalid_0's l2: 1.25719\n",
      "Training until validation scores don't improve for 100 rounds\n",
      "Early stopping, best iteration is:\n",
      "[193]\tvalid_0's mape: 0.160775\tvalid_0's l2: 1.2667\n",
      "Training until validation scores don't improve for 100 rounds\n",
      "Early stopping, best iteration is:\n",
      "[205]\tvalid_0's mape: 0.157066\tvalid_0's l2: 1.19825\n",
      "Training until validation scores don't improve for 100 rounds\n",
      "Early stopping, best iteration is:\n",
      "[201]\tvalid_0's mape: 0.163717\tvalid_0's l2: 1.29384\n",
      "Training until validation scores don't improve for 100 rounds\n"
     ]
    },
    {
     "name": "stderr",
     "output_type": "stream",
     "text": [
      "[I 2023-07-07 18:50:41,991] Trial 147 finished with value: 0.8383686012026444 and parameters: {'n_estimators': 10000, 'learning_rate': 0.03935244329388013, 'num_leaves': 780, 'max_depth': 5, 'max_bin': 272, 'reg_alpha': 0, 'reg_lambda': 50, 'min_split_gain': 1.273542890793004, 'subsample': 0.5, 'colsample_bytree': 1.0, 'min_child_samples': 106}. Best is trial 130 with value: 0.8345756025648694.\n"
     ]
    },
    {
     "name": "stdout",
     "output_type": "stream",
     "text": [
      "Early stopping, best iteration is:\n",
      "[151]\tvalid_0's mape: 0.153501\tvalid_0's l2: 1.21776\n",
      "Training until validation scores don't improve for 100 rounds\n",
      "Early stopping, best iteration is:\n",
      "[123]\tvalid_0's mape: 0.158667\tvalid_0's l2: 1.22958\n",
      "Training until validation scores don't improve for 100 rounds\n",
      "Early stopping, best iteration is:\n",
      "[121]\tvalid_0's mape: 0.153731\tvalid_0's l2: 1.18126\n",
      "Training until validation scores don't improve for 100 rounds\n",
      "Early stopping, best iteration is:\n",
      "[90]\tvalid_0's mape: 0.161358\tvalid_0's l2: 1.25939\n",
      "Training until validation scores don't improve for 100 rounds\n",
      "Early stopping, best iteration is:\n",
      "[142]\tvalid_0's mape: 0.154836\tvalid_0's l2: 1.23544\n",
      "Training until validation scores don't improve for 100 rounds\n"
     ]
    },
    {
     "name": "stderr",
     "output_type": "stream",
     "text": [
      "[I 2023-07-07 18:50:43,977] Trial 148 finished with value: 0.8363046498542828 and parameters: {'n_estimators': 10000, 'learning_rate': 0.0589454265025014, 'num_leaves': 940, 'max_depth': 4, 'max_bin': 218, 'reg_alpha': 5, 'reg_lambda': 45, 'min_split_gain': 0.5453517872942967, 'subsample': 0.4, 'colsample_bytree': 1.0, 'min_child_samples': 121}. Best is trial 130 with value: 0.8345756025648694.\n"
     ]
    },
    {
     "name": "stdout",
     "output_type": "stream",
     "text": [
      "Early stopping, best iteration is:\n",
      "[198]\tvalid_0's mape: 0.168266\tvalid_0's l2: 1.32907\n",
      "Training until validation scores don't improve for 100 rounds\n",
      "Early stopping, best iteration is:\n",
      "[104]\tvalid_0's mape: 0.160189\tvalid_0's l2: 1.25088\n",
      "Training until validation scores don't improve for 100 rounds\n",
      "Early stopping, best iteration is:\n",
      "[98]\tvalid_0's mape: 0.162021\tvalid_0's l2: 1.27408\n",
      "Training until validation scores don't improve for 100 rounds\n",
      "Early stopping, best iteration is:\n",
      "[140]\tvalid_0's mape: 0.158684\tvalid_0's l2: 1.26962\n",
      "Training until validation scores don't improve for 100 rounds\n",
      "Early stopping, best iteration is:\n",
      "[142]\tvalid_0's mape: 0.159985\tvalid_0's l2: 1.26438\n",
      "Training until validation scores don't improve for 100 rounds\n"
     ]
    },
    {
     "name": "stderr",
     "output_type": "stream",
     "text": [
      "[I 2023-07-07 18:50:45,555] Trial 149 finished with value: 0.8396581148447574 and parameters: {'n_estimators': 10000, 'learning_rate': 0.06255772406588148, 'num_leaves': 1060, 'max_depth': 4, 'max_bin': 226, 'reg_alpha': 10, 'reg_lambda': 40, 'min_split_gain': 0.8242350545642032, 'subsample': 0.4, 'colsample_bytree': 1.0, 'min_child_samples': 313}. Best is trial 130 with value: 0.8345756025648694.\n"
     ]
    },
    {
     "name": "stdout",
     "output_type": "stream",
     "text": [
      "Early stopping, best iteration is:\n",
      "[125]\tvalid_0's mape: 0.160318\tvalid_0's l2: 1.22048\n",
      "Training until validation scores don't improve for 100 rounds\n",
      "Early stopping, best iteration is:\n",
      "[107]\tvalid_0's mape: 0.171364\tvalid_0's l2: 1.33788\n",
      "Training until validation scores don't improve for 100 rounds\n",
      "Early stopping, best iteration is:\n",
      "[104]\tvalid_0's mape: 0.148615\tvalid_0's l2: 1.15903\n",
      "Training until validation scores don't improve for 100 rounds\n",
      "Early stopping, best iteration is:\n",
      "[100]\tvalid_0's mape: 0.163269\tvalid_0's l2: 1.27769\n",
      "Training until validation scores don't improve for 100 rounds\n",
      "Early stopping, best iteration is:\n",
      "[105]\tvalid_0's mape: 0.16632\tvalid_0's l2: 1.27717\n",
      "Training until validation scores don't improve for 100 rounds\n"
     ]
    },
    {
     "name": "stderr",
     "output_type": "stream",
     "text": [
      "[I 2023-07-07 18:50:46,932] Trial 150 finished with value: 0.8402422874598429 and parameters: {'n_estimators': 10000, 'learning_rate': 0.06658243365046282, 'num_leaves': 960, 'max_depth': 4, 'max_bin': 216, 'reg_alpha': 35, 'reg_lambda': 45, 'min_split_gain': 0.5471921329626456, 'subsample': 0.4, 'colsample_bytree': 1.0, 'min_child_samples': 130}. Best is trial 130 with value: 0.8345756025648694.\n"
     ]
    },
    {
     "name": "stdout",
     "output_type": "stream",
     "text": [
      "Early stopping, best iteration is:\n",
      "[102]\tvalid_0's mape: 0.152096\tvalid_0's l2: 1.22306\n",
      "Training until validation scores don't improve for 100 rounds\n",
      "Early stopping, best iteration is:\n",
      "[171]\tvalid_0's mape: 0.163926\tvalid_0's l2: 1.24779\n",
      "Training until validation scores don't improve for 100 rounds\n",
      "Early stopping, best iteration is:\n",
      "[194]\tvalid_0's mape: 0.147562\tvalid_0's l2: 1.1644\n",
      "Training until validation scores don't improve for 100 rounds\n",
      "Early stopping, best iteration is:\n",
      "[211]\tvalid_0's mape: 0.161852\tvalid_0's l2: 1.24946\n",
      "Training until validation scores don't improve for 100 rounds\n",
      "Early stopping, best iteration is:\n",
      "[157]\tvalid_0's mape: 0.160143\tvalid_0's l2: 1.27691\n",
      "Training until validation scores don't improve for 100 rounds\n"
     ]
    },
    {
     "name": "stderr",
     "output_type": "stream",
     "text": [
      "[I 2023-07-07 18:50:49,123] Trial 151 finished with value: 0.8379262220700461 and parameters: {'n_estimators': 10000, 'learning_rate': 0.051359149476531515, 'num_leaves': 860, 'max_depth': 4, 'max_bin': 220, 'reg_alpha': 5, 'reg_lambda': 50, 'min_split_gain': 0.34870573584936637, 'subsample': 0.5, 'colsample_bytree': 1.0, 'min_child_samples': 119}. Best is trial 130 with value: 0.8345756025648694.\n"
     ]
    },
    {
     "name": "stdout",
     "output_type": "stream",
     "text": [
      "Early stopping, best iteration is:\n",
      "[157]\tvalid_0's mape: 0.163301\tvalid_0's l2: 1.29091\n",
      "Training until validation scores don't improve for 100 rounds\n",
      "Early stopping, best iteration is:\n",
      "[162]\tvalid_0's mape: 0.161801\tvalid_0's l2: 1.27025\n",
      "Training until validation scores don't improve for 100 rounds\n",
      "Early stopping, best iteration is:\n",
      "[175]\tvalid_0's mape: 0.161116\tvalid_0's l2: 1.28649\n",
      "Training until validation scores don't improve for 100 rounds\n",
      "Early stopping, best iteration is:\n",
      "[139]\tvalid_0's mape: 0.157921\tvalid_0's l2: 1.24387\n",
      "Training until validation scores don't improve for 100 rounds\n",
      "Early stopping, best iteration is:\n",
      "[85]\tvalid_0's mape: 0.157655\tvalid_0's l2: 1.23802\n",
      "Training until validation scores don't improve for 100 rounds\n"
     ]
    },
    {
     "name": "stderr",
     "output_type": "stream",
     "text": [
      "[I 2023-07-07 18:50:51,031] Trial 152 finished with value: 0.8387338094026953 and parameters: {'n_estimators': 10000, 'learning_rate': 0.058303397318061674, 'num_leaves': 920, 'max_depth': 4, 'max_bin': 218, 'reg_alpha': 0, 'reg_lambda': 55, 'min_split_gain': 0.8189394642931426, 'subsample': 0.6000000000000001, 'colsample_bytree': 1.0, 'min_child_samples': 97}. Best is trial 130 with value: 0.8345756025648694.\n"
     ]
    },
    {
     "name": "stdout",
     "output_type": "stream",
     "text": [
      "Early stopping, best iteration is:\n",
      "[143]\tvalid_0's mape: 0.15991\tvalid_0's l2: 1.20511\n",
      "Training until validation scores don't improve for 100 rounds\n",
      "Early stopping, best iteration is:\n",
      "[110]\tvalid_0's mape: 0.148101\tvalid_0's l2: 1.14185\n",
      "Training until validation scores don't improve for 100 rounds\n",
      "Early stopping, best iteration is:\n",
      "[114]\tvalid_0's mape: 0.150414\tvalid_0's l2: 1.22073\n",
      "Training until validation scores don't improve for 100 rounds\n",
      "Early stopping, best iteration is:\n",
      "[278]\tvalid_0's mape: 0.167767\tvalid_0's l2: 1.29196\n",
      "Training until validation scores don't improve for 100 rounds\n",
      "Early stopping, best iteration is:\n",
      "[91]\tvalid_0's mape: 0.168205\tvalid_0's l2: 1.30446\n",
      "Training until validation scores don't improve for 100 rounds\n"
     ]
    },
    {
     "name": "stderr",
     "output_type": "stream",
     "text": [
      "[I 2023-07-07 18:50:53,621] Trial 153 finished with value: 0.8385539046986527 and parameters: {'n_estimators': 10000, 'learning_rate': 0.04447737568080273, 'num_leaves': 760, 'max_depth': 5, 'max_bin': 214, 'reg_alpha': 5, 'reg_lambda': 45, 'min_split_gain': 0.038039319843670066, 'subsample': 0.5, 'colsample_bytree': 1.0, 'min_child_samples': 143}. Best is trial 130 with value: 0.8345756025648694.\n"
     ]
    },
    {
     "name": "stdout",
     "output_type": "stream",
     "text": [
      "Early stopping, best iteration is:\n",
      "[144]\tvalid_0's mape: 0.16463\tvalid_0's l2: 1.29672\n",
      "Training until validation scores don't improve for 100 rounds\n",
      "Early stopping, best iteration is:\n",
      "[199]\tvalid_0's mape: 0.156763\tvalid_0's l2: 1.19663\n",
      "Training until validation scores don't improve for 100 rounds\n",
      "Early stopping, best iteration is:\n",
      "[293]\tvalid_0's mape: 0.161523\tvalid_0's l2: 1.31655\n",
      "Training until validation scores don't improve for 100 rounds\n",
      "Early stopping, best iteration is:\n",
      "[227]\tvalid_0's mape: 0.165752\tvalid_0's l2: 1.29176\n",
      "Training until validation scores don't improve for 100 rounds\n",
      "Early stopping, best iteration is:\n",
      "[332]\tvalid_0's mape: 0.150114\tvalid_0's l2: 1.14829\n",
      "Training until validation scores don't improve for 100 rounds\n"
     ]
    },
    {
     "name": "stderr",
     "output_type": "stream",
     "text": [
      "[I 2023-07-07 18:50:56,642] Trial 154 finished with value: 0.8373666364686765 and parameters: {'n_estimators': 10000, 'learning_rate': 0.03584689704341569, 'num_leaves': 820, 'max_depth': 4, 'max_bin': 223, 'reg_alpha': 0, 'reg_lambda': 55, 'min_split_gain': 0.5290359196126297, 'subsample': 0.5, 'colsample_bytree': 1.0, 'min_child_samples': 115}. Best is trial 130 with value: 0.8345756025648694.\n"
     ]
    },
    {
     "name": "stdout",
     "output_type": "stream",
     "text": [
      "Early stopping, best iteration is:\n",
      "[384]\tvalid_0's mape: 0.162806\tvalid_0's l2: 1.28115\n",
      "Training until validation scores don't improve for 100 rounds\n",
      "Early stopping, best iteration is:\n",
      "[219]\tvalid_0's mape: 0.156168\tvalid_0's l2: 1.20243\n",
      "Training until validation scores don't improve for 100 rounds\n",
      "Early stopping, best iteration is:\n",
      "[132]\tvalid_0's mape: 0.162449\tvalid_0's l2: 1.29403\n",
      "Training until validation scores don't improve for 100 rounds\n",
      "Early stopping, best iteration is:\n",
      "[115]\tvalid_0's mape: 0.156304\tvalid_0's l2: 1.22914\n",
      "Training until validation scores don't improve for 100 rounds\n",
      "Early stopping, best iteration is:\n",
      "[89]\tvalid_0's mape: 0.163195\tvalid_0's l2: 1.28\n",
      "Training until validation scores don't improve for 100 rounds\n"
     ]
    },
    {
     "name": "stderr",
     "output_type": "stream",
     "text": [
      "[I 2023-07-07 18:50:58,847] Trial 155 finished with value: 0.8377206388568508 and parameters: {'n_estimators': 10000, 'learning_rate': 0.05185311371280913, 'num_leaves': 940, 'max_depth': 4, 'max_bin': 217, 'reg_alpha': 0, 'reg_lambda': 45, 'min_split_gain': 1.2637178388349826, 'subsample': 0.4, 'colsample_bytree': 1.0, 'min_child_samples': 83}. Best is trial 130 with value: 0.8345756025648694.\n"
     ]
    },
    {
     "name": "stdout",
     "output_type": "stream",
     "text": [
      "Early stopping, best iteration is:\n",
      "[162]\tvalid_0's mape: 0.159986\tvalid_0's l2: 1.22727\n",
      "Training until validation scores don't improve for 100 rounds\n",
      "Early stopping, best iteration is:\n",
      "[246]\tvalid_0's mape: 0.163821\tvalid_0's l2: 1.28172\n",
      "Training until validation scores don't improve for 100 rounds\n",
      "Early stopping, best iteration is:\n",
      "[190]\tvalid_0's mape: 0.156986\tvalid_0's l2: 1.26738\n",
      "Training until validation scores don't improve for 100 rounds\n",
      "Early stopping, best iteration is:\n",
      "[325]\tvalid_0's mape: 0.160496\tvalid_0's l2: 1.21221\n",
      "Training until validation scores don't improve for 100 rounds\n",
      "Early stopping, best iteration is:\n",
      "[304]\tvalid_0's mape: 0.161701\tvalid_0's l2: 1.24962\n",
      "Training until validation scores don't improve for 100 rounds\n"
     ]
    },
    {
     "name": "stderr",
     "output_type": "stream",
     "text": [
      "[I 2023-07-07 18:51:01,900] Trial 156 finished with value: 0.8384907965229192 and parameters: {'n_estimators': 10000, 'learning_rate': 0.02987312294836711, 'num_leaves': 1040, 'max_depth': 4, 'max_bin': 211, 'reg_alpha': 5, 'reg_lambda': 50, 'min_split_gain': 0.2876217977980342, 'subsample': 0.5, 'colsample_bytree': 1.0, 'min_child_samples': 124}. Best is trial 130 with value: 0.8345756025648694.\n"
     ]
    },
    {
     "name": "stdout",
     "output_type": "stream",
     "text": [
      "Early stopping, best iteration is:\n",
      "[187]\tvalid_0's mape: 0.156138\tvalid_0's l2: 1.23086\n",
      "Training until validation scores don't improve for 100 rounds\n",
      "Early stopping, best iteration is:\n",
      "[120]\tvalid_0's mape: 0.158261\tvalid_0's l2: 1.22691\n",
      "Training until validation scores don't improve for 100 rounds\n",
      "Early stopping, best iteration is:\n",
      "[204]\tvalid_0's mape: 0.164242\tvalid_0's l2: 1.29673\n",
      "Training until validation scores don't improve for 100 rounds\n",
      "Early stopping, best iteration is:\n",
      "[211]\tvalid_0's mape: 0.178103\tvalid_0's l2: 1.37724\n",
      "Training until validation scores don't improve for 100 rounds\n",
      "Early stopping, best iteration is:\n",
      "[71]\tvalid_0's mape: 0.151156\tvalid_0's l2: 1.19478\n",
      "Training until validation scores don't improve for 100 rounds\n"
     ]
    },
    {
     "name": "stderr",
     "output_type": "stream",
     "text": [
      "[I 2023-07-07 18:51:04,304] Trial 157 finished with value: 0.8376165036247867 and parameters: {'n_estimators': 10000, 'learning_rate': 0.04098286864768658, 'num_leaves': 900, 'max_depth': 5, 'max_bin': 220, 'reg_alpha': 5, 'reg_lambda': 15, 'min_split_gain': 0.9422999127350884, 'subsample': 0.4, 'colsample_bytree': 1.0, 'min_child_samples': 96}. Best is trial 130 with value: 0.8345756025648694.\n"
     ]
    },
    {
     "name": "stdout",
     "output_type": "stream",
     "text": [
      "Early stopping, best iteration is:\n",
      "[145]\tvalid_0's mape: 0.146328\tvalid_0's l2: 1.13349\n",
      "Training until validation scores don't improve for 100 rounds\n",
      "Early stopping, best iteration is:\n",
      "[185]\tvalid_0's mape: 0.153468\tvalid_0's l2: 1.17998\n",
      "Training until validation scores don't improve for 100 rounds\n",
      "Early stopping, best iteration is:\n",
      "[170]\tvalid_0's mape: 0.155157\tvalid_0's l2: 1.22451\n",
      "Training until validation scores don't improve for 100 rounds\n",
      "Early stopping, best iteration is:\n",
      "[181]\tvalid_0's mape: 0.153836\tvalid_0's l2: 1.18215\n",
      "Training until validation scores don't improve for 100 rounds\n",
      "Early stopping, best iteration is:\n",
      "[181]\tvalid_0's mape: 0.174836\tvalid_0's l2: 1.35867\n",
      "Training until validation scores don't improve for 100 rounds\n"
     ]
    },
    {
     "name": "stderr",
     "output_type": "stream",
     "text": [
      "[I 2023-07-07 18:51:06,170] Trial 158 finished with value: 0.8364717274959018 and parameters: {'n_estimators': 10000, 'learning_rate': 0.056456124167517815, 'num_leaves': 1120, 'max_depth': 4, 'max_bin': 224, 'reg_alpha': 0, 'reg_lambda': 40, 'min_split_gain': 1.4849861964679854, 'subsample': 0.6000000000000001, 'colsample_bytree': 1.0, 'min_child_samples': 107}. Best is trial 130 with value: 0.8345756025648694.\n"
     ]
    },
    {
     "name": "stdout",
     "output_type": "stream",
     "text": [
      "Early stopping, best iteration is:\n",
      "[81]\tvalid_0's mape: 0.159317\tvalid_0's l2: 1.30097\n",
      "Training until validation scores don't improve for 100 rounds\n",
      "Early stopping, best iteration is:\n",
      "[78]\tvalid_0's mape: 0.157164\tvalid_0's l2: 1.21694\n",
      "Training until validation scores don't improve for 100 rounds\n",
      "Early stopping, best iteration is:\n",
      "[101]\tvalid_0's mape: 0.152731\tvalid_0's l2: 1.1624\n",
      "Training until validation scores don't improve for 100 rounds\n",
      "Early stopping, best iteration is:\n",
      "[98]\tvalid_0's mape: 0.16503\tvalid_0's l2: 1.33841\n",
      "Training until validation scores don't improve for 100 rounds\n",
      "Early stopping, best iteration is:\n",
      "[98]\tvalid_0's mape: 0.155095\tvalid_0's l2: 1.16816\n",
      "Training until validation scores don't improve for 100 rounds\n"
     ]
    },
    {
     "name": "stderr",
     "output_type": "stream",
     "text": [
      "[I 2023-07-07 18:51:07,670] Trial 159 finished with value: 0.8393083285943923 and parameters: {'n_estimators': 10000, 'learning_rate': 0.059183257516212576, 'num_leaves': 1120, 'max_depth': 4, 'max_bin': 226, 'reg_alpha': 10, 'reg_lambda': 40, 'min_split_gain': 1.7949056665750993, 'subsample': 0.6000000000000001, 'colsample_bytree': 1.0, 'min_child_samples': 134}. Best is trial 130 with value: 0.8345756025648694.\n"
     ]
    },
    {
     "name": "stdout",
     "output_type": "stream",
     "text": [
      "Early stopping, best iteration is:\n",
      "[103]\tvalid_0's mape: 0.169661\tvalid_0's l2: 1.36235\n",
      "Training until validation scores don't improve for 100 rounds\n",
      "Early stopping, best iteration is:\n",
      "[154]\tvalid_0's mape: 0.165059\tvalid_0's l2: 1.32547\n",
      "Training until validation scores don't improve for 100 rounds\n",
      "Early stopping, best iteration is:\n",
      "[130]\tvalid_0's mape: 0.155693\tvalid_0's l2: 1.19732\n",
      "Training until validation scores don't improve for 100 rounds\n",
      "Early stopping, best iteration is:\n",
      "[148]\tvalid_0's mape: 0.171986\tvalid_0's l2: 1.34829\n",
      "Training until validation scores don't improve for 100 rounds\n",
      "Early stopping, best iteration is:\n",
      "[167]\tvalid_0's mape: 0.150734\tvalid_0's l2: 1.17213\n",
      "Training until validation scores don't improve for 100 rounds\n"
     ]
    },
    {
     "name": "stderr",
     "output_type": "stream",
     "text": [
      "[I 2023-07-07 18:51:09,448] Trial 160 finished with value: 0.8376911172476642 and parameters: {'n_estimators': 10000, 'learning_rate': 0.04598416576448751, 'num_leaves': 1180, 'max_depth': 4, 'max_bin': 224, 'reg_alpha': 10, 'reg_lambda': 45, 'min_split_gain': 1.4885065905359869, 'subsample': 0.6000000000000001, 'colsample_bytree': 0.9000000000000001, 'min_child_samples': 105}. Best is trial 130 with value: 0.8345756025648694.\n"
     ]
    },
    {
     "name": "stdout",
     "output_type": "stream",
     "text": [
      "Early stopping, best iteration is:\n",
      "[129]\tvalid_0's mape: 0.154659\tvalid_0's l2: 1.18748\n",
      "Training until validation scores don't improve for 100 rounds\n",
      "Early stopping, best iteration is:\n",
      "[97]\tvalid_0's mape: 0.161269\tvalid_0's l2: 1.26967\n",
      "Training until validation scores don't improve for 100 rounds\n",
      "Early stopping, best iteration is:\n",
      "[141]\tvalid_0's mape: 0.155059\tvalid_0's l2: 1.21281\n",
      "Training until validation scores don't improve for 100 rounds\n",
      "Early stopping, best iteration is:\n",
      "[120]\tvalid_0's mape: 0.154946\tvalid_0's l2: 1.21096\n",
      "Training until validation scores don't improve for 100 rounds\n",
      "Early stopping, best iteration is:\n",
      "[104]\tvalid_0's mape: 0.163463\tvalid_0's l2: 1.29544\n",
      "Training until validation scores don't improve for 100 rounds\n"
     ]
    },
    {
     "name": "stderr",
     "output_type": "stream",
     "text": [
      "[I 2023-07-07 18:51:11,324] Trial 161 finished with value: 0.8367690931182963 and parameters: {'n_estimators': 10000, 'learning_rate': 0.06800547394135335, 'num_leaves': 1220, 'max_depth': 4, 'max_bin': 218, 'reg_alpha': 0, 'reg_lambda': 40, 'min_split_gain': 0.5776204998676556, 'subsample': 0.5, 'colsample_bytree': 1.0, 'min_child_samples': 112}. Best is trial 130 with value: 0.8345756025648694.\n"
     ]
    },
    {
     "name": "stdout",
     "output_type": "stream",
     "text": [
      "Early stopping, best iteration is:\n",
      "[119]\tvalid_0's mape: 0.161901\tvalid_0's l2: 1.24008\n",
      "Training until validation scores don't improve for 100 rounds\n",
      "Early stopping, best iteration is:\n",
      "[162]\tvalid_0's mape: 0.16001\tvalid_0's l2: 1.20671\n",
      "Training until validation scores don't improve for 100 rounds\n",
      "Early stopping, best iteration is:\n",
      "[204]\tvalid_0's mape: 0.156597\tvalid_0's l2: 1.25996\n",
      "Training until validation scores don't improve for 100 rounds\n",
      "Early stopping, best iteration is:\n",
      "[182]\tvalid_0's mape: 0.149001\tvalid_0's l2: 1.16992\n",
      "Training until validation scores don't improve for 100 rounds\n",
      "Early stopping, best iteration is:\n",
      "[112]\tvalid_0's mape: 0.160507\tvalid_0's l2: 1.24952\n",
      "Training until validation scores don't improve for 100 rounds\n"
     ]
    },
    {
     "name": "stderr",
     "output_type": "stream",
     "text": [
      "[I 2023-07-07 18:51:13,436] Trial 162 finished with value: 0.8353866835845991 and parameters: {'n_estimators': 10000, 'learning_rate': 0.07249155357001534, 'num_leaves': 1020, 'max_depth': 4, 'max_bin': 222, 'reg_alpha': 0, 'reg_lambda': 40, 'min_split_gain': 0.6827765152259798, 'subsample': 0.5, 'colsample_bytree': 1.0, 'min_child_samples': 88}. Best is trial 130 with value: 0.8345756025648694.\n"
     ]
    },
    {
     "name": "stdout",
     "output_type": "stream",
     "text": [
      "Early stopping, best iteration is:\n",
      "[138]\tvalid_0's mape: 0.168148\tvalid_0's l2: 1.31868\n",
      "Training until validation scores don't improve for 100 rounds\n",
      "Early stopping, best iteration is:\n",
      "[162]\tvalid_0's mape: 0.161652\tvalid_0's l2: 1.26193\n",
      "Training until validation scores don't improve for 100 rounds\n",
      "Early stopping, best iteration is:\n",
      "[98]\tvalid_0's mape: 0.157652\tvalid_0's l2: 1.21628\n",
      "Training until validation scores don't improve for 100 rounds\n",
      "Early stopping, best iteration is:\n",
      "[67]\tvalid_0's mape: 0.161791\tvalid_0's l2: 1.22502\n",
      "Training until validation scores don't improve for 100 rounds\n",
      "Early stopping, best iteration is:\n",
      "[54]\tvalid_0's mape: 0.154672\tvalid_0's l2: 1.24585\n",
      "Training until validation scores don't improve for 100 rounds\n"
     ]
    },
    {
     "name": "stderr",
     "output_type": "stream",
     "text": [
      "[I 2023-07-07 18:51:15,097] Trial 163 finished with value: 0.8380250614216891 and parameters: {'n_estimators': 10000, 'learning_rate': 0.07183123440674924, 'num_leaves': 1000, 'max_depth': 4, 'max_bin': 222, 'reg_alpha': 5, 'reg_lambda': 40, 'min_split_gain': 0.8737845395645446, 'subsample': 0.6000000000000001, 'colsample_bytree': 1.0, 'min_child_samples': 89}. Best is trial 130 with value: 0.8345756025648694.\n"
     ]
    },
    {
     "name": "stdout",
     "output_type": "stream",
     "text": [
      "Early stopping, best iteration is:\n",
      "[133]\tvalid_0's mape: 0.161926\tvalid_0's l2: 1.28699\n",
      "Training until validation scores don't improve for 100 rounds\n",
      "Early stopping, best iteration is:\n",
      "[362]\tvalid_0's mape: 0.16136\tvalid_0's l2: 1.27199\n",
      "Training until validation scores don't improve for 100 rounds\n",
      "Early stopping, best iteration is:\n",
      "[103]\tvalid_0's mape: 0.160602\tvalid_0's l2: 1.22634\n",
      "Training until validation scores don't improve for 100 rounds\n",
      "Early stopping, best iteration is:\n",
      "[92]\tvalid_0's mape: 0.15369\tvalid_0's l2: 1.23966\n",
      "Training until validation scores don't improve for 100 rounds\n",
      "Early stopping, best iteration is:\n",
      "[248]\tvalid_0's mape: 0.162739\tvalid_0's l2: 1.28196\n",
      "Training until validation scores don't improve for 100 rounds\n"
     ]
    },
    {
     "name": "stderr",
     "output_type": "stream",
     "text": [
      "[I 2023-07-07 18:51:17,415] Trial 164 finished with value: 0.8385858111674789 and parameters: {'n_estimators': 10000, 'learning_rate': 0.05771233295747341, 'num_leaves': 1080, 'max_depth': 4, 'max_bin': 221, 'reg_alpha': 0, 'reg_lambda': 45, 'min_split_gain': 0.017039273042411932, 'subsample': 0.5, 'colsample_bytree': 1.0, 'min_child_samples': 78}. Best is trial 130 with value: 0.8345756025648694.\n"
     ]
    },
    {
     "name": "stdout",
     "output_type": "stream",
     "text": [
      "Early stopping, best iteration is:\n",
      "[128]\tvalid_0's mape: 0.15964\tvalid_0's l2: 1.2371\n",
      "Training until validation scores don't improve for 100 rounds\n",
      "Early stopping, best iteration is:\n",
      "[176]\tvalid_0's mape: 0.155875\tvalid_0's l2: 1.19813\n",
      "Training until validation scores don't improve for 100 rounds\n",
      "Early stopping, best iteration is:\n",
      "[110]\tvalid_0's mape: 0.156989\tvalid_0's l2: 1.226\n",
      "Training until validation scores don't improve for 100 rounds\n",
      "Early stopping, best iteration is:\n",
      "[148]\tvalid_0's mape: 0.163999\tvalid_0's l2: 1.25762\n",
      "Training until validation scores don't improve for 100 rounds\n",
      "Early stopping, best iteration is:\n",
      "[141]\tvalid_0's mape: 0.167677\tvalid_0's l2: 1.3129\n",
      "Training until validation scores don't improve for 100 rounds\n"
     ]
    },
    {
     "name": "stderr",
     "output_type": "stream",
     "text": [
      "[I 2023-07-07 18:51:20,103] Trial 165 finished with value: 0.8362987576988381 and parameters: {'n_estimators': 10000, 'learning_rate': 0.03652345856065946, 'num_leaves': 1280, 'max_depth': 5, 'max_bin': 227, 'reg_alpha': 0, 'reg_lambda': 40, 'min_split_gain': 0.6591060076808084, 'subsample': 0.5, 'colsample_bytree': 1.0, 'min_child_samples': 103}. Best is trial 130 with value: 0.8345756025648694.\n"
     ]
    },
    {
     "name": "stdout",
     "output_type": "stream",
     "text": [
      "Early stopping, best iteration is:\n",
      "[291]\tvalid_0's mape: 0.151163\tvalid_0's l2: 1.21269\n",
      "Training until validation scores don't improve for 100 rounds\n",
      "Early stopping, best iteration is:\n",
      "[148]\tvalid_0's mape: 0.161565\tvalid_0's l2: 1.26802\n",
      "Training until validation scores don't improve for 100 rounds\n",
      "Early stopping, best iteration is:\n",
      "[143]\tvalid_0's mape: 0.162087\tvalid_0's l2: 1.29446\n",
      "Training until validation scores don't improve for 100 rounds\n",
      "Early stopping, best iteration is:\n",
      "[153]\tvalid_0's mape: 0.150012\tvalid_0's l2: 1.1477\n",
      "Training until validation scores don't improve for 100 rounds\n",
      "Early stopping, best iteration is:\n",
      "[154]\tvalid_0's mape: 0.17145\tvalid_0's l2: 1.32353\n",
      "Training until validation scores don't improve for 100 rounds\n"
     ]
    },
    {
     "name": "stderr",
     "output_type": "stream",
     "text": [
      "[I 2023-07-07 18:51:21,949] Trial 166 finished with value: 0.8397160150910417 and parameters: {'n_estimators': 10000, 'learning_rate': 0.02840335595092526, 'num_leaves': 1320, 'max_depth': 5, 'max_bin': 258, 'reg_alpha': 5, 'reg_lambda': 40, 'min_split_gain': 5.145784907994782, 'subsample': 0.5, 'colsample_bytree': 1.0, 'min_child_samples': 125}. Best is trial 130 with value: 0.8345756025648694.\n"
     ]
    },
    {
     "name": "stdout",
     "output_type": "stream",
     "text": [
      "Early stopping, best iteration is:\n",
      "[150]\tvalid_0's mape: 0.156357\tvalid_0's l2: 1.22902\n",
      "Training until validation scores don't improve for 100 rounds\n",
      "Early stopping, best iteration is:\n",
      "[74]\tvalid_0's mape: 0.158536\tvalid_0's l2: 1.25536\n",
      "Training until validation scores don't improve for 100 rounds\n",
      "Early stopping, best iteration is:\n",
      "[64]\tvalid_0's mape: 0.144961\tvalid_0's l2: 1.11868\n",
      "Training until validation scores don't improve for 100 rounds\n",
      "Early stopping, best iteration is:\n",
      "[68]\tvalid_0's mape: 0.161971\tvalid_0's l2: 1.21984\n",
      "Training until validation scores don't improve for 100 rounds\n",
      "Early stopping, best iteration is:\n",
      "[64]\tvalid_0's mape: 0.169249\tvalid_0's l2: 1.3376\n",
      "Training until validation scores don't improve for 100 rounds\n"
     ]
    },
    {
     "name": "stderr",
     "output_type": "stream",
     "text": [
      "[I 2023-07-07 18:51:23,583] Trial 167 finished with value: 0.8382529792108004 and parameters: {'n_estimators': 10000, 'learning_rate': 0.08870640600004064, 'num_leaves': 1280, 'max_depth': 5, 'max_bin': 230, 'reg_alpha': 0, 'reg_lambda': 45, 'min_split_gain': 1.3216734796866854, 'subsample': 0.5, 'colsample_bytree': 1.0, 'min_child_samples': 102}. Best is trial 130 with value: 0.8345756025648694.\n"
     ]
    },
    {
     "name": "stdout",
     "output_type": "stream",
     "text": [
      "Early stopping, best iteration is:\n",
      "[68]\tvalid_0's mape: 0.161933\tvalid_0's l2: 1.28243\n",
      "Training until validation scores don't improve for 100 rounds\n",
      "Early stopping, best iteration is:\n",
      "[101]\tvalid_0's mape: 0.167873\tvalid_0's l2: 1.30004\n",
      "Training until validation scores don't improve for 100 rounds\n",
      "Early stopping, best iteration is:\n",
      "[110]\tvalid_0's mape: 0.155521\tvalid_0's l2: 1.21209\n",
      "Training until validation scores don't improve for 100 rounds\n",
      "Early stopping, best iteration is:\n",
      "[138]\tvalid_0's mape: 0.161696\tvalid_0's l2: 1.25311\n",
      "Training until validation scores don't improve for 100 rounds\n",
      "Early stopping, best iteration is:\n",
      "[100]\tvalid_0's mape: 0.162172\tvalid_0's l2: 1.2885\n",
      "Training until validation scores don't improve for 100 rounds\n"
     ]
    },
    {
     "name": "stderr",
     "output_type": "stream",
     "text": [
      "[I 2023-07-07 18:51:25,400] Trial 168 finished with value: 0.8374076874032852 and parameters: {'n_estimators': 10000, 'learning_rate': 0.06589463708165101, 'num_leaves': 1420, 'max_depth': 4, 'max_bin': 227, 'reg_alpha': 5, 'reg_lambda': 40, 'min_split_gain': 0.6921324273023657, 'subsample': 0.4, 'colsample_bytree': 1.0, 'min_child_samples': 139}. Best is trial 130 with value: 0.8345756025648694.\n"
     ]
    },
    {
     "name": "stdout",
     "output_type": "stream",
     "text": [
      "Early stopping, best iteration is:\n",
      "[103]\tvalid_0's mape: 0.150705\tvalid_0's l2: 1.17809\n",
      "Training until validation scores don't improve for 100 rounds\n",
      "Early stopping, best iteration is:\n",
      "[122]\tvalid_0's mape: 0.163844\tvalid_0's l2: 1.28762\n",
      "Training until validation scores don't improve for 100 rounds\n",
      "Early stopping, best iteration is:\n",
      "[163]\tvalid_0's mape: 0.164577\tvalid_0's l2: 1.28324\n",
      "Training until validation scores don't improve for 100 rounds\n",
      "Early stopping, best iteration is:\n",
      "[207]\tvalid_0's mape: 0.153425\tvalid_0's l2: 1.18577\n",
      "Training until validation scores don't improve for 100 rounds\n",
      "Early stopping, best iteration is:\n",
      "[231]\tvalid_0's mape: 0.155384\tvalid_0's l2: 1.24276\n",
      "Training until validation scores don't improve for 100 rounds\n"
     ]
    },
    {
     "name": "stderr",
     "output_type": "stream",
     "text": [
      "[I 2023-07-07 18:51:27,776] Trial 169 finished with value: 0.8361378021653835 and parameters: {'n_estimators': 10000, 'learning_rate': 0.0406951449456015, 'num_leaves': 1020, 'max_depth': 4, 'max_bin': 225, 'reg_alpha': 0, 'reg_lambda': 45, 'min_split_gain': 1.0869351361397563, 'subsample': 0.5, 'colsample_bytree': 0.9000000000000001, 'min_child_samples': 121}. Best is trial 130 with value: 0.8345756025648694.\n"
     ]
    },
    {
     "name": "stdout",
     "output_type": "stream",
     "text": [
      "Early stopping, best iteration is:\n",
      "[306]\tvalid_0's mape: 0.159424\tvalid_0's l2: 1.2111\n",
      "Training until validation scores don't improve for 100 rounds\n",
      "Early stopping, best iteration is:\n",
      "[179]\tvalid_0's mape: 0.155398\tvalid_0's l2: 1.20733\n",
      "Training until validation scores don't improve for 100 rounds\n",
      "Early stopping, best iteration is:\n",
      "[135]\tvalid_0's mape: 0.163821\tvalid_0's l2: 1.26769\n",
      "Training until validation scores don't improve for 100 rounds\n",
      "Early stopping, best iteration is:\n",
      "[80]\tvalid_0's mape: 0.161082\tvalid_0's l2: 1.26344\n",
      "Training until validation scores don't improve for 100 rounds\n",
      "Early stopping, best iteration is:\n",
      "[81]\tvalid_0's mape: 0.156103\tvalid_0's l2: 1.21888\n",
      "Training until validation scores don't improve for 100 rounds\n"
     ]
    },
    {
     "name": "stderr",
     "output_type": "stream",
     "text": [
      "[I 2023-07-07 18:51:29,880] Trial 170 finished with value: 0.8390362307380828 and parameters: {'n_estimators': 10000, 'learning_rate': 0.04820041292778223, 'num_leaves': 1020, 'max_depth': 5, 'max_bin': 224, 'reg_alpha': 0, 'reg_lambda': 45, 'min_split_gain': 1.1407838376658446, 'subsample': 0.5, 'colsample_bytree': 0.9000000000000001, 'min_child_samples': 155}. Best is trial 130 with value: 0.8345756025648694.\n"
     ]
    },
    {
     "name": "stdout",
     "output_type": "stream",
     "text": [
      "Early stopping, best iteration is:\n",
      "[96]\tvalid_0's mape: 0.162886\tvalid_0's l2: 1.28147\n",
      "Training until validation scores don't improve for 100 rounds\n",
      "Early stopping, best iteration is:\n",
      "[194]\tvalid_0's mape: 0.154517\tvalid_0's l2: 1.19675\n",
      "Training until validation scores don't improve for 100 rounds\n",
      "Early stopping, best iteration is:\n",
      "[175]\tvalid_0's mape: 0.163535\tvalid_0's l2: 1.25549\n",
      "Training until validation scores don't improve for 100 rounds\n",
      "Early stopping, best iteration is:\n",
      "[199]\tvalid_0's mape: 0.166762\tvalid_0's l2: 1.29003\n",
      "Training until validation scores don't improve for 100 rounds\n",
      "Early stopping, best iteration is:\n",
      "[188]\tvalid_0's mape: 0.158366\tvalid_0's l2: 1.24767\n",
      "Training until validation scores don't improve for 100 rounds\n"
     ]
    },
    {
     "name": "stderr",
     "output_type": "stream",
     "text": [
      "[I 2023-07-07 18:51:31,824] Trial 171 finished with value: 0.8372462794327122 and parameters: {'n_estimators': 10000, 'learning_rate': 0.03662836457385669, 'num_leaves': 980, 'max_depth': 4, 'max_bin': 224, 'reg_alpha': 5, 'reg_lambda': 45, 'min_split_gain': 1.858473419309877, 'subsample': 0.5, 'colsample_bytree': 0.9000000000000001, 'min_child_samples': 114}. Best is trial 130 with value: 0.8345756025648694.\n"
     ]
    },
    {
     "name": "stdout",
     "output_type": "stream",
     "text": [
      "Early stopping, best iteration is:\n",
      "[192]\tvalid_0's mape: 0.154022\tvalid_0's l2: 1.24173\n",
      "Training until validation scores don't improve for 100 rounds\n",
      "Early stopping, best iteration is:\n",
      "[91]\tvalid_0's mape: 0.166569\tvalid_0's l2: 1.28737\n",
      "Training until validation scores don't improve for 100 rounds\n",
      "Early stopping, best iteration is:\n",
      "[99]\tvalid_0's mape: 0.157451\tvalid_0's l2: 1.2056\n",
      "Training until validation scores don't improve for 100 rounds\n",
      "Early stopping, best iteration is:\n",
      "[97]\tvalid_0's mape: 0.149944\tvalid_0's l2: 1.16132\n",
      "Training until validation scores don't improve for 100 rounds\n",
      "Early stopping, best iteration is:\n",
      "[92]\tvalid_0's mape: 0.168539\tvalid_0's l2: 1.34248\n",
      "Training until validation scores don't improve for 100 rounds\n"
     ]
    },
    {
     "name": "stderr",
     "output_type": "stream",
     "text": [
      "[I 2023-07-07 18:51:33,147] Trial 172 finished with value: 0.8426445150704337 and parameters: {'n_estimators': 10000, 'learning_rate': 0.04520807313010056, 'num_leaves': 1140, 'max_depth': 4, 'max_bin': 226, 'reg_alpha': 0, 'reg_lambda': 50, 'min_split_gain': 6.963145709610122, 'subsample': 0.5, 'colsample_bytree': 0.9000000000000001, 'min_child_samples': 120}. Best is trial 130 with value: 0.8345756025648694.\n"
     ]
    },
    {
     "name": "stdout",
     "output_type": "stream",
     "text": [
      "Early stopping, best iteration is:\n",
      "[91]\tvalid_0's mape: 0.161853\tvalid_0's l2: 1.2835\n",
      "Training until validation scores don't improve for 100 rounds\n",
      "Early stopping, best iteration is:\n",
      "[193]\tvalid_0's mape: 0.150667\tvalid_0's l2: 1.15497\n",
      "Training until validation scores don't improve for 100 rounds\n",
      "Early stopping, best iteration is:\n",
      "[145]\tvalid_0's mape: 0.176454\tvalid_0's l2: 1.35307\n",
      "Training until validation scores don't improve for 100 rounds\n",
      "Early stopping, best iteration is:\n",
      "[126]\tvalid_0's mape: 0.170959\tvalid_0's l2: 1.34927\n",
      "Training until validation scores don't improve for 100 rounds\n",
      "Early stopping, best iteration is:\n",
      "[282]\tvalid_0's mape: 0.150035\tvalid_0's l2: 1.19724\n",
      "Training until validation scores don't improve for 100 rounds\n"
     ]
    },
    {
     "name": "stderr",
     "output_type": "stream",
     "text": [
      "[I 2023-07-07 18:51:35,335] Trial 173 finished with value: 0.8352796278682874 and parameters: {'n_estimators': 10000, 'learning_rate': 0.05436072802956771, 'num_leaves': 920, 'max_depth': 4, 'max_bin': 222, 'reg_alpha': 0, 'reg_lambda': 40, 'min_split_gain': 0.8599631678307889, 'subsample': 0.4, 'colsample_bytree': 1.0, 'min_child_samples': 103}. Best is trial 130 with value: 0.8345756025648694.\n"
     ]
    },
    {
     "name": "stdout",
     "output_type": "stream",
     "text": [
      "Early stopping, best iteration is:\n",
      "[156]\tvalid_0's mape: 0.146505\tvalid_0's l2: 1.15077\n",
      "Training until validation scores don't improve for 100 rounds\n",
      "Early stopping, best iteration is:\n",
      "[75]\tvalid_0's mape: 0.155309\tvalid_0's l2: 1.20792\n",
      "Training until validation scores don't improve for 100 rounds\n",
      "Early stopping, best iteration is:\n",
      "[177]\tvalid_0's mape: 0.166312\tvalid_0's l2: 1.30758\n",
      "Training until validation scores don't improve for 100 rounds\n",
      "Early stopping, best iteration is:\n",
      "[63]\tvalid_0's mape: 0.148162\tvalid_0's l2: 1.17465\n",
      "Training until validation scores don't improve for 100 rounds\n",
      "Early stopping, best iteration is:\n",
      "[182]\tvalid_0's mape: 0.179458\tvalid_0's l2: 1.39411\n",
      "Training until validation scores don't improve for 100 rounds\n"
     ]
    },
    {
     "name": "stderr",
     "output_type": "stream",
     "text": [
      "[I 2023-07-07 18:51:37,356] Trial 174 finished with value: 0.8382837340440255 and parameters: {'n_estimators': 10000, 'learning_rate': 0.05660829897667173, 'num_leaves': 840, 'max_depth': 4, 'max_bin': 222, 'reg_alpha': 0, 'reg_lambda': 40, 'min_split_gain': 0.8021733704950736, 'subsample': 0.5, 'colsample_bytree': 1.0, 'min_child_samples': 101}. Best is trial 130 with value: 0.8345756025648694.\n"
     ]
    },
    {
     "name": "stdout",
     "output_type": "stream",
     "text": [
      "Early stopping, best iteration is:\n",
      "[270]\tvalid_0's mape: 0.148833\tvalid_0's l2: 1.14764\n",
      "Training until validation scores don't improve for 100 rounds\n",
      "Early stopping, best iteration is:\n",
      "[72]\tvalid_0's mape: 0.16482\tvalid_0's l2: 1.3051\n",
      "Training until validation scores don't improve for 100 rounds\n",
      "Early stopping, best iteration is:\n",
      "[73]\tvalid_0's mape: 0.157271\tvalid_0's l2: 1.20297\n",
      "Training until validation scores don't improve for 100 rounds\n",
      "Early stopping, best iteration is:\n",
      "[71]\tvalid_0's mape: 0.15836\tvalid_0's l2: 1.24923\n",
      "Training until validation scores don't improve for 100 rounds\n",
      "Early stopping, best iteration is:\n",
      "[75]\tvalid_0's mape: 0.156426\tvalid_0's l2: 1.24189\n",
      "Training until validation scores don't improve for 100 rounds\n"
     ]
    },
    {
     "name": "stderr",
     "output_type": "stream",
     "text": [
      "[I 2023-07-07 18:51:38,622] Trial 175 finished with value: 0.841457345817884 and parameters: {'n_estimators': 10000, 'learning_rate': 0.06142695024549301, 'num_leaves': 940, 'max_depth': 4, 'max_bin': 220, 'reg_alpha': 0, 'reg_lambda': 40, 'min_split_gain': 4.554499193293695, 'subsample': 0.5, 'colsample_bytree': 1.0, 'min_child_samples': 128}. Best is trial 130 with value: 0.8345756025648694.\n"
     ]
    },
    {
     "name": "stdout",
     "output_type": "stream",
     "text": [
      "Early stopping, best iteration is:\n",
      "[75]\tvalid_0's mape: 0.165941\tvalid_0's l2: 1.27884\n",
      "Training until validation scores don't improve for 100 rounds\n",
      "Early stopping, best iteration is:\n",
      "[154]\tvalid_0's mape: 0.155846\tvalid_0's l2: 1.20888\n",
      "Training until validation scores don't improve for 100 rounds\n",
      "Early stopping, best iteration is:\n",
      "[103]\tvalid_0's mape: 0.165933\tvalid_0's l2: 1.30393\n",
      "Training until validation scores don't improve for 100 rounds\n",
      "Early stopping, best iteration is:\n",
      "[124]\tvalid_0's mape: 0.143599\tvalid_0's l2: 1.09384\n",
      "Training until validation scores don't improve for 100 rounds\n",
      "Early stopping, best iteration is:\n",
      "[188]\tvalid_0's mape: 0.154396\tvalid_0's l2: 1.2391\n",
      "Training until validation scores don't improve for 100 rounds\n"
     ]
    },
    {
     "name": "stderr",
     "output_type": "stream",
     "text": [
      "[I 2023-07-07 18:51:40,591] Trial 176 finished with value: 0.8371726221377923 and parameters: {'n_estimators': 10000, 'learning_rate': 0.052436124273975045, 'num_leaves': 1040, 'max_depth': 4, 'max_bin': 227, 'reg_alpha': 0, 'reg_lambda': 45, 'min_split_gain': 0.535871666048316, 'subsample': 0.5, 'colsample_bytree': 1.0, 'min_child_samples': 88}. Best is trial 130 with value: 0.8345756025648694.\n"
     ]
    },
    {
     "name": "stdout",
     "output_type": "stream",
     "text": [
      "Early stopping, best iteration is:\n",
      "[186]\tvalid_0's mape: 0.176924\tvalid_0's l2: 1.37501\n",
      "Training until validation scores don't improve for 100 rounds\n",
      "Early stopping, best iteration is:\n",
      "[97]\tvalid_0's mape: 0.15087\tvalid_0's l2: 1.17178\n",
      "Training until validation scores don't improve for 100 rounds\n",
      "Early stopping, best iteration is:\n",
      "[99]\tvalid_0's mape: 0.16417\tvalid_0's l2: 1.31402\n",
      "Training until validation scores don't improve for 100 rounds\n",
      "Early stopping, best iteration is:\n",
      "[128]\tvalid_0's mape: 0.166618\tvalid_0's l2: 1.29785\n",
      "Training until validation scores don't improve for 100 rounds\n",
      "Early stopping, best iteration is:\n",
      "[111]\tvalid_0's mape: 0.159237\tvalid_0's l2: 1.23261\n",
      "Training until validation scores don't improve for 100 rounds\n"
     ]
    },
    {
     "name": "stderr",
     "output_type": "stream",
     "text": [
      "[I 2023-07-07 18:51:42,085] Trial 177 finished with value: 0.8362736287195995 and parameters: {'n_estimators': 10000, 'learning_rate': 0.07533458512198336, 'num_leaves': 980, 'max_depth': 4, 'max_bin': 222, 'reg_alpha': 0, 'reg_lambda': 50, 'min_split_gain': 1.4889475325416472, 'subsample': 0.4, 'colsample_bytree': 1.0, 'min_child_samples': 144}. Best is trial 130 with value: 0.8345756025648694.\n"
     ]
    },
    {
     "name": "stdout",
     "output_type": "stream",
     "text": [
      "Early stopping, best iteration is:\n",
      "[85]\tvalid_0's mape: 0.155406\tvalid_0's l2: 1.19358\n",
      "Training until validation scores don't improve for 100 rounds\n",
      "Early stopping, best iteration is:\n",
      "[60]\tvalid_0's mape: 0.150388\tvalid_0's l2: 1.16272\n",
      "Training until validation scores don't improve for 100 rounds\n",
      "Early stopping, best iteration is:\n",
      "[57]\tvalid_0's mape: 0.179323\tvalid_0's l2: 1.37088\n",
      "Training until validation scores don't improve for 100 rounds\n",
      "Early stopping, best iteration is:\n",
      "[62]\tvalid_0's mape: 0.162028\tvalid_0's l2: 1.26474\n",
      "Training until validation scores don't improve for 100 rounds\n",
      "Early stopping, best iteration is:\n",
      "[60]\tvalid_0's mape: 0.164084\tvalid_0's l2: 1.31126\n",
      "Training until validation scores don't improve for 100 rounds\n"
     ]
    },
    {
     "name": "stderr",
     "output_type": "stream",
     "text": [
      "[I 2023-07-07 18:51:43,111] Trial 178 finished with value: 0.8419441306574648 and parameters: {'n_estimators': 10000, 'learning_rate': 0.08069002811408704, 'num_leaves': 920, 'max_depth': 3, 'max_bin': 291, 'reg_alpha': 5, 'reg_lambda': 40, 'min_split_gain': 5.911381697368487, 'subsample': 0.4, 'colsample_bytree': 1.0, 'min_child_samples': 144}. Best is trial 130 with value: 0.8345756025648694.\n"
     ]
    },
    {
     "name": "stdout",
     "output_type": "stream",
     "text": [
      "Early stopping, best iteration is:\n",
      "[60]\tvalid_0's mape: 0.148197\tvalid_0's l2: 1.17483\n",
      "Training until validation scores don't improve for 100 rounds\n",
      "Early stopping, best iteration is:\n",
      "[60]\tvalid_0's mape: 0.156117\tvalid_0's l2: 1.20251\n",
      "Training until validation scores don't improve for 100 rounds\n",
      "Early stopping, best iteration is:\n",
      "[69]\tvalid_0's mape: 0.160181\tvalid_0's l2: 1.28317\n",
      "Training until validation scores don't improve for 100 rounds\n",
      "Early stopping, best iteration is:\n",
      "[74]\tvalid_0's mape: 0.157278\tvalid_0's l2: 1.26734\n",
      "Training until validation scores don't improve for 100 rounds\n",
      "Early stopping, best iteration is:\n",
      "[78]\tvalid_0's mape: 0.166068\tvalid_0's l2: 1.28217\n",
      "Training until validation scores don't improve for 100 rounds\n"
     ]
    },
    {
     "name": "stderr",
     "output_type": "stream",
     "text": [
      "[I 2023-07-07 18:51:44,308] Trial 179 finished with value: 0.8432842393449885 and parameters: {'n_estimators': 10000, 'learning_rate': 0.07557191887233924, 'num_leaves': 1480, 'max_depth': 4, 'max_bin': 219, 'reg_alpha': 5, 'reg_lambda': 5, 'min_split_gain': 1.5567758731076822, 'subsample': 0.4, 'colsample_bytree': 0.9000000000000001, 'min_child_samples': 444}. Best is trial 130 with value: 0.8345756025648694.\n"
     ]
    },
    {
     "name": "stdout",
     "output_type": "stream",
     "text": [
      "Early stopping, best iteration is:\n",
      "[86]\tvalid_0's mape: 0.166666\tvalid_0's l2: 1.30416\n",
      "Training until validation scores don't improve for 100 rounds\n",
      "Early stopping, best iteration is:\n",
      "[208]\tvalid_0's mape: 0.158328\tvalid_0's l2: 1.22075\n",
      "Training until validation scores don't improve for 100 rounds\n",
      "Early stopping, best iteration is:\n",
      "[95]\tvalid_0's mape: 0.170496\tvalid_0's l2: 1.31859\n",
      "Training until validation scores don't improve for 100 rounds\n",
      "Early stopping, best iteration is:\n",
      "[196]\tvalid_0's mape: 0.159729\tvalid_0's l2: 1.26521\n",
      "Training until validation scores don't improve for 100 rounds\n",
      "Early stopping, best iteration is:\n",
      "[140]\tvalid_0's mape: 0.152156\tvalid_0's l2: 1.18159\n",
      "Training until validation scores don't improve for 100 rounds\n"
     ]
    },
    {
     "name": "stderr",
     "output_type": "stream",
     "text": [
      "[I 2023-07-07 18:51:46,082] Trial 180 finished with value: 0.8362451965429548 and parameters: {'n_estimators': 10000, 'learning_rate': 0.06779170335233224, 'num_leaves': 980, 'max_depth': 4, 'max_bin': 225, 'reg_alpha': 0, 'reg_lambda': 45, 'min_split_gain': 1.1056735826089046, 'subsample': 0.4, 'colsample_bytree': 1.0, 'min_child_samples': 107}. Best is trial 130 with value: 0.8345756025648694.\n"
     ]
    },
    {
     "name": "stdout",
     "output_type": "stream",
     "text": [
      "Early stopping, best iteration is:\n",
      "[94]\tvalid_0's mape: 0.155378\tvalid_0's l2: 1.23093\n",
      "Training until validation scores don't improve for 100 rounds\n",
      "Early stopping, best iteration is:\n",
      "[217]\tvalid_0's mape: 0.165734\tvalid_0's l2: 1.29298\n",
      "Training until validation scores don't improve for 100 rounds\n",
      "Early stopping, best iteration is:\n",
      "[100]\tvalid_0's mape: 0.153748\tvalid_0's l2: 1.17172\n",
      "Training until validation scores don't improve for 100 rounds\n",
      "Early stopping, best iteration is:\n",
      "[84]\tvalid_0's mape: 0.163758\tvalid_0's l2: 1.30246\n",
      "Training until validation scores don't improve for 100 rounds\n",
      "Early stopping, best iteration is:\n",
      "[134]\tvalid_0's mape: 0.157745\tvalid_0's l2: 1.24567\n",
      "Training until validation scores don't improve for 100 rounds\n"
     ]
    },
    {
     "name": "stderr",
     "output_type": "stream",
     "text": [
      "[I 2023-07-07 18:51:47,860] Trial 181 finished with value: 0.8367292755530483 and parameters: {'n_estimators': 10000, 'learning_rate': 0.06771224838565487, 'num_leaves': 980, 'max_depth': 4, 'max_bin': 225, 'reg_alpha': 0, 'reg_lambda': 45, 'min_split_gain': 1.0652305288127468, 'subsample': 0.4, 'colsample_bytree': 1.0, 'min_child_samples': 108}. Best is trial 130 with value: 0.8345756025648694.\n"
     ]
    },
    {
     "name": "stdout",
     "output_type": "stream",
     "text": [
      "Early stopping, best iteration is:\n",
      "[111]\tvalid_0's mape: 0.155155\tvalid_0's l2: 1.20445\n",
      "Training until validation scores don't improve for 100 rounds\n",
      "Early stopping, best iteration is:\n",
      "[66]\tvalid_0's mape: 0.146115\tvalid_0's l2: 1.12595\n",
      "Training until validation scores don't improve for 100 rounds\n",
      "Early stopping, best iteration is:\n",
      "[93]\tvalid_0's mape: 0.161837\tvalid_0's l2: 1.23512\n",
      "Training until validation scores don't improve for 100 rounds\n",
      "Early stopping, best iteration is:\n",
      "[85]\tvalid_0's mape: 0.165495\tvalid_0's l2: 1.28729\n",
      "Training until validation scores don't improve for 100 rounds\n",
      "Early stopping, best iteration is:\n",
      "[50]\tvalid_0's mape: 0.168672\tvalid_0's l2: 1.35557\n",
      "Training until validation scores don't improve for 100 rounds\n"
     ]
    },
    {
     "name": "stderr",
     "output_type": "stream",
     "text": [
      "[I 2023-07-07 18:51:49,364] Trial 182 finished with value: 0.8405009906400386 and parameters: {'n_estimators': 10000, 'learning_rate': 0.0736475876535471, 'num_leaves': 880, 'max_depth': 4, 'max_bin': 223, 'reg_alpha': 0, 'reg_lambda': 0, 'min_split_gain': 1.4478619703468212, 'subsample': 0.4, 'colsample_bytree': 1.0, 'min_child_samples': 104}. Best is trial 130 with value: 0.8345756025648694.\n"
     ]
    },
    {
     "name": "stdout",
     "output_type": "stream",
     "text": [
      "Early stopping, best iteration is:\n",
      "[103]\tvalid_0's mape: 0.157795\tvalid_0's l2: 1.24264\n",
      "Training until validation scores don't improve for 100 rounds\n",
      "Early stopping, best iteration is:\n",
      "[72]\tvalid_0's mape: 0.152034\tvalid_0's l2: 1.21504\n",
      "Training until validation scores don't improve for 100 rounds\n",
      "Early stopping, best iteration is:\n",
      "[109]\tvalid_0's mape: 0.151886\tvalid_0's l2: 1.18468\n",
      "Training until validation scores don't improve for 100 rounds\n",
      "Early stopping, best iteration is:\n",
      "[68]\tvalid_0's mape: 0.169601\tvalid_0's l2: 1.34906\n",
      "Training until validation scores don't improve for 100 rounds\n",
      "Early stopping, best iteration is:\n",
      "[83]\tvalid_0's mape: 0.165889\tvalid_0's l2: 1.25177\n",
      "Training until validation scores don't improve for 100 rounds\n"
     ]
    },
    {
     "name": "stderr",
     "output_type": "stream",
     "text": [
      "[I 2023-07-07 18:51:50,985] Trial 183 finished with value: 0.8386361714666377 and parameters: {'n_estimators': 10000, 'learning_rate': 0.08064211401745718, 'num_leaves': 1000, 'max_depth': 4, 'max_bin': 228, 'reg_alpha': 0, 'reg_lambda': 45, 'min_split_gain': 0.9116893923002347, 'subsample': 0.4, 'colsample_bytree': 1.0, 'min_child_samples': 118}. Best is trial 130 with value: 0.8345756025648694.\n"
     ]
    },
    {
     "name": "stdout",
     "output_type": "stream",
     "text": [
      "Early stopping, best iteration is:\n",
      "[74]\tvalid_0's mape: 0.159291\tvalid_0's l2: 1.23841\n",
      "Training until validation scores don't improve for 100 rounds\n",
      "Early stopping, best iteration is:\n",
      "[100]\tvalid_0's mape: 0.158387\tvalid_0's l2: 1.18297\n",
      "Training until validation scores don't improve for 100 rounds\n",
      "Early stopping, best iteration is:\n",
      "[100]\tvalid_0's mape: 0.175621\tvalid_0's l2: 1.37184\n",
      "Training until validation scores don't improve for 100 rounds\n",
      "Early stopping, best iteration is:\n",
      "[113]\tvalid_0's mape: 0.158625\tvalid_0's l2: 1.24399\n",
      "Training until validation scores don't improve for 100 rounds\n",
      "Early stopping, best iteration is:\n",
      "[81]\tvalid_0's mape: 0.152009\tvalid_0's l2: 1.23525\n",
      "Training until validation scores don't improve for 100 rounds\n"
     ]
    },
    {
     "name": "stderr",
     "output_type": "stream",
     "text": [
      "[I 2023-07-07 18:51:52,414] Trial 184 finished with value: 0.8385971989140373 and parameters: {'n_estimators': 10000, 'learning_rate': 0.06270918691811317, 'num_leaves': 820, 'max_depth': 4, 'max_bin': 221, 'reg_alpha': 5, 'reg_lambda': 50, 'min_split_gain': 2.0790821838976217, 'subsample': 0.4, 'colsample_bytree': 1.0, 'min_child_samples': 134}. Best is trial 130 with value: 0.8345756025648694.\n"
     ]
    },
    {
     "name": "stdout",
     "output_type": "stream",
     "text": [
      "Early stopping, best iteration is:\n",
      "[114]\tvalid_0's mape: 0.154192\tvalid_0's l2: 1.21153\n",
      "Training until validation scores don't improve for 100 rounds\n",
      "Early stopping, best iteration is:\n",
      "[99]\tvalid_0's mape: 0.154362\tvalid_0's l2: 1.20187\n",
      "Training until validation scores don't improve for 100 rounds\n",
      "Early stopping, best iteration is:\n",
      "[70]\tvalid_0's mape: 0.161367\tvalid_0's l2: 1.2734\n",
      "Training until validation scores don't improve for 100 rounds\n",
      "Early stopping, best iteration is:\n",
      "[102]\tvalid_0's mape: 0.151035\tvalid_0's l2: 1.1678\n",
      "Training until validation scores don't improve for 100 rounds\n",
      "Early stopping, best iteration is:\n",
      "[58]\tvalid_0's mape: 0.158522\tvalid_0's l2: 1.21402\n",
      "Training until validation scores don't improve for 100 rounds\n"
     ]
    },
    {
     "name": "stderr",
     "output_type": "stream",
     "text": [
      "[I 2023-07-07 18:51:54,112] Trial 185 finished with value: 0.8370578085868416 and parameters: {'n_estimators': 10000, 'learning_rate': 0.09379934175130486, 'num_leaves': 960, 'max_depth': 4, 'max_bin': 216, 'reg_alpha': 5, 'reg_lambda': 45, 'min_split_gain': 0.6183729058801968, 'subsample': 0.4, 'colsample_bytree': 1.0, 'min_child_samples': 93}. Best is trial 130 with value: 0.8345756025648694.\n"
     ]
    },
    {
     "name": "stdout",
     "output_type": "stream",
     "text": [
      "Early stopping, best iteration is:\n",
      "[57]\tvalid_0's mape: 0.171379\tvalid_0's l2: 1.3669\n",
      "Training until validation scores don't improve for 100 rounds\n",
      "Early stopping, best iteration is:\n",
      "[87]\tvalid_0's mape: 0.15642\tvalid_0's l2: 1.23104\n",
      "Training until validation scores don't improve for 100 rounds\n",
      "Early stopping, best iteration is:\n",
      "[100]\tvalid_0's mape: 0.16185\tvalid_0's l2: 1.26015\n",
      "Training until validation scores don't improve for 100 rounds\n",
      "Early stopping, best iteration is:\n",
      "[108]\tvalid_0's mape: 0.159056\tvalid_0's l2: 1.27503\n",
      "Training until validation scores don't improve for 100 rounds\n",
      "Early stopping, best iteration is:\n",
      "[148]\tvalid_0's mape: 0.157493\tvalid_0's l2: 1.21698\n",
      "Training until validation scores don't improve for 100 rounds\n"
     ]
    },
    {
     "name": "stderr",
     "output_type": "stream",
     "text": [
      "[I 2023-07-07 18:51:55,820] Trial 186 finished with value: 0.8382660019024014 and parameters: {'n_estimators': 10000, 'learning_rate': 0.06977593029895737, 'num_leaves': 1360, 'max_depth': 4, 'max_bin': 224, 'reg_alpha': 0, 'reg_lambda': 40, 'min_split_gain': 1.1667546456450768, 'subsample': 0.30000000000000004, 'colsample_bytree': 1.0, 'min_child_samples': 111}. Best is trial 130 with value: 0.8345756025648694.\n"
     ]
    },
    {
     "name": "stdout",
     "output_type": "stream",
     "text": [
      "Early stopping, best iteration is:\n",
      "[94]\tvalid_0's mape: 0.162576\tvalid_0's l2: 1.26315\n",
      "Training until validation scores don't improve for 100 rounds\n",
      "Early stopping, best iteration is:\n",
      "[154]\tvalid_0's mape: 0.158647\tvalid_0's l2: 1.21799\n",
      "Training until validation scores don't improve for 100 rounds\n",
      "Early stopping, best iteration is:\n",
      "[165]\tvalid_0's mape: 0.176356\tvalid_0's l2: 1.38675\n",
      "Training until validation scores don't improve for 100 rounds\n",
      "Early stopping, best iteration is:\n",
      "[160]\tvalid_0's mape: 0.1498\tvalid_0's l2: 1.16284\n",
      "Training until validation scores don't improve for 100 rounds\n",
      "Early stopping, best iteration is:\n",
      "[165]\tvalid_0's mape: 0.159546\tvalid_0's l2: 1.24336\n",
      "Training until validation scores don't improve for 100 rounds\n"
     ]
    },
    {
     "name": "stderr",
     "output_type": "stream",
     "text": [
      "[I 2023-07-07 18:51:57,934] Trial 187 finished with value: 0.8375035710423667 and parameters: {'n_estimators': 10000, 'learning_rate': 0.039514869547657434, 'num_leaves': 1080, 'max_depth': 5, 'max_bin': 219, 'reg_alpha': 10, 'reg_lambda': 50, 'min_split_gain': 1.6379818463423645, 'subsample': 0.5, 'colsample_bytree': 0.9000000000000001, 'min_child_samples': 78}. Best is trial 130 with value: 0.8345756025648694.\n"
     ]
    },
    {
     "name": "stdout",
     "output_type": "stream",
     "text": [
      "Early stopping, best iteration is:\n",
      "[130]\tvalid_0's mape: 0.153169\tvalid_0's l2: 1.21262\n",
      "Training until validation scores don't improve for 100 rounds\n",
      "Early stopping, best iteration is:\n",
      "[159]\tvalid_0's mape: 0.166093\tvalid_0's l2: 1.24855\n",
      "Training until validation scores don't improve for 100 rounds\n",
      "Early stopping, best iteration is:\n",
      "[256]\tvalid_0's mape: 0.161242\tvalid_0's l2: 1.28635\n",
      "Training until validation scores don't improve for 100 rounds\n",
      "Early stopping, best iteration is:\n",
      "[155]\tvalid_0's mape: 0.159884\tvalid_0's l2: 1.27559\n",
      "Training until validation scores don't improve for 100 rounds\n",
      "Early stopping, best iteration is:\n",
      "[176]\tvalid_0's mape: 0.160123\tvalid_0's l2: 1.24799\n",
      "Training until validation scores don't improve for 100 rounds\n"
     ]
    },
    {
     "name": "stderr",
     "output_type": "stream",
     "text": [
      "[I 2023-07-07 18:51:59,738] Trial 188 finished with value: 0.8375677331480409 and parameters: {'n_estimators': 10000, 'learning_rate': 0.05626585673677182, 'num_leaves': 920, 'max_depth': 3, 'max_bin': 226, 'reg_alpha': 5, 'reg_lambda': 45, 'min_split_gain': 0.7993684301777108, 'subsample': 0.5, 'colsample_bytree': 1.0, 'min_child_samples': 126}. Best is trial 130 with value: 0.8345756025648694.\n"
     ]
    },
    {
     "name": "stdout",
     "output_type": "stream",
     "text": [
      "Early stopping, best iteration is:\n",
      "[225]\tvalid_0's mape: 0.150114\tvalid_0's l2: 1.17573\n",
      "Training until validation scores don't improve for 100 rounds\n",
      "Early stopping, best iteration is:\n",
      "[66]\tvalid_0's mape: 0.161714\tvalid_0's l2: 1.25983\n",
      "Training until validation scores don't improve for 100 rounds\n",
      "Early stopping, best iteration is:\n",
      "[67]\tvalid_0's mape: 0.177169\tvalid_0's l2: 1.41612\n",
      "Training until validation scores don't improve for 100 rounds\n",
      "Early stopping, best iteration is:\n",
      "[71]\tvalid_0's mape: 0.157081\tvalid_0's l2: 1.22009\n",
      "Training until validation scores don't improve for 100 rounds\n",
      "Early stopping, best iteration is:\n",
      "[73]\tvalid_0's mape: 0.165784\tvalid_0's l2: 1.29181\n",
      "Training until validation scores don't improve for 100 rounds\n"
     ]
    },
    {
     "name": "stderr",
     "output_type": "stream",
     "text": [
      "[I 2023-07-07 18:52:00,867] Trial 189 finished with value: 0.8460980328430072 and parameters: {'n_estimators': 10000, 'learning_rate': 0.10236790192429487, 'num_leaves': 860, 'max_depth': 4, 'max_bin': 214, 'reg_alpha': 70, 'reg_lambda': 40, 'min_split_gain': 0.27024235000169333, 'subsample': 0.5, 'colsample_bytree': 1.0, 'min_child_samples': 270}. Best is trial 130 with value: 0.8345756025648694.\n"
     ]
    },
    {
     "name": "stdout",
     "output_type": "stream",
     "text": [
      "Early stopping, best iteration is:\n",
      "[70]\tvalid_0's mape: 0.148039\tvalid_0's l2: 1.16422\n",
      "Training until validation scores don't improve for 100 rounds\n",
      "Early stopping, best iteration is:\n",
      "[105]\tvalid_0's mape: 0.163015\tvalid_0's l2: 1.25817\n",
      "Training until validation scores don't improve for 100 rounds\n",
      "Early stopping, best iteration is:\n",
      "[114]\tvalid_0's mape: 0.163706\tvalid_0's l2: 1.24857\n",
      "Training until validation scores don't improve for 100 rounds\n",
      "Early stopping, best iteration is:\n",
      "[88]\tvalid_0's mape: 0.15267\tvalid_0's l2: 1.19437\n",
      "Training until validation scores don't improve for 100 rounds\n",
      "Early stopping, best iteration is:\n",
      "[112]\tvalid_0's mape: 0.159494\tvalid_0's l2: 1.26515\n",
      "Training until validation scores don't improve for 100 rounds\n"
     ]
    },
    {
     "name": "stderr",
     "output_type": "stream",
     "text": [
      "[I 2023-07-07 18:52:02,878] Trial 190 finished with value: 0.8398594174671311 and parameters: {'n_estimators': 10000, 'learning_rate': 0.04337331889129458, 'num_leaves': 780, 'max_depth': 9, 'max_bin': 217, 'reg_alpha': 0, 'reg_lambda': 35, 'min_split_gain': 3.380364037167843, 'subsample': 0.5, 'colsample_bytree': 1.0, 'min_child_samples': 99}. Best is trial 130 with value: 0.8345756025648694.\n"
     ]
    },
    {
     "name": "stdout",
     "output_type": "stream",
     "text": [
      "Early stopping, best iteration is:\n",
      "[114]\tvalid_0's mape: 0.161184\tvalid_0's l2: 1.28943\n",
      "Training until validation scores don't improve for 100 rounds\n",
      "Early stopping, best iteration is:\n",
      "[144]\tvalid_0's mape: 0.171541\tvalid_0's l2: 1.33573\n",
      "Training until validation scores don't improve for 100 rounds\n",
      "Early stopping, best iteration is:\n",
      "[114]\tvalid_0's mape: 0.157725\tvalid_0's l2: 1.2348\n",
      "Training until validation scores don't improve for 100 rounds\n",
      "Early stopping, best iteration is:\n",
      "[143]\tvalid_0's mape: 0.151664\tvalid_0's l2: 1.17746\n",
      "Training until validation scores don't improve for 100 rounds\n",
      "Early stopping, best iteration is:\n",
      "[164]\tvalid_0's mape: 0.161855\tvalid_0's l2: 1.26236\n",
      "Training until validation scores don't improve for 100 rounds\n"
     ]
    },
    {
     "name": "stderr",
     "output_type": "stream",
     "text": [
      "[I 2023-07-07 18:52:04,846] Trial 191 finished with value: 0.8365425982727303 and parameters: {'n_estimators': 10000, 'learning_rate': 0.05079489619632392, 'num_leaves': 1020, 'max_depth': 4, 'max_bin': 222, 'reg_alpha': 0, 'reg_lambda': 50, 'min_split_gain': 0.2926441600231676, 'subsample': 0.5, 'colsample_bytree': 1.0, 'min_child_samples': 125}. Best is trial 130 with value: 0.8345756025648694.\n"
     ]
    },
    {
     "name": "stdout",
     "output_type": "stream",
     "text": [
      "Early stopping, best iteration is:\n",
      "[150]\tvalid_0's mape: 0.155057\tvalid_0's l2: 1.22014\n",
      "Training until validation scores don't improve for 100 rounds\n",
      "Early stopping, best iteration is:\n",
      "[213]\tvalid_0's mape: 0.157835\tvalid_0's l2: 1.25877\n",
      "Training until validation scores don't improve for 100 rounds\n",
      "Early stopping, best iteration is:\n",
      "[117]\tvalid_0's mape: 0.162617\tvalid_0's l2: 1.30674\n",
      "Training until validation scores don't improve for 100 rounds\n",
      "Early stopping, best iteration is:\n",
      "[121]\tvalid_0's mape: 0.154509\tvalid_0's l2: 1.20687\n",
      "Training until validation scores don't improve for 100 rounds\n",
      "Early stopping, best iteration is:\n",
      "[128]\tvalid_0's mape: 0.145248\tvalid_0's l2: 1.12132\n",
      "Training until validation scores don't improve for 100 rounds\n"
     ]
    },
    {
     "name": "stderr",
     "output_type": "stream",
     "text": [
      "[I 2023-07-07 18:52:06,815] Trial 192 finished with value: 0.8377327495467407 and parameters: {'n_estimators': 10000, 'learning_rate': 0.05192243591056417, 'num_leaves': 1000, 'max_depth': 4, 'max_bin': 221, 'reg_alpha': 0, 'reg_lambda': 50, 'min_split_gain': 0.5368149499567432, 'subsample': 0.5, 'colsample_bytree': 1.0, 'min_child_samples': 116}. Best is trial 130 with value: 0.8345756025648694.\n"
     ]
    },
    {
     "name": "stdout",
     "output_type": "stream",
     "text": [
      "Early stopping, best iteration is:\n",
      "[162]\tvalid_0's mape: 0.177285\tvalid_0's l2: 1.34033\n",
      "Training until validation scores don't improve for 100 rounds\n",
      "Early stopping, best iteration is:\n",
      "[85]\tvalid_0's mape: 0.157632\tvalid_0's l2: 1.24166\n",
      "Training until validation scores don't improve for 100 rounds\n",
      "Early stopping, best iteration is:\n",
      "[78]\tvalid_0's mape: 0.167718\tvalid_0's l2: 1.30931\n",
      "Training until validation scores don't improve for 100 rounds\n",
      "Early stopping, best iteration is:\n",
      "[74]\tvalid_0's mape: 0.159097\tvalid_0's l2: 1.22375\n",
      "Training until validation scores don't improve for 100 rounds\n",
      "Early stopping, best iteration is:\n",
      "[82]\tvalid_0's mape: 0.170778\tvalid_0's l2: 1.33843\n",
      "Training until validation scores don't improve for 100 rounds\n"
     ]
    },
    {
     "name": "stderr",
     "output_type": "stream",
     "text": [
      "[I 2023-07-07 18:52:08,052] Trial 193 finished with value: 0.8390773205710165 and parameters: {'n_estimators': 10000, 'learning_rate': 0.06242317598522312, 'num_leaves': 960, 'max_depth': 4, 'max_bin': 223, 'reg_alpha': 0, 'reg_lambda': 50, 'min_split_gain': 3.850021766538256, 'subsample': 0.5, 'colsample_bytree': 1.0, 'min_child_samples': 146}. Best is trial 130 with value: 0.8345756025648694.\n"
     ]
    },
    {
     "name": "stdout",
     "output_type": "stream",
     "text": [
      "Early stopping, best iteration is:\n",
      "[78]\tvalid_0's mape: 0.145095\tvalid_0's l2: 1.14389\n",
      "Training until validation scores don't improve for 100 rounds\n",
      "Early stopping, best iteration is:\n",
      "[230]\tvalid_0's mape: 0.160608\tvalid_0's l2: 1.24597\n",
      "Training until validation scores don't improve for 100 rounds\n",
      "Early stopping, best iteration is:\n",
      "[239]\tvalid_0's mape: 0.157874\tvalid_0's l2: 1.21848\n",
      "Training until validation scores don't improve for 100 rounds\n",
      "Early stopping, best iteration is:\n",
      "[107]\tvalid_0's mape: 0.158342\tvalid_0's l2: 1.24277\n",
      "Training until validation scores don't improve for 100 rounds\n",
      "Early stopping, best iteration is:\n",
      "[280]\tvalid_0's mape: 0.159149\tvalid_0's l2: 1.2537\n",
      "Training until validation scores don't improve for 100 rounds\n"
     ]
    },
    {
     "name": "stderr",
     "output_type": "stream",
     "text": [
      "[I 2023-07-07 18:52:10,627] Trial 194 finished with value: 0.8374917114849681 and parameters: {'n_estimators': 10000, 'learning_rate': 0.03534865976394576, 'num_leaves': 1120, 'max_depth': 4, 'max_bin': 220, 'reg_alpha': 5, 'reg_lambda': 45, 'min_split_gain': 0.3493721021072982, 'subsample': 0.5, 'colsample_bytree': 1.0, 'min_child_samples': 131}. Best is trial 130 with value: 0.8345756025648694.\n"
     ]
    },
    {
     "name": "stdout",
     "output_type": "stream",
     "text": [
      "Early stopping, best iteration is:\n",
      "[406]\tvalid_0's mape: 0.161353\tvalid_0's l2: 1.28286\n",
      "Training until validation scores don't improve for 100 rounds\n",
      "Early stopping, best iteration is:\n",
      "[203]\tvalid_0's mape: 0.160789\tvalid_0's l2: 1.23264\n",
      "Training until validation scores don't improve for 100 rounds\n",
      "Early stopping, best iteration is:\n",
      "[179]\tvalid_0's mape: 0.169491\tvalid_0's l2: 1.31467\n",
      "Training until validation scores don't improve for 100 rounds\n",
      "Early stopping, best iteration is:\n",
      "[100]\tvalid_0's mape: 0.154676\tvalid_0's l2: 1.24973\n",
      "Training until validation scores don't improve for 100 rounds\n",
      "Early stopping, best iteration is:\n",
      "[197]\tvalid_0's mape: 0.149142\tvalid_0's l2: 1.17133\n",
      "Training until validation scores don't improve for 100 rounds\n"
     ]
    },
    {
     "name": "stderr",
     "output_type": "stream",
     "text": [
      "[I 2023-07-07 18:52:12,613] Trial 195 finished with value: 0.8345574540649607 and parameters: {'n_estimators': 10000, 'learning_rate': 0.05562551242987125, 'num_leaves': 900, 'max_depth': 4, 'max_bin': 225, 'reg_alpha': 0, 'reg_lambda': 55, 'min_split_gain': 1.000028332626675, 'subsample': 0.4, 'colsample_bytree': 1.0, 'min_child_samples': 109}. Best is trial 195 with value: 0.8345574540649607.\n"
     ]
    },
    {
     "name": "stdout",
     "output_type": "stream",
     "text": [
      "Early stopping, best iteration is:\n",
      "[128]\tvalid_0's mape: 0.160165\tvalid_0's l2: 1.22739\n",
      "Training until validation scores don't improve for 100 rounds\n",
      "Early stopping, best iteration is:\n",
      "[125]\tvalid_0's mape: 0.157251\tvalid_0's l2: 1.21793\n",
      "Training until validation scores don't improve for 100 rounds\n",
      "Early stopping, best iteration is:\n",
      "[111]\tvalid_0's mape: 0.153709\tvalid_0's l2: 1.18614\n",
      "Training until validation scores don't improve for 100 rounds\n",
      "Early stopping, best iteration is:\n",
      "[161]\tvalid_0's mape: 0.164229\tvalid_0's l2: 1.26598\n",
      "Training until validation scores don't improve for 100 rounds\n",
      "Early stopping, best iteration is:\n",
      "[73]\tvalid_0's mape: 0.160958\tvalid_0's l2: 1.31044\n",
      "Training until validation scores don't improve for 100 rounds\n"
     ]
    },
    {
     "name": "stderr",
     "output_type": "stream",
     "text": [
      "[I 2023-07-07 18:52:14,273] Trial 196 finished with value: 0.8360293068809028 and parameters: {'n_estimators': 10000, 'learning_rate': 0.05888104111488573, 'num_leaves': 880, 'max_depth': 4, 'max_bin': 227, 'reg_alpha': 5, 'reg_lambda': 55, 'min_split_gain': 1.2545749890581415, 'subsample': 0.4, 'colsample_bytree': 0.9000000000000001, 'min_child_samples': 91}. Best is trial 195 with value: 0.8345574540649607.\n"
     ]
    },
    {
     "name": "stdout",
     "output_type": "stream",
     "text": [
      "Early stopping, best iteration is:\n",
      "[141]\tvalid_0's mape: 0.159999\tvalid_0's l2: 1.23214\n",
      "Training until validation scores don't improve for 100 rounds\n",
      "Early stopping, best iteration is:\n",
      "[86]\tvalid_0's mape: 0.157955\tvalid_0's l2: 1.27282\n",
      "Training until validation scores don't improve for 100 rounds\n",
      "Early stopping, best iteration is:\n",
      "[68]\tvalid_0's mape: 0.161619\tvalid_0's l2: 1.26386\n",
      "Training until validation scores don't improve for 100 rounds\n",
      "Early stopping, best iteration is:\n",
      "[117]\tvalid_0's mape: 0.15943\tvalid_0's l2: 1.24448\n",
      "Training until validation scores don't improve for 100 rounds\n",
      "Early stopping, best iteration is:\n",
      "[110]\tvalid_0's mape: 0.164052\tvalid_0's l2: 1.30189\n",
      "Training until validation scores don't improve for 100 rounds\n"
     ]
    },
    {
     "name": "stderr",
     "output_type": "stream",
     "text": [
      "[I 2023-07-07 18:52:15,783] Trial 197 finished with value: 0.8371798246450973 and parameters: {'n_estimators': 10000, 'learning_rate': 0.08389311846779271, 'num_leaves': 900, 'max_depth': 4, 'max_bin': 230, 'reg_alpha': 5, 'reg_lambda': 55, 'min_split_gain': 1.072759209927515, 'subsample': 0.4, 'colsample_bytree': 0.9000000000000001, 'min_child_samples': 86}. Best is trial 195 with value: 0.8345574540649607.\n"
     ]
    },
    {
     "name": "stdout",
     "output_type": "stream",
     "text": [
      "Early stopping, best iteration is:\n",
      "[130]\tvalid_0's mape: 0.15414\tvalid_0's l2: 1.14152\n",
      "Training until validation scores don't improve for 100 rounds\n",
      "Early stopping, best iteration is:\n",
      "[96]\tvalid_0's mape: 0.156468\tvalid_0's l2: 1.22633\n",
      "Training until validation scores don't improve for 100 rounds\n",
      "Early stopping, best iteration is:\n",
      "[103]\tvalid_0's mape: 0.150869\tvalid_0's l2: 1.15045\n",
      "Training until validation scores don't improve for 100 rounds\n",
      "Early stopping, best iteration is:\n",
      "[128]\tvalid_0's mape: 0.164446\tvalid_0's l2: 1.31209\n",
      "Training until validation scores don't improve for 100 rounds\n",
      "Early stopping, best iteration is:\n",
      "[79]\tvalid_0's mape: 0.170831\tvalid_0's l2: 1.33293\n",
      "Training until validation scores don't improve for 100 rounds\n"
     ]
    },
    {
     "name": "stderr",
     "output_type": "stream",
     "text": [
      "[I 2023-07-07 18:52:17,616] Trial 198 finished with value: 0.8371481116135234 and parameters: {'n_estimators': 10000, 'learning_rate': 0.0672098384456769, 'num_leaves': 1600, 'max_depth': 5, 'max_bin': 227, 'reg_alpha': 10, 'reg_lambda': 55, 'min_split_gain': 0.7922787005581904, 'subsample': 0.4, 'colsample_bytree': 0.9000000000000001, 'min_child_samples': 92}. Best is trial 195 with value: 0.8345574540649607.\n"
     ]
    },
    {
     "name": "stdout",
     "output_type": "stream",
     "text": [
      "Early stopping, best iteration is:\n",
      "[86]\tvalid_0's mape: 0.154232\tvalid_0's l2: 1.19713\n",
      "Training until validation scores don't improve for 100 rounds\n",
      "Early stopping, best iteration is:\n",
      "[190]\tvalid_0's mape: 0.148659\tvalid_0's l2: 1.15581\n",
      "Training until validation scores don't improve for 100 rounds\n",
      "Early stopping, best iteration is:\n",
      "[294]\tvalid_0's mape: 0.170419\tvalid_0's l2: 1.3107\n",
      "Training until validation scores don't improve for 100 rounds\n",
      "Early stopping, best iteration is:\n",
      "[155]\tvalid_0's mape: 0.160986\tvalid_0's l2: 1.29007\n",
      "Training until validation scores don't improve for 100 rounds\n",
      "Early stopping, best iteration is:\n",
      "[253]\tvalid_0's mape: 0.168762\tvalid_0's l2: 1.29643\n",
      "Training until validation scores don't improve for 100 rounds\n"
     ]
    },
    {
     "name": "stderr",
     "output_type": "stream",
     "text": [
      "[I 2023-07-07 18:52:20,030] Trial 199 finished with value: 0.8365841226830291 and parameters: {'n_estimators': 10000, 'learning_rate': 0.042005903855426276, 'num_leaves': 720, 'max_depth': 4, 'max_bin': 225, 'reg_alpha': 5, 'reg_lambda': 55, 'min_split_gain': 0.019337324596281943, 'subsample': 0.4, 'colsample_bytree': 0.9000000000000001, 'min_child_samples': 104}. Best is trial 195 with value: 0.8345574540649607.\n"
     ]
    },
    {
     "name": "stdout",
     "output_type": "stream",
     "text": [
      "Early stopping, best iteration is:\n",
      "[188]\tvalid_0's mape: 0.147995\tvalid_0's l2: 1.17604\n",
      "Training until validation scores don't improve for 100 rounds\n",
      "Early stopping, best iteration is:\n",
      "[439]\tvalid_0's mape: 0.157387\tvalid_0's l2: 1.24231\n",
      "Training until validation scores don't improve for 100 rounds\n",
      "Early stopping, best iteration is:\n",
      "[406]\tvalid_0's mape: 0.154768\tvalid_0's l2: 1.17521\n",
      "Training until validation scores don't improve for 100 rounds\n",
      "Early stopping, best iteration is:\n",
      "[351]\tvalid_0's mape: 0.180191\tvalid_0's l2: 1.42202\n",
      "Training until validation scores don't improve for 100 rounds\n",
      "Early stopping, best iteration is:\n",
      "[348]\tvalid_0's mape: 0.142781\tvalid_0's l2: 1.15127\n",
      "Training until validation scores don't improve for 100 rounds\n"
     ]
    },
    {
     "name": "stderr",
     "output_type": "stream",
     "text": [
      "[I 2023-07-07 18:52:22,566] Trial 200 finished with value: 0.8370920644166965 and parameters: {'n_estimators': 10000, 'learning_rate': 0.02413998283142347, 'num_leaves': 840, 'max_depth': 3, 'max_bin': 228, 'reg_alpha': 10, 'reg_lambda': 50, 'min_split_gain': 1.1821767081518055, 'subsample': 0.4, 'colsample_bytree': 0.9000000000000001, 'min_child_samples': 81}. Best is trial 195 with value: 0.8345574540649607.\n"
     ]
    },
    {
     "name": "stdout",
     "output_type": "stream",
     "text": [
      "Early stopping, best iteration is:\n",
      "[446]\tvalid_0's mape: 0.16233\tvalid_0's l2: 1.2417\n",
      "Training until validation scores don't improve for 100 rounds\n",
      "Early stopping, best iteration is:\n",
      "[97]\tvalid_0's mape: 0.139988\tvalid_0's l2: 1.11733\n",
      "Training until validation scores don't improve for 100 rounds\n",
      "Early stopping, best iteration is:\n",
      "[100]\tvalid_0's mape: 0.167987\tvalid_0's l2: 1.29526\n",
      "Training until validation scores don't improve for 100 rounds\n",
      "Early stopping, best iteration is:\n",
      "[125]\tvalid_0's mape: 0.158138\tvalid_0's l2: 1.2268\n",
      "Training until validation scores don't improve for 100 rounds\n",
      "Early stopping, best iteration is:\n",
      "[151]\tvalid_0's mape: 0.163851\tvalid_0's l2: 1.28806\n",
      "Training until validation scores don't improve for 100 rounds\n"
     ]
    },
    {
     "name": "stderr",
     "output_type": "stream",
     "text": [
      "[I 2023-07-07 18:52:24,319] Trial 201 finished with value: 0.839056992654791 and parameters: {'n_estimators': 10000, 'learning_rate': 0.05467122734021346, 'num_leaves': 940, 'max_depth': 4, 'max_bin': 225, 'reg_alpha': 0, 'reg_lambda': 40, 'min_split_gain': 1.4985772945678097, 'subsample': 0.30000000000000004, 'colsample_bytree': 1.0, 'min_child_samples': 108}. Best is trial 195 with value: 0.8345574540649607.\n"
     ]
    },
    {
     "name": "stdout",
     "output_type": "stream",
     "text": [
      "Early stopping, best iteration is:\n",
      "[88]\tvalid_0's mape: 0.169816\tvalid_0's l2: 1.32998\n",
      "Training until validation scores don't improve for 100 rounds\n",
      "Early stopping, best iteration is:\n",
      "[244]\tvalid_0's mape: 0.144396\tvalid_0's l2: 1.12116\n",
      "Training until validation scores don't improve for 100 rounds\n",
      "Early stopping, best iteration is:\n",
      "[119]\tvalid_0's mape: 0.157673\tvalid_0's l2: 1.25719\n",
      "Training until validation scores don't improve for 100 rounds\n",
      "Early stopping, best iteration is:\n",
      "[76]\tvalid_0's mape: 0.165249\tvalid_0's l2: 1.25642\n",
      "Training until validation scores don't improve for 100 rounds\n",
      "Early stopping, best iteration is:\n",
      "[223]\tvalid_0's mape: 0.163136\tvalid_0's l2: 1.26972\n",
      "Training until validation scores don't improve for 100 rounds\n"
     ]
    },
    {
     "name": "stderr",
     "output_type": "stream",
     "text": [
      "[I 2023-07-07 18:52:26,395] Trial 202 finished with value: 0.8369770736716082 and parameters: {'n_estimators': 10000, 'learning_rate': 0.05718927598429965, 'num_leaves': 880, 'max_depth': 4, 'max_bin': 218, 'reg_alpha': 0, 'reg_lambda': 45, 'min_split_gain': 0.633138325909708, 'subsample': 0.4, 'colsample_bytree': 1.0, 'min_child_samples': 118}. Best is trial 195 with value: 0.8345574540649607.\n"
     ]
    },
    {
     "name": "stdout",
     "output_type": "stream",
     "text": [
      "Early stopping, best iteration is:\n",
      "[139]\tvalid_0's mape: 0.166564\tvalid_0's l2: 1.32591\n",
      "Training until validation scores don't improve for 100 rounds\n",
      "Early stopping, best iteration is:\n",
      "[97]\tvalid_0's mape: 0.156688\tvalid_0's l2: 1.22898\n",
      "Training until validation scores don't improve for 100 rounds\n",
      "Early stopping, best iteration is:\n",
      "[97]\tvalid_0's mape: 0.16316\tvalid_0's l2: 1.27637\n",
      "Training until validation scores don't improve for 100 rounds\n",
      "Early stopping, best iteration is:\n",
      "[97]\tvalid_0's mape: 0.157375\tvalid_0's l2: 1.22013\n",
      "Training until validation scores don't improve for 100 rounds\n",
      "Early stopping, best iteration is:\n",
      "[82]\tvalid_0's mape: 0.16812\tvalid_0's l2: 1.29564\n",
      "Training until validation scores don't improve for 100 rounds\n"
     ]
    },
    {
     "name": "stderr",
     "output_type": "stream",
     "text": [
      "[I 2023-07-07 18:52:27,811] Trial 203 finished with value: 0.8362995582166828 and parameters: {'n_estimators': 10000, 'learning_rate': 0.07283183668322182, 'num_leaves': 800, 'max_depth': 4, 'max_bin': 223, 'reg_alpha': 5, 'reg_lambda': 45, 'min_split_gain': 1.9160211016565065, 'subsample': 0.4, 'colsample_bytree': 1.0, 'min_child_samples': 102}. Best is trial 195 with value: 0.8345574540649607.\n"
     ]
    },
    {
     "name": "stdout",
     "output_type": "stream",
     "text": [
      "Early stopping, best iteration is:\n",
      "[83]\tvalid_0's mape: 0.150642\tvalid_0's l2: 1.19129\n",
      "Training until validation scores don't improve for 100 rounds\n",
      "Early stopping, best iteration is:\n",
      "[53]\tvalid_0's mape: 0.158695\tvalid_0's l2: 1.23974\n",
      "Training until validation scores don't improve for 100 rounds\n",
      "Early stopping, best iteration is:\n",
      "[56]\tvalid_0's mape: 0.151074\tvalid_0's l2: 1.18197\n",
      "Training until validation scores don't improve for 100 rounds\n",
      "Early stopping, best iteration is:\n",
      "[57]\tvalid_0's mape: 0.156859\tvalid_0's l2: 1.24663\n",
      "Training until validation scores don't improve for 100 rounds\n",
      "Early stopping, best iteration is:\n",
      "[55]\tvalid_0's mape: 0.175011\tvalid_0's l2: 1.34338\n",
      "Training until validation scores don't improve for 100 rounds\n"
     ]
    },
    {
     "name": "stderr",
     "output_type": "stream",
     "text": [
      "[I 2023-07-07 18:52:28,933] Trial 204 finished with value: 0.8423871969301011 and parameters: {'n_estimators': 10000, 'learning_rate': 0.07559764748946238, 'num_leaves': 800, 'max_depth': 4, 'max_bin': 222, 'reg_alpha': 5, 'reg_lambda': 50, 'min_split_gain': 7.651495157747228, 'subsample': 0.4, 'colsample_bytree': 0.9000000000000001, 'min_child_samples': 92}. Best is trial 195 with value: 0.8345574540649607.\n"
     ]
    },
    {
     "name": "stdout",
     "output_type": "stream",
     "text": [
      "Early stopping, best iteration is:\n",
      "[59]\tvalid_0's mape: 0.162924\tvalid_0's l2: 1.2637\n",
      "Training until validation scores don't improve for 100 rounds\n",
      "Early stopping, best iteration is:\n",
      "[45]\tvalid_0's mape: 0.154231\tvalid_0's l2: 1.21329\n",
      "Training until validation scores don't improve for 100 rounds\n",
      "Early stopping, best iteration is:\n",
      "[46]\tvalid_0's mape: 0.159907\tvalid_0's l2: 1.25971\n",
      "Training until validation scores don't improve for 100 rounds\n",
      "Early stopping, best iteration is:\n",
      "[47]\tvalid_0's mape: 0.167686\tvalid_0's l2: 1.32619\n",
      "Training until validation scores don't improve for 100 rounds\n",
      "Early stopping, best iteration is:\n",
      "[46]\tvalid_0's mape: 0.161427\tvalid_0's l2: 1.25069\n",
      "Training until validation scores don't improve for 100 rounds\n",
      "Early stopping, best iteration is:\n",
      "[44]\tvalid_0's mape: 0.161235\tvalid_0's l2: 1.22822\n"
     ]
    },
    {
     "name": "stderr",
     "output_type": "stream",
     "text": [
      "[I 2023-07-07 18:52:29,967] Trial 205 finished with value: 0.841639687682826 and parameters: {'n_estimators': 10000, 'learning_rate': 0.08771195658902993, 'num_leaves': 880, 'max_depth': 4, 'max_bin': 220, 'reg_alpha': 5, 'reg_lambda': 45, 'min_split_gain': 8.999940560164312, 'subsample': 0.4, 'colsample_bytree': 1.0, 'min_child_samples': 99}. Best is trial 195 with value: 0.8345574540649607.\n"
     ]
    },
    {
     "name": "stdout",
     "output_type": "stream",
     "text": [
      "Training until validation scores don't improve for 100 rounds\n",
      "Early stopping, best iteration is:\n",
      "[89]\tvalid_0's mape: 0.156764\tvalid_0's l2: 1.23707\n",
      "Training until validation scores don't improve for 100 rounds\n",
      "Early stopping, best iteration is:\n",
      "[59]\tvalid_0's mape: 0.163277\tvalid_0's l2: 1.27603\n",
      "Training until validation scores don't improve for 100 rounds\n",
      "Early stopping, best iteration is:\n",
      "[67]\tvalid_0's mape: 0.160386\tvalid_0's l2: 1.23965\n",
      "Training until validation scores don't improve for 100 rounds\n",
      "Early stopping, best iteration is:\n",
      "[80]\tvalid_0's mape: 0.151195\tvalid_0's l2: 1.16781\n",
      "Training until validation scores don't improve for 100 rounds\n"
     ]
    },
    {
     "name": "stderr",
     "output_type": "stream",
     "text": [
      "[I 2023-07-07 18:52:32,099] Trial 206 finished with value: 0.8395350207940904 and parameters: {'n_estimators': 10000, 'learning_rate': 0.07258187866457841, 'num_leaves': 740, 'max_depth': 10, 'max_bin': 229, 'reg_alpha': 5, 'reg_lambda': 50, 'min_split_gain': 0.9342939485848818, 'subsample': 0.4, 'colsample_bytree': 1.0, 'min_child_samples': 135}. Best is trial 195 with value: 0.8345574540649607.\n"
     ]
    },
    {
     "name": "stdout",
     "output_type": "stream",
     "text": [
      "Early stopping, best iteration is:\n",
      "[74]\tvalid_0's mape: 0.168225\tvalid_0's l2: 1.34278\n",
      "Training until validation scores don't improve for 100 rounds\n",
      "Early stopping, best iteration is:\n",
      "[111]\tvalid_0's mape: 0.158588\tvalid_0's l2: 1.23028\n",
      "Training until validation scores don't improve for 100 rounds\n",
      "Early stopping, best iteration is:\n",
      "[88]\tvalid_0's mape: 0.150033\tvalid_0's l2: 1.16135\n",
      "Training until validation scores don't improve for 100 rounds\n",
      "Early stopping, best iteration is:\n",
      "[182]\tvalid_0's mape: 0.151267\tvalid_0's l2: 1.20241\n",
      "Training until validation scores don't improve for 100 rounds\n",
      "Early stopping, best iteration is:\n",
      "[85]\tvalid_0's mape: 0.170202\tvalid_0's l2: 1.35653\n",
      "Training until validation scores don't improve for 100 rounds\n"
     ]
    },
    {
     "name": "stderr",
     "output_type": "stream",
     "text": [
      "[I 2023-07-07 18:52:34,003] Trial 207 finished with value: 0.835523733909773 and parameters: {'n_estimators': 10000, 'learning_rate': 0.06768807272258114, 'num_leaves': 840, 'max_depth': 4, 'max_bin': 218, 'reg_alpha': 5, 'reg_lambda': 55, 'min_split_gain': 0.5773055961867164, 'subsample': 0.30000000000000004, 'colsample_bytree': 0.9000000000000001, 'min_child_samples': 111}. Best is trial 195 with value: 0.8345574540649607.\n"
     ]
    },
    {
     "name": "stdout",
     "output_type": "stream",
     "text": [
      "Early stopping, best iteration is:\n",
      "[161]\tvalid_0's mape: 0.165667\tvalid_0's l2: 1.25761\n",
      "Training until validation scores don't improve for 100 rounds\n",
      "Early stopping, best iteration is:\n",
      "[114]\tvalid_0's mape: 0.15949\tvalid_0's l2: 1.23249\n",
      "Training until validation scores don't improve for 100 rounds\n",
      "Early stopping, best iteration is:\n",
      "[121]\tvalid_0's mape: 0.163315\tvalid_0's l2: 1.25651\n",
      "Training until validation scores don't improve for 100 rounds\n",
      "Early stopping, best iteration is:\n",
      "[116]\tvalid_0's mape: 0.15721\tvalid_0's l2: 1.23166\n",
      "Training until validation scores don't improve for 100 rounds\n",
      "Early stopping, best iteration is:\n",
      "[124]\tvalid_0's mape: 0.16049\tvalid_0's l2: 1.26995\n",
      "Training until validation scores don't improve for 100 rounds\n"
     ]
    },
    {
     "name": "stderr",
     "output_type": "stream",
     "text": [
      "[I 2023-07-07 18:52:35,454] Trial 208 finished with value: 0.8369020614321002 and parameters: {'n_estimators': 10000, 'learning_rate': 0.06669377563456873, 'num_leaves': 920, 'max_depth': 4, 'max_bin': 223, 'reg_alpha': 10, 'reg_lambda': 55, 'min_split_gain': 1.3080706680151626, 'subsample': 0.30000000000000004, 'colsample_bytree': 0.9000000000000001, 'min_child_samples': 119}. Best is trial 195 with value: 0.8345574540649607.\n"
     ]
    },
    {
     "name": "stdout",
     "output_type": "stream",
     "text": [
      "Early stopping, best iteration is:\n",
      "[92]\tvalid_0's mape: 0.157064\tvalid_0's l2: 1.2329\n",
      "Training until validation scores don't improve for 100 rounds\n",
      "Early stopping, best iteration is:\n",
      "[78]\tvalid_0's mape: 0.160473\tvalid_0's l2: 1.24777\n",
      "Training until validation scores don't improve for 100 rounds\n",
      "Early stopping, best iteration is:\n",
      "[77]\tvalid_0's mape: 0.167078\tvalid_0's l2: 1.33097\n",
      "Training until validation scores don't improve for 100 rounds\n",
      "Early stopping, best iteration is:\n",
      "[82]\tvalid_0's mape: 0.139274\tvalid_0's l2: 1.08805\n",
      "Training until validation scores don't improve for 100 rounds\n",
      "Early stopping, best iteration is:\n",
      "[77]\tvalid_0's mape: 0.164494\tvalid_0's l2: 1.2738\n",
      "Training until validation scores don't improve for 100 rounds\n"
     ]
    },
    {
     "name": "stderr",
     "output_type": "stream",
     "text": [
      "[I 2023-07-07 18:52:36,727] Trial 209 finished with value: 0.8394928575361004 and parameters: {'n_estimators': 10000, 'learning_rate': 0.07693842167504909, 'num_leaves': 840, 'max_depth': 4, 'max_bin': 216, 'reg_alpha': 5, 'reg_lambda': 55, 'min_split_gain': 3.0368124907243055, 'subsample': 0.30000000000000004, 'colsample_bytree': 0.9000000000000001, 'min_child_samples': 82}. Best is trial 195 with value: 0.8345574540649607.\n"
     ]
    },
    {
     "name": "stdout",
     "output_type": "stream",
     "text": [
      "Early stopping, best iteration is:\n",
      "[75]\tvalid_0's mape: 0.167984\tvalid_0's l2: 1.31329\n",
      "Training until validation scores don't improve for 100 rounds\n",
      "Early stopping, best iteration is:\n",
      "[91]\tvalid_0's mape: 0.175532\tvalid_0's l2: 1.34201\n",
      "Training until validation scores don't improve for 100 rounds\n",
      "Early stopping, best iteration is:\n",
      "[110]\tvalid_0's mape: 0.160798\tvalid_0's l2: 1.23894\n",
      "Training until validation scores don't improve for 100 rounds\n",
      "Early stopping, best iteration is:\n",
      "[96]\tvalid_0's mape: 0.151231\tvalid_0's l2: 1.20989\n",
      "Training until validation scores don't improve for 100 rounds\n",
      "Early stopping, best iteration is:\n",
      "[102]\tvalid_0's mape: 0.156454\tvalid_0's l2: 1.21612\n",
      "Training until validation scores don't improve for 100 rounds\n"
     ]
    },
    {
     "name": "stderr",
     "output_type": "stream",
     "text": [
      "[I 2023-07-07 18:52:38,112] Trial 210 finished with value: 0.837402762062276 and parameters: {'n_estimators': 10000, 'learning_rate': 0.062094005485766476, 'num_leaves': 960, 'max_depth': 4, 'max_bin': 225, 'reg_alpha': 10, 'reg_lambda': 45, 'min_split_gain': 2.045675490863867, 'subsample': 0.30000000000000004, 'colsample_bytree': 0.9000000000000001, 'min_child_samples': 113}. Best is trial 195 with value: 0.8345574540649607.\n"
     ]
    },
    {
     "name": "stdout",
     "output_type": "stream",
     "text": [
      "Early stopping, best iteration is:\n",
      "[95]\tvalid_0's mape: 0.15391\tvalid_0's l2: 1.21546\n",
      "Training until validation scores don't improve for 100 rounds\n",
      "Early stopping, best iteration is:\n",
      "[237]\tvalid_0's mape: 0.162389\tvalid_0's l2: 1.23479\n",
      "Training until validation scores don't improve for 100 rounds\n",
      "Early stopping, best iteration is:\n",
      "[93]\tvalid_0's mape: 0.148036\tvalid_0's l2: 1.17391\n",
      "Training until validation scores don't improve for 100 rounds\n",
      "Early stopping, best iteration is:\n",
      "[193]\tvalid_0's mape: 0.165646\tvalid_0's l2: 1.26088\n",
      "Training until validation scores don't improve for 100 rounds\n",
      "Early stopping, best iteration is:\n",
      "[214]\tvalid_0's mape: 0.158838\tvalid_0's l2: 1.28199\n",
      "Training until validation scores don't improve for 100 rounds\n"
     ]
    },
    {
     "name": "stderr",
     "output_type": "stream",
     "text": [
      "[I 2023-07-07 18:52:40,309] Trial 211 finished with value: 0.8372285435510067 and parameters: {'n_estimators': 10000, 'learning_rate': 0.04748143101350669, 'num_leaves': 860, 'max_depth': 4, 'max_bin': 219, 'reg_alpha': 5, 'reg_lambda': 50, 'min_split_gain': 0.5135687845567167, 'subsample': 0.4, 'colsample_bytree': 1.0, 'min_child_samples': 101}. Best is trial 195 with value: 0.8345574540649607.\n"
     ]
    },
    {
     "name": "stdout",
     "output_type": "stream",
     "text": [
      "Early stopping, best iteration is:\n",
      "[213]\tvalid_0's mape: 0.16127\tvalid_0's l2: 1.26205\n",
      "Training until validation scores don't improve for 100 rounds\n",
      "Early stopping, best iteration is:\n",
      "[277]\tvalid_0's mape: 0.158337\tvalid_0's l2: 1.21723\n",
      "Training until validation scores don't improve for 100 rounds\n",
      "Early stopping, best iteration is:\n",
      "[323]\tvalid_0's mape: 0.160993\tvalid_0's l2: 1.23078\n",
      "Training until validation scores don't improve for 100 rounds\n",
      "Early stopping, best iteration is:\n",
      "[161]\tvalid_0's mape: 0.156441\tvalid_0's l2: 1.21406\n",
      "Training until validation scores don't improve for 100 rounds\n",
      "Early stopping, best iteration is:\n",
      "[205]\tvalid_0's mape: 0.157682\tvalid_0's l2: 1.23152\n",
      "Training until validation scores don't improve for 100 rounds\n"
     ]
    },
    {
     "name": "stderr",
     "output_type": "stream",
     "text": [
      "[I 2023-07-07 18:52:42,808] Trial 212 finished with value: 0.8380328779125403 and parameters: {'n_estimators': 10000, 'learning_rate': 0.0314457915182366, 'num_leaves': 800, 'max_depth': 4, 'max_bin': 218, 'reg_alpha': 0, 'reg_lambda': 55, 'min_split_gain': 0.8371459246422621, 'subsample': 0.4, 'colsample_bytree': 1.0, 'min_child_samples': 111}. Best is trial 195 with value: 0.8345574540649607.\n"
     ]
    },
    {
     "name": "stdout",
     "output_type": "stream",
     "text": [
      "Early stopping, best iteration is:\n",
      "[213]\tvalid_0's mape: 0.164931\tvalid_0's l2: 1.34494\n",
      "Training until validation scores don't improve for 100 rounds\n",
      "Early stopping, best iteration is:\n",
      "[110]\tvalid_0's mape: 0.157447\tvalid_0's l2: 1.20937\n",
      "Training until validation scores don't improve for 100 rounds\n",
      "Early stopping, best iteration is:\n",
      "[144]\tvalid_0's mape: 0.166581\tvalid_0's l2: 1.281\n",
      "Training until validation scores don't improve for 100 rounds\n",
      "Early stopping, best iteration is:\n",
      "[140]\tvalid_0's mape: 0.148763\tvalid_0's l2: 1.15429\n",
      "Training until validation scores don't improve for 100 rounds\n",
      "Early stopping, best iteration is:\n",
      "[133]\tvalid_0's mape: 0.160475\tvalid_0's l2: 1.27436\n",
      "Training until validation scores don't improve for 100 rounds\n"
     ]
    },
    {
     "name": "stderr",
     "output_type": "stream",
     "text": [
      "[I 2023-07-07 18:52:44,748] Trial 213 finished with value: 0.8358945011994028 and parameters: {'n_estimators': 10000, 'learning_rate': 0.06231149573249857, 'num_leaves': 900, 'max_depth': 4, 'max_bin': 213, 'reg_alpha': 5, 'reg_lambda': 20, 'min_split_gain': 0.011662358486720259, 'subsample': 0.30000000000000004, 'colsample_bytree': 1.0, 'min_child_samples': 124}. Best is trial 195 with value: 0.8345574540649607.\n"
     ]
    },
    {
     "name": "stdout",
     "output_type": "stream",
     "text": [
      "Early stopping, best iteration is:\n",
      "[126]\tvalid_0's mape: 0.162154\tvalid_0's l2: 1.29307\n",
      "Training until validation scores don't improve for 100 rounds\n",
      "Early stopping, best iteration is:\n",
      "[170]\tvalid_0's mape: 0.149155\tvalid_0's l2: 1.17817\n",
      "Training until validation scores don't improve for 100 rounds\n",
      "Early stopping, best iteration is:\n",
      "[91]\tvalid_0's mape: 0.164751\tvalid_0's l2: 1.28664\n",
      "Training until validation scores don't improve for 100 rounds\n",
      "Early stopping, best iteration is:\n",
      "[80]\tvalid_0's mape: 0.161979\tvalid_0's l2: 1.27128\n",
      "Training until validation scores don't improve for 100 rounds\n",
      "Early stopping, best iteration is:\n",
      "[116]\tvalid_0's mape: 0.15302\tvalid_0's l2: 1.19823\n",
      "Training until validation scores don't improve for 100 rounds\n"
     ]
    },
    {
     "name": "stderr",
     "output_type": "stream",
     "text": [
      "[I 2023-07-07 18:52:46,658] Trial 214 finished with value: 0.8358527733798434 and parameters: {'n_estimators': 10000, 'learning_rate': 0.06996365861955683, 'num_leaves': 920, 'max_depth': 4, 'max_bin': 213, 'reg_alpha': 5, 'reg_lambda': 20, 'min_split_gain': 0.019053579656000325, 'subsample': 0.30000000000000004, 'colsample_bytree': 0.9000000000000001, 'min_child_samples': 139}. Best is trial 195 with value: 0.8345574540649607.\n"
     ]
    },
    {
     "name": "stdout",
     "output_type": "stream",
     "text": [
      "Early stopping, best iteration is:\n",
      "[201]\tvalid_0's mape: 0.165751\tvalid_0's l2: 1.27609\n",
      "Training until validation scores don't improve for 100 rounds\n",
      "Early stopping, best iteration is:\n",
      "[100]\tvalid_0's mape: 0.163812\tvalid_0's l2: 1.28235\n",
      "Training until validation scores don't improve for 100 rounds\n",
      "Early stopping, best iteration is:\n",
      "[83]\tvalid_0's mape: 0.156699\tvalid_0's l2: 1.2171\n",
      "Training until validation scores don't improve for 100 rounds\n",
      "Early stopping, best iteration is:\n",
      "[99]\tvalid_0's mape: 0.161005\tvalid_0's l2: 1.21841\n",
      "Training until validation scores don't improve for 100 rounds\n",
      "Early stopping, best iteration is:\n",
      "[134]\tvalid_0's mape: 0.15479\tvalid_0's l2: 1.25335\n",
      "Training until validation scores don't improve for 100 rounds\n"
     ]
    },
    {
     "name": "stderr",
     "output_type": "stream",
     "text": [
      "[I 2023-07-07 18:52:48,420] Trial 215 finished with value: 0.8360773780789185 and parameters: {'n_estimators': 10000, 'learning_rate': 0.0709710544983816, 'num_leaves': 920, 'max_depth': 4, 'max_bin': 213, 'reg_alpha': 10, 'reg_lambda': 25, 'min_split_gain': 0.652232958765077, 'subsample': 0.30000000000000004, 'colsample_bytree': 1.0, 'min_child_samples': 142}. Best is trial 195 with value: 0.8345574540649607.\n"
     ]
    },
    {
     "name": "stdout",
     "output_type": "stream",
     "text": [
      "Early stopping, best iteration is:\n",
      "[120]\tvalid_0's mape: 0.160484\tvalid_0's l2: 1.25649\n",
      "Training until validation scores don't improve for 100 rounds\n",
      "Early stopping, best iteration is:\n",
      "[105]\tvalid_0's mape: 0.16237\tvalid_0's l2: 1.27477\n",
      "Training until validation scores don't improve for 100 rounds\n",
      "Early stopping, best iteration is:\n",
      "[137]\tvalid_0's mape: 0.163651\tvalid_0's l2: 1.27984\n",
      "Training until validation scores don't improve for 100 rounds\n",
      "Early stopping, best iteration is:\n",
      "[108]\tvalid_0's mape: 0.157779\tvalid_0's l2: 1.21853\n",
      "Training until validation scores don't improve for 100 rounds\n",
      "Early stopping, best iteration is:\n",
      "[140]\tvalid_0's mape: 0.1643\tvalid_0's l2: 1.28912\n",
      "Training until validation scores don't improve for 100 rounds\n"
     ]
    },
    {
     "name": "stderr",
     "output_type": "stream",
     "text": [
      "[I 2023-07-07 18:52:49,788] Trial 216 finished with value: 0.8382674458823643 and parameters: {'n_estimators': 10000, 'learning_rate': 0.06842441240190489, 'num_leaves': 920, 'max_depth': 3, 'max_bin': 210, 'reg_alpha': 10, 'reg_lambda': 25, 'min_split_gain': 1.0492497357225825, 'subsample': 0.30000000000000004, 'colsample_bytree': 0.9000000000000001, 'min_child_samples': 153}. Best is trial 195 with value: 0.8345574540649607.\n"
     ]
    },
    {
     "name": "stdout",
     "output_type": "stream",
     "text": [
      "Early stopping, best iteration is:\n",
      "[148]\tvalid_0's mape: 0.150591\tvalid_0's l2: 1.187\n",
      "Training until validation scores don't improve for 100 rounds\n",
      "Early stopping, best iteration is:\n",
      "[74]\tvalid_0's mape: 0.168067\tvalid_0's l2: 1.32323\n",
      "Training until validation scores don't improve for 100 rounds\n",
      "Early stopping, best iteration is:\n",
      "[75]\tvalid_0's mape: 0.160307\tvalid_0's l2: 1.22981\n",
      "Training until validation scores don't improve for 100 rounds\n",
      "Early stopping, best iteration is:\n",
      "[75]\tvalid_0's mape: 0.155623\tvalid_0's l2: 1.22475\n",
      "Training until validation scores don't improve for 100 rounds\n",
      "Early stopping, best iteration is:\n",
      "[65]\tvalid_0's mape: 0.151149\tvalid_0's l2: 1.18584\n",
      "Training until validation scores don't improve for 100 rounds\n"
     ]
    },
    {
     "name": "stderr",
     "output_type": "stream",
     "text": [
      "[I 2023-07-07 18:52:51,015] Trial 217 finished with value: 0.8408821614684184 and parameters: {'n_estimators': 10000, 'learning_rate': 0.08475996466597271, 'num_leaves': 980, 'max_depth': 4, 'max_bin': 212, 'reg_alpha': 45, 'reg_lambda': 20, 'min_split_gain': 0.6503428879548943, 'subsample': 0.30000000000000004, 'colsample_bytree': 1.0, 'min_child_samples': 140}. Best is trial 195 with value: 0.8345574540649607.\n"
     ]
    },
    {
     "name": "stdout",
     "output_type": "stream",
     "text": [
      "Early stopping, best iteration is:\n",
      "[74]\tvalid_0's mape: 0.167921\tvalid_0's l2: 1.31202\n",
      "Training until validation scores don't improve for 100 rounds\n",
      "Early stopping, best iteration is:\n",
      "[85]\tvalid_0's mape: 0.158693\tvalid_0's l2: 1.23287\n",
      "Training until validation scores don't improve for 100 rounds\n",
      "Early stopping, best iteration is:\n",
      "[64]\tvalid_0's mape: 0.151995\tvalid_0's l2: 1.2143\n",
      "Training until validation scores don't improve for 100 rounds\n",
      "Early stopping, best iteration is:\n",
      "[78]\tvalid_0's mape: 0.158785\tvalid_0's l2: 1.24159\n",
      "Training until validation scores don't improve for 100 rounds\n",
      "Early stopping, best iteration is:\n",
      "[95]\tvalid_0's mape: 0.162323\tvalid_0's l2: 1.24883\n",
      "Training until validation scores don't improve for 100 rounds\n"
     ]
    },
    {
     "name": "stderr",
     "output_type": "stream",
     "text": [
      "[I 2023-07-07 18:52:52,740] Trial 218 finished with value: 0.8370168856486467 and parameters: {'n_estimators': 10000, 'learning_rate': 0.07625153166590863, 'num_leaves': 900, 'max_depth': 4, 'max_bin': 213, 'reg_alpha': 10, 'reg_lambda': 15, 'min_split_gain': 0.33291087783134715, 'subsample': 0.30000000000000004, 'colsample_bytree': 1.0, 'min_child_samples': 147}. Best is trial 195 with value: 0.8345574540649607.\n"
     ]
    },
    {
     "name": "stdout",
     "output_type": "stream",
     "text": [
      "Early stopping, best iteration is:\n",
      "[91]\tvalid_0's mape: 0.165282\tvalid_0's l2: 1.28506\n",
      "Training until validation scores don't improve for 100 rounds\n",
      "Early stopping, best iteration is:\n",
      "[76]\tvalid_0's mape: 0.14642\tvalid_0's l2: 1.14756\n",
      "Training until validation scores don't improve for 100 rounds\n",
      "Early stopping, best iteration is:\n",
      "[78]\tvalid_0's mape: 0.166814\tvalid_0's l2: 1.29782\n",
      "Training until validation scores don't improve for 100 rounds\n",
      "Early stopping, best iteration is:\n",
      "[109]\tvalid_0's mape: 0.165274\tvalid_0's l2: 1.30381\n",
      "Training until validation scores don't improve for 100 rounds\n",
      "Early stopping, best iteration is:\n",
      "[89]\tvalid_0's mape: 0.158444\tvalid_0's l2: 1.25416\n",
      "Training until validation scores don't improve for 100 rounds\n"
     ]
    },
    {
     "name": "stderr",
     "output_type": "stream",
     "text": [
      "[I 2023-07-07 18:52:54,942] Trial 219 finished with value: 0.8389732976953873 and parameters: {'n_estimators': 10000, 'learning_rate': 0.07058436823459144, 'num_leaves': 820, 'max_depth': 5, 'max_bin': 207, 'reg_alpha': 5, 'reg_lambda': 20, 'min_split_gain': 0.03108028993779799, 'subsample': 0.30000000000000004, 'colsample_bytree': 1.0, 'min_child_samples': 132}. Best is trial 195 with value: 0.8345574540649607.\n"
     ]
    },
    {
     "name": "stdout",
     "output_type": "stream",
     "text": [
      "Early stopping, best iteration is:\n",
      "[171]\tvalid_0's mape: 0.161204\tvalid_0's l2: 1.24809\n",
      "Training until validation scores don't improve for 100 rounds\n",
      "Early stopping, best iteration is:\n",
      "[85]\tvalid_0's mape: 0.166248\tvalid_0's l2: 1.29267\n",
      "Training until validation scores don't improve for 100 rounds\n",
      "Early stopping, best iteration is:\n",
      "[94]\tvalid_0's mape: 0.151913\tvalid_0's l2: 1.21824\n",
      "Training until validation scores don't improve for 100 rounds\n",
      "Early stopping, best iteration is:\n",
      "[87]\tvalid_0's mape: 0.165985\tvalid_0's l2: 1.28168\n",
      "Training until validation scores don't improve for 100 rounds\n",
      "Early stopping, best iteration is:\n",
      "[104]\tvalid_0's mape: 0.151047\tvalid_0's l2: 1.15829\n",
      "Training until validation scores don't improve for 100 rounds\n"
     ]
    },
    {
     "name": "stderr",
     "output_type": "stream",
     "text": [
      "[I 2023-07-07 18:52:56,358] Trial 220 finished with value: 0.8396844194566636 and parameters: {'n_estimators': 10000, 'learning_rate': 0.06549902505382643, 'num_leaves': 1020, 'max_depth': 4, 'max_bin': 215, 'reg_alpha': 5, 'reg_lambda': 20, 'min_split_gain': 1.735455767685588, 'subsample': 0.30000000000000004, 'colsample_bytree': 0.9000000000000001, 'min_child_samples': 160}. Best is trial 195 with value: 0.8345574540649607.\n"
     ]
    },
    {
     "name": "stdout",
     "output_type": "stream",
     "text": [
      "Early stopping, best iteration is:\n",
      "[89]\tvalid_0's mape: 0.165284\tvalid_0's l2: 1.31367\n",
      "Training until validation scores don't improve for 100 rounds\n",
      "Early stopping, best iteration is:\n",
      "[56]\tvalid_0's mape: 0.160967\tvalid_0's l2: 1.25582\n",
      "Training until validation scores don't improve for 100 rounds\n",
      "Early stopping, best iteration is:\n",
      "[123]\tvalid_0's mape: 0.159375\tvalid_0's l2: 1.25566\n",
      "Training until validation scores don't improve for 100 rounds\n",
      "Early stopping, best iteration is:\n",
      "[155]\tvalid_0's mape: 0.150124\tvalid_0's l2: 1.14038\n",
      "Training until validation scores don't improve for 100 rounds\n",
      "Early stopping, best iteration is:\n",
      "[191]\tvalid_0's mape: 0.166558\tvalid_0's l2: 1.30014\n",
      "Training until validation scores don't improve for 100 rounds\n"
     ]
    },
    {
     "name": "stderr",
     "output_type": "stream",
     "text": [
      "[I 2023-07-07 18:52:58,123] Trial 221 finished with value: 0.8368722714816658 and parameters: {'n_estimators': 10000, 'learning_rate': 0.06236390525580103, 'num_leaves': 940, 'max_depth': 4, 'max_bin': 215, 'reg_alpha': 10, 'reg_lambda': 20, 'min_split_gain': 0.583435784914054, 'subsample': 0.30000000000000004, 'colsample_bytree': 1.0, 'min_child_samples': 125}. Best is trial 195 with value: 0.8345574540649607.\n"
     ]
    },
    {
     "name": "stdout",
     "output_type": "stream",
     "text": [
      "Early stopping, best iteration is:\n",
      "[153]\tvalid_0's mape: 0.160308\tvalid_0's l2: 1.27189\n",
      "Training until validation scores don't improve for 100 rounds\n",
      "Early stopping, best iteration is:\n",
      "[51]\tvalid_0's mape: 0.164123\tvalid_0's l2: 1.26247\n",
      "Training until validation scores don't improve for 100 rounds\n",
      "Early stopping, best iteration is:\n",
      "[50]\tvalid_0's mape: 0.164376\tvalid_0's l2: 1.28638\n",
      "Training until validation scores don't improve for 100 rounds\n",
      "Early stopping, best iteration is:\n",
      "[51]\tvalid_0's mape: 0.154869\tvalid_0's l2: 1.24172\n",
      "Training until validation scores don't improve for 100 rounds\n",
      "Early stopping, best iteration is:\n",
      "[48]\tvalid_0's mape: 0.154455\tvalid_0's l2: 1.18407\n"
     ]
    },
    {
     "name": "stderr",
     "output_type": "stream",
     "text": [
      "[I 2023-07-07 18:52:59,215] Trial 222 finished with value: 0.8428879917356744 and parameters: {'n_estimators': 10000, 'learning_rate': 0.07307568574844192, 'num_leaves': 960, 'max_depth': 4, 'max_bin': 209, 'reg_alpha': 5, 'reg_lambda': 25, 'min_split_gain': 9.425299335031628, 'subsample': 0.30000000000000004, 'colsample_bytree': 1.0, 'min_child_samples': 136}. Best is trial 195 with value: 0.8345574540649607.\n"
     ]
    },
    {
     "name": "stdout",
     "output_type": "stream",
     "text": [
      "Training until validation scores don't improve for 100 rounds\n",
      "Early stopping, best iteration is:\n",
      "[52]\tvalid_0's mape: 0.167587\tvalid_0's l2: 1.31362\n",
      "Training until validation scores don't improve for 100 rounds\n",
      "Early stopping, best iteration is:\n",
      "[202]\tvalid_0's mape: 0.18246\tvalid_0's l2: 1.41953\n",
      "Training until validation scores don't improve for 100 rounds\n",
      "Early stopping, best iteration is:\n",
      "[69]\tvalid_0's mape: 0.156474\tvalid_0's l2: 1.2255\n",
      "Training until validation scores don't improve for 100 rounds\n",
      "Early stopping, best iteration is:\n",
      "[194]\tvalid_0's mape: 0.15107\tvalid_0's l2: 1.16739\n",
      "Training until validation scores don't improve for 100 rounds\n",
      "Early stopping, best iteration is:\n",
      "[105]\tvalid_0's mape: 0.155859\tvalid_0's l2: 1.26786\n",
      "Training until validation scores don't improve for 100 rounds\n"
     ]
    },
    {
     "name": "stderr",
     "output_type": "stream",
     "text": [
      "[I 2023-07-07 18:53:01,004] Trial 223 finished with value: 0.8366738996276826 and parameters: {'n_estimators': 10000, 'learning_rate': 0.05918386469096792, 'num_leaves': 920, 'max_depth': 4, 'max_bin': 221, 'reg_alpha': 5, 'reg_lambda': 20, 'min_split_gain': 0.8628660209114707, 'subsample': 0.30000000000000004, 'colsample_bytree': 1.0, 'min_child_samples': 118}. Best is trial 195 with value: 0.8345574540649607.\n"
     ]
    },
    {
     "name": "stdout",
     "output_type": "stream",
     "text": [
      "Early stopping, best iteration is:\n",
      "[85]\tvalid_0's mape: 0.151127\tvalid_0's l2: 1.14806\n",
      "Training until validation scores don't improve for 100 rounds\n",
      "Early stopping, best iteration is:\n",
      "[45]\tvalid_0's mape: 0.172014\tvalid_0's l2: 1.31706\n",
      "Training until validation scores don't improve for 100 rounds\n",
      "Early stopping, best iteration is:\n",
      "[44]\tvalid_0's mape: 0.163207\tvalid_0's l2: 1.26432\n",
      "Training until validation scores don't improve for 100 rounds\n",
      "Early stopping, best iteration is:\n",
      "[42]\tvalid_0's mape: 0.164989\tvalid_0's l2: 1.2928\n",
      "Training until validation scores don't improve for 100 rounds\n",
      "Early stopping, best iteration is:\n",
      "[44]\tvalid_0's mape: 0.158025\tvalid_0's l2: 1.26625\n",
      "Training until validation scores don't improve for 100 rounds\n",
      "Early stopping, best iteration is:\n",
      "[45]\tvalid_0's mape: 0.148384\tvalid_0's l2: 1.15478\n"
     ]
    },
    {
     "name": "stderr",
     "output_type": "stream",
     "text": [
      "[I 2023-07-07 18:53:02,010] Trial 224 finished with value: 0.8436903939346149 and parameters: {'n_estimators': 10000, 'learning_rate': 0.08154339349056582, 'num_leaves': 860, 'max_depth': 4, 'max_bin': 213, 'reg_alpha': 5, 'reg_lambda': 25, 'min_split_gain': 10.504016037341875, 'subsample': 0.30000000000000004, 'colsample_bytree': 1.0, 'min_child_samples': 123}. Best is trial 195 with value: 0.8345574540649607.\n"
     ]
    },
    {
     "name": "stdout",
     "output_type": "stream",
     "text": [
      "Training until validation scores don't improve for 100 rounds\n",
      "Early stopping, best iteration is:\n",
      "[67]\tvalid_0's mape: 0.159599\tvalid_0's l2: 1.23634\n",
      "Training until validation scores don't improve for 100 rounds\n",
      "Early stopping, best iteration is:\n",
      "[50]\tvalid_0's mape: 0.164859\tvalid_0's l2: 1.33446\n",
      "Training until validation scores don't improve for 100 rounds\n",
      "Early stopping, best iteration is:\n",
      "[59]\tvalid_0's mape: 0.15172\tvalid_0's l2: 1.17121\n",
      "Training until validation scores don't improve for 100 rounds\n",
      "Early stopping, best iteration is:\n",
      "[82]\tvalid_0's mape: 0.161051\tvalid_0's l2: 1.28058\n",
      "Training until validation scores don't improve for 100 rounds\n",
      "Early stopping, best iteration is:\n",
      "[77]\tvalid_0's mape: 0.161465\tvalid_0's l2: 1.225\n"
     ]
    },
    {
     "name": "stderr",
     "output_type": "stream",
     "text": [
      "[I 2023-07-07 18:53:03,586] Trial 225 finished with value: 0.8379658742320206 and parameters: {'n_estimators': 10000, 'learning_rate': 0.09223535461692613, 'num_leaves': 1000, 'max_depth': 4, 'max_bin': 300, 'reg_alpha': 10, 'reg_lambda': 15, 'min_split_gain': 0.2841423128181778, 'subsample': 0.30000000000000004, 'colsample_bytree': 1.0, 'min_child_samples': 142}. Best is trial 195 with value: 0.8345574540649607.\n"
     ]
    },
    {
     "name": "stdout",
     "output_type": "stream",
     "text": [
      "Training until validation scores don't improve for 100 rounds\n",
      "Early stopping, best iteration is:\n",
      "[74]\tvalid_0's mape: 0.163462\tvalid_0's l2: 1.33187\n",
      "Training until validation scores don't improve for 100 rounds\n",
      "Early stopping, best iteration is:\n",
      "[126]\tvalid_0's mape: 0.179132\tvalid_0's l2: 1.39774\n",
      "Training until validation scores don't improve for 100 rounds\n",
      "Early stopping, best iteration is:\n",
      "[145]\tvalid_0's mape: 0.146467\tvalid_0's l2: 1.10214\n",
      "Training until validation scores don't improve for 100 rounds\n",
      "Early stopping, best iteration is:\n",
      "[134]\tvalid_0's mape: 0.15312\tvalid_0's l2: 1.2137\n"
     ]
    },
    {
     "name": "stderr",
     "output_type": "stream",
     "text": [
      "[I 2023-07-07 18:53:05,108] Trial 226 finished with value: 0.8381421785481713 and parameters: {'n_estimators': 10000, 'learning_rate': 0.06282804556357843, 'num_leaves': 900, 'max_depth': 4, 'max_bin': 227, 'reg_alpha': 5, 'reg_lambda': 30, 'min_split_gain': 1.2727692466953806, 'subsample': 0.30000000000000004, 'colsample_bytree': 1.0, 'min_child_samples': 128}. Best is trial 195 with value: 0.8345574540649607.\n"
     ]
    },
    {
     "name": "stdout",
     "output_type": "stream",
     "text": [
      "Training until validation scores don't improve for 100 rounds\n",
      "Early stopping, best iteration is:\n",
      "[99]\tvalid_0's mape: 0.156041\tvalid_0's l2: 1.19221\n",
      "Training until validation scores don't improve for 100 rounds\n",
      "Early stopping, best iteration is:\n",
      "[135]\tvalid_0's mape: 0.156731\tvalid_0's l2: 1.22322\n",
      "Training until validation scores don't improve for 100 rounds\n",
      "Early stopping, best iteration is:\n",
      "[98]\tvalid_0's mape: 0.160047\tvalid_0's l2: 1.22048\n",
      "Training until validation scores don't improve for 100 rounds\n",
      "Early stopping, best iteration is:\n",
      "[59]\tvalid_0's mape: 0.156051\tvalid_0's l2: 1.2463\n",
      "Training until validation scores don't improve for 100 rounds\n",
      "Early stopping, best iteration is:\n",
      "[188]\tvalid_0's mape: 0.167566\tvalid_0's l2: 1.28684\n",
      "Training until validation scores don't improve for 100 rounds\n"
     ]
    },
    {
     "name": "stderr",
     "output_type": "stream",
     "text": [
      "[I 2023-07-07 18:53:06,861] Trial 227 finished with value: 0.8363271040213821 and parameters: {'n_estimators': 10000, 'learning_rate': 0.07006627931708764, 'num_leaves': 1060, 'max_depth': 4, 'max_bin': 223, 'reg_alpha': 5, 'reg_lambda': 20, 'min_split_gain': 0.5880993059177881, 'subsample': 0.4, 'colsample_bytree': 0.9000000000000001, 'min_child_samples': 93}. Best is trial 195 with value: 0.8345574540649607.\n"
     ]
    },
    {
     "name": "stdout",
     "output_type": "stream",
     "text": [
      "Early stopping, best iteration is:\n",
      "[62]\tvalid_0's mape: 0.155374\tvalid_0's l2: 1.22979\n",
      "Training until validation scores don't improve for 100 rounds\n",
      "Early stopping, best iteration is:\n",
      "[32]\tvalid_0's mape: 0.164835\tvalid_0's l2: 1.31309\n",
      "Training until validation scores don't improve for 100 rounds\n",
      "Early stopping, best iteration is:\n",
      "[45]\tvalid_0's mape: 0.160735\tvalid_0's l2: 1.23477\n",
      "Training until validation scores don't improve for 100 rounds\n",
      "Early stopping, best iteration is:\n",
      "[52]\tvalid_0's mape: 0.15477\tvalid_0's l2: 1.22457\n",
      "Training until validation scores don't improve for 100 rounds\n",
      "Early stopping, best iteration is:\n",
      "[75]\tvalid_0's mape: 0.154996\tvalid_0's l2: 1.21893\n",
      "Training until validation scores don't improve for 100 rounds\n"
     ]
    },
    {
     "name": "stderr",
     "output_type": "stream",
     "text": [
      "[I 2023-07-07 18:53:08,159] Trial 228 finished with value: 0.8389461429793391 and parameters: {'n_estimators': 10000, 'learning_rate': 0.12055502239984926, 'num_leaves': 980, 'max_depth': 4, 'max_bin': 220, 'reg_alpha': 0, 'reg_lambda': 20, 'min_split_gain': 1.075473355642246, 'subsample': 0.30000000000000004, 'colsample_bytree': 1.0, 'min_child_samples': 115}. Best is trial 195 with value: 0.8345574540649607.\n"
     ]
    },
    {
     "name": "stdout",
     "output_type": "stream",
     "text": [
      "Early stopping, best iteration is:\n",
      "[45]\tvalid_0's mape: 0.164038\tvalid_0's l2: 1.24785\n",
      "Training until validation scores don't improve for 100 rounds\n",
      "Early stopping, best iteration is:\n",
      "[98]\tvalid_0's mape: 0.157619\tvalid_0's l2: 1.24413\n",
      "Training until validation scores don't improve for 100 rounds\n",
      "Early stopping, best iteration is:\n",
      "[91]\tvalid_0's mape: 0.168832\tvalid_0's l2: 1.29827\n",
      "Training until validation scores don't improve for 100 rounds\n",
      "Early stopping, best iteration is:\n",
      "[103]\tvalid_0's mape: 0.14511\tvalid_0's l2: 1.15014\n",
      "Training until validation scores don't improve for 100 rounds\n",
      "Early stopping, best iteration is:\n",
      "[102]\tvalid_0's mape: 0.160903\tvalid_0's l2: 1.25123\n",
      "Training until validation scores don't improve for 100 rounds\n"
     ]
    },
    {
     "name": "stderr",
     "output_type": "stream",
     "text": [
      "[I 2023-07-07 18:53:09,596] Trial 229 finished with value: 0.8382186156848791 and parameters: {'n_estimators': 10000, 'learning_rate': 0.054024676163304496, 'num_leaves': 940, 'max_depth': 4, 'max_bin': 211, 'reg_alpha': 10, 'reg_lambda': 35, 'min_split_gain': 2.6315163737821488, 'subsample': 0.4, 'colsample_bytree': 1.0, 'min_child_samples': 99}. Best is trial 195 with value: 0.8345574540649607.\n"
     ]
    },
    {
     "name": "stdout",
     "output_type": "stream",
     "text": [
      "Early stopping, best iteration is:\n",
      "[107]\tvalid_0's mape: 0.166138\tvalid_0's l2: 1.28731\n",
      "Training until validation scores don't improve for 100 rounds\n",
      "Early stopping, best iteration is:\n",
      "[191]\tvalid_0's mape: 0.154629\tvalid_0's l2: 1.23538\n",
      "Training until validation scores don't improve for 100 rounds\n",
      "Early stopping, best iteration is:\n",
      "[301]\tvalid_0's mape: 0.165199\tvalid_0's l2: 1.3105\n",
      "Training until validation scores don't improve for 100 rounds\n",
      "Early stopping, best iteration is:\n",
      "[147]\tvalid_0's mape: 0.157541\tvalid_0's l2: 1.23115\n",
      "Training until validation scores don't improve for 100 rounds\n",
      "Early stopping, best iteration is:\n",
      "[196]\tvalid_0's mape: 0.162049\tvalid_0's l2: 1.25063\n",
      "Training until validation scores don't improve for 100 rounds\n"
     ]
    },
    {
     "name": "stderr",
     "output_type": "stream",
     "text": [
      "[I 2023-07-07 18:53:12,067] Trial 230 finished with value: 0.8388221549486798 and parameters: {'n_estimators': 10000, 'learning_rate': 0.08105529458597854, 'num_leaves': 840, 'max_depth': 4, 'max_bin': 226, 'reg_alpha': 0, 'reg_lambda': 15, 'min_split_gain': 0.19381627141386207, 'subsample': 0.30000000000000004, 'colsample_bytree': 0.2, 'min_child_samples': 135}. Best is trial 195 with value: 0.8345574540649607.\n"
     ]
    },
    {
     "name": "stdout",
     "output_type": "stream",
     "text": [
      "Early stopping, best iteration is:\n",
      "[148]\tvalid_0's mape: 0.159118\tvalid_0's l2: 1.21159\n",
      "Training until validation scores don't improve for 100 rounds\n",
      "Early stopping, best iteration is:\n",
      "[92]\tvalid_0's mape: 0.161536\tvalid_0's l2: 1.28538\n",
      "Training until validation scores don't improve for 100 rounds\n",
      "Early stopping, best iteration is:\n",
      "[88]\tvalid_0's mape: 0.162303\tvalid_0's l2: 1.29309\n",
      "Training until validation scores don't improve for 100 rounds\n",
      "Early stopping, best iteration is:\n",
      "[72]\tvalid_0's mape: 0.163219\tvalid_0's l2: 1.2766\n",
      "Training until validation scores don't improve for 100 rounds\n",
      "Early stopping, best iteration is:\n",
      "[87]\tvalid_0's mape: 0.151538\tvalid_0's l2: 1.15629\n",
      "Training until validation scores don't improve for 100 rounds\n"
     ]
    },
    {
     "name": "stderr",
     "output_type": "stream",
     "text": [
      "[I 2023-07-07 18:53:13,770] Trial 231 finished with value: 0.8364040668150258 and parameters: {'n_estimators': 10000, 'learning_rate': 0.07174124404037492, 'num_leaves': 1060, 'max_depth': 4, 'max_bin': 223, 'reg_alpha': 5, 'reg_lambda': 15, 'min_split_gain': 0.5866869263072737, 'subsample': 0.4, 'colsample_bytree': 0.9000000000000001, 'min_child_samples': 87}. Best is trial 195 with value: 0.8345574540649607.\n"
     ]
    },
    {
     "name": "stdout",
     "output_type": "stream",
     "text": [
      "Early stopping, best iteration is:\n",
      "[132]\tvalid_0's mape: 0.157664\tvalid_0's l2: 1.20933\n",
      "Training until validation scores don't improve for 100 rounds\n",
      "Early stopping, best iteration is:\n",
      "[68]\tvalid_0's mape: 0.149816\tvalid_0's l2: 1.14743\n",
      "Training until validation scores don't improve for 100 rounds\n",
      "Early stopping, best iteration is:\n",
      "[66]\tvalid_0's mape: 0.15087\tvalid_0's l2: 1.18567\n",
      "Training until validation scores don't improve for 100 rounds\n",
      "Early stopping, best iteration is:\n",
      "[65]\tvalid_0's mape: 0.176581\tvalid_0's l2: 1.39462\n",
      "Training until validation scores don't improve for 100 rounds\n",
      "Early stopping, best iteration is:\n",
      "[69]\tvalid_0's mape: 0.164005\tvalid_0's l2: 1.30563\n",
      "Training until validation scores don't improve for 100 rounds\n"
     ]
    },
    {
     "name": "stderr",
     "output_type": "stream",
     "text": [
      "[I 2023-07-07 18:53:14,962] Trial 232 finished with value: 0.8395967097054085 and parameters: {'n_estimators': 10000, 'learning_rate': 0.06723762301871053, 'num_leaves': 1040, 'max_depth': 4, 'max_bin': 222, 'reg_alpha': 5, 'reg_lambda': 25, 'min_split_gain': 4.363398787685514, 'subsample': 0.4, 'colsample_bytree': 0.9000000000000001, 'min_child_samples': 95}. Best is trial 195 with value: 0.8345574540649607.\n"
     ]
    },
    {
     "name": "stdout",
     "output_type": "stream",
     "text": [
      "Early stopping, best iteration is:\n",
      "[73]\tvalid_0's mape: 0.15921\tvalid_0's l2: 1.2193\n",
      "Training until validation scores don't improve for 100 rounds\n",
      "Early stopping, best iteration is:\n",
      "[112]\tvalid_0's mape: 0.17245\tvalid_0's l2: 1.36657\n",
      "Training until validation scores don't improve for 100 rounds\n",
      "Early stopping, best iteration is:\n",
      "[94]\tvalid_0's mape: 0.153036\tvalid_0's l2: 1.21454\n",
      "Training until validation scores don't improve for 100 rounds\n",
      "Early stopping, best iteration is:\n",
      "[143]\tvalid_0's mape: 0.145289\tvalid_0's l2: 1.14333\n",
      "Training until validation scores don't improve for 100 rounds\n",
      "Early stopping, best iteration is:\n",
      "[223]\tvalid_0's mape: 0.158351\tvalid_0's l2: 1.20621\n",
      "Training until validation scores don't improve for 100 rounds\n"
     ]
    },
    {
     "name": "stderr",
     "output_type": "stream",
     "text": [
      "[I 2023-07-07 18:53:16,859] Trial 233 finished with value: 0.837304208484805 and parameters: {'n_estimators': 10000, 'learning_rate': 0.06001760638577156, 'num_leaves': 900, 'max_depth': 4, 'max_bin': 223, 'reg_alpha': 5, 'reg_lambda': 20, 'min_split_gain': 0.7415596008371729, 'subsample': 0.4, 'colsample_bytree': 0.9000000000000001, 'min_child_samples': 106}. Best is trial 195 with value: 0.8345574540649607.\n"
     ]
    },
    {
     "name": "stdout",
     "output_type": "stream",
     "text": [
      "Early stopping, best iteration is:\n",
      "[159]\tvalid_0's mape: 0.167986\tvalid_0's l2: 1.31054\n",
      "Training until validation scores don't improve for 100 rounds\n",
      "Early stopping, best iteration is:\n",
      "[103]\tvalid_0's mape: 0.166314\tvalid_0's l2: 1.31157\n",
      "Training until validation scores don't improve for 100 rounds\n",
      "Early stopping, best iteration is:\n",
      "[136]\tvalid_0's mape: 0.165842\tvalid_0's l2: 1.32625\n",
      "Training until validation scores don't improve for 100 rounds\n",
      "Early stopping, best iteration is:\n",
      "[76]\tvalid_0's mape: 0.153615\tvalid_0's l2: 1.21491\n",
      "Training until validation scores don't improve for 100 rounds\n",
      "Early stopping, best iteration is:\n",
      "[87]\tvalid_0's mape: 0.167209\tvalid_0's l2: 1.29082\n",
      "Training until validation scores don't improve for 100 rounds\n"
     ]
    },
    {
     "name": "stderr",
     "output_type": "stream",
     "text": [
      "[I 2023-07-07 18:53:18,656] Trial 234 finished with value: 0.8369568209194677 and parameters: {'n_estimators': 10000, 'learning_rate': 0.07400258151881846, 'num_leaves': 980, 'max_depth': 4, 'max_bin': 220, 'reg_alpha': 5, 'reg_lambda': 25, 'min_split_gain': 0.42361041155902224, 'subsample': 0.4, 'colsample_bytree': 0.9000000000000001, 'min_child_samples': 71}. Best is trial 195 with value: 0.8345574540649607.\n"
     ]
    },
    {
     "name": "stdout",
     "output_type": "stream",
     "text": [
      "Early stopping, best iteration is:\n",
      "[135]\tvalid_0's mape: 0.144123\tvalid_0's l2: 1.09203\n",
      "Training until validation scores don't improve for 100 rounds\n",
      "Early stopping, best iteration is:\n",
      "[72]\tvalid_0's mape: 0.164457\tvalid_0's l2: 1.32932\n",
      "Training until validation scores don't improve for 100 rounds\n",
      "Early stopping, best iteration is:\n",
      "[160]\tvalid_0's mape: 0.157356\tvalid_0's l2: 1.22819\n",
      "Training until validation scores don't improve for 100 rounds\n",
      "Early stopping, best iteration is:\n",
      "[57]\tvalid_0's mape: 0.159153\tvalid_0's l2: 1.25045\n",
      "Training until validation scores don't improve for 100 rounds\n",
      "Early stopping, best iteration is:\n",
      "[135]\tvalid_0's mape: 0.156904\tvalid_0's l2: 1.1944\n",
      "Training until validation scores don't improve for 100 rounds\n"
     ]
    },
    {
     "name": "stderr",
     "output_type": "stream",
     "text": [
      "[I 2023-07-07 18:53:20,343] Trial 235 finished with value: 0.8366022304727909 and parameters: {'n_estimators': 10000, 'learning_rate': 0.0668455330472385, 'num_leaves': 940, 'max_depth': 4, 'max_bin': 217, 'reg_alpha': 0, 'reg_lambda': 20, 'min_split_gain': 0.9664036120152486, 'subsample': 0.4, 'colsample_bytree': 0.9000000000000001, 'min_child_samples': 123}. Best is trial 195 with value: 0.8345574540649607.\n"
     ]
    },
    {
     "name": "stdout",
     "output_type": "stream",
     "text": [
      "Early stopping, best iteration is:\n",
      "[124]\tvalid_0's mape: 0.159515\tvalid_0's l2: 1.22778\n",
      "Training until validation scores don't improve for 100 rounds\n",
      "Early stopping, best iteration is:\n",
      "[40]\tvalid_0's mape: 0.163702\tvalid_0's l2: 1.28974\n",
      "Training until validation scores don't improve for 100 rounds\n",
      "Early stopping, best iteration is:\n",
      "[43]\tvalid_0's mape: 0.15698\tvalid_0's l2: 1.21139\n",
      "Training until validation scores don't improve for 100 rounds\n",
      "Early stopping, best iteration is:\n",
      "[41]\tvalid_0's mape: 0.165152\tvalid_0's l2: 1.28232\n",
      "Training until validation scores don't improve for 100 rounds\n",
      "Early stopping, best iteration is:\n",
      "[40]\tvalid_0's mape: 0.15797\tvalid_0's l2: 1.23963\n",
      "Training until validation scores don't improve for 100 rounds\n",
      "Early stopping, best iteration is:\n",
      "[42]\tvalid_0's mape: 0.163993\tvalid_0's l2: 1.28228\n"
     ]
    },
    {
     "name": "stderr",
     "output_type": "stream",
     "text": [
      "[I 2023-07-07 18:53:21,336] Trial 236 finished with value: 0.844906764209929 and parameters: {'n_estimators': 10000, 'learning_rate': 0.11177459192909184, 'num_leaves': 1060, 'max_depth': 4, 'max_bin': 225, 'reg_alpha': 10, 'reg_lambda': 100, 'min_split_gain': 8.500848840268016, 'subsample': 0.30000000000000004, 'colsample_bytree': 1.0, 'min_child_samples': 91}. Best is trial 195 with value: 0.8345574540649607.\n"
     ]
    },
    {
     "name": "stdout",
     "output_type": "stream",
     "text": [
      "Training until validation scores don't improve for 100 rounds\n",
      "Early stopping, best iteration is:\n",
      "[63]\tvalid_0's mape: 0.161045\tvalid_0's l2: 1.25613\n",
      "Training until validation scores don't improve for 100 rounds\n",
      "Early stopping, best iteration is:\n",
      "[59]\tvalid_0's mape: 0.159825\tvalid_0's l2: 1.27566\n",
      "Training until validation scores don't improve for 100 rounds\n",
      "Early stopping, best iteration is:\n",
      "[59]\tvalid_0's mape: 0.162626\tvalid_0's l2: 1.23155\n",
      "Training until validation scores don't improve for 100 rounds\n",
      "Early stopping, best iteration is:\n",
      "[59]\tvalid_0's mape: 0.164134\tvalid_0's l2: 1.28917\n",
      "Training until validation scores don't improve for 100 rounds\n"
     ]
    },
    {
     "name": "stderr",
     "output_type": "stream",
     "text": [
      "[I 2023-07-07 18:53:22,419] Trial 237 finished with value: 0.8486907739837604 and parameters: {'n_estimators': 10000, 'learning_rate': 0.10467710865246181, 'num_leaves': 860, 'max_depth': 4, 'max_bin': 221, 'reg_alpha': 100, 'reg_lambda': 45, 'min_split_gain': 0.6163063958550944, 'subsample': 0.4, 'colsample_bytree': 1.0, 'min_child_samples': 116}. Best is trial 195 with value: 0.8345574540649607.\n"
     ]
    },
    {
     "name": "stdout",
     "output_type": "stream",
     "text": [
      "Early stopping, best iteration is:\n",
      "[60]\tvalid_0's mape: 0.165953\tvalid_0's l2: 1.31992\n",
      "Training until validation scores don't improve for 100 rounds\n",
      "Early stopping, best iteration is:\n",
      "[102]\tvalid_0's mape: 0.167943\tvalid_0's l2: 1.30496\n",
      "Training until validation scores don't improve for 100 rounds\n",
      "Early stopping, best iteration is:\n",
      "[91]\tvalid_0's mape: 0.157343\tvalid_0's l2: 1.20491\n",
      "Training until validation scores don't improve for 100 rounds\n",
      "Early stopping, best iteration is:\n",
      "[76]\tvalid_0's mape: 0.15441\tvalid_0's l2: 1.17388\n",
      "Training until validation scores don't improve for 100 rounds\n",
      "Early stopping, best iteration is:\n",
      "[186]\tvalid_0's mape: 0.159165\tvalid_0's l2: 1.26994\n",
      "Training until validation scores don't improve for 100 rounds\n"
     ]
    },
    {
     "name": "stderr",
     "output_type": "stream",
     "text": [
      "[I 2023-07-07 18:53:24,267] Trial 238 finished with value: 0.8357301648242743 and parameters: {'n_estimators': 10000, 'learning_rate': 0.0791909746225508, 'num_leaves': 1000, 'max_depth': 4, 'max_bin': 224, 'reg_alpha': 0, 'reg_lambda': 20, 'min_split_gain': 0.007651632031788914, 'subsample': 0.4, 'colsample_bytree': 0.9000000000000001, 'min_child_samples': 100}. Best is trial 195 with value: 0.8345574540649607.\n"
     ]
    },
    {
     "name": "stdout",
     "output_type": "stream",
     "text": [
      "Early stopping, best iteration is:\n",
      "[110]\tvalid_0's mape: 0.155885\tvalid_0's l2: 1.24631\n",
      "Training until validation scores don't improve for 100 rounds\n",
      "Early stopping, best iteration is:\n",
      "[30]\tvalid_0's mape: 0.1628\tvalid_0's l2: 1.24836\n",
      "Training until validation scores don't improve for 100 rounds\n",
      "Early stopping, best iteration is:\n",
      "[17]\tvalid_0's mape: 0.151407\tvalid_0's l2: 1.17369\n",
      "Training until validation scores don't improve for 100 rounds\n",
      "Early stopping, best iteration is:\n",
      "[58]\tvalid_0's mape: 0.167488\tvalid_0's l2: 1.34091\n",
      "Training until validation scores don't improve for 100 rounds\n",
      "Early stopping, best iteration is:\n",
      "[27]\tvalid_0's mape: 0.166932\tvalid_0's l2: 1.28193\n",
      "Training until validation scores don't improve for 100 rounds\n"
     ]
    },
    {
     "name": "stderr",
     "output_type": "stream",
     "text": [
      "[I 2023-07-07 18:53:25,855] Trial 239 finished with value: 0.8408544858150918 and parameters: {'n_estimators': 10000, 'learning_rate': 0.1794381199884936, 'num_leaves': 1000, 'max_depth': 5, 'max_bin': 226, 'reg_alpha': 0, 'reg_lambda': 45, 'min_split_gain': 0.17762285524854643, 'subsample': 0.30000000000000004, 'colsample_bytree': 1.0, 'min_child_samples': 108}. Best is trial 195 with value: 0.8345574540649607.\n"
     ]
    },
    {
     "name": "stdout",
     "output_type": "stream",
     "text": [
      "Early stopping, best iteration is:\n",
      "[44]\tvalid_0's mape: 0.151816\tvalid_0's l2: 1.21164\n",
      "Training until validation scores don't improve for 100 rounds\n",
      "Early stopping, best iteration is:\n",
      "[110]\tvalid_0's mape: 0.162065\tvalid_0's l2: 1.25235\n",
      "Training until validation scores don't improve for 100 rounds\n",
      "Early stopping, best iteration is:\n",
      "[98]\tvalid_0's mape: 0.166222\tvalid_0's l2: 1.29693\n",
      "Training until validation scores don't improve for 100 rounds\n",
      "Early stopping, best iteration is:\n",
      "[107]\tvalid_0's mape: 0.164123\tvalid_0's l2: 1.31775\n",
      "Training until validation scores don't improve for 100 rounds\n",
      "Early stopping, best iteration is:\n",
      "[67]\tvalid_0's mape: 0.158015\tvalid_0's l2: 1.21471\n",
      "Training until validation scores don't improve for 100 rounds\n"
     ]
    },
    {
     "name": "stderr",
     "output_type": "stream",
     "text": [
      "[I 2023-07-07 18:53:27,519] Trial 240 finished with value: 0.8372547778550861 and parameters: {'n_estimators': 10000, 'learning_rate': 0.08002160187315337, 'num_leaves': 900, 'max_depth': 4, 'max_bin': 229, 'reg_alpha': 0, 'reg_lambda': 40, 'min_split_gain': 0.04556864791267974, 'subsample': 0.5, 'colsample_bytree': 1.0, 'min_child_samples': 126}. Best is trial 195 with value: 0.8345574540649607.\n"
     ]
    },
    {
     "name": "stdout",
     "output_type": "stream",
     "text": [
      "Early stopping, best iteration is:\n",
      "[58]\tvalid_0's mape: 0.146675\tvalid_0's l2: 1.14111\n",
      "Training until validation scores don't improve for 100 rounds\n",
      "Early stopping, best iteration is:\n",
      "[129]\tvalid_0's mape: 0.1586\tvalid_0's l2: 1.25358\n",
      "Training until validation scores don't improve for 100 rounds\n",
      "Early stopping, best iteration is:\n",
      "[75]\tvalid_0's mape: 0.15956\tvalid_0's l2: 1.23292\n",
      "Training until validation scores don't improve for 100 rounds\n",
      "Early stopping, best iteration is:\n",
      "[149]\tvalid_0's mape: 0.162695\tvalid_0's l2: 1.26376\n",
      "Training until validation scores don't improve for 100 rounds\n",
      "Early stopping, best iteration is:\n",
      "[266]\tvalid_0's mape: 0.16358\tvalid_0's l2: 1.26009\n",
      "Training until validation scores don't improve for 100 rounds\n"
     ]
    },
    {
     "name": "stderr",
     "output_type": "stream",
     "text": [
      "[I 2023-07-07 18:53:29,407] Trial 241 finished with value: 0.8370096450679462 and parameters: {'n_estimators': 10000, 'learning_rate': 0.06150693202342765, 'num_leaves': 1020, 'max_depth': 4, 'max_bin': 224, 'reg_alpha': 0, 'reg_lambda': 20, 'min_split_gain': 0.4720097908473383, 'subsample': 0.4, 'colsample_bytree': 0.9000000000000001, 'min_child_samples': 76}. Best is trial 195 with value: 0.8345574540649607.\n"
     ]
    },
    {
     "name": "stdout",
     "output_type": "stream",
     "text": [
      "Early stopping, best iteration is:\n",
      "[51]\tvalid_0's mape: 0.15305\tvalid_0's l2: 1.19759\n",
      "Training until validation scores don't improve for 100 rounds\n",
      "Early stopping, best iteration is:\n",
      "[58]\tvalid_0's mape: 0.154862\tvalid_0's l2: 1.18709\n",
      "Training until validation scores don't improve for 100 rounds\n",
      "Early stopping, best iteration is:\n",
      "[60]\tvalid_0's mape: 0.15648\tvalid_0's l2: 1.23448\n",
      "Training until validation scores don't improve for 100 rounds\n",
      "Early stopping, best iteration is:\n",
      "[59]\tvalid_0's mape: 0.162817\tvalid_0's l2: 1.31051\n",
      "Training until validation scores don't improve for 100 rounds\n",
      "Early stopping, best iteration is:\n",
      "[59]\tvalid_0's mape: 0.156647\tvalid_0's l2: 1.2306\n",
      "Training until validation scores don't improve for 100 rounds\n"
     ]
    },
    {
     "name": "stderr",
     "output_type": "stream",
     "text": [
      "[I 2023-07-07 18:53:30,545] Trial 242 finished with value: 0.8400997948449381 and parameters: {'n_estimators': 10000, 'learning_rate': 0.07065128418367655, 'num_leaves': 940, 'max_depth': 4, 'max_bin': 223, 'reg_alpha': 5, 'reg_lambda': 15, 'min_split_gain': 5.913330515215157, 'subsample': 0.4, 'colsample_bytree': 0.9000000000000001, 'min_child_samples': 95}. Best is trial 195 with value: 0.8345574540649607.\n"
     ]
    },
    {
     "name": "stdout",
     "output_type": "stream",
     "text": [
      "Early stopping, best iteration is:\n",
      "[59]\tvalid_0's mape: 0.170817\tvalid_0's l2: 1.30654\n",
      "Training until validation scores don't improve for 100 rounds\n",
      "Early stopping, best iteration is:\n",
      "[255]\tvalid_0's mape: 0.158727\tvalid_0's l2: 1.22828\n",
      "Training until validation scores don't improve for 100 rounds\n",
      "Early stopping, best iteration is:\n",
      "[246]\tvalid_0's mape: 0.166457\tvalid_0's l2: 1.33023\n",
      "Training until validation scores don't improve for 100 rounds\n",
      "Early stopping, best iteration is:\n",
      "[210]\tvalid_0's mape: 0.159215\tvalid_0's l2: 1.29557\n",
      "Training until validation scores don't improve for 100 rounds\n",
      "Early stopping, best iteration is:\n",
      "[308]\tvalid_0's mape: 0.15475\tvalid_0's l2: 1.19564\n",
      "Training until validation scores don't improve for 100 rounds\n"
     ]
    },
    {
     "name": "stderr",
     "output_type": "stream",
     "text": [
      "[I 2023-07-07 18:53:33,490] Trial 243 finished with value: 0.8373523560560191 and parameters: {'n_estimators': 10000, 'learning_rate': 0.05054745992413658, 'num_leaves': 980, 'max_depth': 4, 'max_bin': 219, 'reg_alpha': 0, 'reg_lambda': 10, 'min_split_gain': 0.26284310725375293, 'subsample': 0.4, 'colsample_bytree': 0.30000000000000004, 'min_child_samples': 101}. Best is trial 195 with value: 0.8345574540649607.\n"
     ]
    },
    {
     "name": "stdout",
     "output_type": "stream",
     "text": [
      "Early stopping, best iteration is:\n",
      "[217]\tvalid_0's mape: 0.157574\tvalid_0's l2: 1.19208\n",
      "Training until validation scores don't improve for 100 rounds\n",
      "Early stopping, best iteration is:\n",
      "[107]\tvalid_0's mape: 0.157628\tvalid_0's l2: 1.23811\n",
      "Training until validation scores don't improve for 100 rounds\n",
      "Early stopping, best iteration is:\n",
      "[102]\tvalid_0's mape: 0.163262\tvalid_0's l2: 1.26564\n",
      "Training until validation scores don't improve for 100 rounds\n",
      "Early stopping, best iteration is:\n",
      "[67]\tvalid_0's mape: 0.155972\tvalid_0's l2: 1.20245\n",
      "Training until validation scores don't improve for 100 rounds\n",
      "Early stopping, best iteration is:\n",
      "[109]\tvalid_0's mape: 0.163187\tvalid_0's l2: 1.30355\n",
      "Training until validation scores don't improve for 100 rounds\n"
     ]
    },
    {
     "name": "stderr",
     "output_type": "stream",
     "text": [
      "[I 2023-07-07 18:53:34,965] Trial 244 finished with value: 0.8362772595192963 and parameters: {'n_estimators': 10000, 'learning_rate': 0.09746348777693863, 'num_leaves': 1080, 'max_depth': 4, 'max_bin': 221, 'reg_alpha': 5, 'reg_lambda': 20, 'min_split_gain': 0.8522971279853924, 'subsample': 0.4, 'colsample_bytree': 0.9000000000000001, 'min_child_samples': 83}. Best is trial 195 with value: 0.8345574540649607.\n"
     ]
    },
    {
     "name": "stdout",
     "output_type": "stream",
     "text": [
      "Early stopping, best iteration is:\n",
      "[41]\tvalid_0's mape: 0.155387\tvalid_0's l2: 1.19556\n",
      "Training until validation scores don't improve for 100 rounds\n",
      "Early stopping, best iteration is:\n",
      "[87]\tvalid_0's mape: 0.151736\tvalid_0's l2: 1.18265\n",
      "Training until validation scores don't improve for 100 rounds\n",
      "Early stopping, best iteration is:\n",
      "[82]\tvalid_0's mape: 0.155414\tvalid_0's l2: 1.19697\n",
      "Training until validation scores don't improve for 100 rounds\n",
      "Early stopping, best iteration is:\n",
      "[79]\tvalid_0's mape: 0.156665\tvalid_0's l2: 1.2309\n",
      "Training until validation scores don't improve for 100 rounds\n",
      "Early stopping, best iteration is:\n",
      "[70]\tvalid_0's mape: 0.173261\tvalid_0's l2: 1.32447\n",
      "Training until validation scores don't improve for 100 rounds\n"
     ]
    },
    {
     "name": "stderr",
     "output_type": "stream",
     "text": [
      "[I 2023-07-07 18:53:36,243] Trial 245 finished with value: 0.8389081784098341 and parameters: {'n_estimators': 10000, 'learning_rate': 0.08594099632728149, 'num_leaves': 880, 'max_depth': 4, 'max_bin': 216, 'reg_alpha': 15, 'reg_lambda': 25, 'min_split_gain': 1.3276477104573297, 'subsample': 0.4, 'colsample_bytree': 0.9000000000000001, 'min_child_samples': 84}. Best is trial 195 with value: 0.8345574540649607.\n"
     ]
    },
    {
     "name": "stdout",
     "output_type": "stream",
     "text": [
      "Early stopping, best iteration is:\n",
      "[52]\tvalid_0's mape: 0.161647\tvalid_0's l2: 1.31338\n",
      "Training until validation scores don't improve for 100 rounds\n",
      "Early stopping, best iteration is:\n",
      "[55]\tvalid_0's mape: 0.160515\tvalid_0's l2: 1.24778\n",
      "Training until validation scores don't improve for 100 rounds\n",
      "Early stopping, best iteration is:\n",
      "[46]\tvalid_0's mape: 0.155177\tvalid_0's l2: 1.18625\n",
      "Training until validation scores don't improve for 100 rounds\n",
      "Early stopping, best iteration is:\n",
      "[85]\tvalid_0's mape: 0.162917\tvalid_0's l2: 1.28327\n",
      "Training until validation scores don't improve for 100 rounds\n",
      "Early stopping, best iteration is:\n",
      "[124]\tvalid_0's mape: 0.159651\tvalid_0's l2: 1.25353\n",
      "Training until validation scores don't improve for 100 rounds\n"
     ]
    },
    {
     "name": "stderr",
     "output_type": "stream",
     "text": [
      "[I 2023-07-07 18:53:37,928] Trial 246 finished with value: 0.8380979503216084 and parameters: {'n_estimators': 10000, 'learning_rate': 0.09165978761853899, 'num_leaves': 960, 'max_depth': 4, 'max_bin': 221, 'reg_alpha': 0, 'reg_lambda': 45, 'min_split_gain': 0.00031667866359408325, 'subsample': 0.5, 'colsample_bytree': 0.9000000000000001, 'min_child_samples': 60}. Best is trial 195 with value: 0.8345574540649607.\n"
     ]
    },
    {
     "name": "stdout",
     "output_type": "stream",
     "text": [
      "Early stopping, best iteration is:\n",
      "[148]\tvalid_0's mape: 0.160254\tvalid_0's l2: 1.26007\n",
      "Training until validation scores don't improve for 100 rounds\n",
      "Early stopping, best iteration is:\n",
      "[53]\tvalid_0's mape: 0.151981\tvalid_0's l2: 1.21444\n",
      "Training until validation scores don't improve for 100 rounds\n",
      "Early stopping, best iteration is:\n",
      "[73]\tvalid_0's mape: 0.164041\tvalid_0's l2: 1.3292\n",
      "Training until validation scores don't improve for 100 rounds\n",
      "Early stopping, best iteration is:\n",
      "[84]\tvalid_0's mape: 0.165553\tvalid_0's l2: 1.29174\n",
      "Training until validation scores don't improve for 100 rounds\n",
      "Early stopping, best iteration is:\n",
      "[63]\tvalid_0's mape: 0.153749\tvalid_0's l2: 1.14344\n",
      "Training until validation scores don't improve for 100 rounds\n"
     ]
    },
    {
     "name": "stderr",
     "output_type": "stream",
     "text": [
      "[I 2023-07-07 18:53:39,263] Trial 247 finished with value: 0.8366328896052803 and parameters: {'n_estimators': 10000, 'learning_rate': 0.10817254358886444, 'num_leaves': 1020, 'max_depth': 4, 'max_bin': 219, 'reg_alpha': 5, 'reg_lambda': 20, 'min_split_gain': 0.8917251319195315, 'subsample': 0.4, 'colsample_bytree': 1.0, 'min_child_samples': 112}. Best is trial 195 with value: 0.8345574540649607.\n"
     ]
    },
    {
     "name": "stdout",
     "output_type": "stream",
     "text": [
      "Early stopping, best iteration is:\n",
      "[65]\tvalid_0's mape: 0.161709\tvalid_0's l2: 1.24853\n",
      "Training until validation scores don't improve for 100 rounds\n",
      "Early stopping, best iteration is:\n",
      "[755]\tvalid_0's mape: 0.155704\tvalid_0's l2: 1.22718\n",
      "Training until validation scores don't improve for 100 rounds\n",
      "Early stopping, best iteration is:\n",
      "[512]\tvalid_0's mape: 0.156807\tvalid_0's l2: 1.23204\n",
      "Training until validation scores don't improve for 100 rounds\n",
      "Early stopping, best iteration is:\n",
      "[965]\tvalid_0's mape: 0.15647\tvalid_0's l2: 1.21361\n",
      "Training until validation scores don't improve for 100 rounds\n",
      "Early stopping, best iteration is:\n",
      "[520]\tvalid_0's mape: 0.165343\tvalid_0's l2: 1.27003\n",
      "Training until validation scores don't improve for 100 rounds\n"
     ]
    },
    {
     "name": "stderr",
     "output_type": "stream",
     "text": [
      "[I 2023-07-07 18:53:42,853] Trial 248 finished with value: 0.8394496199773238 and parameters: {'n_estimators': 10000, 'learning_rate': 0.01511202303461804, 'num_leaves': 920, 'max_depth': 3, 'max_bin': 214, 'reg_alpha': 0, 'reg_lambda': 45, 'min_split_gain': 1.1828199468337675, 'subsample': 0.30000000000000004, 'colsample_bytree': 1.0, 'min_child_samples': 143}. Best is trial 195 with value: 0.8345574540649607.\n"
     ]
    },
    {
     "name": "stdout",
     "output_type": "stream",
     "text": [
      "Early stopping, best iteration is:\n",
      "[451]\tvalid_0's mape: 0.165454\tvalid_0's l2: 1.31352\n",
      "Training until validation scores don't improve for 100 rounds\n",
      "Early stopping, best iteration is:\n",
      "[75]\tvalid_0's mape: 0.156862\tvalid_0's l2: 1.22359\n",
      "Training until validation scores don't improve for 100 rounds\n",
      "Early stopping, best iteration is:\n",
      "[117]\tvalid_0's mape: 0.172059\tvalid_0's l2: 1.3454\n",
      "Training until validation scores don't improve for 100 rounds\n",
      "Early stopping, best iteration is:\n",
      "[54]\tvalid_0's mape: 0.1678\tvalid_0's l2: 1.32575\n",
      "Training until validation scores don't improve for 100 rounds\n",
      "Early stopping, best iteration is:\n",
      "[129]\tvalid_0's mape: 0.142243\tvalid_0's l2: 1.12409\n",
      "Training until validation scores don't improve for 100 rounds\n"
     ]
    },
    {
     "name": "stderr",
     "output_type": "stream",
     "text": [
      "[I 2023-07-07 18:53:44,512] Trial 249 finished with value: 0.8352428041055401 and parameters: {'n_estimators': 10000, 'learning_rate': 0.07778555803228993, 'num_leaves': 820, 'max_depth': 4, 'max_bin': 227, 'reg_alpha': 0, 'reg_lambda': 45, 'min_split_gain': 0.790019093598244, 'subsample': 0.5, 'colsample_bytree': 0.9000000000000001, 'min_child_samples': 130}. Best is trial 195 with value: 0.8345574540649607.\n"
     ]
    },
    {
     "name": "stdout",
     "output_type": "stream",
     "text": [
      "Early stopping, best iteration is:\n",
      "[113]\tvalid_0's mape: 0.156508\tvalid_0's l2: 1.1839\n",
      "Training until validation scores don't improve for 100 rounds\n",
      "Early stopping, best iteration is:\n",
      "[78]\tvalid_0's mape: 0.154514\tvalid_0's l2: 1.18289\n",
      "Training until validation scores don't improve for 100 rounds\n",
      "Early stopping, best iteration is:\n",
      "[161]\tvalid_0's mape: 0.171941\tvalid_0's l2: 1.35398\n",
      "Training until validation scores don't improve for 100 rounds\n",
      "Early stopping, best iteration is:\n",
      "[127]\tvalid_0's mape: 0.157537\tvalid_0's l2: 1.23469\n",
      "Training until validation scores don't improve for 100 rounds\n",
      "Early stopping, best iteration is:\n",
      "[111]\tvalid_0's mape: 0.149482\tvalid_0's l2: 1.15739\n",
      "Training until validation scores don't improve for 100 rounds\n"
     ]
    },
    {
     "name": "stderr",
     "output_type": "stream",
     "text": [
      "[I 2023-07-07 18:53:46,187] Trial 250 finished with value: 0.8364217107048276 and parameters: {'n_estimators': 10000, 'learning_rate': 0.07807605961195399, 'num_leaves': 760, 'max_depth': 4, 'max_bin': 226, 'reg_alpha': 0, 'reg_lambda': 40, 'min_split_gain': 0.8921233566371758, 'subsample': 0.5, 'colsample_bytree': 0.9000000000000001, 'min_child_samples': 153}. Best is trial 195 with value: 0.8345574540649607.\n"
     ]
    },
    {
     "name": "stdout",
     "output_type": "stream",
     "text": [
      "Early stopping, best iteration is:\n",
      "[117]\tvalid_0's mape: 0.163096\tvalid_0's l2: 1.28484\n",
      "Training until validation scores don't improve for 100 rounds\n",
      "Early stopping, best iteration is:\n",
      "[36]\tvalid_0's mape: 0.154438\tvalid_0's l2: 1.20972\n",
      "Training until validation scores don't improve for 100 rounds\n",
      "Early stopping, best iteration is:\n",
      "[34]\tvalid_0's mape: 0.168739\tvalid_0's l2: 1.32035\n",
      "Training until validation scores don't improve for 100 rounds\n",
      "Early stopping, best iteration is:\n",
      "[34]\tvalid_0's mape: 0.152534\tvalid_0's l2: 1.18615\n",
      "Training until validation scores don't improve for 100 rounds\n"
     ]
    },
    {
     "name": "stderr",
     "output_type": "stream",
     "text": [
      "[I 2023-07-07 18:53:47,147] Trial 251 finished with value: 0.8464780529306415 and parameters: {'n_estimators': 10000, 'learning_rate': 0.098884748218157, 'num_leaves': 820, 'max_depth': 4, 'max_bin': 225, 'reg_alpha': 0, 'reg_lambda': 25, 'min_split_gain': 14.32684657073506, 'subsample': 0.5, 'colsample_bytree': 0.9000000000000001, 'min_child_samples': 132}. Best is trial 195 with value: 0.8345574540649607.\n"
     ]
    },
    {
     "name": "stdout",
     "output_type": "stream",
     "text": [
      "Early stopping, best iteration is:\n",
      "[36]\tvalid_0's mape: 0.166233\tvalid_0's l2: 1.34112\n",
      "Training until validation scores don't improve for 100 rounds\n",
      "Early stopping, best iteration is:\n",
      "[34]\tvalid_0's mape: 0.167089\tvalid_0's l2: 1.26617\n",
      "Training until validation scores don't improve for 100 rounds\n",
      "Early stopping, best iteration is:\n",
      "[104]\tvalid_0's mape: 0.157373\tvalid_0's l2: 1.24426\n",
      "Training until validation scores don't improve for 100 rounds\n",
      "Early stopping, best iteration is:\n",
      "[101]\tvalid_0's mape: 0.150688\tvalid_0's l2: 1.19878\n",
      "Training until validation scores don't improve for 100 rounds\n",
      "Early stopping, best iteration is:\n",
      "[107]\tvalid_0's mape: 0.157419\tvalid_0's l2: 1.21578\n",
      "Training until validation scores don't improve for 100 rounds\n",
      "Early stopping, best iteration is:\n",
      "[130]\tvalid_0's mape: 0.158134\tvalid_0's l2: 1.22358\n"
     ]
    },
    {
     "name": "stderr",
     "output_type": "stream",
     "text": [
      "[I 2023-07-07 18:53:48,534] Trial 252 finished with value: 0.8379768121610635 and parameters: {'n_estimators': 10000, 'learning_rate': 0.08604019458663609, 'num_leaves': 780, 'max_depth': 3, 'max_bin': 228, 'reg_alpha': 0, 'reg_lambda': 55, 'min_split_gain': 1.5225605081980247, 'subsample': 0.5, 'colsample_bytree': 0.9000000000000001, 'min_child_samples': 75}. Best is trial 195 with value: 0.8345574540649607.\n"
     ]
    },
    {
     "name": "stdout",
     "output_type": "stream",
     "text": [
      "Training until validation scores don't improve for 100 rounds\n",
      "Early stopping, best iteration is:\n",
      "[150]\tvalid_0's mape: 0.173481\tvalid_0's l2: 1.35487\n",
      "Training until validation scores don't improve for 100 rounds\n",
      "Early stopping, best iteration is:\n",
      "[60]\tvalid_0's mape: 0.15999\tvalid_0's l2: 1.24138\n",
      "Training until validation scores don't improve for 100 rounds\n",
      "Early stopping, best iteration is:\n",
      "[116]\tvalid_0's mape: 0.160336\tvalid_0's l2: 1.26361\n",
      "Training until validation scores don't improve for 100 rounds\n",
      "Early stopping, best iteration is:\n",
      "[51]\tvalid_0's mape: 0.170627\tvalid_0's l2: 1.34971\n",
      "Training until validation scores don't improve for 100 rounds\n",
      "Early stopping, best iteration is:\n",
      "[35]\tvalid_0's mape: 0.15035\tvalid_0's l2: 1.18606\n",
      "Training until validation scores don't improve for 100 rounds\n"
     ]
    },
    {
     "name": "stderr",
     "output_type": "stream",
     "text": [
      "[I 2023-07-07 18:53:50,015] Trial 253 finished with value: 0.8368161271148123 and parameters: {'n_estimators': 10000, 'learning_rate': 0.13183091941836553, 'num_leaves': 840, 'max_depth': 4, 'max_bin': 231, 'reg_alpha': 0, 'reg_lambda': 30, 'min_split_gain': 0.3354478527613885, 'subsample': 0.5, 'colsample_bytree': 0.9000000000000001, 'min_child_samples': 102}. Best is trial 195 with value: 0.8345574540649607.\n"
     ]
    },
    {
     "name": "stdout",
     "output_type": "stream",
     "text": [
      "Early stopping, best iteration is:\n",
      "[69]\tvalid_0's mape: 0.154517\tvalid_0's l2: 1.17747\n",
      "Training until validation scores don't improve for 100 rounds\n",
      "Early stopping, best iteration is:\n",
      "[44]\tvalid_0's mape: 0.156936\tvalid_0's l2: 1.23951\n",
      "Training until validation scores don't improve for 100 rounds\n",
      "Early stopping, best iteration is:\n",
      "[46]\tvalid_0's mape: 0.164611\tvalid_0's l2: 1.28379\n",
      "Training until validation scores don't improve for 100 rounds\n",
      "Early stopping, best iteration is:\n",
      "[43]\tvalid_0's mape: 0.157043\tvalid_0's l2: 1.24279\n",
      "Training until validation scores don't improve for 100 rounds\n",
      "Early stopping, best iteration is:\n",
      "[48]\tvalid_0's mape: 0.164037\tvalid_0's l2: 1.31036\n"
     ]
    },
    {
     "name": "stderr",
     "output_type": "stream",
     "text": [
      "[I 2023-07-07 18:53:51,059] Trial 254 finished with value: 0.8436805411965553 and parameters: {'n_estimators': 10000, 'learning_rate': 0.09690880045058839, 'num_leaves': 1100, 'max_depth': 5, 'max_bin': 228, 'reg_alpha': 5, 'reg_lambda': 50, 'min_split_gain': 6.593335196986266, 'subsample': 0.5, 'colsample_bytree': 0.9000000000000001, 'min_child_samples': 113}. Best is trial 195 with value: 0.8345574540649607.\n"
     ]
    },
    {
     "name": "stdout",
     "output_type": "stream",
     "text": [
      "Training until validation scores don't improve for 100 rounds\n",
      "Early stopping, best iteration is:\n",
      "[46]\tvalid_0's mape: 0.162839\tvalid_0's l2: 1.21939\n",
      "Training until validation scores don't improve for 100 rounds\n",
      "Early stopping, best iteration is:\n",
      "[101]\tvalid_0's mape: 0.176932\tvalid_0's l2: 1.37341\n",
      "Training until validation scores don't improve for 100 rounds\n",
      "Early stopping, best iteration is:\n",
      "[73]\tvalid_0's mape: 0.164225\tvalid_0's l2: 1.2881\n",
      "Training until validation scores don't improve for 100 rounds\n",
      "Early stopping, best iteration is:\n",
      "[70]\tvalid_0's mape: 0.146254\tvalid_0's l2: 1.18019\n",
      "Training until validation scores don't improve for 100 rounds\n",
      "Early stopping, best iteration is:\n",
      "[113]\tvalid_0's mape: 0.149823\tvalid_0's l2: 1.14353\n",
      "Training until validation scores don't improve for 100 rounds\n"
     ]
    },
    {
     "name": "stderr",
     "output_type": "stream",
     "text": [
      "[I 2023-07-07 18:53:52,689] Trial 255 finished with value: 0.8385982679558088 and parameters: {'n_estimators': 10000, 'learning_rate': 0.07789184731173641, 'num_leaves': 700, 'max_depth': 4, 'max_bin': 222, 'reg_alpha': 0, 'reg_lambda': 45, 'min_split_gain': 0.8026716835942749, 'subsample': 0.30000000000000004, 'colsample_bytree': 0.9000000000000001, 'min_child_samples': 130}. Best is trial 195 with value: 0.8345574540649607.\n"
     ]
    },
    {
     "name": "stdout",
     "output_type": "stream",
     "text": [
      "Early stopping, best iteration is:\n",
      "[101]\tvalid_0's mape: 0.161652\tvalid_0's l2: 1.26583\n",
      "Training until validation scores don't improve for 100 rounds\n",
      "Early stopping, best iteration is:\n",
      "[72]\tvalid_0's mape: 0.151221\tvalid_0's l2: 1.17867\n",
      "Training until validation scores don't improve for 100 rounds\n",
      "Early stopping, best iteration is:\n",
      "[67]\tvalid_0's mape: 0.175872\tvalid_0's l2: 1.37662\n",
      "Training until validation scores don't improve for 100 rounds\n",
      "Early stopping, best iteration is:\n",
      "[68]\tvalid_0's mape: 0.152985\tvalid_0's l2: 1.17466\n",
      "Training until validation scores don't improve for 100 rounds\n",
      "Early stopping, best iteration is:\n",
      "[87]\tvalid_0's mape: 0.160347\tvalid_0's l2: 1.27589\n",
      "Training until validation scores don't improve for 100 rounds\n"
     ]
    },
    {
     "name": "stderr",
     "output_type": "stream",
     "text": [
      "[I 2023-07-07 18:53:54,057] Trial 256 finished with value: 0.8386950344899826 and parameters: {'n_estimators': 10000, 'learning_rate': 0.08990885724897402, 'num_leaves': 860, 'max_depth': 4, 'max_bin': 224, 'reg_alpha': 5, 'reg_lambda': 15, 'min_split_gain': 1.1723051686854247, 'subsample': 0.5, 'colsample_bytree': 0.9000000000000001, 'min_child_samples': 144}. Best is trial 195 with value: 0.8345574540649607.\n"
     ]
    },
    {
     "name": "stdout",
     "output_type": "stream",
     "text": [
      "Early stopping, best iteration is:\n",
      "[82]\tvalid_0's mape: 0.158556\tvalid_0's l2: 1.25183\n",
      "Training until validation scores don't improve for 100 rounds\n",
      "Early stopping, best iteration is:\n",
      "[130]\tvalid_0's mape: 0.155344\tvalid_0's l2: 1.23789\n",
      "Training until validation scores don't improve for 100 rounds\n",
      "Early stopping, best iteration is:\n",
      "[169]\tvalid_0's mape: 0.161462\tvalid_0's l2: 1.21751\n",
      "Training until validation scores don't improve for 100 rounds\n",
      "Early stopping, best iteration is:\n",
      "[166]\tvalid_0's mape: 0.164959\tvalid_0's l2: 1.28543\n",
      "Training until validation scores don't improve for 100 rounds\n",
      "Early stopping, best iteration is:\n",
      "[164]\tvalid_0's mape: 0.161588\tvalid_0's l2: 1.278\n",
      "Training until validation scores don't improve for 100 rounds\n"
     ]
    },
    {
     "name": "stderr",
     "output_type": "stream",
     "text": [
      "[I 2023-07-07 18:53:55,910] Trial 257 finished with value: 0.8382826290150092 and parameters: {'n_estimators': 10000, 'learning_rate': 0.03855693968345085, 'num_leaves': 900, 'max_depth': 4, 'max_bin': 227, 'reg_alpha': 10, 'reg_lambda': 40, 'min_split_gain': 1.8133471479527739, 'subsample': 0.5, 'colsample_bytree': 1.0, 'min_child_samples': 84}. Best is trial 195 with value: 0.8345574540649607.\n"
     ]
    },
    {
     "name": "stdout",
     "output_type": "stream",
     "text": [
      "Early stopping, best iteration is:\n",
      "[170]\tvalid_0's mape: 0.155549\tvalid_0's l2: 1.22742\n",
      "Training until validation scores don't improve for 100 rounds\n",
      "Early stopping, best iteration is:\n",
      "[13]\tvalid_0's mape: 0.174534\tvalid_0's l2: 1.36216\n",
      "Training until validation scores don't improve for 100 rounds\n",
      "Early stopping, best iteration is:\n",
      "[12]\tvalid_0's mape: 0.154988\tvalid_0's l2: 1.17342\n",
      "Training until validation scores don't improve for 100 rounds\n",
      "Early stopping, best iteration is:\n",
      "[13]\tvalid_0's mape: 0.157789\tvalid_0's l2: 1.25595\n",
      "Training until validation scores don't improve for 100 rounds\n",
      "Early stopping, best iteration is:\n",
      "[12]\tvalid_0's mape: 0.167598\tvalid_0's l2: 1.32418\n"
     ]
    },
    {
     "name": "stderr",
     "output_type": "stream",
     "text": [
      "[I 2023-07-07 18:53:56,736] Trial 258 finished with value: 0.8458361275566524 and parameters: {'n_estimators': 10000, 'learning_rate': 0.2774373862549509, 'num_leaves': 800, 'max_depth': 4, 'max_bin': 221, 'reg_alpha': 5, 'reg_lambda': 20, 'min_split_gain': 12.132007040036237, 'subsample': 0.30000000000000004, 'colsample_bytree': 1.0, 'min_child_samples': 118}. Best is trial 195 with value: 0.8345574540649607.\n"
     ]
    },
    {
     "name": "stdout",
     "output_type": "stream",
     "text": [
      "Training until validation scores don't improve for 100 rounds\n",
      "Early stopping, best iteration is:\n",
      "[12]\tvalid_0's mape: 0.152999\tvalid_0's l2: 1.20917\n",
      "Training until validation scores don't improve for 100 rounds\n",
      "Early stopping, best iteration is:\n",
      "[91]\tvalid_0's mape: 0.151793\tvalid_0's l2: 1.22074\n",
      "Training until validation scores don't improve for 100 rounds\n",
      "Early stopping, best iteration is:\n",
      "[81]\tvalid_0's mape: 0.16066\tvalid_0's l2: 1.22152\n",
      "Training until validation scores don't improve for 100 rounds\n",
      "Early stopping, best iteration is:\n",
      "[30]\tvalid_0's mape: 0.171082\tvalid_0's l2: 1.3568\n",
      "Training until validation scores don't improve for 100 rounds\n",
      "Early stopping, best iteration is:\n",
      "[85]\tvalid_0's mape: 0.16144\tvalid_0's l2: 1.25774\n",
      "Training until validation scores don't improve for 100 rounds\n"
     ]
    },
    {
     "name": "stderr",
     "output_type": "stream",
     "text": [
      "[I 2023-07-07 18:53:58,284] Trial 259 finished with value: 0.837470364657712 and parameters: {'n_estimators': 10000, 'learning_rate': 0.11662400029126016, 'num_leaves': 980, 'max_depth': 4, 'max_bin': 224, 'reg_alpha': 0, 'reg_lambda': 45, 'min_split_gain': 0.5410678297275782, 'subsample': 0.5, 'colsample_bytree': 0.9000000000000001, 'min_child_samples': 107}. Best is trial 195 with value: 0.8345574540649607.\n"
     ]
    },
    {
     "name": "stdout",
     "output_type": "stream",
     "text": [
      "Early stopping, best iteration is:\n",
      "[54]\tvalid_0's mape: 0.151694\tvalid_0's l2: 1.16329\n",
      "Training until validation scores don't improve for 100 rounds\n",
      "Early stopping, best iteration is:\n",
      "[176]\tvalid_0's mape: 0.159066\tvalid_0's l2: 1.27525\n",
      "Training until validation scores don't improve for 100 rounds\n",
      "Early stopping, best iteration is:\n",
      "[250]\tvalid_0's mape: 0.16222\tvalid_0's l2: 1.29825\n",
      "Training until validation scores don't improve for 100 rounds\n",
      "Early stopping, best iteration is:\n",
      "[287]\tvalid_0's mape: 0.148196\tvalid_0's l2: 1.16558\n",
      "Training until validation scores don't improve for 100 rounds\n",
      "Early stopping, best iteration is:\n",
      "[324]\tvalid_0's mape: 0.175125\tvalid_0's l2: 1.34563\n",
      "Training until validation scores don't improve for 100 rounds\n"
     ]
    },
    {
     "name": "stderr",
     "output_type": "stream",
     "text": [
      "[I 2023-07-07 18:54:01,761] Trial 260 finished with value: 0.8382482782062652 and parameters: {'n_estimators': 10000, 'learning_rate': 0.026612424302666256, 'num_leaves': 880, 'max_depth': 5, 'max_bin': 217, 'reg_alpha': 0, 'reg_lambda': 50, 'min_split_gain': 0.26777400456287964, 'subsample': 0.30000000000000004, 'colsample_bytree': 1.0, 'min_child_samples': 124}. Best is trial 195 with value: 0.8345574540649607.\n"
     ]
    },
    {
     "name": "stdout",
     "output_type": "stream",
     "text": [
      "Early stopping, best iteration is:\n",
      "[392]\tvalid_0's mape: 0.153225\tvalid_0's l2: 1.15889\n",
      "Training until validation scores don't improve for 100 rounds\n",
      "Early stopping, best iteration is:\n",
      "[121]\tvalid_0's mape: 0.154981\tvalid_0's l2: 1.19822\n",
      "Training until validation scores don't improve for 100 rounds\n",
      "Early stopping, best iteration is:\n",
      "[198]\tvalid_0's mape: 0.167467\tvalid_0's l2: 1.28435\n",
      "Training until validation scores don't improve for 100 rounds\n",
      "Early stopping, best iteration is:\n",
      "[195]\tvalid_0's mape: 0.158895\tvalid_0's l2: 1.29028\n",
      "Training until validation scores don't improve for 100 rounds\n",
      "Early stopping, best iteration is:\n",
      "[93]\tvalid_0's mape: 0.165854\tvalid_0's l2: 1.28581\n",
      "Training until validation scores don't improve for 100 rounds\n"
     ]
    },
    {
     "name": "stderr",
     "output_type": "stream",
     "text": [
      "[I 2023-07-07 18:54:03,289] Trial 261 finished with value: 0.8388269606550324 and parameters: {'n_estimators': 10000, 'learning_rate': 0.07622835660863166, 'num_leaves': 1020, 'max_depth': 3, 'max_bin': 226, 'reg_alpha': 5, 'reg_lambda': 60, 'min_split_gain': 0.8524863404395693, 'subsample': 0.5, 'colsample_bytree': 0.9000000000000001, 'min_child_samples': 136}. Best is trial 195 with value: 0.8345574540649607.\n"
     ]
    },
    {
     "name": "stdout",
     "output_type": "stream",
     "text": [
      "Early stopping, best iteration is:\n",
      "[110]\tvalid_0's mape: 0.15114\tvalid_0's l2: 1.19725\n",
      "Training until validation scores don't improve for 100 rounds\n",
      "Early stopping, best iteration is:\n",
      "[292]\tvalid_0's mape: 0.15536\tvalid_0's l2: 1.23465\n",
      "Training until validation scores don't improve for 100 rounds\n",
      "Early stopping, best iteration is:\n",
      "[265]\tvalid_0's mape: 0.162814\tvalid_0's l2: 1.27322\n",
      "Training until validation scores don't improve for 100 rounds\n",
      "Early stopping, best iteration is:\n",
      "[224]\tvalid_0's mape: 0.149819\tvalid_0's l2: 1.16412\n",
      "Training until validation scores don't improve for 100 rounds\n",
      "Early stopping, best iteration is:\n",
      "[199]\tvalid_0's mape: 0.172805\tvalid_0's l2: 1.3034\n",
      "Training until validation scores don't improve for 100 rounds\n"
     ]
    },
    {
     "name": "stderr",
     "output_type": "stream",
     "text": [
      "[I 2023-07-07 18:54:05,695] Trial 262 finished with value: 0.8377203610707946 and parameters: {'n_estimators': 10000, 'learning_rate': 0.046735893934406726, 'num_leaves': 1080, 'max_depth': 4, 'max_bin': 219, 'reg_alpha': 0, 'reg_lambda': 50, 'min_split_gain': 0.009234520738748682, 'subsample': 0.4, 'colsample_bytree': 1.0, 'min_child_samples': 96}. Best is trial 195 with value: 0.8345574540649607.\n"
     ]
    },
    {
     "name": "stdout",
     "output_type": "stream",
     "text": [
      "Early stopping, best iteration is:\n",
      "[206]\tvalid_0's mape: 0.15604\tvalid_0's l2: 1.25881\n",
      "Training until validation scores don't improve for 100 rounds\n",
      "Early stopping, best iteration is:\n",
      "[41]\tvalid_0's mape: 0.161073\tvalid_0's l2: 1.27814\n",
      "Training until validation scores don't improve for 100 rounds\n",
      "Early stopping, best iteration is:\n",
      "[38]\tvalid_0's mape: 0.165473\tvalid_0's l2: 1.30411\n",
      "Training until validation scores don't improve for 100 rounds\n",
      "Early stopping, best iteration is:\n",
      "[38]\tvalid_0's mape: 0.156264\tvalid_0's l2: 1.23887\n",
      "Training until validation scores don't improve for 100 rounds\n",
      "Early stopping, best iteration is:\n",
      "[40]\tvalid_0's mape: 0.159693\tvalid_0's l2: 1.25305\n",
      "Training until validation scores don't improve for 100 rounds\n",
      "Early stopping, best iteration is:\n",
      "[38]\tvalid_0's mape: 0.165956\tvalid_0's l2: 1.25859\n"
     ]
    },
    {
     "name": "stderr",
     "output_type": "stream",
     "text": [
      "[I 2023-07-07 18:54:06,694] Trial 263 finished with value: 0.8452690962925068 and parameters: {'n_estimators': 10000, 'learning_rate': 0.14529042825954525, 'num_leaves': 940, 'max_depth': 4, 'max_bin': 222, 'reg_alpha': 60, 'reg_lambda': 35, 'min_split_gain': 1.317354310680472, 'subsample': 0.5, 'colsample_bytree': 1.0, 'min_child_samples': 87}. Best is trial 195 with value: 0.8345574540649607.\n"
     ]
    },
    {
     "name": "stdout",
     "output_type": "stream",
     "text": [
      "Training until validation scores don't improve for 100 rounds\n",
      "Early stopping, best iteration is:\n",
      "[108]\tvalid_0's mape: 0.146678\tvalid_0's l2: 1.15814\n",
      "Training until validation scores don't improve for 100 rounds\n",
      "Early stopping, best iteration is:\n",
      "[102]\tvalid_0's mape: 0.173261\tvalid_0's l2: 1.33862\n",
      "Training until validation scores don't improve for 100 rounds\n",
      "Early stopping, best iteration is:\n",
      "[89]\tvalid_0's mape: 0.160341\tvalid_0's l2: 1.27611\n",
      "Training until validation scores don't improve for 100 rounds\n",
      "Early stopping, best iteration is:\n",
      "[149]\tvalid_0's mape: 0.162258\tvalid_0's l2: 1.23733\n",
      "Training until validation scores don't improve for 100 rounds\n"
     ]
    },
    {
     "name": "stderr",
     "output_type": "stream",
     "text": [
      "[I 2023-07-07 18:54:08,340] Trial 264 finished with value: 0.8399182293566898 and parameters: {'n_estimators': 10000, 'learning_rate': 0.06606018211340858, 'num_leaves': 820, 'max_depth': 4, 'max_bin': 229, 'reg_alpha': 5, 'reg_lambda': 45, 'min_split_gain': 0.6198771878152026, 'subsample': 0.4, 'colsample_bytree': 0.8, 'min_child_samples': 289}. Best is trial 195 with value: 0.8345574540649607.\n"
     ]
    },
    {
     "name": "stdout",
     "output_type": "stream",
     "text": [
      "Early stopping, best iteration is:\n",
      "[94]\tvalid_0's mape: 0.158541\tvalid_0's l2: 1.26303\n",
      "Training until validation scores don't improve for 100 rounds\n",
      "Early stopping, best iteration is:\n",
      "[91]\tvalid_0's mape: 0.166918\tvalid_0's l2: 1.26466\n",
      "Training until validation scores don't improve for 100 rounds\n",
      "Early stopping, best iteration is:\n",
      "[94]\tvalid_0's mape: 0.154995\tvalid_0's l2: 1.24555\n",
      "Training until validation scores don't improve for 100 rounds\n",
      "Early stopping, best iteration is:\n",
      "[95]\tvalid_0's mape: 0.162355\tvalid_0's l2: 1.23234\n",
      "Training until validation scores don't improve for 100 rounds\n",
      "Early stopping, best iteration is:\n",
      "[90]\tvalid_0's mape: 0.152653\tvalid_0's l2: 1.22917\n",
      "Training until validation scores don't improve for 100 rounds\n"
     ]
    },
    {
     "name": "stderr",
     "output_type": "stream",
     "text": [
      "[I 2023-07-07 18:54:09,649] Trial 265 finished with value: 0.8406840370902181 and parameters: {'n_estimators': 10000, 'learning_rate': 0.054014607005488074, 'num_leaves': 660, 'max_depth': 4, 'max_bin': 248, 'reg_alpha': 10, 'reg_lambda': 40, 'min_split_gain': 3.8025887907405913, 'subsample': 0.30000000000000004, 'colsample_bytree': 0.9000000000000001, 'min_child_samples': 106}. Best is trial 195 with value: 0.8345574540649607.\n"
     ]
    },
    {
     "name": "stdout",
     "output_type": "stream",
     "text": [
      "Early stopping, best iteration is:\n",
      "[93]\tvalid_0's mape: 0.165162\tvalid_0's l2: 1.29708\n",
      "Training until validation scores don't improve for 100 rounds\n",
      "Early stopping, best iteration is:\n",
      "[157]\tvalid_0's mape: 0.169639\tvalid_0's l2: 1.35538\n",
      "Training until validation scores don't improve for 100 rounds\n",
      "Early stopping, best iteration is:\n",
      "[163]\tvalid_0's mape: 0.16998\tvalid_0's l2: 1.28717\n",
      "Training until validation scores don't improve for 100 rounds\n",
      "Early stopping, best iteration is:\n",
      "[161]\tvalid_0's mape: 0.164834\tvalid_0's l2: 1.31127\n",
      "Training until validation scores don't improve for 100 rounds\n",
      "Early stopping, best iteration is:\n",
      "[157]\tvalid_0's mape: 0.144389\tvalid_0's l2: 1.12718\n",
      "Training until validation scores don't improve for 100 rounds\n"
     ]
    },
    {
     "name": "stderr",
     "output_type": "stream",
     "text": [
      "[I 2023-07-07 18:54:11,421] Trial 266 finished with value: 0.8399459054465686 and parameters: {'n_estimators': 10000, 'learning_rate': 0.031222633903087653, 'num_leaves': 880, 'max_depth': 4, 'max_bin': 208, 'reg_alpha': 0, 'reg_lambda': 20, 'min_split_gain': 3.554894443446269, 'subsample': 0.5, 'colsample_bytree': 1.0, 'min_child_samples': 162}. Best is trial 195 with value: 0.8345574540649607.\n"
     ]
    },
    {
     "name": "stdout",
     "output_type": "stream",
     "text": [
      "Early stopping, best iteration is:\n",
      "[149]\tvalid_0's mape: 0.151354\tvalid_0's l2: 1.17558\n",
      "Training until validation scores don't improve for 100 rounds\n",
      "Early stopping, best iteration is:\n",
      "[90]\tvalid_0's mape: 0.159219\tvalid_0's l2: 1.26589\n",
      "Training until validation scores don't improve for 100 rounds\n",
      "Early stopping, best iteration is:\n",
      "[82]\tvalid_0's mape: 0.166577\tvalid_0's l2: 1.32458\n",
      "Training until validation scores don't improve for 100 rounds\n",
      "Early stopping, best iteration is:\n",
      "[89]\tvalid_0's mape: 0.153257\tvalid_0's l2: 1.19759\n",
      "Training until validation scores don't improve for 100 rounds\n",
      "Early stopping, best iteration is:\n",
      "[91]\tvalid_0's mape: 0.162356\tvalid_0's l2: 1.27498\n",
      "Training until validation scores don't improve for 100 rounds\n"
     ]
    },
    {
     "name": "stderr",
     "output_type": "stream",
     "text": [
      "[I 2023-07-07 18:54:12,619] Trial 267 finished with value: 0.8395924225817317 and parameters: {'n_estimators': 10000, 'learning_rate': 0.08270134001219426, 'num_leaves': 1240, 'max_depth': 3, 'max_bin': 212, 'reg_alpha': 5, 'reg_lambda': 55, 'min_split_gain': 2.8220394836017717, 'subsample': 0.4, 'colsample_bytree': 1.0, 'min_child_samples': 64}. Best is trial 195 with value: 0.8345574540649607.\n"
     ]
    },
    {
     "name": "stdout",
     "output_type": "stream",
     "text": [
      "Early stopping, best iteration is:\n",
      "[96]\tvalid_0's mape: 0.15872\tvalid_0's l2: 1.19001\n",
      "Training until validation scores don't improve for 100 rounds\n",
      "Early stopping, best iteration is:\n",
      "[166]\tvalid_0's mape: 0.16435\tvalid_0's l2: 1.27234\n",
      "Training until validation scores don't improve for 100 rounds\n",
      "Early stopping, best iteration is:\n",
      "[167]\tvalid_0's mape: 0.157811\tvalid_0's l2: 1.23341\n",
      "Training until validation scores don't improve for 100 rounds\n",
      "Early stopping, best iteration is:\n",
      "[186]\tvalid_0's mape: 0.164026\tvalid_0's l2: 1.29819\n",
      "Training until validation scores don't improve for 100 rounds\n",
      "Early stopping, best iteration is:\n",
      "[165]\tvalid_0's mape: 0.154605\tvalid_0's l2: 1.2169\n",
      "Training until validation scores don't improve for 100 rounds\n"
     ]
    },
    {
     "name": "stderr",
     "output_type": "stream",
     "text": [
      "[I 2023-07-07 18:54:14,445] Trial 268 finished with value: 0.839685001803384 and parameters: {'n_estimators': 10000, 'learning_rate': 0.04210513714407432, 'num_leaves': 1180, 'max_depth': 4, 'max_bin': 224, 'reg_alpha': 15, 'reg_lambda': 50, 'min_split_gain': 1.093238783498156, 'subsample': 0.5, 'colsample_bytree': 0.9000000000000001, 'min_child_samples': 119}. Best is trial 195 with value: 0.8345574540649607.\n"
     ]
    },
    {
     "name": "stdout",
     "output_type": "stream",
     "text": [
      "Early stopping, best iteration is:\n",
      "[178]\tvalid_0's mape: 0.159171\tvalid_0's l2: 1.25727\n",
      "Training until validation scores don't improve for 100 rounds\n",
      "Early stopping, best iteration is:\n",
      "[43]\tvalid_0's mape: 0.16073\tvalid_0's l2: 1.2832\n",
      "Training until validation scores don't improve for 100 rounds\n",
      "Early stopping, best iteration is:\n",
      "[74]\tvalid_0's mape: 0.161838\tvalid_0's l2: 1.26433\n",
      "Training until validation scores don't improve for 100 rounds\n",
      "Early stopping, best iteration is:\n",
      "[78]\tvalid_0's mape: 0.1534\tvalid_0's l2: 1.20359\n",
      "Training until validation scores don't improve for 100 rounds\n",
      "Early stopping, best iteration is:\n",
      "[79]\tvalid_0's mape: 0.158173\tvalid_0's l2: 1.17942\n",
      "Training until validation scores don't improve for 100 rounds\n"
     ]
    },
    {
     "name": "stderr",
     "output_type": "stream",
     "text": [
      "[I 2023-07-07 18:54:15,806] Trial 269 finished with value: 0.8388310134792608 and parameters: {'n_estimators': 10000, 'learning_rate': 0.07316079708771991, 'num_leaves': 980, 'max_depth': 5, 'max_bin': 221, 'reg_alpha': 10, 'reg_lambda': 40, 'min_split_gain': 2.215578569382458, 'subsample': 0.30000000000000004, 'colsample_bytree': 1.0, 'min_child_samples': 78}. Best is trial 195 with value: 0.8345574540649607.\n"
     ]
    },
    {
     "name": "stdout",
     "output_type": "stream",
     "text": [
      "Early stopping, best iteration is:\n",
      "[75]\tvalid_0's mape: 0.164787\tvalid_0's l2: 1.29957\n",
      "Training until validation scores don't improve for 100 rounds\n",
      "Early stopping, best iteration is:\n",
      "[112]\tvalid_0's mape: 0.160036\tvalid_0's l2: 1.26741\n",
      "Training until validation scores don't improve for 100 rounds\n",
      "Early stopping, best iteration is:\n",
      "[120]\tvalid_0's mape: 0.163551\tvalid_0's l2: 1.24781\n",
      "Training until validation scores don't improve for 100 rounds\n",
      "Early stopping, best iteration is:\n",
      "[119]\tvalid_0's mape: 0.162862\tvalid_0's l2: 1.2675\n",
      "Training until validation scores don't improve for 100 rounds\n",
      "Early stopping, best iteration is:\n",
      "[117]\tvalid_0's mape: 0.157956\tvalid_0's l2: 1.23678\n",
      "Training until validation scores don't improve for 100 rounds\n"
     ]
    },
    {
     "name": "stderr",
     "output_type": "stream",
     "text": [
      "[I 2023-07-07 18:54:17,188] Trial 270 finished with value: 0.8465908217092641 and parameters: {'n_estimators': 10000, 'learning_rate': 0.05776319917376159, 'num_leaves': 920, 'max_depth': 4, 'max_bin': 215, 'reg_alpha': 80, 'reg_lambda': 45, 'min_split_gain': 0.36873837630201983, 'subsample': 0.4, 'colsample_bytree': 1.0, 'min_child_samples': 130}. Best is trial 195 with value: 0.8345574540649607.\n"
     ]
    },
    {
     "name": "stdout",
     "output_type": "stream",
     "text": [
      "Early stopping, best iteration is:\n",
      "[118]\tvalid_0's mape: 0.165693\tvalid_0's l2: 1.33092\n",
      "Training until validation scores don't improve for 100 rounds\n",
      "Early stopping, best iteration is:\n",
      "[462]\tvalid_0's mape: 0.16618\tvalid_0's l2: 1.31875\n",
      "Training until validation scores don't improve for 100 rounds\n",
      "Early stopping, best iteration is:\n",
      "[460]\tvalid_0's mape: 0.144517\tvalid_0's l2: 1.11084\n",
      "Training until validation scores don't improve for 100 rounds\n",
      "Early stopping, best iteration is:\n",
      "[455]\tvalid_0's mape: 0.163884\tvalid_0's l2: 1.29328\n",
      "Training until validation scores don't improve for 100 rounds\n",
      "Early stopping, best iteration is:\n",
      "[461]\tvalid_0's mape: 0.168381\tvalid_0's l2: 1.29934\n",
      "Training until validation scores don't improve for 100 rounds\n"
     ]
    },
    {
     "name": "stderr",
     "output_type": "stream",
     "text": [
      "[I 2023-07-07 18:54:20,636] Trial 271 finished with value: 0.8386299255556862 and parameters: {'n_estimators': 10000, 'learning_rate': 0.01012385384561307, 'num_leaves': 740, 'max_depth': 4, 'max_bin': 220, 'reg_alpha': 5, 'reg_lambda': 45, 'min_split_gain': 5.099652055201631, 'subsample': 0.5, 'colsample_bytree': 0.9000000000000001, 'min_child_samples': 102}. Best is trial 195 with value: 0.8345574540649607.\n"
     ]
    },
    {
     "name": "stdout",
     "output_type": "stream",
     "text": [
      "Early stopping, best iteration is:\n",
      "[456]\tvalid_0's mape: 0.157828\tvalid_0's l2: 1.21898\n",
      "Training until validation scores don't improve for 100 rounds\n",
      "Early stopping, best iteration is:\n",
      "[102]\tvalid_0's mape: 0.156939\tvalid_0's l2: 1.22999\n",
      "Training until validation scores don't improve for 100 rounds\n",
      "Early stopping, best iteration is:\n",
      "[116]\tvalid_0's mape: 0.164044\tvalid_0's l2: 1.27085\n",
      "Training until validation scores don't improve for 100 rounds\n",
      "Early stopping, best iteration is:\n",
      "[220]\tvalid_0's mape: 0.169687\tvalid_0's l2: 1.31681\n",
      "Training until validation scores don't improve for 100 rounds\n",
      "Early stopping, best iteration is:\n",
      "[72]\tvalid_0's mape: 0.149578\tvalid_0's l2: 1.15691\n",
      "Training until validation scores don't improve for 100 rounds\n"
     ]
    },
    {
     "name": "stderr",
     "output_type": "stream",
     "text": [
      "[I 2023-07-07 18:54:22,426] Trial 272 finished with value: 0.8382316749919794 and parameters: {'n_estimators': 10000, 'learning_rate': 0.06499778207553694, 'num_leaves': 1040, 'max_depth': 4, 'max_bin': 230, 'reg_alpha': 0, 'reg_lambda': 50, 'min_split_gain': 0.7883092166534569, 'subsample': 0.4, 'colsample_bytree': 1.0, 'min_child_samples': 146}. Best is trial 195 with value: 0.8345574540649607.\n"
     ]
    },
    {
     "name": "stdout",
     "output_type": "stream",
     "text": [
      "Early stopping, best iteration is:\n",
      "[89]\tvalid_0's mape: 0.158295\tvalid_0's l2: 1.26393\n",
      "Training until validation scores don't improve for 100 rounds\n",
      "Early stopping, best iteration is:\n",
      "[125]\tvalid_0's mape: 0.150486\tvalid_0's l2: 1.17348\n",
      "Training until validation scores don't improve for 100 rounds\n",
      "Early stopping, best iteration is:\n",
      "[132]\tvalid_0's mape: 0.153009\tvalid_0's l2: 1.19521\n",
      "Training until validation scores don't improve for 100 rounds\n",
      "Early stopping, best iteration is:\n",
      "[151]\tvalid_0's mape: 0.176613\tvalid_0's l2: 1.38176\n",
      "Training until validation scores don't improve for 100 rounds\n",
      "Early stopping, best iteration is:\n",
      "[158]\tvalid_0's mape: 0.160457\tvalid_0's l2: 1.22427\n",
      "Training until validation scores don't improve for 100 rounds\n"
     ]
    },
    {
     "name": "stderr",
     "output_type": "stream",
     "text": [
      "[I 2023-07-07 18:54:25,355] Trial 273 finished with value: 0.8392626012236383 and parameters: {'n_estimators': 10000, 'learning_rate': 0.03617359449203944, 'num_leaves': 840, 'max_depth': 9, 'max_bin': 226, 'reg_alpha': 5, 'reg_lambda': 20, 'min_split_gain': 1.494260446627554, 'subsample': 0.6000000000000001, 'colsample_bytree': 1.0, 'min_child_samples': 116}. Best is trial 195 with value: 0.8345574540649607.\n"
     ]
    },
    {
     "name": "stdout",
     "output_type": "stream",
     "text": [
      "Early stopping, best iteration is:\n",
      "[147]\tvalid_0's mape: 0.158378\tvalid_0's l2: 1.27717\n",
      "Training until validation scores don't improve for 100 rounds\n",
      "Early stopping, best iteration is:\n",
      "[144]\tvalid_0's mape: 0.154868\tvalid_0's l2: 1.20801\n",
      "Training until validation scores don't improve for 100 rounds\n",
      "Early stopping, best iteration is:\n",
      "[73]\tvalid_0's mape: 0.164827\tvalid_0's l2: 1.27944\n",
      "Training until validation scores don't improve for 100 rounds\n",
      "Early stopping, best iteration is:\n",
      "[229]\tvalid_0's mape: 0.161186\tvalid_0's l2: 1.26502\n",
      "Training until validation scores don't improve for 100 rounds\n",
      "Early stopping, best iteration is:\n",
      "[288]\tvalid_0's mape: 0.163815\tvalid_0's l2: 1.28462\n",
      "Training until validation scores don't improve for 100 rounds\n"
     ]
    },
    {
     "name": "stderr",
     "output_type": "stream",
     "text": [
      "[I 2023-07-07 18:54:27,545] Trial 274 finished with value: 0.8416942377336621 and parameters: {'n_estimators': 10000, 'learning_rate': 0.05026093268979995, 'num_leaves': 960, 'max_depth': 4, 'max_bin': 218, 'reg_alpha': 0, 'reg_lambda': 55, 'min_split_gain': 0.30769468367288644, 'subsample': 0.5, 'colsample_bytree': 0.9000000000000001, 'min_child_samples': 353}. Best is trial 195 with value: 0.8345574540649607.\n"
     ]
    },
    {
     "name": "stdout",
     "output_type": "stream",
     "text": [
      "Early stopping, best iteration is:\n",
      "[275]\tvalid_0's mape: 0.158331\tvalid_0's l2: 1.27314\n",
      "Training until validation scores don't improve for 100 rounds\n",
      "Early stopping, best iteration is:\n",
      "[305]\tvalid_0's mape: 0.158823\tvalid_0's l2: 1.24437\n",
      "Training until validation scores don't improve for 100 rounds\n",
      "Early stopping, best iteration is:\n",
      "[319]\tvalid_0's mape: 0.160948\tvalid_0's l2: 1.28635\n",
      "Training until validation scores don't improve for 100 rounds\n",
      "Early stopping, best iteration is:\n",
      "[252]\tvalid_0's mape: 0.150618\tvalid_0's l2: 1.18364\n",
      "Training until validation scores don't improve for 100 rounds\n",
      "Early stopping, best iteration is:\n",
      "[392]\tvalid_0's mape: 0.160668\tvalid_0's l2: 1.23728\n",
      "Training until validation scores don't improve for 100 rounds\n"
     ]
    },
    {
     "name": "stderr",
     "output_type": "stream",
     "text": [
      "[I 2023-07-07 18:54:30,533] Trial 275 finished with value: 0.8383352463484866 and parameters: {'n_estimators': 10000, 'learning_rate': 0.021386658929661666, 'num_leaves': 1000, 'max_depth': 4, 'max_bin': 224, 'reg_alpha': 10, 'reg_lambda': 25, 'min_split_gain': 1.0619385598385223, 'subsample': 0.30000000000000004, 'colsample_bytree': 1.0, 'min_child_samples': 92}. Best is trial 195 with value: 0.8345574540649607.\n"
     ]
    },
    {
     "name": "stdout",
     "output_type": "stream",
     "text": [
      "Early stopping, best iteration is:\n",
      "[372]\tvalid_0's mape: 0.166949\tvalid_0's l2: 1.29602\n",
      "Training until validation scores don't improve for 100 rounds\n",
      "Early stopping, best iteration is:\n",
      "[41]\tvalid_0's mape: 0.16342\tvalid_0's l2: 1.26993\n",
      "Training until validation scores don't improve for 100 rounds\n",
      "Early stopping, best iteration is:\n",
      "[43]\tvalid_0's mape: 0.15519\tvalid_0's l2: 1.16768\n",
      "Training until validation scores don't improve for 100 rounds\n",
      "Early stopping, best iteration is:\n",
      "[42]\tvalid_0's mape: 0.162901\tvalid_0's l2: 1.30588\n",
      "Training until validation scores don't improve for 100 rounds\n",
      "Early stopping, best iteration is:\n",
      "[44]\tvalid_0's mape: 0.158334\tvalid_0's l2: 1.23244\n",
      "Training until validation scores don't improve for 100 rounds\n"
     ]
    },
    {
     "name": "stderr",
     "output_type": "stream",
     "text": [
      "[I 2023-07-07 18:54:31,564] Trial 276 finished with value: 0.8421889163829018 and parameters: {'n_estimators': 10000, 'learning_rate': 0.10479855395342999, 'num_leaves': 920, 'max_depth': 3, 'max_bin': 233, 'reg_alpha': 0, 'reg_lambda': 45, 'min_split_gain': 7.939706911324559, 'subsample': 0.4, 'colsample_bytree': 0.9000000000000001, 'min_child_samples': 135}. Best is trial 195 with value: 0.8345574540649607.\n"
     ]
    },
    {
     "name": "stdout",
     "output_type": "stream",
     "text": [
      "Early stopping, best iteration is:\n",
      "[42]\tvalid_0's mape: 0.164401\tvalid_0's l2: 1.3088\n",
      "Training until validation scores don't improve for 100 rounds\n",
      "Early stopping, best iteration is:\n",
      "[83]\tvalid_0's mape: 0.158188\tvalid_0's l2: 1.28331\n",
      "Training until validation scores don't improve for 100 rounds\n",
      "Early stopping, best iteration is:\n",
      "[55]\tvalid_0's mape: 0.159905\tvalid_0's l2: 1.25493\n",
      "Training until validation scores don't improve for 100 rounds\n",
      "Early stopping, best iteration is:\n",
      "[85]\tvalid_0's mape: 0.168534\tvalid_0's l2: 1.31769\n",
      "Training until validation scores don't improve for 100 rounds\n",
      "Early stopping, best iteration is:\n",
      "[154]\tvalid_0's mape: 0.162687\tvalid_0's l2: 1.2456\n",
      "Training until validation scores don't improve for 100 rounds\n"
     ]
    },
    {
     "name": "stderr",
     "output_type": "stream",
     "text": [
      "[I 2023-07-07 18:54:33,097] Trial 277 finished with value: 0.8412425037310352 and parameters: {'n_estimators': 10000, 'learning_rate': 0.07230569905395413, 'num_leaves': 880, 'max_depth': 4, 'max_bin': 222, 'reg_alpha': 5, 'reg_lambda': 15, 'min_split_gain': 0.6479558618307748, 'subsample': 0.30000000000000004, 'colsample_bytree': 1.0, 'min_child_samples': 402}. Best is trial 195 with value: 0.8345574540649607.\n"
     ]
    },
    {
     "name": "stdout",
     "output_type": "stream",
     "text": [
      "Early stopping, best iteration is:\n",
      "[113]\tvalid_0's mape: 0.154192\tvalid_0's l2: 1.18995\n",
      "Training until validation scores don't improve for 100 rounds\n",
      "Early stopping, best iteration is:\n",
      "[64]\tvalid_0's mape: 0.165867\tvalid_0's l2: 1.32168\n",
      "Training until validation scores don't improve for 100 rounds\n",
      "Early stopping, best iteration is:\n",
      "[72]\tvalid_0's mape: 0.162386\tvalid_0's l2: 1.28301\n",
      "Training until validation scores don't improve for 100 rounds\n",
      "Early stopping, best iteration is:\n",
      "[61]\tvalid_0's mape: 0.160599\tvalid_0's l2: 1.24057\n",
      "Training until validation scores don't improve for 100 rounds\n",
      "Early stopping, best iteration is:\n",
      "[70]\tvalid_0's mape: 0.151312\tvalid_0's l2: 1.17374\n",
      "Training until validation scores don't improve for 100 rounds\n"
     ]
    },
    {
     "name": "stderr",
     "output_type": "stream",
     "text": [
      "[I 2023-07-07 18:54:34,325] Trial 278 finished with value: 0.8393957491555992 and parameters: {'n_estimators': 10000, 'learning_rate': 0.09500911141057407, 'num_leaves': 780, 'max_depth': 4, 'max_bin': 227, 'reg_alpha': 0, 'reg_lambda': 50, 'min_split_gain': 1.901725366160695, 'subsample': 0.5, 'colsample_bytree': 0.9000000000000001, 'min_child_samples': 174}. Best is trial 195 with value: 0.8345574540649607.\n"
     ]
    },
    {
     "name": "stdout",
     "output_type": "stream",
     "text": [
      "Early stopping, best iteration is:\n",
      "[60]\tvalid_0's mape: 0.159704\tvalid_0's l2: 1.2386\n",
      "Training until validation scores don't improve for 100 rounds\n",
      "Early stopping, best iteration is:\n",
      "[114]\tvalid_0's mape: 0.165907\tvalid_0's l2: 1.28576\n",
      "Training until validation scores don't improve for 100 rounds\n",
      "Early stopping, best iteration is:\n",
      "[116]\tvalid_0's mape: 0.159466\tvalid_0's l2: 1.24528\n",
      "Training until validation scores don't improve for 100 rounds\n",
      "Early stopping, best iteration is:\n",
      "[97]\tvalid_0's mape: 0.147828\tvalid_0's l2: 1.17445\n",
      "Training until validation scores don't improve for 100 rounds\n",
      "Early stopping, best iteration is:\n",
      "[130]\tvalid_0's mape: 0.166749\tvalid_0's l2: 1.32112\n",
      "Training until validation scores don't improve for 100 rounds\n"
     ]
    },
    {
     "name": "stderr",
     "output_type": "stream",
     "text": [
      "[I 2023-07-07 18:54:36,121] Trial 279 finished with value: 0.8385180179270112 and parameters: {'n_estimators': 10000, 'learning_rate': 0.04229987064931539, 'num_leaves': 940, 'max_depth': 5, 'max_bin': 217, 'reg_alpha': 5, 'reg_lambda': 40, 'min_split_gain': 2.4334018521347787, 'subsample': 0.5, 'colsample_bytree': 1.0, 'min_child_samples': 111}. Best is trial 195 with value: 0.8345574540649607.\n"
     ]
    },
    {
     "name": "stdout",
     "output_type": "stream",
     "text": [
      "Early stopping, best iteration is:\n",
      "[132]\tvalid_0's mape: 0.158736\tvalid_0's l2: 1.21107\n",
      "Training until validation scores don't improve for 100 rounds\n",
      "Early stopping, best iteration is:\n",
      "[56]\tvalid_0's mape: 0.160815\tvalid_0's l2: 1.2312\n",
      "Training until validation scores don't improve for 100 rounds\n",
      "Early stopping, best iteration is:\n",
      "[52]\tvalid_0's mape: 0.15709\tvalid_0's l2: 1.24053\n",
      "Training until validation scores don't improve for 100 rounds\n",
      "Early stopping, best iteration is:\n",
      "[52]\tvalid_0's mape: 0.164299\tvalid_0's l2: 1.29772\n",
      "Training until validation scores don't improve for 100 rounds\n",
      "Early stopping, best iteration is:\n",
      "[54]\tvalid_0's mape: 0.16693\tvalid_0's l2: 1.309\n",
      "Training until validation scores don't improve for 100 rounds\n",
      "Early stopping, best iteration is:\n",
      "[55]\tvalid_0's mape: 0.161443\tvalid_0's l2: 1.26952\n"
     ]
    },
    {
     "name": "stderr",
     "output_type": "stream",
     "text": [
      "[I 2023-07-07 18:54:37,175] Trial 280 finished with value: 0.8463163028344441 and parameters: {'n_estimators': 10000, 'learning_rate': 0.12398396639156971, 'num_leaves': 840, 'max_depth': 4, 'max_bin': 223, 'reg_alpha': 90, 'reg_lambda': 30, 'min_split_gain': 0.45915058035179585, 'subsample': 0.4, 'colsample_bytree': 0.8, 'min_child_samples': 125}. Best is trial 195 with value: 0.8345574540649607.\n"
     ]
    },
    {
     "name": "stdout",
     "output_type": "stream",
     "text": [
      "Training until validation scores don't improve for 100 rounds\n",
      "Early stopping, best iteration is:\n",
      "[83]\tvalid_0's mape: 0.16399\tvalid_0's l2: 1.27198\n",
      "Training until validation scores don't improve for 100 rounds\n",
      "Early stopping, best iteration is:\n",
      "[100]\tvalid_0's mape: 0.162949\tvalid_0's l2: 1.27953\n",
      "Training until validation scores don't improve for 100 rounds\n",
      "Early stopping, best iteration is:\n",
      "[64]\tvalid_0's mape: 0.148693\tvalid_0's l2: 1.15433\n",
      "Training until validation scores don't improve for 100 rounds\n",
      "Early stopping, best iteration is:\n",
      "[80]\tvalid_0's mape: 0.156237\tvalid_0's l2: 1.24306\n",
      "Training until validation scores don't improve for 100 rounds\n"
     ]
    },
    {
     "name": "stderr",
     "output_type": "stream",
     "text": [
      "[I 2023-07-07 18:54:43,446] Trial 281 finished with value: 0.8388616916519961 and parameters: {'n_estimators': 10000, 'learning_rate': 0.0621715285884643, 'num_leaves': 1460, 'max_depth': 12, 'max_bin': 220, 'reg_alpha': 5, 'reg_lambda': 20, 'min_split_gain': 0.015538160361212361, 'subsample': 0.30000000000000004, 'colsample_bytree': 1.0, 'min_child_samples': 100}. Best is trial 195 with value: 0.8345574540649607.\n"
     ]
    },
    {
     "name": "stdout",
     "output_type": "stream",
     "text": [
      "Early stopping, best iteration is:\n",
      "[117]\tvalid_0's mape: 0.165194\tvalid_0's l2: 1.29297\n",
      "Training until validation scores don't improve for 100 rounds\n",
      "Early stopping, best iteration is:\n",
      "[98]\tvalid_0's mape: 0.156091\tvalid_0's l2: 1.26607\n",
      "Training until validation scores don't improve for 100 rounds\n",
      "Early stopping, best iteration is:\n",
      "[108]\tvalid_0's mape: 0.15888\tvalid_0's l2: 1.25956\n",
      "Training until validation scores don't improve for 100 rounds\n",
      "Early stopping, best iteration is:\n",
      "[97]\tvalid_0's mape: 0.172257\tvalid_0's l2: 1.37352\n",
      "Training until validation scores don't improve for 100 rounds\n",
      "Early stopping, best iteration is:\n",
      "[102]\tvalid_0's mape: 0.150041\tvalid_0's l2: 1.12399\n",
      "Training until validation scores don't improve for 100 rounds\n"
     ]
    },
    {
     "name": "stderr",
     "output_type": "stream",
     "text": [
      "[I 2023-07-07 18:54:44,852] Trial 282 finished with value: 0.8381425083846065 and parameters: {'n_estimators': 10000, 'learning_rate': 0.07956868095211714, 'num_leaves': 1060, 'max_depth': 4, 'max_bin': 213, 'reg_alpha': 10, 'reg_lambda': 45, 'min_split_gain': 0.9534862620340111, 'subsample': 0.4, 'colsample_bytree': 1.0, 'min_child_samples': 155}. Best is trial 195 with value: 0.8345574540649607.\n"
     ]
    },
    {
     "name": "stdout",
     "output_type": "stream",
     "text": [
      "Early stopping, best iteration is:\n",
      "[108]\tvalid_0's mape: 0.160438\tvalid_0's l2: 1.21105\n",
      "Training until validation scores don't improve for 100 rounds\n",
      "Early stopping, best iteration is:\n",
      "[34]\tvalid_0's mape: 0.166477\tvalid_0's l2: 1.2981\n",
      "Training until validation scores don't improve for 100 rounds\n",
      "Early stopping, best iteration is:\n",
      "[28]\tvalid_0's mape: 0.156246\tvalid_0's l2: 1.24882\n",
      "Training until validation scores don't improve for 100 rounds\n",
      "Early stopping, best iteration is:\n",
      "[27]\tvalid_0's mape: 0.164321\tvalid_0's l2: 1.29457\n",
      "Training until validation scores don't improve for 100 rounds\n",
      "Early stopping, best iteration is:\n",
      "[23]\tvalid_0's mape: 0.152736\tvalid_0's l2: 1.18722\n",
      "Training until validation scores don't improve for 100 rounds\n"
     ]
    },
    {
     "name": "stderr",
     "output_type": "stream",
     "text": [
      "[I 2023-07-07 18:54:45,966] Trial 283 finished with value: 0.8381222065211322 and parameters: {'n_estimators': 10000, 'learning_rate': 0.24064205234480113, 'num_leaves': 1000, 'max_depth': 4, 'max_bin': 225, 'reg_alpha': 0, 'reg_lambda': 55, 'min_split_gain': 1.2781175063523031, 'subsample': 0.5, 'colsample_bytree': 0.9000000000000001, 'min_child_samples': 68}. Best is trial 195 with value: 0.8345574540649607.\n"
     ]
    },
    {
     "name": "stdout",
     "output_type": "stream",
     "text": [
      "Early stopping, best iteration is:\n",
      "[56]\tvalid_0's mape: 0.156963\tvalid_0's l2: 1.2191\n",
      "Training until validation scores don't improve for 100 rounds\n",
      "Early stopping, best iteration is:\n",
      "[161]\tvalid_0's mape: 0.156762\tvalid_0's l2: 1.25058\n",
      "Training until validation scores don't improve for 100 rounds\n",
      "Early stopping, best iteration is:\n",
      "[154]\tvalid_0's mape: 0.169397\tvalid_0's l2: 1.31196\n",
      "Training until validation scores don't improve for 100 rounds\n",
      "Early stopping, best iteration is:\n",
      "[109]\tvalid_0's mape: 0.145997\tvalid_0's l2: 1.15131\n",
      "Training until validation scores don't improve for 100 rounds\n",
      "Early stopping, best iteration is:\n",
      "[143]\tvalid_0's mape: 0.15958\tvalid_0's l2: 1.24839\n",
      "Training until validation scores don't improve for 100 rounds\n"
     ]
    },
    {
     "name": "stderr",
     "output_type": "stream",
     "text": [
      "[I 2023-07-07 18:54:47,906] Trial 284 finished with value: 0.8372907129073954 and parameters: {'n_estimators': 10000, 'learning_rate': 0.06898260904281434, 'num_leaves': 900, 'max_depth': 4, 'max_bin': 222, 'reg_alpha': 0, 'reg_lambda': 50, 'min_split_gain': 0.711072608147642, 'subsample': 0.4, 'colsample_bytree': 1.0, 'min_child_samples': 88}. Best is trial 195 with value: 0.8345574540649607.\n"
     ]
    },
    {
     "name": "stdout",
     "output_type": "stream",
     "text": [
      "Early stopping, best iteration is:\n",
      "[164]\tvalid_0's mape: 0.164395\tvalid_0's l2: 1.25979\n",
      "Training until validation scores don't improve for 100 rounds\n",
      "Early stopping, best iteration is:\n",
      "[211]\tvalid_0's mape: 0.156124\tvalid_0's l2: 1.22124\n",
      "Training until validation scores don't improve for 100 rounds\n",
      "Early stopping, best iteration is:\n",
      "[197]\tvalid_0's mape: 0.159368\tvalid_0's l2: 1.2086\n",
      "Training until validation scores don't improve for 100 rounds\n",
      "Early stopping, best iteration is:\n",
      "[201]\tvalid_0's mape: 0.161479\tvalid_0's l2: 1.28994\n",
      "Training until validation scores don't improve for 100 rounds\n",
      "Early stopping, best iteration is:\n",
      "[209]\tvalid_0's mape: 0.160936\tvalid_0's l2: 1.22293\n",
      "Training until validation scores don't improve for 100 rounds\n"
     ]
    },
    {
     "name": "stderr",
     "output_type": "stream",
     "text": [
      "[I 2023-07-07 18:54:49,557] Trial 285 finished with value: 0.8376416599605271 and parameters: {'n_estimators': 10000, 'learning_rate': 0.04899559062804811, 'num_leaves': 960, 'max_depth': 3, 'max_bin': 216, 'reg_alpha': 5, 'reg_lambda': 60, 'min_split_gain': 1.6621505986099505, 'subsample': 0.6000000000000001, 'colsample_bytree': 1.0, 'min_child_samples': 120}. Best is trial 195 with value: 0.8345574540649607.\n"
     ]
    },
    {
     "name": "stdout",
     "output_type": "stream",
     "text": [
      "Early stopping, best iteration is:\n",
      "[159]\tvalid_0's mape: 0.159333\tvalid_0's l2: 1.28542\n",
      "Training until validation scores don't improve for 100 rounds\n",
      "Early stopping, best iteration is:\n",
      "[140]\tvalid_0's mape: 0.15855\tvalid_0's l2: 1.25636\n",
      "Training until validation scores don't improve for 100 rounds\n",
      "Early stopping, best iteration is:\n",
      "[135]\tvalid_0's mape: 0.172233\tvalid_0's l2: 1.38918\n",
      "Training until validation scores don't improve for 100 rounds\n",
      "Early stopping, best iteration is:\n",
      "[140]\tvalid_0's mape: 0.153503\tvalid_0's l2: 1.19478\n",
      "Training until validation scores don't improve for 100 rounds\n",
      "Early stopping, best iteration is:\n",
      "[144]\tvalid_0's mape: 0.158226\tvalid_0's l2: 1.21544\n",
      "Training until validation scores don't improve for 100 rounds\n"
     ]
    },
    {
     "name": "stderr",
     "output_type": "stream",
     "text": [
      "[I 2023-07-07 18:54:51,186] Trial 286 finished with value: 0.8382294175782447 and parameters: {'n_estimators': 10000, 'learning_rate': 0.056248480622261544, 'num_leaves': 860, 'max_depth': 4, 'max_bin': 219, 'reg_alpha': 35, 'reg_lambda': 10, 'min_split_gain': 0.2652349128517545, 'subsample': 0.30000000000000004, 'colsample_bytree': 0.9000000000000001, 'min_child_samples': 140}. Best is trial 195 with value: 0.8345574540649607.\n"
     ]
    },
    {
     "name": "stdout",
     "output_type": "stream",
     "text": [
      "Early stopping, best iteration is:\n",
      "[139]\tvalid_0's mape: 0.156408\tvalid_0's l2: 1.20053\n",
      "Training until validation scores don't improve for 100 rounds\n",
      "Early stopping, best iteration is:\n",
      "[157]\tvalid_0's mape: 0.163552\tvalid_0's l2: 1.29962\n",
      "Training until validation scores don't improve for 100 rounds\n",
      "Early stopping, best iteration is:\n",
      "[256]\tvalid_0's mape: 0.152817\tvalid_0's l2: 1.18751\n",
      "Training until validation scores don't improve for 100 rounds\n",
      "Early stopping, best iteration is:\n",
      "[199]\tvalid_0's mape: 0.163562\tvalid_0's l2: 1.28962\n",
      "Training until validation scores don't improve for 100 rounds\n",
      "Early stopping, best iteration is:\n",
      "[198]\tvalid_0's mape: 0.162364\tvalid_0's l2: 1.23776\n",
      "Training until validation scores don't improve for 100 rounds\n"
     ]
    },
    {
     "name": "stderr",
     "output_type": "stream",
     "text": [
      "[I 2023-07-07 18:54:53,607] Trial 287 finished with value: 0.8385392206834688 and parameters: {'n_estimators': 10000, 'learning_rate': 0.03056955761148964, 'num_leaves': 1900, 'max_depth': 4, 'max_bin': 210, 'reg_alpha': 0, 'reg_lambda': 35, 'min_split_gain': 0.5404106844468776, 'subsample': 0.5, 'colsample_bytree': 1.0, 'min_child_samples': 110}. Best is trial 195 with value: 0.8345574540649607.\n"
     ]
    },
    {
     "name": "stdout",
     "output_type": "stream",
     "text": [
      "Early stopping, best iteration is:\n",
      "[260]\tvalid_0's mape: 0.156195\tvalid_0's l2: 1.21743\n",
      "Training until validation scores don't improve for 100 rounds\n",
      "Early stopping, best iteration is:\n",
      "[43]\tvalid_0's mape: 0.153369\tvalid_0's l2: 1.22277\n",
      "Training until validation scores don't improve for 100 rounds\n",
      "Early stopping, best iteration is:\n",
      "[48]\tvalid_0's mape: 0.154273\tvalid_0's l2: 1.21005\n",
      "Training until validation scores don't improve for 100 rounds\n",
      "Early stopping, best iteration is:\n",
      "[51]\tvalid_0's mape: 0.175847\tvalid_0's l2: 1.37101\n",
      "Training until validation scores don't improve for 100 rounds\n",
      "Early stopping, best iteration is:\n",
      "[51]\tvalid_0's mape: 0.168837\tvalid_0's l2: 1.30494\n",
      "Training until validation scores don't improve for 100 rounds\n"
     ]
    },
    {
     "name": "stderr",
     "output_type": "stream",
     "text": [
      "[I 2023-07-07 18:54:54,717] Trial 288 finished with value: 0.8437361897482043 and parameters: {'n_estimators': 10000, 'learning_rate': 0.08767398995590821, 'num_leaves': 820, 'max_depth': 5, 'max_bin': 265, 'reg_alpha': 5, 'reg_lambda': 40, 'min_split_gain': 4.698508310747559, 'subsample': 0.4, 'colsample_bytree': 0.9000000000000001, 'min_child_samples': 255}. Best is trial 195 with value: 0.8345574540649607.\n"
     ]
    },
    {
     "name": "stdout",
     "output_type": "stream",
     "text": [
      "Early stopping, best iteration is:\n",
      "[50]\tvalid_0's mape: 0.153663\tvalid_0's l2: 1.20377\n",
      "Training until validation scores don't improve for 100 rounds\n",
      "Early stopping, best iteration is:\n",
      "[120]\tvalid_0's mape: 0.157955\tvalid_0's l2: 1.26579\n",
      "Training until validation scores don't improve for 100 rounds\n",
      "Early stopping, best iteration is:\n",
      "[129]\tvalid_0's mape: 0.165463\tvalid_0's l2: 1.29467\n",
      "Training until validation scores don't improve for 100 rounds\n",
      "Early stopping, best iteration is:\n",
      "[132]\tvalid_0's mape: 0.156571\tvalid_0's l2: 1.19662\n",
      "Training until validation scores don't improve for 100 rounds\n",
      "Early stopping, best iteration is:\n",
      "[51]\tvalid_0's mape: 0.163886\tvalid_0's l2: 1.2938\n",
      "Training until validation scores don't improve for 100 rounds\n"
     ]
    },
    {
     "name": "stderr",
     "output_type": "stream",
     "text": [
      "[I 2023-07-07 18:54:56,444] Trial 289 finished with value: 0.8363176823482037 and parameters: {'n_estimators': 10000, 'learning_rate': 0.07542636125146619, 'num_leaves': 1100, 'max_depth': 4, 'max_bin': 227, 'reg_alpha': 5, 'reg_lambda': 45, 'min_split_gain': 0.9714905498466702, 'subsample': 0.5, 'colsample_bytree': 1.0, 'min_child_samples': 54}. Best is trial 195 with value: 0.8345574540649607.\n"
     ]
    },
    {
     "name": "stdout",
     "output_type": "stream",
     "text": [
      "Early stopping, best iteration is:\n",
      "[158]\tvalid_0's mape: 0.152186\tvalid_0's l2: 1.16027\n",
      "Training until validation scores don't improve for 100 rounds\n",
      "Early stopping, best iteration is:\n",
      "[107]\tvalid_0's mape: 0.149192\tvalid_0's l2: 1.18575\n",
      "Training until validation scores don't improve for 100 rounds\n",
      "Early stopping, best iteration is:\n",
      "[118]\tvalid_0's mape: 0.164144\tvalid_0's l2: 1.24941\n",
      "Training until validation scores don't improve for 100 rounds\n",
      "Early stopping, best iteration is:\n",
      "[114]\tvalid_0's mape: 0.164696\tvalid_0's l2: 1.28977\n",
      "Training until validation scores don't improve for 100 rounds\n",
      "Early stopping, best iteration is:\n",
      "[112]\tvalid_0's mape: 0.16313\tvalid_0's l2: 1.25748\n",
      "Training until validation scores don't improve for 100 rounds\n"
     ]
    },
    {
     "name": "stderr",
     "output_type": "stream",
     "text": [
      "[I 2023-07-07 18:54:57,982] Trial 290 finished with value: 0.8377761373336436 and parameters: {'n_estimators': 10000, 'learning_rate': 0.04090261000449845, 'num_leaves': 920, 'max_depth': 4, 'max_bin': 225, 'reg_alpha': 0, 'reg_lambda': 45, 'min_split_gain': 5.352940050180627, 'subsample': 0.30000000000000004, 'colsample_bytree': 0.9000000000000001, 'min_child_samples': 78}. Best is trial 195 with value: 0.8345574540649607.\n"
     ]
    },
    {
     "name": "stdout",
     "output_type": "stream",
     "text": [
      "Early stopping, best iteration is:\n",
      "[118]\tvalid_0's mape: 0.157777\tvalid_0's l2: 1.24197\n",
      "Training until validation scores don't improve for 100 rounds\n",
      "Early stopping, best iteration is:\n",
      "[72]\tvalid_0's mape: 0.150391\tvalid_0's l2: 1.21863\n",
      "Training until validation scores don't improve for 100 rounds\n",
      "Early stopping, best iteration is:\n",
      "[73]\tvalid_0's mape: 0.159805\tvalid_0's l2: 1.23731\n",
      "Training until validation scores don't improve for 100 rounds\n",
      "Early stopping, best iteration is:\n",
      "[109]\tvalid_0's mape: 0.164015\tvalid_0's l2: 1.29658\n",
      "Training until validation scores don't improve for 100 rounds\n",
      "Early stopping, best iteration is:\n",
      "[86]\tvalid_0's mape: 0.160812\tvalid_0's l2: 1.21139\n",
      "Training until validation scores don't improve for 100 rounds\n"
     ]
    },
    {
     "name": "stderr",
     "output_type": "stream",
     "text": [
      "[I 2023-07-07 18:55:01,338] Trial 291 finished with value: 0.8382836264424711 and parameters: {'n_estimators': 10000, 'learning_rate': 0.0638203257009674, 'num_leaves': 1020, 'max_depth': 8, 'max_bin': 230, 'reg_alpha': 10, 'reg_lambda': 15, 'min_split_gain': 0.001965799151454284, 'subsample': 0.5, 'colsample_bytree': 1.0, 'min_child_samples': 130}. Best is trial 195 with value: 0.8345574540649607.\n"
     ]
    },
    {
     "name": "stdout",
     "output_type": "stream",
     "text": [
      "Early stopping, best iteration is:\n",
      "[108]\tvalid_0's mape: 0.162542\tvalid_0's l2: 1.27797\n",
      "Training until validation scores don't improve for 100 rounds\n",
      "Early stopping, best iteration is:\n",
      "[68]\tvalid_0's mape: 0.154436\tvalid_0's l2: 1.18466\n",
      "Training until validation scores don't improve for 100 rounds\n",
      "Early stopping, best iteration is:\n",
      "[88]\tvalid_0's mape: 0.152936\tvalid_0's l2: 1.18841\n",
      "Training until validation scores don't improve for 100 rounds\n",
      "Early stopping, best iteration is:\n",
      "[78]\tvalid_0's mape: 0.158432\tvalid_0's l2: 1.22697\n",
      "Training until validation scores don't improve for 100 rounds\n",
      "Early stopping, best iteration is:\n",
      "[83]\tvalid_0's mape: 0.176293\tvalid_0's l2: 1.39787\n"
     ]
    },
    {
     "name": "stderr",
     "output_type": "stream",
     "text": [
      "[I 2023-07-07 18:55:02,648] Trial 292 finished with value: 0.8367831049129231 and parameters: {'n_estimators': 10000, 'learning_rate': 0.08324778647093696, 'num_leaves': 700, 'max_depth': 4, 'max_bin': 221, 'reg_alpha': 0, 'reg_lambda': 55, 'min_split_gain': 3.019530790017493, 'subsample': 0.4, 'colsample_bytree': 0.8, 'min_child_samples': 99}. Best is trial 195 with value: 0.8345574540649607.\n"
     ]
    },
    {
     "name": "stdout",
     "output_type": "stream",
     "text": [
      "Training until validation scores don't improve for 100 rounds\n",
      "Early stopping, best iteration is:\n",
      "[81]\tvalid_0's mape: 0.154679\tvalid_0's l2: 1.21118\n",
      "Training until validation scores don't improve for 100 rounds\n",
      "Early stopping, best iteration is:\n",
      "[83]\tvalid_0's mape: 0.156151\tvalid_0's l2: 1.2259\n",
      "Training until validation scores don't improve for 100 rounds\n",
      "Early stopping, best iteration is:\n",
      "[117]\tvalid_0's mape: 0.1738\tvalid_0's l2: 1.34223\n",
      "Training until validation scores don't improve for 100 rounds\n",
      "Early stopping, best iteration is:\n",
      "[113]\tvalid_0's mape: 0.154168\tvalid_0's l2: 1.20211\n",
      "Training until validation scores don't improve for 100 rounds\n",
      "Early stopping, best iteration is:\n",
      "[75]\tvalid_0's mape: 0.158431\tvalid_0's l2: 1.24369\n",
      "Training until validation scores don't improve for 100 rounds\n"
     ]
    },
    {
     "name": "stderr",
     "output_type": "stream",
     "text": [
      "[I 2023-07-07 18:55:05,028] Trial 293 finished with value: 0.8420937689840038 and parameters: {'n_estimators': 10000, 'learning_rate': 0.054879936964036334, 'num_leaves': 960, 'max_depth': 11, 'max_bin': 223, 'reg_alpha': 5, 'reg_lambda': 50, 'min_split_gain': 1.3168899404491978, 'subsample': 0.30000000000000004, 'colsample_bytree': 0.9000000000000001, 'min_child_samples': 120}. Best is trial 195 with value: 0.8345574540649607.\n"
     ]
    },
    {
     "name": "stdout",
     "output_type": "stream",
     "text": [
      "Early stopping, best iteration is:\n",
      "[66]\tvalid_0's mape: 0.160199\tvalid_0's l2: 1.26317\n",
      "Training until validation scores don't improve for 100 rounds\n",
      "Early stopping, best iteration is:\n",
      "[619]\tvalid_0's mape: 0.155374\tvalid_0's l2: 1.19078\n",
      "Training until validation scores don't improve for 100 rounds\n",
      "Early stopping, best iteration is:\n",
      "[847]\tvalid_0's mape: 0.166395\tvalid_0's l2: 1.29485\n",
      "Training until validation scores don't improve for 100 rounds\n",
      "Early stopping, best iteration is:\n",
      "[605]\tvalid_0's mape: 0.161413\tvalid_0's l2: 1.27787\n",
      "Training until validation scores don't improve for 100 rounds\n",
      "Early stopping, best iteration is:\n",
      "[508]\tvalid_0's mape: 0.154102\tvalid_0's l2: 1.22639\n",
      "Training until validation scores don't improve for 100 rounds\n"
     ]
    },
    {
     "name": "stderr",
     "output_type": "stream",
     "text": [
      "[I 2023-07-07 18:55:08,603] Trial 294 finished with value: 0.8383470827152824 and parameters: {'n_estimators': 10000, 'learning_rate': 0.017700862564626323, 'num_leaves': 760, 'max_depth': 3, 'max_bin': 215, 'reg_alpha': 5, 'reg_lambda': 50, 'min_split_gain': 0.30979817639458024, 'subsample': 0.2, 'colsample_bytree': 1.0, 'min_child_samples': 110}. Best is trial 195 with value: 0.8345574540649607.\n"
     ]
    },
    {
     "name": "stdout",
     "output_type": "stream",
     "text": [
      "Early stopping, best iteration is:\n",
      "[465]\tvalid_0's mape: 0.16176\tvalid_0's l2: 1.26818\n",
      "Training until validation scores don't improve for 100 rounds\n",
      "Early stopping, best iteration is:\n",
      "[181]\tvalid_0's mape: 0.147575\tvalid_0's l2: 1.09864\n",
      "Training until validation scores don't improve for 100 rounds\n",
      "Early stopping, best iteration is:\n",
      "[235]\tvalid_0's mape: 0.165848\tvalid_0's l2: 1.32899\n",
      "Training until validation scores don't improve for 100 rounds\n",
      "Early stopping, best iteration is:\n",
      "[174]\tvalid_0's mape: 0.163408\tvalid_0's l2: 1.26027\n",
      "Training until validation scores don't improve for 100 rounds\n",
      "Early stopping, best iteration is:\n",
      "[153]\tvalid_0's mape: 0.16387\tvalid_0's l2: 1.30392\n",
      "Training until validation scores don't improve for 100 rounds\n"
     ]
    },
    {
     "name": "stderr",
     "output_type": "stream",
     "text": [
      "[I 2023-07-07 18:55:10,921] Trial 295 finished with value: 0.8382224379701263 and parameters: {'n_estimators': 10000, 'learning_rate': 0.033245967649712334, 'num_leaves': 880, 'max_depth': 4, 'max_bin': 228, 'reg_alpha': 0, 'reg_lambda': 25, 'min_split_gain': 0.7491684385050036, 'subsample': 0.5, 'colsample_bytree': 1.0, 'min_child_samples': 93}. Best is trial 195 with value: 0.8345574540649607.\n"
     ]
    },
    {
     "name": "stdout",
     "output_type": "stream",
     "text": [
      "Early stopping, best iteration is:\n",
      "[239]\tvalid_0's mape: 0.157502\tvalid_0's l2: 1.24439\n",
      "Training until validation scores don't improve for 100 rounds\n",
      "Early stopping, best iteration is:\n",
      "[92]\tvalid_0's mape: 0.154895\tvalid_0's l2: 1.18055\n",
      "Training until validation scores don't improve for 100 rounds\n",
      "Early stopping, best iteration is:\n",
      "[91]\tvalid_0's mape: 0.170054\tvalid_0's l2: 1.35561\n",
      "Training until validation scores don't improve for 100 rounds\n",
      "Early stopping, best iteration is:\n",
      "[88]\tvalid_0's mape: 0.155745\tvalid_0's l2: 1.23502\n",
      "Training until validation scores don't improve for 100 rounds\n",
      "Early stopping, best iteration is:\n",
      "[94]\tvalid_0's mape: 0.165278\tvalid_0's l2: 1.31263\n",
      "Training until validation scores don't improve for 100 rounds\n"
     ]
    },
    {
     "name": "stderr",
     "output_type": "stream",
     "text": [
      "[I 2023-07-07 18:55:12,219] Trial 296 finished with value: 0.8416085361352478 and parameters: {'n_estimators': 10000, 'learning_rate': 0.047020060754732466, 'num_leaves': 1040, 'max_depth': 4, 'max_bin': 218, 'reg_alpha': 10, 'reg_lambda': 40, 'min_split_gain': 6.107725104642521, 'subsample': 0.4, 'colsample_bytree': 1.0, 'min_child_samples': 149}. Best is trial 195 with value: 0.8345574540649607.\n"
     ]
    },
    {
     "name": "stdout",
     "output_type": "stream",
     "text": [
      "Early stopping, best iteration is:\n",
      "[90]\tvalid_0's mape: 0.158042\tvalid_0's l2: 1.18474\n",
      "Training until validation scores don't improve for 100 rounds\n",
      "Early stopping, best iteration is:\n",
      "[292]\tvalid_0's mape: 0.162537\tvalid_0's l2: 1.28129\n",
      "Training until validation scores don't improve for 100 rounds\n",
      "Early stopping, best iteration is:\n",
      "[245]\tvalid_0's mape: 0.16226\tvalid_0's l2: 1.25596\n",
      "Training until validation scores don't improve for 100 rounds\n",
      "Early stopping, best iteration is:\n",
      "[263]\tvalid_0's mape: 0.159682\tvalid_0's l2: 1.25619\n",
      "Training until validation scores don't improve for 100 rounds\n",
      "Early stopping, best iteration is:\n",
      "[305]\tvalid_0's mape: 0.159222\tvalid_0's l2: 1.2569\n",
      "Training until validation scores don't improve for 100 rounds\n"
     ]
    },
    {
     "name": "stderr",
     "output_type": "stream",
     "text": [
      "[I 2023-07-07 18:55:14,852] Trial 297 finished with value: 0.8371049930849594 and parameters: {'n_estimators': 10000, 'learning_rate': 0.026625045733357063, 'num_leaves': 980, 'max_depth': 4, 'max_bin': 224, 'reg_alpha': 0, 'reg_lambda': 45, 'min_split_gain': 1.0930751464868191, 'subsample': 0.5, 'colsample_bytree': 0.9000000000000001, 'min_child_samples': 138}. Best is trial 195 with value: 0.8345574540649607.\n"
     ]
    },
    {
     "name": "stdout",
     "output_type": "stream",
     "text": [
      "Early stopping, best iteration is:\n",
      "[210]\tvalid_0's mape: 0.153554\tvalid_0's l2: 1.19235\n",
      "Training until validation scores don't improve for 100 rounds\n",
      "Early stopping, best iteration is:\n",
      "[39]\tvalid_0's mape: 0.164378\tvalid_0's l2: 1.32299\n",
      "Training until validation scores don't improve for 100 rounds\n",
      "Early stopping, best iteration is:\n",
      "[59]\tvalid_0's mape: 0.171056\tvalid_0's l2: 1.35511\n",
      "Training until validation scores don't improve for 100 rounds\n",
      "Early stopping, best iteration is:\n",
      "[73]\tvalid_0's mape: 0.149296\tvalid_0's l2: 1.11023\n",
      "Training until validation scores don't improve for 100 rounds\n",
      "Early stopping, best iteration is:\n",
      "[85]\tvalid_0's mape: 0.153392\tvalid_0's l2: 1.21301\n",
      "Training until validation scores don't improve for 100 rounds\n"
     ]
    },
    {
     "name": "stderr",
     "output_type": "stream",
     "text": [
      "[I 2023-07-07 18:55:16,560] Trial 298 finished with value: 0.8385269288393017 and parameters: {'n_estimators': 10000, 'learning_rate': 0.10067355849418896, 'num_leaves': 900, 'max_depth': 5, 'max_bin': 221, 'reg_alpha': 5, 'reg_lambda': 60, 'min_split_gain': 0.5543290763189823, 'subsample': 0.30000000000000004, 'colsample_bytree': 1.0, 'min_child_samples': 127}. Best is trial 195 with value: 0.8345574540649607.\n"
     ]
    },
    {
     "name": "stdout",
     "output_type": "stream",
     "text": [
      "Early stopping, best iteration is:\n",
      "[87]\tvalid_0's mape: 0.160759\tvalid_0's l2: 1.24805\n",
      "Training until validation scores don't improve for 100 rounds\n",
      "Early stopping, best iteration is:\n",
      "[50]\tvalid_0's mape: 0.163293\tvalid_0's l2: 1.28535\n",
      "Training until validation scores don't improve for 100 rounds\n",
      "Early stopping, best iteration is:\n",
      "[97]\tvalid_0's mape: 0.156803\tvalid_0's l2: 1.19033\n",
      "Training until validation scores don't improve for 100 rounds\n",
      "Early stopping, best iteration is:\n",
      "[78]\tvalid_0's mape: 0.168776\tvalid_0's l2: 1.34677\n",
      "Training until validation scores don't improve for 100 rounds\n",
      "Early stopping, best iteration is:\n",
      "[78]\tvalid_0's mape: 0.153922\tvalid_0's l2: 1.22317\n",
      "Training until validation scores don't improve for 100 rounds\n"
     ]
    },
    {
     "name": "stderr",
     "output_type": "stream",
     "text": [
      "[I 2023-07-07 18:55:18,959] Trial 299 finished with value: 0.8412563417145776 and parameters: {'n_estimators': 10000, 'learning_rate': 0.06212376565660717, 'num_leaves': 820, 'max_depth': 10, 'max_bin': 219, 'reg_alpha': 0, 'reg_lambda': 20, 'min_split_gain': 1.5107004943755804, 'subsample': 0.4, 'colsample_bytree': 0.9000000000000001, 'min_child_samples': 102}. Best is trial 195 with value: 0.8345574540649607.\n"
     ]
    },
    {
     "name": "stdout",
     "output_type": "stream",
     "text": [
      "Early stopping, best iteration is:\n",
      "[64]\tvalid_0's mape: 0.157785\tvalid_0's l2: 1.21871\n"
     ]
    }
   ],
   "source": [
    "study = optuna.create_study(direction='minimize')\n",
    "study.optimize(objective, n_trials=300)"
   ]
  },
  {
   "cell_type": "code",
   "execution_count": 16,
   "metadata": {},
   "outputs": [
    {
     "data": {
      "application/vnd.plotly.v1+json": {
       "config": {
        "plotlyServerURL": "https://plot.ly"
       },
       "data": [
        {
         "mode": "markers",
         "name": "Objective Value",
         "type": "scatter",
         "x": [
          0,
          1,
          2,
          3,
          4,
          5,
          6,
          7,
          8,
          9,
          10,
          11,
          12,
          13,
          14,
          15,
          16,
          17,
          18,
          19,
          20,
          21,
          22,
          23,
          24,
          25,
          26,
          27,
          28,
          29,
          30,
          31,
          32,
          33,
          34,
          35,
          36,
          37,
          38,
          39,
          40,
          41,
          42,
          43,
          44,
          45,
          46,
          47,
          48,
          49,
          50,
          51,
          52,
          53,
          54,
          55,
          56,
          57,
          58,
          59,
          60,
          61,
          62,
          63,
          64,
          65,
          66,
          67,
          68,
          69,
          70,
          71,
          72,
          73,
          74,
          75,
          76,
          77,
          78,
          79,
          80,
          81,
          82,
          83,
          84,
          85,
          86,
          87,
          88,
          89,
          90,
          91,
          92,
          93,
          94,
          95,
          96,
          97,
          98,
          99,
          100,
          101,
          102,
          103,
          104,
          105,
          106,
          107,
          108,
          109,
          110,
          111,
          112,
          113,
          114,
          115,
          116,
          117,
          118,
          119,
          120,
          121,
          122,
          123,
          124,
          125,
          126,
          127,
          128,
          129,
          130,
          131,
          132,
          133,
          134,
          135,
          136,
          137,
          138,
          139,
          140,
          141,
          142,
          143,
          144,
          145,
          146,
          147,
          148,
          149,
          150,
          151,
          152,
          153,
          154,
          155,
          156,
          157,
          158,
          159,
          160,
          161,
          162,
          163,
          164,
          165,
          166,
          167,
          168,
          169,
          170,
          171,
          172,
          173,
          174,
          175,
          176,
          177,
          178,
          179,
          180,
          181,
          182,
          183,
          184,
          185,
          186,
          187,
          188,
          189,
          190,
          191,
          192,
          193,
          194,
          195,
          196,
          197,
          198,
          199,
          200,
          201,
          202,
          203,
          204,
          205,
          206,
          207,
          208,
          209,
          210,
          211,
          212,
          213,
          214,
          215,
          216,
          217,
          218,
          219,
          220,
          221,
          222,
          223,
          224,
          225,
          226,
          227,
          228,
          229,
          230,
          231,
          232,
          233,
          234,
          235,
          236,
          237,
          238,
          239,
          240,
          241,
          242,
          243,
          244,
          245,
          246,
          247,
          248,
          249,
          250,
          251,
          252,
          253,
          254,
          255,
          256,
          257,
          258,
          259,
          260,
          261,
          262,
          263,
          264,
          265,
          266,
          267,
          268,
          269,
          270,
          271,
          272,
          273,
          274,
          275,
          276,
          277,
          278,
          279,
          280,
          281,
          282,
          283,
          284,
          285,
          286,
          287,
          288,
          289,
          290,
          291,
          292,
          293,
          294,
          295,
          296,
          297,
          298,
          299
         ],
         "y": [
          0.849792726034664,
          0.8444984112284706,
          0.8628256196812318,
          0.8493026997346096,
          0.8545672487930723,
          0.8492670222389996,
          0.8545172104401735,
          0.847671276825556,
          0.8504952517654567,
          0.8550970868666724,
          0.8477083408204672,
          0.8444188436082918,
          0.8448679299714815,
          0.8491235042893794,
          0.8488885623282943,
          0.8491329340019969,
          0.8462171293768759,
          0.8499659424507879,
          0.8511233505790304,
          0.8448140786221142,
          0.8506382559088967,
          0.8455684136769934,
          0.8433331839066994,
          0.8455653314201473,
          0.8408702949500177,
          0.8428858821896977,
          0.8505688495597952,
          0.8420618509387596,
          0.8450947013356032,
          0.8501069639933148,
          0.8426501543116999,
          0.8454538236674812,
          0.8442915955171418,
          0.8456427328981311,
          0.8408472311215176,
          0.8431571975875972,
          0.8432026030738742,
          0.8392297447185904,
          0.8360347926117757,
          0.8479630584380858,
          0.83999833543156,
          0.8401204109392012,
          0.8409104986475231,
          0.8406331297776374,
          0.8404868148732085,
          0.84268025775735,
          0.840407248390458,
          0.8409606025066759,
          0.8462765508782578,
          0.8443028953629195,
          0.8398381326665957,
          0.8412730064531033,
          0.838824048975936,
          0.8400450114199692,
          0.8383261448085573,
          0.8407617460032129,
          0.8386149660671016,
          0.8393941280769797,
          0.8380461287477026,
          0.8397410059080691,
          0.8401993634994114,
          0.8395835139731114,
          0.8417447962949505,
          0.8394255376223473,
          0.8397241558314873,
          0.8372504534726242,
          0.8384883444914113,
          0.8383802442613124,
          0.8397808953161613,
          0.8473508708553066,
          0.8390997878878034,
          0.8385839745370987,
          0.8401709426167084,
          0.8395578990547611,
          0.8400057148965046,
          0.8461653279470713,
          0.8416211806486208,
          0.8389334327991692,
          0.8391131999854,
          0.8394440119690364,
          0.8448468764924449,
          0.8371474628466358,
          0.8409089178599899,
          0.8403295361788439,
          0.8408732886890217,
          0.8384591526042475,
          0.836602683206096,
          0.8374830186977851,
          0.8450230679256989,
          0.837435513419781,
          0.8365699183031892,
          0.8378279396266267,
          0.8377468993123228,
          0.8389942430247472,
          0.8402439279160442,
          0.8389069218717727,
          0.8401459023238456,
          0.8406910005749463,
          0.8389929514774398,
          0.8394766643791473,
          0.8396439555781928,
          0.8388185215335685,
          0.8360405608765922,
          0.8372679695434755,
          0.8382041491552041,
          0.8378910929718189,
          0.8376716308131934,
          0.8359311713500658,
          0.83737413947406,
          0.8373592829515969,
          0.8376264620538094,
          0.8374826199298043,
          0.838178116158985,
          0.8382654644791255,
          0.8429405238784892,
          0.8498985087199152,
          0.8395020423277033,
          0.8394153447872496,
          0.8396066484360929,
          0.8379966023335171,
          0.843143277092606,
          0.8383908223531366,
          0.8368682048888351,
          0.8346402574346241,
          0.8363277199389205,
          0.8364107746404805,
          0.8371962041055584,
          0.8361606515503291,
          0.8368633603734079,
          0.8405923817972341,
          0.8345756025648694,
          0.8365441418256273,
          0.8390713519778705,
          0.8374376350911901,
          0.8383625347381903,
          0.8374105531088706,
          0.8359942575988111,
          0.8348846789969663,
          0.8386663520844839,
          0.8380004572133132,
          0.8395627198557684,
          0.8376200355888086,
          0.8362476707877967,
          0.8382734076842745,
          0.8387059197618664,
          0.8397184899297485,
          0.8375933304659668,
          0.8383686012026444,
          0.8363046498542828,
          0.8396581148447574,
          0.8402422874598429,
          0.8379262220700461,
          0.8387338094026953,
          0.8385539046986527,
          0.8373666364686765,
          0.8377206388568508,
          0.8384907965229192,
          0.8376165036247867,
          0.8364717274959018,
          0.8393083285943923,
          0.8376911172476642,
          0.8367690931182963,
          0.8353866835845991,
          0.8380250614216891,
          0.8385858111674789,
          0.8362987576988381,
          0.8397160150910417,
          0.8382529792108004,
          0.8374076874032852,
          0.8361378021653835,
          0.8390362307380828,
          0.8372462794327122,
          0.8426445150704337,
          0.8352796278682874,
          0.8382837340440255,
          0.841457345817884,
          0.8371726221377923,
          0.8362736287195995,
          0.8419441306574648,
          0.8432842393449885,
          0.8362451965429548,
          0.8367292755530483,
          0.8405009906400386,
          0.8386361714666377,
          0.8385971989140373,
          0.8370578085868416,
          0.8382660019024014,
          0.8375035710423667,
          0.8375677331480409,
          0.8460980328430072,
          0.8398594174671311,
          0.8365425982727303,
          0.8377327495467407,
          0.8390773205710165,
          0.8374917114849681,
          0.8345574540649607,
          0.8360293068809028,
          0.8371798246450973,
          0.8371481116135234,
          0.8365841226830291,
          0.8370920644166965,
          0.839056992654791,
          0.8369770736716082,
          0.8362995582166828,
          0.8423871969301011,
          0.841639687682826,
          0.8395350207940904,
          0.835523733909773,
          0.8369020614321002,
          0.8394928575361004,
          0.837402762062276,
          0.8372285435510067,
          0.8380328779125403,
          0.8358945011994028,
          0.8358527733798434,
          0.8360773780789185,
          0.8382674458823643,
          0.8408821614684184,
          0.8370168856486467,
          0.8389732976953873,
          0.8396844194566636,
          0.8368722714816658,
          0.8428879917356744,
          0.8366738996276826,
          0.8436903939346149,
          0.8379658742320206,
          0.8381421785481713,
          0.8363271040213821,
          0.8389461429793391,
          0.8382186156848791,
          0.8388221549486798,
          0.8364040668150258,
          0.8395967097054085,
          0.837304208484805,
          0.8369568209194677,
          0.8366022304727909,
          0.844906764209929,
          0.8486907739837604,
          0.8357301648242743,
          0.8408544858150918,
          0.8372547778550861,
          0.8370096450679462,
          0.8400997948449381,
          0.8373523560560191,
          0.8362772595192963,
          0.8389081784098341,
          0.8380979503216084,
          0.8366328896052803,
          0.8394496199773238,
          0.8352428041055401,
          0.8364217107048276,
          0.8464780529306415,
          0.8379768121610635,
          0.8368161271148123,
          0.8436805411965553,
          0.8385982679558088,
          0.8386950344899826,
          0.8382826290150092,
          0.8458361275566524,
          0.837470364657712,
          0.8382482782062652,
          0.8388269606550324,
          0.8377203610707946,
          0.8452690962925068,
          0.8399182293566898,
          0.8406840370902181,
          0.8399459054465686,
          0.8395924225817317,
          0.839685001803384,
          0.8388310134792608,
          0.8465908217092641,
          0.8386299255556862,
          0.8382316749919794,
          0.8392626012236383,
          0.8416942377336621,
          0.8383352463484866,
          0.8421889163829018,
          0.8412425037310352,
          0.8393957491555992,
          0.8385180179270112,
          0.8463163028344441,
          0.8388616916519961,
          0.8381425083846065,
          0.8381222065211322,
          0.8372907129073954,
          0.8376416599605271,
          0.8382294175782447,
          0.8385392206834688,
          0.8437361897482043,
          0.8363176823482037,
          0.8377761373336436,
          0.8382836264424711,
          0.8367831049129231,
          0.8420937689840038,
          0.8383470827152824,
          0.8382224379701263,
          0.8416085361352478,
          0.8371049930849594,
          0.8385269288393017,
          0.8412563417145776
         ]
        },
        {
         "name": "Best Value",
         "type": "scatter",
         "x": [
          0,
          1,
          2,
          3,
          4,
          5,
          6,
          7,
          8,
          9,
          10,
          11,
          12,
          13,
          14,
          15,
          16,
          17,
          18,
          19,
          20,
          21,
          22,
          23,
          24,
          25,
          26,
          27,
          28,
          29,
          30,
          31,
          32,
          33,
          34,
          35,
          36,
          37,
          38,
          39,
          40,
          41,
          42,
          43,
          44,
          45,
          46,
          47,
          48,
          49,
          50,
          51,
          52,
          53,
          54,
          55,
          56,
          57,
          58,
          59,
          60,
          61,
          62,
          63,
          64,
          65,
          66,
          67,
          68,
          69,
          70,
          71,
          72,
          73,
          74,
          75,
          76,
          77,
          78,
          79,
          80,
          81,
          82,
          83,
          84,
          85,
          86,
          87,
          88,
          89,
          90,
          91,
          92,
          93,
          94,
          95,
          96,
          97,
          98,
          99,
          100,
          101,
          102,
          103,
          104,
          105,
          106,
          107,
          108,
          109,
          110,
          111,
          112,
          113,
          114,
          115,
          116,
          117,
          118,
          119,
          120,
          121,
          122,
          123,
          124,
          125,
          126,
          127,
          128,
          129,
          130,
          131,
          132,
          133,
          134,
          135,
          136,
          137,
          138,
          139,
          140,
          141,
          142,
          143,
          144,
          145,
          146,
          147,
          148,
          149,
          150,
          151,
          152,
          153,
          154,
          155,
          156,
          157,
          158,
          159,
          160,
          161,
          162,
          163,
          164,
          165,
          166,
          167,
          168,
          169,
          170,
          171,
          172,
          173,
          174,
          175,
          176,
          177,
          178,
          179,
          180,
          181,
          182,
          183,
          184,
          185,
          186,
          187,
          188,
          189,
          190,
          191,
          192,
          193,
          194,
          195,
          196,
          197,
          198,
          199,
          200,
          201,
          202,
          203,
          204,
          205,
          206,
          207,
          208,
          209,
          210,
          211,
          212,
          213,
          214,
          215,
          216,
          217,
          218,
          219,
          220,
          221,
          222,
          223,
          224,
          225,
          226,
          227,
          228,
          229,
          230,
          231,
          232,
          233,
          234,
          235,
          236,
          237,
          238,
          239,
          240,
          241,
          242,
          243,
          244,
          245,
          246,
          247,
          248,
          249,
          250,
          251,
          252,
          253,
          254,
          255,
          256,
          257,
          258,
          259,
          260,
          261,
          262,
          263,
          264,
          265,
          266,
          267,
          268,
          269,
          270,
          271,
          272,
          273,
          274,
          275,
          276,
          277,
          278,
          279,
          280,
          281,
          282,
          283,
          284,
          285,
          286,
          287,
          288,
          289,
          290,
          291,
          292,
          293,
          294,
          295,
          296,
          297,
          298,
          299
         ],
         "y": [
          0.849792726034664,
          0.8444984112284706,
          0.8444984112284706,
          0.8444984112284706,
          0.8444984112284706,
          0.8444984112284706,
          0.8444984112284706,
          0.8444984112284706,
          0.8444984112284706,
          0.8444984112284706,
          0.8444984112284706,
          0.8444188436082918,
          0.8444188436082918,
          0.8444188436082918,
          0.8444188436082918,
          0.8444188436082918,
          0.8444188436082918,
          0.8444188436082918,
          0.8444188436082918,
          0.8444188436082918,
          0.8444188436082918,
          0.8444188436082918,
          0.8433331839066994,
          0.8433331839066994,
          0.8408702949500177,
          0.8408702949500177,
          0.8408702949500177,
          0.8408702949500177,
          0.8408702949500177,
          0.8408702949500177,
          0.8408702949500177,
          0.8408702949500177,
          0.8408702949500177,
          0.8408702949500177,
          0.8408472311215176,
          0.8408472311215176,
          0.8408472311215176,
          0.8392297447185904,
          0.8360347926117757,
          0.8360347926117757,
          0.8360347926117757,
          0.8360347926117757,
          0.8360347926117757,
          0.8360347926117757,
          0.8360347926117757,
          0.8360347926117757,
          0.8360347926117757,
          0.8360347926117757,
          0.8360347926117757,
          0.8360347926117757,
          0.8360347926117757,
          0.8360347926117757,
          0.8360347926117757,
          0.8360347926117757,
          0.8360347926117757,
          0.8360347926117757,
          0.8360347926117757,
          0.8360347926117757,
          0.8360347926117757,
          0.8360347926117757,
          0.8360347926117757,
          0.8360347926117757,
          0.8360347926117757,
          0.8360347926117757,
          0.8360347926117757,
          0.8360347926117757,
          0.8360347926117757,
          0.8360347926117757,
          0.8360347926117757,
          0.8360347926117757,
          0.8360347926117757,
          0.8360347926117757,
          0.8360347926117757,
          0.8360347926117757,
          0.8360347926117757,
          0.8360347926117757,
          0.8360347926117757,
          0.8360347926117757,
          0.8360347926117757,
          0.8360347926117757,
          0.8360347926117757,
          0.8360347926117757,
          0.8360347926117757,
          0.8360347926117757,
          0.8360347926117757,
          0.8360347926117757,
          0.8360347926117757,
          0.8360347926117757,
          0.8360347926117757,
          0.8360347926117757,
          0.8360347926117757,
          0.8360347926117757,
          0.8360347926117757,
          0.8360347926117757,
          0.8360347926117757,
          0.8360347926117757,
          0.8360347926117757,
          0.8360347926117757,
          0.8360347926117757,
          0.8360347926117757,
          0.8360347926117757,
          0.8360347926117757,
          0.8360347926117757,
          0.8360347926117757,
          0.8360347926117757,
          0.8360347926117757,
          0.8360347926117757,
          0.8359311713500658,
          0.8359311713500658,
          0.8359311713500658,
          0.8359311713500658,
          0.8359311713500658,
          0.8359311713500658,
          0.8359311713500658,
          0.8359311713500658,
          0.8359311713500658,
          0.8359311713500658,
          0.8359311713500658,
          0.8359311713500658,
          0.8359311713500658,
          0.8359311713500658,
          0.8359311713500658,
          0.8359311713500658,
          0.8346402574346241,
          0.8346402574346241,
          0.8346402574346241,
          0.8346402574346241,
          0.8346402574346241,
          0.8346402574346241,
          0.8346402574346241,
          0.8345756025648694,
          0.8345756025648694,
          0.8345756025648694,
          0.8345756025648694,
          0.8345756025648694,
          0.8345756025648694,
          0.8345756025648694,
          0.8345756025648694,
          0.8345756025648694,
          0.8345756025648694,
          0.8345756025648694,
          0.8345756025648694,
          0.8345756025648694,
          0.8345756025648694,
          0.8345756025648694,
          0.8345756025648694,
          0.8345756025648694,
          0.8345756025648694,
          0.8345756025648694,
          0.8345756025648694,
          0.8345756025648694,
          0.8345756025648694,
          0.8345756025648694,
          0.8345756025648694,
          0.8345756025648694,
          0.8345756025648694,
          0.8345756025648694,
          0.8345756025648694,
          0.8345756025648694,
          0.8345756025648694,
          0.8345756025648694,
          0.8345756025648694,
          0.8345756025648694,
          0.8345756025648694,
          0.8345756025648694,
          0.8345756025648694,
          0.8345756025648694,
          0.8345756025648694,
          0.8345756025648694,
          0.8345756025648694,
          0.8345756025648694,
          0.8345756025648694,
          0.8345756025648694,
          0.8345756025648694,
          0.8345756025648694,
          0.8345756025648694,
          0.8345756025648694,
          0.8345756025648694,
          0.8345756025648694,
          0.8345756025648694,
          0.8345756025648694,
          0.8345756025648694,
          0.8345756025648694,
          0.8345756025648694,
          0.8345756025648694,
          0.8345756025648694,
          0.8345756025648694,
          0.8345756025648694,
          0.8345756025648694,
          0.8345756025648694,
          0.8345756025648694,
          0.8345756025648694,
          0.8345756025648694,
          0.8345756025648694,
          0.8345756025648694,
          0.8345574540649607,
          0.8345574540649607,
          0.8345574540649607,
          0.8345574540649607,
          0.8345574540649607,
          0.8345574540649607,
          0.8345574540649607,
          0.8345574540649607,
          0.8345574540649607,
          0.8345574540649607,
          0.8345574540649607,
          0.8345574540649607,
          0.8345574540649607,
          0.8345574540649607,
          0.8345574540649607,
          0.8345574540649607,
          0.8345574540649607,
          0.8345574540649607,
          0.8345574540649607,
          0.8345574540649607,
          0.8345574540649607,
          0.8345574540649607,
          0.8345574540649607,
          0.8345574540649607,
          0.8345574540649607,
          0.8345574540649607,
          0.8345574540649607,
          0.8345574540649607,
          0.8345574540649607,
          0.8345574540649607,
          0.8345574540649607,
          0.8345574540649607,
          0.8345574540649607,
          0.8345574540649607,
          0.8345574540649607,
          0.8345574540649607,
          0.8345574540649607,
          0.8345574540649607,
          0.8345574540649607,
          0.8345574540649607,
          0.8345574540649607,
          0.8345574540649607,
          0.8345574540649607,
          0.8345574540649607,
          0.8345574540649607,
          0.8345574540649607,
          0.8345574540649607,
          0.8345574540649607,
          0.8345574540649607,
          0.8345574540649607,
          0.8345574540649607,
          0.8345574540649607,
          0.8345574540649607,
          0.8345574540649607,
          0.8345574540649607,
          0.8345574540649607,
          0.8345574540649607,
          0.8345574540649607,
          0.8345574540649607,
          0.8345574540649607,
          0.8345574540649607,
          0.8345574540649607,
          0.8345574540649607,
          0.8345574540649607,
          0.8345574540649607,
          0.8345574540649607,
          0.8345574540649607,
          0.8345574540649607,
          0.8345574540649607,
          0.8345574540649607,
          0.8345574540649607,
          0.8345574540649607,
          0.8345574540649607,
          0.8345574540649607,
          0.8345574540649607,
          0.8345574540649607,
          0.8345574540649607,
          0.8345574540649607,
          0.8345574540649607,
          0.8345574540649607,
          0.8345574540649607,
          0.8345574540649607,
          0.8345574540649607,
          0.8345574540649607,
          0.8345574540649607,
          0.8345574540649607,
          0.8345574540649607,
          0.8345574540649607,
          0.8345574540649607,
          0.8345574540649607,
          0.8345574540649607,
          0.8345574540649607,
          0.8345574540649607,
          0.8345574540649607,
          0.8345574540649607,
          0.8345574540649607,
          0.8345574540649607,
          0.8345574540649607,
          0.8345574540649607,
          0.8345574540649607,
          0.8345574540649607,
          0.8345574540649607,
          0.8345574540649607,
          0.8345574540649607,
          0.8345574540649607
         ]
        }
       ],
       "layout": {
        "template": {
         "data": {
          "bar": [
           {
            "error_x": {
             "color": "#2a3f5f"
            },
            "error_y": {
             "color": "#2a3f5f"
            },
            "marker": {
             "line": {
              "color": "#E5ECF6",
              "width": 0.5
             },
             "pattern": {
              "fillmode": "overlay",
              "size": 10,
              "solidity": 0.2
             }
            },
            "type": "bar"
           }
          ],
          "barpolar": [
           {
            "marker": {
             "line": {
              "color": "#E5ECF6",
              "width": 0.5
             },
             "pattern": {
              "fillmode": "overlay",
              "size": 10,
              "solidity": 0.2
             }
            },
            "type": "barpolar"
           }
          ],
          "carpet": [
           {
            "aaxis": {
             "endlinecolor": "#2a3f5f",
             "gridcolor": "white",
             "linecolor": "white",
             "minorgridcolor": "white",
             "startlinecolor": "#2a3f5f"
            },
            "baxis": {
             "endlinecolor": "#2a3f5f",
             "gridcolor": "white",
             "linecolor": "white",
             "minorgridcolor": "white",
             "startlinecolor": "#2a3f5f"
            },
            "type": "carpet"
           }
          ],
          "choropleth": [
           {
            "colorbar": {
             "outlinewidth": 0,
             "ticks": ""
            },
            "type": "choropleth"
           }
          ],
          "contour": [
           {
            "colorbar": {
             "outlinewidth": 0,
             "ticks": ""
            },
            "colorscale": [
             [
              0,
              "#0d0887"
             ],
             [
              0.1111111111111111,
              "#46039f"
             ],
             [
              0.2222222222222222,
              "#7201a8"
             ],
             [
              0.3333333333333333,
              "#9c179e"
             ],
             [
              0.4444444444444444,
              "#bd3786"
             ],
             [
              0.5555555555555556,
              "#d8576b"
             ],
             [
              0.6666666666666666,
              "#ed7953"
             ],
             [
              0.7777777777777778,
              "#fb9f3a"
             ],
             [
              0.8888888888888888,
              "#fdca26"
             ],
             [
              1,
              "#f0f921"
             ]
            ],
            "type": "contour"
           }
          ],
          "contourcarpet": [
           {
            "colorbar": {
             "outlinewidth": 0,
             "ticks": ""
            },
            "type": "contourcarpet"
           }
          ],
          "heatmap": [
           {
            "colorbar": {
             "outlinewidth": 0,
             "ticks": ""
            },
            "colorscale": [
             [
              0,
              "#0d0887"
             ],
             [
              0.1111111111111111,
              "#46039f"
             ],
             [
              0.2222222222222222,
              "#7201a8"
             ],
             [
              0.3333333333333333,
              "#9c179e"
             ],
             [
              0.4444444444444444,
              "#bd3786"
             ],
             [
              0.5555555555555556,
              "#d8576b"
             ],
             [
              0.6666666666666666,
              "#ed7953"
             ],
             [
              0.7777777777777778,
              "#fb9f3a"
             ],
             [
              0.8888888888888888,
              "#fdca26"
             ],
             [
              1,
              "#f0f921"
             ]
            ],
            "type": "heatmap"
           }
          ],
          "heatmapgl": [
           {
            "colorbar": {
             "outlinewidth": 0,
             "ticks": ""
            },
            "colorscale": [
             [
              0,
              "#0d0887"
             ],
             [
              0.1111111111111111,
              "#46039f"
             ],
             [
              0.2222222222222222,
              "#7201a8"
             ],
             [
              0.3333333333333333,
              "#9c179e"
             ],
             [
              0.4444444444444444,
              "#bd3786"
             ],
             [
              0.5555555555555556,
              "#d8576b"
             ],
             [
              0.6666666666666666,
              "#ed7953"
             ],
             [
              0.7777777777777778,
              "#fb9f3a"
             ],
             [
              0.8888888888888888,
              "#fdca26"
             ],
             [
              1,
              "#f0f921"
             ]
            ],
            "type": "heatmapgl"
           }
          ],
          "histogram": [
           {
            "marker": {
             "pattern": {
              "fillmode": "overlay",
              "size": 10,
              "solidity": 0.2
             }
            },
            "type": "histogram"
           }
          ],
          "histogram2d": [
           {
            "colorbar": {
             "outlinewidth": 0,
             "ticks": ""
            },
            "colorscale": [
             [
              0,
              "#0d0887"
             ],
             [
              0.1111111111111111,
              "#46039f"
             ],
             [
              0.2222222222222222,
              "#7201a8"
             ],
             [
              0.3333333333333333,
              "#9c179e"
             ],
             [
              0.4444444444444444,
              "#bd3786"
             ],
             [
              0.5555555555555556,
              "#d8576b"
             ],
             [
              0.6666666666666666,
              "#ed7953"
             ],
             [
              0.7777777777777778,
              "#fb9f3a"
             ],
             [
              0.8888888888888888,
              "#fdca26"
             ],
             [
              1,
              "#f0f921"
             ]
            ],
            "type": "histogram2d"
           }
          ],
          "histogram2dcontour": [
           {
            "colorbar": {
             "outlinewidth": 0,
             "ticks": ""
            },
            "colorscale": [
             [
              0,
              "#0d0887"
             ],
             [
              0.1111111111111111,
              "#46039f"
             ],
             [
              0.2222222222222222,
              "#7201a8"
             ],
             [
              0.3333333333333333,
              "#9c179e"
             ],
             [
              0.4444444444444444,
              "#bd3786"
             ],
             [
              0.5555555555555556,
              "#d8576b"
             ],
             [
              0.6666666666666666,
              "#ed7953"
             ],
             [
              0.7777777777777778,
              "#fb9f3a"
             ],
             [
              0.8888888888888888,
              "#fdca26"
             ],
             [
              1,
              "#f0f921"
             ]
            ],
            "type": "histogram2dcontour"
           }
          ],
          "mesh3d": [
           {
            "colorbar": {
             "outlinewidth": 0,
             "ticks": ""
            },
            "type": "mesh3d"
           }
          ],
          "parcoords": [
           {
            "line": {
             "colorbar": {
              "outlinewidth": 0,
              "ticks": ""
             }
            },
            "type": "parcoords"
           }
          ],
          "pie": [
           {
            "automargin": true,
            "type": "pie"
           }
          ],
          "scatter": [
           {
            "fillpattern": {
             "fillmode": "overlay",
             "size": 10,
             "solidity": 0.2
            },
            "type": "scatter"
           }
          ],
          "scatter3d": [
           {
            "line": {
             "colorbar": {
              "outlinewidth": 0,
              "ticks": ""
             }
            },
            "marker": {
             "colorbar": {
              "outlinewidth": 0,
              "ticks": ""
             }
            },
            "type": "scatter3d"
           }
          ],
          "scattercarpet": [
           {
            "marker": {
             "colorbar": {
              "outlinewidth": 0,
              "ticks": ""
             }
            },
            "type": "scattercarpet"
           }
          ],
          "scattergeo": [
           {
            "marker": {
             "colorbar": {
              "outlinewidth": 0,
              "ticks": ""
             }
            },
            "type": "scattergeo"
           }
          ],
          "scattergl": [
           {
            "marker": {
             "colorbar": {
              "outlinewidth": 0,
              "ticks": ""
             }
            },
            "type": "scattergl"
           }
          ],
          "scattermapbox": [
           {
            "marker": {
             "colorbar": {
              "outlinewidth": 0,
              "ticks": ""
             }
            },
            "type": "scattermapbox"
           }
          ],
          "scatterpolar": [
           {
            "marker": {
             "colorbar": {
              "outlinewidth": 0,
              "ticks": ""
             }
            },
            "type": "scatterpolar"
           }
          ],
          "scatterpolargl": [
           {
            "marker": {
             "colorbar": {
              "outlinewidth": 0,
              "ticks": ""
             }
            },
            "type": "scatterpolargl"
           }
          ],
          "scatterternary": [
           {
            "marker": {
             "colorbar": {
              "outlinewidth": 0,
              "ticks": ""
             }
            },
            "type": "scatterternary"
           }
          ],
          "surface": [
           {
            "colorbar": {
             "outlinewidth": 0,
             "ticks": ""
            },
            "colorscale": [
             [
              0,
              "#0d0887"
             ],
             [
              0.1111111111111111,
              "#46039f"
             ],
             [
              0.2222222222222222,
              "#7201a8"
             ],
             [
              0.3333333333333333,
              "#9c179e"
             ],
             [
              0.4444444444444444,
              "#bd3786"
             ],
             [
              0.5555555555555556,
              "#d8576b"
             ],
             [
              0.6666666666666666,
              "#ed7953"
             ],
             [
              0.7777777777777778,
              "#fb9f3a"
             ],
             [
              0.8888888888888888,
              "#fdca26"
             ],
             [
              1,
              "#f0f921"
             ]
            ],
            "type": "surface"
           }
          ],
          "table": [
           {
            "cells": {
             "fill": {
              "color": "#EBF0F8"
             },
             "line": {
              "color": "white"
             }
            },
            "header": {
             "fill": {
              "color": "#C8D4E3"
             },
             "line": {
              "color": "white"
             }
            },
            "type": "table"
           }
          ]
         },
         "layout": {
          "annotationdefaults": {
           "arrowcolor": "#2a3f5f",
           "arrowhead": 0,
           "arrowwidth": 1
          },
          "autotypenumbers": "strict",
          "coloraxis": {
           "colorbar": {
            "outlinewidth": 0,
            "ticks": ""
           }
          },
          "colorscale": {
           "diverging": [
            [
             0,
             "#8e0152"
            ],
            [
             0.1,
             "#c51b7d"
            ],
            [
             0.2,
             "#de77ae"
            ],
            [
             0.3,
             "#f1b6da"
            ],
            [
             0.4,
             "#fde0ef"
            ],
            [
             0.5,
             "#f7f7f7"
            ],
            [
             0.6,
             "#e6f5d0"
            ],
            [
             0.7,
             "#b8e186"
            ],
            [
             0.8,
             "#7fbc41"
            ],
            [
             0.9,
             "#4d9221"
            ],
            [
             1,
             "#276419"
            ]
           ],
           "sequential": [
            [
             0,
             "#0d0887"
            ],
            [
             0.1111111111111111,
             "#46039f"
            ],
            [
             0.2222222222222222,
             "#7201a8"
            ],
            [
             0.3333333333333333,
             "#9c179e"
            ],
            [
             0.4444444444444444,
             "#bd3786"
            ],
            [
             0.5555555555555556,
             "#d8576b"
            ],
            [
             0.6666666666666666,
             "#ed7953"
            ],
            [
             0.7777777777777778,
             "#fb9f3a"
            ],
            [
             0.8888888888888888,
             "#fdca26"
            ],
            [
             1,
             "#f0f921"
            ]
           ],
           "sequentialminus": [
            [
             0,
             "#0d0887"
            ],
            [
             0.1111111111111111,
             "#46039f"
            ],
            [
             0.2222222222222222,
             "#7201a8"
            ],
            [
             0.3333333333333333,
             "#9c179e"
            ],
            [
             0.4444444444444444,
             "#bd3786"
            ],
            [
             0.5555555555555556,
             "#d8576b"
            ],
            [
             0.6666666666666666,
             "#ed7953"
            ],
            [
             0.7777777777777778,
             "#fb9f3a"
            ],
            [
             0.8888888888888888,
             "#fdca26"
            ],
            [
             1,
             "#f0f921"
            ]
           ]
          },
          "colorway": [
           "#636efa",
           "#EF553B",
           "#00cc96",
           "#ab63fa",
           "#FFA15A",
           "#19d3f3",
           "#FF6692",
           "#B6E880",
           "#FF97FF",
           "#FECB52"
          ],
          "font": {
           "color": "#2a3f5f"
          },
          "geo": {
           "bgcolor": "white",
           "lakecolor": "white",
           "landcolor": "#E5ECF6",
           "showlakes": true,
           "showland": true,
           "subunitcolor": "white"
          },
          "hoverlabel": {
           "align": "left"
          },
          "hovermode": "closest",
          "mapbox": {
           "style": "light"
          },
          "paper_bgcolor": "white",
          "plot_bgcolor": "#E5ECF6",
          "polar": {
           "angularaxis": {
            "gridcolor": "white",
            "linecolor": "white",
            "ticks": ""
           },
           "bgcolor": "#E5ECF6",
           "radialaxis": {
            "gridcolor": "white",
            "linecolor": "white",
            "ticks": ""
           }
          },
          "scene": {
           "xaxis": {
            "backgroundcolor": "#E5ECF6",
            "gridcolor": "white",
            "gridwidth": 2,
            "linecolor": "white",
            "showbackground": true,
            "ticks": "",
            "zerolinecolor": "white"
           },
           "yaxis": {
            "backgroundcolor": "#E5ECF6",
            "gridcolor": "white",
            "gridwidth": 2,
            "linecolor": "white",
            "showbackground": true,
            "ticks": "",
            "zerolinecolor": "white"
           },
           "zaxis": {
            "backgroundcolor": "#E5ECF6",
            "gridcolor": "white",
            "gridwidth": 2,
            "linecolor": "white",
            "showbackground": true,
            "ticks": "",
            "zerolinecolor": "white"
           }
          },
          "shapedefaults": {
           "line": {
            "color": "#2a3f5f"
           }
          },
          "ternary": {
           "aaxis": {
            "gridcolor": "white",
            "linecolor": "white",
            "ticks": ""
           },
           "baxis": {
            "gridcolor": "white",
            "linecolor": "white",
            "ticks": ""
           },
           "bgcolor": "#E5ECF6",
           "caxis": {
            "gridcolor": "white",
            "linecolor": "white",
            "ticks": ""
           }
          },
          "title": {
           "x": 0.05
          },
          "xaxis": {
           "automargin": true,
           "gridcolor": "white",
           "linecolor": "white",
           "ticks": "",
           "title": {
            "standoff": 15
           },
           "zerolinecolor": "white",
           "zerolinewidth": 2
          },
          "yaxis": {
           "automargin": true,
           "gridcolor": "white",
           "linecolor": "white",
           "ticks": "",
           "title": {
            "standoff": 15
           },
           "zerolinecolor": "white",
           "zerolinewidth": 2
          }
         }
        },
        "title": {
         "text": "Optimization History Plot"
        },
        "xaxis": {
         "title": {
          "text": "Trial"
         }
        },
        "yaxis": {
         "title": {
          "text": "Objective Value"
         }
        }
       }
      }
     },
     "metadata": {},
     "output_type": "display_data"
    }
   ],
   "source": [
    "optuna.visualization.plot_optimization_history(study)"
   ]
  },
  {
   "cell_type": "code",
   "execution_count": 17,
   "metadata": {},
   "outputs": [
    {
     "data": {
      "application/vnd.plotly.v1+json": {
       "config": {
        "plotlyServerURL": "https://plot.ly"
       },
       "data": [
        {
         "cliponaxis": false,
         "hovertemplate": [
          "n_estimators (CategoricalDistribution): 0.0<extra></extra>",
          "subsample (FloatDistribution): 0.0018634054624633183<extra></extra>",
          "learning_rate (FloatDistribution): 0.0034938550595779725<extra></extra>",
          "max_depth (IntDistribution): 0.005032440816803831<extra></extra>",
          "reg_lambda (IntDistribution): 0.013153171369069436<extra></extra>",
          "num_leaves (IntDistribution): 0.015690651875216528<extra></extra>",
          "colsample_bytree (FloatDistribution): 0.020654012367660055<extra></extra>",
          "max_bin (IntDistribution): 0.048476998149366284<extra></extra>",
          "min_child_samples (IntDistribution): 0.16179813611302823<extra></extra>",
          "min_split_gain (FloatDistribution): 0.24556616136538728<extra></extra>",
          "reg_alpha (IntDistribution): 0.48427116742142706<extra></extra>"
         ],
         "marker": {
          "color": "rgb(66,146,198)"
         },
         "orientation": "h",
         "text": [
          "<0.01",
          "<0.01",
          "<0.01",
          "<0.01",
          "0.01",
          "0.02",
          "0.02",
          "0.05",
          "0.16",
          "0.25",
          "0.48"
         ],
         "textposition": "outside",
         "type": "bar",
         "x": [
          0,
          0.0018634054624633183,
          0.0034938550595779725,
          0.005032440816803831,
          0.013153171369069436,
          0.015690651875216528,
          0.020654012367660055,
          0.048476998149366284,
          0.16179813611302823,
          0.24556616136538728,
          0.48427116742142706
         ],
         "y": [
          "n_estimators",
          "subsample",
          "learning_rate",
          "max_depth",
          "reg_lambda",
          "num_leaves",
          "colsample_bytree",
          "max_bin",
          "min_child_samples",
          "min_split_gain",
          "reg_alpha"
         ]
        }
       ],
       "layout": {
        "showlegend": false,
        "template": {
         "data": {
          "bar": [
           {
            "error_x": {
             "color": "#2a3f5f"
            },
            "error_y": {
             "color": "#2a3f5f"
            },
            "marker": {
             "line": {
              "color": "#E5ECF6",
              "width": 0.5
             },
             "pattern": {
              "fillmode": "overlay",
              "size": 10,
              "solidity": 0.2
             }
            },
            "type": "bar"
           }
          ],
          "barpolar": [
           {
            "marker": {
             "line": {
              "color": "#E5ECF6",
              "width": 0.5
             },
             "pattern": {
              "fillmode": "overlay",
              "size": 10,
              "solidity": 0.2
             }
            },
            "type": "barpolar"
           }
          ],
          "carpet": [
           {
            "aaxis": {
             "endlinecolor": "#2a3f5f",
             "gridcolor": "white",
             "linecolor": "white",
             "minorgridcolor": "white",
             "startlinecolor": "#2a3f5f"
            },
            "baxis": {
             "endlinecolor": "#2a3f5f",
             "gridcolor": "white",
             "linecolor": "white",
             "minorgridcolor": "white",
             "startlinecolor": "#2a3f5f"
            },
            "type": "carpet"
           }
          ],
          "choropleth": [
           {
            "colorbar": {
             "outlinewidth": 0,
             "ticks": ""
            },
            "type": "choropleth"
           }
          ],
          "contour": [
           {
            "colorbar": {
             "outlinewidth": 0,
             "ticks": ""
            },
            "colorscale": [
             [
              0,
              "#0d0887"
             ],
             [
              0.1111111111111111,
              "#46039f"
             ],
             [
              0.2222222222222222,
              "#7201a8"
             ],
             [
              0.3333333333333333,
              "#9c179e"
             ],
             [
              0.4444444444444444,
              "#bd3786"
             ],
             [
              0.5555555555555556,
              "#d8576b"
             ],
             [
              0.6666666666666666,
              "#ed7953"
             ],
             [
              0.7777777777777778,
              "#fb9f3a"
             ],
             [
              0.8888888888888888,
              "#fdca26"
             ],
             [
              1,
              "#f0f921"
             ]
            ],
            "type": "contour"
           }
          ],
          "contourcarpet": [
           {
            "colorbar": {
             "outlinewidth": 0,
             "ticks": ""
            },
            "type": "contourcarpet"
           }
          ],
          "heatmap": [
           {
            "colorbar": {
             "outlinewidth": 0,
             "ticks": ""
            },
            "colorscale": [
             [
              0,
              "#0d0887"
             ],
             [
              0.1111111111111111,
              "#46039f"
             ],
             [
              0.2222222222222222,
              "#7201a8"
             ],
             [
              0.3333333333333333,
              "#9c179e"
             ],
             [
              0.4444444444444444,
              "#bd3786"
             ],
             [
              0.5555555555555556,
              "#d8576b"
             ],
             [
              0.6666666666666666,
              "#ed7953"
             ],
             [
              0.7777777777777778,
              "#fb9f3a"
             ],
             [
              0.8888888888888888,
              "#fdca26"
             ],
             [
              1,
              "#f0f921"
             ]
            ],
            "type": "heatmap"
           }
          ],
          "heatmapgl": [
           {
            "colorbar": {
             "outlinewidth": 0,
             "ticks": ""
            },
            "colorscale": [
             [
              0,
              "#0d0887"
             ],
             [
              0.1111111111111111,
              "#46039f"
             ],
             [
              0.2222222222222222,
              "#7201a8"
             ],
             [
              0.3333333333333333,
              "#9c179e"
             ],
             [
              0.4444444444444444,
              "#bd3786"
             ],
             [
              0.5555555555555556,
              "#d8576b"
             ],
             [
              0.6666666666666666,
              "#ed7953"
             ],
             [
              0.7777777777777778,
              "#fb9f3a"
             ],
             [
              0.8888888888888888,
              "#fdca26"
             ],
             [
              1,
              "#f0f921"
             ]
            ],
            "type": "heatmapgl"
           }
          ],
          "histogram": [
           {
            "marker": {
             "pattern": {
              "fillmode": "overlay",
              "size": 10,
              "solidity": 0.2
             }
            },
            "type": "histogram"
           }
          ],
          "histogram2d": [
           {
            "colorbar": {
             "outlinewidth": 0,
             "ticks": ""
            },
            "colorscale": [
             [
              0,
              "#0d0887"
             ],
             [
              0.1111111111111111,
              "#46039f"
             ],
             [
              0.2222222222222222,
              "#7201a8"
             ],
             [
              0.3333333333333333,
              "#9c179e"
             ],
             [
              0.4444444444444444,
              "#bd3786"
             ],
             [
              0.5555555555555556,
              "#d8576b"
             ],
             [
              0.6666666666666666,
              "#ed7953"
             ],
             [
              0.7777777777777778,
              "#fb9f3a"
             ],
             [
              0.8888888888888888,
              "#fdca26"
             ],
             [
              1,
              "#f0f921"
             ]
            ],
            "type": "histogram2d"
           }
          ],
          "histogram2dcontour": [
           {
            "colorbar": {
             "outlinewidth": 0,
             "ticks": ""
            },
            "colorscale": [
             [
              0,
              "#0d0887"
             ],
             [
              0.1111111111111111,
              "#46039f"
             ],
             [
              0.2222222222222222,
              "#7201a8"
             ],
             [
              0.3333333333333333,
              "#9c179e"
             ],
             [
              0.4444444444444444,
              "#bd3786"
             ],
             [
              0.5555555555555556,
              "#d8576b"
             ],
             [
              0.6666666666666666,
              "#ed7953"
             ],
             [
              0.7777777777777778,
              "#fb9f3a"
             ],
             [
              0.8888888888888888,
              "#fdca26"
             ],
             [
              1,
              "#f0f921"
             ]
            ],
            "type": "histogram2dcontour"
           }
          ],
          "mesh3d": [
           {
            "colorbar": {
             "outlinewidth": 0,
             "ticks": ""
            },
            "type": "mesh3d"
           }
          ],
          "parcoords": [
           {
            "line": {
             "colorbar": {
              "outlinewidth": 0,
              "ticks": ""
             }
            },
            "type": "parcoords"
           }
          ],
          "pie": [
           {
            "automargin": true,
            "type": "pie"
           }
          ],
          "scatter": [
           {
            "fillpattern": {
             "fillmode": "overlay",
             "size": 10,
             "solidity": 0.2
            },
            "type": "scatter"
           }
          ],
          "scatter3d": [
           {
            "line": {
             "colorbar": {
              "outlinewidth": 0,
              "ticks": ""
             }
            },
            "marker": {
             "colorbar": {
              "outlinewidth": 0,
              "ticks": ""
             }
            },
            "type": "scatter3d"
           }
          ],
          "scattercarpet": [
           {
            "marker": {
             "colorbar": {
              "outlinewidth": 0,
              "ticks": ""
             }
            },
            "type": "scattercarpet"
           }
          ],
          "scattergeo": [
           {
            "marker": {
             "colorbar": {
              "outlinewidth": 0,
              "ticks": ""
             }
            },
            "type": "scattergeo"
           }
          ],
          "scattergl": [
           {
            "marker": {
             "colorbar": {
              "outlinewidth": 0,
              "ticks": ""
             }
            },
            "type": "scattergl"
           }
          ],
          "scattermapbox": [
           {
            "marker": {
             "colorbar": {
              "outlinewidth": 0,
              "ticks": ""
             }
            },
            "type": "scattermapbox"
           }
          ],
          "scatterpolar": [
           {
            "marker": {
             "colorbar": {
              "outlinewidth": 0,
              "ticks": ""
             }
            },
            "type": "scatterpolar"
           }
          ],
          "scatterpolargl": [
           {
            "marker": {
             "colorbar": {
              "outlinewidth": 0,
              "ticks": ""
             }
            },
            "type": "scatterpolargl"
           }
          ],
          "scatterternary": [
           {
            "marker": {
             "colorbar": {
              "outlinewidth": 0,
              "ticks": ""
             }
            },
            "type": "scatterternary"
           }
          ],
          "surface": [
           {
            "colorbar": {
             "outlinewidth": 0,
             "ticks": ""
            },
            "colorscale": [
             [
              0,
              "#0d0887"
             ],
             [
              0.1111111111111111,
              "#46039f"
             ],
             [
              0.2222222222222222,
              "#7201a8"
             ],
             [
              0.3333333333333333,
              "#9c179e"
             ],
             [
              0.4444444444444444,
              "#bd3786"
             ],
             [
              0.5555555555555556,
              "#d8576b"
             ],
             [
              0.6666666666666666,
              "#ed7953"
             ],
             [
              0.7777777777777778,
              "#fb9f3a"
             ],
             [
              0.8888888888888888,
              "#fdca26"
             ],
             [
              1,
              "#f0f921"
             ]
            ],
            "type": "surface"
           }
          ],
          "table": [
           {
            "cells": {
             "fill": {
              "color": "#EBF0F8"
             },
             "line": {
              "color": "white"
             }
            },
            "header": {
             "fill": {
              "color": "#C8D4E3"
             },
             "line": {
              "color": "white"
             }
            },
            "type": "table"
           }
          ]
         },
         "layout": {
          "annotationdefaults": {
           "arrowcolor": "#2a3f5f",
           "arrowhead": 0,
           "arrowwidth": 1
          },
          "autotypenumbers": "strict",
          "coloraxis": {
           "colorbar": {
            "outlinewidth": 0,
            "ticks": ""
           }
          },
          "colorscale": {
           "diverging": [
            [
             0,
             "#8e0152"
            ],
            [
             0.1,
             "#c51b7d"
            ],
            [
             0.2,
             "#de77ae"
            ],
            [
             0.3,
             "#f1b6da"
            ],
            [
             0.4,
             "#fde0ef"
            ],
            [
             0.5,
             "#f7f7f7"
            ],
            [
             0.6,
             "#e6f5d0"
            ],
            [
             0.7,
             "#b8e186"
            ],
            [
             0.8,
             "#7fbc41"
            ],
            [
             0.9,
             "#4d9221"
            ],
            [
             1,
             "#276419"
            ]
           ],
           "sequential": [
            [
             0,
             "#0d0887"
            ],
            [
             0.1111111111111111,
             "#46039f"
            ],
            [
             0.2222222222222222,
             "#7201a8"
            ],
            [
             0.3333333333333333,
             "#9c179e"
            ],
            [
             0.4444444444444444,
             "#bd3786"
            ],
            [
             0.5555555555555556,
             "#d8576b"
            ],
            [
             0.6666666666666666,
             "#ed7953"
            ],
            [
             0.7777777777777778,
             "#fb9f3a"
            ],
            [
             0.8888888888888888,
             "#fdca26"
            ],
            [
             1,
             "#f0f921"
            ]
           ],
           "sequentialminus": [
            [
             0,
             "#0d0887"
            ],
            [
             0.1111111111111111,
             "#46039f"
            ],
            [
             0.2222222222222222,
             "#7201a8"
            ],
            [
             0.3333333333333333,
             "#9c179e"
            ],
            [
             0.4444444444444444,
             "#bd3786"
            ],
            [
             0.5555555555555556,
             "#d8576b"
            ],
            [
             0.6666666666666666,
             "#ed7953"
            ],
            [
             0.7777777777777778,
             "#fb9f3a"
            ],
            [
             0.8888888888888888,
             "#fdca26"
            ],
            [
             1,
             "#f0f921"
            ]
           ]
          },
          "colorway": [
           "#636efa",
           "#EF553B",
           "#00cc96",
           "#ab63fa",
           "#FFA15A",
           "#19d3f3",
           "#FF6692",
           "#B6E880",
           "#FF97FF",
           "#FECB52"
          ],
          "font": {
           "color": "#2a3f5f"
          },
          "geo": {
           "bgcolor": "white",
           "lakecolor": "white",
           "landcolor": "#E5ECF6",
           "showlakes": true,
           "showland": true,
           "subunitcolor": "white"
          },
          "hoverlabel": {
           "align": "left"
          },
          "hovermode": "closest",
          "mapbox": {
           "style": "light"
          },
          "paper_bgcolor": "white",
          "plot_bgcolor": "#E5ECF6",
          "polar": {
           "angularaxis": {
            "gridcolor": "white",
            "linecolor": "white",
            "ticks": ""
           },
           "bgcolor": "#E5ECF6",
           "radialaxis": {
            "gridcolor": "white",
            "linecolor": "white",
            "ticks": ""
           }
          },
          "scene": {
           "xaxis": {
            "backgroundcolor": "#E5ECF6",
            "gridcolor": "white",
            "gridwidth": 2,
            "linecolor": "white",
            "showbackground": true,
            "ticks": "",
            "zerolinecolor": "white"
           },
           "yaxis": {
            "backgroundcolor": "#E5ECF6",
            "gridcolor": "white",
            "gridwidth": 2,
            "linecolor": "white",
            "showbackground": true,
            "ticks": "",
            "zerolinecolor": "white"
           },
           "zaxis": {
            "backgroundcolor": "#E5ECF6",
            "gridcolor": "white",
            "gridwidth": 2,
            "linecolor": "white",
            "showbackground": true,
            "ticks": "",
            "zerolinecolor": "white"
           }
          },
          "shapedefaults": {
           "line": {
            "color": "#2a3f5f"
           }
          },
          "ternary": {
           "aaxis": {
            "gridcolor": "white",
            "linecolor": "white",
            "ticks": ""
           },
           "baxis": {
            "gridcolor": "white",
            "linecolor": "white",
            "ticks": ""
           },
           "bgcolor": "#E5ECF6",
           "caxis": {
            "gridcolor": "white",
            "linecolor": "white",
            "ticks": ""
           }
          },
          "title": {
           "x": 0.05
          },
          "xaxis": {
           "automargin": true,
           "gridcolor": "white",
           "linecolor": "white",
           "ticks": "",
           "title": {
            "standoff": 15
           },
           "zerolinecolor": "white",
           "zerolinewidth": 2
          },
          "yaxis": {
           "automargin": true,
           "gridcolor": "white",
           "linecolor": "white",
           "ticks": "",
           "title": {
            "standoff": 15
           },
           "zerolinecolor": "white",
           "zerolinewidth": 2
          }
         }
        },
        "title": {
         "text": "Hyperparameter Importances"
        },
        "xaxis": {
         "title": {
          "text": "Importance for Objective Value"
         }
        },
        "yaxis": {
         "title": {
          "text": "Hyperparameter"
         }
        }
       }
      }
     },
     "metadata": {},
     "output_type": "display_data"
    }
   ],
   "source": [
    "optuna.visualization.plot_param_importances(study)"
   ]
  },
  {
   "cell_type": "code",
   "execution_count": 18,
   "metadata": {},
   "outputs": [
    {
     "data": {
      "text/plain": [
       "{'n_estimators': 10000,\n",
       " 'learning_rate': 0.05562551242987125,\n",
       " 'num_leaves': 900,\n",
       " 'max_depth': 4,\n",
       " 'max_bin': 225,\n",
       " 'reg_alpha': 0,\n",
       " 'reg_lambda': 55,\n",
       " 'min_split_gain': 1.000028332626675,\n",
       " 'subsample': 0.4,\n",
       " 'colsample_bytree': 1.0,\n",
       " 'min_child_samples': 109}"
      ]
     },
     "execution_count": 18,
     "metadata": {},
     "output_type": "execute_result"
    }
   ],
   "source": [
    "best_trial = study.best_trial.params\n",
    "best_trial[\"n_estimators\"] = 10000\n",
    "best_trial"
   ]
  },
  {
   "cell_type": "code",
   "execution_count": 19,
   "metadata": {},
   "outputs": [
    {
     "name": "stdout",
     "output_type": "stream",
     "text": [
      "[LightGBM] [Warning] early_stopping_round is set=100, early_stopping_rounds=100 will be ignored. Current value: early_stopping_round=100\n",
      "[1]\tvalid_0's l2: 1.74146\n",
      "[2]\tvalid_0's l2: 1.70012\n",
      "[3]\tvalid_0's l2: 1.6626\n",
      "[4]\tvalid_0's l2: 1.62907\n",
      "[5]\tvalid_0's l2: 1.59936\n",
      "[6]\tvalid_0's l2: 1.57179\n",
      "[7]\tvalid_0's l2: 1.54707\n",
      "[8]\tvalid_0's l2: 1.52503\n",
      "[9]\tvalid_0's l2: 1.50485\n",
      "[10]\tvalid_0's l2: 1.48668\n",
      "[11]\tvalid_0's l2: 1.46938\n",
      "[12]\tvalid_0's l2: 1.45382\n",
      "[13]\tvalid_0's l2: 1.43962\n",
      "[14]\tvalid_0's l2: 1.42675\n",
      "[15]\tvalid_0's l2: 1.41426\n",
      "[16]\tvalid_0's l2: 1.40392\n",
      "[17]\tvalid_0's l2: 1.39494\n",
      "[18]\tvalid_0's l2: 1.38538\n",
      "[19]\tvalid_0's l2: 1.37633\n",
      "[20]\tvalid_0's l2: 1.36876\n",
      "[21]\tvalid_0's l2: 1.36208\n",
      "[22]\tvalid_0's l2: 1.3556\n",
      "[23]\tvalid_0's l2: 1.34955\n",
      "[24]\tvalid_0's l2: 1.34414\n",
      "[25]\tvalid_0's l2: 1.33953\n",
      "[26]\tvalid_0's l2: 1.33484\n",
      "[27]\tvalid_0's l2: 1.3306\n",
      "[28]\tvalid_0's l2: 1.32728\n",
      "[29]\tvalid_0's l2: 1.3242\n",
      "[30]\tvalid_0's l2: 1.32059\n",
      "[31]\tvalid_0's l2: 1.31795\n",
      "[32]\tvalid_0's l2: 1.31495\n",
      "[33]\tvalid_0's l2: 1.31196\n",
      "[34]\tvalid_0's l2: 1.31004\n",
      "[35]\tvalid_0's l2: 1.30748\n",
      "[36]\tvalid_0's l2: 1.30562\n",
      "[37]\tvalid_0's l2: 1.30393\n",
      "[38]\tvalid_0's l2: 1.3022\n",
      "[39]\tvalid_0's l2: 1.30126\n",
      "[40]\tvalid_0's l2: 1.30007\n",
      "[41]\tvalid_0's l2: 1.29927\n",
      "[42]\tvalid_0's l2: 1.29822\n",
      "[43]\tvalid_0's l2: 1.29684\n",
      "[44]\tvalid_0's l2: 1.29558\n",
      "[45]\tvalid_0's l2: 1.29464\n",
      "[46]\tvalid_0's l2: 1.29356\n",
      "[47]\tvalid_0's l2: 1.29329\n",
      "[48]\tvalid_0's l2: 1.29259\n",
      "[49]\tvalid_0's l2: 1.29153\n",
      "[50]\tvalid_0's l2: 1.29094\n",
      "[51]\tvalid_0's l2: 1.28972\n",
      "[52]\tvalid_0's l2: 1.28925\n",
      "[53]\tvalid_0's l2: 1.28823\n",
      "[54]\tvalid_0's l2: 1.2877\n",
      "[55]\tvalid_0's l2: 1.28735\n",
      "[56]\tvalid_0's l2: 1.28714\n",
      "[57]\tvalid_0's l2: 1.28671\n",
      "[58]\tvalid_0's l2: 1.2864\n",
      "[59]\tvalid_0's l2: 1.28618\n",
      "[60]\tvalid_0's l2: 1.28621\n",
      "[61]\tvalid_0's l2: 1.28682\n",
      "[62]\tvalid_0's l2: 1.28689\n",
      "[63]\tvalid_0's l2: 1.28658\n",
      "[64]\tvalid_0's l2: 1.28613\n",
      "[65]\tvalid_0's l2: 1.28584\n",
      "[66]\tvalid_0's l2: 1.28591\n",
      "[67]\tvalid_0's l2: 1.28567\n",
      "[68]\tvalid_0's l2: 1.28555\n",
      "[69]\tvalid_0's l2: 1.28553\n",
      "[70]\tvalid_0's l2: 1.28509\n",
      "[71]\tvalid_0's l2: 1.28491\n",
      "[72]\tvalid_0's l2: 1.28487\n",
      "[73]\tvalid_0's l2: 1.28465\n",
      "[74]\tvalid_0's l2: 1.28429\n",
      "[75]\tvalid_0's l2: 1.28433\n",
      "[76]\tvalid_0's l2: 1.28432\n",
      "[77]\tvalid_0's l2: 1.28385\n",
      "[78]\tvalid_0's l2: 1.28391\n",
      "[79]\tvalid_0's l2: 1.28401\n",
      "[80]\tvalid_0's l2: 1.284\n",
      "[81]\tvalid_0's l2: 1.28367\n",
      "[82]\tvalid_0's l2: 1.28372\n",
      "[83]\tvalid_0's l2: 1.28318\n",
      "[84]\tvalid_0's l2: 1.28294\n",
      "[85]\tvalid_0's l2: 1.28313\n",
      "[86]\tvalid_0's l2: 1.28263\n",
      "[87]\tvalid_0's l2: 1.28274\n",
      "[88]\tvalid_0's l2: 1.28268\n",
      "[89]\tvalid_0's l2: 1.28253\n",
      "[90]\tvalid_0's l2: 1.28222\n",
      "[91]\tvalid_0's l2: 1.28178\n",
      "[92]\tvalid_0's l2: 1.28181\n",
      "[93]\tvalid_0's l2: 1.28158\n",
      "[94]\tvalid_0's l2: 1.2818\n",
      "[95]\tvalid_0's l2: 1.2818\n",
      "[96]\tvalid_0's l2: 1.28148\n",
      "[97]\tvalid_0's l2: 1.28146\n",
      "[98]\tvalid_0's l2: 1.2816\n",
      "[99]\tvalid_0's l2: 1.28127\n",
      "[100]\tvalid_0's l2: 1.28135\n",
      "[101]\tvalid_0's l2: 1.28134\n",
      "[102]\tvalid_0's l2: 1.28151\n",
      "[103]\tvalid_0's l2: 1.28152\n",
      "[104]\tvalid_0's l2: 1.2814\n",
      "[105]\tvalid_0's l2: 1.28162\n",
      "[106]\tvalid_0's l2: 1.28113\n",
      "[107]\tvalid_0's l2: 1.28104\n",
      "[108]\tvalid_0's l2: 1.28072\n",
      "[109]\tvalid_0's l2: 1.28094\n",
      "[110]\tvalid_0's l2: 1.28088\n",
      "[111]\tvalid_0's l2: 1.28082\n",
      "[112]\tvalid_0's l2: 1.28069\n",
      "[113]\tvalid_0's l2: 1.28071\n",
      "[114]\tvalid_0's l2: 1.28105\n",
      "[115]\tvalid_0's l2: 1.28077\n",
      "[116]\tvalid_0's l2: 1.28095\n",
      "[117]\tvalid_0's l2: 1.28065\n",
      "[118]\tvalid_0's l2: 1.28087\n",
      "[119]\tvalid_0's l2: 1.28066\n",
      "[120]\tvalid_0's l2: 1.28051\n",
      "[121]\tvalid_0's l2: 1.28042\n",
      "[122]\tvalid_0's l2: 1.28012\n",
      "[123]\tvalid_0's l2: 1.28016\n",
      "[124]\tvalid_0's l2: 1.28018\n",
      "[125]\tvalid_0's l2: 1.28049\n",
      "[126]\tvalid_0's l2: 1.28064\n",
      "[127]\tvalid_0's l2: 1.28046\n",
      "[128]\tvalid_0's l2: 1.28037\n",
      "[129]\tvalid_0's l2: 1.28062\n",
      "[130]\tvalid_0's l2: 1.28048\n",
      "[131]\tvalid_0's l2: 1.28028\n",
      "[132]\tvalid_0's l2: 1.28005\n",
      "[133]\tvalid_0's l2: 1.28027\n",
      "[134]\tvalid_0's l2: 1.28017\n",
      "[135]\tvalid_0's l2: 1.27999\n",
      "[136]\tvalid_0's l2: 1.28002\n",
      "[137]\tvalid_0's l2: 1.28019\n",
      "[138]\tvalid_0's l2: 1.27991\n",
      "[139]\tvalid_0's l2: 1.28013\n",
      "[140]\tvalid_0's l2: 1.28008\n",
      "[141]\tvalid_0's l2: 1.28033\n",
      "[142]\tvalid_0's l2: 1.28025\n",
      "[143]\tvalid_0's l2: 1.28029\n",
      "[144]\tvalid_0's l2: 1.28014\n",
      "[145]\tvalid_0's l2: 1.28032\n",
      "[146]\tvalid_0's l2: 1.28031\n",
      "[147]\tvalid_0's l2: 1.2804\n",
      "[148]\tvalid_0's l2: 1.28015\n",
      "[149]\tvalid_0's l2: 1.28051\n",
      "[150]\tvalid_0's l2: 1.28047\n",
      "[151]\tvalid_0's l2: 1.28025\n",
      "[152]\tvalid_0's l2: 1.28044\n",
      "[153]\tvalid_0's l2: 1.28051\n",
      "[154]\tvalid_0's l2: 1.28037\n",
      "[155]\tvalid_0's l2: 1.28047\n",
      "[156]\tvalid_0's l2: 1.28052\n",
      "[157]\tvalid_0's l2: 1.28049\n",
      "[158]\tvalid_0's l2: 1.28057\n",
      "[159]\tvalid_0's l2: 1.28055\n",
      "[160]\tvalid_0's l2: 1.28063\n",
      "[161]\tvalid_0's l2: 1.2807\n",
      "[162]\tvalid_0's l2: 1.28072\n",
      "[163]\tvalid_0's l2: 1.28074\n",
      "[164]\tvalid_0's l2: 1.28069\n",
      "[165]\tvalid_0's l2: 1.28068\n",
      "[166]\tvalid_0's l2: 1.28064\n",
      "[167]\tvalid_0's l2: 1.28047\n",
      "[168]\tvalid_0's l2: 1.28051\n",
      "[169]\tvalid_0's l2: 1.2808\n",
      "[170]\tvalid_0's l2: 1.28093\n",
      "[171]\tvalid_0's l2: 1.28112\n",
      "[172]\tvalid_0's l2: 1.28112\n",
      "[173]\tvalid_0's l2: 1.28089\n",
      "[174]\tvalid_0's l2: 1.28068\n",
      "[175]\tvalid_0's l2: 1.28075\n",
      "[176]\tvalid_0's l2: 1.28083\n",
      "[177]\tvalid_0's l2: 1.28082\n",
      "[178]\tvalid_0's l2: 1.28079\n",
      "[179]\tvalid_0's l2: 1.2809\n",
      "[180]\tvalid_0's l2: 1.28086\n",
      "[181]\tvalid_0's l2: 1.28111\n",
      "[182]\tvalid_0's l2: 1.28115\n",
      "[183]\tvalid_0's l2: 1.28102\n",
      "[184]\tvalid_0's l2: 1.2812\n",
      "[185]\tvalid_0's l2: 1.28123\n",
      "[186]\tvalid_0's l2: 1.28131\n",
      "[187]\tvalid_0's l2: 1.28137\n",
      "[188]\tvalid_0's l2: 1.28135\n",
      "[189]\tvalid_0's l2: 1.28126\n",
      "[190]\tvalid_0's l2: 1.28131\n",
      "[191]\tvalid_0's l2: 1.28127\n",
      "[192]\tvalid_0's l2: 1.28128\n",
      "[193]\tvalid_0's l2: 1.28133\n",
      "[194]\tvalid_0's l2: 1.28112\n",
      "[195]\tvalid_0's l2: 1.28128\n",
      "[196]\tvalid_0's l2: 1.28126\n",
      "[197]\tvalid_0's l2: 1.2816\n",
      "[198]\tvalid_0's l2: 1.28193\n",
      "[199]\tvalid_0's l2: 1.2821\n",
      "[200]\tvalid_0's l2: 1.28249\n",
      "[201]\tvalid_0's l2: 1.28228\n",
      "[202]\tvalid_0's l2: 1.28278\n",
      "[203]\tvalid_0's l2: 1.28291\n",
      "[204]\tvalid_0's l2: 1.28305\n",
      "[205]\tvalid_0's l2: 1.28319\n",
      "[206]\tvalid_0's l2: 1.28327\n",
      "[207]\tvalid_0's l2: 1.28365\n",
      "[208]\tvalid_0's l2: 1.28339\n",
      "[209]\tvalid_0's l2: 1.28344\n",
      "[210]\tvalid_0's l2: 1.28359\n",
      "[211]\tvalid_0's l2: 1.28365\n",
      "[212]\tvalid_0's l2: 1.28385\n",
      "[213]\tvalid_0's l2: 1.28392\n",
      "[214]\tvalid_0's l2: 1.28413\n",
      "[215]\tvalid_0's l2: 1.28457\n",
      "[216]\tvalid_0's l2: 1.28448\n",
      "[217]\tvalid_0's l2: 1.28482\n",
      "[218]\tvalid_0's l2: 1.28485\n",
      "[219]\tvalid_0's l2: 1.28483\n",
      "[220]\tvalid_0's l2: 1.28494\n",
      "[221]\tvalid_0's l2: 1.28472\n",
      "[222]\tvalid_0's l2: 1.28454\n",
      "[223]\tvalid_0's l2: 1.28455\n",
      "[224]\tvalid_0's l2: 1.2845\n",
      "[225]\tvalid_0's l2: 1.28456\n",
      "[226]\tvalid_0's l2: 1.28459\n",
      "[227]\tvalid_0's l2: 1.28459\n",
      "[228]\tvalid_0's l2: 1.28471\n",
      "[229]\tvalid_0's l2: 1.28482\n",
      "[230]\tvalid_0's l2: 1.28507\n",
      "[231]\tvalid_0's l2: 1.28504\n",
      "[232]\tvalid_0's l2: 1.28501\n",
      "[233]\tvalid_0's l2: 1.28489\n",
      "[234]\tvalid_0's l2: 1.28481\n",
      "[235]\tvalid_0's l2: 1.28472\n",
      "[236]\tvalid_0's l2: 1.28491\n",
      "[237]\tvalid_0's l2: 1.28519\n",
      "[238]\tvalid_0's l2: 1.28509\n"
     ]
    }
   ],
   "source": [
    "# final training with the best parameters and\n",
    "# predict with the test set divided in the beginning\n",
    "X_train, X_val, y_train, y_val = train_test_split(X_train, y_train, test_size=0.2, shuffle=True)\n",
    "\n",
    "model = lgb.LGBMRegressor(**best_trial, early_stopping_rounds=100)\n",
    "model.fit(X_train, y_train, eval_set=[(X_val, y_val)])\n",
    "y_pred = model.predict(X_test)\n",
    "test_mae = mean_absolute_error(y_test, y_pred)"
   ]
  },
  {
   "cell_type": "code",
   "execution_count": 20,
   "metadata": {},
   "outputs": [
    {
     "data": {
      "text/html": [
       "<div>\n",
       "<style scoped>\n",
       "    .dataframe tbody tr th:only-of-type {\n",
       "        vertical-align: middle;\n",
       "    }\n",
       "\n",
       "    .dataframe tbody tr th {\n",
       "        vertical-align: top;\n",
       "    }\n",
       "\n",
       "    .dataframe thead th {\n",
       "        text-align: right;\n",
       "    }\n",
       "</style>\n",
       "<table border=\"1\" class=\"dataframe\">\n",
       "  <thead>\n",
       "    <tr style=\"text-align: right;\">\n",
       "      <th></th>\n",
       "      <th>Feature</th>\n",
       "      <th>Importance</th>\n",
       "    </tr>\n",
       "  </thead>\n",
       "  <tbody>\n",
       "    <tr>\n",
       "      <th>0</th>\n",
       "      <td>movie_year</td>\n",
       "      <td>269</td>\n",
       "    </tr>\n",
       "    <tr>\n",
       "      <th>1</th>\n",
       "      <td>movie_critic_rating</td>\n",
       "      <td>209</td>\n",
       "    </tr>\n",
       "    <tr>\n",
       "      <th>2</th>\n",
       "      <td>num_critic_pos</td>\n",
       "      <td>103</td>\n",
       "    </tr>\n",
       "    <tr>\n",
       "      <th>9</th>\n",
       "      <td>mean_pos</td>\n",
       "      <td>78</td>\n",
       "    </tr>\n",
       "    <tr>\n",
       "      <th>4</th>\n",
       "      <td>num_critic_neg</td>\n",
       "      <td>71</td>\n",
       "    </tr>\n",
       "    <tr>\n",
       "      <th>11</th>\n",
       "      <td>mean_compound</td>\n",
       "      <td>53</td>\n",
       "    </tr>\n",
       "    <tr>\n",
       "      <th>10</th>\n",
       "      <td>std_pos</td>\n",
       "      <td>49</td>\n",
       "    </tr>\n",
       "    <tr>\n",
       "      <th>7</th>\n",
       "      <td>mean_neu</td>\n",
       "      <td>43</td>\n",
       "    </tr>\n",
       "    <tr>\n",
       "      <th>8</th>\n",
       "      <td>std_neu</td>\n",
       "      <td>33</td>\n",
       "    </tr>\n",
       "    <tr>\n",
       "      <th>12</th>\n",
       "      <td>std_compound</td>\n",
       "      <td>30</td>\n",
       "    </tr>\n",
       "    <tr>\n",
       "      <th>17</th>\n",
       "      <td>Comedy</td>\n",
       "      <td>27</td>\n",
       "    </tr>\n",
       "    <tr>\n",
       "      <th>20</th>\n",
       "      <td>Drama</td>\n",
       "      <td>24</td>\n",
       "    </tr>\n",
       "    <tr>\n",
       "      <th>5</th>\n",
       "      <td>mean_neg</td>\n",
       "      <td>20</td>\n",
       "    </tr>\n",
       "    <tr>\n",
       "      <th>39</th>\n",
       "      <td>PG-13</td>\n",
       "      <td>19</td>\n",
       "    </tr>\n",
       "    <tr>\n",
       "      <th>75</th>\n",
       "      <td>shallow</td>\n",
       "      <td>19</td>\n",
       "    </tr>\n",
       "    <tr>\n",
       "      <th>24</th>\n",
       "      <td>Horror</td>\n",
       "      <td>18</td>\n",
       "    </tr>\n",
       "    <tr>\n",
       "      <th>6</th>\n",
       "      <td>std_neg</td>\n",
       "      <td>17</td>\n",
       "    </tr>\n",
       "    <tr>\n",
       "      <th>124</th>\n",
       "      <td>turn</td>\n",
       "      <td>16</td>\n",
       "    </tr>\n",
       "    <tr>\n",
       "      <th>3</th>\n",
       "      <td>num_critic_mix</td>\n",
       "      <td>15</td>\n",
       "    </tr>\n",
       "    <tr>\n",
       "      <th>78</th>\n",
       "      <td>likable</td>\n",
       "      <td>14</td>\n",
       "    </tr>\n",
       "    <tr>\n",
       "      <th>41</th>\n",
       "      <td>R</td>\n",
       "      <td>12</td>\n",
       "    </tr>\n",
       "    <tr>\n",
       "      <th>80</th>\n",
       "      <td>entertain</td>\n",
       "      <td>11</td>\n",
       "    </tr>\n",
       "    <tr>\n",
       "      <th>103</th>\n",
       "      <td>cinematic</td>\n",
       "      <td>11</td>\n",
       "    </tr>\n",
       "    <tr>\n",
       "      <th>122</th>\n",
       "      <td>comic</td>\n",
       "      <td>11</td>\n",
       "    </tr>\n",
       "    <tr>\n",
       "      <th>25</th>\n",
       "      <td>Music</td>\n",
       "      <td>10</td>\n",
       "    </tr>\n",
       "    <tr>\n",
       "      <th>134</th>\n",
       "      <td>dramatic</td>\n",
       "      <td>9</td>\n",
       "    </tr>\n",
       "    <tr>\n",
       "      <th>37</th>\n",
       "      <td>Not Rated</td>\n",
       "      <td>9</td>\n",
       "    </tr>\n",
       "    <tr>\n",
       "      <th>90</th>\n",
       "      <td>act</td>\n",
       "      <td>9</td>\n",
       "    </tr>\n",
       "    <tr>\n",
       "      <th>13</th>\n",
       "      <td>Action</td>\n",
       "      <td>8</td>\n",
       "    </tr>\n",
       "    <tr>\n",
       "      <th>123</th>\n",
       "      <td>melodramatic</td>\n",
       "      <td>7</td>\n",
       "    </tr>\n",
       "    <tr>\n",
       "      <th>18</th>\n",
       "      <td>Crime</td>\n",
       "      <td>7</td>\n",
       "    </tr>\n",
       "    <tr>\n",
       "      <th>22</th>\n",
       "      <td>Fantasy</td>\n",
       "      <td>6</td>\n",
       "    </tr>\n",
       "    <tr>\n",
       "      <th>21</th>\n",
       "      <td>Family</td>\n",
       "      <td>4</td>\n",
       "    </tr>\n",
       "    <tr>\n",
       "      <th>46</th>\n",
       "      <td>Unrated</td>\n",
       "      <td>3</td>\n",
       "    </tr>\n",
       "    <tr>\n",
       "      <th>190</th>\n",
       "      <td>imaginative</td>\n",
       "      <td>3</td>\n",
       "    </tr>\n",
       "    <tr>\n",
       "      <th>149</th>\n",
       "      <td>relentlessly</td>\n",
       "      <td>3</td>\n",
       "    </tr>\n",
       "    <tr>\n",
       "      <th>61</th>\n",
       "      <td>portray</td>\n",
       "      <td>2</td>\n",
       "    </tr>\n",
       "    <tr>\n",
       "      <th>14</th>\n",
       "      <td>Adventure</td>\n",
       "      <td>2</td>\n",
       "    </tr>\n",
       "    <tr>\n",
       "      <th>55</th>\n",
       "      <td>dull</td>\n",
       "      <td>1</td>\n",
       "    </tr>\n",
       "  </tbody>\n",
       "</table>\n",
       "</div>"
      ],
      "text/plain": [
       "                 Feature  Importance\n",
       "0             movie_year         269\n",
       "1    movie_critic_rating         209\n",
       "2         num_critic_pos         103\n",
       "9               mean_pos          78\n",
       "4         num_critic_neg          71\n",
       "11         mean_compound          53\n",
       "10               std_pos          49\n",
       "7               mean_neu          43\n",
       "8                std_neu          33\n",
       "12          std_compound          30\n",
       "17                Comedy          27\n",
       "20                 Drama          24\n",
       "5               mean_neg          20\n",
       "39                 PG-13          19\n",
       "75               shallow          19\n",
       "24                Horror          18\n",
       "6                std_neg          17\n",
       "124                 turn          16\n",
       "3         num_critic_mix          15\n",
       "78               likable          14\n",
       "41                     R          12\n",
       "80             entertain          11\n",
       "103            cinematic          11\n",
       "122                comic          11\n",
       "25                 Music          10\n",
       "134             dramatic           9\n",
       "37             Not Rated           9\n",
       "90                   act           9\n",
       "13                Action           8\n",
       "123         melodramatic           7\n",
       "18                 Crime           7\n",
       "22               Fantasy           6\n",
       "21                Family           4\n",
       "46               Unrated           3\n",
       "190          imaginative           3\n",
       "149         relentlessly           3\n",
       "61               portray           2\n",
       "14             Adventure           2\n",
       "55                  dull           1"
      ]
     },
     "execution_count": 20,
     "metadata": {},
     "output_type": "execute_result"
    }
   ],
   "source": [
    "feature_importance = model.feature_importances_\n",
    "\n",
    "# Create a dataframe to display feature importance\n",
    "importance_df = pd.DataFrame({'Feature': X_train.columns, 'Importance': feature_importance})\n",
    "importance_df = importance_df.sort_values(by='Importance', ascending=False)\n",
    "importance_df[importance_df['Importance'] > 0]"
   ]
  },
  {
   "cell_type": "code",
   "execution_count": 21,
   "metadata": {},
   "outputs": [
    {
     "name": "stdout",
     "output_type": "stream",
     "text": [
      "Default MAE if we assume critic rating equals to user rating: 1.368877016551435\n",
      "Test MAE : 0.850513938393628\n",
      "Improvement: 37.87%\n"
     ]
    }
   ],
   "source": [
    "train_critic_user_ratings = fetch_from_sql(f'SELECT movie_critic_rating, movie_user_rating FROM Movie WHERE movie_id IN ({\",\".join(train_ids)})')\n",
    "critic = [r[0]/10 for r in train_critic_user_ratings]\n",
    "user = [r[1] for r in train_critic_user_ratings]\n",
    "default_mae = mean_absolute_error(user, critic)\n",
    "\n",
    "print(f\"Default MAE if we assume critic rating equals to user rating: {default_mae}\")\n",
    "print(f\"Test MAE : {test_mae}\")\n",
    "print(f\"Improvement: {np.round((default_mae - test_mae) / default_mae, 4)*100}%\")"
   ]
  }
 ],
 "metadata": {
  "kernelspec": {
   "display_name": "rating_pred",
   "language": "python",
   "name": "python3"
  },
  "language_info": {
   "codemirror_mode": {
    "name": "ipython",
    "version": 3
   },
   "file_extension": ".py",
   "mimetype": "text/x-python",
   "name": "python",
   "nbconvert_exporter": "python",
   "pygments_lexer": "ipython3",
   "version": "3.8.16"
  },
  "orig_nbformat": 4
 },
 "nbformat": 4,
 "nbformat_minor": 2
}
